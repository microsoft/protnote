{
 "cells": [
  {
   "cell_type": "code",
   "execution_count": 2,
   "metadata": {},
   "outputs": [],
   "source": [
    "import os\n",
    "from pathlib import Path\n",
    "import sys\n",
    "curdir = Path(os.getcwd())\n",
    "sys.path.append(str(curdir.parent.absolute()))\n",
    "import torch\n",
    "import numpy as np\n",
    "import os\n",
    "from torcheval.metrics import MultilabelAUPRC, BinaryAUPRC\n",
    "import pandas as pd\n",
    "from src.utils.evaluation import EvalMetrics\n",
    "from src.utils.data import generate_vocabularies"
   ]
  },
  {
   "cell_type": "code",
   "execution_count": 1,
   "metadata": {},
   "outputs": [
    {
     "ename": "NameError",
     "evalue": "name 'pd' is not defined",
     "output_type": "error",
     "traceback": [
      "\u001b[0;31m---------------------------------------------------------------------------\u001b[0m",
      "\u001b[0;31mNameError\u001b[0m                                 Traceback (most recent call last)",
      "Cell \u001b[0;32mIn[1], line 8\u001b[0m\n\u001b[1;32m      5\u001b[0m \u001b[38;5;28;01melif\u001b[39;00m annotation_type\u001b[38;5;241m==\u001b[39m\u001b[38;5;124m'\u001b[39m\u001b[38;5;124mEC\u001b[39m\u001b[38;5;124m'\u001b[39m:\n\u001b[1;32m      6\u001b[0m     label_embeddings \u001b[38;5;241m=\u001b[39m \u001b[38;5;124m'\u001b[39m\u001b[38;5;124mecv1_E5_multiling_inst_frozen_label_embeddings_mean\u001b[39m\u001b[38;5;124m'\u001b[39m\n\u001b[0;32m----> 8\u001b[0m zero_shot_pinf_logits \u001b[38;5;241m=\u001b[39m \u001b[43mpd\u001b[49m\u001b[38;5;241m.\u001b[39mread_parquet(\u001b[38;5;124mf\u001b[39m\u001b[38;5;124m'\u001b[39m\u001b[38;5;124m../outputs/results/test_logits_\u001b[39m\u001b[38;5;132;01m{\u001b[39;00mannotation_type\u001b[38;5;132;01m}\u001b[39;00m\u001b[38;5;124m_unseen_proteinfer_ABCD.parquet\u001b[39m\u001b[38;5;124m'\u001b[39m)\n\u001b[1;32m      9\u001b[0m zero_shot_labels \u001b[38;5;241m=\u001b[39m pd\u001b[38;5;241m.\u001b[39mread_parquet(\u001b[38;5;124mf\u001b[39m\u001b[38;5;124m'\u001b[39m\u001b[38;5;124m../outputs/results/test_1_labels_\u001b[39m\u001b[38;5;132;01m{\u001b[39;00mannotation_type\u001b[38;5;241m+\u001b[39m\u001b[38;5;124m\"\u001b[39m\u001b[38;5;124m_\u001b[39m\u001b[38;5;124m\"\u001b[39m\u001b[38;5;250m \u001b[39m\u001b[38;5;28;01mif\u001b[39;00m\u001b[38;5;250m \u001b[39mannotation_type\u001b[38;5;250m \u001b[39m\u001b[38;5;241m==\u001b[39m\u001b[38;5;250m \u001b[39m\u001b[38;5;124m\"\u001b[39m\u001b[38;5;124mEC\u001b[39m\u001b[38;5;124m\"\u001b[39m\u001b[38;5;250m \u001b[39m\u001b[38;5;28;01melse\u001b[39;00m\u001b[38;5;250m \u001b[39m\u001b[38;5;124m\"\u001b[39m\u001b[38;5;124m\"\u001b[39m\u001b[38;5;132;01m}\u001b[39;00m\u001b[38;5;124mnormal_test_label_aug_v4.parquet\u001b[39m\u001b[38;5;124m'\u001b[39m)\n\u001b[1;32m     10\u001b[0m embeddings \u001b[38;5;241m=\u001b[39m torch\u001b[38;5;241m.\u001b[39mload(\u001b[38;5;124mf\u001b[39m\u001b[38;5;124m'\u001b[39m\u001b[38;5;124m../data/embeddings/\u001b[39m\u001b[38;5;132;01m{\u001b[39;00mlabel_embeddings\u001b[38;5;132;01m}\u001b[39;00m\u001b[38;5;124m.pt\u001b[39m\u001b[38;5;124m'\u001b[39m)\n",
      "\u001b[0;31mNameError\u001b[0m: name 'pd' is not defined"
     ]
    }
   ],
   "source": [
    "annotation_type = 'GO'\n",
    "\n",
    "if annotation_type =='GO':\n",
    "    label_embeddings = '2024_E5_multiling_inst_frozen_label_embeddings_mean' \n",
    "elif annotation_type=='EC':\n",
    "    label_embeddings = 'ecv1_E5_multiling_inst_frozen_label_embeddings_mean'\n",
    "\n",
    "zero_shot_pinf_logits = pd.read_parquet(f'../outputs/results/test_logits_{annotation_type}_unseen_proteinfer_ABCD.parquet')\n",
    "zero_shot_labels = pd.read_parquet(f'../outputs/results/test_1_labels_{annotation_type+\"_\" if annotation_type == \"EC\" else \"\"}normal_test_label_aug_v4.parquet')\n",
    "embeddings = torch.load(f'../data/embeddings/{label_embeddings}.pt')\n",
    "embeddings_idx = torch.load(f'../data/embeddings/{label_embeddings}_index.pt')\n",
    "vocabularies = generate_vocabularies(file_path = f'../data/swissprot/proteinfer_splits/random/full_GO.fasta')\n",
    "zero_shot_pinf_logits.columns = vocabularies['label_vocab']\n"
   ]
  },
  {
   "cell_type": "code",
   "execution_count": 62,
   "metadata": {},
   "outputs": [
    {
     "data": {
      "text/plain": [
       "\"Instruct: Identify the main categories, themes, or topics described in the following Gene Ontology (GO) term, which is used to detail a protein's function\\nQuery: mitochondrion inheritance\""
      ]
     },
     "execution_count": 62,
     "metadata": {},
     "output_type": "execute_result"
    }
   ],
   "source": [
    "embeddings_idx['description'].iloc[0]"
   ]
  },
  {
   "cell_type": "code",
   "execution_count": 63,
   "metadata": {},
   "outputs": [
    {
     "data": {
      "text/plain": [
       "((832, 228), (52874, 32102))"
      ]
     },
     "execution_count": 63,
     "metadata": {},
     "output_type": "execute_result"
    }
   ],
   "source": [
    "zero_shot_labels.shape,zero_shot_pinf_logits.shape"
   ]
  },
  {
   "cell_type": "code",
   "execution_count": 64,
   "metadata": {},
   "outputs": [],
   "source": [
    "logits_unseen = pd.read_parquet(\"../outputs/results/unseen_zero_shot_logits.parquet\")\n",
    "labels_unseen = pd.read_parquet(\"../outputs/results/unseen_zero_shot_labels.parquet\")\n",
    "mask = set(zero_shot_labels.index.get_level_values(0))&set(labels_unseen.index)\n",
    "cols = set(zero_shot_labels.columns)&set(labels_unseen.columns) - set(['GO:0106314'])"
   ]
  },
  {
   "cell_type": "code",
   "execution_count": 65,
   "metadata": {},
   "outputs": [],
   "source": [
    "embedding_mask = embeddings_idx['description_type']=='name'\n",
    "embeddings_idx = embeddings_idx[embedding_mask].reset_index(drop=True)\n",
    "embeddings = embeddings[embedding_mask]\n",
    "\n",
    "train_embeddings_mask = embeddings_idx['id'].isin(vocabularies['label_vocab'])\n",
    "train_embeddings_idx = embeddings_idx[train_embeddings_mask].reset_index(drop=True)\n",
    "train_embeddings = embeddings[train_embeddings_mask]\n",
    "\n",
    "zero_shot_embeddings_mask = embeddings_idx['id'].isin(zero_shot_labels.columns)\n",
    "zero_shot_embeddings_idx = embeddings_idx[zero_shot_embeddings_mask].reset_index(drop=True)\n",
    "zero_shot_embeddings = embeddings[zero_shot_embeddings_mask]"
   ]
  },
  {
   "cell_type": "code",
   "execution_count": 66,
   "metadata": {},
   "outputs": [],
   "source": [
    "label_train_2_zero_shot_similarities = (torch.nn.functional.normalize(zero_shot_embeddings)@torch.nn.functional.normalize(train_embeddings).T)\n",
    "zero_shot_label_mapping = {zero_shot_embeddings_idx['id'].iloc[zero_shot_label_idx]:train_embeddings_idx['id'].iloc[train_label_idx.item()] for zero_shot_label_idx,train_label_idx in enumerate(label_train_2_zero_shot_similarities.max(dim=-1).indices)}\n"
   ]
  },
  {
   "cell_type": "markdown",
   "metadata": {},
   "source": [
    "### Sanity check\n",
    "Print zero shot label descriptions with their mapped training label description. Keys should be similar to their values"
   ]
  },
  {
   "cell_type": "code",
   "execution_count": 67,
   "metadata": {},
   "outputs": [
    {
     "data": {
      "text/plain": [
       "{\"Instruct: Identify the main categories, themes, or topics described in the following Gene Ontology (GO) term, which is used to detail a protein's function\\nQuery: mitochondrial proliferation\": \"Instruct: Identify the main categories, themes, or topics described in the following Gene Ontology (GO) term, which is used to detail a protein's function\\nQuery: mitochondrial gene expression\",\n",
       " \"Instruct: Identify the main categories, themes, or topics described in the following Gene Ontology (GO) term, which is used to detail a protein's function\\nQuery: zinc ion sensor activity\": \"Instruct: Identify the main categories, themes, or topics described in the following Gene Ontology (GO) term, which is used to detail a protein's function\\nQuery: copper ion sensor activity\",\n",
       " \"Instruct: Identify the main categories, themes, or topics described in the following Gene Ontology (GO) term, which is used to detail a protein's function\\nQuery: Fc receptor-mediated immune complex endocytosis\": \"Instruct: Identify the main categories, themes, or topics described in the following Gene Ontology (GO) term, which is used to detail a protein's function\\nQuery: Fc receptor complex\",\n",
       " \"Instruct: Identify the main categories, themes, or topics described in the following Gene Ontology (GO) term, which is used to detail a protein's function\\nQuery: magnetosome assembly\": \"Instruct: Identify the main categories, themes, or topics described in the following Gene Ontology (GO) term, which is used to detail a protein's function\\nQuery: cellular response to magnetism\",\n",
       " \"Instruct: Identify the main categories, themes, or topics described in the following Gene Ontology (GO) term, which is used to detail a protein's function\\nQuery: XMP 5'-nucleosidase activity\": \"Instruct: Identify the main categories, themes, or topics described in the following Gene Ontology (GO) term, which is used to detail a protein's function\\nQuery: GMP 5'-nucleotidase activity\",\n",
       " \"Instruct: Identify the main categories, themes, or topics described in the following Gene Ontology (GO) term, which is used to detail a protein's function\\nQuery: pterocarpan synthase activity\": \"Instruct: Identify the main categories, themes, or topics described in the following Gene Ontology (GO) term, which is used to detail a protein's function\\nQuery: pinene synthase activity\",\n",
       " \"Instruct: Identify the main categories, themes, or topics described in the following Gene Ontology (GO) term, which is used to detail a protein's function\\nQuery: acquisition of seed longevity\": \"Instruct: Identify the main categories, themes, or topics described in the following Gene Ontology (GO) term, which is used to detail a protein's function\\nQuery: seed maturation\",\n",
       " \"Instruct: Identify the main categories, themes, or topics described in the following Gene Ontology (GO) term, which is used to detail a protein's function\\nQuery: ATP-dependent DNA damage sensor activity\": \"Instruct: Identify the main categories, themes, or topics described in the following Gene Ontology (GO) term, which is used to detail a protein's function\\nQuery: DNA damage response, detection of DNA damage\",\n",
       " \"Instruct: Identify the main categories, themes, or topics described in the following Gene Ontology (GO) term, which is used to detail a protein's function\\nQuery: effector-mediated modulation of host process by symbiont\": \"Instruct: Identify the main categories, themes, or topics described in the following Gene Ontology (GO) term, which is used to detail a protein's function\\nQuery: modulation by symbiont of host cellular process\",\n",
       " \"Instruct: Identify the main categories, themes, or topics described in the following Gene Ontology (GO) term, which is used to detail a protein's function\\nQuery: ATP-dependent DNA (cytosine-5-)-methyltransferase activity\": \"Instruct: Identify the main categories, themes, or topics described in the following Gene Ontology (GO) term, which is used to detail a protein's function\\nQuery: DNA (cytosine-5-)-methyltransferase activity\"}"
      ]
     },
     "execution_count": 67,
     "metadata": {},
     "output_type": "execute_result"
    }
   ],
   "source": [
    "zero_shot_label_descriptions_mapping={embeddings_idx.loc[embeddings_idx['id']==k,'description'].iloc[0]:embeddings_idx.loc[embeddings_idx['id']==v,'description'].iloc[0] for k,v in zero_shot_label_mapping.items()}\n",
    "\n",
    "#Print only 10 randomly selected key-value pairs\n",
    "sampled_keys =np.random.choice(list(zero_shot_label_descriptions_mapping.keys()),size=10,replace=False)\n",
    "{k:v for k,v in zero_shot_label_descriptions_mapping.items() if k in sampled_keys}"
   ]
  },
  {
   "cell_type": "markdown",
   "metadata": {},
   "source": [
    "### Create the zero shot proteinfer-based baseline prediction df"
   ]
  },
  {
   "cell_type": "code",
   "execution_count": 68,
   "metadata": {},
   "outputs": [],
   "source": [
    "zero_shot_pinf_baseline_logits = zero_shot_pinf_logits[[zero_shot_label_mapping[i] for i in zero_shot_labels.columns]]\n",
    "zero_shot_pinf_baseline_logits.columns = zero_shot_labels.columns"
   ]
  },
  {
   "cell_type": "code",
   "execution_count": 69,
   "metadata": {},
   "outputs": [
    {
     "data": {
      "text/plain": [
       "(52874, 228)"
      ]
     },
     "execution_count": 69,
     "metadata": {},
     "output_type": "execute_result"
    }
   ],
   "source": [
    "zero_shot_pinf_baseline_logits.shape"
   ]
  },
  {
   "cell_type": "markdown",
   "metadata": {},
   "source": [
    "### Measure baseline performance"
   ]
  },
  {
   "cell_type": "code",
   "execution_count": 70,
   "metadata": {},
   "outputs": [
    {
     "data": {
      "text/plain": [
       "(52874, 228)"
      ]
     },
     "execution_count": 70,
     "metadata": {},
     "output_type": "execute_result"
    }
   ],
   "source": [
    "zero_shot_pinf_baseline_logits.shape"
   ]
  },
  {
   "cell_type": "code",
   "execution_count": 72,
   "metadata": {},
   "outputs": [
    {
     "data": {
      "text/plain": [
       "(815, 227)"
      ]
     },
     "execution_count": 72,
     "metadata": {},
     "output_type": "execute_result"
    }
   ],
   "source": [
    "zero_shot_labels.shape"
   ]
  },
  {
   "cell_type": "code",
   "execution_count": null,
   "metadata": {},
   "outputs": [],
   "source": []
  },
  {
   "cell_type": "code",
   "execution_count": 71,
   "metadata": {},
   "outputs": [
    {
     "name": "stdout",
     "output_type": "stream",
     "text": [
      "{'f1_macro': 0.08511335402727127,\n",
      " 'f1_micro': 0.20441989600658417,\n",
      " 'map_macro': 0.18999364972114563,\n",
      " 'map_micro': 0.08505809307098389}\n"
     ]
    },
    {
     "name": "stderr",
     "output_type": "stream",
     "text": [
      "/tmp/ipykernel_2679122/3928599541.py:3: FutureWarning: Passing a set as an indexer is deprecated and will raise in a future version. Use a list instead.\n",
      "  zero_shot_pinf_baseline_logits = zero_shot_pinf_baseline_logits.loc[zero_shot_pinf_baseline_logits.index.isin(mask),cols]\n"
     ]
    }
   ],
   "source": [
    "from pprint import pprint\n",
    "\n",
    "zero_shot_pinf_baseline_logits = zero_shot_pinf_baseline_logits.loc[zero_shot_pinf_baseline_logits.index.isin(mask),cols]\n",
    "zero_shot_labels = zero_shot_labels.loc[zero_shot_labels.index.isin(zero_shot_pinf_baseline_logits.index),zero_shot_pinf_baseline_logits.columns]\n",
    "\n",
    "\n",
    "eval_metrics = EvalMetrics(device='cuda')\n",
    "mAP_micro = BinaryAUPRC(device='cpu')\n",
    "mAP_macro = MultilabelAUPRC(device='cpu',num_labels=zero_shot_labels.shape[-1])\n",
    "metrics = eval_metrics\\\n",
    "        .get_metric_collection_with_regex(pattern='f1_m.*',\n",
    "                            threshold=0.5,\n",
    "                            num_labels=zero_shot_labels.shape[-1]\n",
    "                            )\n",
    "\n",
    "metrics(torch.sigmoid(torch.tensor(zero_shot_pinf_baseline_logits.values,device='cuda')),\n",
    "              torch.tensor(zero_shot_labels.values,device='cuda'))\n",
    "mAP_micro.update(torch.sigmoid(torch.tensor(zero_shot_pinf_baseline_logits.values)).flatten(),\n",
    "                               torch.tensor(zero_shot_labels.values).flatten())\n",
    "mAP_macro.update(torch.sigmoid(torch.tensor(zero_shot_pinf_baseline_logits.values)),\n",
    "                 torch.tensor(zero_shot_labels.values))\n",
    "\n",
    "\n",
    "metrics = metrics.compute()\n",
    "metrics.update({\n",
    "                \"map_micro\":mAP_micro.compute(),\n",
    "                \"map_macro\":mAP_macro.compute()\n",
    "                })\n",
    "metrics = {k:v.item() for k,v in metrics.items()}\n",
    "pprint(metrics)\n",
    "\n"
   ]
  },
  {
   "cell_type": "code",
   "execution_count": 38,
   "metadata": {},
   "outputs": [],
   "source": [
    "logits_unseen = pd.read_parquet(\"../outputs/results/unseen_zero_shot_logits.parquet\")\n",
    "labels_unseen = pd.read_parquet(\"../outputs/results/unseen_zero_shot_labels.parquet\")\n",
    "mask = set(zero_shot_labels.index.get_level_values(0))&set(labels_unseen.index)\n",
    "cols = set(zero_shot_labels.columns)&set(labels_unseen.columns)"
   ]
  },
  {
   "cell_type": "code",
   "execution_count": 39,
   "metadata": {},
   "outputs": [
    {
     "data": {
      "text/plain": [
       "(832, 228)"
      ]
     },
     "execution_count": 39,
     "metadata": {},
     "output_type": "execute_result"
    }
   ],
   "source": [
    "logits_unseen.shape"
   ]
  },
  {
   "cell_type": "code",
   "execution_count": 17,
   "metadata": {},
   "outputs": [
    {
     "data": {
      "text/plain": [
       "(815, 227)"
      ]
     },
     "execution_count": 17,
     "metadata": {},
     "output_type": "execute_result"
    }
   ],
   "source": [
    "y.shape"
   ]
  },
  {
   "cell_type": "code",
   "execution_count": 15,
   "metadata": {},
   "outputs": [
    {
     "name": "stdout",
     "output_type": "stream",
     "text": [
      "{'f1_macro': 0.07445017248392105,\n",
      " 'f1_micro': 0.13045518100261688,\n",
      " 'map_macro': 0.18683546781539917,\n",
      " 'map_micro': 0.07307962328195572}\n"
     ]
    },
    {
     "name": "stderr",
     "output_type": "stream",
     "text": [
      "/tmp/ipykernel_2631426/1881742855.py:11: FutureWarning: Passing a set as an indexer is deprecated and will raise in a future version. Use a list instead.\n",
      "  pinf_logits = zero_shot_pinf_baseline_logits.loc[mask,cols]\n",
      "/tmp/ipykernel_2631426/1881742855.py:12: FutureWarning: Passing a set as an indexer is deprecated and will raise in a future version. Use a list instead.\n",
      "  y = zero_shot_labels.loc[mask,cols]\n"
     ]
    }
   ],
   "source": [
    "from pprint import pprint\n",
    "eval_metrics = EvalMetrics(device='cuda')\n",
    "mAP_micro = BinaryAUPRC(device='cpu')\n",
    "mAP_macro = MultilabelAUPRC(device='cpu',num_labels=len(cols))\n",
    "metrics = eval_metrics\\\n",
    "        .get_metric_collection_with_regex(pattern='f1_m.*',\n",
    "                            threshold=0.5,\n",
    "                            num_labels=len(cols)\n",
    "                            )\n",
    "\n",
    "pinf_logits = zero_shot_pinf_baseline_logits.loc[mask,cols]\n",
    "y = zero_shot_labels.loc[mask,cols]\n",
    "metrics(torch.sigmoid(torch.tensor(pinf_logits.values,device='cuda')),\n",
    "              torch.tensor(y.values,device='cuda'))\n",
    "mAP_micro.update(torch.sigmoid(torch.tensor(pinf_logits.values)).flatten(),\n",
    "                               torch.tensor(y.values).flatten())\n",
    "mAP_macro.update(torch.sigmoid(torch.tensor(pinf_logits.values)),\n",
    "                 torch.tensor(y.values))\n",
    "\n",
    "\n",
    "metrics = metrics.compute()\n",
    "metrics.update({\n",
    "                \"map_micro\":mAP_micro.compute(),\n",
    "                \"map_macro\":mAP_macro.compute()\n",
    "                })\n",
    "metrics = {k:v.item() for k,v in metrics.items()}\n",
    "pprint(metrics)\n",
    "\n"
   ]
  },
  {
   "cell_type": "markdown",
   "metadata": {},
   "source": [
    "# EC "
   ]
  },
  {
   "cell_type": "code",
   "execution_count": 2,
   "metadata": {},
   "outputs": [],
   "source": [
    "from src.utils.data import read_fasta,get_vocab_mappings"
   ]
  },
  {
   "cell_type": "code",
   "execution_count": 3,
   "metadata": {},
   "outputs": [],
   "source": [
    "train_EC = read_fasta('../data/zero_shot/train_EC.fasta')\n",
    "val_EC = read_fasta('../data/zero_shot/train_EC.fasta')\n",
    "test_EC = read_fasta('../data/zero_shot/test_EC.fasta')"
   ]
  },
  {
   "cell_type": "code",
   "execution_count": 9,
   "metadata": {},
   "outputs": [],
   "source": [
    "ec_vocabs = generate_vocabularies('../data/swissprot/proteinfer_splits/random/full_EC.fasta')"
   ]
  },
  {
   "cell_type": "code",
   "execution_count": 10,
   "metadata": {},
   "outputs": [],
   "source": [
    "label2int, int2label = get_vocab_mappings(ec_vocabs['label_vocab'])\n",
    "\n",
    "\n",
    "def process_labels(labels):\n",
    "    # One-hot encode the labels for use in the loss function (not a model input, so should not be impacted by augmentation)\n",
    "    labels_ints = torch.tensor(\n",
    "        [label2int[label] for label in labels], dtype=torch.long\n",
    "    )\n",
    "\n",
    "    label_multihots = torch.nn.functional.one_hot(\n",
    "        labels_ints, num_classes=len(ec_vocabs['label_vocab'])\n",
    "    ).sum(dim=0)\n",
    "\n",
    "    return label_multihots"
   ]
  },
  {
   "cell_type": "code",
   "execution_count": null,
   "metadata": {},
   "outputs": [],
   "source": [
    "from tqdm import tqdm\n",
    "d = []\n",
    "for record in tqdm(test_EC):\n",
    "    d.append(process_labels(record[-1]).numpy())\n"
   ]
  },
  {
   "cell_type": "code",
   "execution_count": 16,
   "metadata": {},
   "outputs": [],
   "source": [
    "df = pd.DataFrame(d[:10])"
   ]
  },
  {
   "cell_type": "code",
   "execution_count": 17,
   "metadata": {},
   "outputs": [
    {
     "data": {
      "text/html": [
       "<div>\n",
       "<style scoped>\n",
       "    .dataframe tbody tr th:only-of-type {\n",
       "        vertical-align: middle;\n",
       "    }\n",
       "\n",
       "    .dataframe tbody tr th {\n",
       "        vertical-align: top;\n",
       "    }\n",
       "\n",
       "    .dataframe thead th {\n",
       "        text-align: right;\n",
       "    }\n",
       "</style>\n",
       "<table border=\"1\" class=\"dataframe\">\n",
       "  <thead>\n",
       "    <tr style=\"text-align: right;\">\n",
       "      <th></th>\n",
       "      <th>0</th>\n",
       "      <th>1</th>\n",
       "      <th>2</th>\n",
       "      <th>3</th>\n",
       "      <th>4</th>\n",
       "      <th>5</th>\n",
       "      <th>6</th>\n",
       "      <th>7</th>\n",
       "      <th>8</th>\n",
       "      <th>9</th>\n",
       "      <th>...</th>\n",
       "      <th>5124</th>\n",
       "      <th>5125</th>\n",
       "      <th>5126</th>\n",
       "      <th>5127</th>\n",
       "      <th>5128</th>\n",
       "      <th>5129</th>\n",
       "      <th>5130</th>\n",
       "      <th>5131</th>\n",
       "      <th>5132</th>\n",
       "      <th>5133</th>\n",
       "    </tr>\n",
       "  </thead>\n",
       "  <tbody>\n",
       "    <tr>\n",
       "      <th>0</th>\n",
       "      <td>0</td>\n",
       "      <td>0</td>\n",
       "      <td>0</td>\n",
       "      <td>0</td>\n",
       "      <td>0</td>\n",
       "      <td>0</td>\n",
       "      <td>0</td>\n",
       "      <td>0</td>\n",
       "      <td>0</td>\n",
       "      <td>0</td>\n",
       "      <td>...</td>\n",
       "      <td>0</td>\n",
       "      <td>0</td>\n",
       "      <td>0</td>\n",
       "      <td>0</td>\n",
       "      <td>0</td>\n",
       "      <td>0</td>\n",
       "      <td>0</td>\n",
       "      <td>0</td>\n",
       "      <td>0</td>\n",
       "      <td>0</td>\n",
       "    </tr>\n",
       "    <tr>\n",
       "      <th>1</th>\n",
       "      <td>0</td>\n",
       "      <td>0</td>\n",
       "      <td>0</td>\n",
       "      <td>0</td>\n",
       "      <td>0</td>\n",
       "      <td>0</td>\n",
       "      <td>0</td>\n",
       "      <td>0</td>\n",
       "      <td>0</td>\n",
       "      <td>0</td>\n",
       "      <td>...</td>\n",
       "      <td>0</td>\n",
       "      <td>0</td>\n",
       "      <td>0</td>\n",
       "      <td>0</td>\n",
       "      <td>0</td>\n",
       "      <td>0</td>\n",
       "      <td>0</td>\n",
       "      <td>0</td>\n",
       "      <td>0</td>\n",
       "      <td>0</td>\n",
       "    </tr>\n",
       "    <tr>\n",
       "      <th>2</th>\n",
       "      <td>0</td>\n",
       "      <td>0</td>\n",
       "      <td>0</td>\n",
       "      <td>0</td>\n",
       "      <td>0</td>\n",
       "      <td>0</td>\n",
       "      <td>0</td>\n",
       "      <td>0</td>\n",
       "      <td>0</td>\n",
       "      <td>0</td>\n",
       "      <td>...</td>\n",
       "      <td>0</td>\n",
       "      <td>0</td>\n",
       "      <td>0</td>\n",
       "      <td>0</td>\n",
       "      <td>0</td>\n",
       "      <td>0</td>\n",
       "      <td>0</td>\n",
       "      <td>0</td>\n",
       "      <td>0</td>\n",
       "      <td>0</td>\n",
       "    </tr>\n",
       "    <tr>\n",
       "      <th>3</th>\n",
       "      <td>0</td>\n",
       "      <td>0</td>\n",
       "      <td>0</td>\n",
       "      <td>0</td>\n",
       "      <td>0</td>\n",
       "      <td>0</td>\n",
       "      <td>0</td>\n",
       "      <td>0</td>\n",
       "      <td>0</td>\n",
       "      <td>0</td>\n",
       "      <td>...</td>\n",
       "      <td>0</td>\n",
       "      <td>0</td>\n",
       "      <td>0</td>\n",
       "      <td>0</td>\n",
       "      <td>0</td>\n",
       "      <td>0</td>\n",
       "      <td>0</td>\n",
       "      <td>0</td>\n",
       "      <td>0</td>\n",
       "      <td>0</td>\n",
       "    </tr>\n",
       "    <tr>\n",
       "      <th>4</th>\n",
       "      <td>0</td>\n",
       "      <td>0</td>\n",
       "      <td>0</td>\n",
       "      <td>0</td>\n",
       "      <td>0</td>\n",
       "      <td>0</td>\n",
       "      <td>0</td>\n",
       "      <td>0</td>\n",
       "      <td>0</td>\n",
       "      <td>0</td>\n",
       "      <td>...</td>\n",
       "      <td>0</td>\n",
       "      <td>0</td>\n",
       "      <td>0</td>\n",
       "      <td>0</td>\n",
       "      <td>0</td>\n",
       "      <td>0</td>\n",
       "      <td>0</td>\n",
       "      <td>0</td>\n",
       "      <td>0</td>\n",
       "      <td>0</td>\n",
       "    </tr>\n",
       "    <tr>\n",
       "      <th>5</th>\n",
       "      <td>0</td>\n",
       "      <td>0</td>\n",
       "      <td>0</td>\n",
       "      <td>0</td>\n",
       "      <td>0</td>\n",
       "      <td>0</td>\n",
       "      <td>0</td>\n",
       "      <td>0</td>\n",
       "      <td>0</td>\n",
       "      <td>0</td>\n",
       "      <td>...</td>\n",
       "      <td>0</td>\n",
       "      <td>0</td>\n",
       "      <td>0</td>\n",
       "      <td>0</td>\n",
       "      <td>0</td>\n",
       "      <td>0</td>\n",
       "      <td>0</td>\n",
       "      <td>0</td>\n",
       "      <td>0</td>\n",
       "      <td>0</td>\n",
       "    </tr>\n",
       "    <tr>\n",
       "      <th>6</th>\n",
       "      <td>0</td>\n",
       "      <td>0</td>\n",
       "      <td>0</td>\n",
       "      <td>0</td>\n",
       "      <td>0</td>\n",
       "      <td>0</td>\n",
       "      <td>0</td>\n",
       "      <td>0</td>\n",
       "      <td>0</td>\n",
       "      <td>0</td>\n",
       "      <td>...</td>\n",
       "      <td>0</td>\n",
       "      <td>0</td>\n",
       "      <td>0</td>\n",
       "      <td>0</td>\n",
       "      <td>0</td>\n",
       "      <td>0</td>\n",
       "      <td>0</td>\n",
       "      <td>0</td>\n",
       "      <td>0</td>\n",
       "      <td>0</td>\n",
       "    </tr>\n",
       "    <tr>\n",
       "      <th>7</th>\n",
       "      <td>0</td>\n",
       "      <td>0</td>\n",
       "      <td>0</td>\n",
       "      <td>0</td>\n",
       "      <td>0</td>\n",
       "      <td>0</td>\n",
       "      <td>0</td>\n",
       "      <td>0</td>\n",
       "      <td>0</td>\n",
       "      <td>0</td>\n",
       "      <td>...</td>\n",
       "      <td>0</td>\n",
       "      <td>0</td>\n",
       "      <td>0</td>\n",
       "      <td>0</td>\n",
       "      <td>0</td>\n",
       "      <td>0</td>\n",
       "      <td>0</td>\n",
       "      <td>0</td>\n",
       "      <td>0</td>\n",
       "      <td>0</td>\n",
       "    </tr>\n",
       "    <tr>\n",
       "      <th>8</th>\n",
       "      <td>0</td>\n",
       "      <td>0</td>\n",
       "      <td>0</td>\n",
       "      <td>0</td>\n",
       "      <td>0</td>\n",
       "      <td>0</td>\n",
       "      <td>0</td>\n",
       "      <td>0</td>\n",
       "      <td>0</td>\n",
       "      <td>0</td>\n",
       "      <td>...</td>\n",
       "      <td>0</td>\n",
       "      <td>0</td>\n",
       "      <td>0</td>\n",
       "      <td>0</td>\n",
       "      <td>0</td>\n",
       "      <td>0</td>\n",
       "      <td>0</td>\n",
       "      <td>0</td>\n",
       "      <td>0</td>\n",
       "      <td>0</td>\n",
       "    </tr>\n",
       "    <tr>\n",
       "      <th>9</th>\n",
       "      <td>0</td>\n",
       "      <td>0</td>\n",
       "      <td>0</td>\n",
       "      <td>0</td>\n",
       "      <td>0</td>\n",
       "      <td>0</td>\n",
       "      <td>0</td>\n",
       "      <td>0</td>\n",
       "      <td>0</td>\n",
       "      <td>0</td>\n",
       "      <td>...</td>\n",
       "      <td>0</td>\n",
       "      <td>0</td>\n",
       "      <td>0</td>\n",
       "      <td>0</td>\n",
       "      <td>0</td>\n",
       "      <td>0</td>\n",
       "      <td>0</td>\n",
       "      <td>0</td>\n",
       "      <td>0</td>\n",
       "      <td>0</td>\n",
       "    </tr>\n",
       "  </tbody>\n",
       "</table>\n",
       "<p>10 rows × 5134 columns</p>\n",
       "</div>"
      ],
      "text/plain": [
       "   0     1     2     3     4     5     6     7     8     9     ...  5124  \\\n",
       "0     0     0     0     0     0     0     0     0     0     0  ...     0   \n",
       "1     0     0     0     0     0     0     0     0     0     0  ...     0   \n",
       "2     0     0     0     0     0     0     0     0     0     0  ...     0   \n",
       "3     0     0     0     0     0     0     0     0     0     0  ...     0   \n",
       "4     0     0     0     0     0     0     0     0     0     0  ...     0   \n",
       "5     0     0     0     0     0     0     0     0     0     0  ...     0   \n",
       "6     0     0     0     0     0     0     0     0     0     0  ...     0   \n",
       "7     0     0     0     0     0     0     0     0     0     0  ...     0   \n",
       "8     0     0     0     0     0     0     0     0     0     0  ...     0   \n",
       "9     0     0     0     0     0     0     0     0     0     0  ...     0   \n",
       "\n",
       "   5125  5126  5127  5128  5129  5130  5131  5132  5133  \n",
       "0     0     0     0     0     0     0     0     0     0  \n",
       "1     0     0     0     0     0     0     0     0     0  \n",
       "2     0     0     0     0     0     0     0     0     0  \n",
       "3     0     0     0     0     0     0     0     0     0  \n",
       "4     0     0     0     0     0     0     0     0     0  \n",
       "5     0     0     0     0     0     0     0     0     0  \n",
       "6     0     0     0     0     0     0     0     0     0  \n",
       "7     0     0     0     0     0     0     0     0     0  \n",
       "8     0     0     0     0     0     0     0     0     0  \n",
       "9     0     0     0     0     0     0     0     0     0  \n",
       "\n",
       "[10 rows x 5134 columns]"
      ]
     },
     "execution_count": 17,
     "metadata": {},
     "output_type": "execute_result"
    }
   ],
   "source": [
    "df"
   ]
  },
  {
   "cell_type": "code",
   "execution_count": 5,
   "metadata": {},
   "outputs": [],
   "source": [
    "test_EC = [(i,j,\" \".join(k)) for i,j,k in test_EC]\n"
   ]
  },
  {
   "cell_type": "code",
   "execution_count": 6,
   "metadata": {},
   "outputs": [
    {
     "data": {
      "text/plain": [
       "('MLKNDLFLRALKRQPCSRTPIWVMRQAGRYLPEYRAVREKTDFLTLCKTPELATEVTIQPVELVGVDAAIIFSDILVVNEAMGQEVNIIETKGIKLAPPIRSQADIDKLIVPDIDEKLGYVLDALRMTKKELDNRVPLIGFSGAAWTLFTYAVEGGGSKNYAYAKQMMYREPQMAHSLLSKISQTITAYTLKQIEAGADAIQIFDSWASALSEDDYREYALPYIKDTVQAIKAKHPETPVIVFSKDCNTILSDIADTGCDAVGLGWGIDISKARTELNDRVALQGNLDPTVLYGTQERIKIEAGKILKSFGQHNHHSGHVFNLGHGILPDMDPDNLRCLVEFVKEESAKYH',\n",
       " 'Q3AUB7',\n",
       " 'EC:4.-.-.- EC:4.1.-.- EC:4.1.1.- EC:4.1.1.37')"
      ]
     },
     "execution_count": 6,
     "metadata": {},
     "output_type": "execute_result"
    }
   ],
   "source": [
    "test_EC[0]"
   ]
  }
 ],
 "metadata": {
  "kernelspec": {
   "display_name": "protein_functions_310",
   "language": "python",
   "name": "python3"
  },
  "language_info": {
   "codemirror_mode": {
    "name": "ipython",
    "version": 3
   },
   "file_extension": ".py",
   "mimetype": "text/x-python",
   "name": "python",
   "nbconvert_exporter": "python",
   "pygments_lexer": "ipython3",
   "version": "3.10.13"
  }
 },
 "nbformat": 4,
 "nbformat_minor": 2
}
