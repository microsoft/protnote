{
 "cells": [
  {
   "cell_type": "code",
   "execution_count": 4,
   "metadata": {},
   "outputs": [
    {
     "name": "stdout",
     "output_type": "stream",
     "text": [
      "Job Template Name: MyExperiment_OVERRIDE_WEIGHTED_SAMPLING False_SEQUENCE_WEIGHT_AGG_sum\n",
      "Job Command: python main.py --nodes 1 --gpus 8 --train-path-name TRAIN_DATA_PATH --validation-path-name VAL_DATA_PATH --name \"MyExperiment_WEIGHTED_SAMPLING False_sum\" --override SEED 42 SEQUENCE_WEIGHT_AGG sum WEIGHTED_SAMPLING False --amlt --use-wandb\n"
     ]
    }
   ],
   "source": []
  },
  {
   "cell_type": "code",
   "execution_count": 4,
   "metadata": {},
   "outputs": [],
   "source": [
    "from itertools import product\n",
    "params={'SEED':[42],\n",
    "        'SEQUENCE_WEIGHT_AGG':['sum','mean'],\n",
    "        'OVERRIDE_VALS':[\n",
    "              # 'WEIGHTED_SAMPLING False',\n",
    "              # 'LOSS_FN BCE',\n",
    "              'LABEL_ENCODER_CHECKPOINT microsoft/biogpt',\n",
    "              # 'AUGMENT_RESIDUE_PROBABILITY 0',\n",
    "              # 'LABEL_EMBEDDING_NOISING_ALPHA 0',\n",
    "              # 'LABEL_AUGMENTATION_DESCRIPTIONS name'\n",
    "              ]}\n",
    "\n",
    "combos = [list(zip(params.keys(),combo)) for combo in product(*params.values()) ]\n",
    "command = '''- name: 'ablations_SEED_{SEED}_OVERRIDE_{OVERRIDE_VALS}_SEQUENCE_WEIGHT_AGG_{SEQUENCE_WEIGHT_AGG}' \n",
    "  sku: G8-V100\n",
    "  priority: high\n",
    "  preemptible: False\n",
    "  command:\n",
    "  - python main.py\n",
    "    --nodes 1\n",
    "    --gpus 8\n",
    "    --train-path-name TRAIN_DATA_PATH\n",
    "    --validation-path-name VAL_DATA_PATH\n",
    "    --name \"SEED_{SEED} {OVERRIDE_VALS} SEQUENCE_WEIGHT_AGG_{SEQUENCE_WEIGHT_AGG}\"\n",
    "    --override SEED {SEED} SEQUENCE_WEIGHT_AGG {SEQUENCE_WEIGHT_AGG} {OVERRIDE_VALS}\n",
    "    --amlt\n",
    "    --use-wandb\n",
    "  submit_args:\n",
    "    env:\n",
    "      WANDB_BASE_URL: \"https://microsoft-research.wandb.io\"\n",
    "      WANDB_API_KEY: \"$WANDB_API_KEY\"'''"
   ]
  },
  {
   "cell_type": "code",
   "execution_count": 5,
   "metadata": {},
   "outputs": [
    {
     "name": "stdout",
     "output_type": "stream",
     "text": [
      "- name: 'ablations_SEED_42_OVERRIDE_LABEL_ENCODER_CHECKPOINT microsoft/biogpt_SEQUENCE_WEIGHT_AGG_sum' \n",
      "  sku: G8-V100\n",
      "  priority: high\n",
      "  preemptible: False\n",
      "  command:\n",
      "  - python main.py\n",
      "    --nodes 1\n",
      "    --gpus 8\n",
      "    --train-path-name TRAIN_DATA_PATH\n",
      "    --validation-path-name VAL_DATA_PATH\n",
      "    --name \"SEED_42 LABEL_ENCODER_CHECKPOINT microsoft/biogpt SEQUENCE_WEIGHT_AGG_sum\"\n",
      "    --override SEED 42 SEQUENCE_WEIGHT_AGG sum LABEL_ENCODER_CHECKPOINT microsoft/biogpt\n",
      "    --amlt\n",
      "    --use-wandb\n",
      "  submit_args:\n",
      "    env:\n",
      "      WANDB_BASE_URL: \"https://microsoft-research.wandb.io\"\n",
      "      WANDB_API_KEY: \"$WANDB_API_KEY\"\n",
      "- name: 'ablations_SEED_42_OVERRIDE_LABEL_ENCODER_CHECKPOINT microsoft/biogpt_SEQUENCE_WEIGHT_AGG_mean' \n",
      "  sku: G8-V100\n",
      "  priority: high\n",
      "  preemptible: False\n",
      "  command:\n",
      "  - python main.py\n",
      "    --nodes 1\n",
      "    --gpus 8\n",
      "    --train-path-name TRAIN_DATA_PATH\n",
      "    --validation-path-name VAL_DATA_PATH\n",
      "    --name \"SEED_42 LABEL_ENCODER_CHECKPOINT microsoft/biogpt SEQUENCE_WEIGHT_AGG_mean\"\n",
      "    --override SEED 42 SEQUENCE_WEIGHT_AGG mean LABEL_ENCODER_CHECKPOINT microsoft/biogpt\n",
      "    --amlt\n",
      "    --use-wandb\n",
      "  submit_args:\n",
      "    env:\n",
      "      WANDB_BASE_URL: \"https://microsoft-research.wandb.io\"\n",
      "      WANDB_API_KEY: \"$WANDB_API_KEY\"\n"
     ]
    }
   ],
   "source": [
    "for combo in combos:\n",
    "    print(command.format(**{hparam[0]:hparam[1] for hparam in combo}))"
   ]
  },
  {
   "cell_type": "code",
   "execution_count": null,
   "metadata": {},
   "outputs": [],
   "source": []
  }
 ],
 "metadata": {
  "kernelspec": {
   "display_name": "protein_functions_310",
   "language": "python",
   "name": "python3"
  },
  "language_info": {
   "codemirror_mode": {
    "name": "ipython",
    "version": 3
   },
   "file_extension": ".py",
   "mimetype": "text/x-python",
   "name": "python",
   "nbconvert_exporter": "python",
   "pygments_lexer": "ipython3",
   "version": "3.10.13"
  }
 },
 "nbformat": 4,
 "nbformat_minor": 2
}
