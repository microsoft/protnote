{
 "cells": [
  {
   "cell_type": "code",
   "execution_count": 96,
   "metadata": {},
   "outputs": [],
   "source": [
    "\n",
    "from torch.cuda.amp import autocast, GradScaler\n",
    "import torch.nn as nn\n",
    "import torch.nn.functional as F\n",
    "import torch\n",
    "import os\n",
    "import random\n",
    "import numpy as np\n",
    "import transformers\n",
    "import matplotlib.pyplot as plt\n",
    "from tqdm import tqdm\n",
    "from torchvision.ops import MLP\n",
    "\n",
    "def seed_everything(seed: int, device: str):\n",
    "    random.seed(seed)\n",
    "    np.random.seed(seed)\n",
    "    torch.manual_seed(seed)\n",
    "    if device == \"cuda\":\n",
    "        torch.cuda.manual_seed_all(seed)\n",
    "    os.environ[\"PYTHONHASHSEED\"] = str(seed)\n",
    "    transformers.set_seed(seed)"
   ]
  },
  {
   "cell_type": "code",
   "execution_count": 102,
   "metadata": {},
   "outputs": [],
   "source": [
    "\n",
    "\n",
    "class ProTCL(nn.Module):\n",
    "    def __init__(\n",
    "        self,\n",
    "        protein_embedding_dim=1100,\n",
    "        label_embedding_dim=1024,\n",
    "        latent_dim=1024,\n",
    "        label_encoder=None,\n",
    "        sequence_encoder=None,\n",
    "        train_label_encoder=False,\n",
    "        train_sequence_encoder=False,\n",
    "        output_mlp_hidden_dim_scale_factor=1,\n",
    "        output_mlp_num_layers=2,\n",
    "        output_neuron_bias=None,\n",
    "        output_mlp_normalization = 'BN',\n",
    "        label_batch_size_limit=float(\"inf\"),\n",
    "        sequence_batch_size_limit=float(\"inf\"),\n",
    "    ):\n",
    "        super().__init__()\n",
    "\n",
    "        # Training options\n",
    "        train_label_encoder, train_sequence_encoder = train_label_encoder, train_sequence_encoder\n",
    "\n",
    "        # Encoders\n",
    "        label_encoder, sequence_encoder = label_encoder, sequence_encoder\n",
    "\n",
    "        # Batch size limits\n",
    "        label_batch_size_limit,  sequence_batch_size_limit = label_batch_size_limit, sequence_batch_size_limit\n",
    "\n",
    "        # Projection heads\n",
    "        self.W_p = nn.Linear(protein_embedding_dim, latent_dim, bias=False)\n",
    "        self.W_l = nn.Linear(label_embedding_dim, latent_dim, bias=False)\n",
    "\n",
    "        # TODO: This could change. Currently keeping latent dim.\n",
    "        self.output_layer = get_mlp(\n",
    "            input_dim=latent_dim*2,\n",
    "            hidden_dim=int(round(output_mlp_hidden_dim_scale_factor*latent_dim)),\n",
    "            num_layers=output_mlp_num_layers,\n",
    "            output_neuron_bias=output_neuron_bias,\n",
    "            normalization=output_mlp_normalization\n",
    "        )\n",
    "\n",
    "    def _get_joint_embeddings(self, P_e, L_e):\n",
    "        num_sequences = P_e.shape[0]\n",
    "        num_labels = L_e.shape[0]\n",
    "        sequence_embedding_dim = P_e.shape[1]\n",
    "        label_embedding_dim = L_e.shape[1]\n",
    "\n",
    "        # Use broadcasting so we don't have to expand the tensor dimensions\n",
    "        joint_embeddings = torch.cat([\n",
    "            P_e[:, None, :].expand(\n",
    "                num_sequences, num_labels, sequence_embedding_dim),\n",
    "            L_e[None, :, :].expand(\n",
    "                num_sequences, num_labels, label_embedding_dim)\n",
    "        ], dim=2).reshape(-1, sequence_embedding_dim + label_embedding_dim)\n",
    "\n",
    "        return joint_embeddings, num_sequences, num_labels\n",
    "\n",
    "    def forward(\n",
    "        self,\n",
    "        sequence_onehots=None,\n",
    "        sequence_embeddings=None,\n",
    "        sequence_lengths=None,\n",
    "        tokenized_labels=None,\n",
    "        label_embeddings=None\n",
    "    ):\n",
    "        \"\"\"\n",
    "        Forward pass of the model.\n",
    "        Returns a representation of the similarity between each sequence and each label.\n",
    "        args:\n",
    "            sequence_onehots (optional): Tensor of one-hot encoded protein sequences.\n",
    "            sequence_embeddings (optional): Tensor of pre-trained sequence embeddings.\n",
    "            sequence_lengths (optional): Tensor of sequence lengths.\n",
    "            tokenized_labels (optional): List of tokenized label sequences.\n",
    "            label_embeddings (optional): Tensor of pre-trained label embeddings.\n",
    "        \"\"\"\n",
    "\n",
    "        # If label embeddings are provided and we're not training the laebel encoder, use them. Otherwise, compute them.\n",
    "        \n",
    "        L_f = label_embeddings\n",
    "\n",
    "        # If sequence embeddings are provided and we're not training the sequence encoder, use them. Otherwise, compute them.\n",
    "        \n",
    "        P_f = sequence_embeddings\n",
    "\n",
    "        # Project protein and label embeddings to common latent space.\n",
    "\n",
    "        P_e = self.W_p(P_f)\n",
    "        L_e = self.W_l(L_f)\n",
    "\n",
    "        # Get concatenated embeddings, representing all possible combinations of protein and label embeddings\n",
    "        # (number proteins * number labels by latent_dim*2)\n",
    "        joint_embeddings, num_sequences, num_labels = self._get_joint_embeddings(\n",
    "            P_e, L_e)\n",
    "\n",
    "        # Feed through MLP to get logits (which represent similarities)\n",
    "        logits = self.output_layer(joint_embeddings)\n",
    "\n",
    "        # Reshape for loss function\n",
    "        logits = logits.reshape(num_sequences, num_labels)\n",
    "        \n",
    "        \n",
    "        return logits,joint_embeddings.detach()\n",
    "\n",
    "\n",
    "def get_mlp(input_dim,\n",
    "            hidden_dim,\n",
    "            num_layers,\n",
    "            normalization = 'BN',\n",
    "            output_neuron_bias=None):\n",
    "    \"\"\"\n",
    "    Creates a variable length MLP with ReLU activations.\n",
    "    \"\"\"\n",
    "    layers = []\n",
    "    \n",
    "    \n",
    "    if normalization == 'BN':\n",
    "        norm = nn.BatchNorm1d\n",
    "    elif normalization == 'LN':\n",
    "        norm = nn.LayerNorm\n",
    "    elif normalization is None:\n",
    "        norm = nn.Identity\n",
    "\n",
    "    for idx in range(num_layers):\n",
    "        if idx ==0:\n",
    "            layers.append(nn.Linear(input_dim, hidden_dim))\n",
    "        else:\n",
    "            layers.append(nn.Linear(hidden_dim, hidden_dim))\n",
    "\n",
    "        layers.append(norm([hidden_dim]))\n",
    "\n",
    "        layers.append(nn.ReLU())\n",
    "        \n",
    "    output_neuron = nn.Linear(hidden_dim, 1)\n",
    "    if output_neuron_bias is not None:\n",
    "        # Set the bias of the final linear layer\n",
    "        output_neuron.bias.data.fill_(output_neuron_bias)\n",
    "    layers.append(output_neuron)\n",
    "    return nn.Sequential(*layers)\n"
   ]
  },
  {
   "cell_type": "code",
   "execution_count": 103,
   "metadata": {},
   "outputs": [],
   "source": [
    "dummy_seq_embs = torch.load('../seq_emb_test.pt')\n",
    "dummy_label_embs = torch.load('../label_emb_test.pt')\n",
    "dummy_labels = torch.load('../label_multihots_test.pt')"
   ]
  },
  {
   "cell_type": "code",
   "execution_count": 104,
   "metadata": {},
   "outputs": [
    {
     "data": {
      "text/plain": [
       "(tensor(-0.0744, device='cuda:0'), tensor(0.9251, device='cuda:0'))"
      ]
     },
     "execution_count": 104,
     "metadata": {},
     "output_type": "execute_result"
    }
   ],
   "source": [
    "dummy_seq_embs.mean(axis=0).mean(),dummy_seq_embs.std(axis=0).mean()"
   ]
  },
  {
   "cell_type": "code",
   "execution_count": 105,
   "metadata": {},
   "outputs": [
    {
     "data": {
      "text/plain": [
       "(tensor(-0.0047, device='cuda:0'), tensor(0.5673, device='cuda:0'))"
      ]
     },
     "execution_count": 105,
     "metadata": {},
     "output_type": "execute_result"
    }
   ],
   "source": [
    "dummy_label_embs.mean(axis=0).mean(),dummy_label_embs.std(axis=0).mean()"
   ]
  },
  {
   "cell_type": "code",
   "execution_count": 106,
   "metadata": {},
   "outputs": [
    {
     "data": {
      "text/plain": [
       "torch.Size([1100])"
      ]
     },
     "execution_count": 106,
     "metadata": {},
     "output_type": "execute_result"
    }
   ],
   "source": [
    "dummy_seq_embs.mean(axis=0).shape"
   ]
  },
  {
   "cell_type": "code",
   "execution_count": 130,
   "metadata": {},
   "outputs": [
    {
     "name": "stderr",
     "output_type": "stream",
     "text": [
      "  0%|          | 0/100 [00:00<?, ?it/s]"
     ]
    },
    {
     "name": "stderr",
     "output_type": "stream",
     "text": [
      " 53%|█████▎    | 53/100 [00:00<00:00, 261.52it/s]"
     ]
    },
    {
     "name": "stdout",
     "output_type": "stream",
     "text": [
      "epoch 0, loss 0.693\n",
      "epoch 1, loss 0.689\n",
      "epoch 2, loss 0.701\n",
      "epoch 3, loss 0.674\n",
      "epoch 4, loss 0.672\n",
      "epoch 5, loss 0.646\n",
      "epoch 6, loss 0.627\n",
      "epoch 7, loss 0.593\n",
      "epoch 8, loss 0.577\n",
      "epoch 9, loss 0.586\n",
      "epoch 10, loss 0.507\n",
      "epoch 11, loss 0.503\n",
      "epoch 12, loss 0.452\n",
      "epoch 13, loss 0.417\n",
      "epoch 14, loss 0.346\n",
      "epoch 15, loss 0.269\n",
      "epoch 16, loss 0.250\n",
      "epoch 17, loss 0.346\n",
      "epoch 18, loss 0.227\n",
      "epoch 19, loss 0.164\n",
      "epoch 20, loss 0.114\n",
      "epoch 21, loss 0.142\n",
      "epoch 22, loss 0.063\n",
      "epoch 23, loss 0.084\n",
      "epoch 24, loss 0.063\n",
      "epoch 25, loss 0.043\n",
      "epoch 26, loss 0.034\n",
      "epoch 27, loss 0.022\n",
      "epoch 28, loss 0.024\n",
      "epoch 29, loss 0.013\n",
      "epoch 30, loss 0.006\n",
      "epoch 31, loss 0.004\n",
      "epoch 32, loss 0.003\n",
      "epoch 33, loss 0.002\n",
      "epoch 34, loss 0.002\n",
      "epoch 35, loss 0.001\n",
      "epoch 36, loss 0.001\n",
      "epoch 37, loss 0.000\n",
      "epoch 38, loss 0.000\n",
      "epoch 39, loss 0.000\n",
      "epoch 40, loss 0.000\n",
      "epoch 41, loss 0.000\n",
      "epoch 42, loss 0.000\n",
      "epoch 43, loss 0.000\n",
      "epoch 44, loss 0.000\n",
      "epoch 45, loss 0.000\n",
      "epoch 46, loss 0.000\n",
      "epoch 47, loss 0.000\n",
      "epoch 48, loss 0.000\n",
      "epoch 49, loss 0.000\n",
      "epoch 50, loss 0.000\n",
      "epoch 51, loss 0.000\n",
      "epoch 52, loss 0.000\n"
     ]
    },
    {
     "name": "stderr",
     "output_type": "stream",
     "text": [
      "100%|██████████| 100/100 [00:00<00:00, 260.74it/s]\n"
     ]
    },
    {
     "name": "stdout",
     "output_type": "stream",
     "text": [
      "epoch 53, loss 0.000\n",
      "epoch 54, loss 0.000\n",
      "epoch 55, loss 0.000\n",
      "epoch 56, loss 0.000\n",
      "epoch 57, loss 0.000\n",
      "epoch 58, loss 0.000\n",
      "epoch 59, loss 0.000\n",
      "epoch 60, loss 0.000\n",
      "epoch 61, loss 0.000\n",
      "epoch 62, loss 0.000\n",
      "epoch 63, loss 0.000\n",
      "epoch 64, loss 0.000\n",
      "epoch 65, loss 0.000\n",
      "epoch 66, loss 0.000\n",
      "epoch 67, loss 0.000\n",
      "epoch 68, loss 0.000\n",
      "epoch 69, loss 0.000\n",
      "epoch 70, loss 0.000\n",
      "epoch 71, loss 0.000\n",
      "epoch 72, loss 0.000\n",
      "epoch 73, loss 0.000\n",
      "epoch 74, loss 0.000\n",
      "epoch 75, loss 0.000\n",
      "epoch 76, loss 0.000\n",
      "epoch 77, loss 0.000\n",
      "epoch 78, loss 0.000\n",
      "epoch 79, loss 0.000\n",
      "epoch 80, loss 0.000\n",
      "epoch 81, loss 0.000\n",
      "epoch 82, loss 0.000\n",
      "epoch 83, loss 0.000\n",
      "epoch 84, loss 0.000\n",
      "epoch 85, loss 0.000\n",
      "epoch 86, loss 0.000\n",
      "epoch 87, loss 0.000\n",
      "epoch 88, loss 0.000\n",
      "epoch 89, loss 0.000\n",
      "epoch 90, loss 0.000\n",
      "epoch 91, loss 0.000\n",
      "epoch 92, loss 0.000\n",
      "epoch 93, loss 0.000\n",
      "epoch 94, loss 0.000\n",
      "epoch 95, loss 0.000\n",
      "epoch 96, loss 0.000\n",
      "epoch 97, loss 0.000\n",
      "epoch 98, loss 0.000\n",
      "epoch 99, loss 0.000\n"
     ]
    },
    {
     "data": {
      "image/png": "[encoded data removed]",
      "text/plain": [
       "<Figure size 640x480 with 1 Axes>"
      ]
     },
     "metadata": {},
     "output_type": "display_data"
    }
   ],
   "source": [
    "seed_everything(42,'cuda')\n",
    "#TODO: REMOVE THIS\n",
    "device = 'cuda'\n",
    "\n",
    "dummy_seq_embs = torch.load('../seq_emb_test.pt')\n",
    "dummy_label_embs = torch.load('../label_emb_test.pt')\n",
    "dummy_labels = torch.load('../label_multihots_test.pt')\n",
    "\n",
    "\n",
    "num_labels =100\n",
    "#dummy_seq_embs = torch.rand((38,1100),device=device)\n",
    "#dummy_label_embs = torch.rand((num_labels,1100),device=device)\n",
    "#dummy_labels = (torch.rand((38,num_labels),device=device)>=0.5).long()\n",
    "\n",
    "\n",
    "#dummy_seq_embs = (dummy_seq_embs - dummy_seq_embs.mean(axis=0))/dummy_seq_embs.std(axis=0)\n",
    "#dummy_label_embs = (dummy_label_embs - dummy_label_embs.mean(axis=0))/dummy_label_embs.std(axis=0)\n",
    "\n",
    "model = ProTCL(\n",
    "        protein_embedding_dim=dummy_seq_embs.shape[1],\n",
    "        label_embedding_dim=dummy_label_embs.shape[1],\n",
    "        latent_dim=1024,\n",
    "        output_mlp_num_layers=4,\n",
    "        output_mlp_hidden_dim_scale_factor=2,\n",
    "        output_mlp_normalization=None\n",
    "\n",
    "    ).to(device)\n",
    "criterion = torch.nn.BCEWithLogitsLoss(reduction='mean')\n",
    "optimizer = torch.optim.Adam(model.parameters(), lr=3e-4)\n",
    "model.train()\n",
    "\n",
    "\n",
    "\n",
    "NUM_EPOCHS = 100\n",
    "gradient_accumulation_steps=1\n",
    "clip_value=1\n",
    "scaler = GradScaler()\n",
    "training_step=0\n",
    "losses = []\n",
    "all_joint_embeddings = []\n",
    "accuracies = []\n",
    "for epoch in tqdm(range(NUM_EPOCHS)):\n",
    "    \n",
    "    \n",
    "    training_step+=1\n",
    "    correct = 0\n",
    "    with autocast():\n",
    "        logits,joint_embeddings = model(sequence_embeddings=dummy_seq_embs,label_embeddings=dummy_label_embs)\n",
    "\n",
    "        # Compute loss, normalized by the number of gradient accumulation steps\n",
    "        loss = criterion(logits, dummy_labels.float())  / \\\n",
    "            gradient_accumulation_steps\n",
    "\n",
    "    \n",
    "    accuracies.append((((torch.sigmoid(logits)>0.5)*1==dummy_labels)*1.0).mean().item())\n",
    "\n",
    "    all_joint_embeddings.append(joint_embeddings.detach().mean(axis=0).mean().item())\n",
    "    \n",
    "    # Backward pass with mixed precision\n",
    "    scaler.scale(loss).backward()\n",
    "\n",
    "    # Gradient accumulation every GRADIENT_ACCUMULATION_STEPS\n",
    "    if (training_step % gradient_accumulation_steps == 0):\n",
    "        \n",
    "        # Unscales the gradients of optimizer's assigned params in-place\n",
    "        scaler.unscale_(optimizer)\n",
    "        \n",
    "        # Apply gradient clipping\n",
    "        torch.nn.utils.clip_grad_value_(model.parameters(), clip_value=clip_value)\n",
    "        \n",
    "        scaler.step(optimizer)\n",
    "        scaler.update()\n",
    "        optimizer.zero_grad()\n",
    "                \n",
    "        print(\"epoch {}, loss {:.3f}\".format(epoch, loss.item()))\n",
    "        losses.append(loss.item())\n",
    "\n",
    "    \n",
    "plt.plot(losses)\n",
    "plt.show()\n"
   ]
  },
  {
   "cell_type": "code",
   "execution_count": 111,
   "metadata": {},
   "outputs": [
    {
     "data": {
      "text/plain": [
       "torch.Size([38, 10])"
      ]
     },
     "execution_count": 111,
     "metadata": {},
     "output_type": "execute_result"
    }
   ],
   "source": [
    "dummy_labels.shape"
   ]
  },
  {
   "cell_type": "code",
   "execution_count": 122,
   "metadata": {},
   "outputs": [
    {
     "data": {
      "text/plain": [
       "tensor(1., device='cuda:0')"
      ]
     },
     "execution_count": 122,
     "metadata": {},
     "output_type": "execute_result"
    }
   ],
   "source": []
  },
  {
   "cell_type": "code",
   "execution_count": 131,
   "metadata": {},
   "outputs": [
    {
     "data": {
      "text/plain": [
       "[<matplotlib.lines.Line2D at 0x7f75d4274910>]"
      ]
     },
     "execution_count": 131,
     "metadata": {},
     "output_type": "execute_result"
    },
    {
     "data": {
      "image/png": "[encoded data removed]",
      "text/plain": [
       "<Figure size 640x480 with 1 Axes>"
      ]
     },
     "metadata": {},
     "output_type": "display_data"
    }
   ],
   "source": [
    "plt.plot(accuracies)"
   ]
  },
  {
   "cell_type": "code",
   "execution_count": 48,
   "metadata": {},
   "outputs": [
    {
     "data": {
      "text/plain": [
       "[<matplotlib.lines.Line2D at 0x7f75db5af450>]"
      ]
     },
     "execution_count": 48,
     "metadata": {},
     "output_type": "execute_result"
    },
    {
     "data": {
      "image/png": "[encoded data removed]",
      "text/plain": [
       "<Figure size 640x480 with 1 Axes>"
      ]
     },
     "metadata": {},
     "output_type": "display_data"
    }
   ],
   "source": [
    "plt.plot([i[0] for i in all_joint_embeddings])"
   ]
  },
  {
   "cell_type": "code",
   "execution_count": 40,
   "metadata": {},
   "outputs": [
    {
     "data": {
      "text/plain": [
       "[<matplotlib.lines.Line2D at 0x7f75db8922d0>]"
      ]
     },
     "execution_count": 40,
     "metadata": {},
     "output_type": "execute_result"
    },
    {
     "data": {
      "image/png": "[encoded data removed]",
      "text/plain": [
       "<Figure size 640x480 with 1 Axes>"
      ]
     },
     "metadata": {},
     "output_type": "display_data"
    }
   ],
   "source": [
    "plt.plot([i[1] for i in all_joint_embeddings])"
   ]
  },
  {
   "cell_type": "code",
   "execution_count": 120,
   "metadata": {},
   "outputs": [
    {
     "data": {
      "text/plain": [
       "tensor(378, device='cuda:0')"
      ]
     },
     "execution_count": 120,
     "metadata": {},
     "output_type": "execute_result"
    }
   ],
   "source": [
    " (torch.rand((38,num_labels),device=device)>=1/670).long().sum()"
   ]
  },
  {
   "cell_type": "code",
   "execution_count": 152,
   "metadata": {},
   "outputs": [
    {
     "name": "stderr",
     "output_type": "stream",
     "text": [
      "  0%|          | 0/100 [00:00<?, ?it/s]"
     ]
    },
    {
     "name": "stderr",
     "output_type": "stream",
     "text": [
      " 57%|█████▋    | 57/100 [00:00<00:00, 283.31it/s]"
     ]
    },
    {
     "name": "stdout",
     "output_type": "stream",
     "text": [
      "epoch 0, loss 0.693\n",
      "epoch 1, loss 0.688\n",
      "epoch 2, loss 0.682\n",
      "epoch 3, loss 0.674\n",
      "epoch 4, loss 0.663\n",
      "epoch 5, loss 0.649\n",
      "epoch 6, loss 0.632\n",
      "epoch 7, loss 0.613\n",
      "epoch 8, loss 0.594\n",
      "epoch 9, loss 0.579\n",
      "epoch 10, loss 0.565\n",
      "epoch 11, loss 0.552\n",
      "epoch 12, loss 0.536\n",
      "epoch 13, loss 0.516\n",
      "epoch 14, loss 0.494\n",
      "epoch 15, loss 0.470\n",
      "epoch 16, loss 0.444\n",
      "epoch 17, loss 0.418\n",
      "epoch 18, loss 0.392\n",
      "epoch 19, loss 0.365\n",
      "epoch 20, loss 0.337\n",
      "epoch 21, loss 0.309\n",
      "epoch 22, loss 0.282\n",
      "epoch 23, loss 0.255\n",
      "epoch 24, loss 0.231\n",
      "epoch 25, loss 0.208\n",
      "epoch 26, loss 0.187\n",
      "epoch 27, loss 0.167\n",
      "epoch 28, loss 0.149\n",
      "epoch 29, loss 0.133\n",
      "epoch 30, loss 0.120\n",
      "epoch 31, loss 0.107\n",
      "epoch 32, loss 0.096\n",
      "epoch 33, loss 0.085\n",
      "epoch 34, loss 0.076\n",
      "epoch 35, loss 0.068\n",
      "epoch 36, loss 0.062\n",
      "epoch 37, loss 0.055\n",
      "epoch 38, loss 0.050\n",
      "epoch 39, loss 0.044\n",
      "epoch 40, loss 0.040\n",
      "epoch 41, loss 0.035\n",
      "epoch 42, loss 0.032\n",
      "epoch 43, loss 0.028\n",
      "epoch 44, loss 0.025\n",
      "epoch 45, loss 0.022\n",
      "epoch 46, loss 0.019\n",
      "epoch 47, loss 0.017\n",
      "epoch 48, loss 0.015\n",
      "epoch 49, loss 0.013\n",
      "epoch 50, loss 0.012\n",
      "epoch 51, loss 0.010\n",
      "epoch 52, loss 0.009\n",
      "epoch 53, loss 0.007\n",
      "epoch 54, loss 0.006\n",
      "epoch 55, loss 0.005\n",
      "epoch 56, loss 0.005\n",
      "epoch 57, loss 0.004\n"
     ]
    },
    {
     "name": "stderr",
     "output_type": "stream",
     "text": [
      "100%|██████████| 100/100 [00:00<00:00, 285.88it/s]\n"
     ]
    },
    {
     "name": "stdout",
     "output_type": "stream",
     "text": [
      "epoch 58, loss 0.003\n",
      "epoch 59, loss 0.003\n",
      "epoch 60, loss 0.002\n",
      "epoch 61, loss 0.002\n",
      "epoch 62, loss 0.002\n",
      "epoch 63, loss 0.001\n",
      "epoch 64, loss 0.001\n",
      "epoch 65, loss 0.001\n",
      "epoch 66, loss 0.001\n",
      "epoch 67, loss 0.001\n",
      "epoch 68, loss 0.000\n",
      "epoch 69, loss 0.000\n",
      "epoch 70, loss 0.000\n",
      "epoch 71, loss 0.000\n",
      "epoch 72, loss 0.000\n",
      "epoch 73, loss 0.000\n",
      "epoch 74, loss 0.000\n",
      "epoch 75, loss 0.000\n",
      "epoch 76, loss 0.000\n",
      "epoch 77, loss 0.000\n",
      "epoch 78, loss 0.000\n",
      "epoch 79, loss 0.000\n",
      "epoch 80, loss 0.000\n",
      "epoch 81, loss 0.000\n",
      "epoch 82, loss 0.000\n",
      "epoch 83, loss 0.000\n",
      "epoch 84, loss 0.000\n",
      "epoch 85, loss 0.000\n",
      "epoch 86, loss 0.000\n",
      "epoch 87, loss 0.000\n",
      "epoch 88, loss 0.000\n",
      "epoch 89, loss 0.000\n",
      "epoch 90, loss 0.000\n",
      "epoch 91, loss 0.000\n",
      "epoch 92, loss 0.000\n",
      "epoch 93, loss 0.000\n",
      "epoch 94, loss 0.000\n",
      "epoch 95, loss 0.000\n",
      "epoch 96, loss 0.000\n",
      "epoch 97, loss 0.000\n",
      "epoch 98, loss 0.000\n",
      "epoch 99, loss 0.000\n"
     ]
    },
    {
     "name": "stderr",
     "output_type": "stream",
     "text": [
      " 59%|█████▉    | 59/100 [00:00<00:00, 289.82it/s]"
     ]
    },
    {
     "name": "stdout",
     "output_type": "stream",
     "text": [
      "epoch 0, loss 0.693\n",
      "epoch 1, loss 0.689\n",
      "epoch 2, loss 0.683\n",
      "epoch 3, loss 0.675\n",
      "epoch 4, loss 0.665\n",
      "epoch 5, loss 0.650\n",
      "epoch 6, loss 0.632\n",
      "epoch 7, loss 0.612\n",
      "epoch 8, loss 0.596\n",
      "epoch 9, loss 0.597\n",
      "epoch 10, loss 0.566\n",
      "epoch 11, loss 0.558\n",
      "epoch 12, loss 0.537\n",
      "epoch 13, loss 0.520\n",
      "epoch 14, loss 0.500\n",
      "epoch 15, loss 0.474\n",
      "epoch 16, loss 0.456\n",
      "epoch 17, loss 0.416\n",
      "epoch 18, loss 0.398\n",
      "epoch 19, loss 0.365\n",
      "epoch 20, loss 0.320\n",
      "epoch 21, loss 0.295\n",
      "epoch 22, loss 0.279\n",
      "epoch 23, loss 0.240\n",
      "epoch 24, loss 0.193\n",
      "epoch 25, loss 0.177\n",
      "epoch 26, loss 0.167\n",
      "epoch 27, loss 0.127\n",
      "epoch 28, loss 0.101\n",
      "epoch 29, loss 0.099\n",
      "epoch 30, loss 0.074\n",
      "epoch 31, loss 0.058\n",
      "epoch 32, loss 0.057\n",
      "epoch 33, loss 0.038\n",
      "epoch 34, loss 0.036\n",
      "epoch 35, loss 0.028\n",
      "epoch 36, loss 0.020\n",
      "epoch 37, loss 0.019\n",
      "epoch 38, loss 0.012\n",
      "epoch 39, loss 0.011\n",
      "epoch 40, loss 0.007\n",
      "epoch 41, loss 0.006\n",
      "epoch 42, loss 0.005\n",
      "epoch 43, loss 0.003\n",
      "epoch 44, loss 0.003\n",
      "epoch 45, loss 0.002\n",
      "epoch 46, loss 0.001\n",
      "epoch 47, loss 0.001\n",
      "epoch 48, loss 0.001\n",
      "epoch 49, loss 0.001\n",
      "epoch 50, loss 0.001\n",
      "epoch 51, loss 0.000\n",
      "epoch 52, loss 0.000\n",
      "epoch 53, loss 0.000\n",
      "epoch 54, loss 0.000\n",
      "epoch 55, loss 0.000\n",
      "epoch 56, loss 0.000\n",
      "epoch 57, loss 0.000\n",
      "epoch 58, loss 0.000\n"
     ]
    },
    {
     "name": "stderr",
     "output_type": "stream",
     "text": [
      "100%|██████████| 100/100 [00:00<00:00, 288.58it/s]\n"
     ]
    },
    {
     "name": "stdout",
     "output_type": "stream",
     "text": [
      "epoch 59, loss 0.000\n",
      "epoch 60, loss 0.000\n",
      "epoch 61, loss 0.000\n",
      "epoch 62, loss 0.000\n",
      "epoch 63, loss 0.000\n",
      "epoch 64, loss 0.000\n",
      "epoch 65, loss 0.000\n",
      "epoch 66, loss 0.000\n",
      "epoch 67, loss 0.000\n",
      "epoch 68, loss 0.000\n",
      "epoch 69, loss 0.000\n",
      "epoch 70, loss 0.000\n",
      "epoch 71, loss 0.000\n",
      "epoch 72, loss 0.000\n",
      "epoch 73, loss 0.000\n",
      "epoch 74, loss 0.000\n",
      "epoch 75, loss 0.000\n",
      "epoch 76, loss 0.000\n",
      "epoch 77, loss 0.000\n",
      "epoch 78, loss 0.000\n",
      "epoch 79, loss 0.000\n",
      "epoch 80, loss 0.000\n",
      "epoch 81, loss 0.000\n",
      "epoch 82, loss 0.000\n",
      "epoch 83, loss 0.000\n",
      "epoch 84, loss 0.000\n",
      "epoch 85, loss 0.000\n",
      "epoch 86, loss 0.000\n",
      "epoch 87, loss 0.000\n",
      "epoch 88, loss 0.000\n",
      "epoch 89, loss 0.000\n",
      "epoch 90, loss 0.000\n",
      "epoch 91, loss 0.000\n",
      "epoch 92, loss 0.000\n",
      "epoch 93, loss 0.000\n",
      "epoch 94, loss 0.000\n",
      "epoch 95, loss 0.000\n",
      "epoch 96, loss 0.000\n",
      "epoch 97, loss 0.000\n",
      "epoch 98, loss 0.000\n",
      "epoch 99, loss 0.000\n"
     ]
    },
    {
     "name": "stderr",
     "output_type": "stream",
     "text": [
      " 26%|██▌       | 26/100 [00:00<00:00, 253.10it/s]"
     ]
    },
    {
     "name": "stdout",
     "output_type": "stream",
     "text": [
      "epoch 0, loss 0.707\n",
      "epoch 1, loss 0.428\n",
      "epoch 2, loss 0.317\n",
      "epoch 3, loss 0.197\n",
      "epoch 4, loss 0.160\n",
      "epoch 5, loss 0.106\n",
      "epoch 6, loss 0.085\n",
      "epoch 7, loss 0.064\n",
      "epoch 8, loss 0.043\n",
      "epoch 9, loss 0.034\n",
      "epoch 10, loss 0.026\n",
      "epoch 11, loss 0.019\n",
      "epoch 12, loss 0.015\n",
      "epoch 13, loss 0.012\n",
      "epoch 14, loss 0.009\n",
      "epoch 15, loss 0.007\n",
      "epoch 16, loss 0.006\n",
      "epoch 17, loss 0.005\n",
      "epoch 18, loss 0.004\n",
      "epoch 19, loss 0.003\n",
      "epoch 20, loss 0.003\n",
      "epoch 21, loss 0.002\n",
      "epoch 22, loss 0.002\n",
      "epoch 23, loss 0.002\n",
      "epoch 24, loss 0.002\n",
      "epoch 25, loss 0.001\n",
      "epoch 26, loss 0.001\n",
      "epoch 27, loss 0.001\n",
      "epoch 28, loss 0.001\n",
      "epoch 29, loss 0.001\n",
      "epoch 30, loss 0.001\n",
      "epoch 31, loss 0.001\n",
      "epoch 32, loss 0.001\n",
      "epoch 33, loss 0.001\n",
      "epoch 34, loss 0.001\n",
      "epoch 35, loss 0.001\n",
      "epoch 36, loss 0.001\n",
      "epoch 37, loss 0.001\n",
      "epoch 38, loss 0.001\n",
      "epoch 39, loss 0.001\n",
      "epoch 40, loss 0.001\n",
      "epoch 41, loss 0.000\n",
      "epoch 42, loss 0.000\n",
      "epoch 43, loss 0.000\n",
      "epoch 44, loss 0.000\n",
      "epoch 45, loss 0.000\n",
      "epoch 46, loss 0.000\n",
      "epoch 47, loss 0.000\n",
      "epoch 48, loss 0.000\n",
      "epoch 49, loss 0.000\n",
      "epoch 50, loss 0.000\n",
      "epoch 51, loss 0.000\n",
      "epoch 52, loss 0.000\n"
     ]
    },
    {
     "name": "stderr",
     "output_type": "stream",
     "text": [
      "100%|██████████| 100/100 [00:00<00:00, 260.01it/s]"
     ]
    },
    {
     "name": "stdout",
     "output_type": "stream",
     "text": [
      "epoch 53, loss 0.000\n",
      "epoch 54, loss 0.000\n",
      "epoch 55, loss 0.000\n",
      "epoch 56, loss 0.000\n",
      "epoch 57, loss 0.000\n",
      "epoch 58, loss 0.000\n",
      "epoch 59, loss 0.000\n",
      "epoch 60, loss 0.000\n",
      "epoch 61, loss 0.000\n",
      "epoch 62, loss 0.000\n",
      "epoch 63, loss 0.000\n",
      "epoch 64, loss 0.000\n",
      "epoch 65, loss 0.000\n",
      "epoch 66, loss 0.000\n",
      "epoch 67, loss 0.000\n",
      "epoch 68, loss 0.000\n",
      "epoch 69, loss 0.000\n",
      "epoch 70, loss 0.000\n",
      "epoch 71, loss 0.000\n",
      "epoch 72, loss 0.000\n",
      "epoch 73, loss 0.000\n",
      "epoch 74, loss 0.000\n",
      "epoch 75, loss 0.000\n",
      "epoch 76, loss 0.000\n",
      "epoch 77, loss 0.000\n",
      "epoch 78, loss 0.000\n",
      "epoch 79, loss 0.000\n",
      "epoch 80, loss 0.000\n",
      "epoch 81, loss 0.000\n",
      "epoch 82, loss 0.000\n",
      "epoch 83, loss 0.000\n",
      "epoch 84, loss 0.000\n",
      "epoch 85, loss 0.000\n",
      "epoch 86, loss 0.000\n",
      "epoch 87, loss 0.000\n",
      "epoch 88, loss 0.000\n",
      "epoch 89, loss 0.000\n",
      "epoch 90, loss 0.000\n",
      "epoch 91, loss 0.000\n",
      "epoch 92, loss 0.000\n",
      "epoch 93, loss 0.000\n",
      "epoch 94, loss 0.000\n",
      "epoch 95, loss 0.000\n",
      "epoch 96, loss 0.000\n",
      "epoch 97, loss 0.000\n",
      "epoch 98, loss 0.000\n",
      "epoch 99, loss 0.000\n"
     ]
    },
    {
     "name": "stderr",
     "output_type": "stream",
     "text": [
      "\n"
     ]
    },
    {
     "data": {
      "text/plain": [
       "[]"
      ]
     },
     "execution_count": 152,
     "metadata": {},
     "output_type": "execute_result"
    },
    {
     "data": {
      "image/png": "[encoded data removed]",
      "text/plain": [
       "<Figure size 640x480 with 1 Axes>"
      ]
     },
     "metadata": {},
     "output_type": "display_data"
    }
   ],
   "source": [
    "seed_everything(42,'cuda')\n",
    "#TODO: REMOVE THIS\n",
    "device = 'cuda'\n",
    "\n",
    "dummy_seq_embs = torch.load('../seq_emb_test.pt')\n",
    "dummy_label_embs = torch.load('../label_emb_test.pt')\n",
    "dummy_labels = torch.load('../label_multihots_test.pt')\n",
    "\n",
    "\n",
    "num_labels =10\n",
    "# dummy_seq_embs = torch.rand((38,1100),device=device)\n",
    "# dummy_label_embs = torch.rand((num_labels,1024),device=device)\n",
    "# dummy_labels = (torch.rand((38,num_labels),device=device)>=0.5).long()\n",
    "\n",
    "model = ProTCL(\n",
    "        protein_embedding_dim=dummy_seq_embs.shape[1],\n",
    "        label_embedding_dim=dummy_label_embs.shape[1],\n",
    "        latent_dim=1024,\n",
    "        output_mlp_num_layers=4,\n",
    "        output_mlp_hidden_dim_scale_factor=2\n",
    "\n",
    "    ).to(device)\n",
    "criterion = torch.nn.BCEWithLogitsLoss(reduction='mean')\n",
    "optimizer = torch.optim.Adam(model.parameters(), lr=1e-4)\n",
    "model.train()\n",
    "\n",
    "\n",
    "\n",
    "NUM_EPOCHS = 100\n",
    "gradient_accumulation_steps=1\n",
    "clip_value=.1\n",
    "\n",
    "scaler = GradScaler()\n",
    "training_step=0\n",
    "losses = []\n",
    "for epoch in tqdm(range(NUM_EPOCHS)):\n",
    "    \n",
    "    \n",
    "    training_step+=1\n",
    "    \n",
    "    with autocast():\n",
    "        logits = model(sequence_embeddings=dummy_seq_embs,label_embeddings=dummy_label_embs)\n",
    "\n",
    "        # Compute loss, normalized by the number of gradient accumulation steps\n",
    "        loss = criterion(logits, dummy_labels.float())  / \\\n",
    "            gradient_accumulation_steps\n",
    "\n",
    "    # Backward pass with mixed precision\n",
    "    scaler.scale(loss).backward()\n",
    "\n",
    "    # Gradient accumulation every GRADIENT_ACCUMULATION_STEPS\n",
    "    if (training_step % gradient_accumulation_steps == 0):\n",
    "        \n",
    "        # Unscales the gradients of optimizer's assigned params in-place\n",
    "        #scaler.unscale_(optimizer)\n",
    "        \n",
    "        # Apply gradient clipping\n",
    "        torch.nn.utils.clip_grad_value_(model.parameters(), clip_value=clip_value)\n",
    "        \n",
    "        scaler.step(optimizer)\n",
    "        scaler.update()\n",
    "        optimizer.zero_grad()\n",
    "                \n",
    "        print(\"epoch {}, loss {:.3f}\".format(epoch, loss.item()))\n",
    "        losses.append(loss.item())\n",
    "\n",
    "    \n",
    "plt.plot(losses,label='without unscaling')\n",
    "\n",
    "model = ProTCL(\n",
    "        protein_embedding_dim=dummy_seq_embs.shape[1],\n",
    "        label_embedding_dim=dummy_label_embs.shape[1],\n",
    "        latent_dim=1024,\n",
    "        output_mlp_num_layers=4,\n",
    "        output_mlp_hidden_dim_scale_factor=2\n",
    "\n",
    "    ).to(device)\n",
    "criterion = torch.nn.BCEWithLogitsLoss(reduction='mean')\n",
    "optimizer = torch.optim.Adam(model.parameters(), lr=1e-4)\n",
    "model.train()\n",
    "\n",
    "\n",
    "\n",
    "NUM_EPOCHS = 100\n",
    "gradient_accumulation_steps=1\n",
    "clip_value=.1\n",
    "\n",
    "scaler = GradScaler()\n",
    "training_step=0\n",
    "losses = []\n",
    "for epoch in tqdm(range(NUM_EPOCHS)):\n",
    "    \n",
    "    \n",
    "    training_step+=1\n",
    "    \n",
    "    with autocast():\n",
    "        logits = model(sequence_embeddings=dummy_seq_embs,label_embeddings=dummy_label_embs)\n",
    "\n",
    "        # Compute loss, normalized by the number of gradient accumulation steps\n",
    "        loss = criterion(logits, dummy_labels.float())  / \\\n",
    "            gradient_accumulation_steps\n",
    "\n",
    "    # Backward pass with mixed precision\n",
    "    scaler.scale(loss).backward()\n",
    "\n",
    "    # Gradient accumulation every GRADIENT_ACCUMULATION_STEPS\n",
    "    if (training_step % gradient_accumulation_steps == 0):\n",
    "        \n",
    "        # Unscales the gradients of optimizer's assigned params in-place\n",
    "        scaler.unscale_(optimizer)\n",
    "        \n",
    "        # Apply gradient clipping\n",
    "        torch.nn.utils.clip_grad_value_(model.parameters(), clip_value=clip_value)\n",
    "        \n",
    "        scaler.step(optimizer)\n",
    "        scaler.update()\n",
    "        optimizer.zero_grad()\n",
    "                \n",
    "        print(\"epoch {}, loss {:.3f}\".format(epoch, loss.item()))\n",
    "        losses.append(loss.item())\n",
    "\n",
    "    \n",
    "plt.plot(losses,label='unscaling gradients')\n",
    "\n",
    "\n",
    "\n",
    "model = ProTCL(\n",
    "        protein_embedding_dim=dummy_seq_embs.shape[1],\n",
    "        label_embedding_dim=dummy_label_embs.shape[1],\n",
    "        latent_dim=1024,\n",
    "        output_mlp_num_layers=4,\n",
    "        output_mlp_hidden_dim_scale_factor=2,\n",
    "        outout_mlp_add_batchnorm='BN'\n",
    "\n",
    "\n",
    "    ).to(device)\n",
    "criterion = torch.nn.BCEWithLogitsLoss(reduction='mean')\n",
    "optimizer = torch.optim.Adam(model.parameters(), lr=1e-4)\n",
    "model.train()\n",
    "\n",
    "\n",
    "\n",
    "NUM_EPOCHS = 100\n",
    "gradient_accumulation_steps=1\n",
    "clip_value=.1\n",
    "\n",
    "scaler = GradScaler()\n",
    "training_step=0\n",
    "losses = []\n",
    "for epoch in tqdm(range(NUM_EPOCHS)):\n",
    "    \n",
    "    \n",
    "    training_step+=1\n",
    "    \n",
    "    with autocast():\n",
    "        logits = model(sequence_embeddings=dummy_seq_embs,label_embeddings=dummy_label_embs)\n",
    "\n",
    "        # Compute loss, normalized by the number of gradient accumulation steps\n",
    "        loss = criterion(logits, dummy_labels.float())  / \\\n",
    "            gradient_accumulation_steps\n",
    "\n",
    "    # Backward pass with mixed precision\n",
    "    scaler.scale(loss).backward()\n",
    "\n",
    "    # Gradient accumulation every GRADIENT_ACCUMULATION_STEPS\n",
    "    if (training_step % gradient_accumulation_steps == 0):\n",
    "        \n",
    "        # Unscales the gradients of optimizer's assigned params in-place\n",
    "        scaler.unscale_(optimizer)\n",
    "        \n",
    "        # Apply gradient clipping\n",
    "        torch.nn.utils.clip_grad_value_(model.parameters(), clip_value=clip_value)\n",
    "        \n",
    "        scaler.step(optimizer)\n",
    "        scaler.update()\n",
    "        optimizer.zero_grad()\n",
    "                \n",
    "        print(\"epoch {}, loss {:.3f}\".format(epoch, loss.item()))\n",
    "        losses.append(loss.item())\n",
    "\n",
    "    \n",
    "plt.plot(losses,label='unscaling gradients + BatchNorm in MLP')\n",
    "\n",
    "\n",
    "\n",
    "plt.legend()\n",
    "plt.plot()\n"
   ]
  },
  {
   "cell_type": "code",
   "execution_count": null,
   "metadata": {},
   "outputs": [],
   "source": []
  }
 ],
 "metadata": {
  "kernelspec": {
   "display_name": "protein_functions",
   "language": "python",
   "name": "python3"
  },
  "language_info": {
   "codemirror_mode": {
    "name": "ipython",
    "version": 3
   },
   "file_extension": ".py",
   "mimetype": "text/x-python",
   "name": "python",
   "nbconvert_exporter": "python",
   "pygments_lexer": "ipython3",
   "version": "3.11.4"
  },
  "orig_nbformat": 4
 },
 "nbformat": 4,
 "nbformat_minor": 2
}
