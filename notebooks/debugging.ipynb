{
 "cells": [
  {
   "cell_type": "code",
   "execution_count": 1,
   "metadata": {},
   "outputs": [
    {
     "name": "stderr",
     "output_type": "stream",
     "text": [
      "/anaconda/envs/protein_functions/lib/python3.11/site-packages/tqdm/auto.py:21: TqdmWarning: IProgress not found. Please update jupyter and ipywidgets. See https://ipywidgets.readthedocs.io/en/stable/user_install.html\n",
      "  from .autonotebook import tqdm as notebook_tqdm\n"
     ]
    }
   ],
   "source": [
    "import os\n",
    "from pathlib import Path\n",
    "import sys\n",
    "curdir = Path(os.getcwd())\n",
    "sys.path.append(str(curdir.parent.absolute()))\n",
    "from collections import Counter\n",
    "import pandas as pd\n",
    "import matplotlib.pyplot as plt\n",
    "from src.utils.data import read_fasta\n",
    "from src.data.datasets import ProteinDataset\n",
    "import numpy as np\n",
    "from src.utils.data import read_pickle\n",
    "from sklearn.metrics import precision_recall_curve"
   ]
  },
  {
   "cell_type": "code",
   "execution_count": 2,
   "metadata": {},
   "outputs": [],
   "source": [
    "train = read_fasta('../data/swissprot/proteinfer_splits/random/train_GO.fasta')\n",
    "val = read_fasta('../data/swissprot/proteinfer_splits/random/dev_GO.fasta')\n",
    "test = read_fasta('../data/swissprot/proteinfer_splits/random/test_GO.fasta')"
   ]
  },
  {
   "cell_type": "code",
   "execution_count": 6,
   "metadata": {},
   "outputs": [
    {
     "name": "stdout",
     "output_type": "stream",
     "text": [
      "Logging to console...\n",
      "2023-09-28 06:43:20 PDT INFO Using device: cuda\n"
     ]
    }
   ],
   "source": [
    "from src.utils.configs import get_setup\n",
    "from transformers import AutoTokenizer\n",
    "(config, params, paths, paths_list, timestamp, logger, device, ROOT_PATH) = get_setup(\n",
    "    config_path='../configs/base_config.yaml',\n",
    "    run_name=None,\n",
    "    overrides=None,\n",
    "    log_to_console=True,\n",
    "    train_path_name='TRAIN_DATA_PATH',\n",
    "    val_path_name='VAL_DATA_PATH',\n",
    "    test_paths_names=['TEST_DATA_PATH']\n",
    ")\n"
   ]
  },
  {
   "cell_type": "code",
   "execution_count": 8,
   "metadata": {},
   "outputs": [
    {
     "data": {
      "text/plain": [
       "[{'amino_acid_vocabulary_path': './data/vocabularies/amino_acid_vocab.json',\n",
       "  'label_vocabulary_path': './data/vocabularies/GO_label_vocab.json',\n",
       "  'sequence_id_vocabulary_path': './data/vocabularies/sequence_id_vocab.json',\n",
       "  'go_annotations_path': './data/annotations/go_annotations_2019_07_01.pkl',\n",
       "  'data_path': './data/swissprot/proteinfer_splits/random/train_GO.fasta',\n",
       "  'dataset_type': 'train'},\n",
       " {'amino_acid_vocabulary_path': './data/vocabularies/amino_acid_vocab.json',\n",
       "  'label_vocabulary_path': './data/vocabularies/GO_label_vocab.json',\n",
       "  'sequence_id_vocabulary_path': './data/vocabularies/sequence_id_vocab.json',\n",
       "  'go_annotations_path': './data/annotations/go_annotations_2019_07_01.pkl',\n",
       "  'data_path': './data/swissprot/proteinfer_splits/random/dev_GO.fasta',\n",
       "  'dataset_type': 'validation'},\n",
       " {'amino_acid_vocabulary_path': './data/vocabularies/amino_acid_vocab.json',\n",
       "  'label_vocabulary_path': './data/vocabularies/GO_label_vocab.json',\n",
       "  'sequence_id_vocabulary_path': './data/vocabularies/sequence_id_vocab.json',\n",
       "  'go_annotations_path': './data/annotations/go_annotations_2019_07_01.pkl',\n",
       "  'data_path': './data/swissprot/proteinfer_splits/random/test_GO.fasta',\n",
       "  'dataset_type': 'test'}]"
      ]
     },
     "execution_count": 8,
     "metadata": {},
     "output_type": "execute_result"
    }
   ],
   "source": [
    "paths_list"
   ]
  },
  {
   "cell_type": "code",
   "execution_count": 10,
   "metadata": {},
   "outputs": [],
   "source": [
    "\n",
    "# Initialize label tokenizer\n",
    "label_tokenizer = AutoTokenizer.from_pretrained(\n",
    "    params['LABEL_ENCODER_CHECKPOINT'])\n",
    "\n",
    "# Create datasets\n",
    "datasets = ProteinDataset.create_multiple_datasets(\n",
    "    [{'amino_acid_vocabulary_path': '../data/vocabularies/amino_acid_vocab.json',\n",
    "    'label_vocabulary_path': '../data/vocabularies/GO_label_vocab.json',\n",
    "    'sequence_id_vocabulary_path': '../data/vocabularies/sequence_id_vocab.json',\n",
    "    'go_annotations_path': '../data/annotations/go_annotations_2019_07_01.pkl',\n",
    "    'data_path': '../data/swissprot/proteinfer_splits/random/train_GO.fasta',\n",
    "    'dataset_type': 'train'}],\n",
    "    label_tokenizer=label_tokenizer,\n",
    "    subset_fractions={\n",
    "        \"train\": params[\"TRAIN_SUBSET_FRACTION\"]}\n",
    ")"
   ]
  },
  {
   "cell_type": "code",
   "execution_count": 21,
   "metadata": {},
   "outputs": [],
   "source": [
    "from src.data.datasets import ProteinDataset, calculate_pos_weight, create_multiple_loaders\n",
    "label_sample_sizes = {\n",
    "    \"train\": params[\"TRAIN_LABEL_SAMPLE_SIZE\"]\n",
    "}\n",
    "loaders = create_multiple_loaders(\n",
    "    datasets,\n",
    "    params,\n",
    "    label_sample_sizes=label_sample_sizes,\n",
    "    num_workers=params[\"NUM_WORKERS\"],\n",
    ")"
   ]
  },
  {
   "cell_type": "code",
   "execution_count": 28,
   "metadata": {},
   "outputs": [],
   "source": [
    "a=iter(datasets['train'][0])\n"
   ]
  },
  {
   "cell_type": "code",
   "execution_count": 31,
   "metadata": {},
   "outputs": [
    {
     "data": {
      "text/plain": [
       "torch.Size([32102])"
      ]
     },
     "execution_count": 31,
     "metadata": {},
     "output_type": "execute_result"
    }
   ],
   "source": [
    "next(a)['label_multihots']"
   ]
  },
  {
   "cell_type": "code",
   "execution_count": 62,
   "metadata": {},
   "outputs": [],
   "source": [
    "from joblib import Parallel, delayed, cpu_count\n",
    "import torch\n"
   ]
  },
  {
   "cell_type": "code",
   "execution_count": 63,
   "metadata": {},
   "outputs": [
    {
     "data": {
      "text/plain": [
       "{'a': 3.3333333333333335, 'b': 5.0, 'c': 5.0, 'z': 10.0, 'y': 10.0, 'x': 10.0}"
      ]
     },
     "execution_count": 63,
     "metadata": {},
     "output_type": "execute_result"
    }
   ],
   "source": [
    "d = [('a',[1,'a','b','c']), ('b',[1,'z','b','c','a']), ('c',[1,'a','y','x'])]\n",
    "calculate_label_weights(d)"
   ]
  },
  {
   "cell_type": "code",
   "execution_count": null,
   "metadata": {},
   "outputs": [],
   "source": []
  },
  {
   "cell_type": "code",
   "execution_count": 39,
   "metadata": {},
   "outputs": [],
   "source": [
    "a = Counter()\n",
    "b = Counter()\n",
    "a.update(['a', 'b', 'c'])\n",
    "b.update(['a', 'b', 'c'])\n",
    "all= [a, b]"
   ]
  },
  {
   "cell_type": "code",
   "execution_count": 40,
   "metadata": {},
   "outputs": [],
   "source": [
    "#Summing counters with loop\n",
    "c = Counter()\n",
    "for i in all:\n",
    "    c.update(i)\n"
   ]
  },
  {
   "cell_type": "code",
   "execution_count": 41,
   "metadata": {},
   "outputs": [
    {
     "data": {
      "text/plain": [
       "Counter({'a': 2, 'b': 2, 'c': 2})"
      ]
     },
     "execution_count": 41,
     "metadata": {},
     "output_type": "execute_result"
    },
    {
     "name": "stderr",
     "output_type": "stream",
     "text": [
      "Bad pipe message: %s [b\"\\x03>\\xeb\\xa1\\xcf\\xada\\xe4\\xf0\\x9b\\xe2\\xe6\\xa3R'\\xacw. \\x9e\\x8b[Zl\\xfe\\xefC\\x1f\\xe2G\\xda\"]\n",
      "Bad pipe message: %s [b\"\\xd4E\\xaf\\xa1\\xfb\\xb5\\xf2\\n\\x89&\\xaa\\xa5\\t\\xc1%\\xc7v`\\x00\\x00|\\xc0,\\xc00\\x00\\xa3\\x00\\x9f\\xcc\\xa9\\xcc\\xa8\\xcc\\xaa\\xc0\\xaf\\xc0\\xad\\xc0\\xa3\\xc0\\x9f\\xc0]\\xc0a\\xc0W\\xc0S\\xc0+\\xc0/\\x00\\xa2\\x00\\x9e\\xc0\\xae\\xc0\\xac\\xc0\\xa2\\xc0\\x9e\\xc0\\\\\\xc0`\\xc0V\\xc0R\\xc0$\\xc0(\\x00k\\x00j\\xc0#\\xc0'\\x00g\\x00@\\xc0\\n\\xc0\\x14\\x009\\x008\\xc0\\t\\xc0\\x13\\x003\\x002\\x00\\x9d\\xc0\\xa1\\xc0\\x9d\\xc0Q\\x00\\x9c\\xc0\\xa0\\xc0\\x9c\\xc0P\\x00=\\x00<\\x005\\x00/\\x00\\x9a\\x00\\x99\\xc0\\x07\\xc0\\x11\"]\n",
      "Bad pipe message: %s [b\"\\xec\\x84\\xff\\xfc\\xce\\x02\\xb3\\xeck>!C\\xbb>\\xac\\x9d\\xbc\\xdf\\x00\\x00\\xa6\\xc0,\\xc00\\x00\\xa3\\x00\\x9f\\xcc\\xa9\\xcc\\xa8\\xcc\\xaa\\xc0\\xaf\\xc0\\xad\\xc0\\xa3\\xc0\\x9f\\xc0]\\xc0a\\xc0W\\xc0S\\xc0+\\xc0/\\x00\\xa2\\x00\\x9e\\xc0\\xae\\xc0\\xac\\xc0\\xa2\\xc0\\x9e\\xc0\\\\\\xc0`\\xc0V\\xc0R\\xc0$\\xc0(\\x00k\\x00j\\xc0s\\xc0w\\x00\\xc4\\x00\\xc3\\xc0#\\xc0'\\x00g\\x00@\\xc0r\\xc0v\\x00\\xbe\\x00\\xbd\\xc0\\n\\xc0\\x14\\x009\\x008\\x00\\x88\\x00\\x87\\xc0\\t\\xc0\\x13\\x003\\x002\\x00\\x9a\\x00\\x99\\x00E\\x00D\\xc0\\x07\\xc0\\x11\\xc0\\x08\\xc0\\x12\\x00\\x16\\x00\\x13\\x00\\x9d\\xc0\\xa1\\xc0\\x9d\\xc0Q\\x00\\x9c\\xc0\\xa0\\xc0\\x9c\\xc0P\\x00=\\x00\\xc0\\x00<\\x00\\xba\\x005\\x00\\x84\\x00/\\x00\\x96\\x00A\\x00\\x05\\x00\\n\\x00\\xff\\x01\\x00\\x00j\\x00\\x00\\x00\\x0e\\x00\\x0c\\x00\\x00\\t127.0.0.1\\x00\\x0b\\x00\\x04\\x03\\x00\\x01\\x02\"]\n",
      "Bad pipe message: %s [b'\\xee*\\xfdbV\\x06k\\x13EM`\\xf0\\x98\\x1a\\r\\x1c\\xad\\xcd\\x00\\x00>\\xc0\\x14\\xc0\\n\\x009\\x008\\x007\\x006\\xc0\\x0f\\xc0\\x05\\x005\\xc0\\x13\\xc0\\t\\x003\\x002\\x001\\x000\\xc0\\x0e\\xc0\\x04\\x00/\\x00\\x9a\\x00\\x99\\x00\\x98\\x00\\x97\\x00\\x96\\x00\\x07\\xc0\\x11\\xc0\\x07\\xc0\\x0c']\n",
      "Bad pipe message: %s [b'\\xa2\\x078\\xb9\\xab\\x12e,\\xa8\\x1e5\\xdf@\\x01\\xd8\\x136\\xec\\x00\\x00\\xa2\\xc0\\x14\\xc0\\n\\x009\\x008\\x007\\x006\\x00\\x88\\x00\\x87\\x00\\x86\\x00\\x85\\xc0\\x19\\x00:\\x00\\x89\\xc0\\x0f\\xc0\\x05\\x005\\x00\\x84\\xc0\\x13\\xc0\\t\\x003\\x002\\x001\\x000\\x00\\x9a\\x00\\x99\\x00\\x98\\x00\\x97\\x00E\\x00D\\x00C\\x00B\\xc0\\x18\\x004\\x00\\x9b\\x00F\\xc0\\x0e\\xc0\\x04\\x00/\\x00\\x96\\x00A\\x00\\x07\\xc0\\x11\\xc0\\x07\\xc0\\x16\\x00\\x18\\xc0\\x0c\\xc0\\x02\\x00\\x05']\n",
      "Bad pipe message: %s [b'\\x17\\xf9\\x05\\xb2;\\xa6\\x82;\\x8d\\xac\\xc2\\xf6\\xe2\\xcdQ\\xa7\\x8c\\x11\\x00\\x00>\\xc0\\x14\\xc0\\n\\x009\\x008\\x007\\x006\\xc0\\x0f\\xc0\\x05\\x005\\xc0\\x13\\xc0\\t\\x003\\x002\\x001\\x000\\xc0\\x0e\\xc0\\x04\\x00/\\x00\\x9a\\x00\\x99\\x00\\x98\\x00\\x97\\x00\\x96\\x00\\x07\\xc0\\x11\\xc0\\x07\\xc0\\x0c\\xc0\\x02\\x00\\x05\\x00\\x04\\x00\\xff\\x02\\x01\\x00\\x00C\\x00\\x00\\x00\\x0e\\x00\\x0c\\x00\\x00\\t127.0.0.1\\x00\\x0b\\x00\\x04\\x03\\x00\\x01\\x02\\x00\\n\\x00\\x1c\\x00\\x1a\\x00\\x17\\x00\\x19\\x00\\x1c\\x00\\x1b\\x00\\x18\\x00\\x1a\\x00\\x16\\x00\\x0e\\x00\\r\\x00\\x0b\\x00\\x0c\\x00\\t\\x00\\n\\x00#\\x00\\x00\\x00']\n",
      "Bad pipe message: %s [b'\\xee\\x00\\xbc\\x89\\xc1\\xc2\\xf9\\x80Q\\xc3VDf~\\x16Pk\\xbe\\x00\\x00\\xa2\\xc0\\x14\\xc0\\n\\x009\\x008\\x007\\x006\\x00\\x88\\x00\\x87\\x00\\x86\\x00\\x85\\xc0\\x19\\x00:\\x00\\x89\\xc0\\x0f\\xc0\\x05\\x005\\x00\\x84\\xc0\\x13\\xc0\\t\\x003\\x002\\x001\\x000\\x00\\x9a\\x00\\x99\\x00\\x98\\x00\\x97\\x00E\\x00D\\x00C\\x00B\\xc0\\x18\\x004\\x00\\x9b\\x00F\\xc0\\x0e\\xc0\\x04\\x00/\\x00\\x96\\x00A\\x00\\x07\\xc0\\x11\\xc0\\x07\\xc0\\x16\\x00\\x18\\xc0\\x0c\\xc0\\x02\\x00\\x05\\x00\\x04\\xc0\\x12\\xc0\\x08\\x00\\x16\\x00\\x13\\x00\\x10\\x00\\r\\xc0\\x17\\x00\\x1b\\xc0\\r\\xc0\\x03\\x00\\n\\x00\\x15\\x00\\x12\\x00\\x0f\\x00\\x0c\\x00\\x1a\\x00\\t\\x00\\x14\\x00\\x11\\x00\\x19\\x00\\x08\\x00\\x06\\x00\\x17\\x00\\x03\\xc0\\x10\\xc0\\x06\\xc0\\x15\\xc0\\x0b\\xc0\\x01\\x00\\x02\\x00\\x01\\x00\\xff\\x02\\x01\\x00\\x15']\n",
      "Bad pipe message: %s [b'\\x00\\x02']\n",
      "Bad pipe message: %s [b\"r\\xff\\xd7\\xd0%\\x984\\x85\\x15\\xd5\\xb2$\\xbb\\x98a\\xc7Y5\\x00\\x00\\x86\\xc00\\xc0,\\xc0(\\xc0$\\xc0\\x14\\xc0\\n\\x00\\xa5\\x00\\xa3\\x00\\xa1\\x00\\x9f\\x00k\\x00j\\x00i\\x00h\\x009\\x008\\x007\\x006\\xc02\\xc0.\\xc0*\\xc0&\\xc0\\x0f\\xc0\\x05\\x00\\x9d\\x00=\\x005\\xc0/\\xc0+\\xc0'\\xc0#\\xc0\\x13\\xc0\\t\\x00\\xa4\\x00\\xa2\\x00\\xa0\\x00\\x9e\\x00g\\x00@\\x00\", b'>\\x003\\x002\\x001\\x000\\xc01\\xc0-\\xc0)\\xc0%\\xc0\\x0e\\xc0\\x04\\x00\\x9c\\x00<\\x00/\\x00\\x9a\\x00\\x99\\x00\\x98\\x00\\x97\\x00\\x96\\x00\\x07\\xc0\\x11\\xc0\\x07\\xc0\\x0c\\xc0\\x02\\x00\\x05\\x00\\x04\\x00\\xff\\x02\\x01\\x00\\x00g\\x00\\x00\\x00\\x0e']\n",
      "Bad pipe message: %s [b'b\\x00\\r\\x92N^\\xeb@\\xb2\\xa8\\x0fo\\x02\\x9c\\xc2\\x1c\\xdd\\x83\\x00\\x00\\xf4\\xc00\\xc0,\\xc0(\\xc0$\\xc0\\x14\\xc0\\n\\x00\\xa5\\x00\\xa3\\x00\\xa1\\x00\\x9f\\x00k\\x00j\\x00i\\x00h\\x009\\x008\\x007\\x006\\x00\\x88\\x00\\x87\\x00\\x86\\x00\\x85\\xc0\\x19\\x00\\xa7\\x00m\\x00:\\x00\\x89\\xc02\\xc0.\\xc0*\\xc0&\\xc0\\x0f\\xc0\\x05\\x00\\x9d\\x00=']\n"
     ]
    }
   ],
   "source": [
    "c"
   ]
  },
  {
   "cell_type": "code",
   "execution_count": 20,
   "metadata": {},
   "outputs": [],
   "source": [
    "train = [(k[0],j,\" \".join(k[1:])) for j,k in train]\n",
    "test = [(k[0],j,\" \".join(k[1:])) for j,k in test]\n",
    "val = [(k[0],j,\" \".join(k[1:])) for j,k in val]\n",
    "\n",
    "df = train + val + test"
   ]
  },
  {
   "cell_type": "code",
   "execution_count": 21,
   "metadata": {},
   "outputs": [],
   "source": [
    "df = pd.DataFrame(df,columns=['id','sequence','labels'])"
   ]
  },
  {
   "cell_type": "code",
   "execution_count": 22,
   "metadata": {},
   "outputs": [
    {
     "name": "stdout",
     "output_type": "stream",
     "text": [
      "number of sequences: 522607\n"
     ]
    }
   ],
   "source": [
    "num_sequences = len(df)\n",
    "print('number of sequences:',num_sequences)"
   ]
  },
  {
   "cell_type": "code",
   "execution_count": 23,
   "metadata": {},
   "outputs": [
    {
     "data": {
      "text/html": [
       "<div>\n",
       "<style scoped>\n",
       "    .dataframe tbody tr th:only-of-type {\n",
       "        vertical-align: middle;\n",
       "    }\n",
       "\n",
       "    .dataframe tbody tr th {\n",
       "        vertical-align: top;\n",
       "    }\n",
       "\n",
       "    .dataframe thead th {\n",
       "        text-align: right;\n",
       "    }\n",
       "</style>\n",
       "<table border=\"1\" class=\"dataframe\">\n",
       "  <thead>\n",
       "    <tr style=\"text-align: right;\">\n",
       "      <th></th>\n",
       "      <th>id</th>\n",
       "      <th>sequence</th>\n",
       "      <th>labels</th>\n",
       "    </tr>\n",
       "  </thead>\n",
       "  <tbody>\n",
       "    <tr>\n",
       "      <th>0</th>\n",
       "      <td>P60545</td>\n",
       "      <td>MSKIIEYDETARRAIEAGVNTLADAVRVTLGPRGRHVVLAKAFGGP...</td>\n",
       "      <td>GO:0035639 GO:0032553 GO:0005524 GO:0017076 GO...</td>\n",
       "    </tr>\n",
       "    <tr>\n",
       "      <th>1</th>\n",
       "      <td>Q3KEX7</td>\n",
       "      <td>MKFSEQWLRGWVSPQVDRDALVARLSMAGLEVDSVTPAAGVFSGVV...</td>\n",
       "      <td>GO:0016070 GO:0035639 GO:0004812 GO:0032553 GO...</td>\n",
       "    </tr>\n",
       "    <tr>\n",
       "      <th>2</th>\n",
       "      <td>Q8D2U1</td>\n",
       "      <td>MKSVSIIDIIEKKIFKKKLVEINGWVRTKRNSKLGISFVDVYDGSC...</td>\n",
       "      <td>GO:0016070 GO:0004812 GO:0035639 GO:0032553 GO...</td>\n",
       "    </tr>\n",
       "    <tr>\n",
       "      <th>3</th>\n",
       "      <td>Q95KN1</td>\n",
       "      <td>MKPSLLVFTVYLLWLKDCHCAPTWKDKTDMHGNLKGFSEAGDIDVD...</td>\n",
       "      <td>GO:0044424 GO:0003674 GO:0044464 GO:0043226 GO...</td>\n",
       "    </tr>\n",
       "    <tr>\n",
       "      <th>4</th>\n",
       "      <td>Q98HL0</td>\n",
       "      <td>MNSLDLPGRPENTRIVVAMSGGVDSSVVAGLLKREGYDVVGVTLQL...</td>\n",
       "      <td>GO:0016070 GO:0035639 GO:0032553 GO:0005524 GO...</td>\n",
       "    </tr>\n",
       "  </tbody>\n",
       "</table>\n",
       "</div>"
      ],
      "text/plain": [
       "       id                                           sequence  \\\n",
       "0  P60545  MSKIIEYDETARRAIEAGVNTLADAVRVTLGPRGRHVVLAKAFGGP...   \n",
       "1  Q3KEX7  MKFSEQWLRGWVSPQVDRDALVARLSMAGLEVDSVTPAAGVFSGVV...   \n",
       "2  Q8D2U1  MKSVSIIDIIEKKIFKKKLVEINGWVRTKRNSKLGISFVDVYDGSC...   \n",
       "3  Q95KN1  MKPSLLVFTVYLLWLKDCHCAPTWKDKTDMHGNLKGFSEAGDIDVD...   \n",
       "4  Q98HL0  MNSLDLPGRPENTRIVVAMSGGVDSSVVAGLLKREGYDVVGVTLQL...   \n",
       "\n",
       "                                              labels  \n",
       "0  GO:0035639 GO:0032553 GO:0005524 GO:0017076 GO...  \n",
       "1  GO:0016070 GO:0035639 GO:0004812 GO:0032553 GO...  \n",
       "2  GO:0016070 GO:0004812 GO:0035639 GO:0032553 GO...  \n",
       "3  GO:0044424 GO:0003674 GO:0044464 GO:0043226 GO...  \n",
       "4  GO:0016070 GO:0035639 GO:0032553 GO:0005524 GO...  "
      ]
     },
     "execution_count": 23,
     "metadata": {},
     "output_type": "execute_result"
    }
   ],
   "source": [
    "df.head()"
   ]
  },
  {
   "cell_type": "code",
   "execution_count": 24,
   "metadata": {},
   "outputs": [],
   "source": [
    "df['num_pos'] = df['labels'].str.split(' ').str.len()"
   ]
  },
  {
   "cell_type": "code",
   "execution_count": 25,
   "metadata": {},
   "outputs": [
    {
     "data": {
      "text/plain": [
       "count    522607.000000\n",
       "mean         47.743901\n",
       "std          38.433523\n",
       "min           2.000000\n",
       "25%          25.000000\n",
       "50%          43.000000\n",
       "75%          59.000000\n",
       "max        1008.000000\n",
       "Name: num_pos, dtype: float64"
      ]
     },
     "execution_count": 25,
     "metadata": {},
     "output_type": "execute_result"
    }
   ],
   "source": [
    "df['num_pos'].describe()"
   ]
  },
  {
   "cell_type": "code",
   "execution_count": 26,
   "metadata": {},
   "outputs": [],
   "source": [
    "labels = Counter()\n",
    "\n",
    "vocab = set()\n",
    "amino_freq = Counter()\n",
    "for idx,row in df.iterrows():\n",
    "    sequence = row['sequence']\n",
    "    row_labels = row['labels']\n",
    "    aa_list = list(sequence)\n",
    "    if row_labels =='':\n",
    "        print(row['id'],row['labels'])\n",
    "    vocab.update(aa_list)\n",
    "    amino_freq.update(aa_list)\n",
    "    labels.update(row_labels.split(\" \"))"
   ]
  },
  {
   "cell_type": "code",
   "execution_count": 27,
   "metadata": {},
   "outputs": [
    {
     "name": "stdout",
     "output_type": "stream",
     "text": [
      "# GO Terms: 32102\n"
     ]
    }
   ],
   "source": [
    "print('# GO Terms:',len(labels.keys()))"
   ]
  },
  {
   "cell_type": "code",
   "execution_count": 33,
   "metadata": {},
   "outputs": [
    {
     "name": "stdout",
     "output_type": "stream",
     "text": [
      "GO Terms distribution\n"
     ]
    },
    {
     "data": {
      "text/plain": [
       "count     32102.000000\n",
       "mean        777.250545\n",
       "std        9114.786603\n",
       "min           1.000000\n",
       "25%           4.000000\n",
       "50%          17.000000\n",
       "75%          84.000000\n",
       "max      462356.000000\n",
       "dtype: float64"
      ]
     },
     "execution_count": 33,
     "metadata": {},
     "output_type": "execute_result"
    }
   ],
   "source": [
    "print('GO Terms distribution')\n",
    "go_term_distribution = pd.Series(labels.values(),index=labels.keys()).sort_values(ascending=False)\n",
    "go_term_distribution.describe()"
   ]
  },
  {
   "cell_type": "code",
   "execution_count": 36,
   "metadata": {},
   "outputs": [
    {
     "data": {
      "text/plain": [
       "GO:0003674    88.471069\n",
       "GO:0008150    82.899961\n",
       "GO:0005575    77.051015\n",
       "GO:0009987    70.664955\n",
       "GO:0044464    69.697880\n",
       "                ...    \n",
       "GO:0030290     0.000191\n",
       "GO:0070455     0.000191\n",
       "GO:0044663     0.000191\n",
       "GO:1903856     0.000191\n",
       "GO:0047004     0.000191\n",
       "Length: 32102, dtype: float64"
      ]
     },
     "execution_count": 36,
     "metadata": {},
     "output_type": "execute_result"
    }
   ],
   "source": [
    "go_term_distribution*100/num_sequences"
   ]
  },
  {
   "cell_type": "code",
   "execution_count": 51,
   "metadata": {},
   "outputs": [
    {
     "data": {
      "text/plain": [
       "[<matplotlib.lines.Line2D at 0x7fee751cf990>]"
      ]
     },
     "execution_count": 51,
     "metadata": {},
     "output_type": "execute_result"
    },
    {
     "data": {
      "image/png": "[encoded data removed]",
      "text/plain": [
       "<Figure size 640x480 with 1 Axes>"
      ]
     },
     "metadata": {},
     "output_type": "display_data"
    }
   ],
   "source": [
    "# Cumulative distribution of GO terms. Shows the number of GO terms that cover X% of the data\n",
    "plt.plot(range(len(go_term_distribution)),(go_term_distribution*100/go_term_distribution.sum()).cumsum())"
   ]
  },
  {
   "cell_type": "code",
   "execution_count": 9,
   "metadata": {},
   "outputs": [
    {
     "name": "stdout",
     "output_type": "stream",
     "text": [
      "Sequence length distribution\n"
     ]
    },
    {
     "data": {
      "text/plain": [
       "count    522607.000000\n",
       "mean        368.042215\n",
       "std         334.721845\n",
       "min           2.000000\n",
       "25%         179.000000\n",
       "50%         303.000000\n",
       "75%         456.000000\n",
       "max       35213.000000\n",
       "Name: sequence, dtype: float64"
      ]
     },
     "execution_count": 9,
     "metadata": {},
     "output_type": "execute_result"
    }
   ],
   "source": [
    "print('Sequence length distribution')\n",
    "\n",
    "df['sequence'].apply(len).describe()"
   ]
  },
  {
   "cell_type": "markdown",
   "metadata": {},
   "source": [
    "# Explore Model Predictions"
   ]
  },
  {
   "cell_type": "code",
   "execution_count": 2,
   "metadata": {},
   "outputs": [],
   "source": [
    "val_labels = pd.read_parquet(\"../results/labels_ProTCL.parquet\")\n",
    "val_probabilities = pd.read_parquet(\"../results/probabilities_ProTCL.parquet\")"
   ]
  },
  {
   "cell_type": "code",
   "execution_count": 3,
   "metadata": {},
   "outputs": [
    {
     "data": {
      "text/html": [
       "<div>\n",
       "<style scoped>\n",
       "    .dataframe tbody tr th:only-of-type {\n",
       "        vertical-align: middle;\n",
       "    }\n",
       "\n",
       "    .dataframe tbody tr th {\n",
       "        vertical-align: top;\n",
       "    }\n",
       "\n",
       "    .dataframe thead th {\n",
       "        text-align: right;\n",
       "    }\n",
       "</style>\n",
       "<table border=\"1\" class=\"dataframe\">\n",
       "  <thead>\n",
       "    <tr style=\"text-align: right;\">\n",
       "      <th></th>\n",
       "      <th>GO:0000001</th>\n",
       "      <th>GO:0000002</th>\n",
       "      <th>GO:0000003</th>\n",
       "      <th>GO:0000006</th>\n",
       "      <th>GO:0000007</th>\n",
       "      <th>GO:0000009</th>\n",
       "      <th>GO:0000010</th>\n",
       "      <th>GO:0000011</th>\n",
       "      <th>GO:0000012</th>\n",
       "      <th>GO:0000014</th>\n",
       "      <th>...</th>\n",
       "      <th>GO:2001305</th>\n",
       "      <th>GO:2001306</th>\n",
       "      <th>GO:2001307</th>\n",
       "      <th>GO:2001308</th>\n",
       "      <th>GO:2001310</th>\n",
       "      <th>GO:2001311</th>\n",
       "      <th>GO:2001313</th>\n",
       "      <th>GO:2001315</th>\n",
       "      <th>GO:2001316</th>\n",
       "      <th>GO:2001317</th>\n",
       "    </tr>\n",
       "  </thead>\n",
       "  <tbody>\n",
       "    <tr>\n",
       "      <th>441261</th>\n",
       "      <td>0.000000</td>\n",
       "      <td>0.000000</td>\n",
       "      <td>0.000025</td>\n",
       "      <td>0.000000e+00</td>\n",
       "      <td>5.960464e-07</td>\n",
       "      <td>8.940697e-07</td>\n",
       "      <td>4.839897e-04</td>\n",
       "      <td>0.000000</td>\n",
       "      <td>0.000000</td>\n",
       "      <td>0.000000e+00</td>\n",
       "      <td>...</td>\n",
       "      <td>0.003063</td>\n",
       "      <td>0.000000</td>\n",
       "      <td>0.000000e+00</td>\n",
       "      <td>1.192093e-07</td>\n",
       "      <td>0.000000e+00</td>\n",
       "      <td>0.000005</td>\n",
       "      <td>0.000097</td>\n",
       "      <td>2.384186e-07</td>\n",
       "      <td>1.345634e-03</td>\n",
       "      <td>0.000000</td>\n",
       "    </tr>\n",
       "    <tr>\n",
       "      <th>99304</th>\n",
       "      <td>0.000000</td>\n",
       "      <td>0.000000</td>\n",
       "      <td>0.000025</td>\n",
       "      <td>0.000000e+00</td>\n",
       "      <td>5.960464e-07</td>\n",
       "      <td>8.940697e-07</td>\n",
       "      <td>4.839897e-04</td>\n",
       "      <td>0.000000</td>\n",
       "      <td>0.000000</td>\n",
       "      <td>0.000000e+00</td>\n",
       "      <td>...</td>\n",
       "      <td>0.003063</td>\n",
       "      <td>0.000000</td>\n",
       "      <td>0.000000e+00</td>\n",
       "      <td>1.192093e-07</td>\n",
       "      <td>0.000000e+00</td>\n",
       "      <td>0.000005</td>\n",
       "      <td>0.000097</td>\n",
       "      <td>2.384186e-07</td>\n",
       "      <td>1.345634e-03</td>\n",
       "      <td>0.000000</td>\n",
       "    </tr>\n",
       "    <tr>\n",
       "      <th>173323</th>\n",
       "      <td>0.003944</td>\n",
       "      <td>0.029083</td>\n",
       "      <td>0.142822</td>\n",
       "      <td>5.960464e-08</td>\n",
       "      <td>5.960464e-08</td>\n",
       "      <td>2.065897e-04</td>\n",
       "      <td>1.713037e-04</td>\n",
       "      <td>0.018616</td>\n",
       "      <td>0.004868</td>\n",
       "      <td>1.950073e-02</td>\n",
       "      <td>...</td>\n",
       "      <td>0.000477</td>\n",
       "      <td>0.000002</td>\n",
       "      <td>2.148151e-04</td>\n",
       "      <td>8.644104e-03</td>\n",
       "      <td>3.780365e-03</td>\n",
       "      <td>0.000042</td>\n",
       "      <td>0.000488</td>\n",
       "      <td>2.694130e-04</td>\n",
       "      <td>2.323389e-04</td>\n",
       "      <td>0.000073</td>\n",
       "    </tr>\n",
       "    <tr>\n",
       "      <th>480469</th>\n",
       "      <td>0.135742</td>\n",
       "      <td>0.071838</td>\n",
       "      <td>0.001531</td>\n",
       "      <td>4.470348e-06</td>\n",
       "      <td>8.046627e-06</td>\n",
       "      <td>0.000000e+00</td>\n",
       "      <td>0.000000e+00</td>\n",
       "      <td>0.062103</td>\n",
       "      <td>0.000126</td>\n",
       "      <td>2.026558e-06</td>\n",
       "      <td>...</td>\n",
       "      <td>0.000000</td>\n",
       "      <td>0.000001</td>\n",
       "      <td>5.960464e-08</td>\n",
       "      <td>7.545948e-05</td>\n",
       "      <td>4.506111e-05</td>\n",
       "      <td>0.000077</td>\n",
       "      <td>0.000000</td>\n",
       "      <td>0.000000e+00</td>\n",
       "      <td>5.364418e-06</td>\n",
       "      <td>0.000003</td>\n",
       "    </tr>\n",
       "    <tr>\n",
       "      <th>38932</th>\n",
       "      <td>0.000001</td>\n",
       "      <td>0.000389</td>\n",
       "      <td>0.000111</td>\n",
       "      <td>0.000000e+00</td>\n",
       "      <td>0.000000e+00</td>\n",
       "      <td>0.000000e+00</td>\n",
       "      <td>5.960464e-08</td>\n",
       "      <td>0.000000</td>\n",
       "      <td>0.000000</td>\n",
       "      <td>5.960464e-08</td>\n",
       "      <td>...</td>\n",
       "      <td>0.000000</td>\n",
       "      <td>0.000000</td>\n",
       "      <td>0.000000e+00</td>\n",
       "      <td>4.172325e-07</td>\n",
       "      <td>5.960464e-08</td>\n",
       "      <td>0.000000</td>\n",
       "      <td>0.000000</td>\n",
       "      <td>0.000000e+00</td>\n",
       "      <td>1.788139e-07</td>\n",
       "      <td>0.000003</td>\n",
       "    </tr>\n",
       "  </tbody>\n",
       "</table>\n",
       "<p>5 rows × 32102 columns</p>\n",
       "</div>"
      ],
      "text/plain": [
       "        GO:0000001  GO:0000002  GO:0000003    GO:0000006    GO:0000007  \\\n",
       "441261    0.000000    0.000000    0.000025  0.000000e+00  5.960464e-07   \n",
       "99304     0.000000    0.000000    0.000025  0.000000e+00  5.960464e-07   \n",
       "173323    0.003944    0.029083    0.142822  5.960464e-08  5.960464e-08   \n",
       "480469    0.135742    0.071838    0.001531  4.470348e-06  8.046627e-06   \n",
       "38932     0.000001    0.000389    0.000111  0.000000e+00  0.000000e+00   \n",
       "\n",
       "          GO:0000009    GO:0000010  GO:0000011  GO:0000012    GO:0000014  ...  \\\n",
       "441261  8.940697e-07  4.839897e-04    0.000000    0.000000  0.000000e+00  ...   \n",
       "99304   8.940697e-07  4.839897e-04    0.000000    0.000000  0.000000e+00  ...   \n",
       "173323  2.065897e-04  1.713037e-04    0.018616    0.004868  1.950073e-02  ...   \n",
       "480469  0.000000e+00  0.000000e+00    0.062103    0.000126  2.026558e-06  ...   \n",
       "38932   0.000000e+00  5.960464e-08    0.000000    0.000000  5.960464e-08  ...   \n",
       "\n",
       "        GO:2001305  GO:2001306    GO:2001307    GO:2001308    GO:2001310  \\\n",
       "441261    0.003063    0.000000  0.000000e+00  1.192093e-07  0.000000e+00   \n",
       "99304     0.003063    0.000000  0.000000e+00  1.192093e-07  0.000000e+00   \n",
       "173323    0.000477    0.000002  2.148151e-04  8.644104e-03  3.780365e-03   \n",
       "480469    0.000000    0.000001  5.960464e-08  7.545948e-05  4.506111e-05   \n",
       "38932     0.000000    0.000000  0.000000e+00  4.172325e-07  5.960464e-08   \n",
       "\n",
       "        GO:2001311  GO:2001313    GO:2001315    GO:2001316  GO:2001317  \n",
       "441261    0.000005    0.000097  2.384186e-07  1.345634e-03    0.000000  \n",
       "99304     0.000005    0.000097  2.384186e-07  1.345634e-03    0.000000  \n",
       "173323    0.000042    0.000488  2.694130e-04  2.323389e-04    0.000073  \n",
       "480469    0.000077    0.000000  0.000000e+00  5.364418e-06    0.000003  \n",
       "38932     0.000000    0.000000  0.000000e+00  1.788139e-07    0.000003  \n",
       "\n",
       "[5 rows x 32102 columns]"
      ]
     },
     "execution_count": 3,
     "metadata": {},
     "output_type": "execute_result"
    }
   ],
   "source": [
    "val_probabilities.head()"
   ]
  },
  {
   "cell_type": "code",
   "execution_count": 4,
   "metadata": {},
   "outputs": [],
   "source": [
    "th = 0.97\n",
    "val_preds = (val_probabilities>th)*1\n",
    "tps = (val_labels*val_preds)*1\n",
    "fps = ((1-val_labels)*val_preds)*1\n",
    "tns = ((1-val_labels)*(1-val_preds))*1\n",
    "fns = (val_labels*(1-val_preds))*1"
   ]
  },
  {
   "cell_type": "code",
   "execution_count": 5,
   "metadata": {},
   "outputs": [],
   "source": [
    "recall_micro = tps.sum().sum()/(tps.sum().sum()+fns.sum().sum()) \n",
    "precision_micro = tps.sum().sum()/(tps.sum().sum()+fps.sum().sum())\n",
    "f1_micro = 2*recall_micro*precision_micro/(recall_micro+precision_micro)\n",
    "\n",
    "#Do the same for macro scores by computing metrics per class and then averaging. Each class is a column in the dataframe.\n",
    "\n",
    "recall_macro = (tps.sum(axis=0)/(tps.sum(axis=0)+fns.sum(axis=0))).fillna(0)\n",
    "precision_macro = (tps.sum(axis=0)/(tps.sum(axis=0)+fps.sum(axis=0))).fillna(0)\n",
    "f1_macro = (2*recall_macro*precision_macro/(recall_macro+precision_macro)).fillna(0)\n",
    "positive_preds = (tps.sum(axis=0)+fps.sum(axis=0)).fillna(0).astype(bool)\n",
    "\n"
   ]
  },
  {
   "cell_type": "code",
   "execution_count": 72,
   "metadata": {},
   "outputs": [],
   "source": [
    "val_go_term_popularity = (val_labels.sum(axis=0)*100/val_labels.shape[0]).sort_values(ascending=False)\n",
    "val_go_term_distribution = (val_labels.sum(axis=0)*100/val_labels.sum().sum()).sort_values(ascending=False)"
   ]
  },
  {
   "cell_type": "code",
   "execution_count": 7,
   "metadata": {},
   "outputs": [],
   "source": [
    "#Concatenate class metrics with go term popularity\n",
    "val_class_metrics = pd.concat([recall_macro,precision_macro,f1_macro,val_go_term_popularity],axis=1,\n",
    "                              keys=['recall','precision','f1','popularity'])"
   ]
  },
  {
   "cell_type": "code",
   "execution_count": 77,
   "metadata": {},
   "outputs": [
    {
     "name": "stderr",
     "output_type": "stream",
     "text": [
      "/tmp/ipykernel_775718/228177422.py:9: FutureWarning: \n",
      "\n",
      "The `ci` parameter is deprecated. Use `errorbar=('ci', 95)` for the same effect.\n",
      "\n",
      "  sns.lineplot(data=binned,x='bin',y='value',marker='.',ci=95)\n"
     ]
    },
    {
     "data": {
      "image/png": "[encoded data removed]",
      "text/plain": [
       "<Figure size 1500x600 with 1 Axes>"
      ]
     },
     "metadata": {},
     "output_type": "display_data"
    }
   ],
   "source": [
    "import seaborn as sns\n",
    "\n",
    "#Plot popularity vs f1 score with 2d heatmap using bins. Bins should be in log space\n",
    "bins = np.logspace(-1, np.log10(100), 20)\n",
    "digitized = np.digitize(val_class_metrics['popularity'], bins)\n",
    "binned = pd.DataFrame({'bin':bins[digitized],'value':val_class_metrics['f1']})\n",
    "\n",
    "plt.subplots(figsize=(15,6))\n",
    "sns.lineplot(data=binned,x='bin',y='value',marker='.',ci=95)\n",
    "plt.grid(which='both')\n",
    "plt.xscale('log')\n",
    "\n",
    "\n"
   ]
  },
  {
   "cell_type": "code",
   "execution_count": 56,
   "metadata": {},
   "outputs": [
    {
     "data": {
      "text/plain": [
       "0.6333135356807155"
      ]
     },
     "execution_count": 56,
     "metadata": {},
     "output_type": "execute_result"
    }
   ],
   "source": [
    "f1_macro.loc[val_go_term_popularity[val_go_term_popularity>1].index.unique()].mean()"
   ]
  },
  {
   "cell_type": "code",
   "execution_count": 76,
   "metadata": {},
   "outputs": [
    {
     "data": {
      "text/plain": [
       "93.34485269605015"
      ]
     },
     "execution_count": 76,
     "metadata": {},
     "output_type": "execute_result"
    }
   ],
   "source": [
    "val_go_term_distribution[positive_preds[positive_preds].index].sum()"
   ]
  },
  {
   "cell_type": "code",
   "execution_count": 85,
   "metadata": {},
   "outputs": [
    {
     "data": {
      "text/plain": [
       "count    4940.000000\n",
       "mean        0.902110\n",
       "std         4.373502\n",
       "min         0.000000\n",
       "25%         0.011355\n",
       "50%         0.087054\n",
       "75%         0.358150\n",
       "max        88.539203\n",
       "dtype: float64"
      ]
     },
     "execution_count": 85,
     "metadata": {},
     "output_type": "execute_result"
    }
   ],
   "source": [
    "val_go_term_popularity[positive_preds[positive_preds].index].sort_values(ascending=False)"
   ]
  },
  {
   "cell_type": "code",
   "execution_count": 67,
   "metadata": {},
   "outputs": [
    {
     "data": {
      "text/plain": [
       "4940"
      ]
     },
     "execution_count": 67,
     "metadata": {},
     "output_type": "execute_result"
    }
   ],
   "source": [
    "positive_preds.sum()"
   ]
  }
 ],
 "metadata": {
  "kernelspec": {
   "display_name": "protein_functions",
   "language": "python",
   "name": "python3"
  },
  "language_info": {
   "codemirror_mode": {
    "name": "ipython",
    "version": 3
   },
   "file_extension": ".py",
   "mimetype": "text/x-python",
   "name": "python",
   "nbconvert_exporter": "python",
   "pygments_lexer": "ipython3",
   "version": "3.11.4"
  },
  "orig_nbformat": 4
 },
 "nbformat": 4,
 "nbformat_minor": 2
}
