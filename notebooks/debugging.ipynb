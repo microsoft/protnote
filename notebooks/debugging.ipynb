{
 "cells": [
  {
   "cell_type": "code",
   "execution_count": 5,
   "metadata": {},
   "outputs": [],
   "source": [
    "import os\n",
    "from pathlib import Path\n",
    "import sys\n",
    "curdir = Path(os.getcwd())\n",
    "sys.path.append(str(curdir.parent.absolute()))\n",
    "from collections import Counter\n",
    "import pandas as pd\n",
    "import matplotlib.pyplot as plt\n",
    "from src.utils.data import read_fasta\n",
    "from src.data.datasets import ProteInferDataset\n",
    "import numpy as np\n",
    "from src.utils.data import read_pickle"
   ]
  },
  {
   "cell_type": "code",
   "execution_count": 13,
   "metadata": {},
   "outputs": [],
   "source": [
    "embeddings = read_pickle('../data/proteinfer_results/proteinfer_embeddings.pkl')"
   ]
  },
  {
   "cell_type": "code",
   "execution_count": 14,
   "metadata": {},
   "outputs": [
    {
     "data": {
      "text/plain": [
       "522607"
      ]
     },
     "execution_count": 14,
     "metadata": {},
     "output_type": "execute_result"
    }
   ],
   "source": [
    "len(embeddings)"
   ]
  },
  {
   "cell_type": "code",
   "execution_count": 2,
   "metadata": {},
   "outputs": [],
   "source": [
    "test_preds = np.load('../data/proteinfer_results/probas.npy')\n",
    "test_labels = np.load('../data/proteinfer_results/labels.npy')"
   ]
  },
  {
   "cell_type": "code",
   "execution_count": 3,
   "metadata": {},
   "outputs": [
    {
     "name": "stderr",
     "output_type": "stream",
     "text": [
      "Bad pipe message: %s [b\"\\xe0]\\xe0\\xdd\\x11\\x00\\x90<\\xf4pi*\\xc1\\xa3+\\n\\x8e+\\x00\\x00|\\xc0,\\xc00\\x00\\xa3\\x00\\x9f\\xcc\\xa9\\xcc\\xa8\\xcc\\xaa\\xc0\\xaf\\xc0\\xad\\xc0\\xa3\\xc0\\x9f\\xc0]\\xc0a\\xc0W\\xc0S\\xc0+\\xc0/\\x00\\xa2\\x00\\x9e\\xc0\\xae\\xc0\\xac\\xc0\\xa2\\xc0\\x9e\\xc0\\\\\\xc0`\\xc0V\\xc0R\\xc0$\\xc0(\\x00k\\x00j\\xc0#\\xc0'\\x00g\\x00@\\xc0\\n\\xc0\\x14\\x009\\x008\\xc0\\t\\xc0\\x13\\x003\\x002\\x00\\x9d\\xc0\\xa1\\xc0\\x9d\\xc0Q\\x00\\x9c\\xc0\\xa0\\xc0\\x9c\\xc0P\\x00=\\x00<\\x005\\x00/\\x00\\x9a\\x00\\x99\\xc0\\x07\\xc0\\x11\\x00\\x96\\x00\\x05\\x00\\xff\\x01\\x00\\x00j\\x00\\x00\\x00\\x0e\\x00\\x0c\\x00\\x00\\t127.0.0.1\\x00\\x0b\\x00\\x04\\x03\\x00\\x01\\x02\\x00\\n\\x00\\x0c\\x00\\n\\x00\\x1d\\x00\\x17\\x00\\x1e\\x00\\x19\\x00\\x18\\x00#\\x00\\x00\\x00\\x16\\x00\\x00\\x00\\x17\\x00\\x00\\x00\\r\\x000\\x00.\\x04\\x03\\x05\\x03\\x06\\x03\\x08\\x07\\x08\\x08\\x08\\t\\x08\\n\\x08\\x0b\\x08\\x04\\x08\"]\n",
      "Bad pipe message: %s [b'\\x06\\x04\\x01\\x05']\n",
      "Bad pipe message: %s [b'']\n",
      "Bad pipe message: %s [b'', b'\\x03\\x03']\n",
      "Bad pipe message: %s [b'']\n",
      "Bad pipe message: %s [b'\\xe2F\\xe3\\xe3\\xea\\xd9l\\x8f\\x94\\x99\\xa2\\xcf\\xed\\xe1\\x92\\x85\\xf1\\xdb\\x00\\x00\\xa6\\xc0,\\xc00\\x00\\xa3\\x00\\x9f\\xcc\\xa9\\xcc\\xa8\\xcc\\xaa\\xc0\\xaf\\xc0\\xad\\xc0', b\"\\x9f\\xc0]\\xc0a\\xc0W\\xc0S\\xc0+\\xc0/\\x00\\xa2\\x00\\x9e\\xc0\\xae\\xc0\\xac\\xc0\\xa2\\xc0\\x9e\\xc0\\\\\\xc0`\\xc0V\\xc0R\\xc0$\\xc0(\\x00k\\x00j\\xc0s\\xc0w\\x00\\xc4\\x00\\xc3\\xc0#\\xc0'\\x00g\\x00@\\xc0r\\xc0v\\x00\\xbe\\x00\\xbd\\xc0\\n\\xc0\\x14\\x009\\x008\\x00\\x88\\x00\\x87\\xc0\\t\\xc0\\x13\\x003\\x002\\x00\\x9a\\x00\\x99\\x00E\\x00D\\xc0\\x07\\xc0\\x11\\xc0\\x08\\xc0\\x12\\x00\\x16\\x00\\x13\\x00\\x9d\\xc0\\xa1\\xc0\\x9d\\xc0Q\\x00\\x9c\\xc0\\xa0\\xc0\\x9c\\xc0P\\x00=\\x00\\xc0\\x00<\\x00\\xba\\x005\\x00\\x84\\x00/\\x00\\x96\\x00A\\x00\\x05\\x00\\n\\x00\\xff\\x01\\x00\\x00j\\x00\\x00\\x00\\x0e\\x00\\x0c\\x00\\x00\\t127.\"]\n",
      "Bad pipe message: %s [b'', b'\\x02']\n",
      "Bad pipe message: %s [b'0.1\\x00\\x0b\\x00\\x04\\x03\\x00\\x01\\x02\\x00\\n\\x00\\x0c\\x00\\n\\x00\\x1d\\x00\\x17\\x00\\x1e\\x00\\x19\\x00\\x18\\x00#\\x00\\x00\\x00\\x16\\x00\\x00\\x00\\x17\\x00\\x00\\x00\\r\\x000\\x00.\\x04\\x03']\n",
      "Bad pipe message: %s [b'\\x05\\x02\\x06']\n",
      "Bad pipe message: %s [b'\\x06\\x03\\x08\\x07', b'\\x08\\t\\x08\\n\\x08\\x0b\\x08']\n",
      "Bad pipe message: %s [b'\\x1av\\xd2\\xc0R:$\\xd07\\xc0A`\\xee \\xef\\x07\\xf7\\xc2\\x00\\x00>\\xc0\\x14\\xc0\\n\\x009\\x008\\x007\\x006\\xc0\\x0f\\xc0\\x05\\x005\\xc0\\x13\\xc0\\t\\x003\\x002\\x001\\x000\\xc0\\x0e\\xc0\\x04\\x00/\\x00\\x9a\\x00\\x99\\x00\\x98\\x00\\x97\\x00\\x96\\x00\\x07\\xc0\\x11\\xc0\\x07\\xc0\\x0c\\xc0\\x02\\x00\\x05\\x00\\x04\\x00\\xff\\x02\\x01\\x00\\x00C\\x00\\x00\\x00\\x0e\\x00\\x0c\\x00\\x00\\t127.0.0.1\\x00\\x0b\\x00\\x04\\x03\\x00\\x01\\x02\\x00\\n\\x00\\x1c\\x00\\x1a\\x00\\x17\\x00\\x19\\x00\\x1c\\x00\\x1b\\x00\\x18\\x00\\x1a\\x00\\x16\\x00\\x0e\\x00', b'\\x0b\\x00\\x0c\\x00\\t\\x00\\n\\x00#\\x00\\x00\\x00']\n",
      "Bad pipe message: %s [b'\\x05\\x08\\x06']\n",
      "Bad pipe message: %s [b'\\x05\\x01\\x06', b'', b'\\x03\\x03']\n",
      "Bad pipe message: %s [b'!\\x86\\x1bE\\x03q\\xf9\\xa1\\x06\\xe7t\\xd6\\xa3:S\\\\G\\xfa\\x00\\x00\\xa2\\xc0\\x14\\xc0\\n\\x009\\x008\\x007\\x006\\x00\\x88\\x00\\x87\\x00\\x86\\x00\\x85\\xc0\\x19\\x00:\\x00\\x89\\xc0\\x0f\\xc0\\x05\\x005\\x00\\x84\\xc0\\x13\\xc0\\t\\x003\\x002\\x001\\x000\\x00\\x9a\\x00\\x99\\x00\\x98\\x00\\x97\\x00E\\x00D\\x00C\\x00B\\xc0\\x18\\x004\\x00\\x9b\\x00F\\xc0\\x0e\\xc0\\x04\\x00/\\x00\\x96\\x00A\\x00\\x07\\xc0\\x11\\xc0\\x07\\xc0\\x16\\x00\\x18\\xc0\\x0c\\xc0\\x02\\x00\\x05\\x00\\x04\\xc0\\x12\\xc0\\x08\\x00\\x16\\x00\\x13\\x00\\x10\\x00\\r\\xc0\\x17\\x00\\x1b\\xc0\\r\\xc0\\x03\\x00\\n\\x00\\x15\\x00\\x12\\x00\\x0f\\x00\\x0c\\x00\\x1a\\x00\\t\\x00\\x14\\x00\\x11\\x00\\x19\\x00\\x08\\x00\\x06\\x00\\x17\\x00\\x03\\xc0\\x10\\xc0\\x06\\xc0\\x15\\xc0\\x0b\\xc0\\x01\\x00\\x02\\x00\\x01\\x00\\xff\\x02\\x01\\x00\\x00C\\x00\\x00\\x00\\x0e\\x00\\x0c\\x00\\x00\\t127.0.0.1\\x00\\x0b\\x00\\x04\\x03\\x00\\x01\\x02\\x00\\n\\x00\\x1c\\x00\\x1a\\x00\\x17\\x00\\x19\\x00\\x1c\\x00\\x1b\\x00\\x18\\x00\\x1a\\x00\\x16\\x00\\x0e\\x00\\r\\x00\\x0b\\x00\\x0c\\x00\\t\\x00\\n\\x00']\n",
      "Bad pipe message: %s [b'']\n",
      "Bad pipe message: %s [b'f\\x99\\xc3\\x19\\x86]Op(Jq\\xcfO\\xe1w\\xe8\\xd5I\\x00\\x00>\\xc0\\x14\\xc0\\n\\x009\\x008\\x007\\x006\\xc0\\x0f\\xc0\\x05\\x005\\xc0\\x13\\xc0\\t\\x003\\x002\\x001\\x000\\xc0\\x0e\\xc0\\x04\\x00/\\x00\\x9a\\x00\\x99\\x00\\x98\\x00\\x97\\x00\\x96\\x00\\x07\\xc0\\x11\\xc0\\x07\\xc0\\x0c\\xc0\\x02\\x00\\x05\\x00\\x04\\x00\\xff\\x02']\n",
      "Bad pipe message: %s [b'', b'\\x02']\n",
      "Bad pipe message: %s [b'']\n",
      "Bad pipe message: %s [b'\\x05\\x02\\x06']\n",
      "Bad pipe message: %s [b'\\xaf\\xc9N\\x8d\\xa9\\x0e\\xf8\\\\U\\nQ\\xf3\\xac\\xe7\\xcb8\\x8f4\\x00\\x00\\xa2\\xc0\\x14\\xc0\\n\\x009\\x008\\x007\\x006\\x00\\x88\\x00\\x87\\x00\\x86\\x00\\x85\\xc0\\x19\\x00:\\x00\\x89\\xc0\\x0f\\xc0\\x05\\x005\\x00\\x84\\xc0\\x13\\xc0\\t\\x003\\x002\\x001\\x000\\x00\\x9a\\x00\\x99\\x00\\x98\\x00\\x97\\x00E\\x00D\\x00C\\x00B\\xc0\\x18\\x004\\x00\\x9b\\x00F\\xc0\\x0e\\xc0\\x04\\x00/\\x00\\x96\\x00A\\x00\\x07\\xc0\\x11\\xc0\\x07\\xc0\\x16\\x00\\x18\\xc0\\x0c\\xc0\\x02\\x00\\x05\\x00\\x04\\xc0\\x12\\xc0\\x08\\x00\\x16\\x00\\x13\\x00\\x10\\x00\\r\\xc0\\x17\\x00\\x1b\\xc0\\r\\xc0\\x03\\x00\\n\\x00\\x15\\x00\\x12\\x00\\x0f\\x00\\x0c\\x00\\x1a\\x00\\t\\x00\\x14\\x00\\x11\\x00\\x19\\x00\\x08\\x00\\x06\\x00\\x17\\x00\\x03\\xc0\\x10\\xc0\\x06\\xc0\\x15\\xc0\\x0b\\xc0\\x01\\x00\\x02\\x00\\x01\\x00\\xff\\x02\\x01\\x00\\x00C\\x00\\x00\\x00\\x0e\\x00\\x0c\\x00\\x00\\t12']\n",
      "Bad pipe message: %s [b'0.0.1\\x00\\x0b\\x00\\x04\\x03\\x00\\x01\\x02\\x00\\n\\x00\\x1c\\x00\\x1a\\x00\\x17\\x00\\x19\\x00\\x1c\\x00\\x1b\\x00\\x18\\x00\\x1a\\x00\\x16\\x00\\x0e\\x00\\r\\x00\\x0b\\x00\\x0c\\x00\\t\\x00\\n\\x00#\\x00\\x00\\x00\\x0f\\x00\\x01\\x01']\n",
      "Bad pipe message: %s [b\"K\\xbe\\xf70.q\\x9d\\x19\\n\\xafV\\xb5[;\\x8e\\x17\\xbf\\xa9\\x00\\x00\\x86\\xc00\\xc0,\\xc0(\\xc0$\\xc0\\x14\\xc0\\n\\x00\\xa5\\x00\\xa3\\x00\\xa1\\x00\\x9f\\x00k\\x00j\\x00i\\x00h\\x009\\x008\\x007\\x006\\xc02\\xc0.\\xc0*\\xc0&\\xc0\\x0f\\xc0\\x05\\x00\\x9d\\x00=\\x005\\xc0/\\xc0+\\xc0'\\xc0#\\xc0\\x13\\xc0\\t\\x00\\xa4\\x00\\xa2\\x00\\xa0\\x00\\x9e\\x00g\\x00@\\x00?\\x00>\\x003\\x002\\x001\\x000\\xc01\\xc0-\\xc0)\\xc0%\\xc0\\x0e\\xc0\\x04\\x00\\x9c\\x00<\\x00/\\x00\\x9a\\x00\\x99\\x00\\x98\\x00\\x97\\x00\\x96\\x00\\x07\\xc0\\x11\\xc0\\x07\\xc0\\x0c\\xc0\\x02\\x00\\x05\\x00\\x04\\x00\\xff\\x02\\x01\\x00\\x00g\\x00\\x00\\x00\\x0e\\x00\\x0c\\x00\\x00\\t127.0.0.1\\x00\\x0b\\x00\\x04\\x03\\x00\\x01\\x02\\x00\\n\\x00\\x1c\\x00\\x1a\\x00\\x17\\x00\\x19\\x00\\x1c\\x00\\x1b\\x00\\x18\\x00\\x1a\\x00\\x16\\x00\\x0e\\x00\\r\\x00\\x0b\\x00\\x0c\\x00\\t\\x00\\n\\x00#\\x00\\x00\\x00\\r\\x00 \\x00\\x1e\\x06\\x01\\x06\\x02\\x06\\x03\\x05\\x01\", b'\\x05\\x03\\x04\\x01']\n",
      "Bad pipe message: %s [b'\\x04\\x03\\x03']\n",
      "Bad pipe message: %s [b'', b'\\x03', b'\\x02', b'\\x03']\n",
      "Bad pipe message: %s [b\"\\xfe\\xd1\\xc0<\\x94;\\xa0\\x1d7J\\xc5\\x0e&\\xf7i\\xc4R\\x02\\x00\\x00\\xf4\\xc00\\xc0,\\xc0(\\xc0$\\xc0\\x14\\xc0\\n\\x00\\xa5\\x00\\xa3\\x00\\xa1\\x00\\x9f\\x00k\\x00j\\x00i\\x00h\\x009\\x008\\x007\\x006\\x00\\x88\\x00\\x87\\x00\\x86\\x00\\x85\\xc0\\x19\\x00\\xa7\\x00m\\x00:\\x00\\x89\\xc02\\xc0.\\xc0*\\xc0&\\xc0\\x0f\\xc0\\x05\\x00\\x9d\\x00=\\x005\\x00\\x84\\xc0/\\xc0+\\xc0'\\xc0#\\xc0\\x13\\xc0\\t\\x00\\xa4\\x00\\xa2\\x00\\xa0\\x00\\x9e\\x00g\\x00@\\x00?\\x00>\\x003\\x002\\x001\\x000\\x00\\x9a\\x00\\x99\\x00\\x98\\x00\\x97\\x00E\\x00D\\x00C\\x00B\\xc0\\x18\\x00\\xa6\\x00l\\x004\\x00\\x9b\\x00F\\xc01\\xc0-\\xc0)\\xc0%\\xc0\\x0e\\xc0\\x04\\x00\\x9c\\x00<\\x00/\\x00\\x96\\x00A\\x00\\x07\\xc0\\x11\\xc0\\x07\\xc0\\x16\\x00\\x18\\xc0\\x0c\\xc0\\x02\\x00\\x05\\x00\\x04\\xc0\\x12\"]\n"
     ]
    }
   ],
   "source": [
    "test_labels = test_labels.flatten()\n",
    "test_preds = test_preds.flatten()"
   ]
  },
  {
   "cell_type": "code",
   "execution_count": 5,
   "metadata": {},
   "outputs": [],
   "source": [
    "mask = test_preds>1e-3\n",
    "test_labels = test_labels[mask]\n",
    "test_preds = test_preds[mask]"
   ]
  },
  {
   "cell_type": "code",
   "execution_count": 6,
   "metadata": {},
   "outputs": [],
   "source": [
    "from sklearn.metrics import precision_recall_curve"
   ]
  },
  {
   "cell_type": "code",
   "execution_count": 7,
   "metadata": {},
   "outputs": [],
   "source": [
    "\n",
    "precision, recall, thresholds = precision_recall_curve(test_labels.flatten(),test_preds.flatten())"
   ]
  },
  {
   "cell_type": "code",
   "execution_count": 11,
   "metadata": {},
   "outputs": [],
   "source": [
    "f1 = precision*recall*2/(precision+recall)"
   ]
  },
  {
   "cell_type": "code",
   "execution_count": 18,
   "metadata": {},
   "outputs": [
    {
     "data": {
      "text/plain": [
       "(727483,)"
      ]
     },
     "execution_count": 18,
     "metadata": {},
     "output_type": "execute_result"
    }
   ],
   "source": [
    "thresholds.shape"
   ]
  },
  {
   "cell_type": "code",
   "execution_count": 20,
   "metadata": {},
   "outputs": [],
   "source": [
    "metrics_df = pd.DataFrame({'precision':precision[:-1],'recall':recall[:-1],'f1':f1[:-1],'thresholds':thresholds})"
   ]
  },
  {
   "cell_type": "code",
   "execution_count": 22,
   "metadata": {},
   "outputs": [
    {
     "data": {
      "text/plain": [
       "[<matplotlib.lines.Line2D at 0x7f6042ef7a10>]"
      ]
     },
     "execution_count": 22,
     "metadata": {},
     "output_type": "execute_result"
    },
    {
     "data": {
      "image/png": "[encoded data removed]",
      "text/plain": [
       "<Figure size 640x480 with 1 Axes>"
      ]
     },
     "metadata": {},
     "output_type": "display_data"
    }
   ],
   "source": [
    "plt.plot(metrics_df['precision'],metrics_df['recall'])"
   ]
  },
  {
   "cell_type": "code",
   "execution_count": 21,
   "metadata": {},
   "outputs": [
    {
     "data": {
      "text/html": [
       "<div>\n",
       "<style scoped>\n",
       "    .dataframe tbody tr th:only-of-type {\n",
       "        vertical-align: middle;\n",
       "    }\n",
       "\n",
       "    .dataframe tbody tr th {\n",
       "        vertical-align: top;\n",
       "    }\n",
       "\n",
       "    .dataframe thead th {\n",
       "        text-align: right;\n",
       "    }\n",
       "</style>\n",
       "<table border=\"1\" class=\"dataframe\">\n",
       "  <thead>\n",
       "    <tr style=\"text-align: right;\">\n",
       "      <th></th>\n",
       "      <th>precision</th>\n",
       "      <th>recall</th>\n",
       "      <th>f1</th>\n",
       "      <th>thresholds</th>\n",
       "    </tr>\n",
       "  </thead>\n",
       "  <tbody>\n",
       "    <tr>\n",
       "      <th>629131</th>\n",
       "      <td>0.921198</td>\n",
       "      <td>0.912429</td>\n",
       "      <td>0.916793</td>\n",
       "      <td>0.910039</td>\n",
       "    </tr>\n",
       "    <tr>\n",
       "      <th>629129</th>\n",
       "      <td>0.921196</td>\n",
       "      <td>0.912430</td>\n",
       "      <td>0.916792</td>\n",
       "      <td>0.910034</td>\n",
       "    </tr>\n",
       "    <tr>\n",
       "      <th>629132</th>\n",
       "      <td>0.921198</td>\n",
       "      <td>0.912428</td>\n",
       "      <td>0.916792</td>\n",
       "      <td>0.910039</td>\n",
       "    </tr>\n",
       "    <tr>\n",
       "      <th>629128</th>\n",
       "      <td>0.921196</td>\n",
       "      <td>0.912430</td>\n",
       "      <td>0.916792</td>\n",
       "      <td>0.910034</td>\n",
       "    </tr>\n",
       "    <tr>\n",
       "      <th>629130</th>\n",
       "      <td>0.921196</td>\n",
       "      <td>0.912429</td>\n",
       "      <td>0.916792</td>\n",
       "      <td>0.910037</td>\n",
       "    </tr>\n",
       "    <tr>\n",
       "      <th>...</th>\n",
       "      <td>...</td>\n",
       "      <td>...</td>\n",
       "      <td>...</td>\n",
       "      <td>...</td>\n",
       "    </tr>\n",
       "    <tr>\n",
       "      <th>4</th>\n",
       "      <td>0.607240</td>\n",
       "      <td>1.000000</td>\n",
       "      <td>0.755630</td>\n",
       "      <td>0.001000</td>\n",
       "    </tr>\n",
       "    <tr>\n",
       "      <th>3</th>\n",
       "      <td>0.607239</td>\n",
       "      <td>1.000000</td>\n",
       "      <td>0.755630</td>\n",
       "      <td>0.001000</td>\n",
       "    </tr>\n",
       "    <tr>\n",
       "      <th>2</th>\n",
       "      <td>0.607238</td>\n",
       "      <td>1.000000</td>\n",
       "      <td>0.755630</td>\n",
       "      <td>0.001000</td>\n",
       "    </tr>\n",
       "    <tr>\n",
       "      <th>1</th>\n",
       "      <td>0.607238</td>\n",
       "      <td>1.000000</td>\n",
       "      <td>0.755629</td>\n",
       "      <td>0.001000</td>\n",
       "    </tr>\n",
       "    <tr>\n",
       "      <th>0</th>\n",
       "      <td>0.607238</td>\n",
       "      <td>1.000000</td>\n",
       "      <td>0.755629</td>\n",
       "      <td>0.001000</td>\n",
       "    </tr>\n",
       "  </tbody>\n",
       "</table>\n",
       "<p>727483 rows × 4 columns</p>\n",
       "</div>"
      ],
      "text/plain": [
       "        precision    recall        f1  thresholds\n",
       "629131   0.921198  0.912429  0.916793    0.910039\n",
       "629129   0.921196  0.912430  0.916792    0.910034\n",
       "629132   0.921198  0.912428  0.916792    0.910039\n",
       "629128   0.921196  0.912430  0.916792    0.910034\n",
       "629130   0.921196  0.912429  0.916792    0.910037\n",
       "...           ...       ...       ...         ...\n",
       "4        0.607240  1.000000  0.755630    0.001000\n",
       "3        0.607239  1.000000  0.755630    0.001000\n",
       "2        0.607238  1.000000  0.755630    0.001000\n",
       "1        0.607238  1.000000  0.755629    0.001000\n",
       "0        0.607238  1.000000  0.755629    0.001000\n",
       "\n",
       "[727483 rows x 4 columns]"
      ]
     },
     "execution_count": 21,
     "metadata": {},
     "output_type": "execute_result"
    }
   ],
   "source": [
    "metrics_df.sort_values(by='f1',ascending=False)"
   ]
  },
  {
   "cell_type": "code",
   "execution_count": 2,
   "metadata": {},
   "outputs": [],
   "source": [
    "train = read_fasta('../data/swissprot/proteinfer_splits/random/train_GO.fasta')\n",
    "val = read_fasta('../data/swissprot/proteinfer_splits/random/dev_GO.fasta')\n",
    "test = read_fasta('../data/swissprot/proteinfer_splits/random/test_GO.fasta')"
   ]
  },
  {
   "cell_type": "code",
   "execution_count": null,
   "metadata": {},
   "outputs": [],
   "source": [
    "train = [(k[0],j,\" \".join(k[1:])) for j,k in train]\n",
    "test = [(k[0],j,\" \".join(k[1:])) for j,k in test]\n",
    "val = [(k[0],j,\" \".join(k[1:])) for j,k in val]\n",
    "\n",
    "df = train + val + test"
   ]
  },
  {
   "cell_type": "code",
   "execution_count": 4,
   "metadata": {},
   "outputs": [],
   "source": [
    "df = pd.DataFrame(df,columns=['id','sequence','labels'])"
   ]
  },
  {
   "cell_type": "code",
   "execution_count": 5,
   "metadata": {},
   "outputs": [
    {
     "name": "stdout",
     "output_type": "stream",
     "text": [
      "number of sequences: 522607\n"
     ]
    }
   ],
   "source": [
    "num_sequences = len(df)\n",
    "print('number of sequences:',num_sequences)"
   ]
  },
  {
   "cell_type": "code",
   "execution_count": 6,
   "metadata": {},
   "outputs": [],
   "source": [
    "labels = Counter()\n",
    "\n",
    "vocab = set()\n",
    "amino_freq = Counter()\n",
    "for idx,row in df.iterrows():\n",
    "    sequence = row['sequence']\n",
    "    row_labels = row['labels']\n",
    "    aa_list = list(sequence)\n",
    "    if row_labels =='':\n",
    "        print(row['id'],row['labels'])\n",
    "    vocab.update(aa_list)\n",
    "    amino_freq.update(aa_list)\n",
    "    labels.update(row_labels.split(\" \"))"
   ]
  },
  {
   "cell_type": "code",
   "execution_count": 7,
   "metadata": {},
   "outputs": [
    {
     "name": "stdout",
     "output_type": "stream",
     "text": [
      "# GO Terms: 32102\n"
     ]
    }
   ],
   "source": [
    "print('# GO Terms:',len(labels.keys()))"
   ]
  },
  {
   "cell_type": "code",
   "execution_count": 8,
   "metadata": {},
   "outputs": [
    {
     "name": "stdout",
     "output_type": "stream",
     "text": [
      "GO Terms distribution\n"
     ]
    },
    {
     "data": {
      "text/plain": [
       "count     32102.000000\n",
       "mean        777.250545\n",
       "std        9114.786603\n",
       "min           1.000000\n",
       "25%           4.000000\n",
       "50%          17.000000\n",
       "75%          84.000000\n",
       "max      462356.000000\n",
       "dtype: float64"
      ]
     },
     "execution_count": 8,
     "metadata": {},
     "output_type": "execute_result"
    }
   ],
   "source": [
    "print('GO Terms distribution')\n",
    "pd.Series(labels.values()).describe()"
   ]
  },
  {
   "cell_type": "code",
   "execution_count": 9,
   "metadata": {},
   "outputs": [
    {
     "name": "stdout",
     "output_type": "stream",
     "text": [
      "Sequence length distribution\n"
     ]
    },
    {
     "data": {
      "text/plain": [
       "count    522607.000000\n",
       "mean        368.042215\n",
       "std         334.721845\n",
       "min           2.000000\n",
       "25%         179.000000\n",
       "50%         303.000000\n",
       "75%         456.000000\n",
       "max       35213.000000\n",
       "Name: sequence, dtype: float64"
      ]
     },
     "execution_count": 9,
     "metadata": {},
     "output_type": "execute_result"
    }
   ],
   "source": [
    "print('Sequence length distribution')\n",
    "\n",
    "df['sequence'].apply(len).describe()"
   ]
  },
  {
   "cell_type": "code",
   "execution_count": 2,
   "metadata": {},
   "outputs": [],
   "source": [
    "PD = ProteinDataset(data_path='../data/swissprot/proteinfer_splits/random/train_GO.fasta',\n",
    "                    sequence_vocabulary_path='../data/vocabularies/amino_acid_vocab.json',\n",
    "                    label_vocabulary_path='../data/vocabularies/GO_label_vocab.json')"
   ]
  },
  {
   "cell_type": "code",
   "execution_count": 3,
   "metadata": {},
   "outputs": [],
   "source": [
    "test_seqs_preds = pd.read_csv('../proteinfer/hemoglobin_predictions.tsv',sep='\\t')"
   ]
  },
  {
   "cell_type": "code",
   "execution_count": 4,
   "metadata": {},
   "outputs": [],
   "source": [
    "PD.data = [i for i in PD.data if i[1][0] in ['P69891','Q7AP54']]"
   ]
  },
  {
   "cell_type": "code",
   "execution_count": 5,
   "metadata": {},
   "outputs": [],
   "source": [
    "from sklearn.metrics import precision_score,recall_score"
   ]
  },
  {
   "cell_type": "code",
   "execution_count": 6,
   "metadata": {},
   "outputs": [
    {
     "data": {
      "text/plain": [
       "(2, 569)"
      ]
     },
     "execution_count": 6,
     "metadata": {},
     "output_type": "execute_result"
    }
   ],
   "source": [
    "len(PD),PD.get_max_seq_len()"
   ]
  },
  {
   "cell_type": "code",
   "execution_count": 7,
   "metadata": {},
   "outputs": [
    {
     "name": "stdout",
     "output_type": "stream",
     "text": [
      "Pytorch num variables: 74\n",
      "Tensorflow num variables: 74\n",
      "\n",
      "\n",
      "conv1.weight:torch.Size([1100, 20, 9]) <--> inferrer/conv1d/kernel:0:(1100, 20, 9)\n",
      "conv1.bias:torch.Size([1100]) <--> inferrer/conv1d/bias:0:(1100,)\n",
      "resnet_blocks.0.bn_activation_1.0.weight:torch.Size([1100]) <--> inferrer/residual_block_0/batch_normalization/gamma:0:(1100,)\n",
      "resnet_blocks.0.bn_activation_1.0.bias:torch.Size([1100]) <--> inferrer/residual_block_0/batch_normalization/beta:0:(1100,)\n",
      "resnet_blocks.0.bn_activation_1.0.running_mean:torch.Size([1100]) <--> inferrer/residual_block_0/batch_normalization/moving_mean:0:(1100,)\n",
      "resnet_blocks.0.bn_activation_1.0.running_var:torch.Size([1100]) <--> inferrer/residual_block_0/batch_normalization/moving_variance:0:(1100,)\n",
      "resnet_blocks.0.bn_activation_1.0.num_batches_tracked:torch.Size([]) <--> inferrer/residual_block_0/batch_normalization/num_batches_tracked:0:()\n",
      "resnet_blocks.0.masked_conv1.weight:torch.Size([550, 1100, 9]) <--> inferrer/residual_block_0/conv1d/kernel:0:(550, 1100, 9)\n",
      "resnet_blocks.0.masked_conv1.bias:torch.Size([550]) <--> inferrer/residual_block_0/conv1d/bias:0:(550,)\n",
      "resnet_blocks.0.bn_activation_2.0.weight:torch.Size([550]) <--> inferrer/residual_block_0/batch_normalization_1/gamma:0:(550,)\n",
      "resnet_blocks.0.bn_activation_2.0.bias:torch.Size([550]) <--> inferrer/residual_block_0/batch_normalization_1/beta:0:(550,)\n",
      "resnet_blocks.0.bn_activation_2.0.running_mean:torch.Size([550]) <--> inferrer/residual_block_0/batch_normalization_1/moving_mean:0:(550,)\n",
      "resnet_blocks.0.bn_activation_2.0.running_var:torch.Size([550]) <--> inferrer/residual_block_0/batch_normalization_1/moving_variance:0:(550,)\n",
      "resnet_blocks.0.bn_activation_2.0.num_batches_tracked:torch.Size([]) <--> inferrer/residual_block_0/batch_normalization_1/num_batches_tracked:0:()\n",
      "resnet_blocks.0.masked_conv2.weight:torch.Size([1100, 550, 1]) <--> inferrer/residual_block_0/conv1d_1/kernel:0:(1100, 550, 1)\n",
      "resnet_blocks.0.masked_conv2.bias:torch.Size([1100]) <--> inferrer/residual_block_0/conv1d_1/bias:0:(1100,)\n",
      "resnet_blocks.1.bn_activation_1.0.weight:torch.Size([1100]) <--> inferrer/residual_block_1/batch_normalization/gamma:0:(1100,)\n",
      "resnet_blocks.1.bn_activation_1.0.bias:torch.Size([1100]) <--> inferrer/residual_block_1/batch_normalization/beta:0:(1100,)\n",
      "resnet_blocks.1.bn_activation_1.0.running_mean:torch.Size([1100]) <--> inferrer/residual_block_1/batch_normalization/moving_mean:0:(1100,)\n",
      "resnet_blocks.1.bn_activation_1.0.running_var:torch.Size([1100]) <--> inferrer/residual_block_1/batch_normalization/moving_variance:0:(1100,)\n",
      "resnet_blocks.1.bn_activation_1.0.num_batches_tracked:torch.Size([]) <--> inferrer/residual_block_1/batch_normalization/num_batches_tracked:0:()\n",
      "resnet_blocks.1.masked_conv1.weight:torch.Size([550, 1100, 9]) <--> inferrer/residual_block_1/conv1d/kernel:0:(550, 1100, 9)\n",
      "resnet_blocks.1.masked_conv1.bias:torch.Size([550]) <--> inferrer/residual_block_1/conv1d/bias:0:(550,)\n",
      "resnet_blocks.1.bn_activation_2.0.weight:torch.Size([550]) <--> inferrer/residual_block_1/batch_normalization_1/gamma:0:(550,)\n",
      "resnet_blocks.1.bn_activation_2.0.bias:torch.Size([550]) <--> inferrer/residual_block_1/batch_normalization_1/beta:0:(550,)\n",
      "resnet_blocks.1.bn_activation_2.0.running_mean:torch.Size([550]) <--> inferrer/residual_block_1/batch_normalization_1/moving_mean:0:(550,)\n",
      "resnet_blocks.1.bn_activation_2.0.running_var:torch.Size([550]) <--> inferrer/residual_block_1/batch_normalization_1/moving_variance:0:(550,)\n",
      "resnet_blocks.1.bn_activation_2.0.num_batches_tracked:torch.Size([]) <--> inferrer/residual_block_1/batch_normalization_1/num_batches_tracked:0:()\n",
      "resnet_blocks.1.masked_conv2.weight:torch.Size([1100, 550, 1]) <--> inferrer/residual_block_1/conv1d_1/kernel:0:(1100, 550, 1)\n",
      "resnet_blocks.1.masked_conv2.bias:torch.Size([1100]) <--> inferrer/residual_block_1/conv1d_1/bias:0:(1100,)\n",
      "resnet_blocks.2.bn_activation_1.0.weight:torch.Size([1100]) <--> inferrer/residual_block_2/batch_normalization/gamma:0:(1100,)\n",
      "resnet_blocks.2.bn_activation_1.0.bias:torch.Size([1100]) <--> inferrer/residual_block_2/batch_normalization/beta:0:(1100,)\n",
      "resnet_blocks.2.bn_activation_1.0.running_mean:torch.Size([1100]) <--> inferrer/residual_block_2/batch_normalization/moving_mean:0:(1100,)\n",
      "resnet_blocks.2.bn_activation_1.0.running_var:torch.Size([1100]) <--> inferrer/residual_block_2/batch_normalization/moving_variance:0:(1100,)\n",
      "resnet_blocks.2.bn_activation_1.0.num_batches_tracked:torch.Size([]) <--> inferrer/residual_block_2/batch_normalization/num_batches_tracked:0:()\n",
      "resnet_blocks.2.masked_conv1.weight:torch.Size([550, 1100, 9]) <--> inferrer/residual_block_2/conv1d/kernel:0:(550, 1100, 9)\n",
      "resnet_blocks.2.masked_conv1.bias:torch.Size([550]) <--> inferrer/residual_block_2/conv1d/bias:0:(550,)\n",
      "resnet_blocks.2.bn_activation_2.0.weight:torch.Size([550]) <--> inferrer/residual_block_2/batch_normalization_1/gamma:0:(550,)\n",
      "resnet_blocks.2.bn_activation_2.0.bias:torch.Size([550]) <--> inferrer/residual_block_2/batch_normalization_1/beta:0:(550,)\n",
      "resnet_blocks.2.bn_activation_2.0.running_mean:torch.Size([550]) <--> inferrer/residual_block_2/batch_normalization_1/moving_mean:0:(550,)\n",
      "resnet_blocks.2.bn_activation_2.0.running_var:torch.Size([550]) <--> inferrer/residual_block_2/batch_normalization_1/moving_variance:0:(550,)\n",
      "resnet_blocks.2.bn_activation_2.0.num_batches_tracked:torch.Size([]) <--> inferrer/residual_block_2/batch_normalization_1/num_batches_tracked:0:()\n",
      "resnet_blocks.2.masked_conv2.weight:torch.Size([1100, 550, 1]) <--> inferrer/residual_block_2/conv1d_1/kernel:0:(1100, 550, 1)\n",
      "resnet_blocks.2.masked_conv2.bias:torch.Size([1100]) <--> inferrer/residual_block_2/conv1d_1/bias:0:(1100,)\n",
      "resnet_blocks.3.bn_activation_1.0.weight:torch.Size([1100]) <--> inferrer/residual_block_3/batch_normalization/gamma:0:(1100,)\n",
      "resnet_blocks.3.bn_activation_1.0.bias:torch.Size([1100]) <--> inferrer/residual_block_3/batch_normalization/beta:0:(1100,)\n",
      "resnet_blocks.3.bn_activation_1.0.running_mean:torch.Size([1100]) <--> inferrer/residual_block_3/batch_normalization/moving_mean:0:(1100,)\n",
      "resnet_blocks.3.bn_activation_1.0.running_var:torch.Size([1100]) <--> inferrer/residual_block_3/batch_normalization/moving_variance:0:(1100,)\n",
      "resnet_blocks.3.bn_activation_1.0.num_batches_tracked:torch.Size([]) <--> inferrer/residual_block_3/batch_normalization/num_batches_tracked:0:()\n",
      "resnet_blocks.3.masked_conv1.weight:torch.Size([550, 1100, 9]) <--> inferrer/residual_block_3/conv1d/kernel:0:(550, 1100, 9)\n",
      "resnet_blocks.3.masked_conv1.bias:torch.Size([550]) <--> inferrer/residual_block_3/conv1d/bias:0:(550,)\n",
      "resnet_blocks.3.bn_activation_2.0.weight:torch.Size([550]) <--> inferrer/residual_block_3/batch_normalization_1/gamma:0:(550,)\n",
      "resnet_blocks.3.bn_activation_2.0.bias:torch.Size([550]) <--> inferrer/residual_block_3/batch_normalization_1/beta:0:(550,)\n",
      "resnet_blocks.3.bn_activation_2.0.running_mean:torch.Size([550]) <--> inferrer/residual_block_3/batch_normalization_1/moving_mean:0:(550,)\n",
      "resnet_blocks.3.bn_activation_2.0.running_var:torch.Size([550]) <--> inferrer/residual_block_3/batch_normalization_1/moving_variance:0:(550,)\n",
      "resnet_blocks.3.bn_activation_2.0.num_batches_tracked:torch.Size([]) <--> inferrer/residual_block_3/batch_normalization_1/num_batches_tracked:0:()\n",
      "resnet_blocks.3.masked_conv2.weight:torch.Size([1100, 550, 1]) <--> inferrer/residual_block_3/conv1d_1/kernel:0:(1100, 550, 1)\n",
      "resnet_blocks.3.masked_conv2.bias:torch.Size([1100]) <--> inferrer/residual_block_3/conv1d_1/bias:0:(1100,)\n",
      "resnet_blocks.4.bn_activation_1.0.weight:torch.Size([1100]) <--> inferrer/residual_block_4/batch_normalization/gamma:0:(1100,)\n",
      "resnet_blocks.4.bn_activation_1.0.bias:torch.Size([1100]) <--> inferrer/residual_block_4/batch_normalization/beta:0:(1100,)\n",
      "resnet_blocks.4.bn_activation_1.0.running_mean:torch.Size([1100]) <--> inferrer/residual_block_4/batch_normalization/moving_mean:0:(1100,)\n",
      "resnet_blocks.4.bn_activation_1.0.running_var:torch.Size([1100]) <--> inferrer/residual_block_4/batch_normalization/moving_variance:0:(1100,)\n",
      "resnet_blocks.4.bn_activation_1.0.num_batches_tracked:torch.Size([]) <--> inferrer/residual_block_4/batch_normalization/num_batches_tracked:0:()\n",
      "resnet_blocks.4.masked_conv1.weight:torch.Size([550, 1100, 9]) <--> inferrer/residual_block_4/conv1d/kernel:0:(550, 1100, 9)\n",
      "resnet_blocks.4.masked_conv1.bias:torch.Size([550]) <--> inferrer/residual_block_4/conv1d/bias:0:(550,)\n",
      "resnet_blocks.4.bn_activation_2.0.weight:torch.Size([550]) <--> inferrer/residual_block_4/batch_normalization_1/gamma:0:(550,)\n",
      "resnet_blocks.4.bn_activation_2.0.bias:torch.Size([550]) <--> inferrer/residual_block_4/batch_normalization_1/beta:0:(550,)\n",
      "resnet_blocks.4.bn_activation_2.0.running_mean:torch.Size([550]) <--> inferrer/residual_block_4/batch_normalization_1/moving_mean:0:(550,)\n",
      "resnet_blocks.4.bn_activation_2.0.running_var:torch.Size([550]) <--> inferrer/residual_block_4/batch_normalization_1/moving_variance:0:(550,)\n",
      "resnet_blocks.4.bn_activation_2.0.num_batches_tracked:torch.Size([]) <--> inferrer/residual_block_4/batch_normalization_1/num_batches_tracked:0:()\n",
      "resnet_blocks.4.masked_conv2.weight:torch.Size([1100, 550, 1]) <--> inferrer/residual_block_4/conv1d_1/kernel:0:(1100, 550, 1)\n",
      "resnet_blocks.4.masked_conv2.bias:torch.Size([1100]) <--> inferrer/residual_block_4/conv1d_1/bias:0:(1100,)\n",
      "output_layer.weight:torch.Size([32102, 1100]) <--> inferrer/logits/kernel:0:(32102, 1100)\n",
      "output_layer.bias:torch.Size([32102]) <--> inferrer/logits/bias:0:(32102,)\n"
     ]
    },
    {
     "data": {
      "text/plain": [
       "ProteInfer(\n",
       "  (conv1): MaskedConv1D(20, 1100, kernel_size=(9,), stride=(1,), padding=same)\n",
       "  (resnet_blocks): ModuleList(\n",
       "    (0): Residual(\n",
       "      (bn_activation_1): Sequential(\n",
       "        (0): BatchNorm1d(1100, eps=0.001, momentum=0.01, affine=True, track_running_stats=True)\n",
       "        (1): ReLU()\n",
       "      )\n",
       "      (masked_conv1): MaskedConv1D(1100, 550, kernel_size=(9,), stride=(1,), padding=same)\n",
       "      (bn_activation_2): Sequential(\n",
       "        (0): BatchNorm1d(550, eps=0.001, momentum=0.01, affine=True, track_running_stats=True)\n",
       "        (1): ReLU()\n",
       "      )\n",
       "      (masked_conv2): MaskedConv1D(550, 1100, kernel_size=(1,), stride=(1,), padding=same)\n",
       "    )\n",
       "    (1): Residual(\n",
       "      (bn_activation_1): Sequential(\n",
       "        (0): BatchNorm1d(1100, eps=0.001, momentum=0.01, affine=True, track_running_stats=True)\n",
       "        (1): ReLU()\n",
       "      )\n",
       "      (masked_conv1): MaskedConv1D(1100, 550, kernel_size=(9,), stride=(1,), padding=same, dilation=(3,))\n",
       "      (bn_activation_2): Sequential(\n",
       "        (0): BatchNorm1d(550, eps=0.001, momentum=0.01, affine=True, track_running_stats=True)\n",
       "        (1): ReLU()\n",
       "      )\n",
       "      (masked_conv2): MaskedConv1D(550, 1100, kernel_size=(1,), stride=(1,), padding=same)\n",
       "    )\n",
       "    (2): Residual(\n",
       "      (bn_activation_1): Sequential(\n",
       "        (0): BatchNorm1d(1100, eps=0.001, momentum=0.01, affine=True, track_running_stats=True)\n",
       "        (1): ReLU()\n",
       "      )\n",
       "      (masked_conv1): MaskedConv1D(1100, 550, kernel_size=(9,), stride=(1,), padding=same, dilation=(9,))\n",
       "      (bn_activation_2): Sequential(\n",
       "        (0): BatchNorm1d(550, eps=0.001, momentum=0.01, affine=True, track_running_stats=True)\n",
       "        (1): ReLU()\n",
       "      )\n",
       "      (masked_conv2): MaskedConv1D(550, 1100, kernel_size=(1,), stride=(1,), padding=same)\n",
       "    )\n",
       "    (3): Residual(\n",
       "      (bn_activation_1): Sequential(\n",
       "        (0): BatchNorm1d(1100, eps=0.001, momentum=0.01, affine=True, track_running_stats=True)\n",
       "        (1): ReLU()\n",
       "      )\n",
       "      (masked_conv1): MaskedConv1D(1100, 550, kernel_size=(9,), stride=(1,), padding=same, dilation=(27,))\n",
       "      (bn_activation_2): Sequential(\n",
       "        (0): BatchNorm1d(550, eps=0.001, momentum=0.01, affine=True, track_running_stats=True)\n",
       "        (1): ReLU()\n",
       "      )\n",
       "      (masked_conv2): MaskedConv1D(550, 1100, kernel_size=(1,), stride=(1,), padding=same)\n",
       "    )\n",
       "    (4): Residual(\n",
       "      (bn_activation_1): Sequential(\n",
       "        (0): BatchNorm1d(1100, eps=0.001, momentum=0.01, affine=True, track_running_stats=True)\n",
       "        (1): ReLU()\n",
       "      )\n",
       "      (masked_conv1): MaskedConv1D(1100, 550, kernel_size=(9,), stride=(1,), padding=same, dilation=(81,))\n",
       "      (bn_activation_2): Sequential(\n",
       "        (0): BatchNorm1d(550, eps=0.001, momentum=0.01, affine=True, track_running_stats=True)\n",
       "        (1): ReLU()\n",
       "      )\n",
       "      (masked_conv2): MaskedConv1D(550, 1100, kernel_size=(1,), stride=(1,), padding=same)\n",
       "    )\n",
       "  )\n",
       "  (output_layer): Linear(in_features=1100, out_features=32102, bias=True)\n",
       ")"
      ]
     },
     "execution_count": 7,
     "metadata": {},
     "output_type": "execute_result"
    }
   ],
   "source": [
    "from src.models.protein_encoders import ProteInfer\n",
    "import torch\n",
    "model = ProteInfer(num_labels=32102,\n",
    "                      input_channels=20,\n",
    "                      output_channels=1100,\n",
    "                      kernel_size=9,\n",
    "                      activation=torch.nn.ReLU,\n",
    "                      dilation_base=3,\n",
    "                      num_resnet_blocks=5,\n",
    "                      bottleneck_factor=0.5)\n",
    "\n",
    "from src.utils.proteinfer import transfer_tf_weights_to_torch\n",
    "transfer_tf_weights_to_torch(model,'../models/proteinfer/GO_model_weights.pkl')\n",
    "\n",
    "model.to('cuda:0')"
   ]
  },
  {
   "cell_type": "code",
   "execution_count": 9,
   "metadata": {},
   "outputs": [],
   "source": [
    "from torch.utils.data import DataLoader\n",
    "from src.data.collators import collate_variable_sequence_length\n",
    "PD_loader = DataLoader(dataset=PD,\n",
    "                          batch_size=2,\n",
    "                          shuffle=False,\n",
    "                          num_workers=2,\n",
    "                          collate_fn=collate_variable_sequence_length)"
   ]
  },
  {
   "cell_type": "code",
   "execution_count": 29,
   "metadata": {},
   "outputs": [
    {
     "data": {
      "text/plain": [
       "tensor([-0.7193, -0.8540, -0.7379,  ..., -0.8559, -0.7143, -0.8150],\n",
       "       device='cuda:0')"
      ]
     },
     "execution_count": 29,
     "metadata": {},
     "output_type": "execute_result"
    }
   ],
   "source": [
    "sd = model.state_dict()\n",
    "sd['resnet_blocks.0.bn_activation_1.0.running_mean']"
   ]
  },
  {
   "cell_type": "code",
   "execution_count": 10,
   "metadata": {},
   "outputs": [
    {
     "name": "stdout",
     "output_type": "stream",
     "text": [
      "logits torch.Size([2, 32102]) tensor(-25.6217, device='cuda:0') tensor(-1645014.7500, device='cuda:0')\n"
     ]
    }
   ],
   "source": [
    "model.eval()\n",
    "with torch.no_grad():\n",
    "    for i,s,l in PD_loader:\n",
    "        logits = model(i.type(torch.FloatTensor).to('cuda:0'),s.to('cuda:0'))\n",
    "        probas = torch.sigmoid(logits)\n",
    "        above_th = (probas>0.5)*1\n"
   ]
  },
  {
   "cell_type": "code",
   "execution_count": 2,
   "metadata": {},
   "outputs": [
    {
     "ename": "TypeError",
     "evalue": "conv1d(): argument 'padding' (position 5) must be tuple of ints, not str",
     "output_type": "error",
     "traceback": [
      "\u001b[0;31m---------------------------------------------------------------------------\u001b[0m",
      "\u001b[0;31mTypeError\u001b[0m                                 Traceback (most recent call last)",
      "Cell \u001b[0;32mIn[2], line 7\u001b[0m\n\u001b[1;32m      5\u001b[0m prot_enc \u001b[39m=\u001b[39m ProteInfer(num_labels\u001b[39m=\u001b[39m\u001b[39m32102\u001b[39m,input_channels\u001b[39m=\u001b[39m\u001b[39m20\u001b[39m,output_channels\u001b[39m=\u001b[39m\u001b[39m1100\u001b[39m,kernel_size\u001b[39m=\u001b[39m\u001b[39m9\u001b[39m,activation\u001b[39m=\u001b[39mtorch\u001b[39m.\u001b[39mnn\u001b[39m.\u001b[39mReLU,dilation_base\u001b[39m=\u001b[39m\u001b[39m3\u001b[39m,num_resnet_blocks\u001b[39m=\u001b[39m\u001b[39m5\u001b[39m,bottleneck_factor\u001b[39m=\u001b[39m\u001b[39m0.5\u001b[39m)\n\u001b[1;32m      6\u001b[0m seqs_lengths \u001b[39m=\u001b[39m torch\u001b[39m.\u001b[39mtensor([\u001b[39m80\u001b[39m,\u001b[39m20\u001b[39m,\u001b[39m5\u001b[39m,\u001b[39m100\u001b[39m,\u001b[39m95\u001b[39m,\u001b[39m80\u001b[39m,\u001b[39m20\u001b[39m,\u001b[39m5\u001b[39m])\n\u001b[0;32m----> 7\u001b[0m o\u001b[39m=\u001b[39mprot_enc(i,seqs_lengths)\n\u001b[1;32m      8\u001b[0m o\u001b[39m.\u001b[39mshape\n",
      "File \u001b[0;32m/anaconda/envs/protein_functions38/lib/python3.8/site-packages/torch/nn/modules/module.py:727\u001b[0m, in \u001b[0;36mModule._call_impl\u001b[0;34m(self, *input, **kwargs)\u001b[0m\n\u001b[1;32m    725\u001b[0m     result \u001b[39m=\u001b[39m \u001b[39mself\u001b[39m\u001b[39m.\u001b[39m_slow_forward(\u001b[39m*\u001b[39m\u001b[39minput\u001b[39m, \u001b[39m*\u001b[39m\u001b[39m*\u001b[39mkwargs)\n\u001b[1;32m    726\u001b[0m \u001b[39melse\u001b[39;00m:\n\u001b[0;32m--> 727\u001b[0m     result \u001b[39m=\u001b[39m \u001b[39mself\u001b[39;49m\u001b[39m.\u001b[39;49mforward(\u001b[39m*\u001b[39;49m\u001b[39minput\u001b[39;49m, \u001b[39m*\u001b[39;49m\u001b[39m*\u001b[39;49mkwargs)\n\u001b[1;32m    728\u001b[0m \u001b[39mfor\u001b[39;00m hook \u001b[39min\u001b[39;00m itertools\u001b[39m.\u001b[39mchain(\n\u001b[1;32m    729\u001b[0m         _global_forward_hooks\u001b[39m.\u001b[39mvalues(),\n\u001b[1;32m    730\u001b[0m         \u001b[39mself\u001b[39m\u001b[39m.\u001b[39m_forward_hooks\u001b[39m.\u001b[39mvalues()):\n\u001b[1;32m    731\u001b[0m     hook_result \u001b[39m=\u001b[39m hook(\u001b[39mself\u001b[39m, \u001b[39minput\u001b[39m, result)\n",
      "File \u001b[0;32m~/ProteinFunctions/src/models/protein_encoders.py:95\u001b[0m, in \u001b[0;36mProteInfer.forward\u001b[0;34m(self, x, sequence_lengths)\u001b[0m\n\u001b[1;32m     94\u001b[0m \u001b[39mdef\u001b[39;00m \u001b[39mforward\u001b[39m(\u001b[39mself\u001b[39m,x,sequence_lengths):\n\u001b[0;32m---> 95\u001b[0m     features \u001b[39m=\u001b[39m \u001b[39mself\u001b[39;49m\u001b[39m.\u001b[39;49mconv1(x,sequence_lengths)\n\u001b[1;32m     97\u001b[0m     \u001b[39m#Sequential doesn't work here because of multiple inputs\u001b[39;00m\n\u001b[1;32m     98\u001b[0m     \u001b[39mfor\u001b[39;00m resnet_block \u001b[39min\u001b[39;00m \u001b[39mself\u001b[39m\u001b[39m.\u001b[39mresnet_blocks:\n",
      "File \u001b[0;32m/anaconda/envs/protein_functions38/lib/python3.8/site-packages/torch/nn/modules/module.py:727\u001b[0m, in \u001b[0;36mModule._call_impl\u001b[0;34m(self, *input, **kwargs)\u001b[0m\n\u001b[1;32m    725\u001b[0m     result \u001b[39m=\u001b[39m \u001b[39mself\u001b[39m\u001b[39m.\u001b[39m_slow_forward(\u001b[39m*\u001b[39m\u001b[39minput\u001b[39m, \u001b[39m*\u001b[39m\u001b[39m*\u001b[39mkwargs)\n\u001b[1;32m    726\u001b[0m \u001b[39melse\u001b[39;00m:\n\u001b[0;32m--> 727\u001b[0m     result \u001b[39m=\u001b[39m \u001b[39mself\u001b[39;49m\u001b[39m.\u001b[39;49mforward(\u001b[39m*\u001b[39;49m\u001b[39minput\u001b[39;49m, \u001b[39m*\u001b[39;49m\u001b[39m*\u001b[39;49mkwargs)\n\u001b[1;32m    728\u001b[0m \u001b[39mfor\u001b[39;00m hook \u001b[39min\u001b[39;00m itertools\u001b[39m.\u001b[39mchain(\n\u001b[1;32m    729\u001b[0m         _global_forward_hooks\u001b[39m.\u001b[39mvalues(),\n\u001b[1;32m    730\u001b[0m         \u001b[39mself\u001b[39m\u001b[39m.\u001b[39m_forward_hooks\u001b[39m.\u001b[39mvalues()):\n\u001b[1;32m    731\u001b[0m     hook_result \u001b[39m=\u001b[39m hook(\u001b[39mself\u001b[39m, \u001b[39minput\u001b[39m, result)\n",
      "File \u001b[0;32m~/ProteinFunctions/src/models/protein_encoders.py:13\u001b[0m, in \u001b[0;36mMaskedConv1D.forward\u001b[0;34m(self, x, sequence_lengths)\u001b[0m\n\u001b[1;32m      8\u001b[0m \u001b[39m\u001b[39m\u001b[39m'''\u001b[39;00m\n\u001b[1;32m      9\u001b[0m \u001b[39mCorrect for padding before and after. Can be redundant\u001b[39;00m\n\u001b[1;32m     10\u001b[0m \u001b[39mbut reduces overhead of setting padding to sentiel in other contexts.\u001b[39;00m\n\u001b[1;32m     11\u001b[0m \u001b[39m'''\u001b[39;00m\n\u001b[1;32m     12\u001b[0m x \u001b[39m=\u001b[39m set_padding_to_sentinel(x,sequence_lengths,\u001b[39m0\u001b[39m)\n\u001b[0;32m---> 13\u001b[0m x \u001b[39m=\u001b[39m \u001b[39msuper\u001b[39;49m()\u001b[39m.\u001b[39;49mforward(x)\n\u001b[1;32m     14\u001b[0m x \u001b[39m=\u001b[39m set_padding_to_sentinel(x,sequence_lengths,\u001b[39m0\u001b[39m)\n\u001b[1;32m     15\u001b[0m \u001b[39mreturn\u001b[39;00m x\n",
      "File \u001b[0;32m/anaconda/envs/protein_functions38/lib/python3.8/site-packages/torch/nn/modules/conv.py:258\u001b[0m, in \u001b[0;36mConv1d.forward\u001b[0;34m(self, input)\u001b[0m\n\u001b[1;32m    254\u001b[0m \u001b[39mif\u001b[39;00m \u001b[39mself\u001b[39m\u001b[39m.\u001b[39mpadding_mode \u001b[39m!=\u001b[39m \u001b[39m'\u001b[39m\u001b[39mzeros\u001b[39m\u001b[39m'\u001b[39m:\n\u001b[1;32m    255\u001b[0m     \u001b[39mreturn\u001b[39;00m F\u001b[39m.\u001b[39mconv1d(F\u001b[39m.\u001b[39mpad(\u001b[39minput\u001b[39m, \u001b[39mself\u001b[39m\u001b[39m.\u001b[39m_reversed_padding_repeated_twice, mode\u001b[39m=\u001b[39m\u001b[39mself\u001b[39m\u001b[39m.\u001b[39mpadding_mode),\n\u001b[1;32m    256\u001b[0m                     \u001b[39mself\u001b[39m\u001b[39m.\u001b[39mweight, \u001b[39mself\u001b[39m\u001b[39m.\u001b[39mbias, \u001b[39mself\u001b[39m\u001b[39m.\u001b[39mstride,\n\u001b[1;32m    257\u001b[0m                     _single(\u001b[39m0\u001b[39m), \u001b[39mself\u001b[39m\u001b[39m.\u001b[39mdilation, \u001b[39mself\u001b[39m\u001b[39m.\u001b[39mgroups)\n\u001b[0;32m--> 258\u001b[0m \u001b[39mreturn\u001b[39;00m F\u001b[39m.\u001b[39;49mconv1d(\u001b[39minput\u001b[39;49m, \u001b[39mself\u001b[39;49m\u001b[39m.\u001b[39;49mweight, \u001b[39mself\u001b[39;49m\u001b[39m.\u001b[39;49mbias, \u001b[39mself\u001b[39;49m\u001b[39m.\u001b[39;49mstride,\n\u001b[1;32m    259\u001b[0m                 \u001b[39mself\u001b[39;49m\u001b[39m.\u001b[39;49mpadding, \u001b[39mself\u001b[39;49m\u001b[39m.\u001b[39;49mdilation, \u001b[39mself\u001b[39;49m\u001b[39m.\u001b[39;49mgroups)\n",
      "\u001b[0;31mTypeError\u001b[0m: conv1d(): argument 'padding' (position 5) must be tuple of ints, not str"
     ]
    }
   ],
   "source": [
    "import torch\n",
    "from src.models.protein_encoders import Residual,ProteInfer\n",
    "i=torch.ones((8,20,100))\n",
    "#r=Residual(input_channels=20,kernel_size=9,dilation=9,bottleneck_factor=0.5,activation = torch.nn.ReLU)\n",
    "prot_enc = ProteInfer(num_labels=32102,input_channels=20,output_channels=1100,kernel_size=9,activation=torch.nn.ReLU,dilation_base=3,num_resnet_blocks=5,bottleneck_factor=0.5)\n",
    "seqs_lengths = torch.tensor([80,20,5,100,95,80,20,5])\n",
    "o=prot_enc(i,seqs_lengths)\n",
    "o.shape"
   ]
  },
  {
   "cell_type": "code",
   "execution_count": 3,
   "metadata": {},
   "outputs": [
    {
     "name": "stdout",
     "output_type": "stream",
     "text": [
      "Pytorch num variables: 74\n",
      "Tensorflow num variables: 74\n",
      "\n",
      "\n",
      "conv1.weight:torch.Size([1100, 20, 9]) <--> inferrer/conv1d/kernel:0:(1100, 20, 9)\n",
      "conv1.bias:torch.Size([1100]) <--> inferrer/conv1d/bias:0:(1100,)\n",
      "resnet_blocks.0.bn_activation_1.0.weight:torch.Size([1100]) <--> inferrer/residual_block_0/batch_normalization/gamma:0:(1100,)\n",
      "resnet_blocks.0.bn_activation_1.0.bias:torch.Size([1100]) <--> inferrer/residual_block_0/batch_normalization/beta:0:(1100,)\n",
      "resnet_blocks.0.bn_activation_1.0.running_mean:torch.Size([1100]) <--> inferrer/residual_block_0/batch_normalization/moving_mean:0:(1100,)\n",
      "resnet_blocks.0.bn_activation_1.0.running_var:torch.Size([1100]) <--> inferrer/residual_block_0/batch_normalization/moving_variance:0:(1100,)\n",
      "resnet_blocks.0.bn_activation_1.0.num_batches_tracked:torch.Size([]) <--> inferrer/residual_block_0/batch_normalization/num_batches_tracked:0:()\n",
      "resnet_blocks.0.masked_conv1.weight:torch.Size([550, 1100, 9]) <--> inferrer/residual_block_0/conv1d/kernel:0:(550, 1100, 9)\n",
      "resnet_blocks.0.masked_conv1.bias:torch.Size([550]) <--> inferrer/residual_block_0/conv1d/bias:0:(550,)\n",
      "resnet_blocks.0.bn_activation_2.0.weight:torch.Size([550]) <--> inferrer/residual_block_0/batch_normalization_1/gamma:0:(550,)\n",
      "resnet_blocks.0.bn_activation_2.0.bias:torch.Size([550]) <--> inferrer/residual_block_0/batch_normalization_1/beta:0:(550,)\n",
      "resnet_blocks.0.bn_activation_2.0.running_mean:torch.Size([550]) <--> inferrer/residual_block_0/batch_normalization_1/moving_mean:0:(550,)\n",
      "resnet_blocks.0.bn_activation_2.0.running_var:torch.Size([550]) <--> inferrer/residual_block_0/batch_normalization_1/moving_variance:0:(550,)\n",
      "resnet_blocks.0.bn_activation_2.0.num_batches_tracked:torch.Size([]) <--> inferrer/residual_block_0/batch_normalization_1/num_batches_tracked:0:()\n",
      "resnet_blocks.0.masked_conv2.weight:torch.Size([1100, 550, 1]) <--> inferrer/residual_block_0/conv1d_1/kernel:0:(1100, 550, 1)\n",
      "resnet_blocks.0.masked_conv2.bias:torch.Size([1100]) <--> inferrer/residual_block_0/conv1d_1/bias:0:(1100,)\n",
      "resnet_blocks.1.bn_activation_1.0.weight:torch.Size([1100]) <--> inferrer/residual_block_1/batch_normalization/gamma:0:(1100,)\n",
      "resnet_blocks.1.bn_activation_1.0.bias:torch.Size([1100]) <--> inferrer/residual_block_1/batch_normalization/beta:0:(1100,)\n",
      "resnet_blocks.1.bn_activation_1.0.running_mean:torch.Size([1100]) <--> inferrer/residual_block_1/batch_normalization/moving_mean:0:(1100,)\n",
      "resnet_blocks.1.bn_activation_1.0.running_var:torch.Size([1100]) <--> inferrer/residual_block_1/batch_normalization/moving_variance:0:(1100,)\n",
      "resnet_blocks.1.bn_activation_1.0.num_batches_tracked:torch.Size([]) <--> inferrer/residual_block_1/batch_normalization/num_batches_tracked:0:()\n",
      "resnet_blocks.1.masked_conv1.weight:torch.Size([550, 1100, 9]) <--> inferrer/residual_block_1/conv1d/kernel:0:(550, 1100, 9)\n",
      "resnet_blocks.1.masked_conv1.bias:torch.Size([550]) <--> inferrer/residual_block_1/conv1d/bias:0:(550,)\n",
      "resnet_blocks.1.bn_activation_2.0.weight:torch.Size([550]) <--> inferrer/residual_block_1/batch_normalization_1/gamma:0:(550,)\n",
      "resnet_blocks.1.bn_activation_2.0.bias:torch.Size([550]) <--> inferrer/residual_block_1/batch_normalization_1/beta:0:(550,)\n",
      "resnet_blocks.1.bn_activation_2.0.running_mean:torch.Size([550]) <--> inferrer/residual_block_1/batch_normalization_1/moving_mean:0:(550,)\n",
      "resnet_blocks.1.bn_activation_2.0.running_var:torch.Size([550]) <--> inferrer/residual_block_1/batch_normalization_1/moving_variance:0:(550,)\n",
      "resnet_blocks.1.bn_activation_2.0.num_batches_tracked:torch.Size([]) <--> inferrer/residual_block_1/batch_normalization_1/num_batches_tracked:0:()\n",
      "resnet_blocks.1.masked_conv2.weight:torch.Size([1100, 550, 1]) <--> inferrer/residual_block_1/conv1d_1/kernel:0:(1100, 550, 1)\n",
      "resnet_blocks.1.masked_conv2.bias:torch.Size([1100]) <--> inferrer/residual_block_1/conv1d_1/bias:0:(1100,)\n",
      "resnet_blocks.2.bn_activation_1.0.weight:torch.Size([1100]) <--> inferrer/residual_block_2/batch_normalization/gamma:0:(1100,)\n",
      "resnet_blocks.2.bn_activation_1.0.bias:torch.Size([1100]) <--> inferrer/residual_block_2/batch_normalization/beta:0:(1100,)\n",
      "resnet_blocks.2.bn_activation_1.0.running_mean:torch.Size([1100]) <--> inferrer/residual_block_2/batch_normalization/moving_mean:0:(1100,)\n",
      "resnet_blocks.2.bn_activation_1.0.running_var:torch.Size([1100]) <--> inferrer/residual_block_2/batch_normalization/moving_variance:0:(1100,)\n",
      "resnet_blocks.2.bn_activation_1.0.num_batches_tracked:torch.Size([]) <--> inferrer/residual_block_2/batch_normalization/num_batches_tracked:0:()\n",
      "resnet_blocks.2.masked_conv1.weight:torch.Size([550, 1100, 9]) <--> inferrer/residual_block_2/conv1d/kernel:0:(550, 1100, 9)\n",
      "resnet_blocks.2.masked_conv1.bias:torch.Size([550]) <--> inferrer/residual_block_2/conv1d/bias:0:(550,)\n",
      "resnet_blocks.2.bn_activation_2.0.weight:torch.Size([550]) <--> inferrer/residual_block_2/batch_normalization_1/gamma:0:(550,)\n",
      "resnet_blocks.2.bn_activation_2.0.bias:torch.Size([550]) <--> inferrer/residual_block_2/batch_normalization_1/beta:0:(550,)\n",
      "resnet_blocks.2.bn_activation_2.0.running_mean:torch.Size([550]) <--> inferrer/residual_block_2/batch_normalization_1/moving_mean:0:(550,)\n",
      "resnet_blocks.2.bn_activation_2.0.running_var:torch.Size([550]) <--> inferrer/residual_block_2/batch_normalization_1/moving_variance:0:(550,)\n",
      "resnet_blocks.2.bn_activation_2.0.num_batches_tracked:torch.Size([]) <--> inferrer/residual_block_2/batch_normalization_1/num_batches_tracked:0:()\n",
      "resnet_blocks.2.masked_conv2.weight:torch.Size([1100, 550, 1]) <--> inferrer/residual_block_2/conv1d_1/kernel:0:(1100, 550, 1)\n",
      "resnet_blocks.2.masked_conv2.bias:torch.Size([1100]) <--> inferrer/residual_block_2/conv1d_1/bias:0:(1100,)\n",
      "resnet_blocks.3.bn_activation_1.0.weight:torch.Size([1100]) <--> inferrer/residual_block_3/batch_normalization/gamma:0:(1100,)\n",
      "resnet_blocks.3.bn_activation_1.0.bias:torch.Size([1100]) <--> inferrer/residual_block_3/batch_normalization/beta:0:(1100,)\n",
      "resnet_blocks.3.bn_activation_1.0.running_mean:torch.Size([1100]) <--> inferrer/residual_block_3/batch_normalization/moving_mean:0:(1100,)\n",
      "resnet_blocks.3.bn_activation_1.0.running_var:torch.Size([1100]) <--> inferrer/residual_block_3/batch_normalization/moving_variance:0:(1100,)\n",
      "resnet_blocks.3.bn_activation_1.0.num_batches_tracked:torch.Size([]) <--> inferrer/residual_block_3/batch_normalization/num_batches_tracked:0:()\n",
      "resnet_blocks.3.masked_conv1.weight:torch.Size([550, 1100, 9]) <--> inferrer/residual_block_3/conv1d/kernel:0:(550, 1100, 9)\n",
      "resnet_blocks.3.masked_conv1.bias:torch.Size([550]) <--> inferrer/residual_block_3/conv1d/bias:0:(550,)\n",
      "resnet_blocks.3.bn_activation_2.0.weight:torch.Size([550]) <--> inferrer/residual_block_3/batch_normalization_1/gamma:0:(550,)\n",
      "resnet_blocks.3.bn_activation_2.0.bias:torch.Size([550]) <--> inferrer/residual_block_3/batch_normalization_1/beta:0:(550,)\n",
      "resnet_blocks.3.bn_activation_2.0.running_mean:torch.Size([550]) <--> inferrer/residual_block_3/batch_normalization_1/moving_mean:0:(550,)\n",
      "resnet_blocks.3.bn_activation_2.0.running_var:torch.Size([550]) <--> inferrer/residual_block_3/batch_normalization_1/moving_variance:0:(550,)\n",
      "resnet_blocks.3.bn_activation_2.0.num_batches_tracked:torch.Size([]) <--> inferrer/residual_block_3/batch_normalization_1/num_batches_tracked:0:()\n",
      "resnet_blocks.3.masked_conv2.weight:torch.Size([1100, 550, 1]) <--> inferrer/residual_block_3/conv1d_1/kernel:0:(1100, 550, 1)\n",
      "resnet_blocks.3.masked_conv2.bias:torch.Size([1100]) <--> inferrer/residual_block_3/conv1d_1/bias:0:(1100,)\n",
      "resnet_blocks.4.bn_activation_1.0.weight:torch.Size([1100]) <--> inferrer/residual_block_4/batch_normalization/gamma:0:(1100,)\n",
      "resnet_blocks.4.bn_activation_1.0.bias:torch.Size([1100]) <--> inferrer/residual_block_4/batch_normalization/beta:0:(1100,)\n",
      "resnet_blocks.4.bn_activation_1.0.running_mean:torch.Size([1100]) <--> inferrer/residual_block_4/batch_normalization/moving_mean:0:(1100,)\n",
      "resnet_blocks.4.bn_activation_1.0.running_var:torch.Size([1100]) <--> inferrer/residual_block_4/batch_normalization/moving_variance:0:(1100,)\n",
      "resnet_blocks.4.bn_activation_1.0.num_batches_tracked:torch.Size([]) <--> inferrer/residual_block_4/batch_normalization/num_batches_tracked:0:()\n",
      "resnet_blocks.4.masked_conv1.weight:torch.Size([550, 1100, 9]) <--> inferrer/residual_block_4/conv1d/kernel:0:(550, 1100, 9)\n",
      "resnet_blocks.4.masked_conv1.bias:torch.Size([550]) <--> inferrer/residual_block_4/conv1d/bias:0:(550,)\n",
      "resnet_blocks.4.bn_activation_2.0.weight:torch.Size([550]) <--> inferrer/residual_block_4/batch_normalization_1/gamma:0:(550,)\n",
      "resnet_blocks.4.bn_activation_2.0.bias:torch.Size([550]) <--> inferrer/residual_block_4/batch_normalization_1/beta:0:(550,)\n",
      "resnet_blocks.4.bn_activation_2.0.running_mean:torch.Size([550]) <--> inferrer/residual_block_4/batch_normalization_1/moving_mean:0:(550,)\n",
      "resnet_blocks.4.bn_activation_2.0.running_var:torch.Size([550]) <--> inferrer/residual_block_4/batch_normalization_1/moving_variance:0:(550,)\n",
      "resnet_blocks.4.bn_activation_2.0.num_batches_tracked:torch.Size([]) <--> inferrer/residual_block_4/batch_normalization_1/num_batches_tracked:0:()\n",
      "resnet_blocks.4.masked_conv2.weight:torch.Size([1100, 550, 1]) <--> inferrer/residual_block_4/conv1d_1/kernel:0:(1100, 550, 1)\n",
      "resnet_blocks.4.masked_conv2.bias:torch.Size([1100]) <--> inferrer/residual_block_4/conv1d_1/bias:0:(1100,)\n",
      "output_layer.weight:torch.Size([32102, 1100]) <--> inferrer/logits/kernel:0:(32102, 1100)\n",
      "output_layer.bias:torch.Size([32102]) <--> inferrer/logits/bias:0:(32102,)\n"
     ]
    }
   ],
   "source": [
    "from src.utils.proteinfer import transfer_tf_weights_to_torch\n",
    "transfer_tf_weights_to_torch(prot_enc,'../models/proteinfer/GO_model_weights.pkl')"
   ]
  },
  {
   "cell_type": "code",
   "execution_count": 4,
   "metadata": {},
   "outputs": [
    {
     "data": {
      "text/plain": [
       "ProteInfer(\n",
       "  (conv1): MaskedConv1D(20, 1100, kernel_size=(9,), stride=(1,), padding=same)\n",
       "  (resnet_blocks): ModuleList(\n",
       "    (0): Residual(\n",
       "      (bn_activation_1): Sequential(\n",
       "        (0): BatchNorm1d(1100, eps=1e-05, momentum=0.1, affine=True, track_running_stats=True)\n",
       "        (1): ReLU()\n",
       "      )\n",
       "      (masked_conv1): MaskedConv1D(1100, 550, kernel_size=(9,), stride=(1,), padding=same)\n",
       "      (bn_activation_2): Sequential(\n",
       "        (0): BatchNorm1d(550, eps=1e-05, momentum=0.1, affine=True, track_running_stats=True)\n",
       "        (1): ReLU()\n",
       "      )\n",
       "      (masked_conv2): MaskedConv1D(550, 1100, kernel_size=(1,), stride=(1,), padding=same)\n",
       "    )\n",
       "    (1): Residual(\n",
       "      (bn_activation_1): Sequential(\n",
       "        (0): BatchNorm1d(1100, eps=1e-05, momentum=0.1, affine=True, track_running_stats=True)\n",
       "        (1): ReLU()\n",
       "      )\n",
       "      (masked_conv1): MaskedConv1D(1100, 550, kernel_size=(9,), stride=(1,), padding=same, dilation=(3,))\n",
       "      (bn_activation_2): Sequential(\n",
       "        (0): BatchNorm1d(550, eps=1e-05, momentum=0.1, affine=True, track_running_stats=True)\n",
       "        (1): ReLU()\n",
       "      )\n",
       "      (masked_conv2): MaskedConv1D(550, 1100, kernel_size=(1,), stride=(1,), padding=same)\n",
       "    )\n",
       "    (2): Residual(\n",
       "      (bn_activation_1): Sequential(\n",
       "        (0): BatchNorm1d(1100, eps=1e-05, momentum=0.1, affine=True, track_running_stats=True)\n",
       "        (1): ReLU()\n",
       "      )\n",
       "      (masked_conv1): MaskedConv1D(1100, 550, kernel_size=(9,), stride=(1,), padding=same, dilation=(9,))\n",
       "      (bn_activation_2): Sequential(\n",
       "        (0): BatchNorm1d(550, eps=1e-05, momentum=0.1, affine=True, track_running_stats=True)\n",
       "        (1): ReLU()\n",
       "      )\n",
       "      (masked_conv2): MaskedConv1D(550, 1100, kernel_size=(1,), stride=(1,), padding=same)\n",
       "    )\n",
       "    (3): Residual(\n",
       "      (bn_activation_1): Sequential(\n",
       "        (0): BatchNorm1d(1100, eps=1e-05, momentum=0.1, affine=True, track_running_stats=True)\n",
       "        (1): ReLU()\n",
       "      )\n",
       "      (masked_conv1): MaskedConv1D(1100, 550, kernel_size=(9,), stride=(1,), padding=same, dilation=(27,))\n",
       "      (bn_activation_2): Sequential(\n",
       "        (0): BatchNorm1d(550, eps=1e-05, momentum=0.1, affine=True, track_running_stats=True)\n",
       "        (1): ReLU()\n",
       "      )\n",
       "      (masked_conv2): MaskedConv1D(550, 1100, kernel_size=(1,), stride=(1,), padding=same)\n",
       "    )\n",
       "    (4): Residual(\n",
       "      (bn_activation_1): Sequential(\n",
       "        (0): BatchNorm1d(1100, eps=1e-05, momentum=0.1, affine=True, track_running_stats=True)\n",
       "        (1): ReLU()\n",
       "      )\n",
       "      (masked_conv1): MaskedConv1D(1100, 550, kernel_size=(9,), stride=(1,), padding=same, dilation=(81,))\n",
       "      (bn_activation_2): Sequential(\n",
       "        (0): BatchNorm1d(550, eps=1e-05, momentum=0.1, affine=True, track_running_stats=True)\n",
       "        (1): ReLU()\n",
       "      )\n",
       "      (masked_conv2): MaskedConv1D(550, 1100, kernel_size=(1,), stride=(1,), padding=same)\n",
       "    )\n",
       "  )\n",
       "  (output_layer): Linear(in_features=1100, out_features=32102, bias=True)\n",
       ")"
      ]
     },
     "execution_count": 4,
     "metadata": {},
     "output_type": "execute_result"
    }
   ],
   "source": [
    "prot_enc"
   ]
  }
 ],
 "metadata": {
  "kernelspec": {
   "display_name": "protein_functions",
   "language": "python",
   "name": "python3"
  },
  "language_info": {
   "codemirror_mode": {
    "name": "ipython",
    "version": 3
   },
   "file_extension": ".py",
   "mimetype": "text/x-python",
   "name": "python",
   "nbconvert_exporter": "python",
   "pygments_lexer": "ipython3",
   "version": "3.11.4"
  },
  "orig_nbformat": 4
 },
 "nbformat": 4,
 "nbformat_minor": 2
}
