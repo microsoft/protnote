{
 "cells": [
  {
   "cell_type": "markdown",
   "metadata": {},
   "source": [
    "# Take Two"
   ]
  },
  {
   "cell_type": "code",
   "execution_count": 1,
   "metadata": {},
   "outputs": [
    {
     "name": "stderr",
     "output_type": "stream",
     "text": [
      "/anaconda/envs/protein_functions_310/lib/python3.10/site-packages/tqdm/auto.py:21: TqdmWarning: IProgress not found. Please update jupyter and ipywidgets. See https://ipywidgets.readthedocs.io/en/stable/user_install.html\n",
      "  from .autonotebook import tqdm as notebook_tqdm\n"
     ]
    }
   ],
   "source": [
    "import numpy as np\n",
    "from datasets import Dataset\n",
    "import os\n",
    "from pathlib import Path\n",
    "from pynvml import *\n",
    "import loralib as lora\n",
    "import torch\n",
    "\n",
    "curdir = Path(os.getcwd())\n",
    "sys.path.append(str(curdir.parent.absolute()))\n",
    "\n",
    "from src.utils.data import read_pickle\n",
    "\n",
    "\n",
    "# Load test dataset\n",
    "GO_ANNOTATIONS_PATH = \"/home/samirchar/ProteinFunctions/data/annotations/go_annotations_2019_07_01.pkl\"\n",
    "go_annotations = read_pickle(GO_ANNOTATIONS_PATH)\n",
    "\n",
    "# Get first 1000 labels as a list\n",
    "text = go_annotations.iloc[:, 0].tolist()\n",
    "\n",
    "def print_gpu_utilization():\n",
    "    nvmlInit()\n",
    "    handle = nvmlDeviceGetHandleByIndex(0)\n",
    "    info = nvmlDeviceGetMemoryInfo(handle)\n",
    "    print(f\"GPU memory occupied: {info.used//1024**2} MB.\")\n",
    "\n",
    "\n",
    "def print_summary(result):\n",
    "    print(f\"Time: {result.metrics['train_runtime']:.2f}\")\n",
    "    print(f\"Samples/second: {result.metrics['train_samples_per_second']:.2f}\")\n",
    "    print_gpu_utilization()\n",
    "\n",
    "def print_trainable_parameters(model):\n",
    "    trainable_params = 0\n",
    "    all_param = 0\n",
    "    for _, param in model.named_parameters():\n",
    "        all_param += param.numel()\n",
    "        if param.requires_grad:\n",
    "            trainable_params += param.numel()\n",
    "    print(\n",
    "        f\"trainable params: {trainable_params} || all params: {all_param} || trainable%: {100 * trainable_params / all_param:.2f}\"\n",
    "    )"
   ]
  },
  {
   "cell_type": "code",
   "execution_count": 2,
   "metadata": {},
   "outputs": [],
   "source": [
    "from src.utils.data import read_fasta\n",
    "import torch"
   ]
  },
  {
   "cell_type": "code",
   "execution_count": 3,
   "metadata": {},
   "outputs": [
    {
     "name": "stdout",
     "output_type": "stream",
     "text": [
      "GPU memory occupied: 47 MB.\n"
     ]
    },
    {
     "name": "stdout",
     "output_type": "stream",
     "text": [
      "GPU memory occupied: 2290 MB.\n"
     ]
    }
   ],
   "source": [
    "from transformers import AutoTokenizer, AutoModelForSequenceClassification,AutoModel\n",
    "\n",
    "print_gpu_utilization()\n",
    "checkpoint = 'microsoft/biogpt'\n",
    "model = AutoModel.from_pretrained(\n",
    "    checkpoint,\n",
    "    # torch_dtype=torch.float16,\n",
    ").to(\"cuda\")\n",
    "\n",
    "# Initialize label tokenizer\n",
    "tokenizer = AutoTokenizer.from_pretrained(checkpoint)\n",
    "print_gpu_utilization()\n",
    "\n",
    "default_args = {\n",
    "    \"output_dir\": \"tmp\",\n",
    "    \"evaluation_strategy\": \"no\",\n",
    "    \"do_eval\": False,\n",
    "    \"num_train_epochs\": 1,\n",
    "    \"log_level\": \"error\",\n",
    "    \"report_to\": \"none\",\n",
    "}\n",
    "\n",
    "# Tokenize the go_annotations list\n",
    "tokenized_data = tokenizer(text, padding=\"longest\", truncation=True, max_length=512, return_tensors=\"pt\")\n",
    "\n",
    "# Create random labels for the new dataset\n",
    "random_labels = np.random.randint(0, 1, (len(text)))\n",
    "\n",
    "# Create the dataset from the tokenized data and random labels\n",
    "dummy_dataset = Dataset.from_dict({\n",
    "    \"input_ids\": tokenized_data[\"input_ids\"],\n",
    "    \"attention_mask\": tokenized_data[\"attention_mask\"], \n",
    "    \"labels\": random_labels\n",
    "})\n",
    "\n",
    "# Set the format to PyTorch tensors\n",
    "dummy_dataset.set_format(\"pt\")"
   ]
  },
  {
   "cell_type": "code",
   "execution_count": 31,
   "metadata": {},
   "outputs": [
    {
     "data": {
      "text/plain": [
       "tensor(57.)"
      ]
     },
     "execution_count": 31,
     "metadata": {},
     "output_type": "execute_result"
    }
   ],
   "source": [
    "(tokenized_data['attention_mask'].sum(axis=1)*1.0).quantile(.90)"
   ]
  },
  {
   "cell_type": "code",
   "execution_count": 29,
   "metadata": {},
   "outputs": [
    {
     "data": {
      "text/plain": [
       "array(['A SAGA-type histone acetyltransferase complex that contains Spt8 (in budding yeast) or a homolog thereof; additional polypeptides include Spt group, consisting of Spt7, Spt3, and Spt20/Ada5, which interact with the TATA-binding protein (TBP); the Ada group, consisting of Ada1, Ada2, Ada3, Ada4/Gcn5, and Ada5/Spt20, which is functionally linked to the nucleosomal HAT activity; Tra1, an ATM/PI-3 kinase-related protein that targets DNA-bound activators for recruitment to promoters; the TBP-associated factor (TAF) proteins, consisting of Taf5, Taf6, Taf9, Taf10, and Taf12, which mediate nucleosomal HAT activity and are thought to help recruit the basal transcription machinery; the ubiquitin specifc protease Ubp-8.',\n",
       "       'A ribonuclease complex that has 3-prime to 5-prime processive and distributive hydrolytic exoribonuclease activity and endoribonuclease activity, producing 5-prime-phosphomonoesters. Participates in a multitude of cellular RNA processing and degradation events preventing nuclear export and/or translation of aberrant RNAs. Restricted to processing linear and circular single-stranded RNAs (ssRNA) only. RNAs with complex secondary structures may have to be unwound or pre-processed by co-factors prior to entering the complex, esp if the 3-prime end is structured.',\n",
       "       'A ribonuclease complex that has 3-prime to 5-prime processive hydrolytic exoribonuclease activity producing 5-prime-phosphomonoesters. Participates in a multitude of cellular RNA processing and degradation events preventing nuclear export and/or translation of aberrant RNAs. Restricted to processing linear and circular single-stranded RNAs (ssRNA) only. RNAs with complex secondary structures may have to be unwound or pre-processed by co-factors prior to entering the complex, esp if the 3-prime end is structured.',\n",
       "       'A ribonuclease complex that has 3-prime to 5-prime exoribonuclease activity and possibly endoribonuclease activity, producing 5-prime-phosphomonoesters. Participates in a multitude of cellular RNA processing and degradation events preventing nuclear export and/or translation of aberrant RNAs. Restricted to processing linear and circular single-stranded RNAs (ssRNA) only. RNAs with complex secondary structures may have to be unwound or pre-processed by co-factors prior to entering the complex, esp if the 3-prime end is structured.',\n",
       "       'Catalysis of the reaction: 4-N-(N-acetyl-D-glucosaminyl)-protein + H2O = N-acetyl-beta-D-glucosaminylamine + peptide L-aspartate. This reaction is the hydrolysis of an N4-(acetyl-beta-D-glucosaminyl)asparagine residue in which the N-acetyl-D-glucosamine residue may be further glycosylated, to yield a (substituted) N-acetyl-beta-D-glucosaminylamine and the peptide containing an aspartic residue.',\n",
       "       'The formation of a tri-snRNP complex containing U4 and U6 (or U4atac and U6atac) snRNAs and U5 snRNAs and associated proteins. This includes reannealing of U4 and U6 (or U4atac and U6atac) snRNAs released from previous rounds of splicing to reform the U4/U6 snRNP (or U4atac/U6atac snRNP) as well as the subsequent association of the U5 snRNP with the U4/U6 snRNP (or U4atac/U6atac snRNP) to form a tri-snRNP that is ready to reassemble into another spliceosome complex.',\n",
       "       'A vacuole that has both lytic and storage functions. The fungal vacuole is a large, membrane-bounded organelle that functions as a reservoir for the storage of small molecules (including polyphosphate, amino acids, several divalent cations (e.g. calcium), other ions, and other small molecules) as well as being the primary compartment for degradation. It is an acidic compartment, containing an ensemble of acid hydrolases. At least in S. cerevisiae, there are indications that the morphology of the vacuole is variable and correlated with the cell cycle, with logarithmically growing cells having a multilobed, reticulated vacuole, while stationary phase cells contain a single large structure.',\n",
       "       \"Interacting selectively and non-covalently with the trimethylguanosine (m(3)(2,2,7)-GTP) group located at the 5' end of some RNA molecules. Such trimethylated cap structures, generally produced by posttranscriptional modification of a 7-methylguanosine cap, are often found on snRNAs and snoRNAs transcribed by RNA polymerase II, but have also be found on snRNAs transcribed by RNA polymerase III. They have also been found on a subset of the mRNA population in some species, e.g. C. elegans.\",\n",
       "       \"Interacting selectively and non-covalently with a hypermethylated cap structure consisting of 7-methylguanosine (m(7)G) followed by four methylated nucleotides (cap 4): 7-methylguanosine-ppp-N6, N6, 2'-O-trimethyladenosine-p-2'-O-methyladenosine-p-2'-O-methylcytosine-p-N3, 2'-O-dimethyluridine Such caps are known to be found at the 5' ends of SL RNAs of trypanosomatid protozoa.\",\n",
       "       'A plastid-encoded DNA-directed RNA polymerase complex that resembles eubacterial multisubunit RNA polymerases with a core composed of alpha, beta, and beta-prime subunits. An additional subunit, a sigma factor, is required for promoter recognition. PEP-B is distinguished from PEP-A by its sensitivity to the antibiotic rifampicin. PEP-B is found in both etioplasts and chloroplasts, but is the predominate form in etioplasts. It forms the core of the PEP-A form; the conversion from PEP-B to PEP-A occurs during chloroplast maturation.',\n",
       "       \"OBSOLETE. Catalysis of the first transesterification reaction of U12-type spliceosomal mRNA splicing. The intron branch site adenosine is the nucleophile attacking the 5' splice site, resulting in cleavage at this position. In cis splicing, this is the step that forms a lariat structure of the intron RNA, which is still joined to the 3' exon. The catalytic site is thought to be formed by U6atac snRNA and/or U2atac snRNA, and/or associated proteins.\",\n",
       "       \"OBSOLETE. Catalysis of the second transesterification reaction of U2-type spliceosomal mRNA splicing. Ligation of the two exons occurs via a transesterification reaction where the free 3'-hydroxyl group of the 5' exon is the nucleophile attacking the 3' splice site. Non-expressed sequences are now detached from the exons. In cis splicing, the intron is in a lariat structure. The catalytic site is thought to be formed by U6 and/or U2 snRNAs and/or associated proteins.\",\n",
       "       \"OBSOLETE. Catalysis of the second transesterification reaction of U12-type spliceosomal mRNA splicing. Ligation of the two exons occurs via a transesterification reaction where the free 3'-hydroxyl group of the 5' exon is the nucleophile attacking the 3' splice site. Non-expressed sequences are now detached from the exons. In cis splicing, the intron is in a lariat structure. The catalytic site is thought to be formed by U6 and/or U2 snRNAs and/or associated proteins.\",\n",
       "       'The splicing of Group I introns. This occurs by a ribozymic mechanism where the intron sequence forms a distinct 3D structure, characteristic of Group I introns and involved in determining the locations of the splice sites (there do not appear to be consensus splice site sequences) as well as having a role in catalyzing the splicing reactions, though protein factors are also required in vivo. Splicing occurs by a series of two transesterification reactions, generally with exogenous guanosine as the initiating nucleophile. The intron is excised as a linear piece (though it may subsequently circularize).',\n",
       "       'The splicing of Group II introns. This occurs by a ribozymic mechanism where the intron sequence forms a distinct 3D structure, characteristic of Group II introns and containing splice site consensus sequences, that is involved in catalyzing the splicing reactions, though protein factors are also required in vivo. Splicing occurs by a series of two transesterification reactions (mechanistically similar to those for splicing of nuclear mRNAs) initiated by a bulged adenosine residue within the intron sequence as the initiating nucleophile. The intron is excised as a lariat.',\n",
       "       'The splicing of Group III introns. This occurs by a ribozymic mechanism where the intron sequence forms a distinct 3D structure, characteristic of Group III introns, that is involved in catalyzing the splicing reactions, though protein factors are also required in vivo. Splicing occurs by a series of two transesterification reactions begun by a bulged adenosine residue within the intron sequence as the initiating nucleophile. The intron is excised as a lariat. Though very similar in structure and mechanism to Group II introns, Group III introns are smaller and more streamlined and the splice site consensus sequences are not as well conserved.',\n",
       "       'RNA polymerase IV is a multisubunit RNA polymerase complex found in the nucleus of plants and involved in accumulation of siRNAs and in DNA methylation-dependent silencing of endogenous repeated sequences. Pol IV is composed of subunits that are paralogous or identical to the 12 subunits of Pol II. The largest and second-largest subunits of Pol IV are the catalytic subunits and share similarity with the corresponding subunits of other eukaryotic and bacterial multisubunit RNA polymerases. The second largest subunit is also found in RNA polymerase V, while the largest subunit is found only in RNAP IV complex.',\n",
       "       'RNA polymerase V is a multisubunit RNA polymerase complex found in the nucleus of plants and involved in accumulation of siRNAs and in DNA methylation-dependent silencing of endogenous repeated sequences. Pol V is composed of subunits that are paralogous or identical to the 12 subunits of Pol II. Two large subunits comprise the most conserved portion including the catalytic site and share similarity with other eukaryotic and bacterial multisubunit RNA polymerases. The second largest subunit is also found in RNA polymerase IVa, while the largest subunit is found only in the IVa complex and contains an extended C-terminal domain (CTD) that includes multiple repeats of a 16 amino-acid consensus sequence as well as other sequences. The remainder of the complex is composed of smaller subunits.',\n",
       "       \"Endonucleolytic cleavage of a pre-rRNA molecule originally produced as a tricistronic rRNA transcript that contains the Small Subunit (SSU) rRNA, the Large Subunit (LSU) rRNA, and the 5S rRNA, in that order, from 5' to 3' along the primary transcript. For example, primary ribosomal RNA transcripts containing three genes, in this order, are produced in E. coli and other prokaryotic species. Note that the use of the word tricistronic refers only to the number of mature rRNA molecules which will be produced from the primary transcript and ignores tRNAs that may also be present within the primary transcript.\",\n",
       "       \"Endonucleolytic cleavage to separate a pre-SSU-rRNA from a pre-LSU-rRNA originally produced as a tricistronic rRNA transcript that contains the Small Subunit (SSU) rRNA, the Large Subunit (LSU) rRNA, and the 5S rRNA, in that order, from 5' to 3' along the primary transcript. Note that the use of the word tricistronic refers only to the number of mature rRNA molecules which will be produced from the primary transcript and ignores tRNAs that may also be present within the primary transcript.\",\n",
       "       \"Endonucleolytic cleavage to separate a pre-LSU-rRNA from a pre-5S rRNA originally produced as a tricistronic rRNA transcript that contains the Small Subunit (SSU) rRNA, the Large Subunit (LSU) rRNA, and the 5S rRNA, in that order, from 5' to 3' along the primary transcript. Note that the use of the word tricistronic refers only to the number of mature rRNA molecules which will be produced from the primary transcript and ignores tRNAs that may also be present within the primary transcript.\",\n",
       "       \"Endonucleolytic cleavage within the 3'-External Transcribed Spacer (ETS) of a tricistronic rRNA transcript that contains the Small Subunit (SSU) rRNA, the 5.8S rRNA, and the Large Subunit (LSU) rRNA in that order from 5' to 3' along the primary transcript. In S. cerevisiae, endonucleolytic cleavage within the 3'-ETS of the pre-RNA, which may occur cotranscriptionally, is the first step in rRNA processing, and initiates a cascade of subsequent processing and modification events.\",\n",
       "       \"Endonucleolytic cleavage within the 5'-External Transcribed Spacer (ETS) of a tricistronic rRNA transcript that contains the Small Subunit (SSU) rRNA, the 5.8S rRNA, and the Large Subunit (LSU) rRNA in that order from 5' to 3' along the primary transcript. Endonucleolytic cleavage within the 5'-ETS of the pre-RNA is conserved as one of the early steps of rRNA processing in all eukaryotes, but the specific position of cleavage is variable.\",\n",
       "       \"Catalysis of the removal of pyrimidine dimers by removing the 5' pyrimidine of the dimer by cleaving the N-C1' glycosidic bond between the 5' pyrimidine of the dimer and the deoxyribose sugar. The reaction releases the 5' pyrimidine of the dimer and leaves an apurinic (AP) site. The reaction involves the formation of a covalent enzyme substrate intermediate. Release of the enzyme and free base by a beta-elimination or a beta, gamma-elimination mechanism results in the cleavage of the DNA backbone 3' of the apyrimidinic (AP) site.\",\n",
       "       'The process whose specific outcome is the progression of a fruiting body organ over time, from its formation to the mature structure. The fruiting body is a spore bearing structure. In fungi, the sporocarp (also known as fruiting body) is a multicellular structure on which spore-producing structures, such as basidia or asci, are borne. The fruiting body is part of the sexual phase of a fungal life cycle, with the rest of the life cycle being characterized by vegetative mycelial growth. The sporocarp of a basidiomycete is known as a basidiocarp, while the fruiting body of an ascomycete is known as an ascocarp. A significant range of different shapes and morphologies is found in both basidiocarps and ascocarps; these features play an important role in the identification and taxonomy of fungi.',\n",
       "       'The chemical reactions and pathways involving the catabolism of aromatic amino acids to produce aromatic alcohols with one carbon less than the starting amino acid. In S. cerevisiae, this is known to occur for leucine, isoleucine, valine, methionine, phenylalanine, tyrosine, or tryptophan. When an aromatic family amino acid, phenylalanine, tyrosine, or tryptophan, is used as the substrate, 2-phenylethanol, 4-hydroxyphenylethanol, or tryptophol, respectively, is produced. Often referred to as the Ehrlich pathway, these reactions generally occur during fermentation to produce a variety of alcohols, often collectively referred to as fusel alcohols. Depending on the redox state of the cells, carboxylic acid derivatives may be produced instead of alcohols.',\n",
       "       'The chemical reactions and pathways involving the catabolism of branched chain amino acids to produce branched chain alcohols with one carbon less than the starting amino acid. In S. cerevisiae, this is known to occur for leucine, isoleucine, valine, methionine, phenylalanine, tyrosine, or tryptophan. When a branched chain family amino acid, leucine, isoleucine, or valine, is used as the substrate, 3-methylbutanol, 2-methylbutanol, or 2-methylpropanol, respectively, is produced. Often referred to as the Ehrlich pathway, these reactions generally occur during fermentation to produce a variety of alcohols, often collectively referred to as fusel alcohols. Depending on the redox state of the cells, carboxylic acid derivatives may be produced instead of alcohols.',\n",
       "       'The chemical reactions and pathways involving the catabolism of branched chain amino acids to produce branched chain alcohols with one carbon less than the starting amino acid. In S. cerevisiae, this is known to occur for leucine, isoleucine, valine, methionine, phenylalanine, tyrosine, or tryptophan. When methionine is used as the substrate, 3-methylthiopropanol is produced. Often referred to as the Ehrlich pathway, these reactions generally occur during fermentation to produce a variety of alcohols, often collectively referred to as fusel alcohols. Depending on the redox state of the cells, carboxylic acid derivatives may be produced instead of alcohols.',\n",
       "       'The chemical reactions and pathways involving the catabolism of amino acids to produce carboxylic acids with one carbon less than the starting amino acid. In S. cerevisiae, this is known to occur for leucine, isoleucine, valine, methionine, phenylalanine, tyrosine, or tryptophan. When an aromatic family amino acid, phenylalanine, tyrosine, or tryptophan, is used as the substrate, 2-phenylethanoate, 4-hydroxyphenylethanoate, or 2-(Indol-3-yl)-ethanoate, respectively, is produced. Often referred to as the Ehrlich pathway, these reactions generally occur during fermentation to produce a variety of carboxylic acids, sometimes collectively referred to as fusel acids. Depending on the redox state of the cells, alcohol derivatives may be produced instead of carboxylic acids.',\n",
       "       'The chemical reactions and pathways involving the catabolism of amino acids to produce carboxylic acids with one carbon less than the starting amino acid. In S. cerevisiae, this is known to occur for leucine, isoleucine, valine, methionine, phenylalanine, tyrosine, or tryptophan. When a branched chain family amino acid, leucine, isoleucine, or valine, is used as the substrate, 3-methylbutanoate, 2-methylbutanoate, or 2-methylpropanoate, respectively, is produced. Often referred to as the Ehrlich pathway, these reactions generally occur during fermentation to produce a variety of carboxylic acids, sometimes collectively referred to as fusel acids. Depending on the redox state of the cells, alcohol derivatives may be produced instead of carboxylic acids.',\n",
       "       'The chemical reactions and pathways involving the catabolism of amino acids to produce carboxylic acids with one carbon less than the starting amino acid. In S. cerevisiae, this is known to occur for leucine, isoleucine, valine, methionine, phenylalanine, tyrosine, or tryptophan. When methionine is used as the substrate, 3-methylthiopropanoate is produced. Often referred to as the Ehrlich pathway, these reactions generally occur during fermentation to produce a variety of carboxylic acids, sometimes collectively referred to as fusel acids. Depending on the redox state of the cells, alcohol derivatives may be produced instead of carboxylic acids.',\n",
       "       'The chemical reactions and pathways involving the catabolism of amino acids to produce alcohols or carboxylic acids containing one carbon less than the starting amino acid. In S. cerevisiae, this is known to occur for leucine, isoleucine, valine, methionine, phenylalanine, tyrosine, or tryptophan. Often referred to as the Ehrlich pathway, these reactions generally occur during fermentation to produce a variety of alcohols, often collectively referred to as fusel alcohols. Depending on the redox state of the cells, carboxylic acid derivatives, sometimes referred to as fusel acids, may be produced instead of alcohols.',\n",
       "       'A protein complex consisting of Prp19 and associated proteins that is involved in the transition from the precatalytic spliceosome to the activated form that catalyzes step 1 of splicing, and which remains associated with the spliceosome through the second catalytic step. It is widely conserved, found in both yeast and mammals, though the exact composition varies. In S. cerevisiae, it contains Prp19p, Ntc20p, Snt309p, Isy1p, Syf2p, Cwc2p, Prp46p, Clf1p, Cef1p, and Syf1p.',\n",
       "       'Any process involved in the assembly of bacterial-type RNA polymerase preinitiation complex (PIC) at the core promoter region of a DNA template, resulting in the subsequent synthesis of RNA from that promoter. The initiation phase includes PIC assembly and the formation of the first few bonds in the RNA chain, including abortive initiation, which occurs when the first few nucleotides are repeatedly synthesized and then released. The initiation phase ends just before and does not include promoter clearance, or release, which is the transition between the initiation and elongation phases of transcription.',\n",
       "       'Catalysis of the reaction: UDP-N-acetyl-D-glucosamine + beta-D-glucuronosyl-(1->3)-beta-D-galactosyl-(1->3)-beta-D-galactosyl-(1->4)-beta-D-xylosyl-proteoglycan = UDP + alpha-N-acetyl-D-glucosaminyl-(1->4)-beta-D-glucuronosyl-(1->3)-beta-D-galactosyl-(1->3)-beta-D-galactosyl-(1->4)-beta-D-xylosyl-proteoglycan.',\n",
       "       \"Endonucleolytic cleavage of a pre-rRNA molecule originally produced as a tetracistronic rRNA transcript that contains the Small Subunit (SSU) rRNA, Large Subunit (LSU) the 4.5S rRNA, and the 5S rRNA in that order from 5' to 3' along the primary transcript. Primary ribosomal RNA transcripts with four genes, in this order, are produced in the chloroplasts of vascular plants. Note that the use of the word tetracistronic refers only to the number of mature rRNA molecules which will be produced from the primary transcript and ignores tRNAs that may also be present within the primary transcript.\",\n",
       "       \"Endonucleolytic cleavage between the 5S rRNA and the 4.5S rRNA of an rRNA molecule originally produced as a tetracistronic rRNA transcript that contains the Small Subunit (SSU) rRNA, Large Subunit (LSU) the 4.5S rRNA, and the 5S rRNA in that order from 5' to 3' along the primary transcript. Note that the use of the word tetracistronic refers only to the number of mature rRNA molecules which will be produced from the primary transcript and ignores tRNAs that may also be present within the primary transcript.\",\n",
       "       \"Endonucleolytic cleavage between the LSU-rRNA and the 4.5S rRNA of an rRNA molecule originally produced as a tetracistronic rRNA transcript that contains the Small Subunit (SSU) rRNA, Large Subunit (LSU) the 4.5S rRNA, and the 5S rRNA in that order from 5' to 3' along the primary transcript. Note that the use of the word tetracistronic refers only to the number of mature rRNA molecules which will be produced from the primary transcript and ignores tRNAs that may also be present within the primary transcript.\",\n",
       "       \"Endonucleolytic cleavages between the SSU-rRNA and the LSU-rRNA of an rRNA molecule originally produced as a tetracistronic rRNA transcript that contains the Small Subunit (SSU) rRNA, Large Subunit (LSU) the 4.5S rRNA, and the 5S rRNA in that order from 5' to 3' along the primary transcript. These cleavages liberate tRNAs from the polycistronic transcript as well as separating the SSU and LSU containing transcript. Note that the use of the word tetracistronic refers only to the number of mature rRNA molecules which will be produced from the primary transcript and ignores tRNAs that may also be present within the primary transcript.\",\n",
       "       'The process whose specific outcome is the progression of the nematode larva over time, from its formation to the mature structure. Nematode larval development begins with the newly hatched first-stage larva (L1) and ends with the end of the last larval stage (for example the fourth larval stage (L4) in C. elegans). Each stage of nematode larval development is characterized by proliferation of specific cell lineages and an increase in body size without alteration of the basic body plan. Nematode larval stages are separated by molts in which each stage-specific exoskeleton, or cuticle, is shed and replaced anew.',\n",
       "       'An immune response mediated by lymphocytes expressing specific receptors for antigen produced through a somatic diversification process that includes somatic recombination of germline gene segments encoding immunoglobulin superfamily domains. Recombined receptors for antigen encoded by immunoglobulin superfamily domains include T cell receptors and immunoglobulins (antibodies) produced by B cells. The first encounter with antigen elicits a primary immune response that is slow and not of great magnitude. T and B cells selected by antigen become activated and undergo clonal expansion. A fraction of antigen-reactive T and B cells become memory cells, whereas others differentiate into effector cells. The memory cells generated during the primary response enable a much faster and stronger secondary immune response upon subsequent exposures to the same antigen (immunological memory). An example of this is the adaptive immune response found in Mus musculus.',\n",
       "       'The process in which an antigen-presenting cell expresses a peptide antigen of exogenous origin on its cell surface in association with an MHC class Ib protein complex following intracellular transport via a TAP (transporter associated with antigen processing) pathway. The peptide is typically a fragment of a larger exogenous protein which has been degraded within the cell and is dependent on TAP transport from the cytosol to ER for association with the MHC class Ib molecule. Class Ib here refers to non-classical class I molecules, such as those of the HLA-E gene family.',\n",
       "       'The process in which an antigen-presenting cell expresses a peptide antigen of endogenous origin on its cell surface in association with an MHC class Ib protein complex following intracellular transport via a TAP (transporter associated with antigen processing) pathway. The peptide is typically a fragment of a larger endogenous protein which has been degraded within the cell and is dependent on TAP transport from the cytosol to ER for association with the MHC class Ib molecule. Class Ib here refers to non-classical class I molecules, such as those of the HLA-E gene family.',\n",
       "       'A protein or a member of a complex that interacts specifically and non-covalently with a DNA-bound DNA-binding transcription factor to activate the transcription of specific genes. Coactivators often act by altering chromatin structure and modifications. For example, one class of transcription coregulators modifies chromatin structure through covalent modification of histones. A second ATP-dependent class modifies the conformation of chromatin. Another type of coregulator activity is the bridging of a DNA-binding transcription factor to the basal transcription machinery. The Mediator complex, which bridges transcription factors and RNA polymerase, is also a transcription coactivator.',\n",
       "       'A protein or a member of a complex that interacts specifically and non-covalently with a DNA-bound DNA-binding transcription factor to repress the transcription of specific genes. Corepressors often act by altering chromatin structure and modifications. For example, one class of transcription coregulators modifies chromatin structure through covalent modification of histones. A second ATP-dependent class modifies the conformation of chromatin. A third class occludes DNA-binding transcription factor protein-protein interaction domains. A fourth class of corepressors prevents interactions of DNA bound DNA-binding transcription factor with coactivators.',\n",
       "       'Catalysis of the reaction: an alpha-D-Man-(1->3)--beta-D-Man-(1->4)-beta-D-GlcNAc-(1->4)-D-GlcNAc-diphosphodolichol + 2 GDP-alpha-D-mannose = an alpha-D-Man-(1->2)-alpha-D-Man-(1->2)-alpha-D-Man-(1->3)--beta-D-Man-(1->4)-beta-D-GlcNAc-(1->4)-D-GlcNAc-diphosphodolichol + 2 GDP + 2 H+. This reaction is the transfer of an alpha-D-mannosyl residue from GDP-mannose into lipid-linked oligosaccharide, forming an alpha-(1->2)-D-mannosyl-D-mannose linkage.',\n",
       "       'Catalysis of the reaction: beta-D-Man-(1->4)-beta-D-GlcNAc-(1->4)-D-GlcNAc-diphosphodolichol + GDP-alpha-D-mannose = alpha-D-Man-(1->3)-beta-D-Man-(1->4)-beta-D-GlcNAc-(1->4)-D-GlcNAc-diphosphodolichol + GDP + H+. This reaction is the transfer of an alpha-D-mannosyl residue from GDP-mannose into lipid-linked oligosaccharide, forming an alpha-(1->3)-D-mannosyl-D-mannose linkage.',\n",
       "       'Catalysis of the reaction: CMP-N-acetylneuraminate + beta-D-galactosyl-1,4-N-acetyl-beta-D-glucosaminyl-1,3-beta-D-galactosyl-1,4-beta-D-glucosylceramide = CMP + alpha-N-acetylneuraminyl-2,3-beta-D-galactosyl-1,4-N-acetyl-beta-D-glucosaminyl-1,3-beta-D-galactosyl-1,4-D-glucosylceramide.',\n",
       "       'Catalysis of the reaction: geranylgeranyl diphosphate + protein-cysteine = S-geranylgeranyl-protein + diphosphate. This reaction is the formation of a thioether linkage between the C-1 atom of the geranylgeranyl group and a cysteine residue fourth from the C-terminus of the protein. The protein substrates have the C-terminal sequence CA1A2X, where the terminal residue, X, is preferably leucine and A2 should not be aromatic. Known substrates include most g-subunits of heterotrimeric G proteins and Ras-related GTPases such as members of the Ras and Rac/Rho families.',\n",
       "       'Combining with a chemokine, and transmitting the signal from one side of the membrane to the other to initiate a change in cell activity. Chemokines are a family of small chemotactic cytokines; their name is derived from their ability to induce directed chemotaxis in nearby responsive cells. All chemokines possess a number of conserved cysteine residues involved in intramolecular disulfide bond formation. Some chemokines are considered pro-inflammatory and can be induced during an immune response to recruit cells of the immune system to a site of infection, while others are considered homeostatic and are involved in controlling the migration of cells during normal processes of tissue maintenance or development. Chemokines are found in all vertebrates, some viruses and some bacteria.',\n",
       "       'The action characteristic of a hormone, any substance formed in very small amounts in one specialized organ or group of cells and carried (sometimes in the bloodstream) to another organ or group of cells in the same organism, upon which it has a specific regulatory action. The term was originally applied to agents with a stimulatory physiological action in vertebrate animals (as opposed to a chalone, which has a depressant action). Usage is now extended to regulatory compounds in lower animals and plants, and to synthetic substances having comparable effects; all bind receptors and trigger some biological process.',\n",
       "       'Enables the transmembrane transfer of a potassium ion by an inwardly-rectifying voltage-gated channel. An inwardly rectifying current-voltage relation is one where at any given driving force the inward flow of K+ ions exceeds the outward flow for the opposite driving force. The inward-rectification is due to a voltage-dependent block of the channel pore by a specific ligand or ligands, and as a result the macroscopic conductance depends on the difference between membrane voltage and the K+ equilibrium potential rather than on membrane voltage itself.',\n",
       "       'Enables the transfer of a solute or solutes from one side of a membrane to the other according to the reaction: glucose + H+ = glucose + H+. This activity is constitutive and therefore always present, regardless of demand. Symporter activity enables the active transport of a solute across a membrane by a mechanism whereby two or more species are transported together in the same direction in a tightly coupled process not directly linked to a form of energy other than chemiosmotic energy. In high-affinity transport the transporter is able to bind the solute even if it is only present at very low concentrations.',\n",
       "       'Enables the transfer of a solute or solutes from one side of a membrane to the other according to the reaction: glucose(out) + H(out)+ = glucose(in) + H(in)+. In low-affinity transport the transporter is able to bind the solute only if it is present at very high concentrations. Symporter activity enables the active transport of a solute across a membrane by a mechanism whereby two or more species are transported together in the same direction in a tightly coupled process not directly linked to a form of energy other than chemiosmotic energy.',\n",
       "       'RNA polymerase II, one of three nuclear DNA-directed RNA polymerases found in all eukaryotes, is a multisubunit complex; typically it produces mRNAs, snoRNAs, and some of the snRNAs. Two large subunits comprise the most conserved portion including the catalytic site and share similarity with other eukaryotic and bacterial multisubunit RNA polymerases. The largest subunit of RNA polymerase II contains an essential carboxyl-terminal domain (CTD) composed of a variable number of heptapeptide repeats (YSPTSPS). The remainder of the complex is composed of smaller subunits (generally ten or more), some of which are also found in RNA polymerases I and III. Although the core is competent to mediate ribonucleic acid synthesis, it requires additional factors to select the appropriate template.',\n",
       "       'RNA polymerase III, one of three nuclear DNA-directed RNA polymerases found in all eukaryotes, is a multisubunit complex; typically it produces 5S rRNA, tRNAs and some of the small nuclear RNAs. Two large subunits comprise the most conserved portion including the catalytic site and share similarity with other eukaryotic and bacterial multisubunit RNA polymerases. The remainder of the complex is composed of smaller subunits (generally ten or more), some of which are also found in RNA polymerase I and others of which are also found in RNA polymerases I and II. Although the core is competent to mediate ribonucleic acid synthesis, it requires additional factors to select the appropriate template.',\n",
       "       'A complex composed of TATA binding protein (TBP) and TBP associated factors (TAFs); the total mass is typically about 800 kDa. Most of the TAFs are conserved across species. In TATA-containing promoters for RNA polymerase II (Pol II), TFIID is believed to recognize at least two distinct elements, the TATA element and a downstream promoter element. TFIID is also involved in recognition of TATA-less Pol II promoters. Binding of TFIID to DNA is necessary but not sufficient for transcription initiation from most RNA polymerase II promoters.',\n",
       "       'A multiprotein complex that possesses histone acetyltransferase and is involved in regulation of transcription. Contains either GCN5 or PCAF in a mutually exclusive manner. The budding yeast complex includes Gcn5p, two proteins of the Ada family, and two TBP-associate proteins (TAFs); analogous complexes in other species have analogous compositions, and usually contain homologs of the yeast proteins. Both ATAC- or SAGA (see GO:0000124, SAGA complex) are involved in the acetylation of histone H3K9 and K14 residues.',\n",
       "       'Any of a series of ribonucleoprotein complexes that contain snRNA(s) and small nuclear ribonucleoproteins (snRNPs), and are formed sequentially during the spliceosomal splicing of one or more substrate RNAs, and which also contain the RNA substrate(s) from the initial target RNAs of splicing, the splicing intermediate RNA(s), to the final RNA products. During cis-splicing, the initial target RNA is a single, contiguous RNA transcript, whether mRNA, snoRNA, etc., and the released products are a spliced RNA and an excised intron, generally as a lariat structure. During trans-splicing, there are two initial substrate RNAs, the spliced leader RNA and a pre-mRNA.',\n",
       "       'A small, dense body one or more of which are present in the nucleus of eukaryotic cells. It is rich in RNA and protein, is not bounded by a limiting membrane, and is not seen during mitosis. Its prime function is the transcription of the nucleolar DNA into 45S ribosomal-precursor RNA, the processing of this RNA into 5.8S, 18S, and 28S components of ribosomal RNA, and the association of these components with 5S RNA and proteins synthesized outside the nucleolus. This association results in the formation of ribonucleoprotein precursors; these pass into the cytoplasm and mature into the 40S and 60S subunits of the ribosome.',\n",
       "       'RNA polymerase I, one of three nuclear DNA-directed RNA polymerases found in all eukaryotes, is a multisubunit complex; typically it produces rRNAs. Two large subunits comprise the most conserved portion including the catalytic site and share similarity with other eukaryotic and bacterial multisubunit RNA polymerases. The remainder of the complex is composed of smaller subunits (generally ten or more), some of which are also found in RNA polymerase III and others of which are also found in RNA polymerases II and III. Although the core is competent to mediate ribonucleic acid synthesis, it requires additional factors to select the appropriate template.',\n",
       "       'A ribonucleoprotein particle of 325 kDa composed of a 7S (300 nucleotide) RNA molecule and a complex of six different polypeptides. This binds both to the N-terminal signal peptide for proteins destined for the endoplasmic reticulum as they emerge from the large ribosomal subunit and also to the ribosome. This binding arrests further translation thereby preventing the proteins from being released into the cytosol. The SRP-ribosome complex then diffuses to the endoplasmic reticulum where it is bound to the signal recognition particle receptor, which allows resumption of protein synthesis and facilitates the passage of the growing polypeptide chain through the translocon. Through a process involving GTP hydrolysis, the SRP-SRP receptor complex dissociates and SRP returns to the cytosol. Of the six polypeptides of SRP the 54 kDa subunit (SRP54) is the central player. It contains an N-terminal GTPase domain and a C-terminal domain that binds directly to the signal peptide and the SRP RNA. Examples of this component are found in Mus musculus, Saccharomyces cerevisiae and Arabidopsis thaliana.',\n",
       "       'The smooth endoplasmic reticulum (smooth ER or SER) has no ribosomes attached to it. The smooth ER is the recipient of the proteins synthesized in the rough ER. Those proteins to be exported are passed to the Golgi complex, the resident proteins are returned to the rough ER and the lysosomal proteins after phosphorylation of their mannose residues are passed to the lysosomes. Glycosylation of the glycoproteins also continues. The smooth ER is the site of synthesis of lipids, including the phospholipids. The membranes of the smooth ER also contain enzymes that catalyze a series of reactions to detoxify both lipid-soluble drugs and harmful products of metabolism. Large quantities of certain compounds such as phenobarbital cause an increase in the amount of the smooth ER.',\n",
       "       'A compound membranous cytoplasmic organelle of eukaryotic cells, consisting of flattened, ribosome-free vesicles arranged in a more or less regular stack. The Golgi apparatus differs from the endoplasmic reticulum in often having slightly thicker membranes, appearing in sections as a characteristic shallow semicircle so that the convex side (cis or entry face) abuts the endoplasmic reticulum, secretory vesicles emerging from the concave side (trans or exit face). In vertebrate cells there is usually one such organelle, while in invertebrates and plants, where they are known usually as dictyosomes, there may be several scattered in the cytoplasm. The Golgi apparatus processes proteins produced on the ribosomes of the rough endoplasmic reticulum; such processing includes modification of the core oligosaccharides of glycoproteins, and the sorting and packaging of proteins for transport to a variety of cellular locations. Three different regions of the Golgi are now recognized both in terms of structure and function: cis, in the vicinity of the cis face, trans, in the vicinity of the trans face, and medial, lying between the cis and trans regions.',\n",
       "       'An intracellular organelle, about 200 A in diameter, consisting of RNA and protein. It is the site of protein biosynthesis resulting from translation of messenger RNA (mRNA). It consists of two subunits, one large and one small, each containing only protein and RNA. Both the ribosome and its subunits are characterized by their sedimentation coefficients, expressed in Svedberg units (symbol: S). Hence, the prokaryotic ribosome (70S) comprises a large (50S) subunit and a small (30S) subunit, while the eukaryotic ribosome (80S) comprises a large (60S) subunit and a small (40S) subunit. Two sites on the ribosomal large subunit are involved in translation, namely the aminoacyl site (A site) and peptidyl site (P site). Ribosomes from prokaryotes, eukaryotes, mitochondria, and chloroplasts have characteristically distinct ribosomal proteins.',\n",
       "       'A complex of several polypeptides that plays at least two important roles in protein synthesis: First, eIF3 binds to the 40S ribosome and facilitates loading of the Met-tRNA/eIF2.GTP ternary complex to form the 43S preinitiation complex. Subsequently, eIF3 apparently assists eIF4 in recruiting mRNAs to the 43S complex. The eIF3 complex contains five conserved core subunits, and may contain several additional proteins; the non-core subunits are thought to mediate association of the complex with specific sets of mRNAs.',\n",
       "       'Any of the various filamentous elements that form the internal framework of cells, and typically remain after treatment of the cells with mild detergent to remove membrane constituents and soluble components of the cytoplasm. The term embraces intermediate filaments, microfilaments, microtubules, the microtrabecular lattice, and other structures characterized by a polymeric filamentous nature and long-range order within the cell. The various elements of the cytoskeleton not only serve in the maintenance of cellular shape but also have roles in other cellular functions, including cellular movement, cell division, endocytosis, and movement of organelles.',\n",
       "       'Any dynein complex with a homodimeric dynein heavy chain core that catalyzes movement along a microtubule. Cytoplasmic dynein complexes participate in many cytoplasmic transport activities in eukaryotes, such as mRNA localization, intermediate filament transport, nuclear envelope breakdown, apoptosis, transport of centrosomal proteins, mitotic spindle assembly, virus transport, kinetochore functions, and movement of signaling and spindle checkpoint proteins. Some complexes participate in intraflagellar transport. Subunits associated with the dynein heavy chain mediate association between dynein heavy chain and cargoes, and may include light chains and light intermediate chains.',\n",
       "       'Any complex that includes a dimer of molecules from the kinesin superfamily, a group of related proteins that contain an extended region of predicted alpha-helical coiled coil in the main chain that likely produces dimerization. The native complexes of several kinesin family members have also been shown to contain additional peptides, often designated light chains as all of the noncatalytic subunits that are currently known are smaller than the chain that contains the motor unit. Kinesin complexes generally possess a force-generating enzymatic activity, or motor, which converts the free energy of the gamma phosphate bond of ATP into mechanical work.',\n",
       "       'Any of the long, generally straight, hollow tubes of internal diameter 12-15 nm and external diameter 24 nm found in a wide variety of eukaryotic cells; each consists (usually) of 13 protofilaments of polymeric tubulin, staggered in such a manner that the tubulin monomers are arranged in a helical pattern on the microtubular surface, and with the alpha/beta axes of the tubulin subunits parallel to the long axis of the tubule; exist in equilibrium with pool of tubulin monomers and can be rapidly assembled or disassembled in response to physiological stimuli; concerned with force generation, e.g. in the spindle.',\n",
       "       'A filamentous structure formed of a two-stranded helical polymer of the protein actin and associated proteins. Actin filaments are a major component of the contractile apparatus of skeletal muscle and the microfilaments of the cytoskeleton of eukaryotic cells. The filaments, comprising polymerized globular actin molecules, appear as flexible structures with a diameter of 5-9 nm. They are organized into a variety of linear bundles, two-dimensional networks, and three dimensional gels. In the cytoskeleton they are most highly concentrated in the cortex of the cell just beneath the plasma membrane.',\n",
       "       'A protein complex capable of phosphatidylinositol 3-kinase activity and containing subunits of any phosphatidylinositol 3-kinase (PI3K) enzyme. These complexes are divided in three classes (called I, II and III) that differ for their presence across taxonomic groups and for the type of their constituents. Catalytic subunits of phosphatidylinositol 3-kinase enzymes are present in all 3 classes; regulatory subunits of phosphatidylinositol 3-kinase enzymes are present in classes I and III; adaptor proteins have been observed in class II complexes and may be present in other classes too.',\n",
       "       \"The process in which an existing DNA strand is extended in a net 3' to 5' direction by activities including the addition of nucleotides to the 3' end of the strand, complementary to an existing template, as part of DNA replication. Lagging strand DNA elongation proceeds by discontinuous synthesis of short stretches of DNA, known as Okazaki fragments, from RNA primers; these fragments are then joined by DNA ligase. Although each segment of nascent DNA is synthesized in the 5' to 3' direction, the overall direction of lagging strand synthesis is 3' to 5', mirroring the progress of the replication fork.\",\n",
       "       'Any process involved in the assembly of the RNA polymerase preinitiation complex (PIC) at the core promoter region of a DNA template, resulting in the subsequent synthesis of RNA from that promoter. The initiation phase includes PIC assembly and the formation of the first few bonds in the RNA chain, including abortive initiation, which occurs when the first few nucleotides are repeatedly synthesized and then released. The initiation phase ends just before and does not include promoter clearance, or release, which is the transition between the initiation and elongation phases of transcription.',\n",
       "       'The chemical reactions and pathways involving glycosylphosphatidylinositol anchors, molecular mechanisms for attaching membrane proteins to the lipid bilayer of cell membranes. Structurally they consist of a molecule of phosphatidylinositol to which is linked, via the C-6 hydroxyl of the inositol, a carbohydrate chain. This chain is in turn linked to the protein through an ethanolamine phosphate group, the amino group of which is in amide linkage with the C-terminal carboxyl of the protein chain, the phosphate group being esterified to the C-6 hydroxyl of the terminal mannose of the core carbohydrate chain.',\n",
       "       'The chemical reactions and pathways resulting in the formation of succinate from glutamate. Also known as GABA (gamma-aminobutyrate) shunt since it channels glutamate into the TCA cycle bypassing two steps of that cycle. There are three enzymes involved in the GABA shunt: glutamate decarboxylase (GAD), GABA aminotransferase (GABA-TA), and succinate semialdehyde dehydrogenase (SSADH). These three enzymes acting in concert to convert glutamate into succinate. The GABA shunt is predominantly associated with neurotransmission in the mammalian brain. It is also present in nonneuronal cells, in plants, in unicellular eukaryotes, and in prokaryotes.',\n",
       "       'The chemical reactions and pathways resulting in the formation of creatine, N--N-methylglycine. Creatine is formed by a process beginning with amidino group transfer from L-arginine to glycine to form guanidinoacetate, followed by methyl group transfer from S-adenosyl-L-methionine to guanidinoacetate; it is then is phosphorylated to form a pool that stores high energy phosphate for the replenishment of ATP during periods of high, or fluctuating energy demand. In animals, most creatine is transported to and used in muscle.',\n",
       "       'The process during cotranslational membrane targeting wherein proteins move across a membrane. SRP and its receptor initiate the transfer of the nascent chain across the endoplasmic reticulum (ER) membrane; they then dissociate from the chain, which is transferred to a set of transmembrane proteins, collectively called the translocon. Once the nascent chain translocon complex is assembled, the elongating chain passes directly from the large ribosomal subunit into the centers of the translocon, a protein-lined channel within the membrane. The growing chain is never exposed to the cytosol and does not fold until it reaches the ER lumen.',\n",
       "       'A process of secretion by a cell that results in the release of intracellular molecules (e.g. hormones, matrix proteins) contained within a membrane-bounded vesicle. Exocytosis can occur either by full fusion, when the vesicle collapses into the plasma membrane, or by a kiss-and-run mechanism that involves the formation of a transient contact, a pore, between a granule (for exemple of chromaffin cells) and the plasma membrane. The latter process most of the time leads to only partial secretion of the granule content. Exocytosis begins with steps that prepare vesicles for fusion with the membrane (tethering and docking) and ends when molecules are secreted from the cell.',\n",
       "       'A programmed cell death process which begins when a cell receives an internal (e.g. DNA damage) or external signal (e.g. an extracellular death ligand), and proceeds through a series of biochemical events (signaling pathway phase) which trigger an execution phase. The execution phase is the last step of an apoptotic process, and is typically characterized by rounding-up of the cell, retraction of pseudopodes, reduction of cellular volume (pyknosis), chromatin condensation, nuclear fragmentation (karyorrhexis), plasma membrane blebbing and fragmentation of the cell into apoptotic bodies. When the execution phase is completed, the cell has died.',\n",
       "       'The cellular process in which a signal is conveyed to trigger a change in the activity or state of a cell. Signal transduction begins with reception of a signal (e.g. a ligand binding to a receptor or receptor activation by a stimulus such as light), or for signal transduction in the absence of ligand, signal-withdrawal or the activity of a constitutively active receptor. Signal transduction ends with regulation of a downstream cellular process, e.g. regulation of transcription or regulation of a metabolic process. Signal transduction covers signaling from receptors located on the surface of the cell and signaling via molecules located within the cell. For signaling between cells, signal transduction is restricted to events at and within the receiving cell.',\n",
       "       'A series of molecular signals that proceeds with an activated receptor promoting the exchange of GDP for GTP on the alpha-subunit of an associated heterotrimeric G-protein complex. The GTP-bound activated alpha-G-protein then dissociates from the beta- and gamma-subunits to further transmit the signal within the cell. The pathway begins with receptor-ligand interaction, or for basal GPCR signaling the pathway begins with the receptor activating its G protein in the absence of an agonist, and ends with regulation of a downstream cellular process, e.g. transcription.  The pathway can start from the plasma membrane, Golgi or nuclear membrane (PMID:24568158 and PMID:16902576).',\n",
       "       'The process in which a signal is passed on to downstream components within the cell through the I-kappaB-kinase (IKK)-dependent activation of NF-kappaB. The cascade begins with activation of a trimeric IKK complex (consisting of catalytic kinase subunits IKKalpha and/or IKKbeta, and the regulatory scaffold protein NEMO) and ends with the regulation of transcription of target genes by NF-kappaB. In a resting state, NF-kappaB dimers are bound to I-kappaB proteins, sequestering NF-kappaB in the cytoplasm. Phosphorylation of I-kappaB targets I-kappaB for ubiquitination and proteasomal degradation, thus releasing the NF-kappaB dimers, which can translocate to the nucleus to bind DNA and regulate transcription.',\n",
       "       'The process whose specific outcome is the progression of the ventral midline over time, from its formation to the mature structure. In protostomes (such as insects, snails and worms) as well as deuterostomes (vertebrates), the midline is an embryonic region that functions in patterning of the adjacent nervous tissue. The ventral midline in insects is a cell population extending along the ventral surface of the embryo and is the region from which cells detach to form the ventrally located nerve cords. In vertebrates, the midline is originally located dorsally. During development, it folds inwards and becomes the ventral part of the dorsally located neural tube and is then called the ventral midline, or floor plate.',\n",
       "       'The function of a family of small chemotactic cytokines; their name is derived from their ability to induce directed chemotaxis in nearby responsive cells. All chemokines possess a number of conserved cysteine residues involved in intramolecular disulfide bond formation. Some chemokines are considered pro-inflammatory and can be induced during an immune response to recruit cells of the immune system to a site of infection, while others are considered homeostatic and are involved in controlling the migration of cells during normal processes of tissue maintenance or development. Chemokines are found in all vertebrates, some viruses and some bacteria.',\n",
       "       'Any biological process that results in permanent cessation of all vital functions of a cell. A cell should be considered dead when any one of the following molecular or morphological criteria is met: (1) the cell has lost the integrity of its plasma membrane; (2) the cell, including its nucleus, has undergone complete fragmentation into discrete bodies (frequently referred to as apoptotic bodies). The cell corpse (or its fragments) may be engulfed by an adjacent cell in vivo, but engulfment of whole cells should not be considered a strict criteria to define cell death as, under some circumstances, live engulfed cells can be released from phagosomes (see PMID:18045538).',\n",
       "       'A protein complex that is required for sister chromatid cohesion in eukaryotes. The cohesin complex forms a molecular ring complex, and is composed of structural maintenance of chromosomes (SMC) and kleisin proteins. For example, in yeast, the complex is composed of the SMC proteins Smc1p and Smc3p, and the kleisin protein Scc1p. In vertebrates, the complex is composed of the SMC1 (SMC1A or SMC1B) and SMC3 heterodimer attached via their hinge domains to a kleisin (RAD21, REC8 or RAD21L) which links them, and one STAG protein (STAG1, STAG2 or STAG3).',\n",
       "       'A trimeric protein complex that phosphorylates inhibitory-kappaB (I-kappaB) proteins. The complex is composed of two kinase subunits (alpha and beta) and a regulatory gamma subunit (also called NEMO). In a resting state, NF-kappaB dimers are bound to inhibitory IKB proteins, sequestering NF-kappaB in the cytoplasm. Phosphorylation of I-kappaB targets I-kappaB for ubiquitination and proteasomal degradation, thus releasing the NF-kappaB dimers, which can translocate to the nucleus to bind DNA and regulate transcription.',\n",
       "       'Catalysis of the reaction: N(4)-{N-acetyl-beta-D-glucosaminyl-(1->2)-alpha-D-mannosyl-(1->3)--beta-D-mannosyl-(1->4)-N-acetyl-beta-D-glucosaminyl-(1->4)-N-acetyl-beta-D-glucosaminyl}-L-asparagine + GDP-L-fucose = N(4)-{N-acetyl-beta-D-glucosaminyl-(1->2)-alpha-D-mannosyl-(1->3)--beta-D-mannosyl-(1->4)-N-acetyl-beta-D-glucosaminyl-(1->4)--N-acetyl-beta-D-glucosaminyl}asparagine + GDP + H(+).',\n",
       "       'Catalysis of the reaction: UDP-N-acetyl-D-glucosamine + (N-acetyl-beta-D-glucosaminyl-1,2)-alpha-D-mannosyl-1,3-(beta-N-acetyl-D-glucosaminyl-1,2-alpha-D-mannosyl-1,6)-beta-D-mannosyl-R = UDP + N-acetyl-beta-D-glucosaminyl-1,4-(N-acetyl-D-glucosaminyl-1,2)-alpha-D-mannosyl-1,3-(beta-N-acetyl-D-glucosaminyl-1,2-alpha-D-mannosyl-1,6)-beta-D-mannosyl-R.',\n",
       "       'Catalysis of the reaction: UDP-N-acetyl-D-glucosamine + alpha-D-mannosyl-1,6-(N-acetyl-beta-D-glucosaminyl-1,2-alpha-D-mannosyl-1,3)-beta-D-mannosyl-R = UDP + N-acetyl-beta-D-glucosaminyl-1,2-alpha-D-mannosyl-1,6-(N-acetyl-beta-D-glucosaminyl-1,2-alpha-D-mannosyl-1,3)-beta-D-mannosyl-R.',\n",
       "       'Catalysis of the reaction: UDP-N-acetyl-D-glucosamine + beta-D-galactosyl-1,4-N-acetyl-beta-D-glucosaminyl-1,3-beta-D-galactosyl-1,4-beta-D-glucosylceramide = UDP + N-acetyl-D-glucosaminyl-1,3-beta-D-galactosyl-1,4-N-acetyl-beta-D-glucosaminyl-1,3-beta-D-galactosyl-1,4-beta-D-glucosylceramide.',\n",
       "       'OBSOLETE. Catalysis of the hydrolysis of proteins to small peptides in the presence of ATP and magnesium. Alpha-casein is the usual test substrate. In the absence of ATP, only oligopeptides shorter than five residues are cleaved, for example, succinyl-Leu-Tyr-NHMec which is cleaved at the Tyr-NHMec bond, and Leu-Tyr-Leu-Tyr-Trp which is cleaved at the second Leu-Typ bond (cleavage of the Tyr-Leu and Tyr-Trp bonds also occurs).',\n",
       "       'OBSOLETE. Catalysis of the reaction: GTP + H2O = GDP + phosphate. A GTPase involved in protein synthesis. In the initiation factor complex, it is IF-2b (98 kDa) that binds GTP and subsequently hydrolyzes it in prokaryotes. In eukaryotes, it is eIF-2 (150 kDa) that binds GTP. In the elongation phase, the GTP-hydrolyzing proteins are the EF-Tu polypeptide of the prokaryotic transfer factor (43 kDa), the eukaryotic elongation factor EF-1a (53 kDa), the prokaryotic EF-G (77 kDa), the eukaryotic EF-2 (70-110 kDa) and the signal recognition particle that play a role in endoplasmic reticulum protein synthesis (325 kDa). EF-Tu and EF1a catalyze binding of aminoacyl-tRNA to the ribosomal A-site, while EF-G and EF-2 catalyze the translocation of peptidyl-tRNA from the A-site to the P-site. GTPase activity is also involved in polypeptide release from the ribosome with the aid of the pRFs and eRFs.',\n",
       "       'A rigid yet dynamic structure surrounding the plasma membrane that affords protection from stresses and contributes to cell morphogenesis, consisting of extensively cross-linked glycoproteins and carbohydrates. The glycoproteins may be modified with N- or O-linked carbohydrates, or glycosylphosphatidylinositol (GPI) anchors; the polysaccharides are primarily branched glucans, including beta-linked and alpha-linked glucans, and may also include chitin and other carbohydrate polymers, but not cellulose or pectin. Enzymes involved in cell wall biosynthesis are also found in the cell wall. Note that some forms of fungi develop a capsule outside of the cell wall under certain circumstances; this is considered a separate structure.',\n",
       "       \"The DNA polymerase III holoenzyme is a complex that contains 10 different types of subunits. These subunits are organized into 3 functionally essential sub-assemblies: the pol III core, the beta sliding clamp processivity factor and the clamp-loading complex. The pol III core carries out the polymerase and the 3'-5' exonuclease proofreading activities. The polymerase is tethered to the template via the sliding clamp processivity factor. The clamp-loading complex assembles the beta processivity factor onto the primer template and plays a central role in the organization and communication at the replication fork.\",\n",
       "       'Any of the protein complexes formed by the UvrABC excinuclease system, which carries out nucleotide excision repair. Three different complexes are formed by the 3 proteins as they proceed through the excision repair process. First a complex consisting of two A subunits and two B subunits bind DNA and unwind it around the damaged site. Then, the A subunits disassociate leaving behind a stable complex between B subunits and DNA. Now, subunit C binds to this B+DNA complex and causes subunit B to nick the DNA on one side of the complex while subunit C nicks the DNA on the other side of the complex. DNA polymerase I and DNA ligase can then repair the resulting gap.',\n",
       "       'Translational attenuation is a regulatory mechanism analogous to ribosome-mediated transcriptional attenuation. The system requires the presence of a short ORF, called a leader peptide, encoded in the mRNA upstream of the ribosome-binding site and start codon of the gene whose translation is to be regulated. Certain conditions, such as presence of the antibiotic tetracycline in bacteria or amino acid starvation, may cause slowing or stalling of the ribosome translating the leader peptide. The stalled ribosome masks a region of the mRNA and affects which of two alternative mRNA folded structures will form, therefore controlling whether or not a ribosome will bind and initiate translation of the downstream gene. Translational attenuation is analogous to ribosome-mediated transcriptional attenuation, in which mRNA remodeling caused by ribosome stalling regulates transcriptional termination rather than translational initiation.',\n",
       "       'The uptake and phosphorylation of specific carbohydrates from the extracellular environment; uptake and phosphorylation are coupled, making the PTS a link between the uptake and metabolism of sugars; phosphoenolpyruvate is the original phosphate donor; phosphoenolpyruvate passes the phosphate via a signal transduction pathway, to enzyme 1 (E1), which in turn passes it on to the histidine protein, HPr; the next step in the system involves sugar-specific membrane-bound complex, enzyme 2 (EII), which transports the sugar into the cell; it includes the sugar permease, which catalyzes the transport reactions; EII is usually divided into three different domains, EIIA, EIIB, and EIIC.',\n",
       "       'A photosystem that contains an iron-sulfur reaction center associated with accessory pigments and electron carriers. In cyanobacteria and chloroplasts, photosystem I functions as a light-dependent plastocyanin-ferredoxin oxidoreductase, transferring electrons from plastocyanin to ferredoxin; in photosynthetic bacteria that have only a single type I photosystem, such as the green sulfur bacteria, electrons can go either to ferredoxin (Fd) -> NAD+ or to menaquinone (MK) -> Cytb/FeS -> Cytc555 -> photosystem I (cyclic photophosphorylation).',\n",
       "       'A microfibril composed of cellulose arranged in orthogonal layers. Cellulose is a straight chain polysaccharide composed of B(14) linked glucose subunits. It is a major component of plant cell walls. Higher plant microfibrils are about 10nm in diameter and extremely long in relation to their width. The cellulose molecules are oriented parallel to the long axis of the microfibril in a paracrystalline array, which provides great tensile strength. The microfibrils are held in place by the wall matrix and their orientation is closely controlled by the cell.',\n",
       "       'The process whose specific outcome is the progression of the embryo sac over time, from its formation to the mature structure. The process begins with the meiosis of the megasporocyte to form four haploid megaspores. Three of the megaspores disintegrate, and the fourth undergoes mitosis giving rise to a binucleate syncytial embryo sac. The two haploid nuclei migrate to the opposite poles of the embryo sac and then undergo two rounds of mitosis generating four haploid nuclei at each pole. One nucleus from each set of four migrates to the center of the cell. Cellularization occurs, resulting in an eight-nucleate seven-celled structure. This structure contains two synergid cells and an egg cell at the micropylar end, and three antipodal cells at the other end. A binucleate endosperm mother cell is formed at the center. The two polar nuclei fuse resulting in a mononucleate diploid endosperm mother cell. The three antipodal cells degenerate.',\n",
       "       'The process whose specific outcome is the progression of the pollen grain over time, from its formation to the mature structure. The process begins with the meiosis of the microsporocyte to form four haploid microspores. The nucleus of each microspore then divides by mitosis to form a two-celled organism, the pollen grain, that contains a tube cell as well as a smaller generative cell. The pollen grain is surrounded by an elaborate cell wall. In some species, the generative cell immediately divides again to give a pair of sperm cells. In most flowering plants, however this division takes place later, in the tube that develops when a pollen grain germinates.',\n",
       "       'The process whose specific outcome is the progression of the embryo sac over time, from its formation as the megaspore to the mature structure. The process begins when three of the four haploid megaspores disintegrate, and the fourth undergoes mitosis giving rise to a binucleate syncytial embryo sac. The two haploid nuclei migrate to the opposite poles of the embryo sac and then undergo two rounds of mitosis generating four haploid nuclei at each pole. One nucleus from each set of four migrates to the center of the cell. Cellularization occurs, resulting in an eight-nucleate seven-celled structure. This structure contains two synergid cells and an egg cell at the micropylar end, and three antipodal cells at the other end. A binucleate endosperm mother cell is formed at the center.',\n",
       "       'Any process that results in a change in state or activity of a cell or an organism (in terms of movement, secretion, enzyme production, gene expression, etc.) as a result of a red or far red light stimulus. Red light is electromagnetic radiation of wavelength of 580-700nm. Far red light is electromagnetic radiation of wavelength 700-800nm. An example of this response is seen at the beginning of many plant species developmental stages. These include germination, and the point when cotyledon expansion is triggered. In certain species these processes take place in response to absorption of red light by the pigment molecule phytochrome, but the signal can be reversed by exposure to far red light. During the initial phase the phytochrome molecule is only present in the red light absorbing form, but on absorption of red light it changes to a far red light absorbing form, triggering progress through development. An immediate short period of exposure to far red light entirely returns the pigment to its initial state and prevents triggering of the developmental process. A thirty minute break between red and subsequent far red light exposure renders the red light effect irreversible, and development then occurs regardless of whether far red light exposure subsequently occurs.',\n",
       "       'The process whose specific outcome is the progression of an embryo from its formation until the end of its embryonic life stage. The end of the embryonic stage is organism-specific. For example, for mammals, the process would begin with zygote formation and end with birth. For insects, the process would begin at zygote formation and end with larval hatching. For plant zygotic embryos, this would be from zygote formation to the end of seed dormancy. For plant vegetative embryos, this would be from the initial determination of the cell or group of cells to form an embryo until the point when the embryo becomes independent of the parent plant.',\n",
       "       'A light-dependent catabolic process occurring concomitantly with photosynthesis in plants (especially C3 plants) whereby dioxygen (O2) is consumed and carbon dioxide (CO2) is evolved. The substrate is glycolate formed in large quantities in chloroplasts from 2-phosphoglycolate generated from ribulose 1,5-bisphosphate by the action of ribulose-bisphosphate carboxylase; the glycolate enters the peroxisomes where it is converted by glycolate oxidase to glyoxylate which undergoes transamination to glycine. This then passes into the mitochondria where it is decarboxylated forming one molecule of serine for every two molecules of glycine. This pathway also exists in photosynthetic bacteria.',\n",
       "       'The series of molecular signals initiated upon sensing by photoreceptor molecules of red light or far red light. Red light is electromagnetic radiation of wavelength of 580-700nm. Far red light is electromagnetic radiation of wavelength 700-800nm. An example of this response is seen at the beginning of many plant species developmental stages. These include germination, and the point when cotyledon expansion is triggered. In certain species these processes take place in response to absorption of red light by the pigment molecule phytochrome, but the signal can be reversed by exposure to far red light. During the initial phase the phytochrome molecule is only present in the red light absorbing form, but on absorption of red light it changes to a far red light absorbing form, triggering progress through development. An immediate short period of exposure to far red light entirely returns the pigment to its initial state and prevents triggering of the developmental process. A thirty minute break between red and subsequent far red light exposure renders the red light effect irreversible, and development then occurs regardless of whether far red light exposure subsequently occurs.',\n",
       "       'The series of molecular signals initiated upon sensing of far red light by a photoreceptor molecule. Far red light is electromagnetic radiation of wavelength 700-800nm. An example of this response is seen at the beginning of many plant species developmental stages. These include germination, and the point when cotyledon expansion is triggered. In certain species these processes take place in response to absorption of red light by the pigment molecule phytochrome, but the signal can be reversed by exposure to far red light. During the initial phase the phytochrome molecule is only present in the red light absorbing form, but on absorption of red light it changes to a far red light absorbing form, triggering progress through development. An immediate short period of exposure to far red light entirely returns the pigment to its initial state and prevents triggering of the developmental process. A thirty minute break between red and subsequent far red light exposure renders the red light effect irreversible, and development then occurs regardless of whether far red light exposure subsequently occurs.',\n",
       "       'Any process that results in a change in state or activity of a cell or an organism (in terms of movement, secretion, enzyme production, gene expression, etc.) as a result of a red light stimulus. Red light is electromagnetic radiation of wavelength of 580-700nm. An example of this response is seen at the beginning of many plant species developmental stages. These include germination, and the point when cotyledon expansion is triggered. In certain species these processes take place in response to absorption of red light by the pigment molecule phytochrome, but the signal can be reversed by exposure to far red light. During the initial phase the phytochrome molecule is only present in the red light absorbing form, but on absorption of red light it changes to a far red light absorbing form, triggering progress through development. An immediate short period of exposure to far red light entirely returns the pigment to its initial state and prevents triggering of the developmental process. A thirty minute break between red and subsequent far red light exposure renders the red light effect irreversible, and development then occurs regardless of whether far red light exposure subsequently occurs.',\n",
       "       'The series of molecular signals initiated upon sensing of red light by a photoreceptor molecule. Red light is electromagnetic radiation of wavelength of 580-700nm. An example of this response is seen at the beginning of many plant species developmental stages. These include germination, and the point when cotyledon expansion is triggered. In certain species these processes take place in response to absorption of red light by the pigment molecule phytochrome, but the signal can be reversed by exposure to far red light. During the initial phase the phytochrome molecule is only present in the red light absorbing form, but on absorption of red light it changes to a far red light absorbing form, triggering progress through development. An immediate short period of exposure to far red light entirely returns the pigment to its initial state and prevents triggering of the developmental process. A thirty minute break between red and subsequent far red light exposure renders the red light effect irreversible, and development then occurs regardless of whether far red light exposure subsequently occurs.',\n",
       "       'Any process that results in a change in state or activity of a cell or an organism (in terms of movement, secretion, enzyme production, gene expression, etc.) as a result of far red light stimulus. Far red light is electromagnetic radiation of wavelength 700-800nm. An example of this response is seen at the beginning of many plant species developmental stages. These include germination, and the point when cotyledon expansion is triggered. In certain species these processes take place in response to absorption of red light by the pigment molecule phytochrome, but the signal can be reversed by exposure to far red light. During the initial phase the phytochrome molecule is only present in the red light absorbing form, but on absorption of red light it changes to a far red light absorbing form, triggering progress through development. An immediate short period of exposure to far red light entirely returns the pigment to its initial state and prevents triggering of the developmental process. A thirty minute break between red and subsequent far red light exposure renders the red light effect irreversible, and development then occurs regardless of whether far red light exposure subsequently occurs.',\n",
       "       'Catalysis of the reaction: 2 H2O = O2 + 4 H+ + 4 e-. The evolution of oxygen from oxidizing water is carried out by the oxygen evolving complex in photosystem II of plants. P680+, the photochemically oxidized reaction-center chlorophyll of PSII, is a strong biological oxidant. The reduction potential of P680+ is more positive than that of water, and thus it can oxidize water to give O2 and H+ ions. The oxygen escapes as a gas while the H+ ions remain in solution inside the thylakoid vesicle.',\n",
       "       'Any process that results in a change in state or activity of a cell or an organism (in terms of movement, secretion, enzyme production, gene expression, etc.) as a result of the detection of a low fluence blue light stimulus by the blue low-fluence system. Blue light is electromagnetic radiation with a wavelength of between 440 and 500nm. The blue low-fluence system responds to blue light at or below 0.1 micromols/m2. In certain species excitation of the blue low fluence system induces the transcription of a number of nuclear and plastid coded genes.',\n",
       "       'Thin filamentous structure extending from the surface of all plastid types examined so far, including chloroplast, proplastid, etioplast, leucoplast, amyloplast, and chromoplast. In general, stromules are more abundant in tissues containing non-green plastids, and in cells containing smaller plastids. The primary function of stromules is still unresolved, although the presence of stromules markedly increases the plastid surface area, potentially increasing transport to and from the cytosol. Other functions of stromules, such as transfer of macromolecules between plastids and starch granule formation in cereal endosperm, may be restricted to particular tissues and cell types.',\n",
       "       'Any process that results in a change in state or activity of a cell or an organism (in terms of movement, secretion, enzyme production, gene expression, etc.) as a result of a gamma radiation stimulus. Gamma radiation is a form of electromagnetic radiation (EMR) or light emission of a specific frequency produced from sub-atomic particle interaction, such as electron-positron annihilation and radioactive decay. Gamma rays are generally characterized as EMR having the highest frequency and energy, and also the shortest wavelength, within the electromagnetic radiation spectrum.',\n",
       "       'The chemical reactions and pathways involving pectic arabinan, a polymer with an alpha-(1->5)-linked L-arabinofuranose (Araf) backbone that can be substituted with Araf-alpha-(1->2)-, Araf-alpha-(1->3)-, and/or Araf-alpha-(1->3)-Araf-alpha-(1->3)-side chains. Arabinan can be found as a side chain of the pectin rhamnogalacturonan I.',\n",
       "       'The chemical reactions and pathways involving a cell wall arabinogalactan II glycoprotein, which is composed of a group of core protein of highly varying length and domain complexity. These are O-glycosylated at one or more hydroxyproline residues by arabinogalactan (AG) type II groups, which consist of (1->3)-beta-galactan and (1->6)-beta-linked galactan chains connected to each other by (1->3,1->6)-linked branch points, O-3 and O-6 positions substituted with terminal arabinosyl residues. Also, rhamnose, fucose, glucuronic and galacturonic acid can be present in the glycan structures.',\n",
       "       'The chemical reactions and pathways involving hemicelluloses, plant cell wall polysaccharides that have a backbone of 1,4-linked beta-D-pyranosyl residues in which O4 is in the equatorial orientation. Many different hemicelluloses usually occur intermixed with each molecular type representing different degrees of polymerization and contain many different sugar monomers, which can include glucose, xylose, mannose, galactose, and arabinose. Hemicelluloses also contain most of the D-pentose sugars and occasionally small amounts of L-sugars as well. Xylose is always the sugar monomer present in the largest amount, but mannuronic acid and galacturonic acid also tend to be present.',\n",
       "       \"Any process that modulates the frequency, rate or extent of gene expression. Gene expression is the process in which a gene's coding sequence is converted into a mature gene product or products (proteins or RNA). This includes the production of an RNA transcript as well as any processing to produce a mature RNA product or an mRNA or circRNA (for protein-coding genes) and the translation of that mRNA or circRNA into protein. Protein maturation is included when required to form an active form of a product from an inactive precursor form.\",\n",
       "       \"Any process that increases the frequency, rate or extent of gene expression. Gene expression is the process in which a gene's coding sequence is converted into a mature gene product or products (proteins or RNA). This includes the production of an RNA transcript as well as any processing to produce a mature RNA product or an mRNA or circRNA (for protein-coding genes) and the translation of that mRNA or circRNA into protein. Protein maturation is included when required to form an active form of a product from an inactive precursor form.\",\n",
       "       \"Any process that decreases the frequency, rate or extent of gene expression. Gene expression is the process in which a gene's coding sequence is converted into a mature gene product or products (proteins or RNA). This includes the production of an RNA transcript as well as any processing to produce a mature RNA product or an mRNA or circRNA (for protein-coding genes) and the translation of that mRNA or circRNA into protein. Protein maturation is included when required to form an active form of a product from an inactive precursor form.\",\n",
       "       'The process in which the vertebrate retina is organized into three laminae: the outer nuclear layer (ONL), which contains photoreceptor nuclei; the inner nuclear layer (INL), which contains amacrine, bipolar and horizontal cells; and the retinal ganglion cell (RGC) layer. Between the inner and outer nuclear layers, the outer plexiform layer (OPL) contains connections between the photoreceptors and bipolar and horizontal cells. The inner plexiform layer (IPL) is positioned between the INL and the ganglion cell layer and contains the dendrites of RGCs and processes of bipolar and amacrine cells. Spanning all layers of the retina are the radially oriented Mueller glia.',\n",
       "       'The chemical reactions and pathways resulting in the formation of the heparan sulfate proteoglycan, a glycosaminoglycan with repeat unit consisting of alternating alpha-(1->4)-linked hexuronic acid and glucosamine residues; the former are a mixture of sulfated and nonsulfated D-glucuronic acid and L-iduronic acid; the L-iduronic acid is either sulfated or acetylated on its amino group as well as being sulfated on one of its hydroxyl groups; heparan sulfate chains are covalently linked to peptidyl-serine by a glycosidic attachment through the trisaccharide galactosyl-galactosyl-xylosyl to serine residues.',\n",
       "       'A class of nuclear body, first seen after silver staining by Ramon y Cajal in 1903, enriched in small nuclear ribonucleoproteins, and certain general RNA polymerase II transcription factors; ultrastructurally, they appear as a tangle of coiled, electron-dense threads roughly 0.5 micrometers in diameter; involved in aspects of snRNP biogenesis; the protein coilin serves as a marker for Cajal bodies. Some argue that Cajal bodies are the sites for preassembly of transcriptosomes, unitary particles involved in transcription and processing of RNA.',\n",
       "       'Enables the secondary active high affinity transfer of sulfate from one side of a membrane to the other. Secondary active transport is the transfer of a solute across a membrane, up its concentration gradient. The transporter binds the solute and undergoes a series of conformational changes. Transport works equally well in either direction and is driven by a chemiosmotic source of energy. Secondary active transporters include symporters and antiporters. In high-affinity transport the transporter is able to bind thesolute even if it is only present at very low concentrations.',\n",
       "       'OBSOLETE. Plasmid-encoded bacteriocins which are produced by enteric bacteria. Exert a lethal effect on other bacteria including E. coli strains that lack the Col plasmid. Bind to a cell surface receptor and are transported into the periplasm via an energy-dependent process involving a TonB- or TolA-dependent hetero-oligomeric protein complex. Some colicins kill their target cell by inserting into the cytoplasmic membrane where they form voltage-sensitive (trans-negative) channels that depolarize and deenergize the cell, and thereby kill it.',\n",
       "       'Enables the transfer of maltose from one side of a membrane to the other. Maltose is the disaccharide 4-O-alpha-D-glucopyranosyl-D-glucopyranose, an intermediate in the enzymatic breakdown of glycogen and starch. This transporter is a porin so enables the energy independent passage of substances, sized less than 1000 Da, across a membrane. The transmembrane portions of porins consist exclusively of beta-strands which form a beta-barrel. They are found in the outer membranes of Gram-negative bacteria, mitochondria, plastids and possibly acid-fast Gram-positive bacteria.',\n",
       "       'Enables the transfer of long-chain fatty acids from one side of a membrane to the other. A long-chain fatty acid is a fatty acid with a chain length between C13 and C22. This transporter is a porin and so enables the energy independent passage of substances, sized less than 1000 Da, across a membrane. The transmembrane portions of porins consist exclusively of beta-strands which form a beta-barrel. They are found in the outer membranes of Gram-negative bacteria, mitochondria, plastids and possibly acid-fast Gram-positive bacteria.',\n",
       "       'The major inducible pathway for the general turnover of cytoplasmic constituents in eukaryotic cells, it is also responsible for the degradation of active cytoplasmic enzymes and organelles during nutrient starvation. Macroautophagy involves the formation of double-membrane-bounded autophagosomes which enclose the cytoplasmic constituent targeted for degradation in a membrane-bounded structure.  Autophagosomes then fuse with a lysosome (or vacuole) releasing single-membrane-bounded autophagic bodies that are then degraded within the lysosome (or vacuole). Some types of macroautophagy, e.g. pexophagy, mitophagy, involve selective targeting of the targets to be degraded.',\n",
       "       'A large protein complex that catalyzes the synthesis or hydrolysis of ATP by a rotational mechanism, coupled to the transport of protons across a membrane. The complex comprises a membrane sector (F0, V0, or A0) that carries out proton transport and a cytoplasmic compartment sector (F1, V1, or A1) that catalyzes ATP synthesis or hydrolysis. Two major types have been characterized: V-type ATPases couple ATP hydrolysis to the transport of protons across a concentration gradient, whereas F-type ATPases, also known as ATP synthases, normally run in the reverse direction to utilize energy from a proton concentration or electrochemical gradient to synthesize ATP. A third type, A-type ATPases have been found in archaea, and are closely related to eukaryotic V-type ATPases but are reversible.',\n",
       "       'A protein complex that interacts with the carboxy-terminal domain of the largest subunit of RNA polymerase II and plays an active role in transducing the signal from a transcription factor to the transcriptional machinery. The mediator complex is required for activation of transcription of most protein-coding genes, but can also act as a transcriptional corepressor. The Saccharomyces complex contains several identifiable subcomplexes: a head domain comprising Srb2, -4, and -5, Med6, -8, and -11, and Rox3 proteins; a middle domain comprising Med1, -4, and -7, Nut1 and -2, Cse2, Rgr1, Soh1, and Srb7 proteins; a tail consisting of Gal11p, Med2p, Pgd1p, and Sin4p; and a regulatory subcomplex comprising Ssn2, -3, and -8, and Srb8 proteins. Metazoan mediator complexes have similar modular structures and include homologs of yeast Srb and Med proteins.',\n",
       "       'Catalysis of the release of ammonia or one of its derivatives, with the formation of a double bond or ring. Enzymes with this activity may catalyze the actual elimination of the ammonia, amine or amide, e.g. CH-CH(-NH-R) = C=CH- + NH2-R. Others, however, catalyze elimination of another component, e.g. water, which is followed by spontaneous reactions that lead to breakage of the C-N bond, e.g. L-serine ammonia-lyase (EC:4.3.1.17), so that the overall reaction is C(-OH)-CH(-NH2) = CH2-CO- + NH3, i.e. an elimination with rearrangement. The sub-subclasses of EC:4.3 are the ammonia-lyases (EC:4.3.1), lyases acting on amides, amidines, etc. (EC:4.3.2), the amine-lyases (EC:4.3.3), and other carbon-nitrogen lyases (EC:4.3.99).',\n",
       "       \"A multienzyme complex found in all multicellular eukaryotes composed of eight proteins with aminoacyl-tRNA synthetase activities (abbreviated as: ArgRS, AspRS, GluProRS, GlnRS, IleRS, LeuRS, LysRS, MetRS where RS is the enzyme, preceded by the amino acid it uses as a substrate) as well as three non-synthetase proteins (p43, p38, and p18) with diverse functions. Several of these subunits are known dimers, so the total polypeptide count in the multisynthetase complex is at least fifteen. All of the enzymes in this assembly catalyze the same reaction, the covalent attachment of an amino acid to either the 2'- or 3'-hydroxyl of the 3'-terminal adenosine of tRNA, but using different substrates.\",\n",
       "       'An assembly of four or five subunits which form a structure with an extracellular N-terminus and a large loop that together form the ligand binding domain. The C-terminus is intracellular. The ionotropic glutamate receptor complex itself acts as a ligand gated ion channel; on binding glutamate, charged ions pass through a channel in the center of the receptor complex. NMDA receptors are composed of assemblies of NR1 subunits (Figure 3) and NR2 subunits, which can be one of four separate gene products (NR2A-D). Expression of both subunits are required to form functional channels. The glutamate binding domain is formed at the junction of NR1 and NR2 subunits. NMDA receptors are permeable to calcium ions as well as being permeable to other ions. Thus NMDA receptor activation leads to a calcium influx into the post-synaptic cells, a signal thought to be crucial for the induction of NMDA-receptor dependent LTP and LTD.',\n",
       "       'The synthesis of (2R,6R)-lanthionine, sn-(2S,6R)-lanthionine or (2S,3S,6R)-3-methyl-lanthionine, forming an intra-polypeptide cross-link between peptidyl-cysteine, and peptidyl-serine or peptidyl-threonine; dehydration of the serine or threonine residue to the alpha,beta-unsaturated amino acid is the first step; a bond then forms between the ethylene (ethene) group thus formed and the sulfur atom of a cysteine, with the inversion of the configuration of the alpha carbon of the serine or threonine occurring during the process.',\n",
       "       'The modification of peptidyl-cysteine to form peptidyl-S-geranylgeranylcysteine; formation of S-geranylgeranyl-L-cysteine may be coupled with subsequent cleavage of a carboxy-terminal tripeptide for the CAAX motif and methyl esterification of the geranylgeranylated cysteine; methyl esterification but not cleavage occurs for the CXC motif. For the type II geranylgeranyltransferase the residue may be found at the first and final positions in the sequence motif C-X-C* or at the final position in the sequence motif C-C*. These motifs are necessary but not sufficient for modification.',\n",
       "       'The glycosylation of protein via the N4 atom of peptidyl-asparagine forming N4-glycosyl-L-asparagine; the most common form is N-acetylglucosaminyl asparagine; N-acetylgalactosaminyl asparagine and N4 glucosyl asparagine also occur. This modification typically occurs in extracellular peptides with an N-X-(ST) motif. Partial modification has been observed to occur with cysteine, rather than serine or threonine, in the third position; secondary structure features are important, and proline in the second or fourth positions inhibits modification.',\n",
       "       'Catalysis of the reaction: N(4)-{N-acetyl-beta-D-glucosaminyl-(1->2)-alpha-D-mannosyl-(1->3)--beta-D-mannosyl-(1->4)-N-acetyl-beta-D-glucosaminyl-(1->4)-N-acetyl-beta-D-glucosaminyl}-L-asparagine + GDP-L-fucose = N(4)-{N-acetyl-beta-D-glucosaminyl-(1->2)-alpha-D-mannosyl-(1->3)--beta-D-mannosyl-(1->4)-N-acetyl-beta-D-glucosaminyl-(1->4)--N-acetyl-beta-D-glucosaminyl}-L-asparagine + GDP + H(+).',\n",
       "       'Catalysis of the reaction: 2,3-unsubstituted benzenoid + O2 + NAD(P)H + H+ = 2,3-cis-dihydroxydihydrobenzenoid + NAD(P)+. Substrates include 1,4-dichlorobenzene (forms 3,6-dichloro-cis-1,2-dihydroxycyclohexa-3,5-diene), 1,2,3,4-tetrachlorobenzene (forms cis-chlorobenzene dihydrodiol) and 1,2,4-trichlorobenzene (forms 3,4,6-trichloro-cis-1,2-dihydroxycyclohexa-3,5-diene).',\n",
       "       'Catalysis of the reaction: (1/2)-unsubstituted naphthalenoid-(2/1)-sulfonate + 2 H+ + 2 e- + O2 = 1,2-dihydroxynaphthalene derivative + HSO3(-). Substrates include naphthalene-1,6-disulfonate (forms 1,2-dihydroxynaphthalene-6-sulfonate), naphthalene-1-sulfonate (forms 1,2-dihydroxynaphthalene), naphthalene-2,6-disulfonate (forms 1,2-dihydroxynaphthalene-6-sulfonate) and naphthalene-2-sulfonate (forms 1,2-dihydroxynaphthalene).',\n",
       "       'The chemical reactions and pathways involving phthalate, the anion of phthalic acid. Phthalic acid diesters are used industrially in the production of a variety of household and consumer goods including plastic polymers, lubricating oils, and carriers for perfumes in cosmetics, while phthalic acid itself is used industrially as a plasticizer. Terephthalate is used in the synthesis of polyethylene terephthalate (polyethene terephthlate, abbreviated PET or PETE), a plastic polymer with many commercial uses.',\n",
       "       'The fixation of carbon dioxide (CO2) as glucose in the chloroplasts of C3 plants; uses ATP and NADPH formed in the light reactions of photosynthesis; carbon dioxide reacts with ribulose 1,5-bisphosphate (catalyzed by the function of ribulose-bisphosphate carboxylase) to yield two molecules of 3-phosphoglycerate; these are then phosphorylated by ATP to 1,3-bisphosphateglyceraldehyde which, in turn, is then reduced by NADPH to glyceraldehyde 3-phosphate. The glyceraldehyde 3-phosphate is converted to fructose 5-phosphate and ribulose 5-phosphate by aldolase and other enzymes; the ribulose 5-phosphate is phosphorylated by ATP to ribulose 1,5-bisphosphate.',\n",
       "       'A pathway leading to the fixation of two molecules of CO2 and the production of one molecule of acetyl-CoA; essentially the oxidative TCA cycle running in reverse. Acetyl-CoA is reductively carboxylated to pyruvate, from which all other central metabolites can be formed. Most of the enzymes of reductive and oxidative TCA cycle are shared, with the exception of three key enzymes that allow the cycle to run in reverse: ATP citrate lyase, 2-oxoglutarate:ferredoxin oxidoreductase, and fumarate reductase. 2-oxoglutarate:ferredoxin oxidoreductase catalyzes the carboxylation of succinyl-CoA to 2-oxoglutarate, ATP citrate lyase the ATP-dependent cleavage of citrate to acetyl-CoA and oxaloacetate, and fumarate reductase the reduction of fumarate forming succinate.',\n",
       "       'The light reactions of photosynthesis, which take place in photosystems II and I. Light energy is harvested and used to power the transfer of electrons among a series of electron donors and acceptors. The final electron acceptor is NADP+, which is reduced to NADPH. NADPH generated from light reactions is used in sugar synthesis in dark reactions. Light reactions also generate a proton motive force across the thylakoid membrane, and the proton gradient is used to synthesize ATP. There are two chemical reactions involved in the light reactions: water oxidation in photosystem II, and NADP reduction in photosystem I.',\n",
       "       'A multisubunit complex composed of two copies of a restriction (R) subunit, two copies of a methylation (M) subunit, and one copy of a specificity (S) subunit. This complex recognizes specific short DNA sequences (through the S subunit), and binds to them. If the recognition site is hemimethylated, the complex acts as a methyltransferase which modifies the recognition site, using S-adenosylmethionine as the methyl donor. Only the M and S subunits are required for this reaction. If the complex binds to an unmethylated recognition site, then the complex translocates the DNA bidirectionally in an ATP-dependent manner. When the translocation is stalled by impact with another complex or unusual DNA structure, the enzyme functions as an endonuclease and cleavage of the DNA will occur, hundreds or thousands of base pairs away from the recognition site. These DNA restriction systems are used by bacteria to defend against phage and other foreign DNA that may enter a cell.',\n",
       "       \"OBSOLETE. Catalysis of the formation of ice crystals in extracellular fluid at relatively high temperatures (up to -2 degrees C) to protect the organism from damage by intracellular ice formation. Ice nucleation proteins function by binding an ice crystal and then encouraging it to form larger crystals. Ice nucleation is a chemical process but these proteins can positively regulate it. There are two different uses of ice nucleation proteins: bacteria secrete them extracellularly to cause a host organism's cells to freeze and die, and fish use them to protect themselves from intracellular ice formation.\",\n",
       "       'A cyclin-dependent kinase activating kinase complex capable of activating cyclin-dependent kinases by threonine phosphorylation, thus regulating cell cycle progression. consists of a kinase, cyclin and optional assembly factors, in human CDK7, CCNH and MNAT1. CAK activity is itself regulated throughout the cell cycle by T-loop phosphorylation of its kinase component (CDK7 in human). Phosphorylation of serine residues during mitosis inactivates the enzyme. Also capable of CAK phosphorylating the carboxyl-terminal domain (CTD) of RNA polymerase II and other transcription activating proteins, as part of the general transcription factor TFIIH.',\n",
       "       'A reproduction process that creates a new organism by combining the genetic material of two gametes, which may come from two organisms or from a single organism, in the case of self-fertilizing hermaphrodites, e.g. C. elegans, or self-fertilization in plants. It occurs both in eukaryotes and prokaryotes: in multicellular eukaryotic organisms, an individual is created anew; in prokaryotes, the initial cell has additional or transformed genetic material. In a process called genetic recombination, genetic material (DNA) originating from two gametes join up so that homologous sequences are aligned with each other, and this is followed by exchange of genetic information. After the new recombinant chromosome is formed, it is passed on to progeny.',\n",
       "       'Interacting selectively and non-covalently with a chemokine. Chemokines are a family of small chemotactic cytokines; their name is derived from their ability to induce directed chemotaxis in nearby responsive cells. All chemokines possess a number of conserved cysteine residues involved in intramolecular disulfide bond formation. Some chemokines are considered pro-inflammatory and can be induced during an immune response to recruit cells of the immune system to a site of infection, while others are considered homeostatic and are involved in controlling the migration of cells during normal processes of tissue maintenance or development. Chemokines are found in all vertebrates, some viruses and some bacteria.',\n",
       "       'A large, club-shaped secretory organelle that forms part of the apical complex of an apicomplexan parasite, and consists of a bulbous body and a narrow electron-dense neck that extends through the conoid at the apical tip of the parasite. The rhoptry necks serve as ducts through which the contents of the rhoptries are secreted after attachment to the host has been completed and at the commencement of invasion. Rhoptry proteins function in the biogenesis and host organellar association of the parasitophorous vacuole.',\n",
       "       'The process whose specific outcome is the progression of the oculomotor nerve over time, from its formation to the mature structure. This motor nerve innervates all extraocular muscles except the superior oblique and the lateral rectus muscles. The superior division supplies the levator palpebrae superioris and superior rectus muscles. The inferior division supplies the medial rectus, inferior rectus and inferior oblique muscles. This nerve also innervates the striated muscles of the eyelid. Pupillary constriction and lens movement are mediated by this nerve for near vision. In the orbit the inferior division sends branches that enter the ciliary ganglion where they form functional contacts (synapses) with the ganglion cells. The ganglion cells send nerve fibers into the back of the eye where they travel to ultimately innervate the ciliary muscle and the constrictor pupillae muscle.',\n",
       "       'The process whose specific outcome is the progression of the trigeminal nerve over time, from its formation to the mature structure. The trigeminal nerve is composed of three large branches. They are the ophthalmic (V1, sensory), maxillary (V2, sensory) and mandibular (V3, motor and sensory) branches. The sensory ophthalmic branch travels through the superior orbital fissure and passes through the orbit to reach the skin of the forehead and top of the head. The maxillary nerve contains sensory branches that reach the pterygopalatine fossa via the inferior orbital fissure (face, cheek and upper teeth) and pterygopalatine canal (soft and hard palate, nasal cavity and pharynx). The motor part of the mandibular branch is distributed to the muscles of mastication, the mylohyoid muscle and the anterior belly of the digastric. The mandibular nerve also innervates the tensor veli palatini and tensor tympani muscles. The sensory part of the mandibular nerve is composed of branches that carry general sensory information from the mucous membranes of the mouth and cheek, anterior two-thirds of the tongue, lower teeth, skin of the lower jaw, side of the head and scalp and meninges of the anterior and middle cranial fossae.',\n",
       "       'The process whose specific outcome is the progression of the facial nerve over time, from its formation to the mature structure. This sensory and motor nerve supplies the muscles of facial expression and the expression and taste at the anterior two-thirds of the tongue. The principal branches are the superficial opthalmic, buccal, palatine and hyomandibular. The main trunk synapses within pterygopalatine ganglion in the parotid gland and this ganglion then gives off nerve branches which supply the lacrimal gland and the mucous secreting glands of the nasal and oral cavities.',\n",
       "       'The process whose specific outcome is the progression of the vagus nerve over time, from its formation to the mature structure. This nerve is primarily sensory but also has visceromotor components. It originates in the brain stem and controls many autonomic functions of the heart, lungs, stomach, pharynx, larynx, trachea, esophagus and other gastrointestinal tract components. It controls some motor functions such as speech. The sensory branches mediate sensation from the pharynx, larynx, thorax and abdomen; it also innervates taste buds in the epiglottis.',\n",
       "       'The process that contributes to the act of creating the structural organization of the cranial nerves. This process pertains to the physical shaping of a rudimentary structure. The cranial nerves are composed of twelve pairs of nerves that emanate from the nervous tissue of the hindbrain. These nerves are sensory, motor, or mixed in nature, and provide the motor and general sensory innervation of the head, neck and viscera. They mediate vision, hearing, olfaction and taste and carry the parasympathetic innervation of the autonomic ganglia that control visceral functions.',\n",
       "       'The process that gives rise to the facial nerve. This process pertains to the initial formation of a structure from unspecified parts. This sensory and motor nerve supplies the muscles of facial expression and the expression and taste at the anterior two-thirds of the tongue. The principal branches are the superficial opthalmic, buccal, palatine and hyomandibular. The main trunk synapses within pterygopalatine ganglion in the parotid gland and this ganglion then gives of nerve branches which supply the lacrimal gland and the mucous secreting glands of the nasal and oral cavities.',\n",
       "       'The process that contributes to the act of creating the structural organization of the facial nerve. This process pertains to the physical shaping of a rudimentary structure. This sensory and motor nerve supplies the muscles of facial expression and the expression and taste at the anterior two-thirds of the tongue. The principal branches are the superficial opthalmic, buccal, palatine and hyomandibular. The main trunk synapses within pterygopalatine ganglion in the parotid gland and this ganglion then gives of nerve branches which supply the lacrimal gland and the mucous secreting glands of the nasal and oral cavities.',\n",
       "       'A developmental process, independent of morphogenetic (shape) change, that is required for the facial nerve to attain its fully functional state. This sensory and motor nerve supplies the muscles of facial expression and the expression and taste at the anterior two-thirds of the tongue. The principal branches are the superficial opthalmic, buccal, palatine and hyomandibular. The main trunk synapses within pterygopalatine ganglion in the parotid gland and this ganglion then gives of nerve branches which supply the lacrimal gland and the mucous secreting glands of the nasal and oral cavities.',\n",
       "       'The process in which the anatomical structure of the oculomotor nerve is generated and organized. This motor nerve innervates all extraocular muscles except the superior oblique and the lateral rectus muscles. The superior division supplies the levator palpebrae superioris and superior rectus muscles. The inferior division supplies the medial rectus, inferior rectus and inferior oblique muscles. This nerve also innervates the striated muscles of the eyelid. Pupillary constriction and lens movement are mediated by this nerve for near vision. In the orbit the inferior division sends branches that enter the ciliary ganglion where they form functional contacts (synapses) with the ganglion cells. The ganglion cells send nerve fibers into the back of the eye where they travel to ultimately innervate the ciliary muscle and the constrictor pupillae muscle.',\n",
       "       'The process that gives rise to the oculomotor nerve. This process pertains to the initial formation of a structure from unspecified parts. This motor nerve innervates all extraocular muscles except the superior oblique and the lateral rectus muscles. The superior division supplies the levator palpebrae superioris and superior rectus muscles. The inferior division supplies the medial rectus, inferior rectus and inferior oblique muscles. This nerve also innervates the striated muscles of the eyelid. Pupillary constriction and lens movement are mediated by this nerve for near vision. In the orbit the inferior division sends branches that enter the ciliary ganglion where they form functional contacts (synapses) with the ganglion cells. The ganglion cells send nerve fibers into the back of the eye where they travel to ultimately innervate the ciliary muscle and the constrictor pupillae muscle.',\n",
       "       'The process that contributes to the act of creating the structural organization of the oculomotor nerve. This process pertains to the physical shaping of a rudimentary structure. This motor nerve innervates all extraocular muscles except the superior oblique and the lateral rectus muscles. The superior division supplies the levator palpebrae superioris and superior rectus muscles. The inferior division supplies the medial rectus, inferior rectus and inferior oblique muscles. This nerve also innervates the striated muscles of the eyelid. Pupillary constriction and lens movement are mediated by this nerve for near vision. In the orbit the inferior division sends branches that enter the ciliary ganglion where they form functional contacts (synapses) with the ganglion cells. The ganglion cells send nerve fibers into the back of the eye where they travel to ultimately innervate the ciliary muscle and the constrictor pupillae muscle.',\n",
       "       'A developmental process, independent of morphogenetic (shape) change, that is required for the oculomotor nerve to attain its fully functional state. This motor nerve innervates all extraocular muscles except the superior oblique and the lateral rectus muscles. The superior division supplies the levator palpebrae superioris and superior rectus muscles. The inferior division supplies the medial rectus, inferior rectus and inferior oblique muscles. This nerve also innervates the striated muscles of the eyelid. Pupillary constriction and lens movement are mediated by this nerve for near vision. In the orbit the inferior division sends branches that enter the ciliary ganglion where they form functional contacts (synapses) with the ganglion cells. The ganglion cells send nerve fibers into the back of the eye where they travel to ultimately innervate the ciliary muscle and the constrictor pupillae muscle.',\n",
       "       'A developmental process, independent of morphogenetic (shape) change, that is required for the trigeminal nerve to attain its fully functional state. The trigeminal nerve is composed of three large branches. They are the ophthalmic (V1, sensory), maxillary (V2, sensory) and mandibular (V3, motor and sensory) branches. The sensory ophthalmic branch travels through the superior orbital fissure and passes through the orbit to reach the skin of the forehead and top of the head. The maxillary nerve contains sensory branches that reach the pterygopalatine fossa via the inferior orbital fissure (face, cheek and upper teeth) and pterygopalatine canal (soft and hard palate, nasal cavity and pharynx). The motor part of the mandibular branch is distributed to the muscles of mastication, the mylohyoid muscle and the anterior belly of the digastric. The mandibular nerve also innervates the tensor veli palatini and tensor tympani muscles. The sensory part of the mandibular nerve is composed of branches that carry general sensory information from the mucous membranes of the mouth and cheek, anterior two-thirds of the tongue, lower teeth, skin of the lower jaw, side of the head and scalp and meninges of the anterior and middle cranial fossae.',\n",
       "       'The process in which the anatomical structure of the trigeminal nerve is generated and organized. The trigeminal nerve is composed of three large branches. They are the ophthalmic (V1, sensory), maxillary (V2, sensory) and mandibular (V3, motor and sensory) branches. The sensory ophthalmic branch travels through the superior orbital fissure and passes through the orbit to reach the skin of the forehead and top of the head. The maxillary nerve contains sensory branches that reach the pterygopalatine fossa via the inferior orbital fissure (face, cheek and upper teeth) and pterygopalatine canal (soft and hard palate, nasal cavity and pharynx). The motor part of the mandibular branch is distributed to the muscles of mastication, the mylohyoid muscle and the anterior belly of the digastric. The mandibular nerve also innervates the tensor veli palatini and tensor tympani muscles. The sensory part of the mandibular nerve is composed of branches that carry general sensory information from the mucous membranes of the mouth and cheek, anterior two-thirds of the tongue, lower teeth, skin of the lower jaw, side of the head and scalp and meninges of the anterior and middle cranial fossae.',\n",
       "       'The process that contributes to the act of creating the structural organization of the oculomotor nerve. This process pertains to the physical shaping of a rudimentary structure. The trigeminal nerve is composed of three large branches. They are the ophthalmic (V1, sensory), maxillary (V2, sensory) and mandibular (V3, motor and sensory) branches. The sensory ophthalmic branch travels through the superior orbital fissure and passes through the orbit to reach the skin of the forehead and top of the head. The maxillary nerve contains sensory branches that reach the pterygopalatine fossa via the inferior orbital fissure (face, cheek and upper teeth) and pterygopalatine canal (soft and hard palate, nasal cavity and pharynx). The motor part of the mandibular branch is distributed to the muscles of mastication, the mylohyoid muscle and the anterior belly of the digastric. The mandibular nerve also innervates the tensor veli palatini and tensor tympani muscles. The sensory part of the mandibular nerve is composed of branches that carry general sensory information from the mucous membranes of the mouth and cheek, anterior two-thirds of the tongue, lower teeth, skin of the lower jaw, side of the head and scalp and meninges of the anterior and middle cranial fossae.',\n",
       "       'The process that gives rise to the trigeminal nerve. This process pertains to the initial formation of a structure from unspecified parts. The trigeminal nerve is composed of three large branches. They are the ophthalmic (V1, sensory), maxillary (V2, sensory) and mandibular (V3, motor and sensory) branches. The sensory ophthalmic branch travels through the superior orbital fissure and passes through the orbit to reach the skin of the forehead and top of the head. The maxillary nerve contains sensory branches that reach the pterygopalatine fossa via the inferior orbital fissure (face, cheek and upper teeth) and pterygopalatine canal (soft and hard palate, nasal cavity and pharynx). The motor part of the mandibular branch is distributed to the muscles of mastication, the mylohyoid muscle and the anterior belly of the digastric. The mandibular nerve also innervates the tensor veli palatini and tensor tympani muscles. The sensory part of the mandibular nerve is composed of branches that carry general sensory information from the mucous membranes of the mouth and cheek, anterior two-thirds of the tongue, lower teeth, skin of the lower jaw, side of the head and scalp and meninges of the anterior and middle cranial fossae.',\n",
       "       'A developmental process, independent of morphogenetic (shape) change, that is required for the vagus nerve to attain its fully functional state. This nerve is primarily sensory but also has visceromotor components. It originates in the brain stem and controls many autonomic functions of the heart, lungs, stomach, pharynx, larynx, trachea, esophagus and other gastrointestinal tract components. It controls some motor functions such as speech. The sensory branches mediate sensation from the pharynx, larynx, thorax and abdomen; it also innervates taste buds in the epiglottis.',\n",
       "       'The process that contributes to the act of creating the structural organization of the vagus nerve. This process pertains to the physical shaping of a rudimentary structure. This nerve is primarily sensory but also has visceromotor components. It originates in the brain stem and controls many autonomic functions of the heart, lungs, stomach, pharynx, larynx, trachea, esophagus and other gastrointestinal tract components. It controls some motor functions such as speech. The sensory branches mediate sensation from the pharynx, larynx, thorax and abdomen; it also innervates taste buds in the epiglottis.',\n",
       "       'The process that gives rise to the vagus nerve. This process pertains to the initial formation of a structure from unspecified parts. This nerve is primarily sensory but also has visceromotor components. It originates in the brain stem and controls many autonomic functions of the heart, lungs, stomach, pharynx, larynx, trachea, esophagus and other gastrointestinal tract components. It controls some motor functions such as speech. The sensory branches mediate sensation from the pharynx, larynx, thorax and abdomen; it also innervates taste buds in the epiglottis.',\n",
       "       'The process whose specific outcome is the progression of the cerebellar Purkinje cell layer over time, from its formation to the mature structure. The Purkinje cell layer lies just underneath the molecular layer of the cerebellar cortex. It contains the neuronal cell bodies of the Purkinje cells that are arranged side by side in a single layer. Candelabrum interneurons are vertically oriented between the Purkinje cells. Purkinje neurons are inhibitory and provide the output of the cerebellar cortex through axons that project into the white matter. Extensive dendritic trees from the Purkinje cells extend upward in a single plane into the molecular layer where they synapse with parallel fibers of granule cells.',\n",
       "       'The process whose specific outcome is the progression of the cerebellar granule layer over time, from its formation to the mature structure. The granular layer is the innermost layer of the cerebellar cortex. This layer contains densely packed small neurons, mostly granule cells. Some Golgi cells are found at the outer border. Granule neurons send parallel fibers to the upper molecular layer, where they synapse with Purkinje cell dendrites. Mossy fibers from the pontine nuclei in the white matter synapse with granule cell axons, Golgi cell axons and unipolar brush interneuron axons at cerebellar glomeruli in the granule cell layer.',\n",
       "       'The process in which the anatomical structure of the cerebellar granular layer is generated and organized. The granular layer is the innermost layer of the cerebellar cortex. This layer contains densely packed small neurons, mostly granule cells. Some Golgi cells are found at the outer border. Granule neurons send parallel fibers to the upper molecular layer, where they synapse with Purkinje cell dendrites. Mossy fibers from the pontine nuclei in the white matter synapse with granule cell axons, Golgi cell axons and unipolar brush interneuron axons at cerebellar glomeruli in the granule cell layer.',\n",
       "       'The process that gives rise to the cerebellar granule layer. This process pertains to the initial formation of a structure from unspecified parts. The granular layer is the innermost layer of the cerebellar cortex. This layer contains densely packed small neurons, mostly granule cells. Some Golgi cells are found at the outer border. Granule neurons send parallel fibers to the upper molecular layer, where they synapse with Purkinje cell dendrites. Mossy fibers from the pontine nuclei in the white matter synapse with granule cell axons, Golgi cell axons and unipolar brush interneuron axons at cerebellar glomeruli in the granule cell layer.',\n",
       "       'The process that contributes to the act of creating the structural organization of the cerebellar granule layer. This process pertains to the physical shaping of a rudimentary structure. The granular layer is the innermost layer of the cerebellar cortex. This layer contains densely packed small neurons, mostly granule cells. Some Golgi cells are found at the outer border. Granule neurons send parallel fibers to the upper molecular layer, where they synapse with Purkinje cell dendrites. Mossy fibers from the pontine nuclei in the white matter synapse with granule cell axons, Golgi cell axons and unipolar brush interneuron axons at cerebellar glomeruli in the granule cell layer.',\n",
       "       'A developmental process, independent of morphogenetic (shape) change, that is required for the cerebellar granular layer to attain its fully functional state. The granular layer is the innermost layer of the cerebellar cortex. This layer contains densely packed small neurons, mostly granule cells. Some Golgi cells are found at the outer border. Granule neurons send parallel fibers to the upper molecular layer, where they synapse with Purkinje cell dendrites. Mossy fibers from the pontine nuclei in the white matter synapse with granule cell axons, Golgi cell axons and unipolar brush interneuron axons at cerebellar glomeruli in the granule cell layer.',\n",
       "       'A developmental process, independent of morphogenetic (shape) change, that is required for the cerebellar Purkinje cell layer to attain its fully functional state. The Purkinje cell layer lies just underneath the molecular layer of the cerebellar cortex. It contains the neuronal cell bodies of the Purkinje cells that are arranged side by side in a single layer. Candelabrum interneurons are vertically oriented between the Purkinje cells. Purkinje neurons are inhibitory and provide the output of the cerebellar cortex through axons that project into the white matter. Extensive dendritic trees from the Purkinje cells extend upward in a single plane into the molecular layer where they synapse with parallel fibers of granule cells.',\n",
       "       'The process in which the anatomical structure of the cerebellar Purkinje cell layer is generated and organized. The Purkinje cell layer lies just underneath the molecular layer of the cerebellar cortex. It contains the neuronal cell bodies of the Purkinje cells that are arranged side by side in a single layer. Candelabrum interneurons are vertically oriented between the Purkinje cells. Purkinje neurons are inhibitory and provide the output of the cerebellar cortex through axons that project into the white matter. Extensive dendritic trees from the Purkinje cells extend upward in a single plane into the molecular layer where they synapse with parallel fibers of granule cells.',\n",
       "       'The process that contributes to the act of creating the structural organization of the cerebellar Purkinje cell layer. This process pertains to the physical shaping of a rudimentary structure. The Purkinje cell layer lies just underneath the molecular layer of the cerebellar cortex. It contains the neuronal cell bodies of the Purkinje cells that are arranged side by side in a single layer. Candelabrum interneurons are vertically oriented between the Purkinje cells. Purkinje neurons are inhibitory and provide the output of the cerebellar cortex through axons that project into the white matter. Extensive dendritic trees from the Purkinje cells extend upward in a single plane into the molecular layer where they synapse with parallel fibers of granule cells.',\n",
       "       'The process that gives rise to the cerebellar Purkinje cell layer. This process pertains to the initial formation of a structure from unspecified parts. The Purkinje cell layer lies just underneath the molecular layer of the cerebellar cortex. It contains the neuronal cell bodies of the Purkinje cells that are arranged side by side in a single layer. Candelabrum interneurons are vertically oriented between the Purkinje cells. Purkinje neurons are inhibitory and provide the output of the cerebellar cortex through axons that project into the white matter. Extensive dendritic trees from the Purkinje cells extend upward in a single plane into the molecular layer where they synapse with parallel fibers of granule cells.',\n",
       "       'The process whose specific outcome is the progression of the cerebellar cortex over time, from its formation to the mature structure. The cerebellar cortex is a thin mantle of gray matter that covers the surface of each cerebral hemisphere. It has a characteristic morphology with convolutions (gyri) and crevices (sulci) that have specific functions. Six layers of nerve cells and the nerve pathways that connect them comprise the cerebellar cortex. Together, these regions are responsible for the processes of conscious thought, perception, emotion and memory as well as advanced motor function.',\n",
       "       'The process that gives rise to the cerebellar cortex. This process pertains to the initial formation of a structure from unspecified parts. The cerebellar cortex is a thin mantle of gray matter that covers the surface of each cerebral hemisphere. It has a characteristic morphology with convolutions (gyri) and crevices (sulci) that have specific functions. Six layers of nerve cells and the nerve pathways that connect them comprise the cerebellar cortex. Together, these regions are responsible for the processes of conscious thought, perception, emotion and memory as well as advanced motor function.',\n",
       "       'The process that contributes to the act of creating the structural organization of the cerebellar cortex. This process pertains to the physical shaping of a rudimentary structure. The cerebellar cortex is a thin mantle of gray matter that covers the surface of each cerebral hemisphere. It has a characteristic morphology with convolutions (gyri) and crevices (sulci) that have specific functions. Six layers of nerve cells and the nerve pathways that connect them comprise the cerebellar cortex. Together, these regions are responsible for the processes of conscious thought, perception, emotion and memory as well as advanced motor function.',\n",
       "       'A developmental process, independent of morphogenetic (shape) change, that is required for the cerebellar cortex to attain its fully functional state. The cerebellar cortex is a thin mantle of gray matter that covers the surface of each cerebral hemisphere. It has a characteristic morphology with convolutions (gyri) and crevices (sulci) that have specific functions. Six layers of nerve cells and the nerve pathways that connect them comprise the cerebellar cortex. Together, these regions are responsible for the processes of conscious thought, perception, emotion and memory as well as advanced motor function.',\n",
       "       'The process whose specific outcome is the progression of the postganglionic portion of the parasympathetic fiber over time, from its formation to the mature structure. The parasympathetic fiber is one of the two divisions of the vertebrate autonomic nervous system. Parasympathetic nerves emerge cranially as pre ganglionic fibers from oculomotor, facial, glossopharyngeal and vagus and from the sacral region of the spinal cord. Most neurons are cholinergic and responses are mediated by muscarinic receptors. The parasympathetic system innervates, for example: salivary glands, thoracic and abdominal viscera, bladder and genitalia.',\n",
       "       'The evolutionarily conserved CCR4-NOT complex is involved in several aspects of mRNA metabolism, including repression and activation of mRNA initiation, control of mRNA elongation, and the deadenylation and subsequent degradation of mRNA. In Saccharomyces the CCR4-NOT complex comprises a core complex of 9 proteins (Ccr4p, Caf1p, Caf40p, Caf130p, Not1p, Not2p, Not3p, Not4p, and Not5p), Caf4p, Caf16p, and several less well characterized proteins.',\n",
       "       'Any of several heterotetrameric complexes that link clathrin (or another coat-forming molecule, as hypothesized for AP-3 and AP-4) to a membrane surface; they are found on coated pits and coated vesicles, and mediate sorting of cargo proteins into vesicles. Each AP complex contains two large (a beta and one of either an alpha, gamma, delta, or epsilon) subunits (110-130 kDa), a medium (mu) subunit (approximately 50 kDa), and a small (sigma) subunit (15-20 kDa).',\n",
       "       'A heterotetrameric AP-type membrane coat adaptor complex that consists of beta1, gamma, mu1 and sigma1 subunits and links clathrin to the membrane surface of a vesicle; vesicles with AP-1-containing coats are normally found primarily in the trans-Golgi network. In at least humans, the AP-1 complex can be heterogeneric due to the existence of multiple subunit isoforms encoded by different genes (gamma1 and gamma2, mu1A and mu1B, and sigma1A, sigma1B and sigma1C).',\n",
       "       'A heterotetrameric AP-type membrane coat adaptor complex that consists of alpha, beta2, mu2 and sigma2 subunits, and links clathrin to the membrane surface of a vesicle, and the cargo receptors during receptor/clathrin mediated endocytosis. Vesicles with AP-2-containing coats are normally found primarily near the plasma membrane, on endocytic vesicles. In at least humans, the AP-2 complex can be heterogeneric due to the existence of multiple subunit isoforms encoded by different alpha genes (alphaA and alphaC).',\n",
       "       'Catalysis of the reaction: UDP-N-acetyl-D-glucosamine + N-acetyl-beta-D-glucosaminyl-1,2-alpha-D-mannosyl-1,3(6)-(N-acetyl-beta-D-glucosaminyl-1,2-alpha-D-mannosyl,1,6(3))-beta-D-mannosyl-1,4-N-acetyl-beta-D-glucosaminyl-R = UDP + N-acetyl-beta-D-glucosaminyl-1,2-(N-acetyl-beta-D-glucosaminyl-1,6)-1,2-alpha-D-mannosyl-1,3(6)-(N-acetyl-beta-D-glucosaminyl-1,2-alpha-D-mannosyl-1,6(3))-beta-D-mannosyl-1,4-N-acetyl-beta-D-glucosaminyl-R. Only branched mannose glycopeptides with non-reducing N-acetylglucosamine terminal residues act as acceptors.',\n",
       "       'The chemical reactions and pathways involving heparin, any member of a group of glycosaminoglycans found mainly as an intracellular component of mast cells. They are similar to heparan sulfates but are of somewhat higher average Mr (6000-20000) and contain fewer N-acetyl groups and more N-sulfate and O-sulfate groups; they may be attached in the same manner to protein, forming proteoglycans. They consist predominantly of alternating alpha-(1->4)-linked D-galactose and N-acetyl-D-glucosamine-6-sulfate residues.',\n",
       "       'The chemical reactions and pathways involving chondroitin sulfate, any member of a group of 10-60 kDa glycosaminoglycans, widely distributed in cartilage and other mammalian connective tissues, the repeat units of which consist of beta-(1,4)-linked D-glucuronyl beta-(1,3)-N-acetyl-D-galactosamine sulfate. They usually occur linked to a protein to form proteoglycans. Two subgroups exist, one in which the sulfate is on the 4-position (chondroitin sulfate A) and the second in which it is in the 6-position (chondroitin sulfate C). They often are polydisperse and often differ in the degree of sulfation from tissue to tissue. The chains of repeating disaccharide are covalently linked to the side chains of serine residues in the polypeptide backbone of a protein by a glycosidic attachment through the trisaccharide unit galactosyl-galactosyl-xylosyl. Chondroitin sulfate B is more usually known as dermatan sulfate.',\n",
       "       'The process whose specific outcome is the progression of the lung over time, from its formation to the mature structure. In all air-breathing vertebrates the lungs are developed from the ventral wall of the oesophagus as a pouch which divides into two sacs. In amphibians and many reptiles the lungs retain very nearly this primitive sac-like character, but in the higher forms the connection with the esophagus becomes elongated into the windpipe and the inner walls of the sacs become more and more divided, until, in the mammals, the air spaces become minutely divided into tubes ending in small air cells, in the walls of which the blood circulates in a fine network of capillaries. In mammals the lungs are more or less divided into lobes, and each lung occupies a separate cavity in the thorax.',\n",
       "       'A protein complex that binds to the Mlu1 cell cycle box (MCB) promoter element, consensus sequence ACGCGN, and is involved in regulation of transcription during the G1/S transition of the cell cycle. In Saccharomyces, the complex contains a heterodimer of the DNA binding protein Mbp1p and the activator Swi4p, and is associated with additional proteins known as Nrm1p, Msa1p, and Msa2p; in Schizosaccharomyces the complex contains Res1p, Res2p, and Cdc10p.',\n",
       "       \"A subcomplex of the nuclear pore complex (NPC) that forms the outer rings of the core scaffold, a lattice-like structure that gives the NPC its shape and strength. In S. cerevisiae, the two outer rings each contain multiple copies of the following proteins: Nup133p, Nup120p, Nup145Cp, Nup85p, Nup84p, Seh1p, and Sec13p. In vertebrates, the two outer rings each contain multiple copies of the following proteins: Nup133, Nup160, Nup96, Nup75, Nup107, Seh1, Sec13, Nup43, Nup37, and ALADIN. Components are arranged in 8-fold symmetrical 'spokes' around the central transport channel. A single 'spoke', can be isolated and is sometimes referred to as the Nup84 complex (S. cerevisiae) or the Nup107-160 complex (vertebrates).\",\n",
       "       'A pentameric protein complex related to replication factor C, which loads a trimeric complex of checkpoint proteins (known as the checkpoint clamp or 9-1-1 complex) onto DNA at damage sites; functions in DNA damage cell cycle checkpoints. In Schizosaccharomyces pombe the subunits are known as Rad17, Rfc2, Rfc3, Rfc4, and Rfc5, while in Saccharomyces cerevisiae the subunits are known as Rad24p, Rfc2p, Rfc3p, Rfc4p, and Rfc5p.',\n",
       "       \"A multiprotein complex having distributive polyadenylation activity of a variety of RNA substrates including hypomodified and incorrectly folded tRNAs, pre-snRNAs, pre-snoRNAs, incorrectly spliced or processed pre-mRNAs, cryptic unstable transcripts (CUTs), pre-rRNAs and rRNA fragments released as part of rRNA processing. In S. cerevisiae, the complex consists of either Pap2 (also known as Trf4) or Trf5, Air1 or Air2, and Mtr4, and is involved in RNA 3'-end processing and in RNA surveillance and quality control.\",\n",
       "       'A cilium which may have a variable arrangement of axonemal microtubules and also contains molecular motors. It may beat with a whip-like pattern that promotes cell motility or transport of fluids and other cells across a cell surface, such as on epithelial cells that line the lumenal ducts of various tissues; or they may display a distinct twirling motion that directs fluid flow asymmetrically across the cellular surface to affect asymmetric body plan organization. Motile cilia can be found in single as well as multiple copies per cell.',\n",
       "       'A type of transcriptional regulation at the level of early termination. This process can occur only in prokaryotes, where transcription of an operon into messenger RNA and translation of that mRNA into polypeptides occur simultaneously. The general principle is that alternative mRNA secondary structures occur under different physiological conditions such as available amount of a particular amino acid. One set of conditions favors early termination of transcription. In the classic example of the trp biosynthesis operon, translation of the gene for a short, trp-containing polypeptide called the trp operon leader peptide pauses either at a trp codon (if tryptophan is scarce) or the stop codon (if trp is readily available). In the former situation transcription continues, but in the latter a Rho-independent terminator forms and reduces, or attenuates, expression of the tryptophan biosynthesis genes. Although the polypeptides encoded by leader peptide genes appear not to be stable once their translation is complete, it is suggested by recent studies that their nascent polypeptide chains interact specifically with ribosomes, specific uncharged tRNAs, or other cellular components to inhibit release at the stop codon and improve the function of transcriptional attenuation as a regulatory switch.',\n",
       "       'A cytoplasm to vacuole targeting pathway that uses machinery common with autophagy. The Cvt vesicle is formed when the receptor protein, Atg19, binds to the complexes of the target protein (aminopeptidase or alpha-mannosidase homododecamers), forming the Cvt complex. Atg11 binds to Atg9 and transports the Cvt complex to the pre-autophagosome (PAS). The phagophore membrane expands around the Cvt complex (excluding bulk cytoplasm) forming the Cvt vesicle. This pathway is mostly observed in yeast.',\n",
       "       'An assembly of four or five subunits which form a structure with an extracellular N-terminus and a large loop that together form the ligand binding domain. The C-terminus is intracellular. The ionotropic glutamate receptor complex itself acts as a ligand gated ion channel; on binding glutamate, charged ions pass through a channel in the center of the receptor complex. The AMPA receptors mediate fast synaptic transmission in the CNS and are composed of subunits GluR1-4, products from separate genes. These subunits have an extracellular N-terminus and an intracellular C-terminus.',\n",
       "       'The cell cycle process in which genetic material, in the form of chromosomes, is organized and then physically separated and apportioned to two or more sets during a normally chiasmate meiosis under the condition that chiasma have not occurred between a particular pair of homologs. Distributive segregation is a \\\\\"backup\\\\\" mechanism to ensure the segregation of homologs that have failed to cross over - either as a consequence of mutation or not, as, for example, the 4th chromosome of Drosophila melanogaster (which never exchanges, presumably due to its small size) - but nevertheless segregate normally.',\n",
       "       'An assembly of four or five subunits which form a structure with an extracellular N-terminus and a large loop that together form the ligand binding domain. The C-terminus is intracellular. The ionotropic glutamate receptor complex itself acts as a ligand gated ion channel; on binding glutamate, charged ions pass through a channel in the center of the receptor complex. Kainate receptors are multimeric assemblies of GluK1-3 (also called GluR5-7), GluK4 (KA1) and GluK5 (KA2) subunits.',\n",
       "       'The chemical reactions and pathways involving vancomycin, (3S,6R,7R,11R,23S,26S,30aS,36R,38aR)-44--3-(carbamoylmethyl)-10,19-dichloro-2,3,4,5,6,7,23,25,26,36,37,38,38a-tetradecahydro-7,22,28,30,32-pentahydroxy-6-(N-methyl-D-leucyl)-2,5,24,38,39-pentaoxo-1H,22H-23,36-(epiminomethano)-8,11:18,21-dietheno-13,16:31,35-di(metheno)oxadiazacyclohexadecinobenzoxadiazacyclotetracosine-26-carboxylic acid, a complex glycopeptide from Streptomyces orientalis that inhibits a specific step in the synthesis of the peptidoglycan layer in Gram-positive bacteria.',\n",
       "       'The chemical reactions and pathways leading to the formation of vancomycin, (3S,6R,7R,11R,23S,26S,30aS,36R,38aR)-44--3-(carbamoylmethyl)-10,19-dichloro-2,3,4,5,6,7,23,25,26,36,37,38,38a-tetradecahydro-7,22,28,30,32-pentahydroxy-6-(N-methyl-D-leucyl)-2,5,24,38,39-pentaoxo-1H,22H-23,36-(epiminomethano)-8,11:18,21-dietheno-13,16:31,35-di(metheno)oxadiazacyclohexadecinobenzoxadiazacyclotetracosine-26-carboxylic acid, a complex glycopeptide from Streptomyces orientalis that inhibits a specific step in the synthesis of the peptidoglycan layer in Gram-positive bacteria.',\n",
       "       'A large, elongated, rod-shaped secretory granule characteristic of vascular endothelial cells that contain a number of structurally and functionally distinct proteins, of which the best characterized are von Willebrand factor (VWF) and P-selectin. Weibel-Palade bodies are formed from the trans-Golgi network in a process that depends on VWF, which is densely packed in a highly organized manner, and on coat proteins that remain associated with the granules. Upon cell stimulation, regulated exocytosis releases the contained proteins to the cell surface, where they act in the recruitment of platelets and leukocytes and in inflammatory and vasoactive responses.',\n",
       "       'Any intracellular signal transduction in which the signal is passed on within the cell by activation of a member of the NFAT protein family as a consequence of NFAT dephosphorylation by Ca(2+)-activated calcineurin. The cascade begins with calcium-dependent activation of the phosphatase calcineurin. Calcineurin dephosphorylates multiple phosphoserine residues on NFAT, resulting in the translocation of NFAT to the nucleus. The cascade ends with regulation of transcription by NFAT. The calcineurin-NFAT cascade lies downstream of many cell surface receptors, including G protein-coupled receptors (GPCRs) and receptor tyrosine kinases (RTKs) that signal to mobilize calcium ions (Ca2+).',\n",
       "       'A proton-transporting two-sector ATPase complex that couples ATP hydrolysis to the transport of protons across a concentration gradient. The resulting transmembrane electrochemical potential of H+ is used to drive a variety of (i) secondary active transport systems via H+-dependent symporters and antiporters and (ii) channel-mediated transport systems. The complex comprises a membrane sector (V0) that carries out proton transport and a cytoplasmic compartment sector (V1) that catalyzes ATP hydrolysis. V-type ATPases are found in the membranes of organelles such as vacuoles, endosomes, and lysosomes, and in the plasma membrane.',\n",
       "       'A protein complex that contains four related proteins that have been implicated in several membrane-related processes, such as sorting of H+-translocating ATPases, endocytosis, ER-Golgi trafficking, vacuole fusion, vacuolar polyphosphate homeostasis and the microautophagic scission of vesicles into the vacuolar lumen. The complex is enriched at the vacuolar membrane, but also found in other cellular compartments, including the ER and the cell periphery. In Saccharomyces, the subunits are Vtc1p, Vtc2p, Vtc3p and Vtc4p.',\n",
       "       'The chemical reactions and pathways resulting in the formation of ajugose, the hexasaccharide beta-D-fructofuranosyl alpha-D-galactopyranosyl-(1->6)-alpha-D-galactopyranosyl-(1->6)-alpha-D-galactopyranosyl-(1->6)-alpha-D-galactopyranosyl-(1->6)-alpha-D-glucopyranoside, by a pathway in which galactinol:raffinose galactosyltransferase catalyzes chain elongation by transferring the alpha-galactosyl residue of galactinol to the oligosaccharide.',\n",
       "       'The chemical reactions and pathways resulting in the formation of ajugose, the hexasaccharide beta-D-fructofuranosyl alpha-D-galactopyranosyl-(1->6)-alpha-D-galactopyranosyl-(1->6)-alpha-D-galactopyranosyl-(1->6)-alpha-D-galactopyranosyl-(1->6)-alpha-D-glucopyranoside, by a pathway in which galactan:galactan galactosyltransferase catalyzes chain elongation by transferring the alpha-galactosyl residue of one raffinose-family oligosaccharide to another.',\n",
       "       'A fatty acid beta-oxidation pathway by which fatty acids having cis-double bonds on odd-numbered carbons are degraded. In this pathway, a cis-3-enoyl-CoA is generated by the core beta-oxidation pathway, and then converted to a trans-2-enoyl-CoA, which can return to the core beta-oxidation pathway for complete degradation. Fatty acid beta-oxidation begins with the addition of coenzyme A to a fatty acid, and ends when only two or three carbons remain (as acetyl-CoA or propionyl-CoA respectively).',\n",
       "       'A fatty acid beta-oxidation pathway by which fatty acids having cis-double bonds on even-numbered carbons are degraded. In this pathway, the intermediate 2,4-dienoyl-CoA is converted to trans-2-enoyl-CoA by 2,4-dienoyl-CoA reductase and delta3-delta2-enoyl-CoA isomerase; trans-2-enoyl-CoA returns to the core beta-oxidation pathway for further degradation. Fatty acid beta-oxidation begins with the addition of coenzyme A to a fatty acid, and ends when only two or three carbons remain (as acetyl-CoA or propionyl-CoA respectively).',\n",
       "       'A fatty acid beta-oxidation pathway by which fatty acids having cis-double bonds on even-numbered carbons are degraded. In this pathway, the intermediate 2,4-dienoyl-CoA is converted to cis-2-enoyl-CoA through one more cycle of the core beta-oxidation pathway. Cis-2-enoyl-CoA cannot be completely degraded via the core beta-oxidation pathway because hydratation of cis-2-enoyl-CoA yields D-3-hydroxyacyl-CoA, which is not a substrate for 3-hydroxylacyl-CoA dehydrogenase. Cis-2-enoyl-CoA must enter the so-called epimerase pathway, which involves converting D-3-hydroxyacyl-CoA to L-3-hydroxyacyl-CoA by 3-hydroxylacyl-CoA epimerase or by two stereo-specific enoyl-CoA hydratases. L-3-hydroxyacyl-CoA then returns to the core beta-oxidation pathway. Fatty acid beta-oxidation begins with the addition of coenzyme A to a fatty acid, and ends when only two or three carbons remain (as acetyl-CoA or propionyl-CoA respectively).',\n",
       "       'A histone deacetylase complex which deacetylates histones across gene coding regions. Composed of a catalytic histone deacetylase subunit, an Sds-3 family protein, a SIN3 family co-repressor, a WD repeat protein, and a zf- PHD finger (Clr6, Sds3, Pst1, Prw1, Png2 in Schizosaccharomyces pombe; Rpd3p, Sin3p, Ume1p, Pho23p, Sap30p, Sds3p, Cti6p, Rxt2p, Rxt3p, Dep1p, Ume6p and Ash1p in Saccharomyces cerevisiae).',\n",
       "       'Catalysis of the hydrolysis of cellobiose from the reducing end of xyloglucans consisting of a beta-(1->4) linked glucan carrying alpha-D-xylosyl groups on O-6 of the glucose residues. To be a substrate, the first residue must be unsubstituted, the second residue may bear a xylosyl group, whether further glycosylated or not, and the third residue, which becomes the new terminus by the action of the enzyme, is preferably xylosylated, but this xylose residue must not be further substituted.',\n",
       "       'Catalysis of the reactions: 1,5-anhydro-D-fructose = 2-hydroxy-2-(hydroxymethyl)-2H-pyran-3(6H)-one + H2O; (1a) 1,5-anhydro-D-fructose = 1,5-anhydro-4-deoxy-D-glycero-hex-3-en-2-ulose + H2O and (1b) 1,5-anhydro-4-deoxy-D-glycero-hex-3-en-2-ulose = 2-hydroxy-2-(hydroxymethyl)-2H-pyran-3(6H)-one.',\n",
       "       'Catalysis of the reaction: (1->4)-beta-D-glucuronan = an oligosaccharide with 4-deoxy-beta-D-gluc-4-enuronosyl end + (1->4)-beta-D-glucuronan. This reaction is the eliminative cleavage of (1->4)-beta-D-glucuronans to give oligosaccharides with 4-deoxy-beta-D-gluc-4-enuronosyl groups at their non-reducing ends. Complete degradation of glucuronans results in the formation of tetrasaccharides.',\n",
       "       \"Catalysis of the reaction: beta-D-fructopyranosyl-(2->6)-n-D-fructofuranoside = beta-D-fructopyranosyl-(2->6)-(n-1)-D-fructofuranoside + di-beta-D-fructofuranose 2,6':2',6-dianhydride. This reaction is the production of di-beta-D-fructofuranose 2,6':2',6-dianhydride (DFA IV) by successively eliminating the diminishing (2->6)-beta-D-fructan (levan) chain from the terminal D-fructosyl-D-fructosyl disaccharide.\",\n",
       "       \"Catalysis of the reaction:(n) =(n-1) + alpha-D-fructofuranose-beta-D-fructofuranose 1,2':1,2'-dianhydride. This reaction is the production of alpha-D-fructofuranose beta-D-fructofuranose 1,2':2,1'-dianhydride (DFA I) by successively eliminating the diminishing (2->1)-beta-D-fructan (inulin) chain from the terminal D-fructosyl-D-fructosyl disaccharide.\",\n",
       "       \"Catalysis of the reaction:(n) =(n-1) + alpha-D-fructofuranose beta-D-fructofuranose 1,2':2,3'-dianhydride. This reaction is the production of alpha-D-fructofuranose beta-D-fructofuranose 1,2':2,3'-dianhydride (DFA III) by successively eliminating the diminishing (2->1)-beta-D-fructan (inulin) chain from the terminal D-fructosyl-D-fructosyl disaccharide.\",\n",
       "       'Catalysis of the reaction: dermatan sulfate = n 4-deoxy-beta-D-gluc-4-enuronosyl-(1,3)-N-acetyl-D-galactosamine 4-sulfate. This reaction is the eliminative cleavage of dermatan sulfate containing 1,4-beta-D-hexosaminyl and 1,3-beta-D-glucurosonyl or 1,3-alpha-L-iduronosyl linkages to disaccharides containing 4-deoxy-beta-D-gluc-4-enuronosyl groups to yield a 4,5-unsaturated dermatan-sulfate disaccharide (DeltaUA-GalNAC-4S). Chondroitin sulfate B is also known as dermatan sulfate.',\n",
       "       'Catalysis of the reaction:-lysine + spermidine =-deoxyhypusine + propane-1,3-diamine. Four sub-reactions have been identified,in which the intermediates remain tightly associated with the enzyme: spermidine + NAD+ = dehydrospermidine + NADH; dehydrospermidine +-lysine = N-(4-aminobutylidene)--lysine + propane-1,3-diamine; N-(4-aminobutylidene)--lysine +-lysine = N-(4-aminobutylidene)--lysine +-lysine; N-(4-aminobutylidene)--lysine + NADH + H+ =-deoxyhypusine + NAD+.',\n",
       "       'A large (20 S) protein complex that possesses protein arginine methyltransferase activity and modifies specific arginines to dimethylarginines in the arginine- and glycine-rich domains of several spliceosomal Sm proteins, thereby targeting these proteins to the survival of motor neurons (SMN) complex for assembly into small nuclear ribonucleoprotein (snRNP) core particles. Proteins found in the methylosome include the methyltransferase JBP1 (PRMT5), pICln (CLNS1A), MEP50 (WDR77), and unmethylated forms of SM proteins that have RG domains.',\n",
       "       'A transcription factor complex that forms part of the TFIIIC complex, observed in human; composed of five subunits (GTF3C1/hTFIIIC220/TFIIICalpha, GTF3C2/hTFIIIC110/TFIIICbeta, GTF3C3/hTFIIIC102/TFIIICgamma, GTF3C4/hTFIIIC90/TFIIICdelta and GTF3C5/hTFIIIC63/TFIIICepsilon in human) that together recognize the type 2 RNA polymerase III promoter.',\n",
       "       'The directed movement of a hemocyte within the embryo. Hemocytes are blood cells associated with a hemocoel (the cavity containing most of the major organs of the arthropod body) which are involved in defense and clotting of hemolymph, but not involved in transport of oxygen. In Drosophila, embryonic hemocytes originate from the head mesoderm as a cluster of cells. The cluster splits into two and one group of cells crosses the amnioserosa. Both populations then spread toward the middle of the embryo and then disperse evenly throughout the embryo.',\n",
       "       'An abundant nuclear complex, which was originally identified in mammalian systems as a factor required for transcription elongation on chromatin templates. The FACT complex has been shown to destablilize the interaction between the H2A/H2B dimer and the H3/H4 tetramer of the nucleosome, thus reorganizing the structure of the nucleosome. In this way, the FACT complex may play a role in DNA replication and other processes that traverse the chromatin, as well as in transcription elongation. FACT is composed of two proteins that are evolutionarily conserved in all eukaryotes and homologous to mammalian Spt16 and SSRP1. In metazoans, the SSRP1 homolog contains an HMG domain; however in fungi and protists, it does not. For example, in S. cerevisiae the Pob3 protein is homologous to SSRP1, but lacks the HMG chromatin binding domain. Instead, the yFACT complex of Spt16p and Pob3p, binds to nucleosomes where multiple copies of the HMG-domain containing protein Nhp6p have already bound, but Nhp6p does not form a stable complex with the Spt16p/Pob3p heterodimer.',\n",
       "       'The process in which a relatively unspecialized cell derived from the larval lymph gland acquires the specialized features of a mature hemocyte. The lymph gland consists of three to six bilaterally paired lobes that are attached to the cardioblasts during larval stages, and it degenerates during pupal stages. Hemocytes are blood cells associated with a hemocoel (the cavity containing most of the major organs of the arthropod body) which are involved in defense and clotting of hemolymph, but not involved in transport of oxygen. An example of this process is found in Drosophila melanogaster.',\n",
       "       'Progression of the genital imaginal disc over time, from its initial formation through to its metamorphosis to form the adult terminalia, comprising the entire set of internal and external genitalia and analia. Both sexes of Drosophila have a single genital disc formed from the female and male genital primordia, and the anal primordium. The anal primordium develops in both sexes, forming either male or female analia. However, only one of the genital primordia develops in each sex, forming either the male or the female genitalia.',\n",
       "       'The sex-specific patterns of primoridia growth and differentiation in the genital imaginal disc. The anal primordium of the genital disc develops in both sexes, but depending on the genetic sex gives rise to either male or female analia. Depending on the genetic sex, only one of the two genital primordia develop. In females the female genital primordium develops and gives rise to the female genitalia whereas the male primordium is repressed. Conversely, in males the male genital primordium develops and gives rise to the male genitalia whereas the female genital primordium is repressed.',\n",
       "       'A complex having histone acetylase activity on chromatin, as well as ATPase, DNA helicase and structural DNA binding activities. The complex is thought to be involved in double-strand DNA break repair. Subunits of the human complex include HTATIP/TIP60, TRRAP, RUVBL1, BUVBL2, beta-actin and BAF53/ACTL6A. In yeast, the complex has 13 subunits, including the catalytic subunit Esa1 (homologous to human Tip60).',\n",
       "       'The series of molecular signals mediated by the serine/threonine kinase Hippo or one of its orthologs. In Drosophila, Hippo in complex with the scaffold protein Salvador (Sav), phosphorylates and activates Warts (Wts), which in turn phosphorylates and inactivates the Yorkie (Yki) transcriptional activator. The core fly components hippo, sav, wts and mats are conserved in mammals as STK4/3 (MST1/2), SAV1/WW45, LATS1/2 and MOB1.',\n",
       "       'Catalysis of the reaction: 1-(2-amino-2-deoxy-alpha-D-glucopyranoside)-1D-myo-inositol + L-cysteine + ATP = 1-D-myo-inosityl-2-L-cysteinylamido-2-deoxy-alpha-D-glucopyranoside + AMP + diphosphate + 2 H+. 1-(2-amino-2-deoxy-alpha-D-glucopyranoside)-1D-myo-inositol is also known as glucosaminyl-inositol or GlcN-Ins, and 1-D-myo-inosityl-2-L-cysteinylamido-2-deoxy-alpha-D-glucopyranoside as desacetylmycothiol or Cys-GlcN-Ins.',\n",
       "       'Catalysis of the reaction: 1-D-myo-inosityl-2-L-cysteinylamido-2-deoxy-alpha-D-glucopyranoside + acetyl-CoA = mycothiol + coenzyme A + H+. Mycothiol is also known as AcCys-GlcN-Ins and 1-D-myo-inosityl-2-L-cysteinylamido-2-deoxy-alpha-D-glucopyranoside as Cys-GlcN-Ins or desacetylmycothiol.',\n",
       "       'Catalysis of the reaction: 8-oxo-7,8-dihydrodeoxyguanosine-triphosphate + H2O = 8-oxo-7,8-dihydrodeoxyguanosine phosphate + diphosphate. 8-oxo-7,8-dihydrodeoxyguanosine-triphosphate, or 8-oxo-dGTP, is the oxidised form of the free guanine nucleotide and can act as a potent mutagenic substrate for DNA synthesis causing transversion mutations. 8-oxo-dGTPase hydrolyses 8-oxo-dGTP to its monophosphate form to prevent the misincorporation of 8-oxo-dGTP into cellular DNA.',\n",
       "       'Interacting selectively and non-covalently with the AP-1 adaptor complex. The AP-1 adaptor complex is a heterotetrameric AP-type membrane coat adaptor complex that consists of beta1, gamma, mu1 and sigma1 subunits and links clathrin to the membrane surface of a vesicle. In at least humans, the AP-1 complex can be heterogeneric due to the existence of multiple subunit isoforms encoded by different genes (gamma1 and gamma2, mu1A and mu1B, and sigma1A, sigma1B and sigma1C).',\n",
       "       'A cellular protein complex localization that acts on a chromosome passenger complex; as a result, the complex is transported to, or maintained in, a specific location at the spindle midzone. A chromosome passenger complex is a protein complex that contains the BIR-domain-containing protein Survivin, Aurora B kinase, INCENP and Borealin, and coordinates various events based on its location to different structures during the course of mitosis. The spindle midzone is the area in the center of the spindle where the spindle microtubules from opposite poles overlap.',\n",
       "       'Interacting selectively and non-covalently with a mediator complex. The mediator complex is a protein complex that interacts with the carboxy-terminal domain of the largest subunit of RNA polymerase II and plays an active role in transducing the signal from a transcription factor to the transcriptional machinery. The Saccharomyces complex contains several identifiable subcomplexes: a head domain comprising Srb2, -4, and -5, Med6, -8, and -11, and Rox3 proteins; a middle domain comprising Med1, -4, and -7, Nut1 and -2, Cse2, Rgr1, Soh1, and Srb7 proteins; a tail consisting of Gal11p, Med2p, Pgd1p, and Sin4p; and a regulatory subcomplex comprising Ssn2, -3, and -8, and Srb8 proteins. Metazoan mediator complexes have similar modular structures and include homologs of yeast Srb and Med proteins.',\n",
       "       'The aggregation, arrangement and bonding together of a set of components to form a mediator complex. The mediator complex is a protein complex that interacts with the carboxy-terminal domain of the largest subunit of RNA polymerase II and plays an active role in transducing the signal from a transcription factor to the transcriptional machinery. The Saccharomyces complex contains several identifiable subcomplexes: a head domain comprising Srb2, -4, and -5, Med6, -8, and -11, and Rox3 proteins; a middle domain comprising Med1, -4, and -7, Nut1 and -2, Cse2, Rgr1, Soh1, and Srb7 proteins; a tail consisting of Gal11p, Med2p, Pgd1p, and Sin4p; and a regulatory subcomplex comprising Ssn2, -3, and -8, and Srb8 proteins. Metazoan mediator complexes have similar modular structures and include homologs of yeast Srb and Med proteins.',\n",
       "       'Catalysis of the reaction: prostaglandin H2 + NADPH + H+ -> prostaglandin F2alpha + NADP+. This reaction is the reduction of prostaglandin H2 ((5Z,13E)-(15S)-9alpha,11alpha-Epidioxy-15-hydroxyprosta-5,13-dienoate) to prostaglandin F2alpha ((5Z,13E)-(15S)-9alpha,11alpha,15-Trihydroxyprosta-5,13-dienoate).',\n",
       "       'Catalysis of the reaction: abieta-7,13-dien-18-ol + NADPH + H+ + O2 = abieta-7,13-dien-18-al + NADP+ + 2 H2O. This is a two step reaction. The first step is: abieta-7,13-dien-18-ol + NADPH + H+ + O2 = abieta-7,13-dien-18,18-diol + + NADP+ + H2O. The second step is a spontaneous reaction: abieta-7,13-dien-18,18-diol = abieta-7,13-dien-18-al + H2O.',\n",
       "       'Catalysis of the reaction: 9beta-pimara-7,15-diene + 3 O2 + 3 NADPH + 3 H+ = 9beta-pimara-7,15-dien-19-oate + 3 NADP+ + 4 H2O. This is a three-step reaction: (a) 9beta-pimara-7,15-diene + O2 + NADPH + H+ = 9beta-pimara-7,15-dien-19-ol + NADP+ + H2O, (b) 9beta-pimara-7,15-dien-19-ol + O2 + NADPH + H+ = 9neta-pimara-7,15-dien-19-al + NADP+ + 2 H2O, (c) 9beta-pimara-7,15-dien-19-al + O2 + NADPH + H+ = 9beta-pimara-7,15-dien-19-oate + NADP+ + H2O.',\n",
       "       'Any process in which the SREBP-SCAP complex is maintained in the endoplasmic reticulum and prevented from moving elsewhere. The SREBP-SCAP complex is formed by the association of sterol regulatory element binding protein (SREBP) and SREBP-cleavage-activating protein (SCAP). In the absence of sterols, the SREBP-SCAP complex is packaged into COPII vesicles and travels to the Golgi apparatus to be processed. In the presence of sterols, the complex binds ER-resident proteins such as INSIG, which retain the complex in the ER.',\n",
       "       'A RNA methyltransferase complex that catalyzes the post-transcriptional methylation of adenosine to form N6-methyladenosine (m6A). In budding yeast, the MIS complex consists of Mum2p, Ime4p and Slz1p. In vertebrates, the complex consists of METTL3, METTL14 and associated components WTAP, ZC3H13, VIRMA, CBLL1/HAKAI and in some cases of RBM15 (RBM15 or RBM15B).',\n",
       "       'A series of molecular signals mediated by the endoplasmic reticulum stress sensor IRE1 (Inositol-requiring transmembrane kinase/endonuclease). Begins with activation of IRE1 in response to endoplasmic reticulum (ER) stress, and ends with regulation of a downstream cellular process, e.g. transcription. One target of activated IRE1 is the transcription factor HAC1 in yeast, or XBP1 in mammals; IRE1 cleaves an intron of a mRNA coding for HAC1/XBP1 to generate an activated HAC1/XBP1 transcription factor, which controls the up regulation of UPR-related genes. At least in mammals, IRE1 can also signal through additional intracellular pathways including JNK and NF-kappaB.',\n",
       "       'A series of molecular signals mediated by the endoplasmic reticulum membrane stress sensor PERK (PKR-like ER kinase). Begins with activation of PERK in response to endoplasmic reticulum (ER) stress and ends with regulation of a downstream cellular process, e.g. transcription. The main substrate of PERK is the translation initiation factor eIF2alpha. Serine-phosphorylation of eIF2alpha by PERK inactivates eIF2alpha and inhibits general protein translation. In addition, eIF2alpha phosphorylation preferentially increases the translation of selective mRNAs such as ATF4 (activating transcription factor 4), which up regulates a subset of UPR genes required to restore folding capacity.',\n",
       "       'Any process in which a virus stops, prevents, or reduces the frequency, rate or extent of host ubiquitin-like protein ISG15 activity. ISG15 is a ubiquitin-like protein that is conjugated to lysine residues on various target proteins. Viruses escape from the antiviral activity of ISG15 by using different mechanisms; the influenza B virus NS1 protein for instance blocks the covalent linkage of ISG15 to its target proteins by directly interacting with ISG15. The papain-like protease from the coronavirus cleaves ISG15 derivatives.',\n",
       "       \"The process in which a virus effects a change in gene expression in its host organism. Gene expression is the process in which a gene's coding sequence is converted into a mature gene product or products (proteins or RNA). This includes the production of an RNA transcript as well as any processing to produce a mature RNA product or an mRNA (for protein-coding genes) and the translation of that mRNA into protein. Some protein processing events may be included when they are required to form an active form of a product from an inactive precursor form.\",\n",
       "       \"Any process in which a virus stops, prevents, or reduces the frequency, rate or extent of gene expression in the host organism. Gene expression is the process in which a gene's coding sequence is converted into a mature gene product or products (proteins or RNA). This includes the production of an RNA transcript as well as any processing to produce a mature RNA product or an mRNA (for protein-coding genes) and the translation of that mRNA into protein. Some protein processing events may be included when they are required to form an active form of a product from an inactive precursor form.\",\n",
       "       \"Any heritable epigenetic process that modulates the frequency, rate or extent of protein function by self-perpetuating conformational conversions of normal proteins in healthy cells. This is distinct from, though mechanistically analogous to, disease states associated with prion propagation and amyloidogenesis. A single protein, if it carries a glutamine/asparagine-rich ('prion') domain, can sometimes stably exist in at least two distinct physical states, each associated with a different phenotype; propagation of one of these traits is achieved by a self-perpetuating change in the protein from one form to the other, mediated by conformational changes in the glutamine/asparagine-rich domain. Prion domains are both modular and transferable to other proteins, on which they can confer a heritable epigenetic alteration of function; existing bioinformatics data indicate that they are rare in non-eukarya, but common in eukarya.\",\n",
       "       'The cell cycle process in which two small cells are generated, as byproducts destined to degenerate, as a result of the first and second meiotic divisions of a primary oocyte during its development to a mature ovum. One polar body is formed in the first division of meiosis and the other in the second division; at each division, the cytoplasm divides unequally, so that the polar body is of much smaller size than the developing oocyte. At the second division in which a polar body is formed, the polar body and the developing oocyte each contain a haploid set of chromosomes.',\n",
       "       'The chemical reactions and pathways resulting in the formation of chemokines, any member of a family of small chemotactic cytokines; their name is derived from their ability to induce directed chemotaxis in nearby responsive cells. All chemokines possess a number of conserved cysteine residues involved in intramolecular disulfide bond formation. Some chemokines are considered pro-inflammatory and can be induced during an immune response to recruit cells of the immune system to a site of infection, while others are considered homeostatic and are involved in controlling the migration of cells during normal processes of tissue maintenance or development. Chemokines are found in all vertebrates, some viruses and some bacteria.',\n",
       "       'The conversion of DNA-damage induced single-stranded gaps into large molecular weight DNA after replication by using a specialized DNA polymerase or replication complex to insert a defined nucleotide across the lesion. This process does not remove the replication-blocking lesions and causes an increase in the endogenous mutation level. For example, in E. coli, a low fidelity DNA polymerase, pol V, copies lesions that block replication fork progress. This produces mutations specifically targeted to DNA template damage sites, but it can also produce mutations at undamaged sites.',\n",
       "       'A complex for the transport of metabolites into and out of the cell, typically comprised of four domains; two membrane-associated domains and two ATP-binding domains at the intracellular face of the membrane, that form a central pore through the plasma membrane. Each of the four core domains may be encoded as a separate polypeptide or the domains can be fused in any one of a number of ways into multidomain polypeptides. In Bacteria and Archaebacteria, ABC transporters also include substrate binding proteins to bind substrate external to the cytoplasm and deliver it to the transporter.',\n",
       "       'A small, membranous protrusion from a dendrite that forms a postsynaptic compartment - typically receiving input from a single presynapse.  They function as partially isolated biochemical and an electrical compartments. Spine morphology is variable including \\\\\"thin\\\\\", \\\\\"stubby\\\\\", \\\\\"mushroom\\\\\", and \\\\\"branched\\\\\", with a continuum of intermediate morphologies. They typically terminate in a bulb shape, linked to the dendritic shaft by a restriction. Spine remodeling is though to be involved in synaptic plasticity.',\n",
       "       'A multienzyme, heterooligomeric complex involved in dolichyl-linked oligosaccharide synthesis. In yeast the complex is composed of Alg7p, which catalyzes the first step (GlcNAc1-PP-Dol from dolichol-phosphate and UDP-GlcNAc), and Alg13p plus Alg14p, the catalytic and anchoring subunits respectively, which together catalyze the second step (GlcNAc2-PP-dolichol from GlcNAc1-PP-Dol and UDP-GlcNAc) of dolichyl-linked oligosaccharide synthesis.',\n",
       "       'Any process involved in sustaining CRISPR repeat clusters, including capture of new spacer elements, expansion or contraction of clusters, propagation of the leader sequence and repeat clusters within a genome, transfer of repeat clusters and CRISPR-associated (cas) genes to new genomes, transcription of the CRISPR repeat arrays into RNA and processing, and interaction of CRISPR/cas loci with the host genome. CRISPR (clustered regularly interspaced short palindromic repeat) elements are a family of sequence elements containing multiple direct repeats of 24-48 bp with weak dyad symmetry which are separated by regularly sized nonrepetitive spacer sequences.',\n",
       "       'The process whose specific outcome is the progression of the skin over time, from its formation to the mature structure. The skin is the external membranous integument of an animal. In vertebrates the skin generally consists of two layers, an outer nonsensitive and nonvascular epidermis (cuticle or skarfskin) composed of cells which are constantly growing and multiplying in the deeper, and being thrown off in the superficial layers, as well as an inner vascular dermis (cutis, corium or true skin) composed mostly of connective tissue.',\n",
       "       'The process in which the anatomical structures of the skin are generated and organized. The skin is the external membranous integument of an animal. In vertebrates the skin generally consists of two layers, an outer nonsensitive and nonvascular epidermis (cuticle or skarfskin) composed of cells which are constantly growing and multiplying in the deeper, and being thrown off in the superficial layers, as well as an inner, sensitive and vascular dermis (cutis, corium or true skin) composed mostly of connective tissue.',\n",
       "       'A protein complex composed of three identical PCNA monomers, each comprising two similar domains, which are joined in a head-to-tail arrangement to form a homotrimer. Forms a ring-like structure in solution, with a central hole sufficiently large to accommodate the double helix of DNA. Originally characterized as a DNA sliding clamp for replicative DNA polymerases and as an essential component of the replisome, and has also been shown to be involved in other processes including Okazaki fragment processing, DNA repair, translesion DNA synthesis, DNA methylation, chromatin remodeling and cell cycle regulation.',\n",
       "       \"The enzymatic addition of a sequence of adenylyl residues at the 3' end of a non-coding RNA (ncRNA) molecule. In eukaryotes, substrates include nuclear non-coding RNAs such as precursors and a variety of incorrectly processed forms of snRNAs, snoRNAs, rRNAs, and tRNAs, as well as discarded RNA fragments which have been removed from ncRNA primary transcripts. Polyadenylation of precursors is often linked to termination of transcription, but polyadenylation of RNAs targeted for degradation may also occur post-transcriptionally. This polyadenylation is important both for 3'-end processing to produce mature ncRNA species and also for targeting incorrectly processed or discarded RNA molecules for degradation.\",\n",
       "       'The chemical reactions and pathways involving tetracycline, (4S,4aS,5aS,6S,12aS)-4-(dimethylamino)-3,6,10,12,12a-pentahydroxy-6-methyl-1,11-dioxo-1,4,4a,5,5a,6,11,12a-octahydrotetracene-2-carboxamide, a broad-spectrum antibiotic produced by streptomyces bacteria that blocks binding of aminoacyl tRNA to the ribosomes of both Gram-positive and Gram-negative organisms (and those of organelles).',\n",
       "       'The chemical reactions and pathways resulting in the formation of tetracycline, (4S,4aS,5aS,6S,12aS)-4-(dimethylamino)-3,6,10,12,12a-pentahydroxy-6-methyl-1,11-dioxo-1,4,4a,5,5a,6,11,12a-octahydrotetracene-2-carboxamide, a broad-spectrum antibiotic produced by streptomyces bacteria that blocks binding of aminoacyl tRNA to the ribosomes of both Gram-positive and Gram-negative organisms (and those of organelles).',\n",
       "       'Catalysis of the reactions: (1) GTP + F420-0 + L-glutamate = GDP + phosphate + F420-1, and (2) GTP + F420-1 + L-glutamate = GDP + phosphate + gamma-F420-2. This is the GTP-dependent successive addition of two L-glutamates to the L-lactyl phosphodiester of 7,8-didemethyl-8-hydroxy-5-deazariboflavin (F420-0) to form F420-0-glutamyl-glutamate (F420-2), with a gamma-linkage between the two glutamates.',\n",
       "       'Catalysis of the reactions: 5-(methylthio)-2,3-dioxopentyl phosphate + H2O = 1,2-dihydroxy-5-(methylthio)pent-1-en-3-one + phosphate; (1a) 5-(methylthio)-2,3-dioxopentyl phosphate = 2-hydroxy-5-(methylthio)-3-oxopent-1-enyl phosphate; (1b) 2-hydroxy-5-(methylthio)-3-oxopent-1-enyl phosphate + H2O = 1,2-dihydroxy-5-(methylthio)pent-1-en-3-one + phosphate.',\n",
       "       'Any of the various filamentous elements that form the internal framework of host cells, and typically remain after treatment of the cells with mild detergent to remove membrane constituents and soluble components of the host cytoplasm. The term embraces intermediate filaments, microfilaments, microtubules, the microtrabecular lattice, and other structures characterized by a polymeric filamentous nature and long-range order within the host cell. The various elements of the host cytoskeleton not only serve in the maintenance of host cellular shape but also have roles in other host cellular functions, including cellular movement, cell division, endocytosis, and movement of organelles.',\n",
       "       'An axon arising from cerebellar projecting cells in the cochlea, vestibular nuclei, spinal cord, reticular formation, cerebellar nuclei and basilar pontine nuclei. Mossy fibers enter through all three cerebellar peduncles and send collaterals to the deep cerebellar nuclei, then branch in the white matter and terminate in the granule cell layer. Through this branching, a given mossy fiber can innervate several folia. Mossy fibers synapse on granule cells. The synaptic contacts are made at enlargements along the length of the mossy fiber called mossy fiber rosettes. The enlargements of the rosettes give the axons as \\\\\"mossy\\\\\" appearance in Golgi stained preparations.',\n",
       "       'A process carried out by symbiont gene products that enables the interaction between two organisms living together in more or less intimate association. The various forms of symbiosis include parasitism, in which the association is disadvantageous or destructive to one of the organisms; mutualism, in which the association is advantageous, or often necessary to one or both and not harmful to either; and commensalism, in which one member of the association benefits while the other is not affected. However, mutualism, parasitism, and commensalism are often not discrete categories of interactions and should rather be perceived as a continuum of interaction ranging from parasitism to mutualism. In fact, the direction of a symbiotic interaction can change during the lifetime of the symbionts due to developmental changes as well as changes in the biotic/abiotic environment in which the interaction occurs. Microscopic symbionts are often referred to as endosymbionts.',\n",
       "       \"A subcomplex of the nuclear pore complex (NPC) that forms the inner rings of the core scaffold, a lattice-like structure that gives the NPC its shape and strength. In S. cerevisiae, the two inner rings are each composed of Nup192p, Nup188p, Nup170p and Nup157p. In vertebrates, the two inner rings are each composed of Nup205, Nup188 and Nup155. Components are arranged in 8-fold symmetrical 'spokes' around the central transport channel. A single 'spoke', can be isolated and is sometimes referred to as the Nup170 complex.\",\n",
       "       \"A substructure of the nuclear pore complex (NPC) that serves to connect members of the central transport channel (composed of FG-nucleoporins) to the core scaffold (composed of the inner and outer NPC rings). In S. cerevisiae, the linkers are Nic96p and Nup82p. In vertebrates, they are Nup93 and Nup88. Components are arranged in 8-fold symmetrical 'spokes' around the central transport channel. Both linkers can be isolated in association with specific FG-nucleoporins, complexes that are sometimes referred to as the Nic96 complex (Nic96p-Nsp1p-Nup49p-Nup57p) and the Nup82 complex (Nup82p-Nup116p-Nup159p-Gle2p).\",\n",
       "       'The central substructure of the nuclear pore complex (NPC), through which nucleocytoplasmic transport of RNAs, proteins and small molecules occurs. The central transport channel is filled with FG-nucleoporins, which form a selective barrier and provide a series of binding sites for transporter proteins. Characterized S. cerevisiae FG-nucleoporins include Nup159p, Nup145Np, Nup116p, Nup100p, Nsp1p, Nup57p, Nup49p, Nup42p, Nup53p, Nup59p/Asm4p, Nup60p and Nup1. Characterized vertebrate FG-nucleoporins include Nup214, Nup98, Nup62, Nup54, Nup58/45, NLP1, and Nup153.',\n",
       "       'The process by which a virus causes the death of daughter cells which do not contain its genes after host cell division, by a mechanism of post-segregational killing (PSK). The extrachromosomal viral DNA consist of two genes; the product of the second is long lived and toxic, while the product of the first is short lived and antagonizes the lethal action of the toxin. Daughter cells that do not contain the viral extrachromosomal element are killed by the long lived toxin, while daughter cells that do contain the viral extrachromosomal element are protected by the action of the short lived antitoxin it encodes.',\n",
       "       'A heterotrimeric protein complex with iron-sulfur and molybdenum cofactors that functions as a terminal reductase in electron transport pathways that operate during anaerobic nitrate respiration. In E. coli electrons are passed from the FdnGHI complex to the NarGHI complex via menoquinone and menaquinol. Within NarGHI, electrons are passed from the two heme molecules in the NarI subunit down a Fe-S cluster chain in the NarH and NarG subunits to the Molybdenum cofactor, Mo-bisMGD, in the NarG subunit.',\n",
       "       'OBSOLETE. The pathway along which proteins and other substances are moved around and out of the cell. After synthesis on the ribosomes of the endoplasmic reticulum (ER), completed polypeptide chains are moved to the Golgi complex and subsequently sorted to various destinations. Proteins synthesized and sorted in the secretory pathway include not only those that are secreted from the cell but also enzymes and other resident proteins in the lumen of the ER, Golgi, and lysosomes as well as integral proteins in the membranes of these organelles and the plasma membrane.',\n",
       "       'The junction between a nerve fiber of one neuron and another neuron, muscle fiber or glial cell. As the nerve fiber approaches the synapse it enlarges into a specialized structure, the presynaptic nerve ending, which contains mitochondria and synaptic vesicles. At the tip of the nerve ending is the presynaptic membrane; facing it, and separated from it by a minute cleft (the synaptic cleft) is a specialized area of membrane on the receiving cell, known as the postsynaptic membrane. In response to the arrival of nerve impulses, the presynaptic nerve ending secretes molecules of neurotransmitters into the synaptic cleft. These diffuse across the cleft and transmit the signal to the postsynaptic membrane.',\n",
       "       'A proton-transporting two-sector ATPase complex that catalyzes the phosphorylation of ADP to ATP during oxidative phosphorylation. The complex comprises a membrane sector (F0) that carries out proton transport and a cytoplasmic compartment sector (F1) that catalyzes ATP synthesis by a rotational mechanism; the extramembrane sector (containing 3 a and 3 b subunits) is connected via the d-subunit to the membrane sector by several smaller subunits. Within this complex, the g and e subunits and the 9-12 c subunits rotate by consecutive 120 degree angles and perform parts of ATP synthesis. This movement is driven by the hydrogen ion electrochemical potential gradient.',\n",
       "       'A membrane-bound flavoenzyme complex consisting of four subunits, A, B, C, and D. A and B comprise the membrane-extrinsic catalytic domain and C (InterPro:IPR003510; InterPro:IPR004224) and D (InterPro:IPR003418) link the catalytic centers to the electron-transport chain. This family consists of the 13 kDa hydrophobic subunit D. This component may be required to anchor the catalytic components of the fumarate reductase complex to the cytoplasmic membrane. Fumarate reductase couples the reduction of fumarate to succinate to the oxidation of quinol to quinone, in a reaction opposite to that catalyzed by the related complex II of the respiratory chain (succinate dehydrogenase-(ubiquinone)).',\n",
       "       'A membrane-bound flavoenzyme complex consisting of four subunits, A, B, C, and D. A and B comprise the membrane-extrinsic catalytic domain and C (InterPro:IPR003510; InterPro:IPR00224) and D (InterPro:IPR003418) link the catalytic centers to the electron-transport chain. In some species, the complex has only three subunits, and in these cases, there is only one membrane anchor instead of two. This family consists of the 13 kDa hydrophobic subunit D. This component may be required to anchor the catalytic components of the fumarate reductase complex to the cytoplasmic membrane. Fumarate reductase couples the reduction of fumarate to succinate to the oxidation of quinol to quinone, in a reaction opposite to that catalyzed by the related complex II of the respiratory chain (succinate dehydrogenase-(ubiquinone)). Examples of this component are found in bacterial species.',\n",
       "       'Catalysis of the reaction: tRNA-(2-methylthio-N-6-isopentenyl adenosine) = tRNA-(2-methylthio-N-6-(cis-hydroxy)isopentenyl adenosine) + O2. 2-methylthio-N-6-isopentenyl adenosine is also known as ms2i6A; 2-methylthio-N-6-(cis-hydroxy)isopentenyl adenosine is also known as ms2io6A and 2-methylthio-cis-ribozeatin.',\n",
       "       \"Catalysis of the reactions: a 9-cis-epoxycarotenoid + O2 = 2-cis,4-trans-xanthoxin + a 12'-apo-carotenal; 9-cis-violaxanthin + O2 = 2-cis,4-trans-xanthoxin + (3S,5R,6S)-5,6-epoxy-3-hydroxy-5,6-dihydro-12'-apo-beta-caroten-12'-al; and 9'-cis-neoxanthin + O2 = 2-cis,4-trans-xanthoxin + (3S,5R,6R)-5,6-dihydroxy-6,7-didehydro-5,6-dihydro-12'-apo-beta-caroten-12'-al.\",\n",
       "       \"Any heritable epigenetic process that stops, prevents, or reduces the frequency, rate or extent of protein function by self-perpetuating conformational conversions of normal proteins in healthy cells. This is distinct from, though mechanistically analogous to, disease states associated with prion propagation and amyloidogenesis. A single protein, if it carries a glutamine/asparagine-rich ('prion') domain, can sometimes stably exist in at least two distinct physical states, each associated with a different phenotype; propagation of one of these traits is achieved by a self-perpetuating change in the protein from one form to the other, mediated by conformational changes in the glutamine/asparagine-rich domain. Prion domains are both modular and transferable to other proteins, on which they can confer a heritable epigenetic alteration of function; existing bioinformatics data indicate that they are rare in non-eukarya, but common in eukarya.\",\n",
       "       \"Any heritable epigenetic process that increases the frequency, rate or extent of protein function by self-perpetuating conformational conversions of normal proteins in healthy cells. This is distinct from, though mechanistically analogous to, disease states associated with prion propagation and amyloidogenesis. A single protein, if it carries a glutamine/asparagine-rich ('prion') domain, can sometimes stably exist in at least two distinct physical states, each associated with a different phenotype; propagation of one of these traits is achieved by a self-perpetuating change in the protein from one form to the other, mediated by conformational changes in the glutamine/asparagine-rich domain. Prion domains are both modular and transferable to other proteins, on which they can confer a heritable epigenetic alteration of function; existing bioinformatics data indicate that they are rare in non-eukarya, but common in eukarya.\",\n",
       "       'Catalysis of the reaction: (1R,9R,10S,11R,12R,19R)-12-ethyl-10,11-dihydroxy-5-methoxy-10-(methoxycarbonyl)-8-methyl-8,16-diazapentacyclononadeca-2(7),3,5,13-tetraen-16-ium + acetyl-CoA = (1R,9R,10S,11R,12R,19R)-11-(acetyloxy)-12-ethyl-10-hydroxy-5-methoxy-10-(methoxycarbonyl)-8-methyl-8,16-diazapentacyclononadeca-2(7),3,5,13-tetraen-16-ium + CoA.',\n",
       "       'Catalysis of the reaction: D-galactosyl-1,4-N-acetyl-beta-D-glucosaminyl-1,3-beta-D-galactosyl-1,4-beta-D-glucosylceramide + UDP-N-acetyl-D-glucosamine = N-acetyl-D-glucosaminyl-1,6-beta-D-galactosyl-1,4-N-acetyl-beta-D-glucosaminyl-1,3-beta-D-galactosyl-1,4-beta-D-glucosyceramide + UDP.',\n",
       "       'Catalysis of the reaction: N-acetyl-beta-D-glucosaminyl-1,6-beta-D-(N-acetyl-B-glucosaminyl-1,2)-beta-D-mannosyl-R + UDP-N-acetyl-D-glucosamine = N-acetyl-beta-D-glucosaminyl-1,6-beta-D-(N-acetyl-D-glucosaminyl-1,2-beta)-(N-acetyl-D-glucosaminyl-1,4-beta)-D-mannosyl-R + UDP.',\n",
       "       \"Catalysis of the reaction: alpha-D-glucosyl-1,6-alpha-D-glucosyl-1,6-alpha-D-glucosyl-1,3-1-O-alkyl-2-O-acylglycerol + 3'-phosphoadenosine 5'-phosphosulfate = 6-sulfo-alpha-D-glucosyl-1,6-alpha-D-glucosyl-1,6-alpha-D-glucosyl-1,3-1-O-alkyl-2-O-acylglycerol + adenosine 3',5'-bisphosphate.\",\n",
       "       'Catalysis of the reaction: xanthan = oligosaccharide with 4-deoxy-alpha-L-threo-hex-4-enuronosyl end + pyruvylate mannose. This reaction is the eliminative cleavage of the terminal beta-D-mannosyl-beta-D-1,4-glucuronosyl linkage of the side-chain of the polysaccharide xanthan, leaving a 4-deoxy-alpha-L-threo-hex-4-enuronosyl group at the terminus of the side-chain.',\n",
       "       'A conserved protein complex that catalyzes methylation of histone H3. In Saccharomyces the complex contains Shg1p, Sdc1p, Swd1p, Swd2p, Swd3p, Spp1p, Bre2p, and the trithorax-related Set1p; in mammals it contains the catalytic subunit (SETD1A or SETD1B), WDR5, WDR82, RBBP5, ASH2L/ASH2, CXXC1/CFP1, HCFC1 and DPY30.',\n",
       "       'An extracellular matrix part that consists of lignin in the form of a three-dimensional polymeric network. Lignins are complex racemic aromatic heteropolymers derived from a variety of phenylpropane monomers coupled together by an assortment of carbon-carbon and ether linkages. Lignin is crucial for structural integrity of the cell wall and stiffness and strength of the stem. In addition, lignin waterproofs the cell wall, enabling transport of water and solutes through the vascular system, and plays a role in protecting plants against pathogens.',\n",
       "       'The process whose specific outcome is the progression of the enteric nervous system over time, from its formation to the mature structure. The enteric nervous system is composed of two ganglionated neural plexuses in the gut wall which form one of the three major divisions of the autonomic nervous system. The enteric nervous system innervates the gastrointestinal tract, the pancreas, and the gall bladder. It contains sensory neurons, interneurons, and motor neurons. Thus the circuitry can autonomously sense the tension and the chemical environment in the gut and regulate blood vessel tone, motility, secretions, and fluid transport. The system is itself governed by the central nervous system and receives both parasympathetic and sympathetic innervation.',\n",
       "       'The process whose specific outcome is the progression of the sympathetic nervous system over time, from its formation to the mature structure. The sympathetic nervous system is one of the two divisions of the vertebrate autonomic nervous system (the other being the parasympathetic nervous system). The sympathetic preganglionic neurons have their cell bodies in the thoracic and lumbar regions of the spinal cord and connect to the paravertebral chain of sympathetic ganglia. Innervate heart and blood vessels, sweat glands, viscera and the adrenal medulla. Most sympathetic neurons, but not all, use noradrenaline as a post-ganglionic neurotransmitter.',\n",
       "       'The process whose specific outcome is the progression of the parasympathetic nervous system over time, from its formation to the mature structure. The parasympathetic nervous system is one of the two divisions of the vertebrate autonomic nervous system. Parasympathetic nerves emerge cranially as pre ganglionic fibers from oculomotor, facial, glossopharyngeal and vagus and from the sacral region of the spinal cord. Most neurons are cholinergic and responses are mediated by muscarinic receptors. The parasympathetic system innervates, for example: salivary glands, thoracic and abdominal viscera, bladder and genitalia.',\n",
       "       \"Any process that results in a change in state or activity of an organism (in terms of movement, secretion, enzyme production, gene expression, etc.) as a result of detection of, or exposure to, a day length that exceeds a particular duration known as the 'critical day length'. The critical day length varies between species. Although the term long-day is used, most species actually respond to the duration of the night, so that the response will occur when a period of darkness falls short of the number of hours defined by 24 hours minus the critical day length.\",\n",
       "       \"Any process that results in a change in state or activity of an organism (in terms of movement, secretion, enzyme production, gene expression, etc.) as a result of detection of, or exposure to, a day length that falls short of a particular duration known as the 'critical day length'. The critical day length varies between species. Although the term short-day is used, most species actually respond to the duration of the night, so that the response will occur when a period of darkness exceeds the number of hours defined by 24 hours minus the critical day length.\",\n",
       "       'The process pertaining to the initial formation of an animal organ from unspecified parts. The process begins with the specific processes that contribute to the appearance of the discrete structure, such as inductive events, and ends when the structural rudiment of the organ is recognizable, such as a condensation of mesenchymal cells into the organ rudiment. Organs are a natural part or structure in an animal or a plant, capable of performing some special action (termed its function), which is essential to the life or well-being of the whole. The heart and lungs are organs of animals, and the petal and leaf are organs of plants. In animals the organs are generally made up of several tissues, one of which usually predominates, and determines the principal function of the organ.',\n",
       "       'The process in which a relatively unspecialized cell acquires specialized features of a parenchymal cell. Parenchymal cells are the most abundant and versatile cells in plants. They have very few distinguishing characteristics and botanists classify them as any cell type that cannot be assigned to any other structural or functional class. They can redifferentiate and dedifferentiate and are involved in storage, basic metabolism and other processes. The cells are polyhedral, typically with thin, non-lignified cellulose cell walls and nucleate living protoplasm. They vary in size, form, and wall structure.',\n",
       "       'The process in which a relatively unspecialized cell acquires specialized features of a collenchyma cell. This is a plant cell in which the primary cell walls are unevenly thickened, with most thickening occurring at the cell corners. Cells are living and able to grow, they are elongated, and lignin and secondary walls absent. Collenchyma cells make up collenchyma tissue which acts as a supporting tissue in growing shoots, leaves and petioles. This tissue is often arranged in cortical ribs, as seen prominently in celery and rhubarb petioles.',\n",
       "       'The process whose specific outcome is the progression of the mechanosensory lateral line system over time, from its formation to the mature structure. The mechanosensory lateral line system consists of small sensory patches (neuromasts) located superficially on the skin or just under the skin in fluid-filled canals on the head and body of all fishes and most amphibians. The neuromasts are innervated by several lateral line nerves, which project primarily to the hindbrain. The mechanosensory lateral line system is stimulated by local water displacements and vibrations, and detects propulsion of the fish through the water, as well as facilitating shoaling, prey capture, and predator and obstacle avoidance.',\n",
       "       'The process in which a relatively unspecialized cell acquires specialized features of a neuromast hair cell. Hair cells are the sensory receptors of the neuromast and are located in a portion of the neuromast called the sensory strip. Each hair cell of the neuromast is morphologically polarized as a result of the relative position of the single kinocilium and the clusters of stereocilia on its apical surface. There are approximately seven hair cells within each neuromast, with each hair cell innervated by afferent and efferent neurons.',\n",
       "       'The process whose specific outcome is the progression of the anterior lateral line system over time, from its formation to the mature structure. The anterior lateral line system develops from cranial ectodermal placodes, situated between the eye and the ear, that give rise to both the neuromasts and the anterior lateral line sensory nerves that innervate the neuromasts. The anterior lateral line system consists of small sensory patches (neuromasts) located superficially on the skin or just under the skin in fluid-filled canals on the head of all fishes and most amphibians and are innervated by several lateral line nerves, which project to the hindbrain. The anterior lateral line system is stimulated by local water displacements and vibrations, and detects propulsion of the fish through the water, as well as facilitating shoaling, prey capture, and predator and obstacle avoidance.',\n",
       "       'The process in which a relatively unspecialized cell acquires specialized features of an anterior lateral line neuromast hair cell. Neuromast hair cells are the sensory receptors of the neuromast and are located in a portion of the neuromast called the sensory strip. Each hair cell of the neuromast is morphologically polarized as a result of the relative position of the single kinocilium and the clusters of stereocilia on its apical surface. There are approximately seven hair cells within each neuromast, with each hair cell innervated by afferent and efferent neurons.',\n",
       "       'The process whose specific outcome is the progression of the posterior lateral line system over time, from its formation to the mature structure. The posterior lateral line system develops from cranial ectodermal placodes, situated behind the ear, that give rise to both the neuromasts and the posterior lateral line sensory nerves that innervate the neuromasts. The posterior lateral line system consists of small sensory patches (neuromasts) located superficially on the skin or just under the skin in fluid-filled canals on the head of all fishes and most amphibians. The neuromasts are innervated by several lateral line nerves, which project primarily to the hindbrain. The posterior mechanosensory lateral line system is stimulated by local water displacements and vibrations, and detects propulsion of the fish through the water, as well as facilitating shoaling, prey capture, and predator and obstacle avoidance.',\n",
       "       'The process in which a relatively unspecialized cell acquires specialized features of a posterior lateral line neuromast hair cell. (N.B. This may be development of neuromast hair cell type or a set of cell of neuromast hair cell type. This will involve the change of a cell or set of cells from one cell identity to another). Hair cells are the sensory receptors of the neuromast and are located in a portion of the neuromast called the sensory strip. Each hair cell of the neuromast is morphologically polarized as a result of the relative position of the single kinocilium and the clusters of stereocilia on its apical surface. There are approximately seven hair cells within each neuromast, with each hair cell innervated by afferent and efferent neurons.',\n",
       "       'The process in which a relatively unspecialized cell acquires specialized features of a posterior lateral line neuromast mantle cell. (N.B. This may be development of neuromast mantle cell type or a set of cells of neuromast mantle cell type. This will involve the change of a cell or set of cells from one cell identity to another). Mantle cells are non-sensory cells that surround the sensory strip, separating the neuromast from the epidermis. Mantle cells secrete the cupula in which the ciliary bundles of all of the hair cells are embedded.',\n",
       "       'Catalysis of the reaction: N(4)-{N-acetyl-beta-D-glucosaminyl-(1->2)-alpha-D-mannosyl-(1->3)--beta-D-mannosyl-(1->4)-N-acetyl-beta-D-glucosaminyl-(1->4)-N-acetyl-beta-D-glucosaminyl}-L-asparagine + UDP-alpha-D-xylose = N(4)-{N-acetyl-beta-D-glucosaminyl-(1->2)-alpha-D-mannosyl-(1->3)---beta-D-mannosyl-(1->4)-N-acetyl-beta-D-glucosaminyl-(1->4)-N-acetyl-beta-D-glucosaminyl}-L-asparagine + H(+) + UDP.',\n",
       "       'Interacting selectively and non-covalently with the DBD, DNA binding domain, of a protein. The DNA binding domain of the vitamin D receptor, one of a family of receptors with the DBD, is split into three regions, the P, D and T boxes. Residues that are critical for target sequence selectivity form the P-box. The D-box contains residues that are important for homodimerization of class I nuclear receptors. The T-box is essential for both DNA-binding and transactivation of the VDR; this region may also be important for dimerization with RXR for class II nuclear receptors.',\n",
       "       'Interacting selectively and non-covalently with a CARD (N-terminal caspase recruitment) domain, a protein-protein interaction domain that belongs to the death domain-fold superfamily. These protein molecule families are similar in structure with each consisting of six or seven anti-parallel alpha-helices that form highly specific homophilic interactions between signaling partners. CARD exists in the N-terminal prodomains of several caspases and in apoptosis-regulatory proteins and mediates the assembly of CARD-containing proteins that participate in activation or suppression of CARD carrying members of the caspase family.',\n",
       "       'The chemical reactions and pathways resulting in the formation of fractalkine, a chemokine involved in the control of the key regulatory mechanisms of cell trafficking at sites of inflammation. It exists as a secreted protein and in a membrane-bound form, and exhibits a novel C-X-X-X-C cysteine signature motif. The counterpart of human fractalkine is murine neurotactin; fractalkine is also referred to as CX3C membrane-anchored chemokine or ABCD-3 and has been renamed CX3CL1.',\n",
       "       'The chemical reactions and pathways involving chemokines, any member of a family of small chemotactic cytokines; their name is derived from their ability to induce directed chemotaxis in nearby responsive cells. All chemokines possess a number of conserved cysteine residues involved in intramolecular disulfide bond formation. Some chemokines are considered pro-inflammatory and can be induced during an immune response to recruit cells of the immune system to a site of infection, while others are considered homeostatic and are involved in controlling the migration of cells during normal processes of tissue maintenance or development. Chemokines are found in all vertebrates, some viruses and some bacteria.',\n",
       "       'The chemical reactions and pathways involving fractalkine, a chemokine involved in the control of the key regulatory mechanisms of cell trafficking at sites of inflammation. It exists as a secreted protein and in a membrane-bound form, and exhibits a novel C-X-X-X-C cysteine signature motif. The counterpart of human fractalkine is murine neurotactin; fractalkine is also referred to as CX3C membrane-anchored chemokine or ABCD-3 and has been renamed CX3CL1.',\n",
       "       'The series of events required for an organism to receive an orientational stimulus, convert it to a molecular signal, and recognize and characterize the signal. Equilibrioception refers to a combination of processes by which an organism can perceive its orientation with respect to gravity. In animals, stimuli come from labyrinth system of the inner ears, monitoring the direction of motion; visual stimuli, with information on orientation and motion; pressure receptors, which tell the organism which body surfaces are in contact with the ground; and proprioceptive cues, which report which parts of the body are in motion.',\n",
       "       'The series of events required for an organism to receive a touch stimulus, convert it to a molecular signal, and recognize and characterize the signal. This is a neurological process. The perception of touch in animals is mediated by mechanoreceptors in the skin and mucous membranes and is the sense by which contact with objects gives evidence as to certain of their qualities. Different types of touch can be perceived (for example, light, coarse, pressure and tickling) and the stimulus may be external or internal (e.g. the feeling of a full stomach).',\n",
       "       \"The series of events required for an organism to receive a chemical stimulus relating to a magnetic field, convert it to a molecular signal, and recognize and characterize the signal. It is believed that organisms such as birds and salamanders use a 'chemical compass': chemical reactions that involve transitions between different spin states can be influenced by magnetic fields and by detecting the different product ratios, these organisms can perceive the direction of the magnetic field. The mechanism by which this is detected is not certain but it may also involve light stimuli.\",\n",
       "       'The chemical reactions resulting in the formation of deoxyhypusine from spermidine by the enzyme-deoxyhypusine synthase. The reaction occurs in four steps: 1. spermidine + NAD+ = dehydrospermidine + NADH + H+; 2. dehydrospermidine +-lysine = 1,3-diaminopropane +-lysine-N6=CH(CH2)3NH2; 3.-lysine-N6=CH(CH2)3NH2 =-lysine-N6=CH(CH2)3NH2; 4.-lysine-N6=CH(CH2)3NH2 + NADH + H+ =-deoxyhypusine + NAD+.',\n",
       "       'Catalysis of the reaction: 12S-5Z,8Z,10E,14Z-12-hydro(pero)xy-eicosa-5,8,10,14-tetraenoic acid = (5Z,9E,14Z)-(8,11R,12S)-11,12-epoxy-8-hydroxyicosa-5,9,14-trienoate. 12S-5Z,8Z,10E,14Z-12-hydro(pero)xy-eicosa-5,8,10,14-tetraenoic acid is also known as 12S-HpETE, and (5Z,9E,14Z)-(8,11R,12S)-11,12-epoxy-8-hydroxyicosa-5,9,14-trienoate as hepoxilin A3.',\n",
       "       'The formation of the non-fluorescent protein chromophore cross-link from the alpha-carboxyl carbon of residue n, a glutamic acid, to the alpha-amino nitrogen of residue n+2, a glycine, and a dehydration to form a double bond to the alpha-amino nitrogen of residue n+1. This cross-linking is coupled with a dehydrogenation of residue n+1 to form a double bond between the alpha and beta carbons. This modification is found in the GFP-like non-fluorescent red chromoprotein from the sea anemone Radianthus macrodactylus.',\n",
       "       'The formation of the fluorescent protein FP611 chromophore cross-link from the alpha-carboxyl carbon of residue n, a methionine, to the alpha-amino nitrogen of residue n+2, a glycine, and a dehydration to form a double bond to the alpha-amino nitrogen of residue n+1. This cross-linking is coupled with a dehydrogenation of residue n+1 to form a double bond between the alpha and beta carbons. This modification is found in the GFP-like fluorescent chromoprotein from the sea anemone Entacmaea quadricolor.',\n",
       "       'The formation of a 2-tetrahydropyridinyl-5-imidazolinone protein chromophore cross-link from the alpha-carboxyl carbon of residue n, a lysine, to the alpha-amino nitrogen of residue n+2, a glycine, and a dehydration to form a double bond to the alpha-amino nitrogen of residue n+1. This cross-linking is coupled with a dehydrogenation of residue n+1 to form a double bond between the alpha and beta carbons. In addition, the residue N lysine undergoes cyclization. The alpha-amino nitrogen is replaced by the epsilon-amino nitrogen, the peptide chain is broken, residue N-1 is released as an amide, and a double bond is formed between the alpha-carbon and the nitrogen so that a tetrahydropyridine ring results. This modification is found in the GFP-like fluorescent chromoprotein FP538 from the sea anemone Zoanthus species.',\n",
       "       'Interacting selectively and non-covalently with the Bcl-2 homology (BH) domain of a protein. Bcl-2-related proteins share homology in one to four conserved regions designated the Bcl-2 homology (BH) domains BH1, BH2, BH3 and BH4. These domains contribute at multiple levels to the function of these proteins in cell death and survival. Anti-apoptotic members of the Bcl-2 family have four BH domains (BH1-BH4). Pro-apoptotic members have fewer BH domains.',\n",
       "       'Any process that results in a change in state or activity of a cell or an organism (in terms of movement, secretion, enzyme production, gene expression, etc.) as a result of a cortisone stimulus. Cortisone is a natural glucocorticoid steroid hormone that is metabolically convertible to cortisol. Cortisone is synthesized from cholesterol in the cortex of the adrenal gland under the stimulation of adrenocorticotropin hormone (ACTH). The main physiological effect of cortisone is on carbohydrate metabolism; it can stimulate increased glucose release from the liver, increased liver glycogen synthesis, and decreased utilization of glucose by the tissues.',\n",
       "       'Interacting selectively and non-covalently with G-quadruplex DNA structures, in which groups of four guanines adopt a flat, cyclic Hoogsteen hydrogen-bonding arrangement known as a guanine tetrad. The stacking of guanine tetrads results in G-quadruplex DNA structures. G-quadruplex DNA can form under physiological conditions from some G-rich sequences, such as those found in telomeres, immunoglobulin switch regions, gene promoters, fragile X repeats, and the dimerization domain in the human immunodeficiency virus (HIV) genome.',\n",
       "       'The chemical reactions and pathways resulting in the formation of lysine via the intermediates alpha-aminoadipic acid and saccharopine. This pathway is used by yeast and fungi to synthesize the essential amino acid L-lysine, and pathway intermediates are often incorporated into secondary metabolic processes. The pathway proceeds as follows: alpha-ketoglutarate is converted to homocitrate, which is metabolized to 3-carboxyhex-2-enedioate and then homoisocitrate. This is then decarboxylated to form alpha-ketoadipate, which is then converted to alpha-aminoadipate. This is then reduced to form alpha-aminoadipate 6-semialdehyde, which is metabolized to saccharopine and finally L-lysine.',\n",
       "       'The chemical reactions and pathways resulting in the formation of lysine via the intermediates alpha-aminoadipic acid and N2-acetyl-alpha-aminoadipate. This pathway of prokaryotic lysine biosynthesis via alpha-aminoadipate was discovered in the hyper-thermophilic Gram-negative eubacterium Thermus thermophilus. The pathway proceeds as follows: alpha-ketoglutarate is converted to homocitrate, which is metabolized to 3-carboxyhex-2-enedioate and then homoisocitrate. This is then decarboxylated to form alpha-ketoadipate, which is then converted to alpha-aminoadipate. This undergoes acetylation, to form N2-acetyl-alpha-aminoadipate, and is then phosphorylated to give N2-acetyl-alpha-aminoadipyl-delta-phosphate. This is converted to N2-acetyl-alpha-aminoadipate semialdehyde, which is then converted to N2-acetyl-L-lysine. A final deacetylation reaction produces L-lysine.',\n",
       "       'Catalysis of the formation of a double bond between C8 and C9 of the long chain base of a sphingolipid. For example, sphinganine (d18:0) = 8-sphingenine (d18:1delta8); phytosphinganine (t18:0) = 8-phytosphingenine (t18:1delta8); and 4-sphingenine (18:1delta4) = 4,8-sphingadienine (d18:2delta4,8).',\n",
       "       'The pathway resulting in the formation of ergothioneine from histidine. Histidine undergoes three methylations by a histidine-alpha-N-methyltransferase (EC:2.1.1.44) to form N-alpha,N-alpha,N-alpha-trimethyl-L-histidine (also known as hercynine or histidine betaine). N-alpha,N-alpha,N-alpha-trimethyl-L-histidine is modified by the ligation of gamma-glutamyl-cysteine and oxygen; this intermediate undergoes further modification by the removal of glutamate to produce hercynylcysteine sulfoxide. Finally, a beta-lyase acts on this compound, removing pyruvate, ammonia and oxygen to produce ergothioneine.',\n",
       "       'Catalysis of the reaction: gellan = n beta-D-4-deoxy-delta4,5-GlcAp-(1->4)-beta-D-Glcp-(1->4)-alpha-L-Rhap-(1->3)-beta-D-Glcp. This reaction is the eliminative cleavage of beta-D-glucopyranosyl-(1->4)-beta-D-glucopyranosyluronate bonds of gellan backbone, releasing tetrasaccharides containing a 4-deoxy-4,5-unsaturated D-glucopyranosyluronic acid at the non-reducing end; in the product, the abbreviations are D-glucose (Glc), D-glucuronic acid (GlcA), and L-rhamnose (Rha).',\n",
       "       'Catalysis of the cleavage of glycosidic bonds through a beta-elimination reaction on alginate, a linear polysaccharide consisting of guluronate (G) and mannuronate (M) as the monomer constituents. An oligoalginate is a linear polymer of two, three or four units of (1->4)-alpha-L-guluronic acid and beta-D-mannuronic acid, releasing monosaccharides with 4-deoxy-alpha-L-erythro-hex-4-enopyranuronosyl groups at their ends.',\n",
       "       'The breakdown of a bicyclic nitroimidazole into simpler components in a process that requires coenzyme F420 and produces reactive nitrogen species. Hydride, from reduced coenzyme F420, is added to the bicyclic nitroimidazole, resulting in unstable substances that break down to form three stable products. The elimination of nitrous acid produces the corresponding des-nitroimidazole; hydrolysis produces a related compound; and further reduction creates an aromatic hydroxylamine metabolite that degrades further. These reactions release hyponitrous acid and nitrous acid, which is unstable and disproportionates into nitric oxide (NO) and other reactive nitrogen intermediates.',\n",
       "       'Catalysis of the reaction: alpha-D-man-(1->2)-alpha-D-Man-(1->2)-alpha-D-Man-(1->3)-(alpha-D-Man-(1->2)-alpha-D-Man-(1->3)-alpha-D-Man-(1->6))-beta-D-Man-(1->4)-beta-D-GlcNAc-(1->4)-D-GlcNAc-diphosphodolichol + dolichyl D-mannosyl phosphate = H(+) + alpha-D-Man-(1->2)-alpha-D-Man-(1->2)-alpha-D-Man-(1->3)-(alpha-D-Man-(1->2)-alpha-D-Man-(1->3)-(alpha-D-Man-(1->6))-alpha-D-Man-(1->6))-beta-D-Man-(1->4)-beta-D-GlcNAc-(1->4)-D-GlcNAc-diphosphodolichol + dolichyl phosphate.',\n",
       "       'Catalysis of the reaction: alpha-D-man-(1->2)-alpha-D-Man-(1->2)-alpha-D-Man-(1->3)-(alpha-D-Man-(1->2)-alpha-D-Man-(1->3)-(alpha-D-Man-(1->6))-alpha-D-Man-(1->6))-beta-D-Man-(1->4)-beta-D-GlcNAc-(1->4)-D-GlcNAc-diphosphodolichol + dolichyl D-mannosyl phosphate = H(+) + alpha-D-Man-(1->2)-alpha-D-Man-(1->2)-alpha-D-Man-(1->3)--beta-D-Man-(1->4)-beta-D-GlcNAc-(1->4)-D-GlcNAc-diphosphodolichol + dolichyl phosphate.',\n",
       "       'Catalysis of the reaction: an alpha-D-man-(1->2)-alpha-D-Man-(1->2)-alpha-D-Man-(1->3)-(alpha-D-Man-(1->6))-beta-D-Man-(1->4)-beta-D-GlcNAc-(1->4)-D-GlcNAc-diphosphodolichol + dolichyl D-mannosyl phosphate = H(+) + alpha-D-Man-(1->2)-alpha-D-Man-(1->2)-alpha-D-Man-(1->3)-(alpha-D-Man-(1->3)-alpha-D-Man-(1->6))-beta-D-Man-(1->4)-beta-D-GlcNAc-(1->4)-D-GlcNAc-diphosphodolichol + dolichyl phosphate.',\n",
       "       'Catalysis of the reaction: alpha-D-man-(1->2)-alpha-D-Man-(1->2)-alpha-D-Man-(1->3)-(alpha-D-Man-(1->3)-alpha-D-Man-(1->6))-beta-D-Man-(1->4)-beta-D-GlcNAc-(1->4)-D-GlcNAc-diphosphodolichol + dolichyl D-mannosyl phosphate = H(+) + alpha-D-Man-(1->2)-alpha-D-Man-(1->2)-alpha-D-Man-(1->3)-(alpha-D-Man-(1->2)-alpha-D-Man-(1->3)-alpha-D-Man-(1->6))-beta-D-Man-(1->4)-beta-D-GlcNAc-(1->4)-D-GlcNAc-diphosphodolichol + dolichyl phosphate.',\n",
       "       'The dormancy process that results in entry into diapause. Diapause is a neurohormonally mediated, dynamic state of low metabolic activity. Associated characteristics of this form of dormancy include reduced morphogenesis, increased resistance to environmental extremes, and altered or reduced behavioral activity. Full expression develops in a species-specific manner, usually in response to a number of environmental stimuli that precede unfavorable conditions. Once diapause has begun, metabolic activity is suppressed even if conditions favorable for development prevail. Once initiated, only certain stimuli are capable of releasing the organism from this state, and this characteristic is essential in distinguishing diapause from hibernation.',\n",
       "       'Interacting selectively and non-covalently with a C3HC4-type zinc finger domain of a protein. The C3HC4-type zinc finger is a variant of RING finger, is a cysteine-rich domain of 40 to 60 residues that coordinates two zinc ions, and has the consensus sequence: C-X2-C-X(9-39)-C-X(1-3)-H-X(2-3)-C-X2-C-X(4-48)-C-X2-C, where X is any amino acid. Many proteins containing a C3HC4-type RING finger play a key role in the ubiquitination pathway.',\n",
       "       'The process whose specific outcome is the progression of the pharyngeal system over time, from its formation to the mature structure. The pharyngeal system is a transient embryonic complex that is specific to vertebrates. It comprises the pharyngeal arches, bulges of tissues of mesoderm and neural crest derivation through which pass nerves and pharyngeal arch arteries. The arches are separated internally by pharyngeal pouches, evaginations of foregut endoderm, and externally by pharyngeal clefts, invaginations of surface ectoderm. The development of the system ends when the stucture it contributes to are forming: the thymus, thyroid, parathyroids, maxilla, mandible, aortic arch, cardiac outflow tract, external and middle ear.',\n",
       "       'The layer of cuticle most closely apposed to the hypodermal cells. The morphology of the basal layer varies with life stage. In adult C. elegans animals, the basal layers is comprised of three sublayers: two fibrous layers whose fibers run in clockwise and counter-clockwise directions meeting one another at a 60 degree angle, and an amorphous basal layer that lies underneath the fibrous layers and directly contacts the hypodermis. In C. elegans dauer and L1 larval stage animals, the basal layer is characterized by a striated pattern that appears to derive from interwoven laminae. An example of this component is found in Caenorhabditis elegans.',\n",
       "       'The increase in size or mass of a lung. In all air-breathing vertebrates the lungs are developed from the ventral wall of the oesophagus as a pouch which divides into two sacs. In amphibians and many reptiles the lungs retain very nearly this primitive sac-like character, but in the higher forms the connection with the esophagus becomes elongated into the windpipe and the inner walls of the sacs become more and more divided, until, in the mammals, the air spaces become minutely divided into tubes ending in small air cells, in the walls of which the blood circulates in a fine network of capillaries. In mammals the lungs are more or less divided into lobes, and each lung occupies a separate cavity in the thorax.',\n",
       "       'Any process that modulates the rate, frequency, or extent of homologous chromosome segregation, the cell cycle process in which replicated homologous chromosomes are organized and then physically separated and apportioned to two sets during the first division of the meiotic cell cycle. Each replicated chromosome, composed of two sister chromatids, aligns at the cell equator, paired with its homologous partner; this pairing off, referred to as synapsis, permits genetic recombination. One homolog (both sister chromatids) of each morphologic type goes into each of the resulting chromosome sets.',\n",
       "       'Any process that modulates the rate, frequency, or extent of nematode larval development, the process whose specific outcome is the progression of the nematode larva over time, from its formation to the mature structure. Nematode larval development begins with the newly hatched first-stage larva (L1) and ends with the end of the last larval stage (for example the fourth larval stage (L4) in C. elegans). Each stage of nematode larval development is characterized by proliferation of specific cell lineages and an increase in body size without alteration of the basic body plan. Nematode larval stages are separated by molts in which each stage-specific exoskeleton, or cuticle, is shed and replaced anew.',\n",
       "       'Any process that increases the rate, frequency, or extent of nematode larval development, the process whose specific outcome is the progression of the nematode larva over time, from its formation to the mature structure. Nematode larval development begins with the newly hatched first-stage larva (L1) and ends with the end of the last larval stage (for example the fourth larval stage (L4) in C. elegans). Each stage of nematode larval development is characterized by proliferation of specific cell lineages and an increase in body size without alteration of the basic body plan. Nematode larval stages are separated by molts in which each stage-specific exoskeleton, or cuticle, is shed and replaced anew.',\n",
       "       'Any process that decreases the rate, frequency, or extent of nematode larval development, the process whose specific outcome is the progression of the nematode larva over time, from its formation to the mature structure. Nematode larval development begins with the newly hatched first-stage larva (L1) and ends with the end of the last larval stage (for example the fourth larval stage (L4) in C. elegans). Each stage of nematode larval development is characterized by proliferation of specific cell lineages and an increase in body size without alteration of the basic body plan. Nematode larval stages are separated by molts in which each stage-specific exoskeleton, or cuticle, is shed and replaced anew.',\n",
       "       'The process whose specific outcome is the progression of the paramesonephric duct over time, from its formation to the mature structure. Mullerian ducts (or paramesonephric ducts) are paired ducts of the embryo that run down the lateral sides of the urogenital ridge and terminate at the mullerian eminence in the primitive urogenital sinus. In the female, they will develop to form the fallopian tubes, uterus, cervix, and the upper portion of the vagina; in the male, they are lost. These ducts are made of tissue of mesodermal origin.',\n",
       "       'The process whose specific outcome is the progression of the mesonephric glomerular epithelium over time, from its formation to the mature structure. The mesonephric glomerular epithelium is an epithelial tissue that covers the outer surfaces of the glomerulus in the mesonephros. The mesonephric glomerular epithelium consists of both parietal and visceral epithelium. Mesonephric glomerular parietal epithelial cells are specialized epithelial cells that form tight junctions as a barrier to protein transport. A mesonephric glomerular visceral epithelial cell is a specialized epithelial cell that contains \\\\\"feet\\\\\" that interdigitate with the \\\\\"feet\\\\\" of other glomerular epithelial cells in the mesonephros.',\n",
       "       'The series of molecular signals initiated by binding of a Wnt protein to a frizzled family receptor on the surface of the target cell, followed by propagation of the signal via beta-catenin, and ending with a change in transcription of target genes that contribute to the progression of the metanephric kidney over time. In this pathway, the activated receptor signals via downstream effectors that result in the inhibition of beta-catenin phosphorylation, thereby preventing degradation of beta-catenin. Stabilized beta-catenin can then accumulate and travel to the nucleus to trigger changes in transcription of target genes.',\n",
       "       'The series of molecular signals initiated by binding of a Wnt protein to a frizzled family receptor on the surface of the target cell, followed by propagation of the signal via beta-catenin, and ending with a change in transcription of target genes that contributes to the branching of the ureteric bud. In this pathway, the activated receptor signals via downstream effectors that result in the inhibition of beta-catenin phosphorylation, thereby preventing degradation of beta-catenin. Stabilized beta-catenin can then accumulate and travel to the nucleus to trigger changes in transcription of target genes.',\n",
       "       'The series of molecular signals initiated by binding of a Wnt protein to a frizzled family receptor on the surface of the target cell, followed by propagation of the signal via beta-catenin, and ending with a change in transcription of target genes that contributes to the progression of the mesonephros over time. In this pathway, the activated receptor signals via downstream effectors that result in the inhibition of beta-catenin phosphorylation, thereby preventing degradation of beta-catenin. Stabilized beta-catenin can then accumulate and travel to the nucleus to trigger changes in transcription of target genes.',\n",
       "       'The series of molecular signals initiated by binding of a Wnt protein to a frizzled family receptor on the surface of the target cell, followed by propagation of the signal via beta-catenin, and ending with a change in transcription of target genes that contribute to the progression of the mesonephric nephron over time. In this pathway, the activated receptor signals via downstream effectors that result in the inhibition of beta-catenin phosphorylation, thereby preventing degradation of beta-catenin. Stabilized beta-catenin can then accumulate and travel to the nucleus to trigger changes in transcription of target genes.',\n",
       "       'The series of molecular signals initiated by binding of a Wnt protein to a frizzled family receptor on the surface of the target cell, followed by propagation of the signal via beta-catenin, and ending with a change in transcription of target genes that contributes to the progression of the heart over time. In this pathway, the activated receptor signals via downstream effectors that result in the inhibition of beta-catenin phosphorylation, thereby preventing degradation of beta-catenin. Stabilized beta-catenin can then accumulate and travel to the nucleus to trigger changes in transcription of target genes.',\n",
       "       'The series of molecular signals initiated by binding of a Wnt protein to a frizzled family receptor on the surface of the target cell, followed by propagation of the signal via beta-catenin, and ending with a change in transcription of target genes. In this pathway, the activated receptor signals via downstream effectors that result in the inhibition of beta-catenin phosphorylation, thereby preventing degradation of beta-catenin and contributing to cardiac muscle cell fate commitment. Stabilized beta-catenin can then accumulate and travel to the nucleus to trigger changes in transcription of target genes.',\n",
       "       'The process whose specific outcome is the progression of the inferior colliculus over time, from its formation to the mature structure. The inferior colliculus (IC) (Latin, lower hill) is the principal midbrain nucleus of the auditory pathway and receives input from several more peripheral brainstem nuclei in the auditory pathway, as well as inputs from the auditory cortex. The inferior colliculus has three subdivisions: the central nucleus (CIC), a dorsal cortex (DCIC) by which it is surrounded, and an external cortex (ICX) which is located laterally.',\n",
       "       'Catalysis of the transfer of ubiquitin to a substrate protein via the reaction X-ubiquitin + S -> X + S-ubiquitin, where X is either an E2 or E3 enzyme, the X-ubiquitin linkage is a thioester bond, and the S-ubiquitin linkage is an amide bond: an isopeptide bond between the C-terminal glycine of ubiquitin and the epsilon-amino group of lysine residues in the substrate or, in the linear extension of ubiquitin chains, a peptide bond the between the C-terminal glycine and N-terminal methionine of ubiquitin residues.',\n",
       "       'A protein complex essential for autophagy during nutrient deprivation, a catabolic process that sequesters undesired cellular material into autophagosomes for delivery to lysosomes for degradation. Contributes to nutrition homeostasis and damage control in eukaryotic cells. Functions at a late step of autophagosome formation for efficient completion of sequestration, probably through facilitating recruitment of ATG8-phosphatidylethanolamine (PE) to the preautophagosomal structure (PAS) and/or its protection from deconjugation by ATG4. Composed of ATG2 and ATG18 in Saccharomyces cerevisiae.',\n",
       "       'A nuclear telomere cap complex that is formed by the association of telomeric ssDNA- and dsDNA-binding proteins with telomeric DNA, and is involved in telomere protection and recruitment of telomerase. The complex is known to contain TERF1, TERF2, POT1, RAP1, TINF2 and ACD in mammalian cells, and Pot1, Tpz1, Rap1, Rif1, Rif2 and Taz1 in Saccharomyces. Taz1 and Rap1 (or their mammalian equivalents) form a dsDNA-binding subcomplex, Pot1 and Tpz1 form an ssDNA-binding subcomplex, and the two subcomplexes are bridged by Poz1, which acts as an effector molecule along with Ccq1.',\n",
       "       'A protein complex that contains a histone deacetylase and is part of the chromatin remodeling machinery. In Saccharomyces cerevisiae this complex contains the Rpd3p, Sin3p, Ume1p, Pho23p, Sap30p, Sds3p, Cti6p, Rxt2p, Rxt3p, Dep1p, Ume6p, Ash1p, Dot6p, Snt1, Sif2p, Set3p, Hos2p, Tos4p and Tod6p proteins.',\n",
       "       'A programmed necrotic cell death process which begins when a cell receives a signal (e.g. a ligand binding to a death receptor or to a Toll-like receptor), and proceeds through a series of biochemical events (signaling pathways), characterized by activation of receptor-interacting serine/threonine-protein kinase 1 and/or 3 (RIPK1/3, also called RIP1/3) and by critical dependence on mixed lineage kinase domain-like (MLKL), and which typically lead to common morphological features of necrotic cell death. The process ends when the cell has died. The process is divided into a signaling phase, and an execution phase, which is triggered by the former.',\n",
       "       'A trimeric protein complex required for the formation of a mature RNA-induced silencing complex (RISC). In humans the complex is composed of the endonuclease Dicer (DICER1), TRBP (TARBP2) and the Argonaute protein Ago2 (EIF2C2/AGO2). Within the complex, Dicer and TRBP are required to process precursor miRNAs (pre-miRNAs) to mature miRNAs and then load them onto Ago2. Ago2 bound to the mature miRNA constitutes the minimal RISC and may subsequently dissociate from Dicer and TRBP. This complex has endoribonuclease activity.',\n",
       "       'The chemical reactions and pathways involving base J (beta-D-glucosyl-hydroxymethyluracil), a hypermodified thymidine residue found in the genome of kinetoplastid parasites. This modified base is localized primarily to repetitive DNA, namely the telomeres, and is implicated in the regulation of antigenic variation. The base is synthesized in a two-step pathway. Initially, a thymidine residue in DNA is hydroxylated by a thymidine hydroxylase (TH) to form the intermediate hydroxymethyluracil, which is then glucosylated to form base J.',\n",
       "       'A protein complex that can methylate lysine-4 of histone H3 and plays an essential role in retinoic-acid-induced granulopoiesis. MLL5 is the catalytic methyltransferase subunit, and the complex also contains serine/threonine kinase 38 (STK38), protein phosphatase 1 catalytic subunits, the host cell factor-1 N-terminal subunit, beta-actin, and O-GlcNAc transferase; the human genes encoding the subunits are MLL5, STK38, PPP1CA, PPP1CB, PPP1CC, HCFC1, ACTB and OGT, respectively.',\n",
       "       \"A subcomplex of the nuclear pore complex (NPC) that spans the nuclear membrane and anchors the NPC to the nuclear envelope. In S. cerevisiae, the transmembrane ring is composed of Pom152p, Pom34p, and Ndc1p. In vertebrates, it is composed of Gp210, Ndc1, and Pom121. Components are arranged in 8-fold symmetrical 'spokes' around the central transport channel. A single 'spoke', can be isolated and is sometime referred to as the Ndc1 complex.\",\n",
       "       'A class III phosphatidylinositol 3-kinase complex that contains a phosphatidylinositol-3-phosphate 5-kinase subunit (Fab1p in yeast; PIKfyve in mammals), a kinase activator, and a phosphatase, and may also contain additional proteins; it is involved in regulating the synthesis and turnover of phosphatidylinositol 3,5-bisphosphate. In mammals the complex is composed of PIKFYVE, FIG4 and VAC14. In yeast it is composed of Atg18p, Fig4p, Fab1p, Vac14p and Vac7p.',\n",
       "       \"The process of introducing a phosphate group on to an amino acid residue in the C-terminal domain of RNA polymerase II. Typically, this occurs during the transcription cycle and results in production of an RNA polymerase II enzyme where the carboxy-terminal domain (CTD) of the largest subunit is extensively phosphorylated, often referred to as hyperphosphorylated or the II(0) form. Specific types of phosphorylation within the CTD are usually associated with specific regions of genes, though there are exceptions. The phosphorylation state regulates the association of specific complexes such as the capping enzyme or 3'-RNA processing machinery to the elongating RNA polymerase complex.\",\n",
       "       'Any of a number of evolutionarily conserved histone deacetylase complexes (HDACs) containing a core consisting of a paired amphipathic helix motif protein (e.g. Sin3p in S. cerevisiae, Pst1 in S. pombe or Sin3A in mammals) at least one class I histone deacetylase (e.g. Rpd3p in S. cerevisiae, Clr6 in S. pombe, or HDAC1 and HDAC2 in mammals), and at least one WD40 repeat protein (e.g. Ume1p in S. cerevisiae, Prw1 in S. pombe, or RbAp46 and RbAp48 in mammals). These complexes also contain a variable number of other proteins that direct histone binding, DNA binding, or add other functionality to the complex.',\n",
       "       'A protein complex that interacts with the carboxy-terminal domain of the largest subunit of RNA polymerase II and plays an active role in transducing the signal from a transcription factor to the transcriptional machinery. The core mediator complex has a stimulatory effect on basal transcription, and contains most of the same subdomains as the larger form of mediator complex -- a head domain comprising proteins known in Saccharomyces as Srb2, -4, and -5, Med6, -8, and -11, and Rox3 proteins; a middle domain comprising Med1, -4, and -7, Nut1 and -2, Cse2, Rgr1, Soh1, and Srb7 proteins; and a tail consisting of Gal11p, Med2p, Pgd1p, and Sin4p -- but lacks the regulatory subcomplex comprising Ssn2, -3, and -8, and Srb8 proteins. Metazoan core mediator complexes have similar modular structures and include homologs of yeast Srb and Med proteins.',\n",
       "       \"A protein complex that binds to heme and to pri-miRNAs, and is required for the formation of a pre-microRNA (pre-miRNA), the initial step of microRNA (miRNA) biogenesis. The complex is composed of the double-stranded-RNA-specific RNase Drosha (also called RNASEN) and the RNA-binding protein DGCR8 (heme-free or heme-bound forms). Within the complex, DGCR8 function as a molecular anchor necessary for the recognition of pri-miRNA at dsRNA-ssRNA junction and directs RNASEN/Drosha to cleave the 3' and 5' strands of a stem-loop to release hairpin-shaped pre-miRNAs.\",\n",
       "       'Any process that results in a change in state or activity of a cell (in terms of movement, secretion, enzyme production, gene expression, etc.) as a result of a cortisone stimulus. Cortisone is a natural glucocorticoid steroid hormone that is metabolically convertible to cortisol. Cortisone is synthesized from cholesterol in the cortex of the adrenal gland under the stimulation of adrenocorticotropin hormone (ACTH). The main physiological effect of cortisone is on carbohydrate metabolism; it can stimulate increased glucose release from the liver, increased liver glycogen synthesis, and decreased utilization of glucose by the tissues.',\n",
       "       'Any process that results in a change in state or activity of a cell (in terms of movement, secretion, enzyme production, gene expression, etc.) as a result of a gamma radiation stimulus. Gamma radiation is a form of electromagnetic radiation (EMR) or light emission of a specific frequency produced from sub-atomic particle interaction, such as electron-positron annihilation and radioactive decay. Gamma rays are generally characterized as EMR having the highest frequency and energy, and also the shortest wavelength, within the electromagnetic radiation spectrum.',\n",
       "       'Any process that results in a change in state or activity of a cell (in terms of movement, secretion, enzyme production, gene expression, etc.) as a result of a red or far red light stimulus. Red light is electromagnetic radiation of wavelength of 580-700nm. Far red light is electromagnetic radiation of wavelength 700-800nm. An example of this response is seen at the beginning of many plant species developmental stages. These include germination, and the point when cotyledon expansion is triggered. In certain species these processes take place in response to absorption of red light by the pigment molecule phytochrome, but the signal can be reversed by exposure to far red light. During the initial phase the phytochrome molecule is only present in the red light absorbing form, but on absorption of red light it changes to a far red light absorbing form, triggering progress through development. An immediate short period of exposure to far red light entirely returns the pigment to its initial state and prevents triggering of the developmental process. A thirty minute break between red and subsequent far red light exposure renders the red light effect irreversible, and development then occurs regardless of whether far red light exposure subsequently occurs.',\n",
       "       'Any process that results in a change in state or activity of a cell (in terms of movement, secretion, enzyme production, gene expression, etc.) as a result of far red light stimulus. Far red light is electromagnetic radiation of wavelength 700-800nm. An example of this response is seen at the beginning of many plant species developmental stages. These include germination, and the point when cotyledon expansion is triggered. In certain species these processes take place in response to absorption of red light by the pigment molecule phytochrome, but the signal can be reversed by exposure to far red light. During the initial phase the phytochrome molecule is only present in the red light absorbing form, but on absorption of red light it changes to a far red light absorbing form, triggering progress through development. An immediate short period of exposure to far red light entirely returns the pigment to its initial state and prevents triggering of the developmental process. A thirty minute break between red and subsequent far red light exposure renders the red light effect irreversible, and development then occurs regardless of whether far red light exposure subsequently occurs.',\n",
       "       'Any process that results in a change in state or activity of a cell (in terms of movement, secretion, enzyme production, gene expression, etc.) as a result of a red light stimulus. Red light is electromagnetic radiation of wavelength of 580-700nm. An example of this response is seen at the beginning of many plant species developmental stages. These include germination, and the point when cotyledon expansion is triggered. In certain species these processes take place in response to absorption of red light by the pigment molecule phytochrome, but the signal can be reversed by exposure to far red light. During the initial phase the phytochrome molecule is only present in the red light absorbing form, but on absorption of red light it changes to a far red light absorbing form, triggering progress through development. An immediate short period of exposure to far red light entirely returns the pigment to its initial state and prevents triggering of the developmental process. A thirty minute break between red and subsequent far red light exposure renders the red light effect irreversible, and development then occurs regardless of whether far red light exposure subsequently occurs.',\n",
       "       'A SWI/SNF-type complex that is found in neural stem or progenitor cells, and in human contains actin and proteins encoded by the ARID1A/BAF250A or ARID1B/BAF250B, SMARCD1/BAF60A, SMARCD3/BAF60C, SMARCA2/BRM/BAF190B, SMARCA4/BRG1/BAF190A, SMARCB1/BAF47, SMARCC1/BAF155, SMARCE1/BAF57, SMARCC2/BAF170, PHF10/BAF45A, ACTL6A/BAF53A genes. The npBAF complex is essential for the self-renewal/proliferative capacity of the multipotent neural stem cells.',\n",
       "       'A SWI/SNF-type complex that is found in post-mitotic neurons, and in human contains actin and proteins encoded by the ARID1A/BAF250A or ARID1B/BAF250B, SMARCD1/BAF60A, SMARCD3/BAF60C, SMARCA2/BRM/BAF190B, SMARCA4/BRG1/BAF190A, SMARCB1/BAF47, SMARCC1/BAF155, SMARCE1/BAF57, SMARCC2/BAF170, DPF1/BAF45B, DPF3/BAF45C, ACTL6B/BAF53B genes. The nBAF complex along with CREST plays a role regulating the activity of genes essential for dendrite growth.',\n",
       "       \"The process of introducing a phosphate group onto a serine residue at position 5 within the heptapeptide repeat (YSPTSPS) of the C-terminal domain of RNA polymerase II. Typically, phosphorylation of serine 5 (Ser5) occurs near the 5' ends of genes. It is generally still observed in the middle of genes, overlapping with phosphorylation of serine 2, but is generally not present at the 3' ends of genes. In vivo, Ser5 phosphorylation occurs primarily through the action of TFIIH (KIN28 in S. cerevisiae, CKD7 in metazoans).\",\n",
       "       'Interacting selectively and non-covalently with a 14-3-3 protein. A 14-3-3 protein is any of a large family of approximately 30kDa acidic proteins which exist primarily as homo- and heterodimers within all eukaryotic cells, and have been implicated in the modulation of distinct biological processes by binding to specific phosphorylated sites on diverse target proteins, thereby forcing conformational changes or influencing interactions between their targets and other molecules. Each 14-3-3 protein sequence can be roughly divided into three sections: a divergent amino terminus, the conserved core region and a divergent carboxy-terminus. The conserved middle core region of the 14-3-3s encodes an amphipathic groove that forms the main functional domain, a cradle for interacting with client proteins.',\n",
       "       'The dormancy process that results in exit from diapause. Diapause is a neurohormonally mediated, dynamic state of low metabolic activity. Associated characteristics of this form of dormancy include reduced morphogenesis, increased resistance to environmental extremes, and altered or reduced behavioral activity. Full expression develops in a species-specific manner, usually in response to a number of environmental stimuli that precede unfavorable conditions. Once diapause has begun, metabolic activity is suppressed even if conditions favorable for development prevail. Once initiated, only certain stimuli are capable of releasing the organism from this state, and this characteristic is essential in distinguishing diapause from hibernation.',\n",
       "       'The dormancy process that results an organism remaining in diapause. Diapause is a neurohormonally mediated, dynamic state of low metabolic activity. Associated characteristics of this form of dormancy include reduced morphogenesis, increased resistance to environmental extremes, and altered or reduced behavioral activity. Full expression develops in a species-specific manner, usually in response to a number of environmental stimuli that precede unfavorable conditions. Once diapause has begun, metabolic activity is suppressed even if conditions favorable for development prevail. Once initiated, only certain stimuli are capable of releasing the organism from this state, and this characteristic is essential in distinguishing diapause from hibernation.',\n",
       "       'The process whose specific outcome is the progression of the glomerular epithelium over time, from its formation to the mature structure. The glomerular epithelium is an epithelial tissue that covers the outer surfaces of the glomerulus. The glomerular epithelium consists of both parietal and visceral epithelium. Metanephric glomerular parietal epithelial cells are specialized epithelial cells that form tight junctions as a barrier to protein transport. A metanephric glomerular visceral epithelial cell is a specialized epithelial cell that contains \\\\\"feet\\\\\" that interdigitate with the \\\\\"feet\\\\\" of other glomerular epithelial cells in the metanephros.',\n",
       "       'The process whose specific outcome is the progression of the renal capsule over time, from its formation to the mature structure. The renal capsule is the tough fibrous layer surrounding the kidney, covered in a thick layer of perinephric adipose tissue. It provides some protection from trauma and damage. During development, it comprises a single layer of flattened cells that lie just above the cortical stroma and the condensed mesenchyme of the nephrogenic zone. It is in this region that the early stages of nephron induction and formation of new generations ureteric bud branches occur, as the kidney expands.',\n",
       "       'The process in which the anatomical structures of the renal capsule are generated and organized. The renal capsule is the tough fibrous layer surrounding the kidney, covered in a thick layer of perinephric adipose tissue. It provides some protection from trauma and damage. During development, it comprises a single layer of flattened cells that lie just above the cortical stroma and the condensed mesenchyme of the nephrogenic zone. It is in this region that the early stages of nephron induction and formation of new generations ureteric bud branches occur, as the kidney expands.',\n",
       "       'The developmental process pertaining to the initial formation of a renal capsule from unspecified parts. The renal capsule is the tough fibrous layer surrounding the kidney, covered in a thick layer of perinephric adipose tissue. It provides some protection from trauma and damage. During development, it comprises a single layer of flattened cells that lie just above the cortical stroma and the condensed mesenchyme of the nephrogenic zone. It is in this region that the early stages of nephron induction and formation of new generations ureteric bud branches occur, as the kidney expands.',\n",
       "       'The process whose specific outcome is the progression of the metanephric glomerular epithelium over time, from its formation to the mature structure. The metanephric glomerular epithelium is an epithelial tissue that covers the outer surfaces of the glomerulus in the metanephros. The metanephric glomerular epithelium consists of both parietal and visceral epithelium. Metanephric glomerular parietal epithelial cells are specialized epithelial cells that form tight junctions as a barrier to protein transport. A metanephric glomerular visceral epithelial cell is a specialized epithelial cell that contains \\\\\"feet\\\\\" that interdigitate with the \\\\\"feet\\\\\" of other glomerular epithelial cells in the metanephros.',\n",
       "       'A class of nuclear body in the eukaryotic host cell, first seen after silver staining by Ramon y Cajal in 1903, enriched in small nuclear ribonucleoproteins, and certain general RNA polymerase II transcription factors; ultrastructurally, they appear as a tangle of coiled, electron-dense threads roughly 0.5 micrometers in diameter; involved in aspects of snRNP biogenesis; the protein coilin serves as a marker for Cajal bodies. Some argue that Cajal bodies are the sites for preassembly of transcriptosomes, unitary particles involved in transcription and processing of RNA. The host is the larger of the organisms involved in a symbiotic interaction.',\n",
       "       'A protein complex that consists of three components, NLRP3 (NALP3), PYCARD and caspase-1. It is activated upon exposure to whole pathogens, as well as a number of structurally diverse pathogen- and danger-associated molecular patterns (PAMPs and DAMPs) and environmental irritants. Whole pathogens demonstrated to activate the NLRP3 inflammasome complex include the fungi Candida albicans and Saccharomyces cerevisiae, bacteria that produce pore-forming toxins, including Listeria monocytogenes and Staphylococcus aureus, and viruses such as Sendai virus, adenovirus, and influenza virus.',\n",
       "       'A ribonucleoprotein complex that contains an RNA of the box H/ACA type and the four core proteins dyskerin, NOP10, NHP2, and GAR1 (human protein nomenclature). RNA pseudouridylation (isomerization of uridine to pseudouridine) is the major, and most likely the ancestral, function of H/ACA RNPs. Pseudouridylation targets include both large and small ribosomal RNAs (rRNAs), and small nuclear RNA (U2 snRNA). In addition to these catalytic H/ACA RNPs, a less abundant but more diverse class of structural H/ACA RNPs exists, which does not have pseudouridylation activity. These include the vertebrate telomerase RNP complex.',\n",
       "       'The assembly by the symbiont of a threadlike, tubular structure, which may contain multiple nuclei and may or may not be divided internally by septa or cross-walls, for the purpose of penetration into its host organism. In the case of an appressorium existing, this term is defined in further details as the process in which the symbiont penetration peg expands to form a hypha which traverses the epidermal cell and emerges into the intercellular space of the mesophyll tissue. The host is defined as the larger of the organisms involved in a symbiotic interaction.',\n",
       "       'Catalysis of the reaction: a thalianol = a thalian-diol. This reaction is the addition of a hydroxyl group to thalianol ((13R,14R,17E)-podioda-8,17,21-trien-3beta-ol) to create a thalian-diol ((13R,14R,17E)-podioda-8,17,21-trien-3beta,X-diol), where the hydroxyl group may be attached at one of several different available carbons in ring B or C of thalianol, indicated by the X.',\n",
       "       'A series of specific posttranslational modifications to the CAAX box region of CAAX box proteins. CAAX box proteins are eukaryotic proteins that contain a CAAX motif where the C is a cysteine, the two A residues are aliphatic amino acids and the X can be one of several amino acids. The CAAX-box proteins undergo three sequential, enzymatic, post-translational modifications essential to their targeting: First, the proteins are prenylated by one of two prenyltransferases called farnesyltransferase and geranylgeranyltransferase-I. Prenylation results in the covalent attachment of either farnesyl or geranylgeranyl isoprenoid groups to the cysteine in the CAAX box motif. Prenylation is followed by proteolytic removal of the last three amino acids of the protein (AAX). Finally, the newly exposed carboxylate group of the isoprenylcysteine is methylated by an ER-associated prenyl-dependent carboxylmethyltransferase.',\n",
       "       'Any process that modulates the rate, frequency or extent of double fertilization forming a zygote and endosperm. Double fertilization forming a zygote and endosperm is a type of fertilization where one of the two sperm nuclei from the pollen tube fuses with the egg nucleus to form a 2n zygote, and the other fuses with the two polar nuclei to form the 3n primary endosperm nucleus and then develops into the endosperm. The ploidy level of the 2n zygote and 3n primary endosperm nucleus is determined by the ploidy level of the parents involved. An example of this component is found in Arabidopsis thaliana.',\n",
       "       'Any process that results in a change in state or activity of a cell or organism (in terms of movement, secretion, enzyme production, gene expression, etc.) as the result of a phenylpropanoid stimulus. The process begins with detection of the stimulus and ends with a change in state or activity or the cell or organism. A phenylpropanoid is any of secondary metabolites with structures based on a phenylpropane skeleton. The class includes phenylpropanoid esters, flavonoids, anthocyanins, coumarins and many small phenolic molecules. Phenylpropanoids are also precursors of lignin.',\n",
       "       'Any process that involves recognition of an effector, and by which an organism activates, maintains or increases the frequency, rate or extent of the immune response of the host organism; the immune response is any immune system process that functions in the calibrated response of an organism to a potential internal or invasive threat. The host is defined as the larger of the organisms involved in a symbiotic interaction. Effectors are proteins secreted into the host cell by pathogenic microbes, presumably to alter host immune response signaling. The best characterized effectors are bacterial effectors delivered into the host cell by type III secretion system (TTSS). Effector-triggered immunity (ETI) involves the direct or indirect recognition of an effector protein by the host (for example through plant resistance or R proteins) and subsequent activation of host immune response.',\n",
       "       'An adrenergic receptor signaling pathway that contributes to an increase in frequency or rate of heart contraction. Binding of adrenalin or noradrenalin to a beta-adrenergic receptor on the surface of the signal-receiving cell results in the activation of an intracellular Gs protein. Gs activates adenylate cyclase to increase intracellular cyclic-AMP (cAMP) levels. cAMP binds directly to F-channels to allow an inward flow of sodium (known as funny current, or If current). The funny current is responsible for membrane depolarization and an increase in heart rate.',\n",
       "       'An adrenergic receptor signaling pathway that contributes to a reduction in cardiac muscle contraction. Beta-adrenergic receptor-induced cardiac relaxation is achieved by a GPCR-activated adenylate cyclase generating cAMP; cAMP then activates the cAMP-dependent protein kinase A (PKA), which phosphorylates the sarcoplasmic reticulum (SR) membrane protein PLB. In its non-phosphorylated state, PLB acts as an inhibitor of the ATPase Ca(2+) pump of the cardiac SR (SERCA2a); inhibition of the pump is relieved upon phosphorylation. The pump removes Ca(2+) from the cytoplasm, thereby preventing cytosolic Ca(2+)-dependent activation of contractile proteins, leading to enhanced muscle relaxation.',\n",
       "       'An adrenergic receptor signaling pathway that contributes to an increase in frequency or rate of cardiac muscle contraction through phosphorylation and enhancement of the ryanodine receptor, a calcium-activated calcium-release channel found in the membrane of the sarcoplasmic reticulum. An adrenergic receptor-activated adenylate cyclase generates cAMP. cAMP then activates the cAMP-dependent protein kinase A (PKA), which phosphorylates the ryanodine receptor (RyR). PKA-phosphorylation of RyR enhances channel activity by sensitizing the channel to cytosolic calcium. Cytosolic calcium stimulates contractile proteins to promote muscle contraction.',\n",
       "       'A G protein-coupled acetylcholine receptor signaling pathway that contributes to a decrease in frequency or rate of heart contraction through activation of the IKACh potassium channel. Binding of acetylcholine to a G protein-coupled acetylcholine receptor (muscarinic receptor) on the surface of the signal-receiving cell results in liberation of the G-beta/gamma complex from the alpha subunit. The G-beta/gamma complex binds directly to the inward-rectifying potassium channel IKACh. Once the ion channel is activated, potassium ions (K+) flow out of the cell and cause it to hyperpolarize. In its hyperpolarized state, action potentials cannot be fired as quickly as possible, which slows the heart rate.',\n",
       "       'A G protein-coupled acetylcholine receptor signaling pathway that contributes to an decrease in frequency or rate of heart contraction through inhibition of adenylate cyclase (AC) activity. Binding of acetylcholine to a G protein-coupled (muscarinic) receptor on the surface of the signal-receiving cell results in the activation of an intracellular Gi/o protein. Gi/o inhibits adenylate cyclase to decrease cyclic-AMP (cAMP) levels. Since cAMP binds directly to F-channels to allow an inward flow of sodium (funny current, If current), a reduction in cAMP reduces the funny current to bring about membrane hyperpolarization and a decrease in heart rate.',\n",
       "       'Catalyzes the multi-step reaction: L-Tryptophan + 2 Oxygen + 2 NADPH + 2 H+ = Indole-3-acetaldehyde oxime + 3 H2O + 2 NADP+ + CO2. The individual reactions are: (1a) L-tryptophan + O2 + NADPH + H+ = N-hydroxy-L-tryptophan + NADP+ + H2O,(1b) N-hydroxy-L-tryptophan + O2 + NADPH + H+ = N,N-dihydroxy-L-tryptophan + NADP+ + H2O, and (1c) N,N-dihydroxy-L-tryptophan = (E)-indol-3-ylacetaldoxime + CO2 + H2O.',\n",
       "       'Catalysis of the reaction: (EE)-geranyllinalool + NADPH + O2 = 4,8,12-trimethyl-1,3,7,11-tridecatetraene + NADP+ + 2 H2O. It is unknown whether this reaction proceeds by the direct release of the 4-carbon compound but-1-en-3-one, or whether the substrate is first degraded to C18-farnesylacetone and then cleaved to produce 4,8,12-trimethyl-1,3,7,11-tridecatetraene (TMTT) and acetone.',\n",
       "       'Catalysis of the reaction: (E)-nerolidol + NADPH + O2 = (3E)-4,8-dimethylnona-1,3,7-triene + NADP+ + 2 H2O. It is unknown whether this reaction proceeds by the direct release of the 4-carbon compound but-1-en-3-one, or whether the substrate is first degraded to C11-geranylacetone and then cleaved to produce (3E)-4,8-dimethylnona-1,3,7-triene (DMNT) and acetone.',\n",
       "       'Interacting selectively and non-covalently with a DH (Dbl homology) domain of a protein. The DH domain contains three structurally conserved regions separated by more variable regions. It is composed of 11 alpha helices that are folded into a flattened, elongated alpha-helix bundle in which two of the three conserved regions, conserved region 1 (CR1) and conserved region 3 (CR3), are exposed near the centre of one surface. CR1 and CR3, together with a part of alpha-6 and the DH/PH (pleckstrin homology) junction site, constitute the Rho GTPase interacting pocket.',\n",
       "       'The multiplication or reproduction of lens epithelial cells, resulting in the expansion of a cell population. Lens epithelial cells make up the lens epithelium, which is located in the anterior portion of the lens between the lens capsule and the lens fibers and is a simple cuboidal epithelium. The epithelial cells of the lens regulate most of the homeostatic functions of the lens such as osmolarity and liquid volume. The lens epithelial cells also serve as the progenitors for new lens fibers. The lens epithelium constantly lays down fibers in the embryo, fetus, infant, and adult, and continues to lay down fibers for lifelong growth.',\n",
       "       'The chemical reactions and pathways involving ADP-L-glycero-beta-D-manno-heptose, an ADP-L-glycero-D-manno-heptose having beta-configuration at the anomeric centre of the heptose. ADP-L-glycero-beta-D-manno-heptose (also called ADP-L-beta-D-heptose or ADP-L-glycero-D-manno-heptose) is a nucleotide-sugar precursor of the inner core lipopolysaccharide (LPS) from D-glycero-beta-D-manno-heptose 7-phosphate.',\n",
       "       'The chemical reactions and pathways resulting in the formation of ADP-L-glycero-beta-D-manno-heptose, an ADP-L-glycero-D-manno-heptose having beta-configuration at the anomeric centre of the heptose. ADP-L-glycero-beta-D-manno-heptose (also called ADP-L-beta-D-heptose or ADP-L-glycero-D-manno-heptose) is a nucleotide-sugar precursor of the inner core lipopolysaccharide (LPS) from D-glycero-beta-D-manno-heptose 7-phosphate.',\n",
       "       'A stage of the apoptotic process that starts with the controlled breakdown of the cell through the action of effector caspases or other effector molecules (e.g. cathepsins, calpains etc.). Key steps of the execution phase are rounding-up of the cell, retraction of pseudopodes, reduction of cellular volume (pyknosis), chromatin condensation, nuclear fragmentation (karyorrhexis), plasma membrane blebbing and fragmentation of the cell into apoptotic bodies. When the execution phase is completed, the cell has died.',\n",
       "       'The segment of the sperm flagellum where the mitochondrial sheath ends, and the outer dense fibers (ODFs) associated with outer axonemal doublets 3 and 8 are replaced by the 2 longitudinal columns of the fibrous sheath (FS) which run the length of the principal piece and are stabilized by circumferential ribs. The principal piece makes up ~2/3 of the length of the sperm flagellum and is defined by the presence of the FS and of only 7 (rather than 9) ODFs which taper and then terminate near the distal end of the principal piece.',\n",
       "       'A highly conserved protein complex comprised of two ATP-dependent DNA helicases (Rvb1p and Rvb2p in yeast, Pontin52 and Reptin52 in humans), Pih1p in yeast or PIH1D1 in humans, and Tah1 in yeast or RPAP3 in humans. The complex associates with Hsp90 and is thought to have a role in assembly of large protein or protein/nucleic acid complexes. In this role it is involved in multiple processes such as box C/D snoRNP biogenesis, phosphatidylinositol-3 kinase-related protein kinase (PIKK) signaling, RNA polymerase II assembly, and others.',\n",
       "       'Cytoplasmic, ball-like inclusion resembling a nucleolus and consisting of a convoluted network of electron-opaque strands embedded in a less dense matrix. It measures approximately 0.9 microns and lacks a limiting membrane. Its strands (diameter = 400-600 A) appear to be made of an entanglement of tightly packed filaments and particles approximately 25-50 A thick. Cytochemical studies suggest the presence of nonhistone proteins and some RNA. Usually only one such structure is present in a cell, and it appears to occur in most ganglion cells. Although they can be seen anywhere in the cell body, nematosomes are typically located in the perinuclear cytoplasm, where they are often associated with smooth-surfaced and coated vesicles.',\n",
       "       'An organelle arrangement comprised of the following elements: a mitochondrion positioned near the presynaptic membrane; an electron-dense mitochondrial plaque adjacent to the outer mitochondrial membrane that faces the presynaptic membrane; filament-like elements appearing to link the mitochondrial plaque to a cell-cell junction region (sometimes termed punctum adherens); tubular or vesicular-appearing membrane (also called vesicular chain) interposed among the filaments. Mitochondrion-associated adherens complexes were initially described in the dorsal horn of the spinal cord. They are found in calyces and other large terminals of the auditory brainstem, and in a variety of mammalian species including humans.',\n",
       "       \"Nuclear bodies frequently found near or associated with Cajal bodies (also called coiled bodies or CBs). Gemini of coiled bodies, or 'gems', are similar in size and shape to CBs, and often indistinguishable under the microscope. Unlike CBs, gems do not contain small nuclear ribonucleoproteins (snRNPs); they contain a protein called survivor of motor neurons (SMN) whose function relates to snRNP biogenesis. Gems are believed to assist CBs in snRNP biogenesis, and to play a role in the etiology of spinal muscular atrophy (SMA).\",\n",
       "       'A non-membrane-bounded organelle superficially similar to a bacterial-type flagellum; they both consist of filaments extending outside the cell, and rotate to propel the cell, but the archaeal flagella (also called archaella) have a unique structure which lacks a central channel. Similar to bacterial type IV pilins, the archaeal flagellins (archaellins) are made with class 3 signal peptides and they are processed by a type IV prepilin peptidase-like enzyme. The archaellins are typically modified by the addition of N-linked glycans which are necessary for proper assembly and/or function.',\n",
       "       'A small amount of cytoplasm surrounded by a cell membrane that is generally retained in spermatozoa after spermiogenesis, when the majority of the cytoplasm is phagocytosed by Sertoli cells to produce \\\\\"residual bodies\\\\\". Initially, the droplet is located at the neck just behind the head of an elongated spermatid. During epididymal transit, the cytoplasmic droplet migrates caudally to the annulus at the end of the midpiece; the exact position and time varies by species. The cytoplasmic droplet consists of lipids, lipoproteins, RNAs, a variety of hydrolytic enzymes, receptors, ion channels, and Golgi-derived vesicles. The droplet may be involved in regulatory volume loss (RVD) at ejaculation, and in most species, though not in humans, the cytoplasmic droplet is lost at ejaculation. Note that the cytoplasmic droplet is distinct from \\\\\"excessive residual cytoplasm\\\\\" that sometimes remains in epididymal spermatozoa, particularly when spermiogenesis has been disrupted.',\n",
       "       'A protein complex that acts as a protein trafficking machinery and is responsible for the export of proteins across the parasitophorous (symbiont-containing) vacuolar membrane and into the human host cell. The PTEX complex is located in the vacuole membrane. It is ATP-powered, and comprises heat shock protein 101 (HSP101; a ClpA/B-like ATPase from the AAA+ superfamily, of a type commonly associated with protein translocons), a parasite protein termed PTEX150, and exported protein 2 (EXP2). EXP2 is the potential channel, as it is the membrane-associated component of the core PTEX complex. Two other proteins, PTEX88 and thioredoxin 2 (TRX2), were also identified as PTEX components.',\n",
       "       'Interacting selectively and non-covalently with any member of the serpin protein family (serine protease inhibitors or classified inhibitor family I4). Serpins are a broadly distributed family of protease inhibitors that use a conformational change to inhibit target enzymes. They are central in controlling many important proteolytic cascades. The majority of serpins inhibit serine proteases, but serpins that inhibit caspases and papain-like cysteine proteases have also been identified. Rarely, serpins perform a non-inhibitory function; for example, several human serpins function as hormone transporters and certain serpins function as molecular chaperones or tumor suppressors.',\n",
       "       'A programmed cell death characterized morphologically by the presence of smaller than normal mitochondria with condensed mitochondrial membrane densities, reduction or vanishing of mitochondria crista, and outer mitochondrial membrane rupture. Activation of mitochondrial voltage-dependent anion channels and mitogen-activated protein kinases, upregulation of endoplasmic reticulum stress, and inhibition of cystine/glutamate antiporter are involved in the induction of ferroptosis. This process is characterized by the accumulation of lipid peroxidation products and lethal reactive oxygen species (ROS) derived from iron metabolism. Glutathione peroxidase 4 (GPX4), heat shock protein beta-1, and nuclear factor erythroid 2-related factor 2 function as negative regulators of ferroptosis by limiting ROS production and reducing cellular iron uptake, respectively. In contrast, NADPH oxidase and p53 act as positive regulators of ferroptosis by promotion of ROS production and inhibition of expression of SLC7A11 (a specific light-chain subunit of the cystine/glutamate antiporter), respectively. Misregulated ferroptosis has been implicated in multiple physiological and pathological processes.',\n",
       "       'Any intracellular signal transduction in which the signal is passed on within the cell by activation of a transcription factor as a consequence of dephosphorylation by Ca(2+)-activated calcineurin. The process begins with calcium-dependent activation of the phosphatase calcineurin. Calcineurin is a calcium- and calmodulin-dependent serine/threonine protein phosphatase with a conserved function in eukaryotic species from yeast to humans. In yeast and fungi, calcineurin regulates stress signaling and cell cycle, and sporulation and virulence in pathogenic fungi. In metazoans, calcineurin is involved in cell commitment, organogenesis and organ development and immune function of T-lymphocytes. By a conserved mechanism, calcineurin phosphatase activates fungal Crz1 and mammalian NFATc by dephosphorylation and translocation of these transcription factors to the nucleus to regulate gene expression.',\n",
       "       'The process whereby a filamentous phage particle is released from a bacterial host cell via a concerted mechanism of assembly and secretion. Neosynthesized virions are coordinately exported as they are assembled at the cell surface in a secretory process that leaves the host cell fully viable.  Non-capsid proteins form structures that facilitate translocation through the inner membrane and outer membranes. A viral single-stranded DNA binding protein coats progeny viral DNA molecules to generate the intracellular precursor for assembly of phage particles as they are extruded through the membranes of the bacterial host. The structural proteins of the virus are anchored in the inner membrane before their incorporation into the phage particle. As assembly proceeds, the phage genome traverses the inner and outer membranes until the entire DNA molecule has been coated and extruded.',\n",
       "       'A ribonuclease complex that has 3-prime to 5-prime distributive hydrolytic exoribonuclease activity and in some taxa (e.g. yeast) endoribonuclease activity, producing 5-prime-phosphomonoesters. Participates in a multitude of cellular RNA processing and degradation events preventing nuclear export and/or translation of aberrant RNAs. Restricted to processing linear and circular single-stranded RNAs (ssRNA) only. RNAs with complex secondary structures may have to be unwound or pre-processed by co-factors prior to entering the complex, esp if the 3-prime end is structured.',\n",
       "       'Catalysis of the reaction: ditrans,octacis-undecaprenyldiphospho-N-acetyl-(N-acetylglucosaminyl)muramoyl-L-alanyl-gamma-D-isoglutaminyl-N-(beta-D-asparatyl)-L-lysyl-D-alanyl-D-alanine + ammonium + ATP = H+ + ditrans,octacis-undecaprenyldiphospho-N-acetyl-(N-acetylglucosaminyl)muramoyl-L-alanyl-gamma-D-isoglutaminyl-N-(beta-D-asparaginyl)-L-lysyl-D-alanyl-D-alanine + AMP + diphosphoric acid',\n",
       "       \"Catalysis of the reaction: N,N'-diacetyl-alpha-D-bacillosaminyl-diphospho-tri-trans,hepta-cis-undecaprenol + UDP-N-acetyl-D-galactosamine <=> N-acetyl-D-galactosaminyl-alpha-(1->3)-N,N'-diacetyl-alpha-D-bacillosaminyl-diphospho-tri-trans,hepta-cis-undecaprenol + UDP + H+.\",\n",
       "       \"Protein complex involved in modulation of signaling and synaptic function in the brain, predominantly in the cerebral cortex and hippocampus. Forms dimers and multimers of amyloid beta peptide 40 and peptide 42 (proteolytic cleavage products of amyloid beta A4 protein, also known as amyloid beta precursor protein). Mostly found in the extracellular space with a proportion occurring as membrane-bound species. Influences synaptic plasticity through various receptors, mediates dendritic spine loss leading to decreased synapse density, inhibits long-term potentiation (LTP) and enhances long-term depression (LTD). Soluble multimeric form is the main pathogenic species linked to Alzheimer's disease.\",\n",
       "       'A chromatin remodeling complex that positively regulates histone H3 acetylation, in particular H3K9, by recruiting histone acetyltransferases to rDNA gene regions. Located in the nucleolus where it assembles on RNA Polymerase I (Pol I) and possibly on RNA Polymerase III (Pol III) promoter and coding regions during early G1 phase and activates the post-initiation phases of Pol I transcription. May also activate RNA Polymerase II (Pol II) gene transcription. In mammals, B-WICH contains the WICH complex core of BAZ1B and SMARCA5, additional protein subunits and possibly rRNAs. Although it contains several catalytic subunits it is not clear which functions are carried out by the complex itself.',\n",
       "       'A cytoskeletal structure composed of actin filaments, myosin, and myosin-associated proteins that forms beneath the plasma membrane of many cells, including animal cells and yeast cells, in a plane perpendicular to the axis of the mitotic spindle, i.e. the cell division plane. Ring contraction is associated with centripetal growth of the membrane that divides the cytoplasm of the two future daughter cells. In animal cells, the mitotic contractile ring is located inside the plasma membrane at the location of the cleavage furrow. In budding fungal cells, e.g. mitotic S. cerevisiae cells, the mitotic contractile ring forms beneath the plasma membrane at the mother-bud neck before mitosis.',\n",
       "       'A cytoskeletal structure composed of actin filaments, myosin, and myosin-associated proteins that forms beneath the plasma membrane of many cells, including animal cells and yeast cells, in a plane perpendicular to the axis of the meiotic spindle, i.e. the cell division plane. Ring contraction is associated with centripetal growth of the membrane that divides the cytoplasm of the two future daughter cells. In animal cells, the meiotic contractile ring is located inside the plasma membrane at the location of the cleavage furrow. In fungal cells, the meiotic contractile ring forms beneath the plasma membrane of the prospore envelope in preparation for completing cytokinesis.',\n",
       "       'A cellular structure that is the site of a developing centriole, which will become a microtubule organizing center. During the canonical pathway of centriole duplication that occurs during the cell division cycle, procentrioles grow at the proximal ends of both mother and daughter centrioles. In the newly divided cells, the original mother and daughter centrioles become mother centrioles while the procentrioles become the new daughter centrioles. Procentrioles can also arise from de novo pathways that occur in multiciliated cells. In ciliated epithelial cells, numerous procentrioles arise form electron dense material referred to as fibrous granules and deuterosomes. The pathway of procentriole formation in multiciliated protists appears to be similar to that in mammalian multiciliated epithelium. In sperm of primative land plants, multiple procentrioles are formed from a blepharoplast giving rise to multicilated sperm cells.',\n",
       "       'A transmembrane complex embedded in the cytoplasmic membrane which is the motor force, or torque, generator of the bacterial-type flagellum. The motor consists of a membrane-anchored rotor complex surrounded by one or more stator complexes in the cytoplasmic membrane. The stator consists of a hetero-hexameric complex of 2 membrane proteins, A and B, with stoichiometry A4B2. Examples are the H+ driven MotA-MotB stator complex of Escherichia coli and Salmonella enterica, and the Na+ driven PomA-PomB stator complex of Vibrio and Shewanella species. The rotor complex consists of a membrane-anchored ring and the motor switch complex, which controls the direction of flagellar rotation.',\n",
       "       'A hetero-hexameric complex of 2 membrane proteins, A and B, with stoichiometry A4B2. The A and B proteins form a channel through which flow the ions that power the bacterial-type flagellum. They form the stator, or nonrotating portion, of the flagellum motor with the B protein apparently attached to the peptidoglycan cell wall. Examples include the H+ driven MotA-MotB stator complex of Escherichia coli and Salmonella enterica, and the Na+ driven PomA-PomB stator complex of Vibrio and Shewanella species.',\n",
       "       'A part of the bacterial-type flagellum that is located at the cytoplasmic side of the MS ring and composed of six membrane proteins (FlhA, FlhB, FliP, FliQ, FliR, and FliO, or orthologs thereof) and three soluble proteins (FliI, FliH, and FliJ, or orthologs thereof) in the cytoplasm. It is responsible for secretion of flagellar type III protein substrates, including the proteins of the flagellar rod, hook, and filament.',\n",
       "       'A pathway targeting soluble cytosolic proteins to the vacuole lumen. It uses a selective autophagy receptor protein Nbr1, which is an ortholog of mammalian NBR1, and is remotely related to S. cerevisiae Cvt pathway receptor protein Atg19. Similar to the Cvt pathway, the cargos transported by this pathway are hydrolases, which presumably contribute to the hydrolytic activities in the vacuole lumen. Different from the Cvt pathway, this pathway does not require the macroautophagy machinery, but instead relies on the ESCRT machinery for cargo sequestration. This pathway is observed in the fission yeast S. pombe.',\n",
       "       \"A protein complex containing members of the Like-Sm family of proteins, which includes both the Sm proteins and the Lsm proteins, and which generally form hexameric or heptameric ring structures which bind to RNA. While some of these ring complexes may form independently of RNA, many only form in association with their target RNA. In addition to Lsm-family proteins, many of these complexes contain additional protein members. Members of this family of complexes include the snRNPs which comprise the majority of the spliceosome. Others are involved in the 5' to 3' degradation pathways of mRNAs in the cytoplasm and of unspliced transcripts in the nucleus, as well as other diverse roles.\",\n",
       "       'A protein complex responsible for the catalysis of the reaction: 4-N-(N-acetyl-D-glucosaminyl)-protein + H2O = N-acetyl-beta-D-glucosaminylamine + peptide L-aspartate. This reaction is the hydrolysis of an N4-(acetyl-beta-D-glucosaminyl)asparagine residue in which the N-acetyl-D-glucosamine residue may be further glycosylated, to yield a (substituted) N-acetyl-beta-D-glucosaminylamine and the peptide containing an aspartic residue.',\n",
       "       'The physiological and developmental changes that occur in a conidium or asexual spore following release from dormancy up to the earliest signs of development such as swelling of conidia, adhesion and nuclear decondensation followed by hyphal growth several hours later. In many genera of plant pathogenic fungi (e.g. Magnaporthe, Colletotrichum, Ustilago), swelling of the hyphal tips to form appressorium, metabolic activities including respiration, RNA and protein synthesis and trehalose breakdown and changes in cell wall composition can be detected in conidium germination.',\n",
       "       'The process whose specific outcome is the progression of a perithecium over time, from its formation to the mature structure. Peritheicum is a flask-shaped fruiting body of certain molds and ascomycetous fungi having a pore for the escape of spores. In the ascomycetous fungi such as Neurospora crassa and Sordaria macrospora, these perithecia are formed in the sexual phase and they discharge ascospores through the ostiolum at the tip of the perithecial neck.',\n",
       "       'A stress-inducible protein catabolic pathway that promotes protein quality control by accelerating the degradation of misfolded ER membrane and cytosolic proteins, as well as native proteins. The pathway starts with the activation, by stress, of the Nma111p/Ynm3p serine protease, which cleaves the stress-induced hydrophilin Roq1p, resulting in the generation of a Roq1p cleavage product that selectively interacts with Ubr1p, an E3 ubiquitin ligase. Interaction with the Ubr1p type-1 substrate binding site reprograms the substrate specificity of this ubiquitin ligase resulting in the selective proteasome-mediated degradation of misfolded and native proteins. The pathway ends with degradation of the protein by the cytoplasmic proteasome. Currently, NMA111, ROQ1, UBR1, RAD6, and CDC48 are considered to be involved in this quality control pathway.',\n",
       "       'A transition where a cardiac endothelial cell loses apical/basolateral polarity, severs intercellular adhesive junctions, degrades basement membrane components and becomes a migratory mesenchymal cell. Endocardial cells (specialized endothelial cells that line the heart) undergo EndMT, and give rise to mesenchymal cells necessary for proper heart development. EndMT, specifically generates valve progenitor cells that give rise to the mitral and tricuspid valves. EndMT also contributes to endocardial cushion formation, as well as to generation of cardiac fibroblasts and smooth muscle cells, but not cardiac myocytes.',\n",
       "       'A muscle cell-specific SWI/SNF-type complex that contains eight to fourteen proteins, including both conserved (core) and nonconserved components; contains the ATPase product of either the SMARCA4/BAF190A/BRG1 gene, the mammalian ortholog of the yeast SNF2 gene, or the SMARCA2/BAF190B/BRM gene, the mammalian ortholog of the Drosophila brm (brahma) gene, or an ortholog of either of these genes, and the muscle-specific product of the DPF3/BAF45C gene or an ortholog thereof.',\n",
       "       'A brain-specific SWI/SNF-type complex that contains eight or nine proteins, including both conserved (core) and nonconserved components; contains the ATPase product of either the SMARCA4/BAF190A/BRG1 gene, the mammalian ortholog of the yeast SNF2 gene, or the SMARCA2/BAF190B/BRM gene, the mammalian ortholog of the Drosophila brm (brahma) gene, or an ortholog of either of these genes. Compared to the neuron-specific nBAF complex (GO:0071565) it does not contain DPF1, DPF3 or SMARCC1 or their orthologs. May contain PB1/BAF180.',\n",
       "       'An embryonic stem cell-specific SWI/SNF-type complex that contains eight or nine proteins, including both conserved (core) and nonconserved components; contains the ATPase product of either the SMARCA4/BAF190A/BRG1 gene, the mammalian ortholog of the yeast SNF2 gene, or an ortholog thereof. Compared to many other BAF complexes never contains ACTL6B/BAF53B, ARID1B/BAF250B, SMARCA2/BRM, SMARCC2/BAF170 or SMARCD3/BAF60C but contains PHF10/BAF45A, DPF2/BAF45D and possibly one of BCL7A/B/C.',\n",
       "       'A protein-containing complex that monoubiquitinates histone H2A on K119, thus it facilitates the maintenance of the transcriptionally repressive state of some genes, such as BCL6. It consists of the corepressor BCOR or BCORL1, a Polycomb group (PcG) and a SCF ubiquitin ligase subcomplexes.\\\\nIn mammals, the core subunits of the complex include the PcG and PcG-associated proteins NSPC1, RING1, RNF2, and RYBP and the components of the SCF ubiquitin ligase, SKP1, and FBXL10.',\n",
       "       'A series of molecular signals initiated by an extracellular amylin, or another ligand, combining with an amylin receptor 3 (AMY3), a G protein-coupled receptor complex, on the surface of the target cell. The AMY3 signaling pathway can also be initiated by the amyloid-beta complex. AMY3 signaling results in increased import of calcium ions into the cytosol across plasma membrane, increased phosphorylation of ERK1/2, Act, and a PKA regulatory subunit II, as well as increased expression of cFos.',\n",
       "       'Any process that stops, prevents, or reduces the frequency, rate or extent of the movement of proteins from the cytoplasm into the nucleus, and that occurs as a response to the mitotic cell cycle spindle assembly checkpoint. In S. cerevisiae, this process involves inhibition of the karyopherin/importin Kap121p (also known as Pse1p), which acts as the specific nuclear import receptor for several proteins, including Glc7p. Glc7p functions in opposition to key spindle assembly checkpoint protein Aurora kinase (Ipl1p).',\n",
       "       'A protein complex which is capable of serotonin-activated cation-selective channel activity. Mainly found in pre- and postsynaptic membranes of the brain and gastrointestinal tract. Depending on its location it transports Ca2+, Mg2+, Na+ or K+. It is always a pentamer, containing at least the 5HT3A subunit forming 5HT3A homopentamers or 5HT3A/B heteropentamers. In human, 5HT3A/C, A/D and A/E heteropentamers also exist.',\n",
       "       'The directed movement of a sphingoid long-chain base, sometimes referred to as long-chain base, or sphingoid base, into, out of or within a cell, or between cells, by means of some agent such as a transporter or pore. Sphingoid long-chain bases are long-chain aliphatic amines that are the fundamental building blocks of sphingolipids. The main mammalian sphingoid long-chain bases are dihydrosphingosine and sphingosine, while dihydrosphingosine and phytosphingosine are the main sphingoid long-chain bases in yeast.',\n",
       "       'A complex that mediates intra-Golgi traffic, Golgi exit, endosome-to-Golgi traffic, and the trafficking of autophagy proteins from Golgi to the phagophore assembly site. Binds to a component of the COPI coat. In yeast it includes the following subunits: Bet3 (as homodimer), Bet5, Tca17, Trs20, Trs23, Trs31, Trs33, Trs65, Trs120, Trs130. The whole complex is thought to dimerize with itself.',\n",
       "       'Any of a family of protein complexes that form at the origin of replication or stalled replication forks and function in replication primer synthesis in all organisms.  Early complexes initiate double-stranded DNA unwinding. The core unit consists of a replicative helicase and a primase. The helicase further unwinds the DNA and recruits the polymerase machinery. The primase synthesizes RNA primers that act as templates for complementary stand replication by the polymerase machinery. The primosome contains a number of associated proteins and protein complexes and contributes to the processes of replication initiation, lagging strand elongation, and replication restart.',\n",
       "       'A proteasome specifically found in mammalian testis. Contains the proteasome activator PA200 in the regulatory particle, and beta1i, beta2i, beta5i and/or alpha4s in the core (20S) subunit. Beta1i, beta2i and beta5i are inducible catalytic subunits, closely related to beta1, beta2 and beta5. Alpha4s is a sperm-specific 20S subunit, but unlike other alternative 20S subunits alpha4s lies in the outer alpha-ring and lacks catalytic activity.',\n",
       "       'A bacterial transmembrane transporter complex that spans the entire cell membrane system and possesses ATP-dependent xenobiotic transport activity pumping drugs (typically antibiotics) and other toxins directly from the cytosol out of the bacterial cell. Typically, it is trimeric consisting of a inner membrane ATPase (IMP), a periplasmic membrane fusion protein (MFP) and an outer membrane factor (OMF). In E. coli, macrolide transporter complexes may consists of MacB (IMP), MacA (MFP) and TolC (OMF) or AcrB (IMP), AcrA (MFP) and TolC (OMF). Trimeric TolC is a common OMF found in many macrolide transporter complexes.',\n",
       "       'A cytoplasmic dense-core vesicle that transports a range of proteins including piccolo, bassoon, N-cadherin and syntaxin. The transported proteins may be associated with the external side of the vesicle, rather than being contained within the vesicle, therefore forming an aggregate of vesicle and proteins. Piccolo-bassoon transport vesicles (or PTVs) range in size from approximately 80 nm in diameter for dense core vesicles to 130 nm by 220 nm in area for aggregates. They are packaged via the trans-Golgi network before being transported through the axon.',\n",
       "       'A protein complex consisting of two chains of platelet-derived growth factor (PDGF) subunits. PDGF dimers bind to PDGF receptors in the plasma membrane and induce receptor dimerisation and activation. PDGFs are involved in a wide variety of signalling processes. PDGFs are found in all vertebrates where at least 2 different chains (A and B) exist. In human (and other mammals), four types of PDGF chains (A, B, C, and D) are known which form five different dimers (AA, AB, BB, CC and DD).',\n",
       "       'A tetrameric protein complex consisting of two platelet-derived growth factor (PDGF) receptor subunits and two PDGF ligand subunits. Binding of the PDGF ligand dimer to the PDGF receptor in the plasma membrane induces receptor dimerisation and activation. PDGFs are involved in a wide variety of signalling processes and are found in all vertebrates. At least two different receptor chains (A and B) and four types of ligand chains (A, B, C, and D) are known forming a wide variety of combinations of receptor-ligand complexes.',\n",
       "       'A ubiquitin ligase complex consisting of MUB1, RAD6 and UBR2 components. It ubiquitinates, and targets for destruction, the RPN4 transcription factor, which upregulates the proteasome genes. The binding of MUB1 may position the RPN4 ubiquitylation site proximal to the Ubiquitin-RAD6 thioester and allow the transfer of Ubiquitin from RAD6 to RPN4. One of its components, MUB1, is a short-lived protein ubiquitinated by the UBR2-RAD6 ubiquitin conjugating enzyme.',\n",
       "       'A type-I transmembrane protein complex located in the endoplasmic reticulum (ER) consisting of an IRE1-IRE1 dimer, which forms in response to the accumulation of unfolded protein in the ER. The dimeric complex has endoribonuclease (RNase) activity and evokes the unfolded protein response (UPR) by cleaving an intron of a mRNA coding for the transcription factor HAC1 in yeast or XBP1 in mammals; the complex cleaves a single phosphodiester bond in each of two RNA hairpins (with non-specific base paired stems and loops of consensus sequence CNCNNGN, where N is any base) to remove an intervening intron from the target transcript.',\n",
       "       'A protein kinase chaperone complex required for the proper folding, maturation and stabilization of target proteins (mostly signalling protein kinases, some steroid hormone receptors), usually during or immediately after completion of translation. The highly conserved, phosphorylated CDC37-Ser13 (vertebrates) or cdc37-Ser14 (yeast) is essential for complex assembly and target protein binding. CDC37-Ser13 (Ser14) is phosphorylated by Casein kinase II (CK2), which in turn is a target of CDC37 creating a positive feedback loop. Complex binding also prevents rapid ubiquitin-dependent proteosomal degradation of target proteins.',\n",
       "       'OBSOLETE. A centromere complex assembly protein that is required for the deposition of CENP-A on the centromere. The Mis18 complex localizes to centromeres just prior to the pre-nucleosomal HJURP/CENP-A/H4 complex and is absolutely required for the CENP-A-specific chaperone, Holliday junction recognition protein (HJURP) to reach the centromeres. Plk1 phosphorylation activates Mis18 complex recruitment to the centromeres during G1. CDK phosphorylation of MISBP1 during G2 and mitosis, prior to the metaphase-to-anaphase transition, negatively regulates complex assembly.',\n",
       "       'OBSOLETE. The ANPR-A:ANP complex is composed of the hormone AMP bound to the extracellular domain of ANPR-A domain. It is formed in the atrium in response to atrial distension (high blood volume) and leads to guanylate cyclase activity of the ANPR-A receptor, thereby elevating intracellular cGMP levels. The end result is a reduction in blood volume and, therefore, a reduction in cardiac output and systemic blood pressure. Therefore, ANPR-A:ANP complex plays a major role in the regulation of blood pressure and salt-fluid volume homeostasis.',\n",
       "       'OBSOLETE. A protein complex consisting of RseA, RseB and RpoE. It form the inactive form of the sigma-E transcription factor. In response to stress, outer membrane proteins accumulate in the periplasm and activate cleavage of RseA periplasmic domain by DegS, triggering a proteolytic cascade that frees sigma-E to activate gene expression. RseB binding to RseA prevents activated DegS from cleaving RseA. Sigma-E-mediated envelope stress response is the major pathway to ensure homeostasis in the envelope compartment of the cell.',\n",
       "       \"A conserved, heteroheptameric, cytoplasmic protein complex composed of Lsm1, Lsm2, Lsm3, Lsm4, Lsm5, Lsm6, Lsm7, and Pat1, or orthologs thereof, that shows a strong binding preference for oligoadenylated RNAs over polyadenylated RNAs. May bind further associated proteins. Facilitates the deadenylation-dependent decapping of mRNA in the P-body thereby regulating mRNA decay and subsequent degradation by the 5' to 3' pathway.\"],\n",
       "      dtype='<U1308')"
      ]
     },
     "execution_count": 29,
     "metadata": {},
     "output_type": "execute_result"
    }
   ],
   "source": [
    "np.array(text)[((tokenized_data['attention_mask']\\\n",
    " .sum(axis=1)*1.0)>103).numpy()]"
   ]
  },
  {
   "cell_type": "code",
   "execution_count": 28,
   "metadata": {},
   "outputs": [
    {
     "ename": "TypeError",
     "evalue": "list indices must be integers or slices, not list",
     "output_type": "error",
     "traceback": [
      "\u001b[0;31m---------------------------------------------------------------------------\u001b[0m",
      "\u001b[0;31mTypeError\u001b[0m                                 Traceback (most recent call last)",
      "Cell \u001b[0;32mIn[28], line 1\u001b[0m\n\u001b[0;32m----> 1\u001b[0m \u001b[43mtext\u001b[49m\u001b[43m[\u001b[49m\u001b[43m[\u001b[49m\u001b[38;5;28;43;01mFalse\u001b[39;49;00m\u001b[43m,\u001b[49m\u001b[38;5;28;43;01mFalse\u001b[39;49;00m\u001b[43m]\u001b[49m\u001b[43m]\u001b[49m\n",
      "\u001b[0;31mTypeError\u001b[0m: list indices must be integers or slices, not list"
     ]
    }
   ],
   "source": [
    "text[[False,False]]"
   ]
  },
  {
   "cell_type": "code",
   "execution_count": 4,
   "metadata": {},
   "outputs": [],
   "source": [
    "\n",
    "import re \n",
    "def apply_lora_biogpt_attention(layer,rank,alpha,device,in_features= 1024, out_features= 1024):\n",
    "    layer.self_attn.q_proj = lora.Linear(\n",
    "        in_features, out_features, r=rank,lora_alpha=alpha)  \n",
    "    layer.self_attn.v_proj = lora.Linear(\n",
    "        in_features, out_features, r=rank,lora_alpha=alpha)\n",
    "    layer.self_attn.k_proj = lora.Linear(\n",
    "        in_features, out_features, r=rank,lora_alpha=alpha)\n",
    "    layer.self_attn.out_proj = lora.Linear(\n",
    "        in_features, out_features, r=rank,lora_alpha=alpha)\n",
    "    layer.fc1 = lora.Linear(\n",
    "        in_features, out_features*4, r=rank,lora_alpha=alpha)\n",
    "    layer.fc2 = lora.Linear(\n",
    "        in_features*4, out_features, r=rank,lora_alpha=alpha)\n",
    "    \n",
    "\n",
    "    layer=layer.to(device)\n",
    "    \n",
    "def biogpt_train_last_n_layers(model,n,lora_params=None):\n",
    "    for param in model.parameters():\n",
    "        param.requires_grad = False\n",
    "\n",
    "    if n>0:\n",
    "        max_layer_num = len(model.layers)-1\n",
    "        for param_name,param in model.named_parameters():\n",
    "            layer_num = re.search(r'layers\\.(\\d+)', param_name)\n",
    "            if layer_num:\n",
    "                number = int(layer_num.group(1))\n",
    "                if number>max_layer_num-n:\n",
    "                    param.requires_grad = True\n",
    "                    if lora_params is not None:\n",
    "\n",
    "                        apply_lora_biogpt_attention(**{**lora_params,\n",
    "                                                     'layer':model.layers[number]}\n",
    "                                                     )\n",
    "        \n",
    "        if lora_params is not None:\n",
    "            lora.mark_only_lora_as_trainable(model)\n",
    "        \n",
    "        #Always train last layer norm.\n",
    "        for param in model.layer_norm.parameters():\n",
    "            param.requires_grad = True\n"
   ]
  },
  {
   "cell_type": "code",
   "execution_count": 5,
   "metadata": {},
   "outputs": [
    {
     "name": "stdout",
     "output_type": "stream",
     "text": [
      "layers.23.self_attn.k_proj.lora_A\n",
      "layers.23.self_attn.k_proj.lora_B\n",
      "layers.23.self_attn.v_proj.lora_A\n",
      "layers.23.self_attn.v_proj.lora_B\n",
      "layers.23.self_attn.q_proj.lora_A\n",
      "layers.23.self_attn.q_proj.lora_B\n",
      "layers.23.self_attn.out_proj.lora_A\n",
      "layers.23.self_attn.out_proj.lora_B\n",
      "layers.23.fc1.lora_A\n",
      "layers.23.fc1.lora_B\n",
      "layers.23.fc2.lora_A\n",
      "layers.23.fc2.lora_B\n",
      "layer_norm.weight\n",
      "layer_norm.bias\n",
      "trainable params: 149504 || all params: 346910720 || trainable%: 0.04\n"
     ]
    }
   ],
   "source": [
    "biogpt_train_last_n_layers(model,\n",
    "                           1,\n",
    "                           lora_params={'rank':8,'alpha':4,'in_features':1024,'out_features':1024,'device':'cuda:0'}\n",
    "                           )\n",
    "\n",
    "for param_name,param in model.named_parameters():\n",
    "    if param.requires_grad:\n",
    "        print(param_name)\n",
    "print_trainable_parameters(model)\n",
    "\n"
   ]
  },
  {
   "cell_type": "code",
   "execution_count": 6,
   "metadata": {},
   "outputs": [],
   "source": [
    "def pool_embeddings(last_hidden_states,attention_mask,method):\n",
    "    '''\n",
    "    '''\n",
    "    sequence_length = attention_mask.sum(dim=1, keepdim=True) #includind SOS token\n",
    "    last_token_indices = sequence_length - 1\n",
    "\n",
    " \n",
    "    if method=='mean':\n",
    "        #Account for SOS token\n",
    "        adjusted_attention_mask = attention_mask.clone()\n",
    "        adjusted_attention_mask[:,0]=0\n",
    " \n",
    "        # Mask the last_hidden_state tensor and compute the sum\n",
    "        sum_hidden_states = (last_hidden_states *\n",
    "                                adjusted_attention_mask.unsqueeze(-1)).sum(dim=1)\n",
    " \n",
    "        # Compute the mean of the last hidden state\n",
    "        sequence_embedding = sum_hidden_states / (sequence_length-1) #subtract -1 for SOS token\n",
    " \n",
    "    elif method == 'last_token':\n",
    "        last_token_indices = last_token_indices\\\n",
    "            .unsqueeze(-1)\\\n",
    "            .expand(-1, -1, last_hidden_states.size(-1))\n",
    " \n",
    "        sequence_embedding = last_hidden_states.gather(1, last_token_indices).squeeze()\n",
    "    elif method == 'all':\n",
    " \n",
    "        sequence_embedding = last_hidden_states\n",
    "    \n",
    "    \n",
    " \n",
    " \n",
    "    return sequence_embedding"
   ]
  },
  {
   "cell_type": "code",
   "execution_count": 6,
   "metadata": {},
   "outputs": [],
   "source": [
    "label_embeddings = torch.load('../data/embeddings/frozen_BioGPT_label_embeddings_me.pkl')"
   ]
  },
  {
   "cell_type": "code",
   "execution_count": null,
   "metadata": {},
   "outputs": [],
   "source": []
  },
  {
   "cell_type": "code",
   "execution_count": 7,
   "metadata": {},
   "outputs": [],
   "source": [
    "label_embeddings = label_embeddings.to('cuda:0')"
   ]
  },
  {
   "cell_type": "code",
   "execution_count": 8,
   "metadata": {},
   "outputs": [],
   "source": [
    "masks=tokenized_data['attention_mask'][0].repeat(32102,1).to('cuda:0')"
   ]
  },
  {
   "cell_type": "code",
   "execution_count": 9,
   "metadata": {},
   "outputs": [],
   "source": [
    "masks=masks[:,:252]"
   ]
  },
  {
   "cell_type": "code",
   "execution_count": 10,
   "metadata": {},
   "outputs": [],
   "source": [
    "raw_attn_scorer = torch.nn.Linear(1024,1, bias=True).to('cuda:0')\n",
    "\n",
    "def additive_attention(hidden_states,attention_mask):\n",
    "    raw_attn_scores = raw_attn_scorer(hidden_states).squeeze(-1)\n",
    "    \n",
    "    #Masked scored for softmax\n",
    "    raw_attn_scores = raw_attn_scores.masked_fill(attention_mask==0,float('-inf'))\n",
    "\n",
    "    #Normalized attention weights\n",
    "    attn_weights = torch.softmax(raw_attn_scores,dim=-1)\n",
    "\n",
    "    #Get final label embedding\n",
    "    return torch.bmm(attn_weights.unsqueeze(1),hidden_states).squeeze(1)"
   ]
  },
  {
   "cell_type": "code",
   "execution_count": 11,
   "metadata": {},
   "outputs": [],
   "source": [
    "def _get_joint_embeddings(P_e, L_e, num_sequences,num_labels):\n",
    "\n",
    "    sequence_embedding_dim = P_e.shape[1]\n",
    "    label_embedding_dim = L_e.shape[1]\n",
    "\n",
    "    # Use broadcasting so we don't have to expand the tensor dimensions\n",
    "    joint_embeddings = torch.cat([\n",
    "        P_e[:, None, :].expand(\n",
    "            num_sequences, num_labels, sequence_embedding_dim),\n",
    "        L_e[None, :, :].expand(\n",
    "            num_sequences, num_labels, label_embedding_dim)\n",
    "    ], dim=2).reshape(-1, sequence_embedding_dim + label_embedding_dim)\n",
    "\n",
    "    return joint_embeddings"
   ]
  },
  {
   "cell_type": "code",
   "execution_count": 13,
   "metadata": {},
   "outputs": [],
   "source": [
    "from torchvision.ops import MLP\n"
   ]
  },
  {
   "cell_type": "code",
   "execution_count": 14,
   "metadata": {},
   "outputs": [],
   "source": [
    "P_f = torch.rand((32,1100)).to('cuda:0')\n",
    "\n",
    "#L_e = torch.rand((32102,1024))\n",
    "L_f = additive_attention(label_embeddings,masks)\n",
    "W_p = MLP(1100,[1024]*1,bias=False,norm_layer=torch.nn.BatchNorm1d).to('cuda:0')\n",
    "W_l = MLP(1024,[1024]*1,bias=False,norm_layer=torch.nn.BatchNorm1d).to('cuda:0')\n",
    "\n",
    "L_e = W_l(L_f)\n",
    "P_e = W_p(P_f)"
   ]
  },
  {
   "cell_type": "code",
   "execution_count": 15,
   "metadata": {},
   "outputs": [],
   "source": [
    "joint=_get_joint_embeddings(P_e.to('cuda:0'), L_e, 32,32102)"
   ]
  },
  {
   "cell_type": "code",
   "execution_count": 16,
   "metadata": {},
   "outputs": [
    {
     "data": {
      "text/plain": [
       "(torch.Size([1027264, 2048]),\n",
       " torch.Size([32, 1024]),\n",
       " torch.Size([32102, 1024]),\n",
       " torch.Size([32, 1100]),\n",
       " torch.Size([32102, 1024]))"
      ]
     },
     "execution_count": 16,
     "metadata": {},
     "output_type": "execute_result"
    }
   ],
   "source": [
    "joint.shape,P_e.shape,L_e.shape,P_f.shape,L_f.shape"
   ]
  },
  {
   "cell_type": "code",
   "execution_count": 7,
   "metadata": {},
   "outputs": [],
   "source": [
    "tokenized_data['input_ids']=torch.randint(0,10000,(1000,60)).to('cuda:0')\n",
    "tokenized_data['attention_mask']=torch.randint(0,1,(1000,60)).to('cuda:0')"
   ]
  },
  {
   "cell_type": "code",
   "execution_count": 8,
   "metadata": {},
   "outputs": [
    {
     "data": {
      "text/plain": [
       "torch.Size([1000, 60])"
      ]
     },
     "execution_count": 8,
     "metadata": {},
     "output_type": "execute_result"
    }
   ],
   "source": [
    "tokenized_data['input_ids'].shape"
   ]
  },
  {
   "cell_type": "code",
   "execution_count": 8,
   "metadata": {},
   "outputs": [
    {
     "data": {
      "text/plain": [
       "1389062144"
      ]
     },
     "execution_count": 8,
     "metadata": {},
     "output_type": "execute_result"
    }
   ],
   "source": [
    "torch.cuda.memory_allocated('cuda:0')"
   ]
  },
  {
   "cell_type": "code",
   "execution_count": 11,
   "metadata": {},
   "outputs": [
    {
     "data": {
      "text/plain": [
       "2.843661824"
      ]
     },
     "execution_count": 11,
     "metadata": {},
     "output_type": "execute_result"
    }
   ],
   "source": [
    "(4232723968-1389062144)/1e9"
   ]
  },
  {
   "cell_type": "code",
   "execution_count": 9,
   "metadata": {},
   "outputs": [
    {
     "name": "stdout",
     "output_type": "stream",
     "text": [
      "0\n"
     ]
    },
    {
     "name": "stdout",
     "output_type": "stream",
     "text": [
      "4232723968\n",
      "1\n",
      "7068151296\n",
      "2\n",
      "9903480320\n",
      "3\n",
      "12738810880\n",
      "4\n",
      "15573959680\n",
      "5\n",
      "18409290240\n",
      "6\n",
      "21244619264\n",
      "7\n",
      "24079096320\n",
      "8\n",
      "26913573376\n",
      "9\n",
      "29748050432\n",
      "10\n",
      "32582527488\n",
      "11\n",
      "35417004544\n",
      "12\n",
      "38251481600\n",
      "13\n",
      "41085958656\n",
      "14\n",
      "43920435712\n",
      "15\n",
      "46754912768\n",
      "16\n",
      "49589389824\n",
      "17\n",
      "52423866880\n",
      "18\n",
      "55258343936\n",
      "19\n",
      "58092820992\n",
      "20\n",
      "60928150016\n",
      "21\n",
      "63762627072\n",
      "22\n",
      "66597956096\n",
      "23\n",
      "69433285120\n",
      "24\n",
      "72267762176\n",
      "25\n"
     ]
    },
    {
     "ename": "OutOfMemoryError",
     "evalue": "CUDA out of memory. Tried to allocate 470.00 MiB (GPU 0; 79.10 GiB total capacity; 73.97 GiB already allocated; 310.38 MiB free; 77.51 GiB reserved in total by PyTorch) If reserved memory is >> allocated memory try setting max_split_size_mb to avoid fragmentation.  See documentation for Memory Management and PYTORCH_CUDA_ALLOC_CONF",
     "output_type": "error",
     "traceback": [
      "\u001b[0;31m---------------------------------------------------------------------------\u001b[0m",
      "\u001b[0;31mOutOfMemoryError\u001b[0m                          Traceback (most recent call last)",
      "Cell \u001b[0;32mIn[9], line 14\u001b[0m\n\u001b[1;32m      9\u001b[0m \u001b[38;5;28mprint\u001b[39m(i)\n\u001b[1;32m     10\u001b[0m \u001b[38;5;28;01mwith\u001b[39;00m autocast(), torch\u001b[38;5;241m.\u001b[39mset_grad_enabled(\u001b[38;5;28;01mTrue\u001b[39;00m):\n\u001b[1;32m     12\u001b[0m     embeddings\u001b[38;5;241m.\u001b[39mappend(\n\u001b[1;32m     13\u001b[0m         pool_embeddings(\n\u001b[0;32m---> 14\u001b[0m             \u001b[43mmodel\u001b[49m\u001b[43m(\u001b[49m\n\u001b[1;32m     15\u001b[0m \u001b[43m                \u001b[49m\u001b[43minput_ids\u001b[49m\u001b[43m \u001b[49m\u001b[38;5;241;43m=\u001b[39;49m\u001b[43m \u001b[49m\u001b[43mtokenized_data\u001b[49m\u001b[43m[\u001b[49m\u001b[38;5;124;43m'\u001b[39;49m\u001b[38;5;124;43minput_ids\u001b[39;49m\u001b[38;5;124;43m'\u001b[39;49m\u001b[43m]\u001b[49m\u001b[43m[\u001b[49m\u001b[43m:\u001b[49m\u001b[43mbs\u001b[49m\u001b[43m,\u001b[49m\u001b[43m:\u001b[49m\u001b[43m]\u001b[49m\u001b[38;5;241;43m.\u001b[39;49m\u001b[43mto\u001b[49m\u001b[43m(\u001b[49m\u001b[38;5;124;43m'\u001b[39;49m\u001b[38;5;124;43mcuda:0\u001b[39;49m\u001b[38;5;124;43m'\u001b[39;49m\u001b[43m)\u001b[49m\u001b[43m,\u001b[49m\n\u001b[1;32m     16\u001b[0m \u001b[43m                \u001b[49m\u001b[43mattention_mask\u001b[49m\u001b[43m \u001b[49m\u001b[38;5;241;43m=\u001b[39;49m\u001b[43m \u001b[49m\u001b[43mtokenized_data\u001b[49m\u001b[43m[\u001b[49m\u001b[38;5;124;43m'\u001b[39;49m\u001b[38;5;124;43mattention_mask\u001b[39;49m\u001b[38;5;124;43m'\u001b[39;49m\u001b[43m]\u001b[49m\u001b[43m[\u001b[49m\u001b[43m:\u001b[49m\u001b[43mbs\u001b[49m\u001b[43m,\u001b[49m\u001b[43m:\u001b[49m\u001b[43m]\u001b[49m\u001b[38;5;241;43m.\u001b[39;49m\u001b[43mto\u001b[49m\u001b[43m(\u001b[49m\u001b[38;5;124;43m'\u001b[39;49m\u001b[38;5;124;43mcuda:0\u001b[39;49m\u001b[38;5;124;43m'\u001b[39;49m\u001b[43m)\u001b[49m\u001b[43m)\u001b[49m\u001b[38;5;241m.\u001b[39mlast_hidden_state,\n\u001b[1;32m     17\u001b[0m                 tokenized_data[\u001b[38;5;124m'\u001b[39m\u001b[38;5;124mattention_mask\u001b[39m\u001b[38;5;124m'\u001b[39m][:bs,:]\u001b[38;5;241m.\u001b[39mto(\u001b[38;5;124m'\u001b[39m\u001b[38;5;124mcuda:0\u001b[39m\u001b[38;5;124m'\u001b[39m),\n\u001b[1;32m     18\u001b[0m                 method\u001b[38;5;241m=\u001b[39m\u001b[38;5;124m'\u001b[39m\u001b[38;5;124mmean\u001b[39m\u001b[38;5;124m'\u001b[39m\n\u001b[1;32m     19\u001b[0m                 )\n\u001b[1;32m     20\u001b[0m             )   \n\u001b[1;32m     21\u001b[0m \u001b[38;5;28mprint\u001b[39m(torch\u001b[38;5;241m.\u001b[39mcuda\u001b[38;5;241m.\u001b[39mmemory_allocated(\u001b[38;5;124m'\u001b[39m\u001b[38;5;124mcuda:0\u001b[39m\u001b[38;5;124m'\u001b[39m))\n",
      "File \u001b[0;32m/anaconda/envs/protein_functions_310/lib/python3.10/site-packages/torch/nn/modules/module.py:1501\u001b[0m, in \u001b[0;36mModule._call_impl\u001b[0;34m(self, *args, **kwargs)\u001b[0m\n\u001b[1;32m   1496\u001b[0m \u001b[38;5;66;03m# If we don't have any hooks, we want to skip the rest of the logic in\u001b[39;00m\n\u001b[1;32m   1497\u001b[0m \u001b[38;5;66;03m# this function, and just call forward.\u001b[39;00m\n\u001b[1;32m   1498\u001b[0m \u001b[38;5;28;01mif\u001b[39;00m \u001b[38;5;129;01mnot\u001b[39;00m (\u001b[38;5;28mself\u001b[39m\u001b[38;5;241m.\u001b[39m_backward_hooks \u001b[38;5;129;01mor\u001b[39;00m \u001b[38;5;28mself\u001b[39m\u001b[38;5;241m.\u001b[39m_backward_pre_hooks \u001b[38;5;129;01mor\u001b[39;00m \u001b[38;5;28mself\u001b[39m\u001b[38;5;241m.\u001b[39m_forward_hooks \u001b[38;5;129;01mor\u001b[39;00m \u001b[38;5;28mself\u001b[39m\u001b[38;5;241m.\u001b[39m_forward_pre_hooks\n\u001b[1;32m   1499\u001b[0m         \u001b[38;5;129;01mor\u001b[39;00m _global_backward_pre_hooks \u001b[38;5;129;01mor\u001b[39;00m _global_backward_hooks\n\u001b[1;32m   1500\u001b[0m         \u001b[38;5;129;01mor\u001b[39;00m _global_forward_hooks \u001b[38;5;129;01mor\u001b[39;00m _global_forward_pre_hooks):\n\u001b[0;32m-> 1501\u001b[0m     \u001b[38;5;28;01mreturn\u001b[39;00m \u001b[43mforward_call\u001b[49m\u001b[43m(\u001b[49m\u001b[38;5;241;43m*\u001b[39;49m\u001b[43margs\u001b[49m\u001b[43m,\u001b[49m\u001b[43m \u001b[49m\u001b[38;5;241;43m*\u001b[39;49m\u001b[38;5;241;43m*\u001b[39;49m\u001b[43mkwargs\u001b[49m\u001b[43m)\u001b[49m\n\u001b[1;32m   1502\u001b[0m \u001b[38;5;66;03m# Do not call functions when jit is used\u001b[39;00m\n\u001b[1;32m   1503\u001b[0m full_backward_hooks, non_full_backward_hooks \u001b[38;5;241m=\u001b[39m [], []\n",
      "File \u001b[0;32m/anaconda/envs/protein_functions_310/lib/python3.10/site-packages/transformers/models/biogpt/modeling_biogpt.py:605\u001b[0m, in \u001b[0;36mBioGptModel.forward\u001b[0;34m(self, input_ids, attention_mask, head_mask, inputs_embeds, past_key_values, use_cache, output_attentions, output_hidden_states, return_dict)\u001b[0m\n\u001b[1;32m    597\u001b[0m     layer_outputs \u001b[38;5;241m=\u001b[39m torch\u001b[38;5;241m.\u001b[39mutils\u001b[38;5;241m.\u001b[39mcheckpoint\u001b[38;5;241m.\u001b[39mcheckpoint(\n\u001b[1;32m    598\u001b[0m         create_custom_forward(decoder_layer),\n\u001b[1;32m    599\u001b[0m         hidden_states,\n\u001b[0;32m   (...)\u001b[0m\n\u001b[1;32m    602\u001b[0m         \u001b[38;5;28;01mNone\u001b[39;00m,\n\u001b[1;32m    603\u001b[0m     )\n\u001b[1;32m    604\u001b[0m \u001b[38;5;28;01melse\u001b[39;00m:\n\u001b[0;32m--> 605\u001b[0m     layer_outputs \u001b[38;5;241m=\u001b[39m \u001b[43mdecoder_layer\u001b[49m\u001b[43m(\u001b[49m\n\u001b[1;32m    606\u001b[0m \u001b[43m        \u001b[49m\u001b[43mhidden_states\u001b[49m\u001b[43m,\u001b[49m\n\u001b[1;32m    607\u001b[0m \u001b[43m        \u001b[49m\u001b[43mattention_mask\u001b[49m\u001b[38;5;241;43m=\u001b[39;49m\u001b[43mattention_mask\u001b[49m\u001b[43m,\u001b[49m\n\u001b[1;32m    608\u001b[0m \u001b[43m        \u001b[49m\u001b[43mlayer_head_mask\u001b[49m\u001b[38;5;241;43m=\u001b[39;49m\u001b[43m(\u001b[49m\u001b[43mhead_mask\u001b[49m\u001b[43m[\u001b[49m\u001b[43midx\u001b[49m\u001b[43m]\u001b[49m\u001b[43m \u001b[49m\u001b[38;5;28;43;01mif\u001b[39;49;00m\u001b[43m \u001b[49m\u001b[43mhead_mask\u001b[49m\u001b[43m \u001b[49m\u001b[38;5;129;43;01mis\u001b[39;49;00m\u001b[43m \u001b[49m\u001b[38;5;129;43;01mnot\u001b[39;49;00m\u001b[43m \u001b[49m\u001b[38;5;28;43;01mNone\u001b[39;49;00m\u001b[43m \u001b[49m\u001b[38;5;28;43;01melse\u001b[39;49;00m\u001b[43m \u001b[49m\u001b[38;5;28;43;01mNone\u001b[39;49;00m\u001b[43m)\u001b[49m\u001b[43m,\u001b[49m\n\u001b[1;32m    609\u001b[0m \u001b[43m        \u001b[49m\u001b[43mpast_key_value\u001b[49m\u001b[38;5;241;43m=\u001b[39;49m\u001b[43mpast_key_value\u001b[49m\u001b[43m,\u001b[49m\n\u001b[1;32m    610\u001b[0m \u001b[43m        \u001b[49m\u001b[43moutput_attentions\u001b[49m\u001b[38;5;241;43m=\u001b[39;49m\u001b[43moutput_attentions\u001b[49m\u001b[43m,\u001b[49m\n\u001b[1;32m    611\u001b[0m \u001b[43m        \u001b[49m\u001b[43muse_cache\u001b[49m\u001b[38;5;241;43m=\u001b[39;49m\u001b[43muse_cache\u001b[49m\u001b[43m,\u001b[49m\n\u001b[1;32m    612\u001b[0m \u001b[43m    \u001b[49m\u001b[43m)\u001b[49m\n\u001b[1;32m    614\u001b[0m hidden_states \u001b[38;5;241m=\u001b[39m layer_outputs[\u001b[38;5;241m0\u001b[39m]\n\u001b[1;32m    616\u001b[0m \u001b[38;5;28;01mif\u001b[39;00m use_cache:\n",
      "File \u001b[0;32m/anaconda/envs/protein_functions_310/lib/python3.10/site-packages/torch/nn/modules/module.py:1501\u001b[0m, in \u001b[0;36mModule._call_impl\u001b[0;34m(self, *args, **kwargs)\u001b[0m\n\u001b[1;32m   1496\u001b[0m \u001b[38;5;66;03m# If we don't have any hooks, we want to skip the rest of the logic in\u001b[39;00m\n\u001b[1;32m   1497\u001b[0m \u001b[38;5;66;03m# this function, and just call forward.\u001b[39;00m\n\u001b[1;32m   1498\u001b[0m \u001b[38;5;28;01mif\u001b[39;00m \u001b[38;5;129;01mnot\u001b[39;00m (\u001b[38;5;28mself\u001b[39m\u001b[38;5;241m.\u001b[39m_backward_hooks \u001b[38;5;129;01mor\u001b[39;00m \u001b[38;5;28mself\u001b[39m\u001b[38;5;241m.\u001b[39m_backward_pre_hooks \u001b[38;5;129;01mor\u001b[39;00m \u001b[38;5;28mself\u001b[39m\u001b[38;5;241m.\u001b[39m_forward_hooks \u001b[38;5;129;01mor\u001b[39;00m \u001b[38;5;28mself\u001b[39m\u001b[38;5;241m.\u001b[39m_forward_pre_hooks\n\u001b[1;32m   1499\u001b[0m         \u001b[38;5;129;01mor\u001b[39;00m _global_backward_pre_hooks \u001b[38;5;129;01mor\u001b[39;00m _global_backward_hooks\n\u001b[1;32m   1500\u001b[0m         \u001b[38;5;129;01mor\u001b[39;00m _global_forward_hooks \u001b[38;5;129;01mor\u001b[39;00m _global_forward_pre_hooks):\n\u001b[0;32m-> 1501\u001b[0m     \u001b[38;5;28;01mreturn\u001b[39;00m \u001b[43mforward_call\u001b[49m\u001b[43m(\u001b[49m\u001b[38;5;241;43m*\u001b[39;49m\u001b[43margs\u001b[49m\u001b[43m,\u001b[49m\u001b[43m \u001b[49m\u001b[38;5;241;43m*\u001b[39;49m\u001b[38;5;241;43m*\u001b[39;49m\u001b[43mkwargs\u001b[49m\u001b[43m)\u001b[49m\n\u001b[1;32m   1502\u001b[0m \u001b[38;5;66;03m# Do not call functions when jit is used\u001b[39;00m\n\u001b[1;32m   1503\u001b[0m full_backward_hooks, non_full_backward_hooks \u001b[38;5;241m=\u001b[39m [], []\n",
      "File \u001b[0;32m/anaconda/envs/protein_functions_310/lib/python3.10/site-packages/transformers/models/biogpt/modeling_biogpt.py:336\u001b[0m, in \u001b[0;36mBioGptDecoderLayer.forward\u001b[0;34m(self, hidden_states, attention_mask, layer_head_mask, past_key_value, output_attentions, use_cache)\u001b[0m\n\u001b[1;32m    334\u001b[0m hidden_states \u001b[38;5;241m=\u001b[39m \u001b[38;5;28mself\u001b[39m\u001b[38;5;241m.\u001b[39mfinal_layer_norm(hidden_states)\n\u001b[1;32m    335\u001b[0m hidden_states \u001b[38;5;241m=\u001b[39m \u001b[38;5;28mself\u001b[39m\u001b[38;5;241m.\u001b[39mfc1(hidden_states)\n\u001b[0;32m--> 336\u001b[0m hidden_states \u001b[38;5;241m=\u001b[39m \u001b[38;5;28;43mself\u001b[39;49m\u001b[38;5;241;43m.\u001b[39;49m\u001b[43mactivation_fn\u001b[49m\u001b[43m(\u001b[49m\u001b[43mhidden_states\u001b[49m\u001b[43m)\u001b[49m\n\u001b[1;32m    337\u001b[0m hidden_states \u001b[38;5;241m=\u001b[39m nn\u001b[38;5;241m.\u001b[39mfunctional\u001b[38;5;241m.\u001b[39mdropout(hidden_states, p\u001b[38;5;241m=\u001b[39m\u001b[38;5;28mself\u001b[39m\u001b[38;5;241m.\u001b[39mactivation_dropout, training\u001b[38;5;241m=\u001b[39m\u001b[38;5;28mself\u001b[39m\u001b[38;5;241m.\u001b[39mtraining)\n\u001b[1;32m    338\u001b[0m hidden_states \u001b[38;5;241m=\u001b[39m \u001b[38;5;28mself\u001b[39m\u001b[38;5;241m.\u001b[39mfc2(hidden_states)\n",
      "File \u001b[0;32m/anaconda/envs/protein_functions_310/lib/python3.10/site-packages/torch/nn/modules/module.py:1501\u001b[0m, in \u001b[0;36mModule._call_impl\u001b[0;34m(self, *args, **kwargs)\u001b[0m\n\u001b[1;32m   1496\u001b[0m \u001b[38;5;66;03m# If we don't have any hooks, we want to skip the rest of the logic in\u001b[39;00m\n\u001b[1;32m   1497\u001b[0m \u001b[38;5;66;03m# this function, and just call forward.\u001b[39;00m\n\u001b[1;32m   1498\u001b[0m \u001b[38;5;28;01mif\u001b[39;00m \u001b[38;5;129;01mnot\u001b[39;00m (\u001b[38;5;28mself\u001b[39m\u001b[38;5;241m.\u001b[39m_backward_hooks \u001b[38;5;129;01mor\u001b[39;00m \u001b[38;5;28mself\u001b[39m\u001b[38;5;241m.\u001b[39m_backward_pre_hooks \u001b[38;5;129;01mor\u001b[39;00m \u001b[38;5;28mself\u001b[39m\u001b[38;5;241m.\u001b[39m_forward_hooks \u001b[38;5;129;01mor\u001b[39;00m \u001b[38;5;28mself\u001b[39m\u001b[38;5;241m.\u001b[39m_forward_pre_hooks\n\u001b[1;32m   1499\u001b[0m         \u001b[38;5;129;01mor\u001b[39;00m _global_backward_pre_hooks \u001b[38;5;129;01mor\u001b[39;00m _global_backward_hooks\n\u001b[1;32m   1500\u001b[0m         \u001b[38;5;129;01mor\u001b[39;00m _global_forward_hooks \u001b[38;5;129;01mor\u001b[39;00m _global_forward_pre_hooks):\n\u001b[0;32m-> 1501\u001b[0m     \u001b[38;5;28;01mreturn\u001b[39;00m \u001b[43mforward_call\u001b[49m\u001b[43m(\u001b[49m\u001b[38;5;241;43m*\u001b[39;49m\u001b[43margs\u001b[49m\u001b[43m,\u001b[49m\u001b[43m \u001b[49m\u001b[38;5;241;43m*\u001b[39;49m\u001b[38;5;241;43m*\u001b[39;49m\u001b[43mkwargs\u001b[49m\u001b[43m)\u001b[49m\n\u001b[1;32m   1502\u001b[0m \u001b[38;5;66;03m# Do not call functions when jit is used\u001b[39;00m\n\u001b[1;32m   1503\u001b[0m full_backward_hooks, non_full_backward_hooks \u001b[38;5;241m=\u001b[39m [], []\n",
      "File \u001b[0;32m/anaconda/envs/protein_functions_310/lib/python3.10/site-packages/transformers/activations.py:78\u001b[0m, in \u001b[0;36mGELUActivation.forward\u001b[0;34m(self, input)\u001b[0m\n\u001b[1;32m     77\u001b[0m \u001b[38;5;28;01mdef\u001b[39;00m \u001b[38;5;21mforward\u001b[39m(\u001b[38;5;28mself\u001b[39m, \u001b[38;5;28minput\u001b[39m: Tensor) \u001b[38;5;241m-\u001b[39m\u001b[38;5;241m>\u001b[39m Tensor:\n\u001b[0;32m---> 78\u001b[0m     \u001b[38;5;28;01mreturn\u001b[39;00m \u001b[38;5;28;43mself\u001b[39;49m\u001b[38;5;241;43m.\u001b[39;49m\u001b[43mact\u001b[49m\u001b[43m(\u001b[49m\u001b[38;5;28;43minput\u001b[39;49m\u001b[43m)\u001b[49m\n",
      "\u001b[0;31mOutOfMemoryError\u001b[0m: CUDA out of memory. Tried to allocate 470.00 MiB (GPU 0; 79.10 GiB total capacity; 73.97 GiB already allocated; 310.38 MiB free; 77.51 GiB reserved in total by PyTorch) If reserved memory is >> allocated memory try setting max_split_size_mb to avoid fragmentation.  See documentation for Memory Management and PYTORCH_CUDA_ALLOC_CONF"
     ]
    }
   ],
   "source": [
    "import torch.autograd.profiler as profiler\n",
    "import torch\n",
    "from torch.cuda.amp import autocast\n",
    "\n",
    "bs = 1000\n",
    "embeddings = []\n",
    "\n",
    "for i in range(32):\n",
    "    print(i)\n",
    "    with autocast(), torch.set_grad_enabled(True):\n",
    "\n",
    "        embeddings.append(\n",
    "            pool_embeddings(\n",
    "                model(\n",
    "                    input_ids = tokenized_data['input_ids'][:bs,:].to('cuda:0'),\n",
    "                    attention_mask = tokenized_data['attention_mask'][:bs,:].to('cuda:0')).last_hidden_state,\n",
    "                    tokenized_data['attention_mask'][:bs,:].to('cuda:0'),\n",
    "                    method='mean'\n",
    "                    )\n",
    "                )   \n",
    "    print(torch.cuda.memory_allocated('cuda:0'))"
   ]
  },
  {
   "cell_type": "code",
   "execution_count": 36,
   "metadata": {},
   "outputs": [
    {
     "data": {
      "text/plain": [
       "8"
      ]
     },
     "execution_count": 36,
     "metadata": {},
     "output_type": "execute_result"
    }
   ],
   "source": [
    "len(embeddings)"
   ]
  },
  {
   "cell_type": "code",
   "execution_count": null,
   "metadata": {},
   "outputs": [],
   "source": []
  },
  {
   "cell_type": "code",
   "execution_count": 10,
   "metadata": {},
   "outputs": [
    {
     "data": {
      "text/plain": [
       "4"
      ]
     },
     "execution_count": 10,
     "metadata": {},
     "output_type": "execute_result"
    }
   ],
   "source": [
    "len(embeddings)"
   ]
  },
  {
   "cell_type": "code",
   "execution_count": 14,
   "metadata": {},
   "outputs": [
    {
     "data": {
      "text/plain": [
       "0.02959183673469388"
      ]
     },
     "execution_count": 14,
     "metadata": {},
     "output_type": "execute_result"
    }
   ],
   "source": [
    "81.2/2744"
   ]
  },
  {
   "cell_type": "code",
   "execution_count": 16,
   "metadata": {},
   "outputs": [
    {
     "data": {
      "text/plain": [
       "68"
      ]
     },
     "execution_count": 16,
     "metadata": {},
     "output_type": "execute_result"
    }
   ],
   "source": [
    "len(embeddings)"
   ]
  },
  {
   "cell_type": "code",
   "execution_count": 12,
   "metadata": {},
   "outputs": [
    {
     "data": {
      "text/plain": [
       "83420813312"
      ]
     },
     "execution_count": 12,
     "metadata": {},
     "output_type": "execute_result"
    }
   ],
   "source": [
    "torch.cuda.memory_allocated('cuda:0')"
   ]
  },
  {
   "cell_type": "code",
   "execution_count": 23,
   "metadata": {},
   "outputs": [],
   "source": []
  },
  {
   "cell_type": "code",
   "execution_count": 24,
   "metadata": {},
   "outputs": [
    {
     "data": {
      "text/plain": [
       "12202863616"
      ]
     },
     "execution_count": 24,
     "metadata": {},
     "output_type": "execute_result"
    }
   ],
   "source": [
    "torch.cuda.memory_allocated('cuda:0')"
   ]
  },
  {
   "cell_type": "code",
   "execution_count": 10,
   "metadata": {},
   "outputs": [
    {
     "data": {
      "text/plain": [
       "11.847543808"
      ]
     },
     "execution_count": 10,
     "metadata": {},
     "output_type": "execute_result"
    }
   ],
   "source": [
    "(13235055616-1387511808)/1e9"
   ]
  },
  {
   "cell_type": "code",
   "execution_count": 6,
   "metadata": {},
   "outputs": [
    {
     "name": "stderr",
     "output_type": "stream",
     "text": [
      "STAGE:2023-12-11 12:37:18 3191885:3191885 ActivityProfilerController.cpp:311] Completed Stage: Warm Up\n",
      "STAGE:2023-12-11 12:37:46 3191885:3191885 ActivityProfilerController.cpp:317] Completed Stage: Collection\n",
      "STAGE:2023-12-11 12:37:46 3191885:3191885 ActivityProfilerController.cpp:321] Completed Stage: Post Processing\n"
     ]
    }
   ],
   "source": [
    "import torch.autograd.profiler as profiler\n",
    "import torch\n",
    "with profiler.profile(with_stack=True, profile_memory=True) as prof:\n",
    "\n",
    "    outs = []\n",
    "    with torch.set_grad_enabled(True):\n",
    "        for i in range(13):\n",
    "            print(i)\n",
    "            out = model(input_ids = tokenized_data['input_ids'].to('cuda:0'),attention_mask = tokenized_data['attention_mask'].to('cuda:0')).last_hidden_state\n",
    "            sequence_embedding = pool_embeddings(out,tokenized_data['attention_mask'].to('cuda:0'),method='last_token')\n",
    "            outs.append(sequence_embedding)"
   ]
  },
  {
   "cell_type": "code",
   "execution_count": 8,
   "metadata": {},
   "outputs": [
    {
     "name": "stdout",
     "output_type": "stream",
     "text": [
      "GPU memory occupied: 63014 MB.\n"
     ]
    },
    {
     "data": {
      "text/plain": [
       "53233038336"
      ]
     },
     "execution_count": 8,
     "metadata": {},
     "output_type": "execute_result"
    }
   ],
   "source": [
    "print_gpu_utilization()\n",
    "torch.cuda.memory_allocated('cuda:0')"
   ]
  },
  {
   "cell_type": "code",
   "execution_count": 7,
   "metadata": {},
   "outputs": [
    {
     "name": "stdout",
     "output_type": "stream",
     "text": [
      "-------------------------------------------------  ------------  ------------  ------------  ------------  ------------  ------------  ------------  ------------  ------------  ------------  \n",
      "                                             Name    Self CPU %      Self CPU   CPU total %     CPU total  CPU time avg       CPU Mem  Self CPU Mem      CUDA Mem  Self CUDA Mem    # of Calls  \n",
      "-------------------------------------------------  ------------  ------------  ------------  ------------  ------------  ------------  ------------  ------------  ------------  ------------  \n",
      "                                        aten::add         0.04%      12.096ms         0.15%      41.053ms      41.552us           0 b           0 b     613.19 Gb     613.19 Gb           988  \n",
      "                                        aten::bmm         0.04%      10.209ms         0.08%      21.617ms      34.643us           0 b           0 b     548.44 Gb     548.44 Gb           624  \n",
      "                                      aten::addmm         0.21%      58.600ms         2.97%     809.197ms     432.263us           0 b           0 b     548.45 Gb     546.82 Gb          1872  \n",
      "                                   aten::_softmax         0.01%       2.908ms         0.02%       4.091ms      13.112us           0 b           0 b     487.50 Gb     487.50 Gb           312  \n",
      "                                      aten::empty         0.06%      16.771ms         0.08%      21.097ms       4.140us           0 b           0 b     371.52 Gb     371.52 Gb          5096  \n",
      "                                       aten::gelu         0.01%       3.600ms         0.02%       6.691ms      21.446us           0 b           0 b     243.75 Gb     243.75 Gb           312  \n",
      "                                        aten::mul         0.02%       4.802ms         0.03%       7.729ms      21.234us           0 b           0 b      68.56 Gb      68.56 Gb           364  \n",
      "                                 aten::contiguous         0.01%       1.925ms         0.07%      20.401ms      21.796us           0 b           0 b     182.81 Gb      16.21 Gb           936  \n",
      "                                 aten::empty_like         0.01%       1.707ms         0.03%       7.913ms       6.275us           0 b           0 b     245.02 Gb      15.14 Gb          1261  \n",
      "                                    aten::softmax         0.00%     605.000us         0.02%       4.638ms      14.865us           0 b           0 b     487.50 Gb      12.50 Gb           312  \n",
      "                                         aten::mm         0.00%       1.055ms         0.00%       1.345ms      25.865us           0 b           0 b       5.10 Gb       5.10 Gb            52  \n",
      "                                    aten::resize_         0.00%     169.000us         0.00%     441.000us      11.308us           0 b           0 b       4.88 Gb       4.88 Gb            39  \n",
      "                              aten::empty_strided         0.01%       1.421ms         0.01%       2.021ms      31.092us           0 b           0 b       1.60 Gb       1.60 Gb            65  \n",
      "                                        aten::sub         0.00%     563.000us         0.00%     921.000us      23.615us           0 b           0 b       1.27 Gb       1.27 Gb            39  \n",
      "                                         aten::to         0.00%     328.000us        96.38%       26.281s     183.783ms           0 b           0 b       1.60 Gb     225.78 Mb           143  \n",
      "                               aten::index_select         0.00%     471.000us         0.01%       3.459ms     133.038us           0 b           0 b       5.08 Gb     200.00 Mb            26  \n",
      "                                 aten::layer_norm         0.01%       1.723ms         0.07%      20.042ms      31.463us           0 b           0 b     124.47 Gb      14.26 Mb           637  \n",
      "                                     aten::cumsum         0.00%     271.000us         0.01%       1.578ms     121.385us           0 b           0 b       5.08 Mb       5.08 Mb            13  \n",
      "                                     aten::gather         0.00%     352.000us         0.00%     465.000us      35.769us           0 b           0 b       5.08 Mb       5.08 Mb            13  \n",
      "                                         aten::lt         0.00%     235.000us         0.01%       1.604ms     123.385us           0 b           0 b       3.25 Mb       3.25 Mb            13  \n",
      "                                        aten::sum         0.00%     473.000us         0.00%     713.000us      54.846us           0 b           0 b      13.00 Kb      13.00 Kb            13  \n",
      "                                     aten::arange         0.00%     187.000us         0.00%     564.000us      21.692us           0 b           0 b     104.00 Kb       8.00 Kb            26  \n",
      "                                   aten::_to_copy         0.00%     247.000us        96.38%       26.281s     404.320ms           0 b           0 b       1.60 Gb           0 b            65  \n",
      "                                      aten::copy_         0.04%      10.441ms        96.43%       26.294s      19.829ms           0 b           0 b           0 b           0 b          1326  \n",
      "                                  cudaMemcpyAsync         0.01%       1.696ms         0.01%       1.696ms      32.615us           0 b           0 b           0 b           0 b            52  \n",
      "                            cudaStreamSynchronize        96.37%       26.276s        96.37%       26.276s     673.747ms           0 b           0 b           0 b           0 b            39  \n",
      "                            cudaStreamIsCapturing         0.00%      65.000us         0.00%      65.000us       0.942us           0 b           0 b           0 b           0 b            69  \n",
      "                                       cudaMalloc         0.16%      43.874ms         0.16%      43.874ms     609.361us           0 b           0 b           0 b           0 b            72  \n",
      "                                  aten::embedding         0.00%     218.000us         0.01%       3.850ms     148.077us           0 b           0 b       5.08 Gb           0 b            26  \n",
      "                                    aten::reshape         0.01%       2.961ms         0.04%      10.966ms      10.815us           0 b           0 b      60.94 Gb           0 b          1014  \n",
      "                             aten::_reshape_alias         0.00%     510.000us         0.00%     510.000us       0.726us           0 b           0 b           0 b           0 b           702  \n",
      "                                       aten::view         0.02%       6.039ms         0.02%       6.039ms       0.834us           0 b           0 b           0 b           0 b          7241  \n",
      "                                    aten::type_as         0.00%      13.000us         0.00%      13.000us       1.000us           0 b           0 b           0 b           0 b            13  \n",
      "                                      aten::slice         0.00%     190.000us         0.00%     211.000us       2.705us           0 b           0 b           0 b           0 b            78  \n",
      "                                 aten::as_strided         0.00%       1.343ms         0.00%       1.343ms       0.362us           0 b           0 b           0 b           0 b          3705  \n",
      "                                       aten::full         0.00%      61.000us         0.00%     317.000us      24.385us           0 b           0 b      13.00 Mb           0 b            13  \n",
      "                                      aten::fill_         0.00%     124.000us         0.00%     204.000us      15.692us           0 b           0 b           0 b           0 b            13  \n",
      "                               aten::masked_fill_         0.00%     219.000us         0.00%     314.000us      12.077us           0 b           0 b           0 b           0 b            26  \n",
      "                                  aten::unsqueeze         0.00%     201.000us         0.00%     234.000us       3.600us           0 b           0 b           0 b           0 b            65  \n",
      "                                     aten::expand         0.00%     154.000us         0.00%     164.000us       4.205us           0 b           0 b           0 b           0 b            39  \n",
      "                                       aten::rsub         0.00%      74.000us         0.00%     486.000us      37.385us           0 b           8 b       1.27 Gb           0 b            13  \n",
      "                                aten::masked_fill         0.00%      55.000us         0.00%     697.000us      53.615us           0 b           0 b       1.27 Gb           0 b            13  \n",
      "                                    aten::dropout         0.00%       6.000us         0.00%       6.000us       0.005us           0 b           0 b           0 b           0 b          1261  \n",
      "                                     aten::linear         0.04%      10.491ms         3.05%     830.537ms     443.663us           0 b           0 b     548.45 Gb           0 b          1872  \n",
      "                                          aten::t         0.02%       4.155ms         0.03%       7.558ms       4.037us           0 b           0 b           0 b           0 b          1872  \n",
      "                                  aten::transpose         0.02%       6.041ms         0.03%       7.233ms       2.076us           0 b           0 b           0 b           0 b          3484  \n",
      "                                         cudaFree         2.67%     729.329ms         2.67%     729.329ms     364.664ms           0 b           0 b           0 b           0 b             2  \n",
      "                           cudaDeviceGetAttribute         0.00%       1.000us         0.00%       1.000us       0.071us           0 b           0 b           0 b           0 b            14  \n",
      "                             cudaGetSymbolAddress         0.00%       1.000us         0.00%       1.000us       1.000us           0 b           0 b           0 b           0 b             1  \n",
      "    cudaOccupancyMaxActiveBlocksPerMultiprocessor         0.01%       1.835ms         0.01%       1.835ms       0.835us           0 b           0 b           0 b           0 b          2198  \n",
      "-------------------------------------------------  ------------  ------------  ------------  ------------  ------------  ------------  ------------  ------------  ------------  ------------  \n",
      "Self CPU time total: 27.267s\n",
      "\n"
     ]
    }
   ],
   "source": [
    "print(prof.key_averages(group_by_stack_n=5).table(sort_by='self_cuda_memory_usage', row_limit=50))\n"
   ]
  },
  {
   "cell_type": "code",
   "execution_count": 7,
   "metadata": {},
   "outputs": [
    {
     "name": "stdout",
     "output_type": "stream",
     "text": [
      "-------------------------------------------------  ------------  ------------  ------------  ------------  ------------  ------------  ------------  ------------  ------------  ------------  \n",
      "                                             Name    Self CPU %      Self CPU   CPU total %     CPU total  CPU time avg       CPU Mem  Self CPU Mem      CUDA Mem  Self CUDA Mem    # of Calls  \n",
      "-------------------------------------------------  ------------  ------------  ------------  ------------  ------------  ------------  ------------  ------------  ------------  ------------  \n",
      "                            cudaStreamSynchronize        72.84%        2.145s        72.84%        2.145s     715.110ms           0 b           0 b           0 b           0 b             3  \n",
      "                                         cudaFree        24.41%     718.970ms        24.41%     718.970ms     359.485ms           0 b           0 b           0 b           0 b             2  \n",
      "                                         aten::to         0.98%      28.903ms        74.05%        2.181s     198.282ms           0 b           0 b     127.17 Mb           0 b            11  \n",
      "                                      aten::addmm         0.42%      12.407ms        24.90%     733.406ms       5.093ms           0 b           0 b      42.20 Gb      42.05 Gb           144  \n",
      "                                       cudaMalloc         0.38%      11.055ms         0.38%      11.055ms     460.625us           0 b           0 b           0 b           0 b            24  \n",
      "-------------------------------------------------  ------------  ------------  ------------  ------------  ------------  ------------  ------------  ------------  ------------  ------------  \n",
      "Self CPU time total: 2.945s\n",
      "\n"
     ]
    }
   ],
   "source": [
    "print(prof.key_averages(group_by_stack_n=5).table(sort_by='self_cpu_time_total', row_limit=5))\n"
   ]
  },
  {
   "cell_type": "code",
   "execution_count": 11,
   "metadata": {},
   "outputs": [
    {
     "data": {
      "text/plain": [
       "5600207872"
      ]
     },
     "execution_count": 11,
     "metadata": {},
     "output_type": "execute_result"
    }
   ],
   "source": [
    "torch.cuda.memory_allocated('cuda:0')"
   ]
  },
  {
   "cell_type": "code",
   "execution_count": 9,
   "metadata": {},
   "outputs": [
    {
     "data": {
      "text/plain": [
       "3.4864001560460185"
      ]
     },
     "execution_count": 9,
     "metadata": {},
     "output_type": "execute_result"
    }
   ],
   "source": [
    "5600617472/1606418432"
   ]
  },
  {
   "cell_type": "code",
   "execution_count": 7,
   "metadata": {},
   "outputs": [
    {
     "data": {
      "text/plain": [
       "5600617472"
      ]
     },
     "execution_count": 7,
     "metadata": {},
     "output_type": "execute_result"
    }
   ],
   "source": [
    "torch.cuda.memory_allocated('cuda:0')"
   ]
  },
  {
   "cell_type": "code",
   "execution_count": 9,
   "metadata": {},
   "outputs": [
    {
     "data": {
      "text/plain": [
       "820224"
      ]
     },
     "execution_count": 9,
     "metadata": {},
     "output_type": "execute_result"
    }
   ],
   "source": [
    "5600617472 - 5599797248"
   ]
  },
  {
   "cell_type": "code",
   "execution_count": 10,
   "metadata": {},
   "outputs": [
    {
     "name": "stdout",
     "output_type": "stream",
     "text": [
      "GPU memory occupied: 17398 MB.\n"
     ]
    }
   ],
   "source": [
    "print_gpu_utilization()"
   ]
  },
  {
   "cell_type": "code",
   "execution_count": 92,
   "metadata": {},
   "outputs": [],
   "source": [
    "sequence_embedding = pool_embeddings(out.last_hidden_state,tokenized_data['attention_mask'].to('cuda:0'),method='all')"
   ]
  },
  {
   "cell_type": "code",
   "execution_count": 93,
   "metadata": {},
   "outputs": [],
   "source": [
    "raw_attn_scorer = nn.Linear(sequence_embedding.shape[-1],1, bias=True).to('cuda:0')\n"
   ]
  },
  {
   "cell_type": "code",
   "execution_count": 94,
   "metadata": {},
   "outputs": [],
   "source": [
    " \n",
    "raw_attn_scores = raw_attn_scorer(sequence_embedding).squeeze(-1)\n",
    "softmax_mask = torch.where(tokenized_data['attention_mask'].to('cuda:0')==0,-torch.inf,tokenized_data['attention_mask'].to('cuda:0'))\n",
    "attn_weights = torch.softmax(raw_attn_scores+softmax_mask,dim=-1)\n",
    "sequence_embedding_ = (sequence_embedding*attn_weights.unsqueeze(-1)).sum(dim=1)"
   ]
  },
  {
   "cell_type": "code",
   "execution_count": 95,
   "metadata": {},
   "outputs": [
    {
     "data": {
      "text/plain": [
       "tensor(-24.2735, device='cuda:0', grad_fn=<SumBackward0>)"
      ]
     },
     "execution_count": 95,
     "metadata": {},
     "output_type": "execute_result"
    }
   ],
   "source": [
    "sequence_embedding_.sum()"
   ]
  },
  {
   "cell_type": "code",
   "execution_count": 96,
   "metadata": {},
   "outputs": [],
   "source": [
    " \n",
    "raw_attn_scores = raw_attn_scorer(sequence_embedding).squeeze(-1)\n",
    "\n",
    "#Masked scored for softmax\n",
    "raw_attn_scores = raw_attn_scores.masked_fill(tokenized_data['attention_mask'].to('cuda:0')==0,float('-inf'))\n",
    "\n",
    "#softmax_mask = torch.where(tokenized_data['attention_mask'].to('cuda:0')==0,-torch.inf,tokenized_data['attention_mask'].to('cuda:0'))\n",
    "attn_weights = torch.softmax(raw_attn_scores+softmax_mask,dim=-1)\n",
    "sequence_embedding___ = torch.bmm(attn_weights.unsqueeze(1),sequence_embedding)"
   ]
  },
  {
   "cell_type": "code",
   "execution_count": 97,
   "metadata": {},
   "outputs": [
    {
     "data": {
      "text/plain": [
       "tensor(-4.6718e-06, device='cuda:0', grad_fn=<SumBackward0>)"
      ]
     },
     "execution_count": 97,
     "metadata": {},
     "output_type": "execute_result"
    }
   ],
   "source": [
    "(sequence_embedding_-sequence_embedding___.squeeze(1)).sum()"
   ]
  },
  {
   "cell_type": "code",
   "execution_count": 98,
   "metadata": {},
   "outputs": [
    {
     "data": {
      "text/plain": [
       "tensor(-24.2735, device='cuda:0', grad_fn=<SumBackward0>)"
      ]
     },
     "execution_count": 98,
     "metadata": {},
     "output_type": "execute_result"
    }
   ],
   "source": [
    "sequence_embedding___.sum()"
   ]
  },
  {
   "cell_type": "code",
   "execution_count": 347,
   "metadata": {},
   "outputs": [
    {
     "data": {
      "text/plain": [
       "tensor([0.0223, 0.0329, 0.0190, 0.0210, 0.0325, 0.0150, 0.0556, 0.0831, 0.3534,\n",
       "        0.0090, 0.0100, 0.0238, 0.0070, 0.0072, 0.0189, 0.0219, 0.0217, 0.0133,\n",
       "        0.0118, 0.0154, 0.0192, 0.0197, 0.0158, 0.0951, 0.0076, 0.0084, 0.0092,\n",
       "        0.0301], device='cuda:0', grad_fn=<SoftmaxBackward0>)"
      ]
     },
     "execution_count": 347,
     "metadata": {},
     "output_type": "execute_result"
    }
   ],
   "source": [
    "torch.softmax(raw_attn_scores[0][:28],dim=0)"
   ]
  },
  {
   "cell_type": "code",
   "execution_count": 340,
   "metadata": {},
   "outputs": [
    {
     "data": {
      "text/plain": [
       "tensor([[ 0.3822,  0.7712,  0.2224,  ..., -0.7430, -0.7430, -0.7430],\n",
       "        [ 0.3822, -0.0762,  0.4468,  ..., -0.3420, -0.3420, -0.3420]],\n",
       "       device='cuda:0', grad_fn=<SqueezeBackward1>)"
      ]
     },
     "execution_count": 340,
     "metadata": {},
     "output_type": "execute_result"
    }
   ],
   "source": [
    "raw_attn_scores"
   ]
  },
  {
   "cell_type": "code",
   "execution_count": null,
   "metadata": {},
   "outputs": [],
   "source": [
    "torch.softmax(raw_attn_scores+softmax_mask,dim=-1)"
   ]
  },
  {
   "cell_type": "code",
   "execution_count": 250,
   "metadata": {},
   "outputs": [
    {
     "data": {
      "text/plain": [
       "tensor([[-1.3425,  0.1925,  0.4544,  ..., -0.0675,  0.1730,  0.8976],\n",
       "        [-0.6936, -0.4513,  0.6367,  ..., -1.5723,  1.7188,  0.1801]],\n",
       "       device='cuda:0', grad_fn=<DivBackward0>)"
      ]
     },
     "execution_count": 250,
     "metadata": {},
     "output_type": "execute_result"
    }
   ],
   "source": [
    "def compute_mean_hidden_states(last_hidden_states, attention_mask):\n",
    "    \"\"\"Compute the mean of the last hidden state for only the relevant tokens.\"\"\"\n",
    "    # Compute the number of relevant tokens for each sequence\n",
    "    num_relevant_tokens = attention_mask.sum(dim=1, keepdim=True)\n",
    "    # Mask the last_hidden_state tensor and compute the sum\n",
    "    sum_hidden_states = (last_hidden_states *\n",
    "                         attention_mask.unsqueeze(-1)).sum(dim=1)\n",
    "    # Compute the mean of the last hidden state\n",
    "    return sum_hidden_states / num_relevant_tokens\n",
    "\n",
    "compute_mean_hidden_states(out.last_hidden_state,tokenized_data['attention_mask'].to('cuda:0'))\n"
   ]
  },
  {
   "cell_type": "code",
   "execution_count": 268,
   "metadata": {},
   "outputs": [
    {
     "data": {
      "text/plain": [
       "torch.Size([2, 512, 2])"
      ]
     },
     "execution_count": 268,
     "metadata": {},
     "output_type": "execute_result"
    }
   ],
   "source": [
    "score(out.last_hidden_state).shape"
   ]
  },
  {
   "cell_type": "code",
   "execution_count": 247,
   "metadata": {},
   "outputs": [
    {
     "data": {
      "text/plain": [
       "tensor([[ 0.9007, -0.7836],\n",
       "        [-0.5462, -1.2105]], device='cuda:0', grad_fn=<IndexBackward0>)"
      ]
     },
     "execution_count": 247,
     "metadata": {},
     "output_type": "execute_result"
    }
   ],
   "source": [
    "linear_output = score(out.last_hidden_state)\n",
    "idxs = (torch.ne(tokenized_data['input_ids'].to('cuda:0'), model.config.pad_token_id).sum(-1) - 1).to('cuda:0')\n",
    "linear_output[torch.arange(2, device='cuda:0'), idxs.squeeze()]\n"
   ]
  },
  {
   "cell_type": "code",
   "execution_count": 8,
   "metadata": {},
   "outputs": [
    {
     "name": "stdout",
     "output_type": "stream",
     "text": [
      "Model on cuda: True\n"
     ]
    },
    {
     "ename": "ValueError",
     "evalue": "The model did not return a loss from the inputs, only the following keys: last_hidden_state,past_key_values. For reference, the inputs it received are input_ids,attention_mask.",
     "output_type": "error",
     "traceback": [
      "\u001b[0;31m---------------------------------------------------------------------------\u001b[0m",
      "\u001b[0;31mValueError\u001b[0m                                Traceback (most recent call last)",
      "\u001b[1;32m/home/samirchar/ProteinFunctions/notebooks/Explore Freezing Layers.ipynb Cell 8\u001b[0m line \u001b[0;36m2\n\u001b[1;32m     <a href='vscode-notebook-cell://ssh-remote%2Bbastion_tunnel/home/samirchar/ProteinFunctions/notebooks/Explore%20Freezing%20Layers.ipynb#X16sdnNjb2RlLXJlbW90ZQ%3D%3D?line=11'>12</a>\u001b[0m training_args \u001b[39m=\u001b[39m TrainingArguments(\n\u001b[1;32m     <a href='vscode-notebook-cell://ssh-remote%2Bbastion_tunnel/home/samirchar/ProteinFunctions/notebooks/Explore%20Freezing%20Layers.ipynb#X16sdnNjb2RlLXJlbW90ZQ%3D%3D?line=12'>13</a>\u001b[0m     per_device_train_batch_size\u001b[39m=\u001b[39mbatch_size, \n\u001b[1;32m     <a href='vscode-notebook-cell://ssh-remote%2Bbastion_tunnel/home/samirchar/ProteinFunctions/notebooks/Explore%20Freezing%20Layers.ipynb#X16sdnNjb2RlLXJlbW90ZQ%3D%3D?line=13'>14</a>\u001b[0m     remove_unused_columns\u001b[39m=\u001b[39m\u001b[39mFalse\u001b[39;00m,\n\u001b[0;32m   (...)\u001b[0m\n\u001b[1;32m     <a href='vscode-notebook-cell://ssh-remote%2Bbastion_tunnel/home/samirchar/ProteinFunctions/notebooks/Explore%20Freezing%20Layers.ipynb#X16sdnNjb2RlLXJlbW90ZQ%3D%3D?line=17'>18</a>\u001b[0m     \u001b[39m*\u001b[39m\u001b[39m*\u001b[39mdefault_args\n\u001b[1;32m     <a href='vscode-notebook-cell://ssh-remote%2Bbastion_tunnel/home/samirchar/ProteinFunctions/notebooks/Explore%20Freezing%20Layers.ipynb#X16sdnNjb2RlLXJlbW90ZQ%3D%3D?line=18'>19</a>\u001b[0m )\n\u001b[1;32m     <a href='vscode-notebook-cell://ssh-remote%2Bbastion_tunnel/home/samirchar/ProteinFunctions/notebooks/Explore%20Freezing%20Layers.ipynb#X16sdnNjb2RlLXJlbW90ZQ%3D%3D?line=19'>20</a>\u001b[0m trainer \u001b[39m=\u001b[39m Trainer(model\u001b[39m=\u001b[39mtest_model, args\u001b[39m=\u001b[39mtraining_args, train_dataset\u001b[39m=\u001b[39mdummy_dataset)\n\u001b[0;32m---> <a href='vscode-notebook-cell://ssh-remote%2Bbastion_tunnel/home/samirchar/ProteinFunctions/notebooks/Explore%20Freezing%20Layers.ipynb#X16sdnNjb2RlLXJlbW90ZQ%3D%3D?line=20'>21</a>\u001b[0m result \u001b[39m=\u001b[39m trainer\u001b[39m.\u001b[39;49mtrain()\n\u001b[1;32m     <a href='vscode-notebook-cell://ssh-remote%2Bbastion_tunnel/home/samirchar/ProteinFunctions/notebooks/Explore%20Freezing%20Layers.ipynb#X16sdnNjb2RlLXJlbW90ZQ%3D%3D?line=21'>22</a>\u001b[0m print_summary(result)\n",
      "File \u001b[0;32m/anaconda/envs/protein_functions_310/lib/python3.10/site-packages/transformers/trainer.py:1555\u001b[0m, in \u001b[0;36mTrainer.train\u001b[0;34m(self, resume_from_checkpoint, trial, ignore_keys_for_eval, **kwargs)\u001b[0m\n\u001b[1;32m   1553\u001b[0m         hf_hub_utils\u001b[39m.\u001b[39menable_progress_bars()\n\u001b[1;32m   1554\u001b[0m \u001b[39melse\u001b[39;00m:\n\u001b[0;32m-> 1555\u001b[0m     \u001b[39mreturn\u001b[39;00m inner_training_loop(\n\u001b[1;32m   1556\u001b[0m         args\u001b[39m=\u001b[39;49margs,\n\u001b[1;32m   1557\u001b[0m         resume_from_checkpoint\u001b[39m=\u001b[39;49mresume_from_checkpoint,\n\u001b[1;32m   1558\u001b[0m         trial\u001b[39m=\u001b[39;49mtrial,\n\u001b[1;32m   1559\u001b[0m         ignore_keys_for_eval\u001b[39m=\u001b[39;49mignore_keys_for_eval,\n\u001b[1;32m   1560\u001b[0m     )\n",
      "File \u001b[0;32m/anaconda/envs/protein_functions_310/lib/python3.10/site-packages/transformers/trainer.py:1837\u001b[0m, in \u001b[0;36mTrainer._inner_training_loop\u001b[0;34m(self, batch_size, args, resume_from_checkpoint, trial, ignore_keys_for_eval)\u001b[0m\n\u001b[1;32m   1834\u001b[0m     \u001b[39mself\u001b[39m\u001b[39m.\u001b[39mcontrol \u001b[39m=\u001b[39m \u001b[39mself\u001b[39m\u001b[39m.\u001b[39mcallback_handler\u001b[39m.\u001b[39mon_step_begin(args, \u001b[39mself\u001b[39m\u001b[39m.\u001b[39mstate, \u001b[39mself\u001b[39m\u001b[39m.\u001b[39mcontrol)\n\u001b[1;32m   1836\u001b[0m \u001b[39mwith\u001b[39;00m \u001b[39mself\u001b[39m\u001b[39m.\u001b[39maccelerator\u001b[39m.\u001b[39maccumulate(model):\n\u001b[0;32m-> 1837\u001b[0m     tr_loss_step \u001b[39m=\u001b[39m \u001b[39mself\u001b[39;49m\u001b[39m.\u001b[39;49mtraining_step(model, inputs)\n\u001b[1;32m   1839\u001b[0m \u001b[39mif\u001b[39;00m (\n\u001b[1;32m   1840\u001b[0m     args\u001b[39m.\u001b[39mlogging_nan_inf_filter\n\u001b[1;32m   1841\u001b[0m     \u001b[39mand\u001b[39;00m \u001b[39mnot\u001b[39;00m is_torch_tpu_available()\n\u001b[1;32m   1842\u001b[0m     \u001b[39mand\u001b[39;00m (torch\u001b[39m.\u001b[39misnan(tr_loss_step) \u001b[39mor\u001b[39;00m torch\u001b[39m.\u001b[39misinf(tr_loss_step))\n\u001b[1;32m   1843\u001b[0m ):\n\u001b[1;32m   1844\u001b[0m     \u001b[39m# if loss is nan or inf simply add the average of previous logged losses\u001b[39;00m\n\u001b[1;32m   1845\u001b[0m     tr_loss \u001b[39m+\u001b[39m\u001b[39m=\u001b[39m tr_loss \u001b[39m/\u001b[39m (\u001b[39m1\u001b[39m \u001b[39m+\u001b[39m \u001b[39mself\u001b[39m\u001b[39m.\u001b[39mstate\u001b[39m.\u001b[39mglobal_step \u001b[39m-\u001b[39m \u001b[39mself\u001b[39m\u001b[39m.\u001b[39m_globalstep_last_logged)\n",
      "File \u001b[0;32m/anaconda/envs/protein_functions_310/lib/python3.10/site-packages/transformers/trainer.py:2682\u001b[0m, in \u001b[0;36mTrainer.training_step\u001b[0;34m(self, model, inputs)\u001b[0m\n\u001b[1;32m   2679\u001b[0m     \u001b[39mreturn\u001b[39;00m loss_mb\u001b[39m.\u001b[39mreduce_mean()\u001b[39m.\u001b[39mdetach()\u001b[39m.\u001b[39mto(\u001b[39mself\u001b[39m\u001b[39m.\u001b[39margs\u001b[39m.\u001b[39mdevice)\n\u001b[1;32m   2681\u001b[0m \u001b[39mwith\u001b[39;00m \u001b[39mself\u001b[39m\u001b[39m.\u001b[39mcompute_loss_context_manager():\n\u001b[0;32m-> 2682\u001b[0m     loss \u001b[39m=\u001b[39m \u001b[39mself\u001b[39;49m\u001b[39m.\u001b[39;49mcompute_loss(model, inputs)\n\u001b[1;32m   2684\u001b[0m \u001b[39mif\u001b[39;00m \u001b[39mself\u001b[39m\u001b[39m.\u001b[39margs\u001b[39m.\u001b[39mn_gpu \u001b[39m>\u001b[39m \u001b[39m1\u001b[39m:\n\u001b[1;32m   2685\u001b[0m     loss \u001b[39m=\u001b[39m loss\u001b[39m.\u001b[39mmean()  \u001b[39m# mean() to average on multi-gpu parallel training\u001b[39;00m\n",
      "File \u001b[0;32m/anaconda/envs/protein_functions_310/lib/python3.10/site-packages/transformers/trainer.py:2724\u001b[0m, in \u001b[0;36mTrainer.compute_loss\u001b[0;34m(self, model, inputs, return_outputs)\u001b[0m\n\u001b[1;32m   2722\u001b[0m \u001b[39melse\u001b[39;00m:\n\u001b[1;32m   2723\u001b[0m     \u001b[39mif\u001b[39;00m \u001b[39misinstance\u001b[39m(outputs, \u001b[39mdict\u001b[39m) \u001b[39mand\u001b[39;00m \u001b[39m\"\u001b[39m\u001b[39mloss\u001b[39m\u001b[39m\"\u001b[39m \u001b[39mnot\u001b[39;00m \u001b[39min\u001b[39;00m outputs:\n\u001b[0;32m-> 2724\u001b[0m         \u001b[39mraise\u001b[39;00m \u001b[39mValueError\u001b[39;00m(\n\u001b[1;32m   2725\u001b[0m             \u001b[39m\"\u001b[39m\u001b[39mThe model did not return a loss from the inputs, only the following keys: \u001b[39m\u001b[39m\"\u001b[39m\n\u001b[1;32m   2726\u001b[0m             \u001b[39mf\u001b[39m\u001b[39m\"\u001b[39m\u001b[39m{\u001b[39;00m\u001b[39m'\u001b[39m\u001b[39m,\u001b[39m\u001b[39m'\u001b[39m\u001b[39m.\u001b[39mjoin(outputs\u001b[39m.\u001b[39mkeys())\u001b[39m}\u001b[39;00m\u001b[39m. For reference, the inputs it received are \u001b[39m\u001b[39m{\u001b[39;00m\u001b[39m'\u001b[39m\u001b[39m,\u001b[39m\u001b[39m'\u001b[39m\u001b[39m.\u001b[39mjoin(inputs\u001b[39m.\u001b[39mkeys())\u001b[39m}\u001b[39;00m\u001b[39m.\u001b[39m\u001b[39m\"\u001b[39m\n\u001b[1;32m   2727\u001b[0m         )\n\u001b[1;32m   2728\u001b[0m     \u001b[39m# We don't use .loss here since the model may return tuples instead of ModelOutput.\u001b[39;00m\n\u001b[1;32m   2729\u001b[0m     loss \u001b[39m=\u001b[39m outputs[\u001b[39m\"\u001b[39m\u001b[39mloss\u001b[39m\u001b[39m\"\u001b[39m] \u001b[39mif\u001b[39;00m \u001b[39misinstance\u001b[39m(outputs, \u001b[39mdict\u001b[39m) \u001b[39melse\u001b[39;00m outputs[\u001b[39m0\u001b[39m]\n",
      "\u001b[0;31mValueError\u001b[0m: The model did not return a loss from the inputs, only the following keys: last_hidden_state,past_key_values. For reference, the inputs it received are input_ids,attention_mask."
     ]
    }
   ],
   "source": [
    "from transformers import TrainingArguments, Trainer, logging\n",
    "\n",
    "logging.set_verbosity_error()\n",
    "\n",
    "\n",
    "test_model = model\n",
    "\n",
    "# Check if model is on cuda\n",
    "print(f\"Model on cuda: {next(test_model.parameters()).is_cuda}\")\n",
    "\n",
    "batch_size = 40\n",
    "training_args = TrainingArguments(\n",
    "    per_device_train_batch_size=batch_size, \n",
    "    remove_unused_columns=False,\n",
    "    fp16=True,\n",
    "    gradient_accumulation_steps=1,\n",
    "    gradient_checkpointing=False,\n",
    "    **default_args\n",
    ")\n",
    "trainer = Trainer(model=test_model, args=training_args, train_dataset=dummy_dataset)\n",
    "result = trainer.train()\n",
    "print_summary(result)\n",
    "\n"
   ]
  },
  {
   "cell_type": "markdown",
   "metadata": {},
   "source": [
    "train full model: memory 62150 MB\n",
    "\n",
    "train last layer: memory 16900 MB\n",
    "\n",
    "train last 2 layers: memory 18820  MB\n",
    "\n",
    "train last 3 layers: memory 20620  MB\n",
    "\n",
    "train last 4 layers: memory 22582  MB\n",
    "\n",
    "train full model + lora: memory 54080 MB"
   ]
  },
  {
   "cell_type": "code",
   "execution_count": null,
   "metadata": {},
   "outputs": [],
   "source": []
  },
  {
   "cell_type": "markdown",
   "metadata": {},
   "source": [
    "\n",
    "\n",
    "LoRa:\n",
    "\n",
    "Model on cuda: True\n",
    "{'train_runtime': 14.3185, 'train_samples_per_second': 69.84, 'train_steps_per_second': 1.746, 'train_loss': 1.344638671875, 'epoch': 1.0}\n",
    "Time: 14.32\n",
    "Samples/second: 69.84\n",
    "GPU memory occupied: 55019 MB."
   ]
  }
 ],
 "metadata": {
  "kernelspec": {
   "display_name": "protein_functions",
   "language": "python",
   "name": "python3"
  },
  "language_info": {
   "codemirror_mode": {
    "name": "ipython",
    "version": 3
   },
   "file_extension": ".py",
   "mimetype": "text/x-python",
   "name": "python",
   "nbconvert_exporter": "python",
   "pygments_lexer": "ipython3",
   "version": "3.10.13"
  }
 },
 "nbformat": 4,
 "nbformat_minor": 2
}
