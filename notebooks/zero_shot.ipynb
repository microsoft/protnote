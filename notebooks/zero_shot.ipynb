{
 "cells": [
  {
   "cell_type": "code",
   "execution_count": 30,
   "metadata": {},
   "outputs": [
    {
     "name": "stdout",
     "output_type": "stream",
     "text": [
      "The autoreload extension is already loaded. To reload it, use:\n",
      "  %reload_ext autoreload\n"
     ]
    }
   ],
   "source": [
    "from pathlib import Path\n",
    "import os\n",
    "import sys\n",
    "import gzip\n",
    "import wget\n",
    "from transformers import AutoTokenizer, AutoModel\n",
    "import torch\n",
    "import pandas as pd\n",
    "\n",
    "curdir = Path(os.getcwd())\n",
    "sys.path.append(str(curdir.parent.absolute()))\n",
    "\n",
    "from src.models.ProTCL import ProTCL\n",
    "from src.utils.models import generate_label_embeddings_from_text\n",
    "from src.models.protein_encoders import ProteInfer\n",
    "\n",
    "%load_ext autoreload\n",
    "%autoreload 2\n",
    "\n",
    "\n",
    "from src.utils.data import load_model_weights, read_pickle\n",
    "\n",
    "# Define paths\n",
    "model_path = '/home/ncorley/protein/ProteinFunctions/models/ProTCL/2023-09-25_22-13-48_ProTCL.pt'"
   ]
  },
  {
   "cell_type": "code",
   "execution_count": 12,
   "metadata": {},
   "outputs": [],
   "source": [
    "# Initialize ProteInfer\n",
    "sequence_encoder = ProteInfer.from_pretrained(\n",
    "    weights_path='/home/ncorley/protein/ProteinFunctions/models/proteinfer/GO_model_weights.pkl',\n",
    "    num_labels=32102,\n",
    "    input_channels=20,\n",
    "    output_channels=1100,\n",
    "    kernel_size=9,\n",
    "    activation=torch.nn.ReLU,\n",
    "    dilation_base=3,\n",
    "    num_resnet_blocks=5,\n",
    "    bottleneck_factor=0.5,\n",
    ")"
   ]
  },
  {
   "cell_type": "code",
   "execution_count": 13,
   "metadata": {},
   "outputs": [],
   "source": [
    "# Initialize label tokenizer\n",
    "label_tokenizer = AutoTokenizer.from_pretrained(\"microsoft/biogpt\")\n",
    "\n",
    "# Load label encoder\n",
    "label_encoder = AutoModel.from_pretrained(\"microsoft/biogpt\")\n",
    "\n",
    "# Initialize the model\n",
    "model = ProTCL(\n",
    "    label_encoder=label_encoder,\n",
    "    sequence_encoder=sequence_encoder,\n",
    ").to('cuda')\n",
    "load_model_weights(model, model_path)\n"
   ]
  },
  {
   "cell_type": "code",
   "execution_count": 14,
   "metadata": {},
   "outputs": [],
   "source": [
    "# Encode the text\n",
    "text = \"Transmembrane protein found in prokaryotes involved in cellular signalling\"\n",
    "label_embeddings = generate_label_embeddings_from_text(text, label_tokenizer, label_encoder, 300)[0]\n",
    "\n",
    "# Add a dimension to the label embeddings tensor\n",
    "label_embeddings = label_embeddings.unsqueeze(0)"
   ]
  },
  {
   "cell_type": "code",
   "execution_count": 15,
   "metadata": {},
   "outputs": [],
   "source": [
    "import torch\n",
    "import numpy as np\n",
    "\n",
    "sequence_embedding_path = '/home/ncorley/protein/ProteinFunctions/data/embeddings/proteinfer/frozen_proteinfer_sequence_embeddings.pkl'\n",
    "sequence_embedding_dict = read_pickle(sequence_embedding_path)\n",
    "\n",
    "# Convert sequence ids to a list\n",
    "sequence_ids_list = list(sequence_embedding_dict.keys())\n",
    "\n",
    "# Convert sequence embeddings to a list of tensors\n",
    "sequence_embeddings_list = [torch.tensor(embedding) for embedding in sequence_embedding_dict.values()]\n"
   ]
  },
  {
   "cell_type": "code",
   "execution_count": 16,
   "metadata": {},
   "outputs": [
    {
     "name": "stdout",
     "output_type": "stream",
     "text": [
      "Processed 0 out of 522607 sequences\n",
      "Processed 80000 out of 522607 sequences\n",
      "Processed 160000 out of 522607 sequences\n",
      "Processed 240000 out of 522607 sequences\n",
      "Processed 320000 out of 522607 sequences\n",
      "Processed 400000 out of 522607 sequences\n",
      "Processed 480000 out of 522607 sequences\n"
     ]
    }
   ],
   "source": [
    "model.eval()\n",
    "\n",
    "BATCH_SIZE = 2000\n",
    "\n",
    "similarity_scores = []\n",
    "\n",
    "label_embeddings = label_embeddings.to('cuda')\n",
    "\n",
    "with torch.no_grad():\n",
    "    # Loop through batches of sequences\n",
    "    for i in range(0, len(sequence_embeddings_list), BATCH_SIZE):\n",
    "        batch_sequence_embeddings = torch.stack(sequence_embeddings_list[i:i+BATCH_SIZE]).to('cuda')\n",
    "        logits = model(sequence_embeddings=batch_sequence_embeddings, label_embeddings=label_embeddings)\n",
    "        \n",
    "        # Extend the similarity scores list with the current batch results\n",
    "        for j, logit in enumerate(logits):\n",
    "            similarity_scores.append((sequence_ids_list[i+j], logit))\n",
    "\n",
    "        # Print progress every 5 batches\n",
    "        if i % (40 * BATCH_SIZE) == 0:\n",
    "            print(f\"Processed {i} out of {len(sequence_embeddings_list)} sequences\")\n",
    "    \n",
    "    # Sort the similarity scores based on logits in descending order\n",
    "  \n",
    "    # similarity_scores.sort(key=lambda x: x[1], reverse=True)\n"
   ]
  },
  {
   "cell_type": "code",
   "execution_count": 17,
   "metadata": {},
   "outputs": [
    {
     "name": "stdout",
     "output_type": "stream",
     "text": [
      "Sorting similarity scores...\n"
     ]
    }
   ],
   "source": [
    "import numpy as np\n",
    "\n",
    "print(\"Sorting similarity scores...\")\n",
    "\n",
    "# Convert the similarity_scores list to a structured numpy array\n",
    "dtype = [('sequence_id', 'U50'), ('logit', float)]  # Assuming sequence_id is a string of max length 50. Adjust as needed.\n",
    "similarity_array = np.array(similarity_scores, dtype=dtype)\n",
    "\n",
    "# Sort the array by the 'logit' field\n",
    "sorted_array = np.sort(similarity_array, order='logit')[::-1]  # [::-1] to sort in descending order\n",
    "\n",
    "# Convert back to a list if needed\n",
    "sorted_scores = list(map(tuple, sorted_array))\n"
   ]
  },
  {
   "cell_type": "code",
   "execution_count": 33,
   "metadata": {},
   "outputs": [
    {
     "data": {
      "text/plain": [
       "[('Q7VIA0', 2.557553291320801),\n",
       " ('A8G311', 2.5293922424316406),\n",
       " ('Q2RTH2', 2.482395887374878),\n",
       " ('A3PB74', 2.2203664779663086),\n",
       " ('B3EMS7', 2.001722812652588),\n",
       " ('A2BPF4', 1.962784767150879),\n",
       " ('A7GWS4', 1.9538805484771729),\n",
       " ('Q5N2J3', 1.7185605764389038),\n",
       " ('Q31RR1', 1.7185605764389038),\n",
       " ('Q9RJ68', 1.5750106573104858),\n",
       " ('A7ZF22', 1.541426420211792),\n",
       " ('Q8NQE4', 1.4177640676498413),\n",
       " ('Q828H7', 1.4150567054748535),\n",
       " ('Q1CUI2', 1.4137609004974365),\n",
       " ('B2USE9', 1.371057391166687),\n",
       " ('O25088', 1.3691730499267578),\n",
       " ('Q9ZMB8', 1.3100190162658691),\n",
       " ('B6JKP6', 1.3015974760055542),\n",
       " ('A4TB40', 1.2742552757263184),\n",
       " ('Q17X55', 1.2611216306686401),\n",
       " ('Q98LC5', 1.2023166418075562),\n",
       " ('Q8FTE9', 1.1643602848052979),\n",
       " ('B1W317', 1.1350586414337158),\n",
       " ('C3MBT9', 1.0523419380187988),\n",
       " ('B4SE06', 0.9217094779014587),\n",
       " ('A8FMN2', 0.9044288992881775),\n",
       " ('A5CXC5', 0.8850680589675903),\n",
       " ('Q8KC14', 0.8686895966529846),\n",
       " ('Q8UEP9', 0.852597177028656),\n",
       " ('Q9PNB9', 0.7877622842788696)]"
      ]
     },
     "execution_count": 33,
     "metadata": {},
     "output_type": "execute_result"
    }
   ],
   "source": [
    "top_30 = sorted_scores[:30]\n",
    "top_30"
   ]
  },
  {
   "cell_type": "code",
   "execution_count": 22,
   "metadata": {},
   "outputs": [
    {
     "data": {
      "text/html": [
       "<div>\n",
       "<style scoped>\n",
       "    .dataframe tbody tr th:only-of-type {\n",
       "        vertical-align: middle;\n",
       "    }\n",
       "\n",
       "    .dataframe tbody tr th {\n",
       "        vertical-align: top;\n",
       "    }\n",
       "\n",
       "    .dataframe thead th {\n",
       "        text-align: right;\n",
       "    }\n",
       "</style>\n",
       "<table border=\"1\" class=\"dataframe\">\n",
       "  <thead>\n",
       "    <tr style=\"text-align: right;\">\n",
       "      <th></th>\n",
       "      <th>seq_id</th>\n",
       "      <th>sequence</th>\n",
       "      <th>go_ids</th>\n",
       "      <th>description</th>\n",
       "      <th>organism</th>\n",
       "      <th>organism_classification</th>\n",
       "      <th>organelle</th>\n",
       "      <th>cc</th>\n",
       "      <th>subcellular_location</th>\n",
       "    </tr>\n",
       "  </thead>\n",
       "  <tbody>\n",
       "    <tr>\n",
       "      <th>0</th>\n",
       "      <td>Q6GZX4</td>\n",
       "      <td>MAFSAEDVLKEYDRRRRMEALLLSLYYPNDRKLLDYKEWSPPRVQV...</td>\n",
       "      <td>[GO:0046782]</td>\n",
       "      <td>RecName: Full=Putative transcription factor 001R;</td>\n",
       "      <td>Frog virus 3 (isolate Goorha) (FV-3).</td>\n",
       "      <td>[Viruses, Varidnaviria, Bamfordvirae, Nucleocy...</td>\n",
       "      <td></td>\n",
       "      <td>{'FUNCTION': 'Transcription activation. {ECO:0...</td>\n",
       "      <td>None</td>\n",
       "    </tr>\n",
       "    <tr>\n",
       "      <th>1</th>\n",
       "      <td>Q6GZX3</td>\n",
       "      <td>MSIIGATRLQNDKSDTYSAGPCYAGGCSAFTPRGTCGKDWDLGEQT...</td>\n",
       "      <td>[GO:0033644, GO:0016020]</td>\n",
       "      <td>RecName: Full=Uncharacterized protein 002L;</td>\n",
       "      <td>Frog virus 3 (isolate Goorha) (FV-3).</td>\n",
       "      <td>[Viruses, Varidnaviria, Bamfordvirae, Nucleocy...</td>\n",
       "      <td></td>\n",
       "      <td>{'SUBCELLULAR LOCATION': 'Host membrane {ECO:0...</td>\n",
       "      <td>Host membrane {ECO:0000305}; Single-pass membr...</td>\n",
       "    </tr>\n",
       "    <tr>\n",
       "      <th>2</th>\n",
       "      <td>Q197F8</td>\n",
       "      <td>MASNTVSAQGGSNRPVRDFSNIQDVAQFLLFDPIWNEQPGSIVPWK...</td>\n",
       "      <td>[]</td>\n",
       "      <td>RecName: Full=Uncharacterized protein 002R;</td>\n",
       "      <td>Invertebrate iridescent virus 3 (IIV-3) (Mosqu...</td>\n",
       "      <td>[Viruses, Varidnaviria, Bamfordvirae, Nucleocy...</td>\n",
       "      <td></td>\n",
       "      <td>{}</td>\n",
       "      <td>None</td>\n",
       "    </tr>\n",
       "    <tr>\n",
       "      <th>3</th>\n",
       "      <td>Q197F7</td>\n",
       "      <td>MYQAINPCPQSWYGSPQLEREIVCKMSGAPHYPNYYPVHPNALGGA...</td>\n",
       "      <td>[]</td>\n",
       "      <td>RecName: Full=Uncharacterized protein 003L;</td>\n",
       "      <td>Invertebrate iridescent virus 3 (IIV-3) (Mosqu...</td>\n",
       "      <td>[Viruses, Varidnaviria, Bamfordvirae, Nucleocy...</td>\n",
       "      <td></td>\n",
       "      <td>{}</td>\n",
       "      <td>None</td>\n",
       "    </tr>\n",
       "    <tr>\n",
       "      <th>4</th>\n",
       "      <td>Q6GZX2</td>\n",
       "      <td>MARPLLGKTSSVRRRLESLSACSIFFFLRKFCQKMASLVFLNSPVY...</td>\n",
       "      <td>[]</td>\n",
       "      <td>RecName: Full=Uncharacterized protein 3R; Flag...</td>\n",
       "      <td>Frog virus 3 (isolate Goorha) (FV-3).</td>\n",
       "      <td>[Viruses, Varidnaviria, Bamfordvirae, Nucleocy...</td>\n",
       "      <td></td>\n",
       "      <td>{}</td>\n",
       "      <td>None</td>\n",
       "    </tr>\n",
       "  </tbody>\n",
       "</table>\n",
       "</div>"
      ],
      "text/plain": [
       "   seq_id                                           sequence  \\\n",
       "0  Q6GZX4  MAFSAEDVLKEYDRRRRMEALLLSLYYPNDRKLLDYKEWSPPRVQV...   \n",
       "1  Q6GZX3  MSIIGATRLQNDKSDTYSAGPCYAGGCSAFTPRGTCGKDWDLGEQT...   \n",
       "2  Q197F8  MASNTVSAQGGSNRPVRDFSNIQDVAQFLLFDPIWNEQPGSIVPWK...   \n",
       "3  Q197F7  MYQAINPCPQSWYGSPQLEREIVCKMSGAPHYPNYYPVHPNALGGA...   \n",
       "4  Q6GZX2  MARPLLGKTSSVRRRLESLSACSIFFFLRKFCQKMASLVFLNSPVY...   \n",
       "\n",
       "                     go_ids  \\\n",
       "0              [GO:0046782]   \n",
       "1  [GO:0033644, GO:0016020]   \n",
       "2                        []   \n",
       "3                        []   \n",
       "4                        []   \n",
       "\n",
       "                                         description  \\\n",
       "0  RecName: Full=Putative transcription factor 001R;   \n",
       "1        RecName: Full=Uncharacterized protein 002L;   \n",
       "2        RecName: Full=Uncharacterized protein 002R;   \n",
       "3        RecName: Full=Uncharacterized protein 003L;   \n",
       "4  RecName: Full=Uncharacterized protein 3R; Flag...   \n",
       "\n",
       "                                            organism  \\\n",
       "0              Frog virus 3 (isolate Goorha) (FV-3).   \n",
       "1              Frog virus 3 (isolate Goorha) (FV-3).   \n",
       "2  Invertebrate iridescent virus 3 (IIV-3) (Mosqu...   \n",
       "3  Invertebrate iridescent virus 3 (IIV-3) (Mosqu...   \n",
       "4              Frog virus 3 (isolate Goorha) (FV-3).   \n",
       "\n",
       "                             organism_classification organelle  \\\n",
       "0  [Viruses, Varidnaviria, Bamfordvirae, Nucleocy...             \n",
       "1  [Viruses, Varidnaviria, Bamfordvirae, Nucleocy...             \n",
       "2  [Viruses, Varidnaviria, Bamfordvirae, Nucleocy...             \n",
       "3  [Viruses, Varidnaviria, Bamfordvirae, Nucleocy...             \n",
       "4  [Viruses, Varidnaviria, Bamfordvirae, Nucleocy...             \n",
       "\n",
       "                                                  cc  \\\n",
       "0  {'FUNCTION': 'Transcription activation. {ECO:0...   \n",
       "1  {'SUBCELLULAR LOCATION': 'Host membrane {ECO:0...   \n",
       "2                                                 {}   \n",
       "3                                                 {}   \n",
       "4                                                 {}   \n",
       "\n",
       "                                subcellular_location  \n",
       "0                                               None  \n",
       "1  Host membrane {ECO:0000305}; Single-pass membr...  \n",
       "2                                               None  \n",
       "3                                               None  \n",
       "4                                               None  "
      ]
     },
     "execution_count": 22,
     "metadata": {},
     "output_type": "execute_result"
    }
   ],
   "source": [
    "# Load the swissprot dataframe\n",
    "df_2023 = read_pickle('/home/ncorley/protein/ProteinFunctions/data/swissprot/swissprot_2023.pkl')\n",
    "df_2023.head()"
   ]
  },
  {
   "cell_type": "code",
   "execution_count": 34,
   "metadata": {},
   "outputs": [],
   "source": [
    "# Create a new dataframe with the top 10 sequence ids and their scores. \n",
    "df_top_30 = pd.DataFrame(top_30, columns=['seq_id', 'score'])\n",
    "\n",
    "# Then merge with the swissprot dataframe on the seq_id column to get the the additional information\n",
    "df_top_30 = df_top_30.merge(df_2023, on='seq_id')\n"
   ]
  },
  {
   "cell_type": "code",
   "execution_count": 36,
   "metadata": {},
   "outputs": [],
   "source": [
    "df_top_30.head()\n",
    "# Save the dataframe to a csv\n",
    "df_top_30.to_csv('/home/ncorley/protein/ProteinFunctions/data/swissprot/top_30.csv', index=False)"
   ]
  }
 ],
 "metadata": {
  "kernelspec": {
   "display_name": "protein_functions",
   "language": "python",
   "name": "python3"
  },
  "language_info": {
   "codemirror_mode": {
    "name": "ipython",
    "version": 3
   },
   "file_extension": ".py",
   "mimetype": "text/x-python",
   "name": "python",
   "nbconvert_exporter": "python",
   "pygments_lexer": "ipython3",
   "version": "3.10.13"
  },
  "orig_nbformat": 4
 },
 "nbformat": 4,
 "nbformat_minor": 2
}
