{
 "cells": [
  {
   "cell_type": "code",
   "execution_count": 1,
   "metadata": {},
   "outputs": [
    {
     "name": "stderr",
     "output_type": "stream",
     "text": [
      "/anaconda/envs/min_lora/lib/python3.10/site-packages/scipy/__init__.py:146: UserWarning: A NumPy version >=1.17.3 and <1.25.0 is required for this version of SciPy (detected version 1.26.0\n",
      "  warnings.warn(f\"A NumPy version >={np_minversion} and <{np_maxversion}\"\n",
      "/anaconda/envs/min_lora/lib/python3.10/site-packages/tqdm/auto.py:21: TqdmWarning: IProgress not found. Please update jupyter and ipywidgets. See https://ipywidgets.readthedocs.io/en/stable/user_install.html\n",
      "  from .autonotebook import tqdm as notebook_tqdm\n"
     ]
    },
    {
     "name": "stdout",
     "output_type": "stream",
     "text": [
      "GPU memory occupied: 51 MB.\n"
     ]
    }
   ],
   "source": [
    "import os\n",
    "os.environ[\"CUDA_VISIBLE_DEVICES\"]=\"0\"\n",
    "import torch\n",
    "import torch.nn as nn\n",
    "import bitsandbytes as bnb\n",
    "from transformers import AutoTokenizer, AutoConfig, AutoModelForCausalLM\n",
    "from pynvml import *\n",
    "from pathlib import Path\n",
    "\n",
    "curdir = Path(os.getcwd())\n",
    "sys.path.append(str(curdir.parent.absolute()))\n",
    "\n",
    "from src.utils.data import read_pickle\n",
    "\n",
    "def print_gpu_utilization():\n",
    "    nvmlInit()\n",
    "    handle = nvmlDeviceGetHandleByIndex(0)\n",
    "    info = nvmlDeviceGetMemoryInfo(handle)\n",
    "    print(f\"GPU memory occupied: {info.used//1024**2} MB.\")\n",
    "\n",
    "def print_summary(result):\n",
    "    print(f\"Time: {result.metrics['train_runtime']:.2f}\")\n",
    "    print(f\"Samples/second: {result.metrics['train_samples_per_second']:.2f}\")\n",
    "    print_gpu_utilization()\n",
    "\n",
    "def print_trainable_parameters(model):\n",
    "    trainable_params = 0\n",
    "    all_param = 0\n",
    "    for _, param in model.named_parameters():\n",
    "        all_param += param.numel()\n",
    "        if param.requires_grad:\n",
    "            trainable_params += param.numel()\n",
    "    print(\n",
    "        f\"trainable params: {trainable_params} || all params: {all_param} || trainable%: {100 * trainable_params / all_param:.2f}\"\n",
    "    )\n",
    "\n",
    "print_gpu_utilization()"
   ]
  },
  {
   "cell_type": "code",
   "execution_count": 2,
   "metadata": {},
   "outputs": [
    {
     "name": "stdout",
     "output_type": "stream",
     "text": [
      "GPU memory occupied: 51 MB.\n",
      "GPU memory occupied: 2292 MB.\n"
     ]
    }
   ],
   "source": [
    "print_gpu_utilization()\n",
    "\n",
    "checkpoint = 'microsoft/biogpt'\n",
    "\n",
    "model = AutoModelForCausalLM.from_pretrained(\n",
    "    checkpoint,\n",
    "    # torch_dtype=torch.float16,\n",
    ").cuda()\n",
    "\n",
    "tokenizer = AutoTokenizer.from_pretrained(checkpoint)\n",
    "\n",
    "print_gpu_utilization()"
   ]
  },
  {
   "cell_type": "code",
   "execution_count": 3,
   "metadata": {},
   "outputs": [
    {
     "name": "stdout",
     "output_type": "stream",
     "text": [
      "GPU memory occupied: 2292 MB.\n",
      "GPU memory occupied: 2292 MB.\n",
      "trainable params: 346763264 || all params: 346763264 || trainable%: 100.00\n",
      "trainable params: 346763264 || all params: 346763264 || trainable%: 100.00\n"
     ]
    }
   ],
   "source": [
    "from peft import LoraConfig, get_peft_model \n",
    "import copy\n",
    "\n",
    "# original_model = copy.deepcopy(model)\n",
    "original_model = model\n",
    "\n",
    "print_gpu_utilization()\n",
    "\n",
    "# config = LoraConfig(\n",
    "#     r=8,\n",
    "#     lora_alpha=16,\n",
    "#     # target_modules=[\"query_key_value\"],\n",
    "#     target_modules=[\"k_proj\", \"v_proj\"],\n",
    "#     lora_dropout=0.05,\n",
    "#     bias=\"none\",\n",
    "#     task_type=\"CAUSAL_LM\"\n",
    "# )\n",
    "\n",
    "# original_model = get_peft_model(model, config)\n",
    "\n",
    "print_gpu_utilization()\n",
    "\n",
    "print_trainable_parameters(original_model)\n",
    "print_trainable_parameters(model)"
   ]
  },
  {
   "cell_type": "code",
   "execution_count": 4,
   "metadata": {},
   "outputs": [],
   "source": [
    "from datasets import load_dataset\n",
    "\n",
    "qa_dataset = load_dataset(\"squad_v2\")"
   ]
  },
  {
   "cell_type": "code",
   "execution_count": 5,
   "metadata": {},
   "outputs": [],
   "source": [
    "def create_prompt(context, question, answer):\n",
    "  if len(answer[\"text\"]) < 1:\n",
    "    answer = \"Cannot Find Answer\"\n",
    "  else:\n",
    "    answer = answer[\"text\"][0]\n",
    "  prompt_template = f\"### CONTEXT\\n{context}\\n\\n### QUESTION\\n{question}\\n\\n### ANSWER\\n{answer}</s>\"\n",
    "  return prompt_template\n",
    "\n",
    "mapped_qa_dataset = qa_dataset.map(lambda samples: tokenizer(create_prompt(samples['context'], samples['question'], samples['answers'])))"
   ]
  },
  {
   "cell_type": "code",
   "execution_count": 6,
   "metadata": {},
   "outputs": [
    {
     "name": "stderr",
     "output_type": "stream",
     "text": [
      "Using the `WANDB_DISABLED` environment variable is deprecated and will be removed in v5. Use the --report_to flag to control the integrations used for logging result (for instance --report_to none).\n"
     ]
    },
    {
     "data": {
      "text/html": [
       "\n",
       "    <div>\n",
       "      \n",
       "      <progress value='10' max='10' style='width:300px; height:20px; vertical-align: middle;'></progress>\n",
       "      [10/10 00:09, Epoch 0/1]\n",
       "    </div>\n",
       "    <table border=\"1\" class=\"dataframe\">\n",
       "  <thead>\n",
       " <tr style=\"text-align: left;\">\n",
       "      <th>Step</th>\n",
       "      <th>Training Loss</th>\n",
       "    </tr>\n",
       "  </thead>\n",
       "  <tbody>\n",
       "    <tr>\n",
       "      <td>1</td>\n",
       "      <td>4.117100</td>\n",
       "    </tr>\n",
       "    <tr>\n",
       "      <td>2</td>\n",
       "      <td>4.076600</td>\n",
       "    </tr>\n",
       "    <tr>\n",
       "      <td>3</td>\n",
       "      <td>3.910500</td>\n",
       "    </tr>\n",
       "    <tr>\n",
       "      <td>4</td>\n",
       "      <td>3.809700</td>\n",
       "    </tr>\n",
       "    <tr>\n",
       "      <td>5</td>\n",
       "      <td>3.616400</td>\n",
       "    </tr>\n",
       "    <tr>\n",
       "      <td>6</td>\n",
       "      <td>3.391200</td>\n",
       "    </tr>\n",
       "    <tr>\n",
       "      <td>7</td>\n",
       "      <td>3.475400</td>\n",
       "    </tr>\n",
       "    <tr>\n",
       "      <td>8</td>\n",
       "      <td>3.507400</td>\n",
       "    </tr>\n",
       "    <tr>\n",
       "      <td>9</td>\n",
       "      <td>3.394000</td>\n",
       "    </tr>\n",
       "    <tr>\n",
       "      <td>10</td>\n",
       "      <td>3.396300</td>\n",
       "    </tr>\n",
       "  </tbody>\n",
       "</table><p>"
      ],
      "text/plain": [
       "<IPython.core.display.HTML object>"
      ]
     },
     "metadata": {},
     "output_type": "display_data"
    },
    {
     "name": "stdout",
     "output_type": "stream",
     "text": [
      "Attempted to log scalar metric loss:\n",
      "4.1171\n",
      "Attempted to log scalar metric learning_rate:\n",
      "1e-05\n",
      "Attempted to log scalar metric epoch:\n",
      "0.0\n",
      "Attempted to log scalar metric loss:\n",
      "4.0766\n",
      "Attempted to log scalar metric learning_rate:\n",
      "2e-05\n",
      "Attempted to log scalar metric epoch:\n",
      "0.0\n",
      "Attempted to log scalar metric loss:\n",
      "3.9105\n",
      "Attempted to log scalar metric learning_rate:\n",
      "3e-05\n",
      "Attempted to log scalar metric epoch:\n",
      "0.0\n",
      "Attempted to log scalar metric loss:\n",
      "3.8097\n",
      "Attempted to log scalar metric learning_rate:\n",
      "4e-05\n",
      "Attempted to log scalar metric epoch:\n",
      "0.0\n",
      "Attempted to log scalar metric loss:\n",
      "3.6164\n",
      "Attempted to log scalar metric learning_rate:\n",
      "5e-05\n",
      "Attempted to log scalar metric epoch:\n",
      "0.0\n",
      "Attempted to log scalar metric loss:\n",
      "3.3912\n",
      "Attempted to log scalar metric learning_rate:\n",
      "6e-05\n",
      "Attempted to log scalar metric epoch:\n",
      "0.0\n",
      "Attempted to log scalar metric loss:\n",
      "3.4754\n",
      "Attempted to log scalar metric learning_rate:\n",
      "7.000000000000001e-05\n",
      "Attempted to log scalar metric epoch:\n",
      "0.0\n",
      "Attempted to log scalar metric loss:\n",
      "3.5074\n",
      "Attempted to log scalar metric learning_rate:\n",
      "8e-05\n",
      "Attempted to log scalar metric epoch:\n",
      "0.0\n",
      "Attempted to log scalar metric loss:\n",
      "3.394\n",
      "Attempted to log scalar metric learning_rate:\n",
      "8.999999999999999e-05\n",
      "Attempted to log scalar metric epoch:\n",
      "0.01\n",
      "Attempted to log scalar metric loss:\n",
      "3.3963\n",
      "Attempted to log scalar metric learning_rate:\n",
      "0.0001\n",
      "Attempted to log scalar metric epoch:\n",
      "0.01\n",
      "Attempted to log scalar metric train_runtime:\n",
      "11.0252\n",
      "Attempted to log scalar metric train_samples_per_second:\n",
      "72.561\n",
      "Attempted to log scalar metric train_steps_per_second:\n",
      "0.907\n",
      "Attempted to log scalar metric total_flos:\n",
      "561609978593280.0\n",
      "Attempted to log scalar metric train_loss:\n",
      "3.669448447227478\n",
      "Attempted to log scalar metric epoch:\n",
      "0.01\n",
      "Time: 11.03\n",
      "Samples/second: 72.56\n",
      "GPU memory occupied: 55292 MB.\n",
      "GPU memory occupied: 55292 MB.\n",
      "trainable params: 346763264 || all params: 346763264 || trainable%: 100.00\n"
     ]
    },
    {
     "ename": "",
     "evalue": "",
     "output_type": "error",
     "traceback": [
      "\u001b[1;31mThe Kernel crashed while executing code in the the current cell or a previous cell. Please review the code in the cell(s) to identify a possible cause of the failure. Click <a href='https://aka.ms/vscodeJupyterKernelCrash'>here</a> for more info. View Jupyter <a href='command:jupyter.viewOutput'>log</a> for further details."
     ]
    }
   ],
   "source": [
    "import transformers\n",
    "import os\n",
    "os.environ['WANDB_DISABLED'] = \"true\"\n",
    "\n",
    "torch.cuda.reset_peak_memory_stats()\n",
    "\n",
    "trainer = transformers.Trainer(\n",
    "    model=original_model, \n",
    "    train_dataset=mapped_qa_dataset[\"train\"],\n",
    "    args=transformers.TrainingArguments(\n",
    "        per_device_train_batch_size=20, \n",
    "        gradient_accumulation_steps=4,\n",
    "        warmup_steps=100,\n",
    "        max_steps=10,\n",
    "        learning_rate=1e-3, \n",
    "        fp16=True,\n",
    "        logging_steps=1, \n",
    "        output_dir='outputs',\n",
    "    ),\n",
    "    data_collator=transformers.DataCollatorForLanguageModeling(tokenizer, mlm=False)\n",
    ")\n",
    "original_model.config.use_cache = False  # silence the warnings. Please re-enable for inference!\n",
    "results = trainer.train()\n",
    "print_summary(results)\n",
    "print_gpu_utilization()\n",
    "print_trainable_parameters(original_model)\n",
    "\n",
    "# BLOOM\n",
    "# GPU memory occupied: 73010 MB (No LoRA)\n",
    "# GPU memory occupied: 22054 MB (With LoRA)\n",
    "\n",
    "# BioGPT\n",
    "# GPU memory occupied: 53908 MB (With LoRA)\n",
    "# GPU memory occupied: 55292 MB (No LoRA)"
   ]
  }
 ],
 "metadata": {
  "kernelspec": {
   "display_name": "min_lora",
   "language": "python",
   "name": "python3"
  },
  "language_info": {
   "codemirror_mode": {
    "name": "ipython",
    "version": 3
   },
   "file_extension": ".py",
   "mimetype": "text/x-python",
   "name": "python",
   "nbconvert_exporter": "python",
   "pygments_lexer": "ipython3",
   "version": "3.10.13"
  }
 },
 "nbformat": 4,
 "nbformat_minor": 2
}
