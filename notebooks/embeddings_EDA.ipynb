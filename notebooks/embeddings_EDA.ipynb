{
 "cells": [
  {
   "cell_type": "markdown",
   "metadata": {},
   "source": [
    "# EDA of go_annotations.csv"
   ]
  },
  {
   "cell_type": "code",
   "execution_count": 40,
   "metadata": {},
   "outputs": [
    {
     "data": {
      "text/html": [
       "<div>\n",
       "<style scoped>\n",
       "    .dataframe tbody tr th:only-of-type {\n",
       "        vertical-align: middle;\n",
       "    }\n",
       "\n",
       "    .dataframe tbody tr th {\n",
       "        vertical-align: top;\n",
       "    }\n",
       "\n",
       "    .dataframe thead th {\n",
       "        text-align: right;\n",
       "    }\n",
       "</style>\n",
       "<table border=\"1\" class=\"dataframe\">\n",
       "  <thead>\n",
       "    <tr style=\"text-align: right;\">\n",
       "      <th></th>\n",
       "      <th>go_id</th>\n",
       "      <th>description</th>\n",
       "      <th>annotation_class_label</th>\n",
       "      <th>comment</th>\n",
       "      <th>synonym</th>\n",
       "    </tr>\n",
       "  </thead>\n",
       "  <tbody>\n",
       "    <tr>\n",
       "      <th>0</th>\n",
       "      <td>GO:1904924</td>\n",
       "      <td>Any process that stops, prevents or reduces th...</td>\n",
       "      <td>negative regulation of mitophagy in response t...</td>\n",
       "      <td>NaN</td>\n",
       "      <td>down regulation of mitophagy in response to mi...</td>\n",
       "    </tr>\n",
       "    <tr>\n",
       "      <th>1</th>\n",
       "      <td>GO:1904923</td>\n",
       "      <td>Any process that modulates the frequency, rate...</td>\n",
       "      <td>regulation of autophagy of mitochondrion in re...</td>\n",
       "      <td>NaN</td>\n",
       "      <td>NaN</td>\n",
       "    </tr>\n",
       "    <tr>\n",
       "      <th>2</th>\n",
       "      <td>GO:1904928</td>\n",
       "      <td>Any coreceptor activity that is involved in a ...</td>\n",
       "      <td>coreceptor activity involved in canonical Wnt ...</td>\n",
       "      <td>NaN</td>\n",
       "      <td>Wnt co-receptor activity, canonical signaling|...</td>\n",
       "    </tr>\n",
       "    <tr>\n",
       "      <th>3</th>\n",
       "      <td>GO:1904927</td>\n",
       "      <td>Any process that results in a change in state ...</td>\n",
       "      <td>cellular response to palmitoleic acid</td>\n",
       "      <td>NaN</td>\n",
       "      <td>NaN</td>\n",
       "    </tr>\n",
       "    <tr>\n",
       "      <th>4</th>\n",
       "      <td>GO:1904926</td>\n",
       "      <td>Any process that results in a change in state ...</td>\n",
       "      <td>response to palmitoleic acid</td>\n",
       "      <td>NaN</td>\n",
       "      <td>NaN</td>\n",
       "    </tr>\n",
       "  </tbody>\n",
       "</table>\n",
       "</div>"
      ],
      "text/plain": [
       "        go_id                                        description  \\\n",
       "0  GO:1904924  Any process that stops, prevents or reduces th...   \n",
       "1  GO:1904923  Any process that modulates the frequency, rate...   \n",
       "2  GO:1904928  Any coreceptor activity that is involved in a ...   \n",
       "3  GO:1904927  Any process that results in a change in state ...   \n",
       "4  GO:1904926  Any process that results in a change in state ...   \n",
       "\n",
       "                              annotation_class_label comment  \\\n",
       "0  negative regulation of mitophagy in response t...     NaN   \n",
       "1  regulation of autophagy of mitochondrion in re...     NaN   \n",
       "2  coreceptor activity involved in canonical Wnt ...     NaN   \n",
       "3              cellular response to palmitoleic acid     NaN   \n",
       "4                       response to palmitoleic acid     NaN   \n",
       "\n",
       "                                             synonym  \n",
       "0  down regulation of mitophagy in response to mi...  \n",
       "1                                                NaN  \n",
       "2  Wnt co-receptor activity, canonical signaling|...  \n",
       "3                                                NaN  \n",
       "4                                                NaN  "
      ]
     },
     "execution_count": 40,
     "metadata": {},
     "output_type": "execute_result"
    }
   ],
   "source": [
    "import pandas as pd\n",
    "\n",
    "# Load the GO annotations CSV\n",
    "df = pd.read_csv('/home/ncorley/protein/ProteinFunctions/data/go_annotations.csv')\n",
    "df.head()"
   ]
  },
  {
   "cell_type": "code",
   "execution_count": 52,
   "metadata": {},
   "outputs": [
    {
     "name": "stdout",
     "output_type": "stream",
     "text": [
      "Number unique go_id in csv: 42950\n",
      "Number unique go_id in vocabulary: 32102\n",
      "Number of go_id in csv but not in vocabulary: 12674\n",
      "Number of go_id in vocabulary but not in csv: 1826\n",
      "Random sample of GO IDs in vocabulary but not in CSV:\n",
      "['GO:0034207', 'GO:0034437', 'GO:0000186', 'GO:0031497', 'GO:0048310', 'GO:0097659', 'GO:0043006', 'GO:0072321', 'GO:2000578', 'GO:0017144']\n"
     ]
    }
   ],
   "source": [
    "# Count unique go_id and compare to GO vocabulatry\n",
    "print(\"Number unique go_id in csv:\", df['go_id'].nunique())\n",
    "\n",
    "# Load vocab and count unique go_id\n",
    "import json\n",
    "import random\n",
    "with open('/home/ncorley/protein/ProteinFunctions/data/vocabularies/GO_label_vocab.json') as f:\n",
    "    vocab = json.load(f)\n",
    "print(\"Number unique go_id in vocabulary:\", len(vocab))\n",
    "\n",
    "# Check how many go_id are in the csv but not in the vocabulary\n",
    "csv_go_ids = set(df['go_id'].unique())\n",
    "vocab_go_ids = set(vocab)\n",
    "print(\"Number of go_id in csv but not in vocabulary:\", len(csv_go_ids - vocab_go_ids))\n",
    "\n",
    "# Check how many go_id are in the vocabulary but not csv\n",
    "print(\"Number of go_id in vocabulary but not in csv:\", len(vocab_go_ids - csv_go_ids))\n",
    "\n",
    "# Get the set difference between the vocabulary and the CSV\n",
    "missing_go_ids = vocab_go_ids - csv_go_ids\n",
    "\n",
    "# Convert the set to a list\n",
    "missing_go_ids_list = list(missing_go_ids)\n",
    "\n",
    "# Print a random sample of the missing GO IDs\n",
    "print(\"Random sample of GO IDs in vocabulary but not in CSV:\")\n",
    "print(random.sample(missing_go_ids_list, k=10))\n",
    "\n",
    "# Note: From random sample of 10 go_id in the vocabulary but not in the csv, all were obsolete or had been remapped to a different go_id"
   ]
  },
  {
   "cell_type": "markdown",
   "metadata": {},
   "source": [
    "# EDA of PubMedBERt"
   ]
  },
  {
   "cell_type": "code",
   "execution_count": 18,
   "metadata": {},
   "outputs": [
    {
     "name": "stdout",
     "output_type": "stream",
     "text": [
      "CUDA is available!\n",
      "CUDA version: 11.7\n"
     ]
    }
   ],
   "source": [
    "import torch\n",
    "\n",
    "if torch.cuda.is_available():\n",
    "    print('CUDA is available!')\n",
    "    print('CUDA version:', torch.version.cuda)\n",
    "else:\n",
    "    print('CUDA is not available.')"
   ]
  },
  {
   "cell_type": "code",
   "execution_count": 31,
   "metadata": {},
   "outputs": [
    {
     "name": "stderr",
     "output_type": "stream",
     "text": [
      "/anaconda/envs/protein_functions/lib/python3.11/site-packages/tqdm/auto.py:21: TqdmWarning: IProgress not found. Please update jupyter and ipywidgets. See https://ipywidgets.readthedocs.io/en/stable/user_install.html\n",
      "  from .autonotebook import tqdm as notebook_tqdm\n"
     ]
    }
   ],
   "source": [
    "from transformers import BertTokenizer, BertModel\n",
    "import torch\n",
    "\n",
    "# Load the tokenizer and model\n",
    "tokenizer = BertTokenizer.from_pretrained(\"microsoft/BiomedNLP-PubMedBERT-base-uncased-abstract-fulltext\")\n",
    "model = BertModel.from_pretrained(\"microsoft/BiomedNLP-PubMedBERT-base-uncased-abstract-fulltext\")"
   ]
  },
  {
   "cell_type": "code",
   "execution_count": 20,
   "metadata": {},
   "outputs": [],
   "source": [
    "# Sample text\n",
    "text = \"This is a sample abstract about biomedical research.\"\n",
    "\n",
    "# Check if GPU is available\n",
    "device = torch.device('cuda:0' if torch.cuda.is_available() else 'cpu')\n",
    "\n",
    "# Tokenize the text and obtain the output tensors\n",
    "inputs = tokenizer(text, return_tensors=\"pt\")\n",
    "\n",
    "# Move the tensors to GPU if available\n",
    "inputs = {name: tensor.to(device) for name, tensor in inputs.items()}\n",
    "model = model.to(device)\n",
    "\n",
    "# Get the embeddings\n",
    "with torch.no_grad():\n",
    "    outputs = model(**inputs)\n",
    "    embeddings = outputs.last_hidden_state"
   ]
  },
  {
   "cell_type": "code",
   "execution_count": 21,
   "metadata": {},
   "outputs": [
    {
     "name": "stdout",
     "output_type": "stream",
     "text": [
      "Outputs shape: torch.Size([1, 768])\n",
      "Embeddings shape: torch.Size([1, 11, 768])\n"
     ]
    }
   ],
   "source": [
    "# Get the shape of the embeddings and outputs\n",
    "print(\"Outputs shape:\", outputs.pooler_output.shape)\n",
    "print(\"Embeddings shape:\", embeddings.shape)\n",
    "\n",
    "# Get the [CLS] token embedding\n",
    "sequence_embedding = embeddings[0][0]"
   ]
  },
  {
   "cell_type": "markdown",
   "metadata": {},
   "source": [
    "# EDA of label_embeddings.pk1"
   ]
  },
  {
   "cell_type": "code",
   "execution_count": 36,
   "metadata": {},
   "outputs": [
    {
     "data": {
      "text/html": [
       "<div>\n",
       "<style scoped>\n",
       "    .dataframe tbody tr th:only-of-type {\n",
       "        vertical-align: middle;\n",
       "    }\n",
       "\n",
       "    .dataframe tbody tr th {\n",
       "        vertical-align: top;\n",
       "    }\n",
       "\n",
       "    .dataframe thead th {\n",
       "        text-align: right;\n",
       "    }\n",
       "</style>\n",
       "<table border=\"1\" class=\"dataframe\">\n",
       "  <thead>\n",
       "    <tr style=\"text-align: right;\">\n",
       "      <th></th>\n",
       "      <th>go_id</th>\n",
       "      <th>description</th>\n",
       "      <th>annotation_class_label</th>\n",
       "      <th>comment</th>\n",
       "      <th>synonym</th>\n",
       "      <th>out_degree</th>\n",
       "      <th>embedding</th>\n",
       "    </tr>\n",
       "  </thead>\n",
       "  <tbody>\n",
       "    <tr>\n",
       "      <th>0</th>\n",
       "      <td>GO:1904924</td>\n",
       "      <td>Any process that stops, prevents or reduces th...</td>\n",
       "      <td>negative regulation of mitophagy in response t...</td>\n",
       "      <td>NaN</td>\n",
       "      <td>down regulation of mitophagy in response to mi...</td>\n",
       "      <td>2</td>\n",
       "      <td>[-0.19203259, 0.0036893275, 0.46602038, -0.332...</td>\n",
       "    </tr>\n",
       "    <tr>\n",
       "      <th>1</th>\n",
       "      <td>GO:1904923</td>\n",
       "      <td>Any process that modulates the frequency, rate...</td>\n",
       "      <td>regulation of autophagy of mitochondrion in re...</td>\n",
       "      <td>NaN</td>\n",
       "      <td>NaN</td>\n",
       "      <td>2</td>\n",
       "      <td>[0.013970085, -0.065674566, 0.4478878, -0.3971...</td>\n",
       "    </tr>\n",
       "    <tr>\n",
       "      <th>2</th>\n",
       "      <td>GO:1904928</td>\n",
       "      <td>Any coreceptor activity that is involved in a ...</td>\n",
       "      <td>coreceptor activity involved in canonical Wnt ...</td>\n",
       "      <td>NaN</td>\n",
       "      <td>Wnt co-receptor activity, canonical signaling|...</td>\n",
       "      <td>&lt;NA&gt;</td>\n",
       "      <td>[-0.1843568, -0.038391832, 0.30839404, -0.1521...</td>\n",
       "    </tr>\n",
       "    <tr>\n",
       "      <th>3</th>\n",
       "      <td>GO:1904927</td>\n",
       "      <td>Any process that results in a change in state ...</td>\n",
       "      <td>cellular response to palmitoleic acid</td>\n",
       "      <td>NaN</td>\n",
       "      <td>NaN</td>\n",
       "      <td>2</td>\n",
       "      <td>[0.08549239, -0.07233671, 0.086257726, -0.0960...</td>\n",
       "    </tr>\n",
       "    <tr>\n",
       "      <th>4</th>\n",
       "      <td>GO:1904926</td>\n",
       "      <td>Any process that results in a change in state ...</td>\n",
       "      <td>response to palmitoleic acid</td>\n",
       "      <td>NaN</td>\n",
       "      <td>NaN</td>\n",
       "      <td>1</td>\n",
       "      <td>[0.15115559, 0.062270537, 0.058555294, 0.00039...</td>\n",
       "    </tr>\n",
       "  </tbody>\n",
       "</table>\n",
       "</div>"
      ],
      "text/plain": [
       "        go_id                                        description  \\\n",
       "0  GO:1904924  Any process that stops, prevents or reduces th...   \n",
       "1  GO:1904923  Any process that modulates the frequency, rate...   \n",
       "2  GO:1904928  Any coreceptor activity that is involved in a ...   \n",
       "3  GO:1904927  Any process that results in a change in state ...   \n",
       "4  GO:1904926  Any process that results in a change in state ...   \n",
       "\n",
       "                              annotation_class_label comment  \\\n",
       "0  negative regulation of mitophagy in response t...     NaN   \n",
       "1  regulation of autophagy of mitochondrion in re...     NaN   \n",
       "2  coreceptor activity involved in canonical Wnt ...     NaN   \n",
       "3              cellular response to palmitoleic acid     NaN   \n",
       "4                       response to palmitoleic acid     NaN   \n",
       "\n",
       "                                             synonym  out_degree  \\\n",
       "0  down regulation of mitophagy in response to mi...           2   \n",
       "1                                                NaN           2   \n",
       "2  Wnt co-receptor activity, canonical signaling|...        <NA>   \n",
       "3                                                NaN           2   \n",
       "4                                                NaN           1   \n",
       "\n",
       "                                           embedding  \n",
       "0  [-0.19203259, 0.0036893275, 0.46602038, -0.332...  \n",
       "1  [0.013970085, -0.065674566, 0.4478878, -0.3971...  \n",
       "2  [-0.1843568, -0.038391832, 0.30839404, -0.1521...  \n",
       "3  [0.08549239, -0.07233671, 0.086257726, -0.0960...  \n",
       "4  [0.15115559, 0.062270537, 0.058555294, 0.00039...  "
      ]
     },
     "metadata": {},
     "output_type": "display_data"
    }
   ],
   "source": [
    "# Import necessary libraries\n",
    "import pandas as pd\n",
    "import numpy as np\n",
    "from sklearn.metrics.pairwise import cosine_similarity\n",
    "import matplotlib.pyplot as plt\n",
    "import seaborn as sns\n",
    "\n",
    "# Load the dataframe from the pickle file\n",
    "go_annotations_df = pd.read_pickle(\"/home/ncorley/protein/ProteinFunctions/data/swissprot/proteinfer_splits/random/label_embeddings.pk1\")\n",
    "\n",
    "# Display the first few rows of the dataframe\n",
    "display(go_annotations_df.head())"
   ]
  },
  {
   "cell_type": "code",
   "execution_count": 23,
   "metadata": {},
   "outputs": [
    {
     "name": "stdout",
     "output_type": "stream",
     "text": [
      "1. Basic Statistics\n",
      "-------------------\n",
      "Total number of entries: 42950\n",
      "Number of unique GO IDs: 42950\n",
      "Missing values in each column:\n",
      "go_id                         0\n",
      "description                   0\n",
      "annotation_class_label        0\n",
      "comment                   40568\n",
      "synonym                   14960\n",
      "out_degree                  101\n",
      "embedding                     0\n",
      "dtype: int64\n"
     ]
    }
   ],
   "source": [
    "# 1. Basic Statistics\n",
    "print(\"1. Basic Statistics\")\n",
    "print(\"-------------------\")\n",
    "num_entries = len(go_annotations_df)\n",
    "num_unique_go_ids = go_annotations_df['go_id'].nunique()\n",
    "missing_values = go_annotations_df.isnull().sum()\n",
    "\n",
    "print(f\"Total number of entries: {num_entries}\")\n",
    "print(f\"Number of unique GO IDs: {num_unique_go_ids}\")\n",
    "print(f\"Missing values in each column:\\n{missing_values}\")"
   ]
  },
  {
   "cell_type": "code",
   "execution_count": 24,
   "metadata": {},
   "outputs": [
    {
     "name": "stdout",
     "output_type": "stream",
     "text": [
      "\n",
      "2. Embedding Analysis\n",
      "----------------------\n",
      "Dimensionality of the embeddings: 768\n",
      "All GO IDs have consistent embeddings.\n",
      "Average cosine similarity between embeddings: 0.8856\n"
     ]
    }
   ],
   "source": [
    "# 2. Embedding Analysis\n",
    "print(\"\\n2. Embedding Analysis\")\n",
    "print(\"----------------------\")\n",
    "\n",
    "# Check the dimensionality of the embeddings\n",
    "embedding_dim = len(go_annotations_df['embedding'].iloc[0])\n",
    "print(f\"Dimensionality of the embeddings: {embedding_dim}\")\n",
    "\n",
    "# Check if embeddings for the same go_id are consistent\n",
    "inconsistent_go_ids = []\n",
    "for go_id, group in go_annotations_df.groupby('go_id'):\n",
    "    unique_embeddings = group['embedding'].apply(tuple).nunique()\n",
    "    if unique_embeddings > 1:\n",
    "        inconsistent_go_ids.append(go_id)\n",
    "\n",
    "if inconsistent_go_ids:\n",
    "    print(f\"Number of GO IDs with inconsistent embeddings: {len(inconsistent_go_ids)}\")\n",
    "else:\n",
    "    print(\"All GO IDs have consistent embeddings.\")\n",
    "\n",
    "# Compute average cosine similarity between embeddings\n",
    "embeddings_matrix = np.stack(go_annotations_df['embedding'].to_numpy())\n",
    "similarity_matrix = cosine_similarity(embeddings_matrix)\n",
    "avg_similarity = np.mean(similarity_matrix)\n",
    "\n",
    "print(f\"Average cosine similarity between embeddings: {avg_similarity:.4f}\")"
   ]
  },
  {
   "cell_type": "code",
   "execution_count": 25,
   "metadata": {},
   "outputs": [
    {
     "name": "stdout",
     "output_type": "stream",
     "text": [
      "\n",
      "3. Out Degree Analysis\n",
      "----------------------\n"
     ]
    },
    {
     "name": "stderr",
     "output_type": "stream",
     "text": [
      "/anaconda/envs/protein_functions/lib/python3.11/site-packages/seaborn/_oldcore.py:1498: FutureWarning: is_categorical_dtype is deprecated and will be removed in a future version. Use isinstance(dtype, CategoricalDtype) instead\n",
      "  if pd.api.types.is_categorical_dtype(vector):\n",
      "/anaconda/envs/protein_functions/lib/python3.11/site-packages/seaborn/_oldcore.py:1498: FutureWarning: is_categorical_dtype is deprecated and will be removed in a future version. Use isinstance(dtype, CategoricalDtype) instead\n",
      "  if pd.api.types.is_categorical_dtype(vector):\n",
      "/anaconda/envs/protein_functions/lib/python3.11/site-packages/seaborn/_oldcore.py:1498: FutureWarning: is_categorical_dtype is deprecated and will be removed in a future version. Use isinstance(dtype, CategoricalDtype) instead\n",
      "  if pd.api.types.is_categorical_dtype(vector):\n"
     ]
    },
    {
     "data": {
      "image/png": "[encoded data removed]",
      "text/plain": [
       "<Figure size 1000x600 with 1 Axes>"
      ]
     },
     "metadata": {},
     "output_type": "display_data"
    },
    {
     "name": "stdout",
     "output_type": "stream",
     "text": [
      "Counts of each Out Degree value:\n",
      "out_degree\n",
      "1     17921\n",
      "2     13884\n",
      "3      7469\n",
      "4      2570\n",
      "5       738\n",
      "6       193\n",
      "7        56\n",
      "8        10\n",
      "9         3\n",
      "0         3\n",
      "10        1\n",
      "11        1\n",
      "Name: count, dtype: Int64\n"
     ]
    },
    {
     "data": {
      "text/plain": [
       "<Figure size 1000x600 with 0 Axes>"
      ]
     },
     "metadata": {},
     "output_type": "display_data"
    }
   ],
   "source": [
    "# 3. Out Degree Analysis\n",
    "print(\"\\n3. Out Degree Analysis\")\n",
    "print(\"----------------------\")\n",
    "\n",
    "# Drop rows with missing out_degree values\n",
    "go_annotations_df_clean = go_annotations_df.dropna(subset=['out_degree'])\n",
    "\n",
    "# Visualize the distribution of out_degree values\n",
    "plt.figure(figsize=(10, 6))\n",
    "sns.countplot(data=go_annotations_df_clean, x='out_degree')\n",
    "plt.title(\"Distribution of Out Degree Values\")\n",
    "plt.xlabel(\"Out Degree\")\n",
    "plt.ylabel(\"Count\")\n",
    "plt.show()\n",
    "\n",
    "# Print the histogram of out_degree values\n",
    "plt.figure(figsize=(10, 6))\n",
    "\n",
    "# Get and print the counts of each unique out_degree value\n",
    "out_degree_counts = go_annotations_df_clean['out_degree'].value_counts()\n",
    "print(\"Counts of each Out Degree value:\")\n",
    "print(out_degree_counts)"
   ]
  },
  {
   "cell_type": "markdown",
   "metadata": {},
   "source": [
    "# Testing the Dataset and Dataloader"
   ]
  },
  {
   "cell_type": "code",
   "execution_count": 54,
   "metadata": {},
   "outputs": [
    {
     "name": "stdout",
     "output_type": "stream",
     "text": [
      "The autoreload extension is already loaded. To reload it, use:\n",
      "  %reload_ext autoreload\n",
      "Processing vocabularies... Done.\n",
      "Loading sequence embeddings and converting to dict...\n",
      "Loaded sequence embeddings.\n",
      "Loading label embeddings and converting to dict...\n",
      "Loaded label embeddings.\n"
     ]
    }
   ],
   "source": [
    "import os\n",
    "from pathlib import Path\n",
    "import sys\n",
    "curdir = Path(os.getcwd())\n",
    "sys.path.append(str(curdir.parent.absolute()))\n",
    "\n",
    "%load_ext autoreload\n",
    "%autoreload 2\n",
    "\n",
    "from src.data.datasets import ProteinDataset\n",
    "from torch.utils.data import DataLoader\n",
    "from src.data.collators import collate_variable_sequence_length\n",
    "\n",
    "# Define the base directory for the project\n",
    "BASE_DIR = '/home/ncorley/protein/ProteinFunctions/'\n",
    "\n",
    "# Define the relative paths to the data and vocabulary files\n",
    "TRAIN_DATA_PATH = os.path.join(BASE_DIR, 'data', 'swissprot', 'proteinfer_splits', 'random', 'train_GO.fasta')\n",
    "VAL_DATA_PATH = os.path.join(BASE_DIR, 'data', 'swissprot', 'proteinfer_splits', 'random', 'dev_GO.fasta')\n",
    "TEST_DATA_PATH = os.path.join(BASE_DIR, 'data', 'swissprot', 'proteinfer_splits', 'random', 'train_GO.fasta')\n",
    "AMINO_ACID_VOCAB_PATH = os.path.join(BASE_DIR, 'data', 'vocabularies', 'amino_acid_vocab.json')\n",
    "GO_LABEL_VOCAB_PATH = os.path.join(BASE_DIR, 'data', 'vocabularies', 'GO_label_vocab.json')\n",
    "\n",
    "# Parameters\n",
    "TEST_BATCH_SIZE = 8\n",
    "\n",
    "# Create a single ProteinDataset object\n",
    "test_dataset = ProteinDataset(data_path=TEST_DATA_PATH,\n",
    "                             sequence_vocabulary_path=AMINO_ACID_VOCAB_PATH,\n",
    "                             label_vocabulary_path=GO_LABEL_VOCAB_PATH)"
   ]
  },
  {
   "cell_type": "code",
   "execution_count": 55,
   "metadata": {},
   "outputs": [
    {
     "name": "stdout",
     "output_type": "stream",
     "text": [
      "Class variables: \n",
      "\n",
      "data_path: <class 'str'>\n",
      "sequence_vocabulary_path: <class 'str'>\n",
      "label_vocabulary_path: <class 'str'>\n",
      "max_seq_len: <class 'NoneType'>\n",
      "sequence_embedding_path: <class 'str'>\n",
      "label_embedding_path: <class 'str'>\n",
      "data: <class 'list'>\n",
      "sequence_vocabulary: <class 'list'>\n",
      "sequence_vocabulary_size: <class 'int'>\n",
      "aminoacid2int: <class 'dict'>\n",
      "int2aminoacid: <class 'dict'>\n",
      "label_vocabulary: <class 'list'>\n",
      "label_vocabulary_size: <class 'int'>\n",
      "label2int: <class 'dict'>\n",
      "int2label: <class 'dict'>\n",
      "sequence_embeddings: <class 'dict'>\n",
      "label_embeddings: <class 'dict'>\n"
     ]
    }
   ],
   "source": [
    "## Print all class variables and their types\n",
    "print(\"Class variables: \\n\")\n",
    "for key, value in test_dataset.__dict__.items():\n",
    "    print(f\"{key}: {type(value)}\")"
   ]
  },
  {
   "cell_type": "code",
   "execution_count": 70,
   "metadata": {},
   "outputs": [],
   "source": [
    "test_loader = DataLoader(dataset=test_dataset,\n",
    "                          batch_size=1,\n",
    "                          shuffle=False,\n",
    "                          num_workers=1,\n",
    "                          collate_fn=collate_variable_sequence_length)"
   ]
  },
  {
   "cell_type": "code",
   "execution_count": 72,
   "metadata": {},
   "outputs": [
    {
     "name": "stdout",
     "output_type": "stream",
     "text": [
      "Getting item...\n",
      "Sequence: MSKIIEYDETARRAIEAGVNTLADAVRVTLGPRGRHVVLAKAFGGPAVTNDGVTVAREIDLEDPFENLGAQLVKSVATKTNDVAGDGTTTATVLAQALVKGGLRLVAAGANPIELGAGISKAADAVSEALLASATPVSGKDAIAQVATVSSRDQVLGELVGEAMTKVGVDGVVSVEESSTLNTELEFTEGVGFDKGFLSAYFVTDFDAQQAVLDDPVILLHQEKISSLPDLLPMLEKVAESGKPLLIIAEDIEGEALATLVVNSIRKTLKAVAVKAPFFGDRRKAFLEDLAIVTGGQVINPDTGLLLREVGTEVLGSARRVVVSKDDTIIVDGGGAKDAVANRIKQLRAEIEKTDSDWDREKLQERLAKLAGGVAVIKVGAATETALKERKESVEDAVAAAKAAVEEGIVAGGGSALLQARKALDELRGSLSGDQALGVDVFAEALGAPLYWIASNAGLDGAVAVHKVAELPAGHGLNAEKLSYGDLIADGVIDPVKVTRSAVLNSASVARMVLTTETAVVDKPAEEADDHGHGHHHH\n",
      "Labels: ['GO:0036094', 'GO:0032559', 'GO:0030554', 'GO:0032553', 'GO:0005488', 'GO:0042026', 'GO:0097367', 'GO:0051082', 'GO:0097159', 'GO:0043167', 'GO:0032555', 'GO:0006457', 'GO:0009987', 'GO:0003674', 'GO:0005737', 'GO:0005575', 'GO:0005524', 'GO:0035639', 'GO:0008150', 'GO:0017076', 'GO:0005515', 'GO:0000166', 'GO:0043168', 'GO:1901363', 'GO:1901265']\n",
      "Labels not in label2int dictionary BEFORE: set()\n",
      "Labels not in label2int dictionary AFTER: set()\n",
      "Getting item...\n",
      "Sequence: MKFSEQWLRGWVSPQVDRDALVARLSMAGLEVDSVTPAAGVFSGVVVGEVLSTEQHPDADKLRVCQVSNGAETFQVVCGAPNVRPGLKIPFAMIGAELPGDFKIKKAKLRGVESNGMLCSQAELQIGEGNDGLMELPADASVGEDFRVYLDLEDASIEVDLTPNRGDCLSLAGLAREVGALYDAPVTRPVVMAVPAAHDEVRSVEVLAPAACPRYLGRVIRNVDLSRPTPLWMVERLRRAEVRSIDAAVDITNYVMLELGQPLHAFDLAEINGGIRVRMAEEGEKLVLLDGQEVSLRSDTLVVADHTRALAIAGVMGGEHSGVSATTRDVFLESAFFDQIAVAGKARSYGLHTDASHRYERGVDWQLAREAMERATGLLLEITGGEAGPIIETVSEQHLPSIAPITLRAQRITQMLGMEMDSAEVERLLNALGLKVSADGAGQWRVEVPSHRFDISLEVDLIEELARLYGYNRLPVRYPQARLAPQAKAEARSDLPELRRLLVARGYQEAITYSFIDPKQFELFNPGVEPLLLANPISNDMAAMRSSLWPGLVKALQHNLNRQQDRVRLFESGLRFVGQLEGLKQEPMIAGVVCGSRLPEGWAQGRDTVDFFDVKADVEAVLGFAGALDQFTFAPGKHPALHPGQTARIEREGREVGFIGAIHPELSKSLGLDRPVFVFELVLAEVALGKMPKFHELSRFPEVRRDLALIAHKDVAASAVLDVIRENAGEWLTDLRLFDVYQGKGIDTDRKSLAVGLTWQHPSRTLNDDEVNSTTQNILTSLEQRLNATLRK\n",
      "Labels: ['GO:0006139', 'GO:0036094', 'GO:0008152', 'GO:0071704', 'GO:0006807', 'GO:0000287', 'GO:0016875', 'GO:0006082', 'GO:0019752', 'GO:0032559', 'GO:0046483', 'GO:0030554', 'GO:0016874', 'GO:0006520', 'GO:0032553', 'GO:0034660', 'GO:0005488', 'GO:1901360', 'GO:0140101', 'GO:0097367', 'GO:0003824', 'GO:0097159', 'GO:0006399', 'GO:0004812', 'GO:0006725', 'GO:0003676', 'GO:0004826', 'GO:0003723', 'GO:0043167', 'GO:0032555', 'GO:0043038', 'GO:0140098', 'GO:0009987', 'GO:0034641', 'GO:0046872', 'GO:0003674', 'GO:0044281', 'GO:0016070', 'GO:0005575', 'GO:0005737', 'GO:0005524', 'GO:0035639', 'GO:0006418', 'GO:0090304', 'GO:0043170', 'GO:0044237', 'GO:0043169', 'GO:0008150', 'GO:0017076', 'GO:0043039', 'GO:0044238', 'GO:0000166', 'GO:0043436', 'GO:0043168', 'GO:0000049', 'GO:1901363', 'GO:0006432', 'GO:1901564', 'GO:1901265']\n",
      "Labels not in label2int dictionary BEFORE: set()\n",
      "Labels not in label2int dictionary AFTER: set()\n"
     ]
    },
    {
     "ename": "RuntimeError",
     "evalue": "stack expects each tensor to be equal size, but got [20, 538] at entry 0 and [20, 792] at entry 1",
     "output_type": "error",
     "traceback": [
      "\u001b[0;31m---------------------------------------------------------------------------\u001b[0m",
      "\u001b[0;31mRuntimeError\u001b[0m                              Traceback (most recent call last)",
      "\u001b[1;32m/home/ncorley/protein/ProteinFunctions/notebooks/embeddings_EDA.ipynb Cell 18\u001b[0m line \u001b[0;36m2\n\u001b[1;32m      <a href='vscode-notebook-cell://ssh-remote%2Btunnel/home/ncorley/protein/ProteinFunctions/notebooks/embeddings_EDA.ipynb#X20sdnNjb2RlLXJlbW90ZQ%3D%3D?line=0'>1</a>\u001b[0m test_loader \u001b[39m=\u001b[39m DataLoader(test_dataset, batch_size\u001b[39m=\u001b[39m\u001b[39m2\u001b[39m, shuffle\u001b[39m=\u001b[39m\u001b[39mFalse\u001b[39;00m)\n\u001b[0;32m----> <a href='vscode-notebook-cell://ssh-remote%2Btunnel/home/ncorley/protein/ProteinFunctions/notebooks/embeddings_EDA.ipynb#X20sdnNjb2RlLXJlbW90ZQ%3D%3D?line=1'>2</a>\u001b[0m sequence_onehots, labels_multihot, sequence_length, sequence_embedding, label_embeddings \u001b[39m=\u001b[39m \u001b[39mnext\u001b[39m(\u001b[39miter\u001b[39m(test_loader))\n",
      "File \u001b[0;32m/anaconda/envs/protein_functions/lib/python3.11/site-packages/torch/utils/data/dataloader.py:633\u001b[0m, in \u001b[0;36m_BaseDataLoaderIter.__next__\u001b[0;34m(self)\u001b[0m\n\u001b[1;32m    630\u001b[0m \u001b[39mif\u001b[39;00m \u001b[39mself\u001b[39m\u001b[39m.\u001b[39m_sampler_iter \u001b[39mis\u001b[39;00m \u001b[39mNone\u001b[39;00m:\n\u001b[1;32m    631\u001b[0m     \u001b[39m# TODO(https://github.com/pytorch/pytorch/issues/76750)\u001b[39;00m\n\u001b[1;32m    632\u001b[0m     \u001b[39mself\u001b[39m\u001b[39m.\u001b[39m_reset()  \u001b[39m# type: ignore[call-arg]\u001b[39;00m\n\u001b[0;32m--> 633\u001b[0m data \u001b[39m=\u001b[39m \u001b[39mself\u001b[39m\u001b[39m.\u001b[39m_next_data()\n\u001b[1;32m    634\u001b[0m \u001b[39mself\u001b[39m\u001b[39m.\u001b[39m_num_yielded \u001b[39m+\u001b[39m\u001b[39m=\u001b[39m \u001b[39m1\u001b[39m\n\u001b[1;32m    635\u001b[0m \u001b[39mif\u001b[39;00m \u001b[39mself\u001b[39m\u001b[39m.\u001b[39m_dataset_kind \u001b[39m==\u001b[39m _DatasetKind\u001b[39m.\u001b[39mIterable \u001b[39mand\u001b[39;00m \\\n\u001b[1;32m    636\u001b[0m         \u001b[39mself\u001b[39m\u001b[39m.\u001b[39m_IterableDataset_len_called \u001b[39mis\u001b[39;00m \u001b[39mnot\u001b[39;00m \u001b[39mNone\u001b[39;00m \u001b[39mand\u001b[39;00m \\\n\u001b[1;32m    637\u001b[0m         \u001b[39mself\u001b[39m\u001b[39m.\u001b[39m_num_yielded \u001b[39m>\u001b[39m \u001b[39mself\u001b[39m\u001b[39m.\u001b[39m_IterableDataset_len_called:\n",
      "File \u001b[0;32m/anaconda/envs/protein_functions/lib/python3.11/site-packages/torch/utils/data/dataloader.py:677\u001b[0m, in \u001b[0;36m_SingleProcessDataLoaderIter._next_data\u001b[0;34m(self)\u001b[0m\n\u001b[1;32m    675\u001b[0m \u001b[39mdef\u001b[39;00m \u001b[39m_next_data\u001b[39m(\u001b[39mself\u001b[39m):\n\u001b[1;32m    676\u001b[0m     index \u001b[39m=\u001b[39m \u001b[39mself\u001b[39m\u001b[39m.\u001b[39m_next_index()  \u001b[39m# may raise StopIteration\u001b[39;00m\n\u001b[0;32m--> 677\u001b[0m     data \u001b[39m=\u001b[39m \u001b[39mself\u001b[39m\u001b[39m.\u001b[39m_dataset_fetcher\u001b[39m.\u001b[39mfetch(index)  \u001b[39m# may raise StopIteration\u001b[39;00m\n\u001b[1;32m    678\u001b[0m     \u001b[39mif\u001b[39;00m \u001b[39mself\u001b[39m\u001b[39m.\u001b[39m_pin_memory:\n\u001b[1;32m    679\u001b[0m         data \u001b[39m=\u001b[39m _utils\u001b[39m.\u001b[39mpin_memory\u001b[39m.\u001b[39mpin_memory(data, \u001b[39mself\u001b[39m\u001b[39m.\u001b[39m_pin_memory_device)\n",
      "File \u001b[0;32m/anaconda/envs/protein_functions/lib/python3.11/site-packages/torch/utils/data/_utils/fetch.py:54\u001b[0m, in \u001b[0;36m_MapDatasetFetcher.fetch\u001b[0;34m(self, possibly_batched_index)\u001b[0m\n\u001b[1;32m     52\u001b[0m \u001b[39melse\u001b[39;00m:\n\u001b[1;32m     53\u001b[0m     data \u001b[39m=\u001b[39m \u001b[39mself\u001b[39m\u001b[39m.\u001b[39mdataset[possibly_batched_index]\n\u001b[0;32m---> 54\u001b[0m \u001b[39mreturn\u001b[39;00m \u001b[39mself\u001b[39m\u001b[39m.\u001b[39mcollate_fn(data)\n",
      "File \u001b[0;32m/anaconda/envs/protein_functions/lib/python3.11/site-packages/torch/utils/data/_utils/collate.py:265\u001b[0m, in \u001b[0;36mdefault_collate\u001b[0;34m(batch)\u001b[0m\n\u001b[1;32m    204\u001b[0m \u001b[39mdef\u001b[39;00m \u001b[39mdefault_collate\u001b[39m(batch):\n\u001b[1;32m    205\u001b[0m \u001b[39m    \u001b[39m\u001b[39mr\u001b[39m\u001b[39m\"\"\"\u001b[39;00m\n\u001b[1;32m    206\u001b[0m \u001b[39m        Function that takes in a batch of data and puts the elements within the batch\u001b[39;00m\n\u001b[1;32m    207\u001b[0m \u001b[39m        into a tensor with an additional outer dimension - batch size. The exact output type can be\u001b[39;00m\n\u001b[0;32m   (...)\u001b[0m\n\u001b[1;32m    263\u001b[0m \u001b[39m            >>> default_collate(batch)  # Handle `CustomType` automatically\u001b[39;00m\n\u001b[1;32m    264\u001b[0m \u001b[39m    \"\"\"\u001b[39;00m\n\u001b[0;32m--> 265\u001b[0m     \u001b[39mreturn\u001b[39;00m collate(batch, collate_fn_map\u001b[39m=\u001b[39mdefault_collate_fn_map)\n",
      "File \u001b[0;32m/anaconda/envs/protein_functions/lib/python3.11/site-packages/torch/utils/data/_utils/collate.py:142\u001b[0m, in \u001b[0;36mcollate\u001b[0;34m(batch, collate_fn_map)\u001b[0m\n\u001b[1;32m    139\u001b[0m transposed \u001b[39m=\u001b[39m \u001b[39mlist\u001b[39m(\u001b[39mzip\u001b[39m(\u001b[39m*\u001b[39mbatch))  \u001b[39m# It may be accessed twice, so we use a list.\u001b[39;00m\n\u001b[1;32m    141\u001b[0m \u001b[39mif\u001b[39;00m \u001b[39misinstance\u001b[39m(elem, \u001b[39mtuple\u001b[39m):\n\u001b[0;32m--> 142\u001b[0m     \u001b[39mreturn\u001b[39;00m [collate(samples, collate_fn_map\u001b[39m=\u001b[39mcollate_fn_map) \u001b[39mfor\u001b[39;00m samples \u001b[39min\u001b[39;00m transposed]  \u001b[39m# Backwards compatibility.\u001b[39;00m\n\u001b[1;32m    143\u001b[0m \u001b[39melse\u001b[39;00m:\n\u001b[1;32m    144\u001b[0m     \u001b[39mtry\u001b[39;00m:\n",
      "File \u001b[0;32m/anaconda/envs/protein_functions/lib/python3.11/site-packages/torch/utils/data/_utils/collate.py:142\u001b[0m, in \u001b[0;36m<listcomp>\u001b[0;34m(.0)\u001b[0m\n\u001b[1;32m    139\u001b[0m transposed \u001b[39m=\u001b[39m \u001b[39mlist\u001b[39m(\u001b[39mzip\u001b[39m(\u001b[39m*\u001b[39mbatch))  \u001b[39m# It may be accessed twice, so we use a list.\u001b[39;00m\n\u001b[1;32m    141\u001b[0m \u001b[39mif\u001b[39;00m \u001b[39misinstance\u001b[39m(elem, \u001b[39mtuple\u001b[39m):\n\u001b[0;32m--> 142\u001b[0m     \u001b[39mreturn\u001b[39;00m [collate(samples, collate_fn_map\u001b[39m=\u001b[39mcollate_fn_map) \u001b[39mfor\u001b[39;00m samples \u001b[39min\u001b[39;00m transposed]  \u001b[39m# Backwards compatibility.\u001b[39;00m\n\u001b[1;32m    143\u001b[0m \u001b[39melse\u001b[39;00m:\n\u001b[1;32m    144\u001b[0m     \u001b[39mtry\u001b[39;00m:\n",
      "File \u001b[0;32m/anaconda/envs/protein_functions/lib/python3.11/site-packages/torch/utils/data/_utils/collate.py:119\u001b[0m, in \u001b[0;36mcollate\u001b[0;34m(batch, collate_fn_map)\u001b[0m\n\u001b[1;32m    117\u001b[0m \u001b[39mif\u001b[39;00m collate_fn_map \u001b[39mis\u001b[39;00m \u001b[39mnot\u001b[39;00m \u001b[39mNone\u001b[39;00m:\n\u001b[1;32m    118\u001b[0m     \u001b[39mif\u001b[39;00m elem_type \u001b[39min\u001b[39;00m collate_fn_map:\n\u001b[0;32m--> 119\u001b[0m         \u001b[39mreturn\u001b[39;00m collate_fn_map[elem_type](batch, collate_fn_map\u001b[39m=\u001b[39mcollate_fn_map)\n\u001b[1;32m    121\u001b[0m     \u001b[39mfor\u001b[39;00m collate_type \u001b[39min\u001b[39;00m collate_fn_map:\n\u001b[1;32m    122\u001b[0m         \u001b[39mif\u001b[39;00m \u001b[39misinstance\u001b[39m(elem, collate_type):\n",
      "File \u001b[0;32m/anaconda/envs/protein_functions/lib/python3.11/site-packages/torch/utils/data/_utils/collate.py:162\u001b[0m, in \u001b[0;36mcollate_tensor_fn\u001b[0;34m(batch, collate_fn_map)\u001b[0m\n\u001b[1;32m    160\u001b[0m     storage \u001b[39m=\u001b[39m elem\u001b[39m.\u001b[39m_typed_storage()\u001b[39m.\u001b[39m_new_shared(numel, device\u001b[39m=\u001b[39melem\u001b[39m.\u001b[39mdevice)\n\u001b[1;32m    161\u001b[0m     out \u001b[39m=\u001b[39m elem\u001b[39m.\u001b[39mnew(storage)\u001b[39m.\u001b[39mresize_(\u001b[39mlen\u001b[39m(batch), \u001b[39m*\u001b[39m\u001b[39mlist\u001b[39m(elem\u001b[39m.\u001b[39msize()))\n\u001b[0;32m--> 162\u001b[0m \u001b[39mreturn\u001b[39;00m torch\u001b[39m.\u001b[39mstack(batch, \u001b[39m0\u001b[39m, out\u001b[39m=\u001b[39mout)\n",
      "\u001b[0;31mRuntimeError\u001b[0m: stack expects each tensor to be equal size, but got [20, 538] at entry 0 and [20, 792] at entry 1"
     ]
    }
   ],
   "source": [
    "test_loader = DataLoader(test_dataset, batch_size=2, shuffle=False, collate_fn=collate_variable_sequence_length)\n",
    "sequence_onehots, labels_multihot, sequence_length, sequence_embedding, label_embeddings = next(iter(test_loader))\n"
   ]
  },
  {
   "cell_type": "code",
   "execution_count": null,
   "metadata": {},
   "outputs": [
    {
     "name": "stdout",
     "output_type": "stream",
     "text": [
      "\n",
      "First few entries of label_embeddings:\n"
     ]
    },
    {
     "ename": "TypeError",
     "evalue": "'NoneType' object is not subscriptable",
     "output_type": "error",
     "traceback": [
      "\u001b[0;31m---------------------------------------------------------------------------\u001b[0m",
      "\u001b[0;31mTypeError\u001b[0m                                 Traceback (most recent call last)",
      "\u001b[1;32m/home/ncorley/protein/ProteinFunctions/notebooks/embeddings_EDA.ipynb Cell 16\u001b[0m line \u001b[0;36m3\n\u001b[1;32m      <a href='vscode-notebook-cell://ssh-remote%2Btunnel/home/ncorley/protein/ProteinFunctions/notebooks/embeddings_EDA.ipynb#X21sdnNjb2RlLXJlbW90ZQ%3D%3D?line=0'>1</a>\u001b[0m \u001b[39m# Print the first few entries of label_embeddings\u001b[39;00m\n\u001b[1;32m      <a href='vscode-notebook-cell://ssh-remote%2Btunnel/home/ncorley/protein/ProteinFunctions/notebooks/embeddings_EDA.ipynb#X21sdnNjb2RlLXJlbW90ZQ%3D%3D?line=1'>2</a>\u001b[0m \u001b[39mprint\u001b[39m(\u001b[39m\"\u001b[39m\u001b[39m\\n\u001b[39;00m\u001b[39mFirst few entries of label_embeddings:\u001b[39m\u001b[39m\"\u001b[39m)\n\u001b[0;32m----> <a href='vscode-notebook-cell://ssh-remote%2Btunnel/home/ncorley/protein/ProteinFunctions/notebooks/embeddings_EDA.ipynb#X21sdnNjb2RlLXJlbW90ZQ%3D%3D?line=2'>3</a>\u001b[0m \u001b[39mprint\u001b[39m(test_dataset\u001b[39m.\u001b[39mlabel_embeddings[:\u001b[39m5\u001b[39m])\n\u001b[1;32m      <a href='vscode-notebook-cell://ssh-remote%2Btunnel/home/ncorley/protein/ProteinFunctions/notebooks/embeddings_EDA.ipynb#X21sdnNjb2RlLXJlbW90ZQ%3D%3D?line=4'>5</a>\u001b[0m \u001b[39m# Print first few entries of the data\u001b[39;00m\n\u001b[1;32m      <a href='vscode-notebook-cell://ssh-remote%2Btunnel/home/ncorley/protein/ProteinFunctions/notebooks/embeddings_EDA.ipynb#X21sdnNjb2RlLXJlbW90ZQ%3D%3D?line=5'>6</a>\u001b[0m \u001b[39mprint\u001b[39m(\u001b[39m\"\u001b[39m\u001b[39m\\n\u001b[39;00m\u001b[39mFirst few entries of the data:\u001b[39m\u001b[39m\"\u001b[39m)\n",
      "\u001b[0;31mTypeError\u001b[0m: 'NoneType' object is not subscriptable"
     ]
    }
   ],
   "source": [
    "# Print the first few entries of label_embeddings\n",
    "print(\"\\nFirst few entries of label_embeddings:\")\n",
    "print(test_dataset.label_embeddings[:5])\n",
    "\n",
    "# Print first few entries of the data\n",
    "print(\"\\nFirst few entries of the data:\")\n",
    "print(test_dataset.data[:5])"
   ]
  },
  {
   "cell_type": "code",
   "execution_count": null,
   "metadata": {},
   "outputs": [],
   "source": [
    "# Test Label Embedding Lookup\n",
    "def test_label_embedding_lookup(dataset):\n",
    "    labels = [\"sample_label1\", \"sample_label2\"]  # Replace with some sample labels from your data\n",
    "    embeddings = dataset._lookup_label_embeddings(labels)\n",
    "    assert embeddings is not None, \"Label embedding lookup failed!\"\n",
    "    print(\"Label Embedding Lookup Test Passed!\")\n",
    "\n",
    "# Test Item Retrieval\n",
    "def test_item_retrieval(dataset):\n",
    "    item = dataset[0]\n",
    "    assert item is not None, \"Item retrieval failed!\"\n",
    "    print(\"Item Retrieval Test Passed!\")"
   ]
  },
  {
   "cell_type": "markdown",
   "metadata": {},
   "source": [
    "# EDA of ProteinInfer embeddings"
   ]
  },
  {
   "cell_type": "code",
   "execution_count": 29,
   "metadata": {},
   "outputs": [
    {
     "name": "stdout",
     "output_type": "stream",
     "text": [
      "Shape of the dataframe: (439540, 2)\n"
     ]
    },
    {
     "data": {
      "text/html": [
       "<div>\n",
       "<style scoped>\n",
       "    .dataframe tbody tr th:only-of-type {\n",
       "        vertical-align: middle;\n",
       "    }\n",
       "\n",
       "    .dataframe tbody tr th {\n",
       "        vertical-align: top;\n",
       "    }\n",
       "\n",
       "    .dataframe thead th {\n",
       "        text-align: right;\n",
       "    }\n",
       "</style>\n",
       "<table border=\"1\" class=\"dataframe\">\n",
       "  <thead>\n",
       "    <tr style=\"text-align: right;\">\n",
       "      <th></th>\n",
       "      <th>sequence</th>\n",
       "      <th>embedding</th>\n",
       "    </tr>\n",
       "  </thead>\n",
       "  <tbody>\n",
       "    <tr>\n",
       "      <th>0</th>\n",
       "      <td>MANPLYQKHIISINDLSRDDLNLVLATAAKLKANPQPELLKHKVIA...</td>\n",
       "      <td>[-0.28971588611602783, -1.4092315435409546, 0....</td>\n",
       "    </tr>\n",
       "    <tr>\n",
       "      <th>1</th>\n",
       "      <td>MQRRHFLKNAAAALAALGLPALPPWALAAKAVGLRRLGQPQPFDYA...</td>\n",
       "      <td>[-0.9862877130508423, -0.5633257627487183, 0.5...</td>\n",
       "    </tr>\n",
       "    <tr>\n",
       "      <th>2</th>\n",
       "      <td>MANNSNSGSELEVDDTLQSICYNRGSLKLLDQRKLPLETEFLDIRN...</td>\n",
       "      <td>[-0.14604131877422333, -0.083809994161129, -1....</td>\n",
       "    </tr>\n",
       "    <tr>\n",
       "      <th>3</th>\n",
       "      <td>MNAFYNKEGVGDTLLISLQDVTREQLGYEKHGDVVKIFNNETKETT...</td>\n",
       "      <td>[-0.7522125244140625, 0.3685571551322937, -0.1...</td>\n",
       "    </tr>\n",
       "    <tr>\n",
       "      <th>4</th>\n",
       "      <td>MAMSDRLLAAWYHGHPALTLLRPLEWLYRRVVAGKRQRFLDGEGEI...</td>\n",
       "      <td>[0.319398432970047, 0.6143203377723694, -0.135...</td>\n",
       "    </tr>\n",
       "    <tr>\n",
       "      <th>5</th>\n",
       "      <td>MKPWAVGLGPPPPAVPLLLLLLLGAALVRAAAPPRRYTPDWQSLDS...</td>\n",
       "      <td>[0.1517590433359146, 0.3703460693359375, -0.38...</td>\n",
       "    </tr>\n",
       "    <tr>\n",
       "      <th>6</th>\n",
       "      <td>MFHVKHPQREVAATRQRAVGQWPTDPYPRRLNVWPGIRDASMLDGM...</td>\n",
       "      <td>[-0.6309232115745544, 0.5793448686599731, -0.0...</td>\n",
       "    </tr>\n",
       "    <tr>\n",
       "      <th>7</th>\n",
       "      <td>MRFAIVVTGPAYGTQQASSAFQFAQALIAEGHELSSVFFYREGVYN...</td>\n",
       "      <td>[-0.5407073497772217, -0.9115131497383118, 0.7...</td>\n",
       "    </tr>\n",
       "    <tr>\n",
       "      <th>8</th>\n",
       "      <td>MSTSQNLSQTPVKETLLTPRFYTTDFDEMSKLDISSNIDEFEALLQ...</td>\n",
       "      <td>[-0.27093568444252014, 0.9554061889648438, 1.6...</td>\n",
       "    </tr>\n",
       "    <tr>\n",
       "      <th>9</th>\n",
       "      <td>MELVEIREGLARVLVPKAERIYDAPVFYNPVMALNRDISVLAVKAL...</td>\n",
       "      <td>[-0.13192899525165558, 0.22488205134868622, 0....</td>\n",
       "    </tr>\n",
       "  </tbody>\n",
       "</table>\n",
       "</div>"
      ],
      "text/plain": [
       "                                            sequence  \\\n",
       "0  MANPLYQKHIISINDLSRDDLNLVLATAAKLKANPQPELLKHKVIA...   \n",
       "1  MQRRHFLKNAAAALAALGLPALPPWALAAKAVGLRRLGQPQPFDYA...   \n",
       "2  MANNSNSGSELEVDDTLQSICYNRGSLKLLDQRKLPLETEFLDIRN...   \n",
       "3  MNAFYNKEGVGDTLLISLQDVTREQLGYEKHGDVVKIFNNETKETT...   \n",
       "4  MAMSDRLLAAWYHGHPALTLLRPLEWLYRRVVAGKRQRFLDGEGEI...   \n",
       "5  MKPWAVGLGPPPPAVPLLLLLLLGAALVRAAAPPRRYTPDWQSLDS...   \n",
       "6  MFHVKHPQREVAATRQRAVGQWPTDPYPRRLNVWPGIRDASMLDGM...   \n",
       "7  MRFAIVVTGPAYGTQQASSAFQFAQALIAEGHELSSVFFYREGVYN...   \n",
       "8  MSTSQNLSQTPVKETLLTPRFYTTDFDEMSKLDISSNIDEFEALLQ...   \n",
       "9  MELVEIREGLARVLVPKAERIYDAPVFYNPVMALNRDISVLAVKAL...   \n",
       "\n",
       "                                           embedding  \n",
       "0  [-0.28971588611602783, -1.4092315435409546, 0....  \n",
       "1  [-0.9862877130508423, -0.5633257627487183, 0.5...  \n",
       "2  [-0.14604131877422333, -0.083809994161129, -1....  \n",
       "3  [-0.7522125244140625, 0.3685571551322937, -0.1...  \n",
       "4  [0.319398432970047, 0.6143203377723694, -0.135...  \n",
       "5  [0.1517590433359146, 0.3703460693359375, -0.38...  \n",
       "6  [-0.6309232115745544, 0.5793448686599731, -0.0...  \n",
       "7  [-0.5407073497772217, -0.9115131497383118, 0.7...  \n",
       "8  [-0.27093568444252014, 0.9554061889648438, 1.6...  \n",
       "9  [-0.13192899525165558, 0.22488205134868622, 0....  "
      ]
     },
     "metadata": {},
     "output_type": "display_data"
    }
   ],
   "source": [
    "# Import the pickle from data/swissprot/proteinfer_splits/random/combined_embeddings.pk1\n",
    "import pickle\n",
    "import pandas as pd\n",
    "\n",
    "# Load the dataframe from the pickle file\n",
    "sequence_embeddings_df = pd.read_pickle(\"/home/ncorley/protein/ProteinFunctions/data/swissprot/proteinfer_splits/random/sequence_embeddings.pk1\")\n",
    "\n",
    "# Print shape of the df\n",
    "print(\"Shape of the dataframe:\", sequence_embeddings_df.shape)\n",
    "display(sequence_embeddings_df.head(10))\n"
   ]
  },
  {
   "cell_type": "code",
   "execution_count": 30,
   "metadata": {},
   "outputs": [
    {
     "name": "stdout",
     "output_type": "stream",
     "text": [
      "\n",
      "2. Embedding Analysis\n",
      "----------------------\n",
      "Dimensionality of the embeddings: 1100\n"
     ]
    },
    {
     "ename": "NameError",
     "evalue": "name 'go_annotations_df' is not defined",
     "output_type": "error",
     "traceback": [
      "\u001b[0;31m---------------------------------------------------------------------------\u001b[0m",
      "\u001b[0;31mNameError\u001b[0m                                 Traceback (most recent call last)",
      "\u001b[1;32m/home/ncorley/protein/ProteinFunctions/notebooks/embeddings_EDA.ipynb Cell 20\u001b[0m line \u001b[0;36m1\n\u001b[1;32m      <a href='vscode-notebook-cell://ssh-remote%2Btunnel/home/ncorley/protein/ProteinFunctions/notebooks/embeddings_EDA.ipynb#X25sdnNjb2RlLXJlbW90ZQ%3D%3D?line=6'>7</a>\u001b[0m \u001b[39mprint\u001b[39m(\u001b[39mf\u001b[39m\u001b[39m\"\u001b[39m\u001b[39mDimensionality of the embeddings: \u001b[39m\u001b[39m{\u001b[39;00membedding_dim\u001b[39m}\u001b[39;00m\u001b[39m\"\u001b[39m)\n\u001b[1;32m      <a href='vscode-notebook-cell://ssh-remote%2Btunnel/home/ncorley/protein/ProteinFunctions/notebooks/embeddings_EDA.ipynb#X25sdnNjb2RlLXJlbW90ZQ%3D%3D?line=8'>9</a>\u001b[0m \u001b[39m# Number of GO classes\u001b[39;00m\n\u001b[0;32m---> <a href='vscode-notebook-cell://ssh-remote%2Btunnel/home/ncorley/protein/ProteinFunctions/notebooks/embeddings_EDA.ipynb#X25sdnNjb2RlLXJlbW90ZQ%3D%3D?line=9'>10</a>\u001b[0m \u001b[39mprint\u001b[39m(\u001b[39m\"\u001b[39m\u001b[39mNumber of GO classes:\u001b[39m\u001b[39m\"\u001b[39m, go_annotations_df[\u001b[39m'\u001b[39m\u001b[39mgo_id\u001b[39m\u001b[39m'\u001b[39m]\u001b[39m.\u001b[39mnunique())\n",
      "\u001b[0;31mNameError\u001b[0m: name 'go_annotations_df' is not defined"
     ]
    }
   ],
   "source": [
    "# 2. Embedding Analysis\n",
    "print(\"\\n2. Embedding Analysis\")\n",
    "print(\"----------------------\")\n",
    "\n",
    "# Check the dimensionality of the embeddings\n",
    "embedding_dim = len(sequence_embeddings_df['embedding'].iloc[0])\n",
    "print(f\"Dimensionality of the embeddings: {embedding_dim}\")\n",
    "\n",
    "# Number of GO classes\n",
    "print(\"Number of GO classes:\", go_annotations_df['go_id'].nunique())"
   ]
  }
 ],
 "metadata": {
  "kernelspec": {
   "display_name": "protein_functions",
   "language": "python",
   "name": "python3"
  },
  "language_info": {
   "codemirror_mode": {
    "name": "ipython",
    "version": 3
   },
   "file_extension": ".py",
   "mimetype": "text/x-python",
   "name": "python",
   "nbconvert_exporter": "python",
   "pygments_lexer": "ipython3",
   "version": "3.11.4"
  },
  "orig_nbformat": 4
 },
 "nbformat": 4,
 "nbformat_minor": 2
}
