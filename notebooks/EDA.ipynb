{
 "cells": [
  {
   "cell_type": "code",
   "execution_count": 1,
   "metadata": {},
   "outputs": [
    {
     "name": "stderr",
     "output_type": "stream",
     "text": [
      "/anaconda/envs/protein_functions_310/lib/python3.10/site-packages/tqdm/auto.py:21: TqdmWarning: IProgress not found. Please update jupyter and ipywidgets. See https://ipywidgets.readthedocs.io/en/stable/user_install.html\n",
      "  from .autonotebook import tqdm as notebook_tqdm\n"
     ]
    }
   ],
   "source": [
    "import os\n",
    "from pathlib import Path\n",
    "import sys\n",
    "curdir = Path(os.getcwd())\n",
    "sys.path.append(str(curdir.parent.absolute()))\n",
    "from collections import Counter\n",
    "import pandas as pd\n",
    "import matplotlib.pyplot as plt\n",
    "from src.utils.data import read_fasta\n",
    "from src.data.datasets import ProteinDataset\n",
    "import numpy as np\n",
    "from src.utils.data import read_pickle\n",
    "from src.utils.evaluation import metrics_per_label_df\n",
    "import seaborn as sns\n",
    "import torch\n",
    "from torchmetrics.classification import AveragePrecision,Specificity"
   ]
  },
  {
   "cell_type": "code",
   "execution_count": 2,
   "metadata": {},
   "outputs": [],
   "source": [
    "train = read_fasta('../data/swissprot/proteinfer_splits/random/train_GO.fasta')\n",
    "val = read_fasta('../data/swissprot/proteinfer_splits/random/dev_GO.fasta')\n",
    "test = read_fasta('../data/swissprot/proteinfer_splits/random/test_GO.fasta')"
   ]
  },
  {
   "cell_type": "code",
   "execution_count": 3,
   "metadata": {},
   "outputs": [],
   "source": [
    "train = [(k[0],j,\" \".join(k[1:]),'train') for j,k in train]\n",
    "test = [(k[0],j,\" \".join(k[1:]),'val') for j,k in test]\n",
    "val = [(k[0],j,\" \".join(k[1:]),'test') for j,k in val]\n",
    "\n",
    "df = train + val + test"
   ]
  },
  {
   "cell_type": "code",
   "execution_count": 4,
   "metadata": {},
   "outputs": [],
   "source": [
    "df = pd.DataFrame(df,columns=['id','sequence','labels','split'])"
   ]
  },
  {
   "cell_type": "code",
   "execution_count": 5,
   "metadata": {},
   "outputs": [
    {
     "name": "stdout",
     "output_type": "stream",
     "text": [
      "number of sequences: 522607\n"
     ]
    }
   ],
   "source": [
    "num_sequences = len(df)\n",
    "print('number of sequences:',num_sequences)"
   ]
  },
  {
   "cell_type": "code",
   "execution_count": 6,
   "metadata": {},
   "outputs": [
    {
     "data": {
      "text/html": [
       "<div>\n",
       "<style scoped>\n",
       "    .dataframe tbody tr th:only-of-type {\n",
       "        vertical-align: middle;\n",
       "    }\n",
       "\n",
       "    .dataframe tbody tr th {\n",
       "        vertical-align: top;\n",
       "    }\n",
       "\n",
       "    .dataframe thead th {\n",
       "        text-align: right;\n",
       "    }\n",
       "</style>\n",
       "<table border=\"1\" class=\"dataframe\">\n",
       "  <thead>\n",
       "    <tr style=\"text-align: right;\">\n",
       "      <th></th>\n",
       "      <th>id</th>\n",
       "      <th>sequence</th>\n",
       "      <th>labels</th>\n",
       "      <th>split</th>\n",
       "    </tr>\n",
       "  </thead>\n",
       "  <tbody>\n",
       "    <tr>\n",
       "      <th>0</th>\n",
       "      <td>P60545</td>\n",
       "      <td>MSKIIEYDETARRAIEAGVNTLADAVRVTLGPRGRHVVLAKAFGGP...</td>\n",
       "      <td>GO:0035639 GO:0032553 GO:0005524 GO:0017076 GO...</td>\n",
       "      <td>train</td>\n",
       "    </tr>\n",
       "    <tr>\n",
       "      <th>1</th>\n",
       "      <td>Q3KEX7</td>\n",
       "      <td>MKFSEQWLRGWVSPQVDRDALVARLSMAGLEVDSVTPAAGVFSGVV...</td>\n",
       "      <td>GO:0016070 GO:0035639 GO:0004812 GO:0032553 GO...</td>\n",
       "      <td>train</td>\n",
       "    </tr>\n",
       "    <tr>\n",
       "      <th>2</th>\n",
       "      <td>Q8D2U1</td>\n",
       "      <td>MKSVSIIDIIEKKIFKKKLVEINGWVRTKRNSKLGISFVDVYDGSC...</td>\n",
       "      <td>GO:0016070 GO:0004812 GO:0035639 GO:0032553 GO...</td>\n",
       "      <td>train</td>\n",
       "    </tr>\n",
       "    <tr>\n",
       "      <th>3</th>\n",
       "      <td>Q95KN1</td>\n",
       "      <td>MKPSLLVFTVYLLWLKDCHCAPTWKDKTDMHGNLKGFSEAGDIDVD...</td>\n",
       "      <td>GO:0044424 GO:0003674 GO:0044464 GO:0043226 GO...</td>\n",
       "      <td>train</td>\n",
       "    </tr>\n",
       "    <tr>\n",
       "      <th>4</th>\n",
       "      <td>Q98HL0</td>\n",
       "      <td>MNSLDLPGRPENTRIVVAMSGGVDSSVVAGLLKREGYDVVGVTLQL...</td>\n",
       "      <td>GO:0016070 GO:0035639 GO:0032553 GO:0005524 GO...</td>\n",
       "      <td>train</td>\n",
       "    </tr>\n",
       "  </tbody>\n",
       "</table>\n",
       "</div>"
      ],
      "text/plain": [
       "       id                                           sequence  \\\n",
       "0  P60545  MSKIIEYDETARRAIEAGVNTLADAVRVTLGPRGRHVVLAKAFGGP...   \n",
       "1  Q3KEX7  MKFSEQWLRGWVSPQVDRDALVARLSMAGLEVDSVTPAAGVFSGVV...   \n",
       "2  Q8D2U1  MKSVSIIDIIEKKIFKKKLVEINGWVRTKRNSKLGISFVDVYDGSC...   \n",
       "3  Q95KN1  MKPSLLVFTVYLLWLKDCHCAPTWKDKTDMHGNLKGFSEAGDIDVD...   \n",
       "4  Q98HL0  MNSLDLPGRPENTRIVVAMSGGVDSSVVAGLLKREGYDVVGVTLQL...   \n",
       "\n",
       "                                              labels  split  \n",
       "0  GO:0035639 GO:0032553 GO:0005524 GO:0017076 GO...  train  \n",
       "1  GO:0016070 GO:0035639 GO:0004812 GO:0032553 GO...  train  \n",
       "2  GO:0016070 GO:0004812 GO:0035639 GO:0032553 GO...  train  \n",
       "3  GO:0044424 GO:0003674 GO:0044464 GO:0043226 GO...  train  \n",
       "4  GO:0016070 GO:0035639 GO:0032553 GO:0005524 GO...  train  "
      ]
     },
     "execution_count": 6,
     "metadata": {},
     "output_type": "execute_result"
    }
   ],
   "source": [
    "df.head()"
   ]
  },
  {
   "cell_type": "code",
   "execution_count": 7,
   "metadata": {},
   "outputs": [
    {
     "data": {
      "text/plain": [
       "count    522607.000000\n",
       "mean         47.743901\n",
       "std          38.433523\n",
       "min           2.000000\n",
       "25%          25.000000\n",
       "50%          43.000000\n",
       "75%          59.000000\n",
       "max        1008.000000\n",
       "Name: num_pos, dtype: float64"
      ]
     },
     "execution_count": 7,
     "metadata": {},
     "output_type": "execute_result"
    }
   ],
   "source": [
    "df['num_pos'] = df['labels'].str.split(' ').str.len()\n",
    "df['num_pos'].describe()"
   ]
  },
  {
   "cell_type": "code",
   "execution_count": 8,
   "metadata": {},
   "outputs": [],
   "source": [
    "labels = Counter()\n",
    "\n",
    "vocab = set()\n",
    "amino_freq = Counter()\n",
    "for idx,row in df[df['split']=='train'].iterrows():\n",
    "    sequence = row['sequence']\n",
    "    row_labels = row['labels']\n",
    "    aa_list = list(sequence)\n",
    "    if row_labels =='':\n",
    "        print(row['id'],row['labels'])\n",
    "    vocab.update(aa_list)\n",
    "    amino_freq.update(aa_list)\n",
    "    labels.update(row_labels.split(\" \"))"
   ]
  },
  {
   "cell_type": "code",
   "execution_count": 9,
   "metadata": {},
   "outputs": [
    {
     "name": "stdout",
     "output_type": "stream",
     "text": [
      "# GO Terms: 31365\n"
     ]
    }
   ],
   "source": [
    "print('# GO Terms:',len(labels.keys()))"
   ]
  },
  {
   "cell_type": "code",
   "execution_count": 10,
   "metadata": {},
   "outputs": [
    {
     "name": "stdout",
     "output_type": "stream",
     "text": [
      "GO Terms distribution\n"
     ]
    },
    {
     "data": {
      "text/plain": [
       "count     31365.000000\n",
       "mean        635.987821\n",
       "std        7372.964658\n",
       "min           1.000000\n",
       "25%           4.000000\n",
       "50%          14.000000\n",
       "75%          70.000000\n",
       "max      369909.000000\n",
       "dtype: float64"
      ]
     },
     "execution_count": 10,
     "metadata": {},
     "output_type": "execute_result"
    }
   ],
   "source": [
    "print('GO Terms distribution')\n",
    "go_term_distribution = pd.Series(labels.values(),index=labels.keys()).sort_values(ascending=False)\n",
    "go_term_distribution.describe()"
   ]
  },
  {
   "cell_type": "code",
   "execution_count": 11,
   "metadata": {},
   "outputs": [
    {
     "data": {
      "text/plain": [
       "GO:0003674    369909\n",
       "GO:0008150    346677\n",
       "GO:0005575    321980\n",
       "GO:0009987    295442\n",
       "GO:0044464    291432\n",
       "               ...  \n",
       "GO:1903890         1\n",
       "GO:0102632         1\n",
       "GO:0010059         1\n",
       "GO:0072616         1\n",
       "GO:0030787         1\n",
       "Length: 31365, dtype: int64"
      ]
     },
     "execution_count": 11,
     "metadata": {},
     "output_type": "execute_result"
    }
   ],
   "source": [
    "go_term_distribution"
   ]
  },
  {
   "cell_type": "code",
   "execution_count": 12,
   "metadata": {},
   "outputs": [
    {
     "data": {
      "text/plain": [
       "[<matplotlib.lines.Line2D at 0x7f912b47f040>]"
      ]
     },
     "execution_count": 12,
     "metadata": {},
     "output_type": "execute_result"
    },
    {
     "data": {
      "image/png": "[encoded data removed]",
      "text/plain": [
       "<Figure size 640x480 with 1 Axes>"
      ]
     },
     "metadata": {},
     "output_type": "display_data"
    }
   ],
   "source": [
    "# Cumulative distribution of GO terms. Shows the number of GO terms that cover X% of the data\n",
    "plt.plot(range(len(go_term_distribution)),(go_term_distribution*100/go_term_distribution.sum()).cumsum())"
   ]
  },
  {
   "cell_type": "code",
   "execution_count": 13,
   "metadata": {},
   "outputs": [
    {
     "name": "stdout",
     "output_type": "stream",
     "text": [
      "Sequence length distribution\n"
     ]
    },
    {
     "data": {
      "text/plain": [
       "count    522607.000000\n",
       "mean        368.042215\n",
       "std         334.721845\n",
       "min           2.000000\n",
       "25%         179.000000\n",
       "50%         303.000000\n",
       "75%         456.000000\n",
       "max       35213.000000\n",
       "Name: sequence, dtype: float64"
      ]
     },
     "execution_count": 13,
     "metadata": {},
     "output_type": "execute_result"
    }
   ],
   "source": [
    "print('Sequence length distribution')\n",
    "\n",
    "df['sequence'].apply(len).describe()"
   ]
  },
  {
   "cell_type": "markdown",
   "metadata": {},
   "source": [
    "# Explore Model Predictions"
   ]
  },
  {
   "cell_type": "code",
   "execution_count": 14,
   "metadata": {},
   "outputs": [],
   "source": [
    "#Read Val Data\n",
    "val_labels = pd.read_parquet(\"../outputs/results/final_validation_labels_fl_mlpscale2_projection_head_2layers.parquet\")\n",
    "val_logits = pd.read_parquet(\"../outputs/results/final_validation_logits_fl_mlpscale2_projection_head_2layers.parquet\")\n",
    "pinf_val_logits = pd.read_parquet('../outputs/results/validation_logits_proteinfer.parquet')\n",
    "pinf_val_labels= pd.read_parquet('../outputs/results/validation_labels_proteinfer.parquet')\n"
   ]
  },
  {
   "cell_type": "code",
   "execution_count": 15,
   "metadata": {},
   "outputs": [],
   "source": [
    "label_descriptions = pd.read_pickle('../data/annotations/go_annotations_2019_07_01.pkl')\n",
    "label_descriptions = label_descriptions.loc[go_term_distribution.index]"
   ]
  },
  {
   "cell_type": "code",
   "execution_count": 16,
   "metadata": {},
   "outputs": [],
   "source": [
    "label_descriptions['label'] = label_descriptions['label'].str.lower().str.rstrip()"
   ]
  },
  {
   "cell_type": "code",
   "execution_count": 17,
   "metadata": {},
   "outputs": [
    {
     "data": {
      "text/plain": [
       "((44352, 32102), (44300, 32102))"
      ]
     },
     "execution_count": 17,
     "metadata": {},
     "output_type": "execute_result"
    }
   ],
   "source": [
    "val_labels.shape,pinf_val_logits.shape"
   ]
  },
  {
   "cell_type": "code",
   "execution_count": 17,
   "metadata": {},
   "outputs": [],
   "source": [
    "#Common ids.. They should all be common but there are 60 sequences more in our dataset\n",
    "#Crate Tensor versions\n",
    "\n",
    "common_seqids = list(set(val_labels.index) & set(pinf_val_labels.index))\n",
    "\n",
    "\n",
    "val_logits = val_logits.loc[common_seqids]\n",
    "val_labels = val_labels.loc[common_seqids]\n",
    "pinf_val_logits = pinf_val_logits.loc[common_seqids]\n",
    "pinf_val_labels = pinf_val_labels.loc[common_seqids]\n",
    "\n",
    "val_logits_t = torch.tensor(val_logits.values)\n",
    "val_labels_t = torch.tensor(val_labels.values).float()\n",
    "val_probabilities_t = torch.sigmoid(val_logits_t)\n",
    "\n",
    "pinf_val_logits_t = torch.tensor(pinf_val_logits.values)\n",
    "pinf_val_labels_t = torch.tensor(pinf_val_labels.values).float()\n",
    "pinf_val_probabilities_t = torch.sigmoid(pinf_val_logits_t)\n",
    "\n",
    "val_probabilities = pd.DataFrame(val_probabilities_t.numpy(),columns=val_logits.columns,index=val_logits.index)\n",
    "pinf_val_probabilities = pd.DataFrame(pinf_val_probabilities_t.numpy(),columns=pinf_val_logits.columns,index=pinf_val_logits.index)"
   ]
  },
  {
   "cell_type": "code",
   "execution_count": 18,
   "metadata": {},
   "outputs": [],
   "source": [
    "val_logits_t = torch.tensor(val_logits.values)\n",
    "val_labels_t = torch.tensor(val_labels.values).float()\n",
    "val_probabilities_t = torch.sigmoid(val_logits_t)\n",
    "\n",
    "pinf_val_logits_t = torch.tensor(pinf_val_logits.values)\n",
    "pinf_val_labels_t = torch.tensor(pinf_val_labels.values).float()\n",
    "pinf_val_probabilities_t = torch.sigmoid(pinf_val_logits_t)\n",
    "\n",
    "val_probabilities = pd.DataFrame(val_probabilities_t.numpy(),columns=val_logits.columns,index=val_logits.index)\n",
    "pinf_val_probabilities = pd.DataFrame(pinf_val_probabilities_t.numpy(),columns=pinf_val_logits.columns,index=pinf_val_logits.index)"
   ]
  },
  {
   "cell_type": "code",
   "execution_count": 68,
   "metadata": {},
   "outputs": [],
   "source": [
    "cooc = val_labels_t.T@val_labels_t"
   ]
  },
  {
   "cell_type": "code",
   "execution_count": 20,
   "metadata": {},
   "outputs": [
    {
     "data": {
      "text/plain": [
       "<matplotlib.legend.Legend at 0x7ff16f149cf0>"
      ]
     },
     "execution_count": 20,
     "metadata": {},
     "output_type": "execute_result"
    },
    {
     "data": {
      "image/png": "[encoded data removed]",
      "text/plain": [
       "<Figure size 640x480 with 1 Axes>"
      ]
     },
     "metadata": {},
     "output_type": "display_data"
    }
   ],
   "source": [
    "val_probabilities.mean(axis=1).plot(label='Ours')\n",
    "pinf_val_probabilities.mean(axis=1).plot(label='Proteinfer',alpha=0.5,linestyle='--')\n",
    "plt.legend()"
   ]
  },
  {
   "cell_type": "code",
   "execution_count": 21,
   "metadata": {},
   "outputs": [
    {
     "data": {
      "text/plain": [
       "<matplotlib.legend.Legend at 0x7ff1545176d0>"
      ]
     },
     "execution_count": 21,
     "metadata": {},
     "output_type": "execute_result"
    },
    {
     "data": {
      "image/png": "[encoded data removed]",
      "text/plain": [
       "<Figure size 640x480 with 1 Axes>"
      ]
     },
     "metadata": {},
     "output_type": "display_data"
    }
   ],
   "source": [
    "val_probabilities.mean(axis=0).plot(label='Ours')\n",
    "pinf_val_probabilities.mean(axis=0).plot(label='Proteinfer',alpha=0.5,linestyle='--')\n",
    "plt.legend()"
   ]
  },
  {
   "cell_type": "code",
   "execution_count": 22,
   "metadata": {},
   "outputs": [
    {
     "data": {
      "text/plain": [
       "0    0.997824\n",
       "dtype: float64"
      ]
     },
     "execution_count": 22,
     "metadata": {},
     "output_type": "execute_result"
    }
   ],
   "source": [
    "pd.DataFrame(val_probabilities.mean(axis=0)).corrwith(pd.DataFrame(pinf_val_probabilities.mean(axis=0)),axis=0)"
   ]
  },
  {
   "cell_type": "code",
   "execution_count": 23,
   "metadata": {},
   "outputs": [],
   "source": [
    "sequence_dist_corr = pinf_val_probabilities.corrwith(val_probabilities,axis=1)\n",
    "label_dist_corr = pinf_val_probabilities.corrwith(val_probabilities,axis=0)"
   ]
  },
  {
   "cell_type": "code",
   "execution_count": 25,
   "metadata": {},
   "outputs": [
    {
     "data": {
      "text/plain": [
       "<Axes: >"
      ]
     },
     "execution_count": 25,
     "metadata": {},
     "output_type": "execute_result"
    },
    {
     "data": {
      "image/png": "[encoded data removed]",
      "text/plain": [
       "<Figure size 640x480 with 1 Axes>"
      ]
     },
     "metadata": {},
     "output_type": "display_data"
    }
   ],
   "source": [
    "sequence_dist_corr.hist(bins=100)"
   ]
  },
  {
   "cell_type": "code",
   "execution_count": 26,
   "metadata": {},
   "outputs": [
    {
     "data": {
      "text/plain": [
       "<Axes: >"
      ]
     },
     "execution_count": 26,
     "metadata": {},
     "output_type": "execute_result"
    },
    {
     "data": {
      "image/png": "[encoded data removed]",
      "text/plain": [
       "<Figure size 640x480 with 1 Axes>"
      ]
     },
     "metadata": {},
     "output_type": "display_data"
    }
   ],
   "source": [
    "label_dist_corr.hist(bins=100)"
   ]
  },
  {
   "cell_type": "code",
   "execution_count": 25,
   "metadata": {},
   "outputs": [
    {
     "data": {
      "text/plain": [
       "<Axes: >"
      ]
     },
     "execution_count": 25,
     "metadata": {},
     "output_type": "execute_result"
    },
    {
     "data": {
      "image/png": "[encoded data removed]",
      "text/plain": [
       "<Figure size 640x480 with 1 Axes>"
      ]
     },
     "metadata": {},
     "output_type": "display_data"
    }
   ],
   "source": [
    "label_dist_corr.hist(bins=100)"
   ]
  },
  {
   "cell_type": "markdown",
   "metadata": {},
   "source": [
    "Compare losses"
   ]
  },
  {
   "cell_type": "code",
   "execution_count": 18,
   "metadata": {},
   "outputs": [],
   "source": [
    "import torch\n",
    "from src.utils.losses import FocalLoss\n",
    "\n",
    "bce_probs = torch.nn.BCELoss(reduction='none')\n",
    "bce = torch.nn.BCEWithLogitsLoss(reduction='none')\n",
    "fl = FocalLoss(alpha=-1,gamma=3,reduction='none')\n"
   ]
  },
  {
   "cell_type": "code",
   "execution_count": 19,
   "metadata": {},
   "outputs": [
    {
     "data": {
      "text/plain": [
       "(tensor(0.0036), tensor(0.0020))"
      ]
     },
     "execution_count": 19,
     "metadata": {},
     "output_type": "execute_result"
    }
   ],
   "source": [
    "#BCE Loss\n",
    "ours_val_bce_losses = bce(torch.tensor(val_logits.values), torch.tensor(val_labels.values).float())\n",
    "pinf_val_bce_losses = bce(torch.tensor(pinf_val_logits.values), torch.tensor(pinf_val_labels.values).float())\n",
    "pinf_val_bce_losses.mean(),ours_val_bce_losses.mean()"
   ]
  },
  {
   "cell_type": "code",
   "execution_count": 20,
   "metadata": {},
   "outputs": [
    {
     "data": {
      "text/plain": [
       "(tensor(0.0035), tensor(0.0015))"
      ]
     },
     "execution_count": 20,
     "metadata": {},
     "output_type": "execute_result"
    }
   ],
   "source": [
    "#Focal Loss\n",
    "\n",
    "ours_val_bce_losses = fl(torch.tensor(val_logits.values), torch.tensor(val_labels.values).float())\n",
    "pinf_val_bce_losses = fl(torch.tensor(pinf_val_logits.values), torch.tensor(pinf_val_labels.values).float())\n",
    "pinf_val_bce_losses.mean(),ours_val_bce_losses.mean()"
   ]
  },
  {
   "cell_type": "markdown",
   "metadata": {},
   "source": [
    "Random model baseline losses"
   ]
  },
  {
   "cell_type": "code",
   "execution_count": 127,
   "metadata": {},
   "outputs": [
    {
     "data": {
      "text/plain": [
       "(tensor(0.6931), tensor(0.2346))"
      ]
     },
     "execution_count": 127,
     "metadata": {},
     "output_type": "execute_result"
    }
   ],
   "source": [
    "random_model_bce = bce_probs(torch.ones_like(val_labels_t)*0.5, val_labels_t)\n",
    "random_model_fl =fl(torch.ones_like(val_labels_t)*0.5, val_labels_t)\n",
    "random_model_bce.mean(),random_model_fl.mean()"
   ]
  },
  {
   "cell_type": "markdown",
   "metadata": {},
   "source": [
    "Always predict 1/672 = probability of positive in the dataset"
   ]
  },
  {
   "cell_type": "code",
   "execution_count": 128,
   "metadata": {},
   "outputs": [
    {
     "data": {
      "text/plain": [
       "(tensor(0.0113), tensor(0.0869))"
      ]
     },
     "execution_count": 128,
     "metadata": {},
     "output_type": "execute_result"
    }
   ],
   "source": [
    "always_negative_preds = torch.ones_like(val_labels_t)/672\n",
    "predict_0_model_bce = bce_probs(always_negative_preds, val_labels_t)\n",
    "predict_0_model_fl = fl(always_negative_preds, val_labels_t)\n",
    "\n",
    "predict_0_model_bce.mean(),predict_0_model_fl.mean()\n"
   ]
  },
  {
   "cell_type": "code",
   "execution_count": 129,
   "metadata": {},
   "outputs": [],
   "source": [
    "always_negative_preds = torch.ones_like(val_labels_t)/672\n",
    "always_random = torch.ones_like(val_labels_t)*.5"
   ]
  },
  {
   "cell_type": "markdown",
   "metadata": {},
   "source": [
    "Baseline top classes"
   ]
  },
  {
   "cell_type": "code",
   "execution_count": 37,
   "metadata": {},
   "outputs": [
    {
     "data": {
      "text/plain": [
       "(tensor(0.0927), tensor(0.0973))"
      ]
     },
     "execution_count": 37,
     "metadata": {},
     "output_type": "execute_result"
    }
   ],
   "source": [
    "n = 1000\n",
    "predict_top_classes = val_probabilities.copy()\n",
    "top_n = go_term_distribution[:n].index\n",
    "predict_top_classes.iloc[:,:] = 0.0\n",
    "for col in top_n:\n",
    "    predict_top_classes[col]=0.9\n",
    "predict_top_classes = torch.tensor(predict_top_classes.values).float()\n",
    "\n",
    "predict_top_classes_bce = bce_probs(predict_top_classes, val_labels_t)\n",
    "predict_top_classes_fl = fl(predict_top_classes, val_labels_t)\n",
    "\n",
    "predict_top_classes_bce.mean(),predict_top_classes_fl.mean()"
   ]
  },
  {
   "cell_type": "code",
   "execution_count": 28,
   "metadata": {},
   "outputs": [
    {
     "name": "stderr",
     "output_type": "stream",
     "text": [
      "100%|██████████| 21804/21804 [01:53<00:00, 192.62it/s]\n"
     ]
    }
   ],
   "source": [
    "res=metrics_per_label_df(val_labels,val_probabilities,device='cuda',threshold=threshold)\n"
   ]
  },
  {
   "cell_type": "code",
   "execution_count": 19,
   "metadata": {},
   "outputs": [
    {
     "name": "stderr",
     "output_type": "stream",
     "text": [
      "100%|██████████| 21804/21804 [01:50<00:00, 196.62it/s]\n",
      "  2%|▏         | 363/21791 [00:01<01:29, 238.40it/s]\n"
     ]
    },
    {
     "ename": "KeyboardInterrupt",
     "evalue": "",
     "output_type": "error",
     "traceback": [
      "\u001b[0;31m---------------------------------------------------------------------------\u001b[0m",
      "\u001b[0;31mKeyboardInterrupt\u001b[0m                         Traceback (most recent call last)",
      "Cell \u001b[0;32mIn[19], line 4\u001b[0m\n\u001b[1;32m      2\u001b[0m threshold \u001b[38;5;241m=\u001b[39m \u001b[38;5;241m0.5\u001b[39m\n\u001b[1;32m      3\u001b[0m res\u001b[38;5;241m=\u001b[39mmetrics_per_label_df(val_labels,val_probabilities,device\u001b[38;5;241m=\u001b[39m\u001b[38;5;124m'\u001b[39m\u001b[38;5;124mcuda\u001b[39m\u001b[38;5;124m'\u001b[39m,threshold\u001b[38;5;241m=\u001b[39mthreshold)\n\u001b[0;32m----> 4\u001b[0m pinf_res\u001b[38;5;241m=\u001b[39m\u001b[43mmetrics_per_label_df\u001b[49m\u001b[43m(\u001b[49m\u001b[43mpinf_val_labels\u001b[49m\u001b[43m,\u001b[49m\u001b[43mpinf_val_probabilities\u001b[49m\u001b[43m,\u001b[49m\u001b[43mdevice\u001b[49m\u001b[38;5;241;43m=\u001b[39;49m\u001b[38;5;124;43m'\u001b[39;49m\u001b[38;5;124;43mcuda\u001b[39;49m\u001b[38;5;124;43m'\u001b[39;49m\u001b[43m,\u001b[49m\u001b[43mthreshold\u001b[49m\u001b[38;5;241;43m=\u001b[39;49m\u001b[43mthreshold\u001b[49m\u001b[43m)\u001b[49m\n",
      "File \u001b[0;32m~/ProteinFunctions/src/utils/evaluation.py:318\u001b[0m, in \u001b[0;36mmetrics_per_label_df\u001b[0;34m(label_df, pred_df, device, threshold)\u001b[0m\n\u001b[1;32m    316\u001b[0m \u001b[38;5;28;01mif\u001b[39;00m threshold \u001b[38;5;129;01mis\u001b[39;00m \u001b[38;5;129;01mnot\u001b[39;00m \u001b[38;5;28;01mNone\u001b[39;00m:\n\u001b[1;32m    317\u001b[0m     row[\u001b[38;5;124m'\u001b[39m\u001b[38;5;124mPrecision\u001b[39m\u001b[38;5;124m'\u001b[39m] \u001b[38;5;241m=\u001b[39m Precision(task\u001b[38;5;241m=\u001b[39m\u001b[38;5;124m\"\u001b[39m\u001b[38;5;124mbinary\u001b[39m\u001b[38;5;124m\"\u001b[39m,threshold\u001b[38;5;241m=\u001b[39mthreshold)\u001b[38;5;241m.\u001b[39mto(device)(preds,ground_truth)\u001b[38;5;241m.\u001b[39mitem()\n\u001b[0;32m--> 318\u001b[0m     row[\u001b[38;5;124m'\u001b[39m\u001b[38;5;124mRecall\u001b[39m\u001b[38;5;124m'\u001b[39m] \u001b[38;5;241m=\u001b[39m \u001b[43mPrecision\u001b[49m\u001b[43m(\u001b[49m\u001b[43mtask\u001b[49m\u001b[38;5;241;43m=\u001b[39;49m\u001b[38;5;124;43m\"\u001b[39;49m\u001b[38;5;124;43mbinary\u001b[39;49m\u001b[38;5;124;43m\"\u001b[39;49m\u001b[43m,\u001b[49m\u001b[43mthreshold\u001b[49m\u001b[38;5;241;43m=\u001b[39;49m\u001b[43mthreshold\u001b[49m\u001b[43m)\u001b[49m\u001b[38;5;241m.\u001b[39mto(device)(preds,ground_truth)\u001b[38;5;241m.\u001b[39mitem()\n\u001b[1;32m    319\u001b[0m     row[\u001b[38;5;124m'\u001b[39m\u001b[38;5;124mF1\u001b[39m\u001b[38;5;124m'\u001b[39m] \u001b[38;5;241m=\u001b[39m \u001b[38;5;241m2\u001b[39m\u001b[38;5;241m*\u001b[39mrow[\u001b[38;5;124m'\u001b[39m\u001b[38;5;124mPrecision\u001b[39m\u001b[38;5;124m'\u001b[39m]\u001b[38;5;241m*\u001b[39mrow[\u001b[38;5;124m'\u001b[39m\u001b[38;5;124mRecall\u001b[39m\u001b[38;5;124m'\u001b[39m]\u001b[38;5;241m/\u001b[39m(row[\u001b[38;5;124m'\u001b[39m\u001b[38;5;124mPrecision\u001b[39m\u001b[38;5;124m'\u001b[39m]\u001b[38;5;241m+\u001b[39mrow[\u001b[38;5;124m'\u001b[39m\u001b[38;5;124mRecall\u001b[39m\u001b[38;5;124m'\u001b[39m]) \u001b[38;5;28;01mif\u001b[39;00m (row[\u001b[38;5;124m'\u001b[39m\u001b[38;5;124mPrecision\u001b[39m\u001b[38;5;124m'\u001b[39m]\u001b[38;5;241m+\u001b[39mrow[\u001b[38;5;124m'\u001b[39m\u001b[38;5;124mRecall\u001b[39m\u001b[38;5;124m'\u001b[39m]) \u001b[38;5;241m>\u001b[39m\u001b[38;5;241m0\u001b[39m \u001b[38;5;28;01melse\u001b[39;00m \u001b[38;5;241m0\u001b[39m\n\u001b[1;32m    321\u001b[0m rows\u001b[38;5;241m.\u001b[39mappend(row)\n",
      "File \u001b[0;32m/anaconda/envs/protein_functions_310/lib/python3.10/site-packages/torchmetrics/classification/precision_recall.py:929\u001b[0m, in \u001b[0;36mPrecision.__new__\u001b[0;34m(cls, task, threshold, num_classes, num_labels, average, multidim_average, top_k, ignore_index, validate_args, **kwargs)\u001b[0m\n\u001b[1;32m    927\u001b[0m task \u001b[38;5;241m=\u001b[39m ClassificationTask\u001b[38;5;241m.\u001b[39mfrom_str(task)\n\u001b[1;32m    928\u001b[0m \u001b[38;5;28;01mif\u001b[39;00m task \u001b[38;5;241m==\u001b[39m ClassificationTask\u001b[38;5;241m.\u001b[39mBINARY:\n\u001b[0;32m--> 929\u001b[0m     \u001b[38;5;28;01mreturn\u001b[39;00m \u001b[43mBinaryPrecision\u001b[49m\u001b[43m(\u001b[49m\u001b[43mthreshold\u001b[49m\u001b[43m,\u001b[49m\u001b[43m \u001b[49m\u001b[38;5;241;43m*\u001b[39;49m\u001b[38;5;241;43m*\u001b[39;49m\u001b[43mkwargs\u001b[49m\u001b[43m)\u001b[49m\n\u001b[1;32m    930\u001b[0m \u001b[38;5;28;01mif\u001b[39;00m task \u001b[38;5;241m==\u001b[39m ClassificationTask\u001b[38;5;241m.\u001b[39mMULTICLASS:\n\u001b[1;32m    931\u001b[0m     \u001b[38;5;28;01mif\u001b[39;00m \u001b[38;5;129;01mnot\u001b[39;00m \u001b[38;5;28misinstance\u001b[39m(num_classes, \u001b[38;5;28mint\u001b[39m):\n",
      "File \u001b[0;32m/anaconda/envs/protein_functions_310/lib/python3.10/site-packages/torchmetrics/classification/stat_scores.py:176\u001b[0m, in \u001b[0;36mBinaryStatScores.__init__\u001b[0;34m(self, threshold, multidim_average, ignore_index, validate_args, **kwargs)\u001b[0m\n\u001b[1;32m    173\u001b[0m \u001b[38;5;28mself\u001b[39m\u001b[38;5;241m.\u001b[39mignore_index \u001b[38;5;241m=\u001b[39m ignore_index\n\u001b[1;32m    174\u001b[0m \u001b[38;5;28mself\u001b[39m\u001b[38;5;241m.\u001b[39mvalidate_args \u001b[38;5;241m=\u001b[39m validate_args\n\u001b[0;32m--> 176\u001b[0m \u001b[38;5;28;43mself\u001b[39;49m\u001b[38;5;241;43m.\u001b[39;49m\u001b[43m_create_state\u001b[49m\u001b[43m(\u001b[49m\u001b[43msize\u001b[49m\u001b[38;5;241;43m=\u001b[39;49m\u001b[38;5;241;43m1\u001b[39;49m\u001b[43m,\u001b[49m\u001b[43m \u001b[49m\u001b[43mmultidim_average\u001b[49m\u001b[38;5;241;43m=\u001b[39;49m\u001b[43mmultidim_average\u001b[49m\u001b[43m)\u001b[49m\n",
      "File \u001b[0;32m/anaconda/envs/protein_functions_310/lib/python3.10/site-packages/torchmetrics/classification/stat_scores.py:67\u001b[0m, in \u001b[0;36m_AbstractStatScores._create_state\u001b[0;34m(self, size, multidim_average)\u001b[0m\n\u001b[1;32m     65\u001b[0m \u001b[38;5;28mself\u001b[39m\u001b[38;5;241m.\u001b[39madd_state(\u001b[38;5;124m\"\u001b[39m\u001b[38;5;124mfp\u001b[39m\u001b[38;5;124m\"\u001b[39m, default(), dist_reduce_fx\u001b[38;5;241m=\u001b[39mdist_reduce_fx)\n\u001b[1;32m     66\u001b[0m \u001b[38;5;28mself\u001b[39m\u001b[38;5;241m.\u001b[39madd_state(\u001b[38;5;124m\"\u001b[39m\u001b[38;5;124mtn\u001b[39m\u001b[38;5;124m\"\u001b[39m, default(), dist_reduce_fx\u001b[38;5;241m=\u001b[39mdist_reduce_fx)\n\u001b[0;32m---> 67\u001b[0m \u001b[38;5;28;43mself\u001b[39;49m\u001b[38;5;241;43m.\u001b[39;49m\u001b[43madd_state\u001b[49m\u001b[43m(\u001b[49m\u001b[38;5;124;43m\"\u001b[39;49m\u001b[38;5;124;43mfn\u001b[39;49m\u001b[38;5;124;43m\"\u001b[39;49m\u001b[43m,\u001b[49m\u001b[43m \u001b[49m\u001b[43mdefault\u001b[49m\u001b[43m(\u001b[49m\u001b[43m)\u001b[49m\u001b[43m,\u001b[49m\u001b[43m \u001b[49m\u001b[43mdist_reduce_fx\u001b[49m\u001b[38;5;241;43m=\u001b[39;49m\u001b[43mdist_reduce_fx\u001b[49m\u001b[43m)\u001b[49m\n",
      "File \u001b[0;32m/anaconda/envs/protein_functions_310/lib/python3.10/site-packages/torchmetrics/metric.py:264\u001b[0m, in \u001b[0;36mMetric.add_state\u001b[0;34m(self, name, default, dist_reduce_fx, persistent)\u001b[0m\n\u001b[1;32m    260\u001b[0m     default \u001b[38;5;241m=\u001b[39m default\u001b[38;5;241m.\u001b[39mcontiguous()\n\u001b[1;32m    262\u001b[0m \u001b[38;5;28msetattr\u001b[39m(\u001b[38;5;28mself\u001b[39m, name, default)\n\u001b[0;32m--> 264\u001b[0m \u001b[38;5;28mself\u001b[39m\u001b[38;5;241m.\u001b[39m_defaults[name] \u001b[38;5;241m=\u001b[39m \u001b[43mdeepcopy\u001b[49m\u001b[43m(\u001b[49m\u001b[43mdefault\u001b[49m\u001b[43m)\u001b[49m\n\u001b[1;32m    265\u001b[0m \u001b[38;5;28mself\u001b[39m\u001b[38;5;241m.\u001b[39m_persistent[name] \u001b[38;5;241m=\u001b[39m persistent\n\u001b[1;32m    266\u001b[0m \u001b[38;5;28mself\u001b[39m\u001b[38;5;241m.\u001b[39m_reductions[name] \u001b[38;5;241m=\u001b[39m dist_reduce_fx\n",
      "File \u001b[0;32m/anaconda/envs/protein_functions_310/lib/python3.10/copy.py:153\u001b[0m, in \u001b[0;36mdeepcopy\u001b[0;34m(x, memo, _nil)\u001b[0m\n\u001b[1;32m    151\u001b[0m copier \u001b[38;5;241m=\u001b[39m \u001b[38;5;28mgetattr\u001b[39m(x, \u001b[38;5;124m\"\u001b[39m\u001b[38;5;124m__deepcopy__\u001b[39m\u001b[38;5;124m\"\u001b[39m, \u001b[38;5;28;01mNone\u001b[39;00m)\n\u001b[1;32m    152\u001b[0m \u001b[38;5;28;01mif\u001b[39;00m copier \u001b[38;5;129;01mis\u001b[39;00m \u001b[38;5;129;01mnot\u001b[39;00m \u001b[38;5;28;01mNone\u001b[39;00m:\n\u001b[0;32m--> 153\u001b[0m     y \u001b[38;5;241m=\u001b[39m \u001b[43mcopier\u001b[49m\u001b[43m(\u001b[49m\u001b[43mmemo\u001b[49m\u001b[43m)\u001b[49m\n\u001b[1;32m    154\u001b[0m \u001b[38;5;28;01melse\u001b[39;00m:\n\u001b[1;32m    155\u001b[0m     reductor \u001b[38;5;241m=\u001b[39m dispatch_table\u001b[38;5;241m.\u001b[39mget(\u001b[38;5;28mcls\u001b[39m)\n",
      "File \u001b[0;32m/anaconda/envs/protein_functions_310/lib/python3.10/site-packages/torch/_tensor.py:168\u001b[0m, in \u001b[0;36mTensor.__deepcopy__\u001b[0;34m(self, memo)\u001b[0m\n\u001b[1;32m    161\u001b[0m         \u001b[38;5;28;01mraise\u001b[39;00m \u001b[38;5;167;01mRuntimeError\u001b[39;00m(\n\u001b[1;32m    162\u001b[0m             \u001b[38;5;124m\"\u001b[39m\u001b[38;5;124mThe default implementation of __deepcopy__() for quantized tensors \u001b[39m\u001b[38;5;124m\"\u001b[39m\n\u001b[1;32m    163\u001b[0m             \u001b[38;5;124m\"\u001b[39m\u001b[38;5;124mexpects the tensor returned by torch._utils._rebuild_qtensor() to \u001b[39m\u001b[38;5;124m\"\u001b[39m\n\u001b[1;32m    164\u001b[0m             \u001b[38;5;124m\"\u001b[39m\u001b[38;5;124mmatch the type of the instance being copied. If you encounter this, \u001b[39m\u001b[38;5;124m\"\u001b[39m\n\u001b[1;32m    165\u001b[0m             \u001b[38;5;124m\"\u001b[39m\u001b[38;5;124mplease open an issue on PyTorch\u001b[39m\u001b[38;5;124m'\u001b[39m\u001b[38;5;124ms GitHub.\u001b[39m\u001b[38;5;124m\"\u001b[39m\n\u001b[1;32m    166\u001b[0m         )\n\u001b[1;32m    167\u001b[0m \u001b[38;5;28;01melse\u001b[39;00m:\n\u001b[0;32m--> 168\u001b[0m     new_tensor \u001b[38;5;241m=\u001b[39m \u001b[38;5;28;43mself\u001b[39;49m\u001b[38;5;241;43m.\u001b[39;49m\u001b[43mnew_empty\u001b[49m\u001b[43m(\u001b[49m\u001b[43m[\u001b[49m\u001b[43m]\u001b[49m\u001b[43m)\u001b[49m\n\u001b[1;32m    169\u001b[0m     \u001b[38;5;28;01mif\u001b[39;00m \u001b[38;5;28mtype\u001b[39m(new_tensor) \u001b[38;5;129;01mis\u001b[39;00m \u001b[38;5;129;01mnot\u001b[39;00m \u001b[38;5;28mtype\u001b[39m(\u001b[38;5;28mself\u001b[39m):\n\u001b[1;32m    170\u001b[0m         \u001b[38;5;28;01mraise\u001b[39;00m \u001b[38;5;167;01mRuntimeError\u001b[39;00m(\n\u001b[1;32m    171\u001b[0m             \u001b[38;5;124m\"\u001b[39m\u001b[38;5;124mThe default implementation of __deepcopy__() for non-wrapper subclasses \u001b[39m\u001b[38;5;124m\"\u001b[39m\n\u001b[1;32m    172\u001b[0m             \u001b[38;5;124m\"\u001b[39m\u001b[38;5;124monly works for subclass types that implement new_empty() and for which \u001b[39m\u001b[38;5;124m\"\u001b[39m\n\u001b[0;32m   (...)\u001b[0m\n\u001b[1;32m    176\u001b[0m             \u001b[38;5;124m\"\u001b[39m\u001b[38;5;124man instance of a different type.\u001b[39m\u001b[38;5;124m\"\u001b[39m\n\u001b[1;32m    177\u001b[0m         )\n",
      "\u001b[0;31mKeyboardInterrupt\u001b[0m: "
     ]
    }
   ],
   "source": [
    "#Define threshold to calculate threshold-dependent metrics otherwise only threshold-agnostic metrics are calculated\n",
    "threshold = None\n",
    "res=metrics_per_label_df(val_labels,val_probabilities,device='cuda',threshold=threshold)\n",
    "pinf_res=metrics_per_label_df(pinf_val_labels,pinf_val_probabilities,device='cuda',threshold=threshold)"
   ]
  },
  {
   "cell_type": "code",
   "execution_count": 26,
   "metadata": {},
   "outputs": [],
   "source": [
    "from src.utils.evaluation import EvalMetrics\n",
    "\n",
    "eval_metrics = EvalMetrics(device='cuda:0')\n",
    "metrics = eval_metrics.get_metric_collection_with_regex(pattern=\"f1_m.*\", threshold=0.5,\n",
    "                                                                num_labels=32102\n",
    "                                                                )"
   ]
  },
  {
   "cell_type": "code",
   "execution_count": 29,
   "metadata": {},
   "outputs": [],
   "source": [
    "a=metrics(val_probabilities_t.to('cuda:0'),val_labels_t.to('cuda:0'))"
   ]
  },
  {
   "cell_type": "code",
   "execution_count": 30,
   "metadata": {},
   "outputs": [
    {
     "data": {
      "text/plain": [
       "{'f1_macro': tensor(0.2177, device='cuda:0'),\n",
       " 'f1_micro': tensor(0.8603, device='cuda:0')}"
      ]
     },
     "execution_count": 30,
     "metadata": {},
     "output_type": "execute_result"
    }
   ],
   "source": [
    "a"
   ]
  },
  {
   "cell_type": "code",
   "execution_count": 23,
   "metadata": {},
   "outputs": [
    {
     "data": {
      "text/plain": [
       "0.29680396842793894"
      ]
     },
     "execution_count": 23,
     "metadata": {},
     "output_type": "execute_result"
    }
   ],
   "source": [
    "res[\"F1\"].fillna(0).mean()"
   ]
  },
  {
   "cell_type": "code",
   "execution_count": 29,
   "metadata": {},
   "outputs": [
    {
     "data": {
      "text/plain": [
       "(0.45503900507782646, 0.6516080107543541)"
      ]
     },
     "execution_count": 29,
     "metadata": {},
     "output_type": "execute_result"
    }
   ],
   "source": [
    "res[\"AUPRC\"].dropna().mean(),pinf_res[\"AUPRC\"].dropna().mean()"
   ]
  },
  {
   "cell_type": "code",
   "execution_count": 30,
   "metadata": {},
   "outputs": [
    {
     "data": {
      "text/plain": [
       "(0.4369847616377259, 0.6446110922796205)"
      ]
     },
     "execution_count": 30,
     "metadata": {},
     "output_type": "execute_result"
    }
   ],
   "source": [
    "res['F1'].mean(),pinf_res['F1'].mean()"
   ]
  },
  {
   "cell_type": "code",
   "execution_count": 31,
   "metadata": {},
   "outputs": [
    {
     "data": {
      "text/plain": [
       "0.30906705086028685"
      ]
     },
     "execution_count": 31,
     "metadata": {},
     "output_type": "execute_result"
    }
   ],
   "source": [
    "res['AUPRC'].fillna(0).mean()"
   ]
  },
  {
   "cell_type": "code",
   "execution_count": 38,
   "metadata": {},
   "outputs": [],
   "source": [
    "res['model']='Ours'\n",
    "pinf_res['model']='Proteinfer'"
   ]
  },
  {
   "cell_type": "code",
   "execution_count": 39,
   "metadata": {},
   "outputs": [],
   "source": [
    "res=pd.concat([res,pinf_res],axis=0)"
   ]
  },
  {
   "cell_type": "code",
   "execution_count": 40,
   "metadata": {},
   "outputs": [],
   "source": [
    "res = res.drop([\"Frequency\",\"Relative Frequency\"],axis=1)"
   ]
  },
  {
   "cell_type": "code",
   "execution_count": 41,
   "metadata": {},
   "outputs": [],
   "source": [
    "res[\"Frequency\"] = res.index.map(go_term_distribution)"
   ]
  },
  {
   "cell_type": "code",
   "execution_count": 42,
   "metadata": {},
   "outputs": [
    {
     "name": "stderr",
     "output_type": "stream",
     "text": [
      "/anaconda/envs/protein_functions_310/lib/python3.10/site-packages/pyarrow/pandas_compat.py:373: FutureWarning: is_sparse is deprecated and will be removed in a future version. Check `isinstance(dtype, pd.SparseDtype)` instead.\n",
      "  if _pandas_api.is_sparse(col):\n"
     ]
    }
   ],
   "source": [
    "res.to_parquet(\"model_comparison_auprc_per_label.parquet\")"
   ]
  },
  {
   "cell_type": "code",
   "execution_count": 43,
   "metadata": {},
   "outputs": [
    {
     "data": {
      "text/plain": [
       "(32102, 3)"
      ]
     },
     "execution_count": 43,
     "metadata": {},
     "output_type": "execute_result"
    }
   ],
   "source": [
    "res[res['model']=='Ours'].shape"
   ]
  },
  {
   "cell_type": "code",
   "execution_count": 44,
   "metadata": {},
   "outputs": [
    {
     "data": {
      "text/plain": [
       "<Axes: xlabel='AUPRC', ylabel='Count'>"
      ]
     },
     "execution_count": 44,
     "metadata": {},
     "output_type": "execute_result"
    },
    {
     "data": {
      "image/png": "[encoded data removed]",
      "text/plain": [
       "<Figure size 640x480 with 1 Axes>"
      ]
     },
     "metadata": {},
     "output_type": "display_data"
    }
   ],
   "source": [
    "sns.histplot(data = res.reset_index(),x='AUPRC',hue='model',bins=100)"
   ]
  },
  {
   "cell_type": "code",
   "execution_count": 45,
   "metadata": {},
   "outputs": [],
   "source": [
    "res_pivot = res.pivot(columns=['model'],values=['AUPRC','Frequency'])"
   ]
  },
  {
   "cell_type": "code",
   "execution_count": 46,
   "metadata": {},
   "outputs": [],
   "source": [
    "res_pivot.columns = [i[0]+'_'+i[1] for i in res_pivot.columns]"
   ]
  },
  {
   "cell_type": "code",
   "execution_count": 47,
   "metadata": {},
   "outputs": [],
   "source": [
    "ours_better = res_pivot[res_pivot['AUPRC_Ours']>res_pivot['AUPRC_Proteinfer']].sort_values(by='Frequency_Ours',ascending=False)"
   ]
  },
  {
   "cell_type": "code",
   "execution_count": 29,
   "metadata": {},
   "outputs": [
    {
     "data": {
      "text/html": [
       "<div>\n",
       "<style scoped>\n",
       "    .dataframe tbody tr th:only-of-type {\n",
       "        vertical-align: middle;\n",
       "    }\n",
       "\n",
       "    .dataframe tbody tr th {\n",
       "        vertical-align: top;\n",
       "    }\n",
       "\n",
       "    .dataframe thead th {\n",
       "        text-align: right;\n",
       "    }\n",
       "</style>\n",
       "<table border=\"1\" class=\"dataframe\">\n",
       "  <thead>\n",
       "    <tr style=\"text-align: right;\">\n",
       "      <th></th>\n",
       "      <th>AUPRC_Ours</th>\n",
       "      <th>AUPRC_Proteinfer</th>\n",
       "      <th>Frequency_Ours</th>\n",
       "      <th>Frequency_Proteinfer</th>\n",
       "    </tr>\n",
       "  </thead>\n",
       "  <tbody>\n",
       "    <tr>\n",
       "      <th>GO:0003674</th>\n",
       "      <td>0.997007</td>\n",
       "      <td>0.994481</td>\n",
       "      <td>369909.0</td>\n",
       "      <td>369909.0</td>\n",
       "    </tr>\n",
       "    <tr>\n",
       "      <th>GO:0008150</th>\n",
       "      <td>0.991259</td>\n",
       "      <td>0.983664</td>\n",
       "      <td>346677.0</td>\n",
       "      <td>346677.0</td>\n",
       "    </tr>\n",
       "    <tr>\n",
       "      <th>GO:0005575</th>\n",
       "      <td>0.994247</td>\n",
       "      <td>0.992867</td>\n",
       "      <td>321980.0</td>\n",
       "      <td>321980.0</td>\n",
       "    </tr>\n",
       "    <tr>\n",
       "      <th>GO:0009987</th>\n",
       "      <td>0.986008</td>\n",
       "      <td>0.980420</td>\n",
       "      <td>295442.0</td>\n",
       "      <td>295442.0</td>\n",
       "    </tr>\n",
       "    <tr>\n",
       "      <th>GO:0044464</th>\n",
       "      <td>0.988952</td>\n",
       "      <td>0.986555</td>\n",
       "      <td>291432.0</td>\n",
       "      <td>291432.0</td>\n",
       "    </tr>\n",
       "    <tr>\n",
       "      <th>...</th>\n",
       "      <td>...</td>\n",
       "      <td>...</td>\n",
       "      <td>...</td>\n",
       "      <td>...</td>\n",
       "    </tr>\n",
       "    <tr>\n",
       "      <th>GO:2000764</th>\n",
       "      <td>0.000329</td>\n",
       "      <td>0.000090</td>\n",
       "      <td>NaN</td>\n",
       "      <td>NaN</td>\n",
       "    </tr>\n",
       "    <tr>\n",
       "      <th>GO:2001194</th>\n",
       "      <td>0.001536</td>\n",
       "      <td>0.000508</td>\n",
       "      <td>NaN</td>\n",
       "      <td>NaN</td>\n",
       "    </tr>\n",
       "    <tr>\n",
       "      <th>GO:2001196</th>\n",
       "      <td>0.002740</td>\n",
       "      <td>0.000538</td>\n",
       "      <td>NaN</td>\n",
       "      <td>NaN</td>\n",
       "    </tr>\n",
       "    <tr>\n",
       "      <th>GO:2001262</th>\n",
       "      <td>0.000231</td>\n",
       "      <td>0.000086</td>\n",
       "      <td>NaN</td>\n",
       "      <td>NaN</td>\n",
       "    </tr>\n",
       "    <tr>\n",
       "      <th>GO:2001284</th>\n",
       "      <td>0.000326</td>\n",
       "      <td>0.000222</td>\n",
       "      <td>NaN</td>\n",
       "      <td>NaN</td>\n",
       "    </tr>\n",
       "  </tbody>\n",
       "</table>\n",
       "<p>3172 rows × 4 columns</p>\n",
       "</div>"
      ],
      "text/plain": [
       "            AUPRC_Ours  AUPRC_Proteinfer  Frequency_Ours  Frequency_Proteinfer\n",
       "GO:0003674    0.997007          0.994481        369909.0              369909.0\n",
       "GO:0008150    0.991259          0.983664        346677.0              346677.0\n",
       "GO:0005575    0.994247          0.992867        321980.0              321980.0\n",
       "GO:0009987    0.986008          0.980420        295442.0              295442.0\n",
       "GO:0044464    0.988952          0.986555        291432.0              291432.0\n",
       "...                ...               ...             ...                   ...\n",
       "GO:2000764    0.000329          0.000090             NaN                   NaN\n",
       "GO:2001194    0.001536          0.000508             NaN                   NaN\n",
       "GO:2001196    0.002740          0.000538             NaN                   NaN\n",
       "GO:2001262    0.000231          0.000086             NaN                   NaN\n",
       "GO:2001284    0.000326          0.000222             NaN                   NaN\n",
       "\n",
       "[3172 rows x 4 columns]"
      ]
     },
     "execution_count": 29,
     "metadata": {},
     "output_type": "execute_result"
    }
   ],
   "source": [
    "ours_better"
   ]
  },
  {
   "cell_type": "code",
   "execution_count": 34,
   "metadata": {},
   "outputs": [],
   "source": [
    "import gc\n",
    "from tqdm import tqdm\n",
    "import math\n",
    "gc.collect()\n",
    "torch.cuda.empty_cache()\n"
   ]
  },
  {
   "cell_type": "code",
   "execution_count": 48,
   "metadata": {},
   "outputs": [],
   "source": [
    "#Bin frequencies\n",
    "quantiles = 10 #May not find desired number and could be less.\n",
    "freq_bins, freq_bin_edges = pd.qcut(go_term_distribution,q=quantiles,duplicates='drop',precision=0,retbins=True, labels=None)\n",
    "#res['Frequency Bin'] = pd.cut(res['Frequency'],bins=freq_bin_edges,labels=None, include_lowest=True,precision=0)"
   ]
  },
  {
   "cell_type": "code",
   "execution_count": 53,
   "metadata": {},
   "outputs": [
    {
     "data": {
      "text/html": [
       "<div>\n",
       "<style scoped>\n",
       "    .dataframe tbody tr th:only-of-type {\n",
       "        vertical-align: middle;\n",
       "    }\n",
       "\n",
       "    .dataframe tbody tr th {\n",
       "        vertical-align: top;\n",
       "    }\n",
       "\n",
       "    .dataframe thead th {\n",
       "        text-align: right;\n",
       "    }\n",
       "</style>\n",
       "<table border=\"1\" class=\"dataframe\">\n",
       "  <thead>\n",
       "    <tr style=\"text-align: right;\">\n",
       "      <th></th>\n",
       "      <th>AUPRC</th>\n",
       "      <th>model</th>\n",
       "      <th>Frequency</th>\n",
       "    </tr>\n",
       "  </thead>\n",
       "  <tbody>\n",
       "    <tr>\n",
       "      <th>GO:0000001</th>\n",
       "      <td>0.039010</td>\n",
       "      <td>Ours</td>\n",
       "      <td>48.0</td>\n",
       "    </tr>\n",
       "    <tr>\n",
       "      <th>GO:0000002</th>\n",
       "      <td>0.655191</td>\n",
       "      <td>Ours</td>\n",
       "      <td>351.0</td>\n",
       "    </tr>\n",
       "    <tr>\n",
       "      <th>GO:0000003</th>\n",
       "      <td>0.392059</td>\n",
       "      <td>Ours</td>\n",
       "      <td>607.0</td>\n",
       "    </tr>\n",
       "    <tr>\n",
       "      <th>GO:0000011</th>\n",
       "      <td>0.215532</td>\n",
       "      <td>Ours</td>\n",
       "      <td>30.0</td>\n",
       "    </tr>\n",
       "    <tr>\n",
       "      <th>GO:0000012</th>\n",
       "      <td>0.504926</td>\n",
       "      <td>Ours</td>\n",
       "      <td>42.0</td>\n",
       "    </tr>\n",
       "    <tr>\n",
       "      <th>...</th>\n",
       "      <td>...</td>\n",
       "      <td>...</td>\n",
       "      <td>...</td>\n",
       "    </tr>\n",
       "    <tr>\n",
       "      <th>GO:2001311</th>\n",
       "      <td>NaN</td>\n",
       "      <td>Proteinfer</td>\n",
       "      <td>4.0</td>\n",
       "    </tr>\n",
       "    <tr>\n",
       "      <th>GO:2001313</th>\n",
       "      <td>NaN</td>\n",
       "      <td>Proteinfer</td>\n",
       "      <td>1.0</td>\n",
       "    </tr>\n",
       "    <tr>\n",
       "      <th>GO:2001315</th>\n",
       "      <td>NaN</td>\n",
       "      <td>Proteinfer</td>\n",
       "      <td>1.0</td>\n",
       "    </tr>\n",
       "    <tr>\n",
       "      <th>GO:2001316</th>\n",
       "      <td>NaN</td>\n",
       "      <td>Proteinfer</td>\n",
       "      <td>1.0</td>\n",
       "    </tr>\n",
       "    <tr>\n",
       "      <th>GO:2001317</th>\n",
       "      <td>NaN</td>\n",
       "      <td>Proteinfer</td>\n",
       "      <td>1.0</td>\n",
       "    </tr>\n",
       "  </tbody>\n",
       "</table>\n",
       "<p>64204 rows × 3 columns</p>\n",
       "</div>"
      ],
      "text/plain": [
       "               AUPRC       model  Frequency\n",
       "GO:0000001  0.039010        Ours       48.0\n",
       "GO:0000002  0.655191        Ours      351.0\n",
       "GO:0000003  0.392059        Ours      607.0\n",
       "GO:0000011  0.215532        Ours       30.0\n",
       "GO:0000012  0.504926        Ours       42.0\n",
       "...              ...         ...        ...\n",
       "GO:2001311       NaN  Proteinfer        4.0\n",
       "GO:2001313       NaN  Proteinfer        1.0\n",
       "GO:2001315       NaN  Proteinfer        1.0\n",
       "GO:2001316       NaN  Proteinfer        1.0\n",
       "GO:2001317       NaN  Proteinfer        1.0\n",
       "\n",
       "[64204 rows x 3 columns]"
      ]
     },
     "execution_count": 53,
     "metadata": {},
     "output_type": "execute_result"
    }
   ],
   "source": [
    "res"
   ]
  },
  {
   "cell_type": "code",
   "execution_count": 54,
   "metadata": {},
   "outputs": [],
   "source": [
    "res['Frequency Bin']=res.index.map(freq_bins)"
   ]
  },
  {
   "cell_type": "code",
   "execution_count": 55,
   "metadata": {},
   "outputs": [
    {
     "data": {
      "text/html": [
       "<div>\n",
       "<style scoped>\n",
       "    .dataframe tbody tr th:only-of-type {\n",
       "        vertical-align: middle;\n",
       "    }\n",
       "\n",
       "    .dataframe tbody tr th {\n",
       "        vertical-align: top;\n",
       "    }\n",
       "\n",
       "    .dataframe thead th {\n",
       "        text-align: right;\n",
       "    }\n",
       "</style>\n",
       "<table border=\"1\" class=\"dataframe\">\n",
       "  <thead>\n",
       "    <tr style=\"text-align: right;\">\n",
       "      <th></th>\n",
       "      <th>AUPRC</th>\n",
       "      <th>model</th>\n",
       "      <th>Frequency</th>\n",
       "      <th>Frequency Bin</th>\n",
       "    </tr>\n",
       "  </thead>\n",
       "  <tbody>\n",
       "    <tr>\n",
       "      <th>GO:0000001</th>\n",
       "      <td>0.039010</td>\n",
       "      <td>Ours</td>\n",
       "      <td>48.0</td>\n",
       "      <td>(25.0, 48.0]</td>\n",
       "    </tr>\n",
       "    <tr>\n",
       "      <th>GO:0000002</th>\n",
       "      <td>0.655191</td>\n",
       "      <td>Ours</td>\n",
       "      <td>351.0</td>\n",
       "      <td>(109.0, 383.0]</td>\n",
       "    </tr>\n",
       "    <tr>\n",
       "      <th>GO:0000003</th>\n",
       "      <td>0.392059</td>\n",
       "      <td>Ours</td>\n",
       "      <td>607.0</td>\n",
       "      <td>(383.0, 369909.0]</td>\n",
       "    </tr>\n",
       "    <tr>\n",
       "      <th>GO:0000011</th>\n",
       "      <td>0.215532</td>\n",
       "      <td>Ours</td>\n",
       "      <td>30.0</td>\n",
       "      <td>(25.0, 48.0]</td>\n",
       "    </tr>\n",
       "    <tr>\n",
       "      <th>GO:0000012</th>\n",
       "      <td>0.504926</td>\n",
       "      <td>Ours</td>\n",
       "      <td>42.0</td>\n",
       "      <td>(25.0, 48.0]</td>\n",
       "    </tr>\n",
       "    <tr>\n",
       "      <th>...</th>\n",
       "      <td>...</td>\n",
       "      <td>...</td>\n",
       "      <td>...</td>\n",
       "      <td>...</td>\n",
       "    </tr>\n",
       "    <tr>\n",
       "      <th>GO:2001311</th>\n",
       "      <td>NaN</td>\n",
       "      <td>Proteinfer</td>\n",
       "      <td>4.0</td>\n",
       "      <td>(3.0, 5.0]</td>\n",
       "    </tr>\n",
       "    <tr>\n",
       "      <th>GO:2001313</th>\n",
       "      <td>NaN</td>\n",
       "      <td>Proteinfer</td>\n",
       "      <td>1.0</td>\n",
       "      <td>(0.0, 3.0]</td>\n",
       "    </tr>\n",
       "    <tr>\n",
       "      <th>GO:2001315</th>\n",
       "      <td>NaN</td>\n",
       "      <td>Proteinfer</td>\n",
       "      <td>1.0</td>\n",
       "      <td>(0.0, 3.0]</td>\n",
       "    </tr>\n",
       "    <tr>\n",
       "      <th>GO:2001316</th>\n",
       "      <td>NaN</td>\n",
       "      <td>Proteinfer</td>\n",
       "      <td>1.0</td>\n",
       "      <td>(0.0, 3.0]</td>\n",
       "    </tr>\n",
       "    <tr>\n",
       "      <th>GO:2001317</th>\n",
       "      <td>NaN</td>\n",
       "      <td>Proteinfer</td>\n",
       "      <td>1.0</td>\n",
       "      <td>(0.0, 3.0]</td>\n",
       "    </tr>\n",
       "  </tbody>\n",
       "</table>\n",
       "<p>64204 rows × 4 columns</p>\n",
       "</div>"
      ],
      "text/plain": [
       "               AUPRC       model  Frequency      Frequency Bin\n",
       "GO:0000001  0.039010        Ours       48.0       (25.0, 48.0]\n",
       "GO:0000002  0.655191        Ours      351.0     (109.0, 383.0]\n",
       "GO:0000003  0.392059        Ours      607.0  (383.0, 369909.0]\n",
       "GO:0000011  0.215532        Ours       30.0       (25.0, 48.0]\n",
       "GO:0000012  0.504926        Ours       42.0       (25.0, 48.0]\n",
       "...              ...         ...        ...                ...\n",
       "GO:2001311       NaN  Proteinfer        4.0         (3.0, 5.0]\n",
       "GO:2001313       NaN  Proteinfer        1.0         (0.0, 3.0]\n",
       "GO:2001315       NaN  Proteinfer        1.0         (0.0, 3.0]\n",
       "GO:2001316       NaN  Proteinfer        1.0         (0.0, 3.0]\n",
       "GO:2001317       NaN  Proteinfer        1.0         (0.0, 3.0]\n",
       "\n",
       "[64204 rows x 4 columns]"
      ]
     },
     "execution_count": 55,
     "metadata": {},
     "output_type": "execute_result"
    }
   ],
   "source": [
    "res"
   ]
  },
  {
   "cell_type": "code",
   "execution_count": 56,
   "metadata": {},
   "outputs": [],
   "source": [
    "res.dropna(subset=[\"AUPRC\"],inplace=True)"
   ]
  },
  {
   "cell_type": "code",
   "execution_count": 57,
   "metadata": {},
   "outputs": [],
   "source": [
    "freq_bins_pct = freq_bins.value_counts()*100/len(go_term_distribution)"
   ]
  },
  {
   "cell_type": "code",
   "execution_count": 58,
   "metadata": {},
   "outputs": [
    {
     "data": {
      "text/plain": [
       "(0.0, 3.0]           23.943886\n",
       "(3.0, 5.0]            8.066316\n",
       "(5.0, 8.0]            8.305436\n",
       "(8.0, 14.0]           9.995218\n",
       "(14.0, 25.0]         10.004782\n",
       "(25.0, 48.0]          9.749721\n",
       "(48.0, 109.0]         9.947394\n",
       "(109.0, 383.0]       10.007971\n",
       "(383.0, 369909.0]     9.979276\n",
       "Name: count, dtype: float64"
      ]
     },
     "execution_count": 58,
     "metadata": {},
     "output_type": "execute_result"
    }
   ],
   "source": [
    "freq_bins_pct.sort_index()"
   ]
  },
  {
   "cell_type": "code",
   "execution_count": 60,
   "metadata": {},
   "outputs": [
    {
     "data": {
      "text/html": [
       "<div>\n",
       "<style scoped>\n",
       "    .dataframe tbody tr th:only-of-type {\n",
       "        vertical-align: middle;\n",
       "    }\n",
       "\n",
       "    .dataframe tbody tr th {\n",
       "        vertical-align: top;\n",
       "    }\n",
       "\n",
       "    .dataframe thead th {\n",
       "        text-align: right;\n",
       "    }\n",
       "</style>\n",
       "<table border=\"1\" class=\"dataframe\">\n",
       "  <thead>\n",
       "    <tr style=\"text-align: right;\">\n",
       "      <th></th>\n",
       "      <th>AUPRC</th>\n",
       "      <th>model</th>\n",
       "      <th>Frequency</th>\n",
       "      <th>Frequency Bin</th>\n",
       "    </tr>\n",
       "  </thead>\n",
       "  <tbody>\n",
       "    <tr>\n",
       "      <th>GO:0000001</th>\n",
       "      <td>0.039010</td>\n",
       "      <td>Ours</td>\n",
       "      <td>48.0</td>\n",
       "      <td>(25.0, 48.0]</td>\n",
       "    </tr>\n",
       "    <tr>\n",
       "      <th>GO:0000002</th>\n",
       "      <td>0.655191</td>\n",
       "      <td>Ours</td>\n",
       "      <td>351.0</td>\n",
       "      <td>(109.0, 383.0]</td>\n",
       "    </tr>\n",
       "    <tr>\n",
       "      <th>GO:0000003</th>\n",
       "      <td>0.392059</td>\n",
       "      <td>Ours</td>\n",
       "      <td>607.0</td>\n",
       "      <td>(383.0, 369909.0]</td>\n",
       "    </tr>\n",
       "    <tr>\n",
       "      <th>GO:0000011</th>\n",
       "      <td>0.215532</td>\n",
       "      <td>Ours</td>\n",
       "      <td>30.0</td>\n",
       "      <td>(25.0, 48.0]</td>\n",
       "    </tr>\n",
       "    <tr>\n",
       "      <th>GO:0000012</th>\n",
       "      <td>0.504926</td>\n",
       "      <td>Ours</td>\n",
       "      <td>42.0</td>\n",
       "      <td>(25.0, 48.0]</td>\n",
       "    </tr>\n",
       "    <tr>\n",
       "      <th>...</th>\n",
       "      <td>...</td>\n",
       "      <td>...</td>\n",
       "      <td>...</td>\n",
       "      <td>...</td>\n",
       "    </tr>\n",
       "    <tr>\n",
       "      <th>GO:2001289</th>\n",
       "      <td>1.000000</td>\n",
       "      <td>Proteinfer</td>\n",
       "      <td>9.0</td>\n",
       "      <td>(8.0, 14.0]</td>\n",
       "    </tr>\n",
       "    <tr>\n",
       "      <th>GO:2001293</th>\n",
       "      <td>1.000000</td>\n",
       "      <td>Proteinfer</td>\n",
       "      <td>826.0</td>\n",
       "      <td>(383.0, 369909.0]</td>\n",
       "    </tr>\n",
       "    <tr>\n",
       "      <th>GO:2001295</th>\n",
       "      <td>1.000000</td>\n",
       "      <td>Proteinfer</td>\n",
       "      <td>819.0</td>\n",
       "      <td>(383.0, 369909.0]</td>\n",
       "    </tr>\n",
       "    <tr>\n",
       "      <th>GO:2001308</th>\n",
       "      <td>0.000350</td>\n",
       "      <td>Proteinfer</td>\n",
       "      <td>6.0</td>\n",
       "      <td>(5.0, 8.0]</td>\n",
       "    </tr>\n",
       "    <tr>\n",
       "      <th>GO:2001310</th>\n",
       "      <td>0.000343</td>\n",
       "      <td>Proteinfer</td>\n",
       "      <td>6.0</td>\n",
       "      <td>(5.0, 8.0]</td>\n",
       "    </tr>\n",
       "  </tbody>\n",
       "</table>\n",
       "<p>43582 rows × 4 columns</p>\n",
       "</div>"
      ],
      "text/plain": [
       "               AUPRC       model  Frequency      Frequency Bin\n",
       "GO:0000001  0.039010        Ours       48.0       (25.0, 48.0]\n",
       "GO:0000002  0.655191        Ours      351.0     (109.0, 383.0]\n",
       "GO:0000003  0.392059        Ours      607.0  (383.0, 369909.0]\n",
       "GO:0000011  0.215532        Ours       30.0       (25.0, 48.0]\n",
       "GO:0000012  0.504926        Ours       42.0       (25.0, 48.0]\n",
       "...              ...         ...        ...                ...\n",
       "GO:2001289  1.000000  Proteinfer        9.0        (8.0, 14.0]\n",
       "GO:2001293  1.000000  Proteinfer      826.0  (383.0, 369909.0]\n",
       "GO:2001295  1.000000  Proteinfer      819.0  (383.0, 369909.0]\n",
       "GO:2001308  0.000350  Proteinfer        6.0         (5.0, 8.0]\n",
       "GO:2001310  0.000343  Proteinfer        6.0         (5.0, 8.0]\n",
       "\n",
       "[43582 rows x 4 columns]"
      ]
     },
     "execution_count": 60,
     "metadata": {},
     "output_type": "execute_result"
    }
   ],
   "source": [
    "res"
   ]
  },
  {
   "cell_type": "code",
   "execution_count": 63,
   "metadata": {},
   "outputs": [
    {
     "data": {
      "text/plain": [
       "<Axes: xlabel='Frequency Bin', ylabel='AUPRC'>"
      ]
     },
     "execution_count": 63,
     "metadata": {},
     "output_type": "execute_result"
    },
    {
     "data": {
      "image/png": "[encoded data removed]",
      "text/plain": [
       "<Figure size 640x480 with 1 Axes>"
      ]
     },
     "metadata": {},
     "output_type": "display_data"
    }
   ],
   "source": [
    "sns.barplot(data = res.reset_index(drop=True),\n",
    "            x='Frequency Bin',\n",
    "            y=metric,\n",
    "            alpha=0.8,\n",
    "            errorbar=('ci', 95),\n",
    "            hue='model')"
   ]
  },
  {
   "cell_type": "code",
   "execution_count": 64,
   "metadata": {},
   "outputs": [
    {
     "name": "stdout",
     "output_type": "stream",
     "text": [
      "23.943886497688506\n",
      "8.06631595727722\n",
      "8.305435995536426\n",
      "9.995217599234817\n",
      "10.004782400765183\n",
      "9.749721026622032\n",
      "9.947393591582975\n",
      "10.007970667941974\n",
      "9.979276263350869\n"
     ]
    },
    {
     "data": {
      "image/png": "[encoded data removed]",
      "text/plain": [
       "<Figure size 1500x600 with 1 Axes>"
      ]
     },
     "metadata": {},
     "output_type": "display_data"
    }
   ],
   "source": [
    "metric = 'AUPRC'\n",
    "\n",
    "fig, ax = plt.subplots(figsize=(15,6))\n",
    "\n",
    "# Annotate bars with the percentage of observations\n",
    "for index, value in enumerate(freq_bins_pct.sort_index().values):\n",
    "    print(value)\n",
    "    ax.text(index, ax.get_ylim()[1]*0.01 + max(res[metric]) * 0.01, f\"{value:.2f}%\", ha='center')\n",
    "\n",
    "\n",
    "sns.barplot(data = res.reset_index(drop=True),\n",
    "            x='Frequency Bin',\n",
    "            y=metric,\n",
    "            alpha=0.8,\n",
    "            errorbar=('ci', 95),\n",
    "            hue='model')\n",
    "ax.set(title=f'Individual label performance ({metric}) by label frequency quantiles',\n",
    "       xlabel='Frequency of GO Function Annotation',\n",
    "       ylabel=metric)\n",
    "sns.despine()\n",
    "plt.ylim(0,1)\n",
    "plt.show()"
   ]
  },
  {
   "cell_type": "code",
   "execution_count": 42,
   "metadata": {},
   "outputs": [
    {
     "data": {
      "text/html": [
       "<div>\n",
       "<style scoped>\n",
       "    .dataframe tbody tr th:only-of-type {\n",
       "        vertical-align: middle;\n",
       "    }\n",
       "\n",
       "    .dataframe tbody tr th {\n",
       "        vertical-align: top;\n",
       "    }\n",
       "\n",
       "    .dataframe thead th {\n",
       "        text-align: right;\n",
       "    }\n",
       "</style>\n",
       "<table border=\"1\" class=\"dataframe\">\n",
       "  <thead>\n",
       "    <tr style=\"text-align: right;\">\n",
       "      <th></th>\n",
       "      <th>AUPRC</th>\n",
       "      <th>model</th>\n",
       "      <th>Frequency</th>\n",
       "      <th>Frequency Bin</th>\n",
       "    </tr>\n",
       "  </thead>\n",
       "  <tbody>\n",
       "    <tr>\n",
       "      <th>GO:0003674</th>\n",
       "      <td>0.996090</td>\n",
       "      <td>Ours</td>\n",
       "      <td>369909.0</td>\n",
       "      <td>(383.0, 369909.0]</td>\n",
       "    </tr>\n",
       "    <tr>\n",
       "      <th>GO:0008150</th>\n",
       "      <td>0.988887</td>\n",
       "      <td>Ours</td>\n",
       "      <td>346677.0</td>\n",
       "      <td>(383.0, 369909.0]</td>\n",
       "    </tr>\n",
       "    <tr>\n",
       "      <th>GO:0005575</th>\n",
       "      <td>0.993006</td>\n",
       "      <td>Ours</td>\n",
       "      <td>321980.0</td>\n",
       "      <td>(383.0, 369909.0]</td>\n",
       "    </tr>\n",
       "    <tr>\n",
       "      <th>GO:0009987</th>\n",
       "      <td>0.983003</td>\n",
       "      <td>Ours</td>\n",
       "      <td>295442.0</td>\n",
       "      <td>(383.0, 369909.0]</td>\n",
       "    </tr>\n",
       "    <tr>\n",
       "      <th>GO:0044464</th>\n",
       "      <td>0.986674</td>\n",
       "      <td>Ours</td>\n",
       "      <td>291432.0</td>\n",
       "      <td>(383.0, 369909.0]</td>\n",
       "    </tr>\n",
       "    <tr>\n",
       "      <th>...</th>\n",
       "      <td>...</td>\n",
       "      <td>...</td>\n",
       "      <td>...</td>\n",
       "      <td>...</td>\n",
       "    </tr>\n",
       "    <tr>\n",
       "      <th>GO:1905067</th>\n",
       "      <td>1.000000</td>\n",
       "      <td>Ours</td>\n",
       "      <td>1.0</td>\n",
       "      <td>(0.0, 3.0]</td>\n",
       "    </tr>\n",
       "    <tr>\n",
       "      <th>GO:1904964</th>\n",
       "      <td>1.000000</td>\n",
       "      <td>Ours</td>\n",
       "      <td>1.0</td>\n",
       "      <td>(0.0, 3.0]</td>\n",
       "    </tr>\n",
       "    <tr>\n",
       "      <th>GO:0086044</th>\n",
       "      <td>1.000000</td>\n",
       "      <td>Ours</td>\n",
       "      <td>1.0</td>\n",
       "      <td>(0.0, 3.0]</td>\n",
       "    </tr>\n",
       "    <tr>\n",
       "      <th>GO:0086054</th>\n",
       "      <td>1.000000</td>\n",
       "      <td>Ours</td>\n",
       "      <td>1.0</td>\n",
       "      <td>(0.0, 3.0]</td>\n",
       "    </tr>\n",
       "    <tr>\n",
       "      <th>GO:1904173</th>\n",
       "      <td>1.000000</td>\n",
       "      <td>Ours</td>\n",
       "      <td>1.0</td>\n",
       "      <td>(0.0, 3.0]</td>\n",
       "    </tr>\n",
       "  </tbody>\n",
       "</table>\n",
       "<p>1608 rows × 4 columns</p>\n",
       "</div>"
      ],
      "text/plain": [
       "               AUPRC model  Frequency      Frequency Bin\n",
       "GO:0003674  0.996090  Ours   369909.0  (383.0, 369909.0]\n",
       "GO:0008150  0.988887  Ours   346677.0  (383.0, 369909.0]\n",
       "GO:0005575  0.993006  Ours   321980.0  (383.0, 369909.0]\n",
       "GO:0009987  0.983003  Ours   295442.0  (383.0, 369909.0]\n",
       "GO:0044464  0.986674  Ours   291432.0  (383.0, 369909.0]\n",
       "...              ...   ...        ...                ...\n",
       "GO:1905067  1.000000  Ours        1.0         (0.0, 3.0]\n",
       "GO:1904964  1.000000  Ours        1.0         (0.0, 3.0]\n",
       "GO:0086044  1.000000  Ours        1.0         (0.0, 3.0]\n",
       "GO:0086054  1.000000  Ours        1.0         (0.0, 3.0]\n",
       "GO:1904173  1.000000  Ours        1.0         (0.0, 3.0]\n",
       "\n",
       "[1608 rows x 4 columns]"
      ]
     },
     "execution_count": 42,
     "metadata": {},
     "output_type": "execute_result"
    }
   ],
   "source": [
    "res_ours = res.loc[res['model']=='Ours']\n",
    "res_pinf = res.loc[res['model']=='Proteinfer']\n",
    "\n",
    "res_ours[res_ours['AUPRC']>=0.9].sort_values(by='Frequency',ascending=False)"
   ]
  },
  {
   "cell_type": "code",
   "execution_count": 43,
   "metadata": {},
   "outputs": [
    {
     "data": {
      "text/plain": [
       "AUPRC           0.966465\n",
       "Frequency    8255.058458\n",
       "dtype: float64"
      ]
     },
     "execution_count": 43,
     "metadata": {},
     "output_type": "execute_result"
    }
   ],
   "source": [
    "res_ours[res_ours['AUPRC']>=0.9][['AUPRC','Frequency']].mean()"
   ]
  },
  {
   "cell_type": "code",
   "execution_count": 44,
   "metadata": {},
   "outputs": [
    {
     "data": {
      "text/html": [
       "<div>\n",
       "<style scoped>\n",
       "    .dataframe tbody tr th:only-of-type {\n",
       "        vertical-align: middle;\n",
       "    }\n",
       "\n",
       "    .dataframe tbody tr th {\n",
       "        vertical-align: top;\n",
       "    }\n",
       "\n",
       "    .dataframe thead th {\n",
       "        text-align: right;\n",
       "    }\n",
       "</style>\n",
       "<table border=\"1\" class=\"dataframe\">\n",
       "  <thead>\n",
       "    <tr style=\"text-align: right;\">\n",
       "      <th></th>\n",
       "      <th>AUPRC</th>\n",
       "      <th>model</th>\n",
       "      <th>Frequency</th>\n",
       "      <th>Frequency Bin</th>\n",
       "    </tr>\n",
       "  </thead>\n",
       "  <tbody>\n",
       "    <tr>\n",
       "      <th>GO:0003674</th>\n",
       "      <td>0.994481</td>\n",
       "      <td>Proteinfer</td>\n",
       "      <td>369909.0</td>\n",
       "      <td>(383.0, 369909.0]</td>\n",
       "    </tr>\n",
       "    <tr>\n",
       "      <th>GO:0008150</th>\n",
       "      <td>0.983664</td>\n",
       "      <td>Proteinfer</td>\n",
       "      <td>346677.0</td>\n",
       "      <td>(383.0, 369909.0]</td>\n",
       "    </tr>\n",
       "    <tr>\n",
       "      <th>GO:0005575</th>\n",
       "      <td>0.992867</td>\n",
       "      <td>Proteinfer</td>\n",
       "      <td>321980.0</td>\n",
       "      <td>(383.0, 369909.0]</td>\n",
       "    </tr>\n",
       "    <tr>\n",
       "      <th>GO:0009987</th>\n",
       "      <td>0.980420</td>\n",
       "      <td>Proteinfer</td>\n",
       "      <td>295442.0</td>\n",
       "      <td>(383.0, 369909.0]</td>\n",
       "    </tr>\n",
       "    <tr>\n",
       "      <th>GO:0044464</th>\n",
       "      <td>0.986555</td>\n",
       "      <td>Proteinfer</td>\n",
       "      <td>291432.0</td>\n",
       "      <td>(383.0, 369909.0]</td>\n",
       "    </tr>\n",
       "    <tr>\n",
       "      <th>...</th>\n",
       "      <td>...</td>\n",
       "      <td>...</td>\n",
       "      <td>...</td>\n",
       "      <td>...</td>\n",
       "    </tr>\n",
       "    <tr>\n",
       "      <th>GO:1904025</th>\n",
       "      <td>1.000000</td>\n",
       "      <td>Proteinfer</td>\n",
       "      <td>1.0</td>\n",
       "      <td>(0.0, 3.0]</td>\n",
       "    </tr>\n",
       "    <tr>\n",
       "      <th>GO:0033841</th>\n",
       "      <td>1.000000</td>\n",
       "      <td>Proteinfer</td>\n",
       "      <td>1.0</td>\n",
       "      <td>(0.0, 3.0]</td>\n",
       "    </tr>\n",
       "    <tr>\n",
       "      <th>GO:0090425</th>\n",
       "      <td>1.000000</td>\n",
       "      <td>Proteinfer</td>\n",
       "      <td>1.0</td>\n",
       "      <td>(0.0, 3.0]</td>\n",
       "    </tr>\n",
       "    <tr>\n",
       "      <th>GO:0021837</th>\n",
       "      <td>1.000000</td>\n",
       "      <td>Proteinfer</td>\n",
       "      <td>1.0</td>\n",
       "      <td>(0.0, 3.0]</td>\n",
       "    </tr>\n",
       "    <tr>\n",
       "      <th>GO:0030251</th>\n",
       "      <td>1.000000</td>\n",
       "      <td>Proteinfer</td>\n",
       "      <td>1.0</td>\n",
       "      <td>(0.0, 3.0]</td>\n",
       "    </tr>\n",
       "  </tbody>\n",
       "</table>\n",
       "<p>7856 rows × 4 columns</p>\n",
       "</div>"
      ],
      "text/plain": [
       "               AUPRC       model  Frequency      Frequency Bin\n",
       "GO:0003674  0.994481  Proteinfer   369909.0  (383.0, 369909.0]\n",
       "GO:0008150  0.983664  Proteinfer   346677.0  (383.0, 369909.0]\n",
       "GO:0005575  0.992867  Proteinfer   321980.0  (383.0, 369909.0]\n",
       "GO:0009987  0.980420  Proteinfer   295442.0  (383.0, 369909.0]\n",
       "GO:0044464  0.986555  Proteinfer   291432.0  (383.0, 369909.0]\n",
       "...              ...         ...        ...                ...\n",
       "GO:1904025  1.000000  Proteinfer        1.0         (0.0, 3.0]\n",
       "GO:0033841  1.000000  Proteinfer        1.0         (0.0, 3.0]\n",
       "GO:0090425  1.000000  Proteinfer        1.0         (0.0, 3.0]\n",
       "GO:0021837  1.000000  Proteinfer        1.0         (0.0, 3.0]\n",
       "GO:0030251  1.000000  Proteinfer        1.0         (0.0, 3.0]\n",
       "\n",
       "[7856 rows x 4 columns]"
      ]
     },
     "execution_count": 44,
     "metadata": {},
     "output_type": "execute_result"
    }
   ],
   "source": [
    "res_pinf[res_pinf['AUPRC']>=0.9].sort_values(by='Frequency',ascending=False)"
   ]
  },
  {
   "cell_type": "code",
   "execution_count": 45,
   "metadata": {},
   "outputs": [
    {
     "data": {
      "text/plain": [
       "AUPRC           0.988498\n",
       "Frequency    1798.803335\n",
       "dtype: float64"
      ]
     },
     "execution_count": 45,
     "metadata": {},
     "output_type": "execute_result"
    }
   ],
   "source": [
    "res_pinf[res_pinf['AUPRC']>=0.9][['AUPRC','Frequency']].mean()"
   ]
  },
  {
   "cell_type": "code",
   "execution_count": 109,
   "metadata": {},
   "outputs": [
    {
     "data": {
      "text/plain": [
       "0.9623318579385053"
      ]
     },
     "execution_count": 109,
     "metadata": {},
     "output_type": "execute_result"
    }
   ],
   "source": [
    "res_pinf.loc[res_ours[res_ours['AUPRC']>=0.8].index]['AUPRC'].mean()"
   ]
  },
  {
   "cell_type": "code",
   "execution_count": 55,
   "metadata": {},
   "outputs": [
    {
     "name": "stderr",
     "output_type": "stream",
     "text": [
      "/anaconda/envs/protein_functions_310/lib/python3.10/site-packages/torchmetrics/utilities/prints.py:43: UserWarning: Average precision score for one or more classes was `nan`. Ignoring these classes in macro-average\n",
      "  warnings.warn(*args, **kwargs)  # noqa: B028\n"
     ]
    }
   ],
   "source": [
    "\n",
    "\n",
    "ground_truth = torch.tensor(val_labels.values)\n",
    "preds = torch.tensor(val_probabilities.values)\n",
    "sp = AveragePrecision(task=\"multilabel\",num_labels=val_labels.shape[-1],average='macro').to('cuda')(preds,ground_truth).item()"
   ]
  },
  {
   "cell_type": "code",
   "execution_count": 56,
   "metadata": {},
   "outputs": [
    {
     "data": {
      "text/plain": [
       "0.3073350787162781"
      ]
     },
     "execution_count": 56,
     "metadata": {},
     "output_type": "execute_result"
    }
   ],
   "source": [
    "ground_truth = torch.tensor(val_labels[items].values)\n",
    "preds = torch.tensor(val_probabilities[items].values)\n",
    "APMicro = AveragePrecision(task=\"multilabel\",num_labels=len(items),average='micro').to('cuda')(preds,ground_truth).item()"
   ]
  },
  {
   "cell_type": "code",
   "execution_count": 37,
   "metadata": {},
   "outputs": [
    {
     "name": "stderr",
     "output_type": "stream",
     "text": [
      "  0%|          | 0/8 [00:00<?, ?it/s]"
     ]
    },
    {
     "name": "stdout",
     "output_type": "stream",
     "text": [
      "(0.0, 2.0]\n"
     ]
    },
    {
     "name": "stderr",
     "output_type": "stream",
     "text": [
      " 12%|█▎        | 1/8 [00:27<03:11, 27.30s/it]"
     ]
    },
    {
     "name": "stdout",
     "output_type": "stream",
     "text": [
      "0.03821170702576637\n",
      "(2.0, 3.0]\n"
     ]
    },
    {
     "name": "stderr",
     "output_type": "stream",
     "text": [
      " 25%|██▌       | 2/8 [00:33<01:28, 14.73s/it]"
     ]
    },
    {
     "name": "stdout",
     "output_type": "stream",
     "text": [
      "0.08802614361047745\n",
      "(3.0, 4.0]\n"
     ]
    },
    {
     "name": "stderr",
     "output_type": "stream",
     "text": [
      " 38%|███▊      | 3/8 [00:37<00:50, 10.01s/it]"
     ]
    },
    {
     "name": "stdout",
     "output_type": "stream",
     "text": [
      "0.1348007619380951\n",
      "(4.0, 7.0]\n"
     ]
    },
    {
     "name": "stderr",
     "output_type": "stream",
     "text": [
      " 50%|█████     | 4/8 [00:45<00:36,  9.04s/it]"
     ]
    },
    {
     "name": "stdout",
     "output_type": "stream",
     "text": [
      "0.18367116153240204\n",
      "(7.0, 12.0]\n"
     ]
    },
    {
     "name": "stderr",
     "output_type": "stream",
     "text": [
      " 62%|██████▎   | 5/8 [00:51<00:24,  8.19s/it]"
     ]
    },
    {
     "name": "stdout",
     "output_type": "stream",
     "text": [
      "0.26992666721343994\n",
      "(12.0, 25.0]\n"
     ]
    },
    {
     "name": "stderr",
     "output_type": "stream",
     "text": [
      " 75%|███████▌  | 6/8 [00:58<00:15,  7.82s/it]"
     ]
    },
    {
     "name": "stdout",
     "output_type": "stream",
     "text": [
      "0.3848440647125244\n",
      "(25.0, 75.0]\n"
     ]
    },
    {
     "name": "stderr",
     "output_type": "stream",
     "text": [
      " 88%|████████▊ | 7/8 [01:06<00:07,  7.70s/it]"
     ]
    },
    {
     "name": "stdout",
     "output_type": "stream",
     "text": [
      "0.57602459192276\n",
      "(75.0, 39034.0]\n"
     ]
    },
    {
     "name": "stderr",
     "output_type": "stream",
     "text": [
      "100%|██████████| 8/8 [01:14<00:00,  9.29s/it]"
     ]
    },
    {
     "name": "stdout",
     "output_type": "stream",
     "text": [
      "0.9135285019874573\n"
     ]
    },
    {
     "name": "stderr",
     "output_type": "stream",
     "text": [
      "\n"
     ]
    }
   ],
   "source": [
    "from torchmetrics.classification import AveragePrecision,Specificity\n",
    "import torch\n",
    "from tqdm import tqdm\n",
    "\n",
    "total = 0\n",
    "avg = 0\n",
    "for group,items in tqdm(gb.groups.items()):\n",
    "    print(group)\n",
    "    ground_truth = torch.tensor(val_labels[items].values)\n",
    "    preds = torch.tensor(val_probabilities[items].values)\n",
    "    APMicro = AveragePrecision(task=\"multilabel\",num_labels=len(items),average='micro').to('cuda')(preds,ground_truth).item()\n",
    "    print(APMicro)\n",
    "    w = res.loc[items].iloc[0][\"Frequency Bin Percentage Of Data\"]\n",
    "    total +="
   ]
  },
  {
   "cell_type": "code",
   "execution_count": null,
   "metadata": {},
   "outputs": [],
   "source": []
  },
  {
   "cell_type": "code",
   "execution_count": null,
   "metadata": {},
   "outputs": [],
   "source": []
  }
 ],
 "metadata": {
  "kernelspec": {
   "display_name": "protein_functions",
   "language": "python",
   "name": "python3"
  },
  "language_info": {
   "codemirror_mode": {
    "name": "ipython",
    "version": 3
   },
   "file_extension": ".py",
   "mimetype": "text/x-python",
   "name": "python",
   "nbconvert_exporter": "python",
   "pygments_lexer": "ipython3",
   "version": "3.10.13"
  },
  "orig_nbformat": 4
 },
 "nbformat": 4,
 "nbformat_minor": 2
}
