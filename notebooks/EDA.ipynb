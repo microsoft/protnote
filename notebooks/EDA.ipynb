{
 "cells": [
  {
   "cell_type": "code",
   "execution_count": 1,
   "metadata": {},
   "outputs": [
    {
     "name": "stderr",
     "output_type": "stream",
     "text": [
      "/anaconda/envs/protein_functions_310/lib/python3.10/site-packages/tqdm/auto.py:21: TqdmWarning: IProgress not found. Please update jupyter and ipywidgets. See https://ipywidgets.readthedocs.io/en/stable/user_install.html\n",
      "  from .autonotebook import tqdm as notebook_tqdm\n"
     ]
    }
   ],
   "source": [
    "import os\n",
    "from pathlib import Path\n",
    "import sys\n",
    "curdir = Path(os.getcwd())\n",
    "sys.path.append(str(curdir.parent.absolute()))\n",
    "from collections import Counter\n",
    "import pandas as pd\n",
    "import matplotlib.pyplot as plt\n",
    "from src.utils.data import read_fasta\n",
    "from src.data.datasets import ProteinDataset\n",
    "import numpy as np\n",
    "from src.utils.data import read_pickle\n",
    "from sklearn.metrics import precision_recall_curve\n",
    "from src.utils.evaluation import metrics_per_label_df\n",
    "import seaborn as sns\n",
    "import torch\n",
    "from torchmetrics.classification import AveragePrecision,Specificity"
   ]
  },
  {
   "cell_type": "code",
   "execution_count": 3,
   "metadata": {},
   "outputs": [],
   "source": [
    "def _get_joint_embeddings(P_e, L_e):\n",
    "    num_sequences = P_e.shape[0]\n",
    "    num_labels = L_e.shape[0]\n",
    "    sequence_embedding_dim = P_e.shape[1]\n",
    "    label_embedding_dim = L_e.shape[1]\n",
    "\n",
    "    # Use broadcasting so we don't have to expand the tensor dimensions\n",
    "    joint_embeddings = torch.cat([\n",
    "        P_e[:, None, :].expand(\n",
    "            num_sequences, num_labels, sequence_embedding_dim),\n",
    "        L_e[None, :, :].expand(\n",
    "            num_sequences, num_labels, label_embedding_dim)\n",
    "    ], dim=2).reshape(-1, sequence_embedding_dim + label_embedding_dim)\n",
    "\n",
    "    return joint_embeddings, num_sequences, num_labels\n",
    "\n",
    "dummy_seq_embs = torch.rand((3,2))\n",
    "dummy_label_embs = torch.rand((5,2))\n",
    "dummy_labels = (torch.rand((3,4))>=0.5).long()"
   ]
  },
  {
   "cell_type": "code",
   "execution_count": 4,
   "metadata": {},
   "outputs": [
    {
     "data": {
      "text/plain": [
       "tensor([[0.5632, 0.4802],\n",
       "        [0.0788, 0.0012],\n",
       "        [0.5528, 0.3291]])"
      ]
     },
     "execution_count": 4,
     "metadata": {},
     "output_type": "execute_result"
    }
   ],
   "source": [
    "dummy_seq_embs"
   ]
  },
  {
   "cell_type": "code",
   "execution_count": 5,
   "metadata": {},
   "outputs": [
    {
     "data": {
      "text/plain": [
       "tensor([[0.3023, 0.5479],\n",
       "        [0.4579, 0.5638],\n",
       "        [0.5384, 0.0113],\n",
       "        [0.4852, 0.7790],\n",
       "        [0.0523, 0.3625]])"
      ]
     },
     "execution_count": 5,
     "metadata": {},
     "output_type": "execute_result"
    }
   ],
   "source": [
    "dummy_label_embs"
   ]
  },
  {
   "cell_type": "code",
   "execution_count": 6,
   "metadata": {},
   "outputs": [
    {
     "data": {
      "text/plain": [
       "(tensor([[0.5632, 0.4802, 0.3023, 0.5479],\n",
       "         [0.5632, 0.4802, 0.4579, 0.5638],\n",
       "         [0.5632, 0.4802, 0.5384, 0.0113],\n",
       "         [0.5632, 0.4802, 0.4852, 0.7790],\n",
       "         [0.5632, 0.4802, 0.0523, 0.3625],\n",
       "         [0.0788, 0.0012, 0.3023, 0.5479],\n",
       "         [0.0788, 0.0012, 0.4579, 0.5638],\n",
       "         [0.0788, 0.0012, 0.5384, 0.0113],\n",
       "         [0.0788, 0.0012, 0.4852, 0.7790],\n",
       "         [0.0788, 0.0012, 0.0523, 0.3625],\n",
       "         [0.5528, 0.3291, 0.3023, 0.5479],\n",
       "         [0.5528, 0.3291, 0.4579, 0.5638],\n",
       "         [0.5528, 0.3291, 0.5384, 0.0113],\n",
       "         [0.5528, 0.3291, 0.4852, 0.7790],\n",
       "         [0.5528, 0.3291, 0.0523, 0.3625]]),\n",
       " 3,\n",
       " 5)"
      ]
     },
     "execution_count": 6,
     "metadata": {},
     "output_type": "execute_result"
    }
   ],
   "source": [
    "_get_joint_embeddings(dummy_seq_embs,dummy_label_embs)"
   ]
  },
  {
   "cell_type": "code",
   "execution_count": 7,
   "metadata": {},
   "outputs": [],
   "source": [
    "from torch import nn\n",
    "def get_mlp(input_dim,\n",
    "            hidden_dim,\n",
    "            num_layers,\n",
    "            output_neuron_bias=None):\n",
    "    \"\"\"\n",
    "    Creates a variable length MLP with ReLU activations.\n",
    "    \"\"\"\n",
    "    layers = []\n",
    "    layers.append(nn.Linear(input_dim, hidden_dim))\n",
    "    layers.append(nn.ReLU())\n",
    "    \n",
    "    for _ in range(num_layers-1):\n",
    "        layers.append(nn.Linear(hidden_dim, hidden_dim))\n",
    "        layers.append(nn.ReLU())\n",
    "    output_neuron = nn.Linear(hidden_dim, 1)\n",
    "    if output_neuron_bias is not None:\n",
    "        # Set the bias of the final linear layer\n",
    "        output_neuron.bias.data.fill_(output_neuron_bias)\n",
    "    layers.append(output_neuron)\n",
    "    return nn.Sequential(*layers)\n",
    "\n",
    "output_layer = get_mlp(\n",
    "            input_dim=4,\n",
    "            hidden_dim=3,\n",
    "            num_layers=2,\n",
    "            output_neuron_bias=False\n",
    "        )"
   ]
  },
  {
   "cell_type": "code",
   "execution_count": 8,
   "metadata": {},
   "outputs": [
    {
     "data": {
      "text/plain": [
       "Sequential(\n",
       "  (0): Linear(in_features=4, out_features=3, bias=True)\n",
       "  (1): ReLU()\n",
       "  (2): Linear(in_features=3, out_features=3, bias=True)\n",
       "  (3): ReLU()\n",
       "  (4): Linear(in_features=3, out_features=1, bias=True)\n",
       ")"
      ]
     },
     "execution_count": 8,
     "metadata": {},
     "output_type": "execute_result"
    }
   ],
   "source": [
    "output_layer"
   ]
  },
  {
   "cell_type": "code",
   "execution_count": 10,
   "metadata": {},
   "outputs": [
    {
     "data": {
      "text/plain": [
       "MLP(\n",
       "  (0): Linear(in_features=4, out_features=3, bias=True)\n",
       "  (1): ReLU()\n",
       "  (2): Dropout(p=0.0, inplace=False)\n",
       "  (3): Linear(in_features=3, out_features=3, bias=True)\n",
       "  (4): Dropout(p=0.0, inplace=False)\n",
       ")"
      ]
     },
     "execution_count": 10,
     "metadata": {},
     "output_type": "execute_result"
    }
   ],
   "source": [
    "\n",
    "from torchvision.ops import MLP\n",
    "MLP(4,[3,3])"
   ]
  },
  {
   "cell_type": "code",
   "execution_count": 2,
   "metadata": {},
   "outputs": [],
   "source": [
    "train = read_fasta('../data/swissprot/proteinfer_splits/random/train_GO.fasta')\n",
    "val = read_fasta('../data/swissprot/proteinfer_splits/random/dev_GO.fasta')\n",
    "test = read_fasta('../data/swissprot/proteinfer_splits/random/test_GO.fasta')"
   ]
  },
  {
   "cell_type": "code",
   "execution_count": 3,
   "metadata": {},
   "outputs": [],
   "source": [
    "train = [(k[0],j,\" \".join(k[1:]),'train') for j,k in train]\n",
    "test = [(k[0],j,\" \".join(k[1:]),'val') for j,k in test]\n",
    "val = [(k[0],j,\" \".join(k[1:]),'test') for j,k in val]\n",
    "\n",
    "df = train + val + test"
   ]
  },
  {
   "cell_type": "code",
   "execution_count": 4,
   "metadata": {},
   "outputs": [],
   "source": [
    "df = pd.DataFrame(df,columns=['id','sequence','labels','split'])"
   ]
  },
  {
   "cell_type": "code",
   "execution_count": 5,
   "metadata": {},
   "outputs": [
    {
     "name": "stdout",
     "output_type": "stream",
     "text": [
      "number of sequences: 522607\n"
     ]
    }
   ],
   "source": [
    "num_sequences = len(df)\n",
    "print('number of sequences:',num_sequences)"
   ]
  },
  {
   "cell_type": "code",
   "execution_count": 6,
   "metadata": {},
   "outputs": [
    {
     "data": {
      "text/html": [
       "<div>\n",
       "<style scoped>\n",
       "    .dataframe tbody tr th:only-of-type {\n",
       "        vertical-align: middle;\n",
       "    }\n",
       "\n",
       "    .dataframe tbody tr th {\n",
       "        vertical-align: top;\n",
       "    }\n",
       "\n",
       "    .dataframe thead th {\n",
       "        text-align: right;\n",
       "    }\n",
       "</style>\n",
       "<table border=\"1\" class=\"dataframe\">\n",
       "  <thead>\n",
       "    <tr style=\"text-align: right;\">\n",
       "      <th></th>\n",
       "      <th>id</th>\n",
       "      <th>sequence</th>\n",
       "      <th>labels</th>\n",
       "      <th>split</th>\n",
       "    </tr>\n",
       "  </thead>\n",
       "  <tbody>\n",
       "    <tr>\n",
       "      <th>0</th>\n",
       "      <td>P60545</td>\n",
       "      <td>MSKIIEYDETARRAIEAGVNTLADAVRVTLGPRGRHVVLAKAFGGP...</td>\n",
       "      <td>GO:0035639 GO:0032553 GO:0005524 GO:0017076 GO...</td>\n",
       "      <td>train</td>\n",
       "    </tr>\n",
       "    <tr>\n",
       "      <th>1</th>\n",
       "      <td>Q3KEX7</td>\n",
       "      <td>MKFSEQWLRGWVSPQVDRDALVARLSMAGLEVDSVTPAAGVFSGVV...</td>\n",
       "      <td>GO:0016070 GO:0035639 GO:0004812 GO:0032553 GO...</td>\n",
       "      <td>train</td>\n",
       "    </tr>\n",
       "    <tr>\n",
       "      <th>2</th>\n",
       "      <td>Q8D2U1</td>\n",
       "      <td>MKSVSIIDIIEKKIFKKKLVEINGWVRTKRNSKLGISFVDVYDGSC...</td>\n",
       "      <td>GO:0016070 GO:0004812 GO:0035639 GO:0032553 GO...</td>\n",
       "      <td>train</td>\n",
       "    </tr>\n",
       "    <tr>\n",
       "      <th>3</th>\n",
       "      <td>Q95KN1</td>\n",
       "      <td>MKPSLLVFTVYLLWLKDCHCAPTWKDKTDMHGNLKGFSEAGDIDVD...</td>\n",
       "      <td>GO:0044424 GO:0003674 GO:0044464 GO:0043226 GO...</td>\n",
       "      <td>train</td>\n",
       "    </tr>\n",
       "    <tr>\n",
       "      <th>4</th>\n",
       "      <td>Q98HL0</td>\n",
       "      <td>MNSLDLPGRPENTRIVVAMSGGVDSSVVAGLLKREGYDVVGVTLQL...</td>\n",
       "      <td>GO:0016070 GO:0035639 GO:0032553 GO:0005524 GO...</td>\n",
       "      <td>train</td>\n",
       "    </tr>\n",
       "  </tbody>\n",
       "</table>\n",
       "</div>"
      ],
      "text/plain": [
       "       id                                           sequence  \\\n",
       "0  P60545  MSKIIEYDETARRAIEAGVNTLADAVRVTLGPRGRHVVLAKAFGGP...   \n",
       "1  Q3KEX7  MKFSEQWLRGWVSPQVDRDALVARLSMAGLEVDSVTPAAGVFSGVV...   \n",
       "2  Q8D2U1  MKSVSIIDIIEKKIFKKKLVEINGWVRTKRNSKLGISFVDVYDGSC...   \n",
       "3  Q95KN1  MKPSLLVFTVYLLWLKDCHCAPTWKDKTDMHGNLKGFSEAGDIDVD...   \n",
       "4  Q98HL0  MNSLDLPGRPENTRIVVAMSGGVDSSVVAGLLKREGYDVVGVTLQL...   \n",
       "\n",
       "                                              labels  split  \n",
       "0  GO:0035639 GO:0032553 GO:0005524 GO:0017076 GO...  train  \n",
       "1  GO:0016070 GO:0035639 GO:0004812 GO:0032553 GO...  train  \n",
       "2  GO:0016070 GO:0004812 GO:0035639 GO:0032553 GO...  train  \n",
       "3  GO:0044424 GO:0003674 GO:0044464 GO:0043226 GO...  train  \n",
       "4  GO:0016070 GO:0035639 GO:0032553 GO:0005524 GO...  train  "
      ]
     },
     "execution_count": 6,
     "metadata": {},
     "output_type": "execute_result"
    }
   ],
   "source": [
    "df.head()"
   ]
  },
  {
   "cell_type": "code",
   "execution_count": 7,
   "metadata": {},
   "outputs": [
    {
     "data": {
      "text/plain": [
       "count    522607.000000\n",
       "mean         47.743901\n",
       "std          38.433523\n",
       "min           2.000000\n",
       "25%          25.000000\n",
       "50%          43.000000\n",
       "75%          59.000000\n",
       "max        1008.000000\n",
       "Name: num_pos, dtype: float64"
      ]
     },
     "execution_count": 7,
     "metadata": {},
     "output_type": "execute_result"
    }
   ],
   "source": [
    "df['num_pos'] = df['labels'].str.split(' ').str.len()\n",
    "df['num_pos'].describe()"
   ]
  },
  {
   "cell_type": "code",
   "execution_count": 8,
   "metadata": {},
   "outputs": [],
   "source": [
    "labels = Counter()\n",
    "\n",
    "vocab = set()\n",
    "amino_freq = Counter()\n",
    "for idx,row in df[df['split']=='train'].iterrows():\n",
    "    sequence = row['sequence']\n",
    "    row_labels = row['labels']\n",
    "    aa_list = list(sequence)\n",
    "    if row_labels =='':\n",
    "        print(row['id'],row['labels'])\n",
    "    vocab.update(aa_list)\n",
    "    amino_freq.update(aa_list)\n",
    "    labels.update(row_labels.split(\" \"))"
   ]
  },
  {
   "cell_type": "code",
   "execution_count": 9,
   "metadata": {},
   "outputs": [
    {
     "name": "stdout",
     "output_type": "stream",
     "text": [
      "# GO Terms: 31365\n"
     ]
    }
   ],
   "source": [
    "print('# GO Terms:',len(labels.keys()))"
   ]
  },
  {
   "cell_type": "code",
   "execution_count": 10,
   "metadata": {},
   "outputs": [
    {
     "name": "stdout",
     "output_type": "stream",
     "text": [
      "GO Terms distribution\n"
     ]
    },
    {
     "data": {
      "text/plain": [
       "count     31365.000000\n",
       "mean        635.987821\n",
       "std        7372.964658\n",
       "min           1.000000\n",
       "25%           4.000000\n",
       "50%          14.000000\n",
       "75%          70.000000\n",
       "max      369909.000000\n",
       "dtype: float64"
      ]
     },
     "execution_count": 10,
     "metadata": {},
     "output_type": "execute_result"
    }
   ],
   "source": [
    "print('GO Terms distribution')\n",
    "go_term_distribution = pd.Series(labels.values(),index=labels.keys()).sort_values(ascending=False)\n",
    "go_term_distribution.describe()"
   ]
  },
  {
   "cell_type": "code",
   "execution_count": 11,
   "metadata": {},
   "outputs": [
    {
     "data": {
      "text/plain": [
       "GO:0003674    369909\n",
       "GO:0008150    346677\n",
       "GO:0005575    321980\n",
       "GO:0009987    295442\n",
       "GO:0044464    291432\n",
       "               ...  \n",
       "GO:1903890         1\n",
       "GO:0102632         1\n",
       "GO:0010059         1\n",
       "GO:0072616         1\n",
       "GO:0030787         1\n",
       "Length: 31365, dtype: int64"
      ]
     },
     "execution_count": 11,
     "metadata": {},
     "output_type": "execute_result"
    }
   ],
   "source": [
    "go_term_distribution"
   ]
  },
  {
   "cell_type": "code",
   "execution_count": 12,
   "metadata": {},
   "outputs": [
    {
     "data": {
      "text/plain": [
       "[<matplotlib.lines.Line2D at 0x7f7e9cc5f670>]"
      ]
     },
     "execution_count": 12,
     "metadata": {},
     "output_type": "execute_result"
    },
    {
     "data": {
      "image/png": "[encoded data removed]",
      "text/plain": [
       "<Figure size 640x480 with 1 Axes>"
      ]
     },
     "metadata": {},
     "output_type": "display_data"
    }
   ],
   "source": [
    "# Cumulative distribution of GO terms. Shows the number of GO terms that cover X% of the data\n",
    "plt.plot(range(len(go_term_distribution)),(go_term_distribution*100/go_term_distribution.sum()).cumsum())"
   ]
  },
  {
   "cell_type": "code",
   "execution_count": 14,
   "metadata": {},
   "outputs": [
    {
     "name": "stdout",
     "output_type": "stream",
     "text": [
      "Sequence length distribution\n"
     ]
    },
    {
     "data": {
      "text/plain": [
       "count    522607.000000\n",
       "mean        368.042215\n",
       "std         334.721845\n",
       "min           2.000000\n",
       "25%         179.000000\n",
       "50%         303.000000\n",
       "75%         456.000000\n",
       "max       35213.000000\n",
       "Name: sequence, dtype: float64"
      ]
     },
     "execution_count": 14,
     "metadata": {},
     "output_type": "execute_result"
    }
   ],
   "source": [
    "print('Sequence length distribution')\n",
    "\n",
    "df['sequence'].apply(len).describe()"
   ]
  },
  {
   "cell_type": "markdown",
   "metadata": {},
   "source": [
    "# Explore Model Predictions"
   ]
  },
  {
   "cell_type": "code",
   "execution_count": 12,
   "metadata": {},
   "outputs": [],
   "source": [
    "#Read Val Data\n",
    "val_labels = pd.read_parquet(\"../outputs/results/final_validation_labels_vanilla_bce_50_epochs_weight_decay0.02_adamw.parquet\")\n",
    "val_logits = pd.read_parquet(\"../outputs/results/final_validation_logits_vanilla_bce_50_epochs_weight_decay0.02_adamw.parquet\")\n",
    "pinf_val_logits = pd.read_parquet('../outputs/results/validation_logits_proteinfer.parquet')\n",
    "pinf_val_labels= pd.read_parquet('../outputs/results/validation_labels_proteinfer.parquet')\n"
   ]
  },
  {
   "cell_type": "code",
   "execution_count": 13,
   "metadata": {},
   "outputs": [],
   "source": [
    "label_descriptions = pd.read_pickle('../data/annotations/go_annotations_2019_07_01.pkl')\n",
    "label_descriptions = label_descriptions.loc[go_term_distribution.index]"
   ]
  },
  {
   "cell_type": "code",
   "execution_count": 14,
   "metadata": {},
   "outputs": [],
   "source": [
    "label_descriptions['label'] = label_descriptions['label'].str.lower().str.rstrip()"
   ]
  },
  {
   "cell_type": "code",
   "execution_count": 15,
   "metadata": {},
   "outputs": [],
   "source": [
    "#Common ids.. They should all be common but there are 60 sequences more in our dataset\n",
    "#Crate Tensor versions\n",
    "val_logits_t = torch.tensor(val_logits.values)\n",
    "val_labels_t = torch.tensor(val_labels.values).float()\n",
    "val_probabilities_t = torch.sigmoid(val_logits_t)\n",
    "\n",
    "pinf_val_logits_t = torch.tensor(pinf_val_logits.values)\n",
    "pinf_val_labels_t = torch.tensor(pinf_val_labels.values).float()\n",
    "pinf_val_probabilities_t = torch.sigmoid(pinf_val_logits_t)\n",
    "\n",
    "\n",
    "val_probabilities = pd.DataFrame(val_probabilities_t.numpy(),columns=val_logits.columns,index=val_logits.index)\n",
    "pinf_val_probabilities = pd.DataFrame(pinf_val_probabilities_t.numpy(),columns=pinf_val_logits.columns,index=pinf_val_logits.index)\n",
    "\n",
    "common_seqids = list(set(val_probabilities.index) & set(pinf_val_probabilities.index))"
   ]
  },
  {
   "cell_type": "code",
   "execution_count": 16,
   "metadata": {},
   "outputs": [],
   "source": [
    "\n",
    "val_labels = val_labels.loc[common_seqids]\n",
    "val_probabilities = val_probabilities.loc[common_seqids]\n",
    "val_logits = val_logits.loc[common_seqids]\n",
    "\n",
    "\n",
    "pinf_val_labels = pinf_val_labels.loc[common_seqids]\n",
    "pinf_val_probabilities = pinf_val_probabilities.loc[common_seqids]\n",
    "pinf_val_logits = pinf_val_logits.loc[common_seqids]\n",
    "\n",
    "\n",
    "val_logits_t = torch.tensor(val_logits.values)\n",
    "val_labels_t = torch.tensor(val_labels.values).float()\n",
    "val_probabilities_t = torch.sigmoid(val_logits_t)\n",
    "\n",
    "pinf_val_logits_t = torch.tensor(pinf_val_logits.values)\n",
    "pinf_val_labels_t = torch.tensor(pinf_val_labels.values).float()\n",
    "pinf_val_probabilities_t = torch.sigmoid(pinf_val_logits_t)\n",
    "\n",
    "\n",
    "\n"
   ]
  },
  {
   "cell_type": "code",
   "execution_count": 17,
   "metadata": {},
   "outputs": [
    {
     "data": {
      "text/plain": [
       "(44300, 32102)"
      ]
     },
     "execution_count": 17,
     "metadata": {},
     "output_type": "execute_result"
    }
   ],
   "source": [
    "val_probabilities.shape"
   ]
  },
  {
   "cell_type": "code",
   "execution_count": 19,
   "metadata": {},
   "outputs": [
    {
     "data": {
      "text/plain": [
       "<matplotlib.legend.Legend at 0x7fe2dcdb7760>"
      ]
     },
     "execution_count": 19,
     "metadata": {},
     "output_type": "execute_result"
    },
    {
     "data": {
      "image/png": "[encoded data removed]",
      "text/plain": [
       "<Figure size 640x480 with 1 Axes>"
      ]
     },
     "metadata": {},
     "output_type": "display_data"
    }
   ],
   "source": [
    "val_probabilities.mean(axis=1).plot(label='Ours')\n",
    "pinf_val_probabilities.mean(axis=1).plot(label='Proteinfer',alpha=0.5,linestyle='--')\n",
    "plt.legend()"
   ]
  },
  {
   "cell_type": "code",
   "execution_count": 22,
   "metadata": {},
   "outputs": [
    {
     "data": {
      "text/plain": [
       "<matplotlib.legend.Legend at 0x7f20636497e0>"
      ]
     },
     "execution_count": 22,
     "metadata": {},
     "output_type": "execute_result"
    },
    {
     "data": {
      "image/png": "[encoded data removed]",
      "text/plain": [
       "<Figure size 640x480 with 1 Axes>"
      ]
     },
     "metadata": {},
     "output_type": "display_data"
    }
   ],
   "source": [
    "val_probabilities.mean(axis=0).plot(label='Ours')\n",
    "pinf_val_probabilities.mean(axis=0).plot(label='Proteinfer',alpha=0.5,linestyle='--')\n",
    "plt.legend()"
   ]
  },
  {
   "cell_type": "code",
   "execution_count": 23,
   "metadata": {},
   "outputs": [
    {
     "data": {
      "text/plain": [
       "0    0.99952\n",
       "dtype: float64"
      ]
     },
     "execution_count": 23,
     "metadata": {},
     "output_type": "execute_result"
    }
   ],
   "source": [
    "pd.DataFrame(val_probabilities.mean(axis=0)).corrwith(pd.DataFrame(pinf_val_probabilities.mean(axis=0)),axis=0)"
   ]
  },
  {
   "cell_type": "code",
   "execution_count": 24,
   "metadata": {},
   "outputs": [],
   "source": [
    "sequence_dist_corr = pinf_val_probabilities.corrwith(val_probabilities,axis=1)\n",
    "label_dist_corr = pinf_val_probabilities.corrwith(val_probabilities,axis=0)"
   ]
  },
  {
   "cell_type": "code",
   "execution_count": 25,
   "metadata": {},
   "outputs": [
    {
     "data": {
      "text/plain": [
       "<Axes: >"
      ]
     },
     "execution_count": 25,
     "metadata": {},
     "output_type": "execute_result"
    },
    {
     "data": {
      "image/png": "[encoded data removed]",
      "text/plain": [
       "<Figure size 640x480 with 1 Axes>"
      ]
     },
     "metadata": {},
     "output_type": "display_data"
    }
   ],
   "source": [
    "sequence_dist_corr.hist(bins=100)"
   ]
  },
  {
   "cell_type": "code",
   "execution_count": 26,
   "metadata": {},
   "outputs": [
    {
     "data": {
      "text/plain": [
       "<Axes: >"
      ]
     },
     "execution_count": 26,
     "metadata": {},
     "output_type": "execute_result"
    },
    {
     "data": {
      "image/png": "[encoded data removed]",
      "text/plain": [
       "<Figure size 640x480 with 1 Axes>"
      ]
     },
     "metadata": {},
     "output_type": "display_data"
    }
   ],
   "source": [
    "label_dist_corr.hist(bins=100)"
   ]
  },
  {
   "cell_type": "markdown",
   "metadata": {},
   "source": [
    "Compare losses"
   ]
  },
  {
   "cell_type": "code",
   "execution_count": 18,
   "metadata": {},
   "outputs": [],
   "source": [
    "import torch\n",
    "from src.utils.losses import FocalLoss\n",
    "\n",
    "bce_probs = torch.nn.BCELoss(reduction='none')\n",
    "bce = torch.nn.BCEWithLogitsLoss(reduction='none')\n",
    "fl = FocalLoss(alpha=-1,gamma=3,reduction='none')\n"
   ]
  },
  {
   "cell_type": "code",
   "execution_count": 19,
   "metadata": {},
   "outputs": [
    {
     "data": {
      "text/plain": [
       "(tensor(0.0036), tensor(0.0020))"
      ]
     },
     "execution_count": 19,
     "metadata": {},
     "output_type": "execute_result"
    }
   ],
   "source": [
    "#BCE Loss\n",
    "ours_val_bce_losses = bce(torch.tensor(val_logits.values), torch.tensor(val_labels.values).float())\n",
    "pinf_val_bce_losses = bce(torch.tensor(pinf_val_logits.values), torch.tensor(pinf_val_labels.values).float())\n",
    "pinf_val_bce_losses.mean(),ours_val_bce_losses.mean()"
   ]
  },
  {
   "cell_type": "code",
   "execution_count": 20,
   "metadata": {},
   "outputs": [
    {
     "data": {
      "text/plain": [
       "(tensor(0.0035), tensor(0.0015))"
      ]
     },
     "execution_count": 20,
     "metadata": {},
     "output_type": "execute_result"
    }
   ],
   "source": [
    "#Focal Loss\n",
    "\n",
    "ours_val_bce_losses = fl(torch.tensor(val_logits.values), torch.tensor(val_labels.values).float())\n",
    "pinf_val_bce_losses = fl(torch.tensor(pinf_val_logits.values), torch.tensor(pinf_val_labels.values).float())\n",
    "pinf_val_bce_losses.mean(),ours_val_bce_losses.mean()"
   ]
  },
  {
   "cell_type": "markdown",
   "metadata": {},
   "source": [
    "Random model baseline losses"
   ]
  },
  {
   "cell_type": "code",
   "execution_count": 127,
   "metadata": {},
   "outputs": [
    {
     "data": {
      "text/plain": [
       "(tensor(0.6931), tensor(0.2346))"
      ]
     },
     "execution_count": 127,
     "metadata": {},
     "output_type": "execute_result"
    }
   ],
   "source": [
    "random_model_bce = bce_probs(torch.ones_like(val_labels_t)*0.5, val_labels_t)\n",
    "random_model_fl =fl(torch.ones_like(val_labels_t)*0.5, val_labels_t)\n",
    "random_model_bce.mean(),random_model_fl.mean()"
   ]
  },
  {
   "cell_type": "markdown",
   "metadata": {},
   "source": [
    "Always predict 1/672 = probability of positive in the dataset"
   ]
  },
  {
   "cell_type": "code",
   "execution_count": 128,
   "metadata": {},
   "outputs": [
    {
     "data": {
      "text/plain": [
       "(tensor(0.0113), tensor(0.0869))"
      ]
     },
     "execution_count": 128,
     "metadata": {},
     "output_type": "execute_result"
    }
   ],
   "source": [
    "always_negative_preds = torch.ones_like(val_labels_t)/672\n",
    "predict_0_model_bce = bce_probs(always_negative_preds, val_labels_t)\n",
    "predict_0_model_fl = fl(always_negative_preds, val_labels_t)\n",
    "\n",
    "predict_0_model_bce.mean(),predict_0_model_fl.mean()\n"
   ]
  },
  {
   "cell_type": "code",
   "execution_count": 129,
   "metadata": {},
   "outputs": [],
   "source": [
    "always_negative_preds = torch.ones_like(val_labels_t)/672\n",
    "always_random = torch.ones_like(val_labels_t)*.5"
   ]
  },
  {
   "cell_type": "markdown",
   "metadata": {},
   "source": [
    "Baseline top classes"
   ]
  },
  {
   "cell_type": "code",
   "execution_count": 37,
   "metadata": {},
   "outputs": [
    {
     "data": {
      "text/plain": [
       "(tensor(0.0927), tensor(0.0973))"
      ]
     },
     "execution_count": 37,
     "metadata": {},
     "output_type": "execute_result"
    }
   ],
   "source": [
    "n = 1000\n",
    "predict_top_classes = val_probabilities.copy()\n",
    "top_n = go_term_distribution[:n].index\n",
    "predict_top_classes.iloc[:,:] = 0.0\n",
    "for col in top_n:\n",
    "    predict_top_classes[col]=0.9\n",
    "predict_top_classes = torch.tensor(predict_top_classes.values).float()\n",
    "\n",
    "predict_top_classes_bce = bce_probs(predict_top_classes, val_labels_t)\n",
    "predict_top_classes_fl = fl(predict_top_classes, val_labels_t)\n",
    "\n",
    "predict_top_classes_bce.mean(),predict_top_classes_fl.mean()"
   ]
  },
  {
   "cell_type": "code",
   "execution_count": 104,
   "metadata": {},
   "outputs": [
    {
     "data": {
      "text/plain": [
       "(44300, 32102)"
      ]
     },
     "execution_count": 104,
     "metadata": {},
     "output_type": "execute_result"
    }
   ],
   "source": [
    "val_labels.shape"
   ]
  },
  {
   "cell_type": "code",
   "execution_count": 21,
   "metadata": {},
   "outputs": [
    {
     "name": "stderr",
     "output_type": "stream",
     "text": [
      "100%|██████████| 21791/21791 [00:51<00:00, 421.32it/s]\n",
      "100%|██████████| 21791/21791 [00:47<00:00, 457.79it/s]\n"
     ]
    }
   ],
   "source": [
    "#Define threshold to calculate threshold-dependent metrics otherwise only threshold-agnostic metrics are calculated\n",
    "threshold = None\n",
    "res=metrics_per_label_df(val_labels,val_probabilities,device='cuda',threshold=threshold)\n",
    "pinf_res=metrics_per_label_df(pinf_val_labels,pinf_val_probabilities,device='cuda',threshold=threshold)"
   ]
  },
  {
   "cell_type": "code",
   "execution_count": 23,
   "metadata": {},
   "outputs": [
    {
     "data": {
      "text/plain": [
       "(0.23173906699436544, 0.6516080107543541)"
      ]
     },
     "execution_count": 23,
     "metadata": {},
     "output_type": "execute_result"
    }
   ],
   "source": [
    "res[\"AUPRC\"].dropna().mean(),pinf_res[\"AUPRC\"].dropna().mean()"
   ]
  },
  {
   "cell_type": "code",
   "execution_count": 31,
   "metadata": {},
   "outputs": [
    {
     "name": "stderr",
     "output_type": "stream",
     "text": [
      "/anaconda/envs/protein_functions_310/lib/python3.10/site-packages/seaborn/_oldcore.py:1498: FutureWarning: is_categorical_dtype is deprecated and will be removed in a future version. Use isinstance(dtype, CategoricalDtype) instead\n",
      "  if pd.api.types.is_categorical_dtype(vector):\n",
      "/anaconda/envs/protein_functions_310/lib/python3.10/site-packages/seaborn/_oldcore.py:1498: FutureWarning: is_categorical_dtype is deprecated and will be removed in a future version. Use isinstance(dtype, CategoricalDtype) instead\n",
      "  if pd.api.types.is_categorical_dtype(vector):\n",
      "/anaconda/envs/protein_functions_310/lib/python3.10/site-packages/seaborn/_oldcore.py:1498: FutureWarning: is_categorical_dtype is deprecated and will be removed in a future version. Use isinstance(dtype, CategoricalDtype) instead\n",
      "  if pd.api.types.is_categorical_dtype(vector):\n"
     ]
    },
    {
     "ename": "KeyboardInterrupt",
     "evalue": "",
     "output_type": "error",
     "traceback": [
      "\u001b[0;31m---------------------------------------------------------------------------\u001b[0m",
      "\u001b[0;31mKeyboardInterrupt\u001b[0m                         Traceback (most recent call last)",
      "\u001b[1;32m/home/samirchar/ProteinFunctions/notebooks/EDA.ipynb Cell 40\u001b[0m line \u001b[0;36m1\n\u001b[0;32m----> <a href='vscode-notebook-cell://ssh-remote%2Bbastion_tunnel/home/samirchar/ProteinFunctions/notebooks/EDA.ipynb#X54sdnNjb2RlLXJlbW90ZQ%3D%3D?line=0'>1</a>\u001b[0m sns\u001b[39m.\u001b[39;49mbarplot(data \u001b[39m=\u001b[39;49m res,orient\u001b[39m=\u001b[39;49m\u001b[39m'\u001b[39;49m\u001b[39mh\u001b[39;49m\u001b[39m'\u001b[39;49m,x\u001b[39m=\u001b[39;49m\u001b[39m'\u001b[39;49m\u001b[39mAUPRC\u001b[39;49m\u001b[39m'\u001b[39;49m,y\u001b[39m=\u001b[39;49mres\u001b[39m.\u001b[39;49mindex)\n",
      "File \u001b[0;32m/anaconda/envs/protein_functions_310/lib/python3.10/site-packages/seaborn/categorical.py:2755\u001b[0m, in \u001b[0;36mbarplot\u001b[0;34m(data, x, y, hue, order, hue_order, estimator, errorbar, n_boot, units, seed, orient, color, palette, saturation, width, errcolor, errwidth, capsize, dodge, ci, ax, **kwargs)\u001b[0m\n\u001b[1;32m   2752\u001b[0m \u001b[39mif\u001b[39;00m estimator \u001b[39mis\u001b[39;00m \u001b[39mlen\u001b[39m:\n\u001b[1;32m   2753\u001b[0m     estimator \u001b[39m=\u001b[39m \u001b[39m\"\u001b[39m\u001b[39msize\u001b[39m\u001b[39m\"\u001b[39m\n\u001b[0;32m-> 2755\u001b[0m plotter \u001b[39m=\u001b[39m _BarPlotter(x, y, hue, data, order, hue_order,\n\u001b[1;32m   2756\u001b[0m                       estimator, errorbar, n_boot, units, seed,\n\u001b[1;32m   2757\u001b[0m                       orient, color, palette, saturation,\n\u001b[1;32m   2758\u001b[0m                       width, errcolor, errwidth, capsize, dodge)\n\u001b[1;32m   2760\u001b[0m \u001b[39mif\u001b[39;00m ax \u001b[39mis\u001b[39;00m \u001b[39mNone\u001b[39;00m:\n\u001b[1;32m   2761\u001b[0m     ax \u001b[39m=\u001b[39m plt\u001b[39m.\u001b[39mgca()\n",
      "File \u001b[0;32m/anaconda/envs/protein_functions_310/lib/python3.10/site-packages/seaborn/categorical.py:1533\u001b[0m, in \u001b[0;36m_BarPlotter.__init__\u001b[0;34m(self, x, y, hue, data, order, hue_order, estimator, errorbar, n_boot, units, seed, orient, color, palette, saturation, width, errcolor, errwidth, capsize, dodge)\u001b[0m\n\u001b[1;32m   1530\u001b[0m \u001b[39mself\u001b[39m\u001b[39m.\u001b[39mestablish_variables(x, y, hue, data, orient,\n\u001b[1;32m   1531\u001b[0m                          order, hue_order, units)\n\u001b[1;32m   1532\u001b[0m \u001b[39mself\u001b[39m\u001b[39m.\u001b[39mestablish_colors(color, palette, saturation)\n\u001b[0;32m-> 1533\u001b[0m \u001b[39mself\u001b[39;49m\u001b[39m.\u001b[39;49mestimate_statistic(estimator, errorbar, n_boot, seed)\n\u001b[1;32m   1535\u001b[0m \u001b[39mself\u001b[39m\u001b[39m.\u001b[39mdodge \u001b[39m=\u001b[39m dodge\n\u001b[1;32m   1536\u001b[0m \u001b[39mself\u001b[39m\u001b[39m.\u001b[39mwidth \u001b[39m=\u001b[39m width\n",
      "File \u001b[0;32m/anaconda/envs/protein_functions_310/lib/python3.10/site-packages/seaborn/categorical.py:1457\u001b[0m, in \u001b[0;36m_CategoricalStatPlotter.estimate_statistic\u001b[0;34m(self, estimator, errorbar, n_boot, seed)\u001b[0m\n\u001b[1;32m   1451\u001b[0m \u001b[39mfor\u001b[39;00m i, group_data \u001b[39min\u001b[39;00m \u001b[39menumerate\u001b[39m(\u001b[39mself\u001b[39m\u001b[39m.\u001b[39mplot_data):\n\u001b[1;32m   1452\u001b[0m \n\u001b[1;32m   1453\u001b[0m     \u001b[39m# Option 1: we have a single layer of grouping\u001b[39;00m\n\u001b[1;32m   1454\u001b[0m     \u001b[39m# --------------------------------------------\u001b[39;00m\n\u001b[1;32m   1455\u001b[0m     \u001b[39mif\u001b[39;00m \u001b[39mself\u001b[39m\u001b[39m.\u001b[39mplot_hues \u001b[39mis\u001b[39;00m \u001b[39mNone\u001b[39;00m:\n\u001b[0;32m-> 1457\u001b[0m         df \u001b[39m=\u001b[39m pd\u001b[39m.\u001b[39;49mDataFrame({var: group_data})\n\u001b[1;32m   1458\u001b[0m         \u001b[39mif\u001b[39;00m \u001b[39mself\u001b[39m\u001b[39m.\u001b[39mplot_units \u001b[39mis\u001b[39;00m \u001b[39mnot\u001b[39;00m \u001b[39mNone\u001b[39;00m:\n\u001b[1;32m   1459\u001b[0m             df[\u001b[39m\"\u001b[39m\u001b[39munits\u001b[39m\u001b[39m\"\u001b[39m] \u001b[39m=\u001b[39m \u001b[39mself\u001b[39m\u001b[39m.\u001b[39mplot_units[i]\n",
      "File \u001b[0;32m~/.local/lib/python3.10/site-packages/pandas/core/frame.py:736\u001b[0m, in \u001b[0;36mDataFrame.__init__\u001b[0;34m(self, data, index, columns, dtype, copy)\u001b[0m\n\u001b[1;32m    730\u001b[0m     mgr \u001b[39m=\u001b[39m \u001b[39mself\u001b[39m\u001b[39m.\u001b[39m_init_mgr(\n\u001b[1;32m    731\u001b[0m         data, axes\u001b[39m=\u001b[39m{\u001b[39m\"\u001b[39m\u001b[39mindex\u001b[39m\u001b[39m\"\u001b[39m: index, \u001b[39m\"\u001b[39m\u001b[39mcolumns\u001b[39m\u001b[39m\"\u001b[39m: columns}, dtype\u001b[39m=\u001b[39mdtype, copy\u001b[39m=\u001b[39mcopy\n\u001b[1;32m    732\u001b[0m     )\n\u001b[1;32m    734\u001b[0m \u001b[39melif\u001b[39;00m \u001b[39misinstance\u001b[39m(data, \u001b[39mdict\u001b[39m):\n\u001b[1;32m    735\u001b[0m     \u001b[39m# GH#38939 de facto copy defaults to False only in non-dict cases\u001b[39;00m\n\u001b[0;32m--> 736\u001b[0m     mgr \u001b[39m=\u001b[39m dict_to_mgr(data, index, columns, dtype\u001b[39m=\u001b[39;49mdtype, copy\u001b[39m=\u001b[39;49mcopy, typ\u001b[39m=\u001b[39;49mmanager)\n\u001b[1;32m    737\u001b[0m \u001b[39melif\u001b[39;00m \u001b[39misinstance\u001b[39m(data, ma\u001b[39m.\u001b[39mMaskedArray):\n\u001b[1;32m    738\u001b[0m     \u001b[39mfrom\u001b[39;00m \u001b[39mnumpy\u001b[39;00m\u001b[39m.\u001b[39;00m\u001b[39mma\u001b[39;00m \u001b[39mimport\u001b[39;00m mrecords\n",
      "File \u001b[0;32m~/.local/lib/python3.10/site-packages/pandas/core/internals/construction.py:503\u001b[0m, in \u001b[0;36mdict_to_mgr\u001b[0;34m(data, index, columns, dtype, typ, copy)\u001b[0m\n\u001b[1;32m    499\u001b[0m     \u001b[39melse\u001b[39;00m:\n\u001b[1;32m    500\u001b[0m         \u001b[39m# dtype check to exclude e.g. range objects, scalars\u001b[39;00m\n\u001b[1;32m    501\u001b[0m         arrays \u001b[39m=\u001b[39m [x\u001b[39m.\u001b[39mcopy() \u001b[39mif\u001b[39;00m \u001b[39mhasattr\u001b[39m(x, \u001b[39m\"\u001b[39m\u001b[39mdtype\u001b[39m\u001b[39m\"\u001b[39m) \u001b[39melse\u001b[39;00m x \u001b[39mfor\u001b[39;00m x \u001b[39min\u001b[39;00m arrays]\n\u001b[0;32m--> 503\u001b[0m \u001b[39mreturn\u001b[39;00m arrays_to_mgr(arrays, columns, index, dtype\u001b[39m=\u001b[39;49mdtype, typ\u001b[39m=\u001b[39;49mtyp, consolidate\u001b[39m=\u001b[39;49mcopy)\n",
      "File \u001b[0;32m~/.local/lib/python3.10/site-packages/pandas/core/internals/construction.py:145\u001b[0m, in \u001b[0;36marrays_to_mgr\u001b[0;34m(arrays, columns, index, dtype, verify_integrity, typ, consolidate)\u001b[0m\n\u001b[1;32m    139\u001b[0m             \u001b[39mraise\u001b[39;00m \u001b[39mValueError\u001b[39;00m(\n\u001b[1;32m    140\u001b[0m                 \u001b[39m\"\u001b[39m\u001b[39mArrays must be 1-dimensional np.ndarray or ExtensionArray \u001b[39m\u001b[39m\"\u001b[39m\n\u001b[1;32m    141\u001b[0m                 \u001b[39m\"\u001b[39m\u001b[39mwith length matching len(index)\u001b[39m\u001b[39m\"\u001b[39m\n\u001b[1;32m    142\u001b[0m             )\n\u001b[1;32m    144\u001b[0m columns \u001b[39m=\u001b[39m ensure_index(columns)\n\u001b[0;32m--> 145\u001b[0m \u001b[39mif\u001b[39;00m \u001b[39mlen\u001b[39;49m(columns) \u001b[39m!=\u001b[39m \u001b[39mlen\u001b[39m(arrays):\n\u001b[1;32m    146\u001b[0m     \u001b[39mraise\u001b[39;00m \u001b[39mValueError\u001b[39;00m(\u001b[39m\"\u001b[39m\u001b[39mlen(arrays) must match len(columns)\u001b[39m\u001b[39m\"\u001b[39m)\n\u001b[1;32m    148\u001b[0m \u001b[39m# from BlockManager perspective\u001b[39;00m\n",
      "File \u001b[0;32m~/.local/lib/python3.10/site-packages/pandas/core/indexes/base.py:912\u001b[0m, in \u001b[0;36mIndex.__len__\u001b[0;34m(self)\u001b[0m\n\u001b[1;32m    908\u001b[0m \u001b[39mdef\u001b[39;00m \u001b[39m__len__\u001b[39m(\u001b[39mself\u001b[39m) \u001b[39m-\u001b[39m\u001b[39m>\u001b[39m \u001b[39mint\u001b[39m:\n\u001b[1;32m    909\u001b[0m \u001b[39m    \u001b[39m\u001b[39m\"\"\"\u001b[39;00m\n\u001b[1;32m    910\u001b[0m \u001b[39m    Return the length of the Index.\u001b[39;00m\n\u001b[1;32m    911\u001b[0m \u001b[39m    \"\"\"\u001b[39;00m\n\u001b[0;32m--> 912\u001b[0m     \u001b[39mreturn\u001b[39;00m \u001b[39mlen\u001b[39;49m(\u001b[39mself\u001b[39;49m\u001b[39m.\u001b[39;49m_data)\n",
      "\u001b[0;31mKeyboardInterrupt\u001b[0m: "
     ]
    }
   ],
   "source": [
    "sns.barplot(data = res,orient='h',x='AUPRC',y=res.index)"
   ]
  },
  {
   "cell_type": "code",
   "execution_count": 24,
   "metadata": {},
   "outputs": [],
   "source": [
    "res['model']='Ours'\n",
    "pinf_res['model']='Proteinfer'"
   ]
  },
  {
   "cell_type": "code",
   "execution_count": 25,
   "metadata": {},
   "outputs": [],
   "source": [
    "res=pd.concat([res,pinf_res],axis=0)"
   ]
  },
  {
   "cell_type": "code",
   "execution_count": 26,
   "metadata": {},
   "outputs": [],
   "source": [
    "res = res.drop([\"Frequency\",\"Relative Frequency\"],axis=1)"
   ]
  },
  {
   "cell_type": "code",
   "execution_count": 27,
   "metadata": {},
   "outputs": [],
   "source": [
    "res[\"Frequency\"] = res.index.map(go_term_distribution)"
   ]
  },
  {
   "cell_type": "code",
   "execution_count": 98,
   "metadata": {},
   "outputs": [
    {
     "name": "stderr",
     "output_type": "stream",
     "text": [
      "/anaconda/envs/protein_functions_310/lib/python3.10/site-packages/pyarrow/pandas_compat.py:373: FutureWarning: is_sparse is deprecated and will be removed in a future version. Check `isinstance(dtype, pd.SparseDtype)` instead.\n",
      "  if _pandas_api.is_sparse(col):\n"
     ]
    },
    {
     "ename": "ArrowNotImplementedError",
     "evalue": "Unsupported cast from dictionary<values=extension<pandas.interval<ArrowIntervalType>>, indices=int8, ordered=1> to struct using function cast_struct",
     "output_type": "error",
     "traceback": [
      "\u001b[0;31m---------------------------------------------------------------------------\u001b[0m",
      "\u001b[0;31mArrowNotImplementedError\u001b[0m                  Traceback (most recent call last)",
      "\u001b[1;32m/home/samirchar/ProteinFunctions/notebooks/EDA.ipynb Cell 45\u001b[0m line \u001b[0;36m1\n\u001b[0;32m----> <a href='vscode-notebook-cell://ssh-remote%2Bbastion_tunnel/home/samirchar/ProteinFunctions/notebooks/EDA.ipynb#X62sdnNjb2RlLXJlbW90ZQ%3D%3D?line=0'>1</a>\u001b[0m res\u001b[39m.\u001b[39;49mto_parquet(\u001b[39m\"\u001b[39;49m\u001b[39mmodel_comparison_auprc_per_label.parquet\u001b[39;49m\u001b[39m\"\u001b[39;49m)\n",
      "File \u001b[0;32m~/.local/lib/python3.10/site-packages/pandas/core/frame.py:2973\u001b[0m, in \u001b[0;36mDataFrame.to_parquet\u001b[0;34m(self, path, engine, compression, index, partition_cols, storage_options, **kwargs)\u001b[0m\n\u001b[1;32m   2885\u001b[0m \u001b[39m\u001b[39m\u001b[39m\"\"\"\u001b[39;00m\n\u001b[1;32m   2886\u001b[0m \u001b[39mWrite a DataFrame to the binary parquet format.\u001b[39;00m\n\u001b[1;32m   2887\u001b[0m \n\u001b[0;32m   (...)\u001b[0m\n\u001b[1;32m   2969\u001b[0m \u001b[39m>>> content = f.read()\u001b[39;00m\n\u001b[1;32m   2970\u001b[0m \u001b[39m\"\"\"\u001b[39;00m\n\u001b[1;32m   2971\u001b[0m \u001b[39mfrom\u001b[39;00m \u001b[39mpandas\u001b[39;00m\u001b[39m.\u001b[39;00m\u001b[39mio\u001b[39;00m\u001b[39m.\u001b[39;00m\u001b[39mparquet\u001b[39;00m \u001b[39mimport\u001b[39;00m to_parquet\n\u001b[0;32m-> 2973\u001b[0m \u001b[39mreturn\u001b[39;00m to_parquet(\n\u001b[1;32m   2974\u001b[0m     \u001b[39mself\u001b[39;49m,\n\u001b[1;32m   2975\u001b[0m     path,\n\u001b[1;32m   2976\u001b[0m     engine,\n\u001b[1;32m   2977\u001b[0m     compression\u001b[39m=\u001b[39;49mcompression,\n\u001b[1;32m   2978\u001b[0m     index\u001b[39m=\u001b[39;49mindex,\n\u001b[1;32m   2979\u001b[0m     partition_cols\u001b[39m=\u001b[39;49mpartition_cols,\n\u001b[1;32m   2980\u001b[0m     storage_options\u001b[39m=\u001b[39;49mstorage_options,\n\u001b[1;32m   2981\u001b[0m     \u001b[39m*\u001b[39;49m\u001b[39m*\u001b[39;49mkwargs,\n\u001b[1;32m   2982\u001b[0m )\n",
      "File \u001b[0;32m~/.local/lib/python3.10/site-packages/pandas/io/parquet.py:483\u001b[0m, in \u001b[0;36mto_parquet\u001b[0;34m(df, path, engine, compression, index, storage_options, partition_cols, filesystem, **kwargs)\u001b[0m\n\u001b[1;32m    479\u001b[0m impl \u001b[39m=\u001b[39m get_engine(engine)\n\u001b[1;32m    481\u001b[0m path_or_buf: FilePath \u001b[39m|\u001b[39m WriteBuffer[\u001b[39mbytes\u001b[39m] \u001b[39m=\u001b[39m io\u001b[39m.\u001b[39mBytesIO() \u001b[39mif\u001b[39;00m path \u001b[39mis\u001b[39;00m \u001b[39mNone\u001b[39;00m \u001b[39melse\u001b[39;00m path\n\u001b[0;32m--> 483\u001b[0m impl\u001b[39m.\u001b[39;49mwrite(\n\u001b[1;32m    484\u001b[0m     df,\n\u001b[1;32m    485\u001b[0m     path_or_buf,\n\u001b[1;32m    486\u001b[0m     compression\u001b[39m=\u001b[39;49mcompression,\n\u001b[1;32m    487\u001b[0m     index\u001b[39m=\u001b[39;49mindex,\n\u001b[1;32m    488\u001b[0m     partition_cols\u001b[39m=\u001b[39;49mpartition_cols,\n\u001b[1;32m    489\u001b[0m     storage_options\u001b[39m=\u001b[39;49mstorage_options,\n\u001b[1;32m    490\u001b[0m     filesystem\u001b[39m=\u001b[39;49mfilesystem,\n\u001b[1;32m    491\u001b[0m     \u001b[39m*\u001b[39;49m\u001b[39m*\u001b[39;49mkwargs,\n\u001b[1;32m    492\u001b[0m )\n\u001b[1;32m    494\u001b[0m \u001b[39mif\u001b[39;00m path \u001b[39mis\u001b[39;00m \u001b[39mNone\u001b[39;00m:\n\u001b[1;32m    495\u001b[0m     \u001b[39massert\u001b[39;00m \u001b[39misinstance\u001b[39m(path_or_buf, io\u001b[39m.\u001b[39mBytesIO)\n",
      "File \u001b[0;32m~/.local/lib/python3.10/site-packages/pandas/io/parquet.py:226\u001b[0m, in \u001b[0;36mPyArrowImpl.write\u001b[0;34m(self, df, path, compression, index, storage_options, partition_cols, filesystem, **kwargs)\u001b[0m\n\u001b[1;32m    216\u001b[0m         \u001b[39mself\u001b[39m\u001b[39m.\u001b[39mapi\u001b[39m.\u001b[39mparquet\u001b[39m.\u001b[39mwrite_to_dataset(\n\u001b[1;32m    217\u001b[0m             table,\n\u001b[1;32m    218\u001b[0m             path_or_handle,\n\u001b[0;32m   (...)\u001b[0m\n\u001b[1;32m    222\u001b[0m             \u001b[39m*\u001b[39m\u001b[39m*\u001b[39mkwargs,\n\u001b[1;32m    223\u001b[0m         )\n\u001b[1;32m    224\u001b[0m     \u001b[39melse\u001b[39;00m:\n\u001b[1;32m    225\u001b[0m         \u001b[39m# write to single output file\u001b[39;00m\n\u001b[0;32m--> 226\u001b[0m         \u001b[39mself\u001b[39;49m\u001b[39m.\u001b[39;49mapi\u001b[39m.\u001b[39;49mparquet\u001b[39m.\u001b[39;49mwrite_table(\n\u001b[1;32m    227\u001b[0m             table,\n\u001b[1;32m    228\u001b[0m             path_or_handle,\n\u001b[1;32m    229\u001b[0m             compression\u001b[39m=\u001b[39;49mcompression,\n\u001b[1;32m    230\u001b[0m             filesystem\u001b[39m=\u001b[39;49mfilesystem,\n\u001b[1;32m    231\u001b[0m             \u001b[39m*\u001b[39;49m\u001b[39m*\u001b[39;49mkwargs,\n\u001b[1;32m    232\u001b[0m         )\n\u001b[1;32m    233\u001b[0m \u001b[39mfinally\u001b[39;00m:\n\u001b[1;32m    234\u001b[0m     \u001b[39mif\u001b[39;00m handles \u001b[39mis\u001b[39;00m \u001b[39mnot\u001b[39;00m \u001b[39mNone\u001b[39;00m:\n",
      "File \u001b[0;32m/anaconda/envs/protein_functions_310/lib/python3.10/site-packages/pyarrow/parquet/core.py:3093\u001b[0m, in \u001b[0;36mwrite_table\u001b[0;34m(table, where, row_group_size, version, use_dictionary, compression, write_statistics, use_deprecated_int96_timestamps, coerce_timestamps, allow_truncated_timestamps, data_page_size, flavor, filesystem, compression_level, use_byte_stream_split, column_encoding, data_page_version, use_compliant_nested_type, encryption_properties, write_batch_size, dictionary_pagesize_limit, store_schema, **kwargs)\u001b[0m\n\u001b[1;32m   3070\u001b[0m \u001b[39mtry\u001b[39;00m:\n\u001b[1;32m   3071\u001b[0m     \u001b[39mwith\u001b[39;00m ParquetWriter(\n\u001b[1;32m   3072\u001b[0m             where, table\u001b[39m.\u001b[39mschema,\n\u001b[1;32m   3073\u001b[0m             filesystem\u001b[39m=\u001b[39mfilesystem,\n\u001b[0;32m   (...)\u001b[0m\n\u001b[1;32m   3091\u001b[0m             store_schema\u001b[39m=\u001b[39mstore_schema,\n\u001b[1;32m   3092\u001b[0m             \u001b[39m*\u001b[39m\u001b[39m*\u001b[39mkwargs) \u001b[39mas\u001b[39;00m writer:\n\u001b[0;32m-> 3093\u001b[0m         writer\u001b[39m.\u001b[39;49mwrite_table(table, row_group_size\u001b[39m=\u001b[39;49mrow_group_size)\n\u001b[1;32m   3094\u001b[0m \u001b[39mexcept\u001b[39;00m \u001b[39mException\u001b[39;00m:\n\u001b[1;32m   3095\u001b[0m     \u001b[39mif\u001b[39;00m _is_path_like(where):\n",
      "File \u001b[0;32m/anaconda/envs/protein_functions_310/lib/python3.10/site-packages/pyarrow/parquet/core.py:1079\u001b[0m, in \u001b[0;36mParquetWriter.write_table\u001b[0;34m(self, table, row_group_size)\u001b[0m\n\u001b[1;32m   1074\u001b[0m     msg \u001b[39m=\u001b[39m (\u001b[39m'\u001b[39m\u001b[39mTable schema does not match schema used to create file: \u001b[39m\u001b[39m'\u001b[39m\n\u001b[1;32m   1075\u001b[0m            \u001b[39m'\u001b[39m\u001b[39m\\n\u001b[39;00m\u001b[39mtable:\u001b[39m\u001b[39m\\n\u001b[39;00m\u001b[39m{!s}\u001b[39;00m\u001b[39m vs. \u001b[39m\u001b[39m\\n\u001b[39;00m\u001b[39mfile:\u001b[39m\u001b[39m\\n\u001b[39;00m\u001b[39m{!s}\u001b[39;00m\u001b[39m'\u001b[39m\n\u001b[1;32m   1076\u001b[0m            \u001b[39m.\u001b[39mformat(table\u001b[39m.\u001b[39mschema, \u001b[39mself\u001b[39m\u001b[39m.\u001b[39mschema))\n\u001b[1;32m   1077\u001b[0m     \u001b[39mraise\u001b[39;00m \u001b[39mValueError\u001b[39;00m(msg)\n\u001b[0;32m-> 1079\u001b[0m \u001b[39mself\u001b[39;49m\u001b[39m.\u001b[39;49mwriter\u001b[39m.\u001b[39;49mwrite_table(table, row_group_size\u001b[39m=\u001b[39;49mrow_group_size)\n",
      "File \u001b[0;32m/anaconda/envs/protein_functions_310/lib/python3.10/site-packages/pyarrow/_parquet.pyx:1776\u001b[0m, in \u001b[0;36mpyarrow._parquet.ParquetWriter.write_table\u001b[0;34m()\u001b[0m\n",
      "File \u001b[0;32m/anaconda/envs/protein_functions_310/lib/python3.10/site-packages/pyarrow/error.pxi:121\u001b[0m, in \u001b[0;36mpyarrow.lib.check_status\u001b[0;34m()\u001b[0m\n",
      "\u001b[0;31mArrowNotImplementedError\u001b[0m: Unsupported cast from dictionary<values=extension<pandas.interval<ArrowIntervalType>>, indices=int8, ordered=1> to struct using function cast_struct"
     ]
    }
   ],
   "source": [
    "res.to_parquet(\"model_comparison_auprc_per_label.parquet\")"
   ]
  },
  {
   "cell_type": "code",
   "execution_count": 28,
   "metadata": {},
   "outputs": [
    {
     "data": {
      "text/plain": [
       "(32102, 3)"
      ]
     },
     "execution_count": 28,
     "metadata": {},
     "output_type": "execute_result"
    }
   ],
   "source": [
    "res[res['model']=='Ours'].shape"
   ]
  },
  {
   "cell_type": "code",
   "execution_count": 41,
   "metadata": {},
   "outputs": [
    {
     "name": "stderr",
     "output_type": "stream",
     "text": [
      "/anaconda/envs/protein_functions_310/lib/python3.10/site-packages/seaborn/_oldcore.py:1498: FutureWarning: is_categorical_dtype is deprecated and will be removed in a future version. Use isinstance(dtype, CategoricalDtype) instead\n",
      "  if pd.api.types.is_categorical_dtype(vector):\n",
      "/anaconda/envs/protein_functions_310/lib/python3.10/site-packages/seaborn/_oldcore.py:1498: FutureWarning: is_categorical_dtype is deprecated and will be removed in a future version. Use isinstance(dtype, CategoricalDtype) instead\n",
      "  if pd.api.types.is_categorical_dtype(vector):\n",
      "/anaconda/envs/protein_functions_310/lib/python3.10/site-packages/seaborn/_oldcore.py:1498: FutureWarning: is_categorical_dtype is deprecated and will be removed in a future version. Use isinstance(dtype, CategoricalDtype) instead\n",
      "  if pd.api.types.is_categorical_dtype(vector):\n",
      "/anaconda/envs/protein_functions_310/lib/python3.10/site-packages/seaborn/_oldcore.py:1498: FutureWarning: is_categorical_dtype is deprecated and will be removed in a future version. Use isinstance(dtype, CategoricalDtype) instead\n",
      "  if pd.api.types.is_categorical_dtype(vector):\n",
      "/anaconda/envs/protein_functions_310/lib/python3.10/site-packages/seaborn/_oldcore.py:1119: FutureWarning: use_inf_as_na option is deprecated and will be removed in a future version. Convert inf values to NaN before operating instead.\n",
      "  with pd.option_context('mode.use_inf_as_na', True):\n"
     ]
    },
    {
     "data": {
      "text/plain": [
       "<Axes: xlabel='AUPRC', ylabel='Count'>"
      ]
     },
     "execution_count": 41,
     "metadata": {},
     "output_type": "execute_result"
    },
    {
     "data": {
      "image/png": "[encoded data removed]",
      "text/plain": [
       "<Figure size 640x480 with 1 Axes>"
      ]
     },
     "metadata": {},
     "output_type": "display_data"
    }
   ],
   "source": [
    "sns.histplot(data = res.reset_index(),x='AUPRC',hue='model',bins=100)"
   ]
  },
  {
   "cell_type": "code",
   "execution_count": 30,
   "metadata": {},
   "outputs": [],
   "source": [
    "res_pivot = res.pivot(columns=['model'],values=['AUPRC','Frequency'])"
   ]
  },
  {
   "cell_type": "code",
   "execution_count": 31,
   "metadata": {},
   "outputs": [],
   "source": [
    "res_pivot.columns = [i[0]+'_'+i[1] for i in res_pivot.columns]"
   ]
  },
  {
   "cell_type": "code",
   "execution_count": 32,
   "metadata": {},
   "outputs": [],
   "source": [
    "ours_better = res_pivot[res_pivot['AUPRC_Ours']>res_pivot['AUPRC_Proteinfer']].sort_values(by='Frequency_Ours',ascending=False)"
   ]
  },
  {
   "cell_type": "code",
   "execution_count": 33,
   "metadata": {},
   "outputs": [
    {
     "data": {
      "text/html": [
       "<div>\n",
       "<style scoped>\n",
       "    .dataframe tbody tr th:only-of-type {\n",
       "        vertical-align: middle;\n",
       "    }\n",
       "\n",
       "    .dataframe tbody tr th {\n",
       "        vertical-align: top;\n",
       "    }\n",
       "\n",
       "    .dataframe thead th {\n",
       "        text-align: right;\n",
       "    }\n",
       "</style>\n",
       "<table border=\"1\" class=\"dataframe\">\n",
       "  <thead>\n",
       "    <tr style=\"text-align: right;\">\n",
       "      <th></th>\n",
       "      <th>AUPRC_Ours</th>\n",
       "      <th>AUPRC_Proteinfer</th>\n",
       "      <th>Frequency_Ours</th>\n",
       "      <th>Frequency_Proteinfer</th>\n",
       "    </tr>\n",
       "  </thead>\n",
       "  <tbody>\n",
       "    <tr>\n",
       "      <th>GO:0003674</th>\n",
       "      <td>0.996090</td>\n",
       "      <td>0.994481</td>\n",
       "      <td>369909.0</td>\n",
       "      <td>369909.0</td>\n",
       "    </tr>\n",
       "    <tr>\n",
       "      <th>GO:0008150</th>\n",
       "      <td>0.988887</td>\n",
       "      <td>0.983664</td>\n",
       "      <td>346677.0</td>\n",
       "      <td>346677.0</td>\n",
       "    </tr>\n",
       "    <tr>\n",
       "      <th>GO:0005575</th>\n",
       "      <td>0.993006</td>\n",
       "      <td>0.992867</td>\n",
       "      <td>321980.0</td>\n",
       "      <td>321980.0</td>\n",
       "    </tr>\n",
       "    <tr>\n",
       "      <th>GO:0009987</th>\n",
       "      <td>0.983003</td>\n",
       "      <td>0.980420</td>\n",
       "      <td>295442.0</td>\n",
       "      <td>295442.0</td>\n",
       "    </tr>\n",
       "    <tr>\n",
       "      <th>GO:0044464</th>\n",
       "      <td>0.986674</td>\n",
       "      <td>0.986555</td>\n",
       "      <td>291432.0</td>\n",
       "      <td>291432.0</td>\n",
       "    </tr>\n",
       "    <tr>\n",
       "      <th>...</th>\n",
       "      <td>...</td>\n",
       "      <td>...</td>\n",
       "      <td>...</td>\n",
       "      <td>...</td>\n",
       "    </tr>\n",
       "    <tr>\n",
       "      <th>GO:2000764</th>\n",
       "      <td>0.000557</td>\n",
       "      <td>0.000090</td>\n",
       "      <td>NaN</td>\n",
       "      <td>NaN</td>\n",
       "    </tr>\n",
       "    <tr>\n",
       "      <th>GO:2001194</th>\n",
       "      <td>0.007692</td>\n",
       "      <td>0.000508</td>\n",
       "      <td>NaN</td>\n",
       "      <td>NaN</td>\n",
       "    </tr>\n",
       "    <tr>\n",
       "      <th>GO:2001196</th>\n",
       "      <td>0.100000</td>\n",
       "      <td>0.000538</td>\n",
       "      <td>NaN</td>\n",
       "      <td>NaN</td>\n",
       "    </tr>\n",
       "    <tr>\n",
       "      <th>GO:2001262</th>\n",
       "      <td>0.000320</td>\n",
       "      <td>0.000086</td>\n",
       "      <td>NaN</td>\n",
       "      <td>NaN</td>\n",
       "    </tr>\n",
       "    <tr>\n",
       "      <th>GO:2001284</th>\n",
       "      <td>0.000528</td>\n",
       "      <td>0.000222</td>\n",
       "      <td>NaN</td>\n",
       "      <td>NaN</td>\n",
       "    </tr>\n",
       "  </tbody>\n",
       "</table>\n",
       "<p>1432 rows × 4 columns</p>\n",
       "</div>"
      ],
      "text/plain": [
       "            AUPRC_Ours  AUPRC_Proteinfer  Frequency_Ours  Frequency_Proteinfer\n",
       "GO:0003674    0.996090          0.994481        369909.0              369909.0\n",
       "GO:0008150    0.988887          0.983664        346677.0              346677.0\n",
       "GO:0005575    0.993006          0.992867        321980.0              321980.0\n",
       "GO:0009987    0.983003          0.980420        295442.0              295442.0\n",
       "GO:0044464    0.986674          0.986555        291432.0              291432.0\n",
       "...                ...               ...             ...                   ...\n",
       "GO:2000764    0.000557          0.000090             NaN                   NaN\n",
       "GO:2001194    0.007692          0.000508             NaN                   NaN\n",
       "GO:2001196    0.100000          0.000538             NaN                   NaN\n",
       "GO:2001262    0.000320          0.000086             NaN                   NaN\n",
       "GO:2001284    0.000528          0.000222             NaN                   NaN\n",
       "\n",
       "[1432 rows x 4 columns]"
      ]
     },
     "execution_count": 33,
     "metadata": {},
     "output_type": "execute_result"
    }
   ],
   "source": [
    "ours_better"
   ]
  },
  {
   "cell_type": "code",
   "execution_count": 34,
   "metadata": {},
   "outputs": [],
   "source": [
    "import gc\n",
    "from tqdm import tqdm\n",
    "import math\n",
    "gc.collect()\n",
    "torch.cuda.empty_cache()\n"
   ]
  },
  {
   "cell_type": "code",
   "execution_count": 49,
   "metadata": {},
   "outputs": [
    {
     "name": "stderr",
     "output_type": "stream",
     "text": [
      "100%|██████████| 443/443 [00:10<00:00, 40.73it/s]\n"
     ]
    }
   ],
   "source": [
    "\n",
    "mask_at_least_one_label = val_labels.sum()>0\n",
    "labels_at_least_one_pos = val_labels.columns#[mask_at_least_one_label]\n",
    "\n",
    "APMicro = AveragePrecision(task=\"multilabel\",num_labels=len(labels_at_least_one_pos),average='micro').to('cuda')\n",
    "\n",
    "\n",
    "chunk_size = 100\n",
    "num_chunks = math.ceil(len(pinf_val_probabilities) / chunk_size)\n",
    "\n",
    "for i in tqdm(range(num_chunks)):\n",
    "    APMicro(torch.tensor(val_probabilities.iloc[i*chunk_size:(i+1)*chunk_size,:][labels_at_least_one_pos].values,device='cuda'),\n",
    "            torch.tensor(val_labels.iloc[i*chunk_size:(i+1)*chunk_size,:][labels_at_least_one_pos].values,device='cuda'))\n"
   ]
  },
  {
   "cell_type": "code",
   "execution_count": null,
   "metadata": {},
   "outputs": [],
   "source": [
    "APMicro.compute()"
   ]
  },
  {
   "cell_type": "code",
   "execution_count": 37,
   "metadata": {},
   "outputs": [
    {
     "name": "stderr",
     "output_type": "stream",
     "text": [
      "100%|██████████| 443/443 [00:03<00:00, 130.19it/s]\n"
     ]
    }
   ],
   "source": [
    "APMicro = AveragePrecision(task=\"multilabel\",num_labels=val_labels.shape[1],average='micro').to('cuda')\n",
    "\n",
    "chunk_size = 100\n",
    "num_chunks = math.ceil(len(pinf_val_probabilities) / chunk_size)\n",
    "\n",
    "for i in tqdm(range(num_chunks)):\n",
    "    #print()\n",
    "    APMicro(torch.tensor(pinf_val_probabilities.iloc[i*chunk_size:(i+1)*chunk_size,:].values).cuda(),\n",
    "            torch.tensor(pinf_val_labels.iloc[i*chunk_size:(i+1)*chunk_size,:].values).cuda())\n"
   ]
  },
  {
   "cell_type": "code",
   "execution_count": null,
   "metadata": {},
   "outputs": [],
   "source": [
    "APMicro.compute()"
   ]
  },
  {
   "cell_type": "code",
   "execution_count": 22,
   "metadata": {},
   "outputs": [],
   "source": [
    "from torcheval.metrics import MultilabelAUPRC,BinaryAUPRC"
   ]
  },
  {
   "cell_type": "code",
   "execution_count": 40,
   "metadata": {},
   "outputs": [
    {
     "name": "stderr",
     "output_type": "stream",
     "text": [
      "  0%|          | 0/443 [00:00<?, ?it/s]\n"
     ]
    },
    {
     "ename": "AttributeError",
     "evalue": "'Tensor' object has no attribute 'iloc'",
     "output_type": "error",
     "traceback": [
      "\u001b[0;31m---------------------------------------------------------------------------\u001b[0m",
      "\u001b[0;31mAttributeError\u001b[0m                            Traceback (most recent call last)",
      "\u001b[1;32m/home/samirchar/ProteinFunctions/notebooks/EDA.ipynb Cell 57\u001b[0m line \u001b[0;36m1\n\u001b[1;32m      <a href='vscode-notebook-cell://ssh-remote%2Bbastion_tunnel/home/samirchar/ProteinFunctions/notebooks/EDA.ipynb#Y111sdnNjb2RlLXJlbW90ZQ%3D%3D?line=7'>8</a>\u001b[0m num_chunks \u001b[39m=\u001b[39m math\u001b[39m.\u001b[39mceil(\u001b[39mlen\u001b[39m(pinf_val_probabilities) \u001b[39m/\u001b[39m chunk_size)\n\u001b[1;32m     <a href='vscode-notebook-cell://ssh-remote%2Bbastion_tunnel/home/samirchar/ProteinFunctions/notebooks/EDA.ipynb#Y111sdnNjb2RlLXJlbW90ZQ%3D%3D?line=9'>10</a>\u001b[0m \u001b[39mfor\u001b[39;00m i \u001b[39min\u001b[39;00m tqdm(\u001b[39mrange\u001b[39m(num_chunks)):\n\u001b[1;32m     <a href='vscode-notebook-cell://ssh-remote%2Bbastion_tunnel/home/samirchar/ProteinFunctions/notebooks/EDA.ipynb#Y111sdnNjb2RlLXJlbW90ZQ%3D%3D?line=10'>11</a>\u001b[0m     \u001b[39m#print()\u001b[39;00m\n\u001b[0;32m---> <a href='vscode-notebook-cell://ssh-remote%2Bbastion_tunnel/home/samirchar/ProteinFunctions/notebooks/EDA.ipynb#Y111sdnNjb2RlLXJlbW90ZQ%3D%3D?line=11'>12</a>\u001b[0m     APMicro\u001b[39m.\u001b[39mupdate(torch\u001b[39m.\u001b[39mtensor(always_negative_preds\u001b[39m.\u001b[39;49miloc[i\u001b[39m*\u001b[39mchunk_size:(i\u001b[39m+\u001b[39m\u001b[39m1\u001b[39m)\u001b[39m*\u001b[39mchunk_size,:][labels_at_least_one_pos]\u001b[39m.\u001b[39mvalues,device\u001b[39m=\u001b[39md)\u001b[39m.\u001b[39mflatten(),\n\u001b[1;32m     <a href='vscode-notebook-cell://ssh-remote%2Bbastion_tunnel/home/samirchar/ProteinFunctions/notebooks/EDA.ipynb#Y111sdnNjb2RlLXJlbW90ZQ%3D%3D?line=12'>13</a>\u001b[0m             torch\u001b[39m.\u001b[39mtensor(always_negative_preds\u001b[39m.\u001b[39miloc[i\u001b[39m*\u001b[39mchunk_size:(i\u001b[39m+\u001b[39m\u001b[39m1\u001b[39m)\u001b[39m*\u001b[39mchunk_size,:][labels_at_least_one_pos]\u001b[39m.\u001b[39mvalues,device\u001b[39m=\u001b[39md)\u001b[39m.\u001b[39mflatten())\n",
      "\u001b[0;31mAttributeError\u001b[0m: 'Tensor' object has no attribute 'iloc'"
     ]
    }
   ],
   "source": [
    "\n",
    "mask_at_least_one_label = val_labels.sum()>0\n",
    "labels_at_least_one_pos = val_labels.columns#[mask_at_least_one_label]\n",
    "\n",
    "d = 'cpu'\n",
    "APMicro = BinaryAUPRC(device=d)\n",
    "\n",
    "chunk_size = 100\n",
    "num_chunks = math.ceil(len(pinf_val_probabilities) / chunk_size)\n",
    "\n",
    "for i in tqdm(range(num_chunks)):\n",
    "    #print()\n",
    "    APMicro.update(torch.tensor(val_probabilities.iloc[i*chunk_size:(i+1)*chunk_size,:][labels_at_least_one_pos].values,device=d).flatten(),\n",
    "            torch.tensor(val_labels.iloc[i*chunk_size:(i+1)*chunk_size,:][labels_at_least_one_pos].values,device=d).flatten())\n"
   ]
  },
  {
   "cell_type": "code",
   "execution_count": 28,
   "metadata": {},
   "outputs": [],
   "source": [
    "a=APMicro.compute()\n",
    "a"
   ]
  },
  {
   "cell_type": "code",
   "execution_count": 44,
   "metadata": {},
   "outputs": [
    {
     "name": "stderr",
     "output_type": "stream",
     "text": [
      "  1%|          | 4/443 [00:00<00:12, 35.18it/s]"
     ]
    },
    {
     "name": "stderr",
     "output_type": "stream",
     "text": [
      "100%|██████████| 443/443 [00:12<00:00, 36.19it/s]\n"
     ]
    }
   ],
   "source": [
    "\n",
    "d = 'cpu'\n",
    "APMicro = BinaryAUPRC(device=d)\n",
    "\n",
    "chunk_size = 100\n",
    "num_chunks = math.ceil(len(pinf_val_probabilities) / chunk_size)\n",
    "\n",
    "for i in tqdm(range(num_chunks)):\n",
    "    #print()\n",
    "    APMicro.update(always_random[i*chunk_size:(i+1)*chunk_size,:].flatten(),\n",
    "            torch.tensor(val_labels.iloc[i*chunk_size:(i+1)*chunk_size,:][labels_at_least_one_pos].values,device=d).flatten())\n"
   ]
  },
  {
   "cell_type": "code",
   "execution_count": 45,
   "metadata": {},
   "outputs": [
    {
     "data": {
      "text/plain": [
       "tensor(0.0015)"
      ]
     },
     "execution_count": 45,
     "metadata": {},
     "output_type": "execute_result"
    }
   ],
   "source": [
    "a=APMicro.compute()\n",
    "a"
   ]
  },
  {
   "cell_type": "code",
   "execution_count": 29,
   "metadata": {},
   "outputs": [
    {
     "ename": "OutOfMemoryError",
     "evalue": "CUDA out of memory. Tried to allocate 10.60 GiB (GPU 0; 79.10 GiB total capacity; 58.53 GiB already allocated; 8.84 GiB free; 64.37 GiB reserved in total by PyTorch) If reserved memory is >> allocated memory try setting max_split_size_mb to avoid fragmentation.  See documentation for Memory Management and PYTORCH_CUDA_ALLOC_CONF",
     "output_type": "error",
     "traceback": [
      "\u001b[0;31m---------------------------------------------------------------------------\u001b[0m",
      "\u001b[0;31mOutOfMemoryError\u001b[0m                          Traceback (most recent call last)",
      "\u001b[1;32m/home/samirchar/ProteinFunctions/notebooks/EDA.ipynb Cell 51\u001b[0m line \u001b[0;36m1\n\u001b[0;32m----> <a href='vscode-notebook-cell://ssh-remote%2Bbastion_tunnel/home/samirchar/ProteinFunctions/notebooks/EDA.ipynb#Y151sdnNjb2RlLXJlbW90ZQ%3D%3D?line=0'>1</a>\u001b[0m APMicro(torch\u001b[39m.\u001b[39;49mtensor(pinf_val_probabilities\u001b[39m.\u001b[39;49mvalues,device\u001b[39m=\u001b[39;49m\u001b[39m'\u001b[39;49m\u001b[39mcuda\u001b[39;49m\u001b[39m'\u001b[39;49m),\n\u001b[1;32m      <a href='vscode-notebook-cell://ssh-remote%2Bbastion_tunnel/home/samirchar/ProteinFunctions/notebooks/EDA.ipynb#Y151sdnNjb2RlLXJlbW90ZQ%3D%3D?line=1'>2</a>\u001b[0m         torch\u001b[39m.\u001b[39;49mtensor(pinf_val_labels\u001b[39m.\u001b[39;49mvalues,device\u001b[39m=\u001b[39;49m\u001b[39m'\u001b[39;49m\u001b[39mcuda\u001b[39;49m\u001b[39m'\u001b[39;49m))\n",
      "File \u001b[0;32m/anaconda/envs/protein_functions_310/lib/python3.10/site-packages/torch/nn/modules/module.py:1501\u001b[0m, in \u001b[0;36mModule._call_impl\u001b[0;34m(self, *args, **kwargs)\u001b[0m\n\u001b[1;32m   1496\u001b[0m \u001b[39m# If we don't have any hooks, we want to skip the rest of the logic in\u001b[39;00m\n\u001b[1;32m   1497\u001b[0m \u001b[39m# this function, and just call forward.\u001b[39;00m\n\u001b[1;32m   1498\u001b[0m \u001b[39mif\u001b[39;00m \u001b[39mnot\u001b[39;00m (\u001b[39mself\u001b[39m\u001b[39m.\u001b[39m_backward_hooks \u001b[39mor\u001b[39;00m \u001b[39mself\u001b[39m\u001b[39m.\u001b[39m_backward_pre_hooks \u001b[39mor\u001b[39;00m \u001b[39mself\u001b[39m\u001b[39m.\u001b[39m_forward_hooks \u001b[39mor\u001b[39;00m \u001b[39mself\u001b[39m\u001b[39m.\u001b[39m_forward_pre_hooks\n\u001b[1;32m   1499\u001b[0m         \u001b[39mor\u001b[39;00m _global_backward_pre_hooks \u001b[39mor\u001b[39;00m _global_backward_hooks\n\u001b[1;32m   1500\u001b[0m         \u001b[39mor\u001b[39;00m _global_forward_hooks \u001b[39mor\u001b[39;00m _global_forward_pre_hooks):\n\u001b[0;32m-> 1501\u001b[0m     \u001b[39mreturn\u001b[39;00m forward_call(\u001b[39m*\u001b[39;49margs, \u001b[39m*\u001b[39;49m\u001b[39m*\u001b[39;49mkwargs)\n\u001b[1;32m   1502\u001b[0m \u001b[39m# Do not call functions when jit is used\u001b[39;00m\n\u001b[1;32m   1503\u001b[0m full_backward_hooks, non_full_backward_hooks \u001b[39m=\u001b[39m [], []\n",
      "File \u001b[0;32m/anaconda/envs/protein_functions_310/lib/python3.10/site-packages/torchmetrics/metric.py:298\u001b[0m, in \u001b[0;36mMetric.forward\u001b[0;34m(self, *args, **kwargs)\u001b[0m\n\u001b[1;32m    296\u001b[0m     \u001b[39mself\u001b[39m\u001b[39m.\u001b[39m_forward_cache \u001b[39m=\u001b[39m \u001b[39mself\u001b[39m\u001b[39m.\u001b[39m_forward_full_state_update(\u001b[39m*\u001b[39margs, \u001b[39m*\u001b[39m\u001b[39m*\u001b[39mkwargs)\n\u001b[1;32m    297\u001b[0m \u001b[39melse\u001b[39;00m:\n\u001b[0;32m--> 298\u001b[0m     \u001b[39mself\u001b[39m\u001b[39m.\u001b[39m_forward_cache \u001b[39m=\u001b[39m \u001b[39mself\u001b[39;49m\u001b[39m.\u001b[39;49m_forward_reduce_state_update(\u001b[39m*\u001b[39;49margs, \u001b[39m*\u001b[39;49m\u001b[39m*\u001b[39;49mkwargs)\n\u001b[1;32m    300\u001b[0m \u001b[39mreturn\u001b[39;00m \u001b[39mself\u001b[39m\u001b[39m.\u001b[39m_forward_cache\n",
      "File \u001b[0;32m/anaconda/envs/protein_functions_310/lib/python3.10/site-packages/torchmetrics/metric.py:367\u001b[0m, in \u001b[0;36mMetric._forward_reduce_state_update\u001b[0;34m(self, *args, **kwargs)\u001b[0m\n\u001b[1;32m    364\u001b[0m \u001b[39mself\u001b[39m\u001b[39m.\u001b[39m_enable_grad \u001b[39m=\u001b[39m \u001b[39mTrue\u001b[39;00m  \u001b[39m# allow grads for batch computation\u001b[39;00m\n\u001b[1;32m    366\u001b[0m \u001b[39m# calculate batch state and compute batch value\u001b[39;00m\n\u001b[0;32m--> 367\u001b[0m \u001b[39mself\u001b[39;49m\u001b[39m.\u001b[39;49mupdate(\u001b[39m*\u001b[39;49margs, \u001b[39m*\u001b[39;49m\u001b[39m*\u001b[39;49mkwargs)\n\u001b[1;32m    368\u001b[0m batch_val \u001b[39m=\u001b[39m \u001b[39mself\u001b[39m\u001b[39m.\u001b[39mcompute()\n\u001b[1;32m    370\u001b[0m \u001b[39m# reduce batch and global state\u001b[39;00m\n",
      "File \u001b[0;32m/anaconda/envs/protein_functions_310/lib/python3.10/site-packages/torchmetrics/metric.py:467\u001b[0m, in \u001b[0;36mMetric._wrap_update.<locals>.wrapped_func\u001b[0;34m(*args, **kwargs)\u001b[0m\n\u001b[1;32m    459\u001b[0m         \u001b[39mif\u001b[39;00m \u001b[39m\"\u001b[39m\u001b[39mExpected all tensors to be on\u001b[39m\u001b[39m\"\u001b[39m \u001b[39min\u001b[39;00m \u001b[39mstr\u001b[39m(err):\n\u001b[1;32m    460\u001b[0m             \u001b[39mraise\u001b[39;00m \u001b[39mRuntimeError\u001b[39;00m(\n\u001b[1;32m    461\u001b[0m                 \u001b[39m\"\u001b[39m\u001b[39mEncountered different devices in metric calculation (see stacktrace for details).\u001b[39m\u001b[39m\"\u001b[39m\n\u001b[1;32m    462\u001b[0m                 \u001b[39m\"\u001b[39m\u001b[39m This could be due to the metric class not being on the same device as input.\u001b[39m\u001b[39m\"\u001b[39m\n\u001b[0;32m   (...)\u001b[0m\n\u001b[1;32m    465\u001b[0m                 \u001b[39m\"\u001b[39m\u001b[39m device corresponds to the device of the input.\u001b[39m\u001b[39m\"\u001b[39m\n\u001b[1;32m    466\u001b[0m             ) \u001b[39mfrom\u001b[39;00m \u001b[39merr\u001b[39;00m\n\u001b[0;32m--> 467\u001b[0m         \u001b[39mraise\u001b[39;00m err\n\u001b[1;32m    469\u001b[0m \u001b[39mif\u001b[39;00m \u001b[39mself\u001b[39m\u001b[39m.\u001b[39mcompute_on_cpu:\n\u001b[1;32m    470\u001b[0m     \u001b[39mself\u001b[39m\u001b[39m.\u001b[39m_move_list_states_to_cpu()\n",
      "File \u001b[0;32m/anaconda/envs/protein_functions_310/lib/python3.10/site-packages/torchmetrics/metric.py:457\u001b[0m, in \u001b[0;36mMetric._wrap_update.<locals>.wrapped_func\u001b[0;34m(*args, **kwargs)\u001b[0m\n\u001b[1;32m    455\u001b[0m \u001b[39mwith\u001b[39;00m torch\u001b[39m.\u001b[39mset_grad_enabled(\u001b[39mself\u001b[39m\u001b[39m.\u001b[39m_enable_grad):\n\u001b[1;32m    456\u001b[0m     \u001b[39mtry\u001b[39;00m:\n\u001b[0;32m--> 457\u001b[0m         update(\u001b[39m*\u001b[39;49margs, \u001b[39m*\u001b[39;49m\u001b[39m*\u001b[39;49mkwargs)\n\u001b[1;32m    458\u001b[0m     \u001b[39mexcept\u001b[39;00m \u001b[39mRuntimeError\u001b[39;00m \u001b[39mas\u001b[39;00m err:\n\u001b[1;32m    459\u001b[0m         \u001b[39mif\u001b[39;00m \u001b[39m\"\u001b[39m\u001b[39mExpected all tensors to be on\u001b[39m\u001b[39m\"\u001b[39m \u001b[39min\u001b[39;00m \u001b[39mstr\u001b[39m(err):\n",
      "File \u001b[0;32m/anaconda/envs/protein_functions_310/lib/python3.10/site-packages/torchmetrics/classification/precision_recall_curve.py:533\u001b[0m, in \u001b[0;36mMultilabelPrecisionRecallCurve.update\u001b[0;34m(self, preds, target)\u001b[0m\n\u001b[1;32m    531\u001b[0m \u001b[39m\u001b[39m\u001b[39m\"\"\"Update metric states.\"\"\"\u001b[39;00m\n\u001b[1;32m    532\u001b[0m \u001b[39mif\u001b[39;00m \u001b[39mself\u001b[39m\u001b[39m.\u001b[39mvalidate_args:\n\u001b[0;32m--> 533\u001b[0m     _multilabel_precision_recall_curve_tensor_validation(preds, target, \u001b[39mself\u001b[39;49m\u001b[39m.\u001b[39;49mnum_labels, \u001b[39mself\u001b[39;49m\u001b[39m.\u001b[39;49mignore_index)\n\u001b[1;32m    534\u001b[0m preds, target, _ \u001b[39m=\u001b[39m _multilabel_precision_recall_curve_format(\n\u001b[1;32m    535\u001b[0m     preds, target, \u001b[39mself\u001b[39m\u001b[39m.\u001b[39mnum_labels, \u001b[39mself\u001b[39m\u001b[39m.\u001b[39mthresholds, \u001b[39mself\u001b[39m\u001b[39m.\u001b[39mignore_index\n\u001b[1;32m    536\u001b[0m )\n\u001b[1;32m    537\u001b[0m state \u001b[39m=\u001b[39m _multilabel_precision_recall_curve_update(preds, target, \u001b[39mself\u001b[39m\u001b[39m.\u001b[39mnum_labels, \u001b[39mself\u001b[39m\u001b[39m.\u001b[39mthresholds)\n",
      "File \u001b[0;32m/anaconda/envs/protein_functions_310/lib/python3.10/site-packages/torchmetrics/functional/classification/precision_recall_curve.py:681\u001b[0m, in \u001b[0;36m_multilabel_precision_recall_curve_tensor_validation\u001b[0;34m(preds, target, num_labels, ignore_index)\u001b[0m\n\u001b[1;32m    670\u001b[0m \u001b[39mdef\u001b[39;00m \u001b[39m_multilabel_precision_recall_curve_tensor_validation\u001b[39m(\n\u001b[1;32m    671\u001b[0m     preds: Tensor, target: Tensor, num_labels: \u001b[39mint\u001b[39m, ignore_index: Optional[\u001b[39mint\u001b[39m] \u001b[39m=\u001b[39m \u001b[39mNone\u001b[39;00m\n\u001b[1;32m    672\u001b[0m ) \u001b[39m-\u001b[39m\u001b[39m>\u001b[39m \u001b[39mNone\u001b[39;00m:\n\u001b[1;32m    673\u001b[0m \u001b[39m    \u001b[39m\u001b[39m\"\"\"Validate tensor input.\u001b[39;00m\n\u001b[1;32m    674\u001b[0m \n\u001b[1;32m    675\u001b[0m \u001b[39m    - tensors have to be of same shape\u001b[39;00m\n\u001b[0;32m   (...)\u001b[0m\n\u001b[1;32m    679\u001b[0m \n\u001b[1;32m    680\u001b[0m \u001b[39m    \"\"\"\u001b[39;00m\n\u001b[0;32m--> 681\u001b[0m     _binary_precision_recall_curve_tensor_validation(preds, target, ignore_index)\n\u001b[1;32m    682\u001b[0m     \u001b[39mif\u001b[39;00m preds\u001b[39m.\u001b[39mshape[\u001b[39m1\u001b[39m] \u001b[39m!=\u001b[39m num_labels:\n\u001b[1;32m    683\u001b[0m         \u001b[39mraise\u001b[39;00m \u001b[39mValueError\u001b[39;00m(\n\u001b[1;32m    684\u001b[0m             \u001b[39m\"\u001b[39m\u001b[39mExpected both `target.shape[1]` and `preds.shape[1]` to be equal to the number of labels\u001b[39m\u001b[39m\"\u001b[39m\n\u001b[1;32m    685\u001b[0m             \u001b[39mf\u001b[39m\u001b[39m\"\u001b[39m\u001b[39m but got \u001b[39m\u001b[39m{\u001b[39;00mpreds\u001b[39m.\u001b[39mshape[\u001b[39m1\u001b[39m]\u001b[39m}\u001b[39;00m\u001b[39m and expected \u001b[39m\u001b[39m{\u001b[39;00mnum_labels\u001b[39m}\u001b[39;00m\u001b[39m\"\u001b[39m\n\u001b[1;32m    686\u001b[0m         )\n",
      "File \u001b[0;32m/anaconda/envs/protein_functions_310/lib/python3.10/site-packages/torchmetrics/functional/classification/precision_recall_curve.py:150\u001b[0m, in \u001b[0;36m_binary_precision_recall_curve_tensor_validation\u001b[0;34m(preds, target, ignore_index)\u001b[0m\n\u001b[1;32m    144\u001b[0m     \u001b[39mraise\u001b[39;00m \u001b[39mValueError\u001b[39;00m(\n\u001b[1;32m    145\u001b[0m         \u001b[39m\"\u001b[39m\u001b[39mExpected argument `preds` to be an floating tensor with probability/logit scores,\u001b[39m\u001b[39m\"\u001b[39m\n\u001b[1;32m    146\u001b[0m         \u001b[39mf\u001b[39m\u001b[39m\"\u001b[39m\u001b[39m but got tensor with dtype \u001b[39m\u001b[39m{\u001b[39;00mpreds\u001b[39m.\u001b[39mdtype\u001b[39m}\u001b[39;00m\u001b[39m\"\u001b[39m\n\u001b[1;32m    147\u001b[0m     )\n\u001b[1;32m    149\u001b[0m \u001b[39m# Check that target only contains {0,1} values or value in ignore_index\u001b[39;00m\n\u001b[0;32m--> 150\u001b[0m unique_values \u001b[39m=\u001b[39m torch\u001b[39m.\u001b[39;49munique(target)\n\u001b[1;32m    151\u001b[0m \u001b[39mif\u001b[39;00m ignore_index \u001b[39mis\u001b[39;00m \u001b[39mNone\u001b[39;00m:\n\u001b[1;32m    152\u001b[0m     check \u001b[39m=\u001b[39m torch\u001b[39m.\u001b[39many((unique_values \u001b[39m!=\u001b[39m \u001b[39m0\u001b[39m) \u001b[39m&\u001b[39m (unique_values \u001b[39m!=\u001b[39m \u001b[39m1\u001b[39m))\n",
      "File \u001b[0;32m/anaconda/envs/protein_functions_310/lib/python3.10/site-packages/torch/_jit_internal.py:484\u001b[0m, in \u001b[0;36mboolean_dispatch.<locals>.fn\u001b[0;34m(*args, **kwargs)\u001b[0m\n\u001b[1;32m    482\u001b[0m     \u001b[39mreturn\u001b[39;00m if_true(\u001b[39m*\u001b[39margs, \u001b[39m*\u001b[39m\u001b[39m*\u001b[39mkwargs)\n\u001b[1;32m    483\u001b[0m \u001b[39melse\u001b[39;00m:\n\u001b[0;32m--> 484\u001b[0m     \u001b[39mreturn\u001b[39;00m if_false(\u001b[39m*\u001b[39;49margs, \u001b[39m*\u001b[39;49m\u001b[39m*\u001b[39;49mkwargs)\n",
      "File \u001b[0;32m/anaconda/envs/protein_functions_310/lib/python3.10/site-packages/torch/_jit_internal.py:484\u001b[0m, in \u001b[0;36mboolean_dispatch.<locals>.fn\u001b[0;34m(*args, **kwargs)\u001b[0m\n\u001b[1;32m    482\u001b[0m     \u001b[39mreturn\u001b[39;00m if_true(\u001b[39m*\u001b[39margs, \u001b[39m*\u001b[39m\u001b[39m*\u001b[39mkwargs)\n\u001b[1;32m    483\u001b[0m \u001b[39melse\u001b[39;00m:\n\u001b[0;32m--> 484\u001b[0m     \u001b[39mreturn\u001b[39;00m if_false(\u001b[39m*\u001b[39;49margs, \u001b[39m*\u001b[39;49m\u001b[39m*\u001b[39;49mkwargs)\n",
      "File \u001b[0;32m/anaconda/envs/protein_functions_310/lib/python3.10/site-packages/torch/functional.py:885\u001b[0m, in \u001b[0;36m_return_output\u001b[0;34m(input, sorted, return_inverse, return_counts, dim)\u001b[0m\n\u001b[1;32m    882\u001b[0m \u001b[39mif\u001b[39;00m has_torch_function_unary(\u001b[39minput\u001b[39m):\n\u001b[1;32m    883\u001b[0m     \u001b[39mreturn\u001b[39;00m _unique_impl(\u001b[39minput\u001b[39m, \u001b[39msorted\u001b[39m, return_inverse, return_counts, dim)\n\u001b[0;32m--> 885\u001b[0m output, _, _ \u001b[39m=\u001b[39m _unique_impl(\u001b[39minput\u001b[39;49m, \u001b[39msorted\u001b[39;49m, return_inverse, return_counts, dim)\n\u001b[1;32m    886\u001b[0m \u001b[39mreturn\u001b[39;00m output\n",
      "File \u001b[0;32m/anaconda/envs/protein_functions_310/lib/python3.10/site-packages/torch/functional.py:799\u001b[0m, in \u001b[0;36m_unique_impl\u001b[0;34m(input, sorted, return_inverse, return_counts, dim)\u001b[0m\n\u001b[1;32m    791\u001b[0m     output, inverse_indices, counts \u001b[39m=\u001b[39m _VF\u001b[39m.\u001b[39munique_dim(\n\u001b[1;32m    792\u001b[0m         \u001b[39minput\u001b[39m,\n\u001b[1;32m    793\u001b[0m         dim,\n\u001b[0;32m   (...)\u001b[0m\n\u001b[1;32m    796\u001b[0m         return_counts\u001b[39m=\u001b[39mreturn_counts,\n\u001b[1;32m    797\u001b[0m     )\n\u001b[1;32m    798\u001b[0m \u001b[39melse\u001b[39;00m:\n\u001b[0;32m--> 799\u001b[0m     output, inverse_indices, counts \u001b[39m=\u001b[39m torch\u001b[39m.\u001b[39;49m_unique2(\n\u001b[1;32m    800\u001b[0m         \u001b[39minput\u001b[39;49m,\n\u001b[1;32m    801\u001b[0m         \u001b[39msorted\u001b[39;49m\u001b[39m=\u001b[39;49m\u001b[39msorted\u001b[39;49m,\n\u001b[1;32m    802\u001b[0m         return_inverse\u001b[39m=\u001b[39;49mreturn_inverse,\n\u001b[1;32m    803\u001b[0m         return_counts\u001b[39m=\u001b[39;49mreturn_counts,\n\u001b[1;32m    804\u001b[0m     )\n\u001b[1;32m    805\u001b[0m \u001b[39mreturn\u001b[39;00m output, inverse_indices, counts\n",
      "\u001b[0;31mOutOfMemoryError\u001b[0m: CUDA out of memory. Tried to allocate 10.60 GiB (GPU 0; 79.10 GiB total capacity; 58.53 GiB already allocated; 8.84 GiB free; 64.37 GiB reserved in total by PyTorch) If reserved memory is >> allocated memory try setting max_split_size_mb to avoid fragmentation.  See documentation for Memory Management and PYTORCH_CUDA_ALLOC_CONF"
     ]
    }
   ],
   "source": [
    "APMicro(torch.tensor(pinf_val_probabilities.values,device='cuda'),\n",
    "        torch.tensor(pinf_val_labels.values,device='cuda'))"
   ]
  },
  {
   "cell_type": "code",
   "execution_count": 24,
   "metadata": {},
   "outputs": [
    {
     "ename": "OutOfMemoryError",
     "evalue": "CUDA out of memory. Tried to allocate 15.96 GiB (GPU 0; 79.10 GiB total capacity; 68.78 GiB already allocated; 3.54 GiB free; 69.67 GiB reserved in total by PyTorch) If reserved memory is >> allocated memory try setting max_split_size_mb to avoid fragmentation.  See documentation for Memory Management and PYTORCH_CUDA_ALLOC_CONF",
     "output_type": "error",
     "traceback": [
      "\u001b[0;31m---------------------------------------------------------------------------\u001b[0m",
      "\u001b[0;31mOutOfMemoryError\u001b[0m                          Traceback (most recent call last)",
      "\u001b[1;32m/home/samirchar/ProteinFunctions/notebooks/EDA.ipynb Cell 52\u001b[0m line \u001b[0;36m1\n\u001b[0;32m----> <a href='vscode-notebook-cell://ssh-remote%2Bbastion_tunnel/home/samirchar/ProteinFunctions/notebooks/EDA.ipynb#Y143sdnNjb2RlLXJlbW90ZQ%3D%3D?line=0'>1</a>\u001b[0m APMicro\u001b[39m.\u001b[39;49mcompute()\n",
      "File \u001b[0;32m/anaconda/envs/protein_functions_310/lib/python3.10/site-packages/torchmetrics/metric.py:607\u001b[0m, in \u001b[0;36mMetric._wrap_compute.<locals>.wrapped_func\u001b[0;34m(*args, **kwargs)\u001b[0m\n\u001b[1;32m    599\u001b[0m \u001b[39m# compute relies on the sync context manager to gather the states across processes and apply reduction\u001b[39;00m\n\u001b[1;32m    600\u001b[0m \u001b[39m# if synchronization happened, the current rank accumulated states will be restored to keep\u001b[39;00m\n\u001b[1;32m    601\u001b[0m \u001b[39m# accumulation going if ``should_unsync=True``,\u001b[39;00m\n\u001b[1;32m    602\u001b[0m \u001b[39mwith\u001b[39;00m \u001b[39mself\u001b[39m\u001b[39m.\u001b[39msync_context(\n\u001b[1;32m    603\u001b[0m     dist_sync_fn\u001b[39m=\u001b[39m\u001b[39mself\u001b[39m\u001b[39m.\u001b[39mdist_sync_fn,\n\u001b[1;32m    604\u001b[0m     should_sync\u001b[39m=\u001b[39m\u001b[39mself\u001b[39m\u001b[39m.\u001b[39m_to_sync,\n\u001b[1;32m    605\u001b[0m     should_unsync\u001b[39m=\u001b[39m\u001b[39mself\u001b[39m\u001b[39m.\u001b[39m_should_unsync,\n\u001b[1;32m    606\u001b[0m ):\n\u001b[0;32m--> 607\u001b[0m     value \u001b[39m=\u001b[39m _squeeze_if_scalar(compute(\u001b[39m*\u001b[39;49margs, \u001b[39m*\u001b[39;49m\u001b[39m*\u001b[39;49mkwargs))\n\u001b[1;32m    609\u001b[0m \u001b[39mif\u001b[39;00m \u001b[39mself\u001b[39m\u001b[39m.\u001b[39mcompute_with_cache:\n\u001b[1;32m    610\u001b[0m     \u001b[39mself\u001b[39m\u001b[39m.\u001b[39m_computed \u001b[39m=\u001b[39m value\n",
      "File \u001b[0;32m/anaconda/envs/protein_functions_310/lib/python3.10/site-packages/torchmetrics/classification/average_precision.py:427\u001b[0m, in \u001b[0;36mMultilabelAveragePrecision.compute\u001b[0;34m(self)\u001b[0m\n\u001b[1;32m    425\u001b[0m \u001b[39m\u001b[39m\u001b[39m\"\"\"Compute metric.\"\"\"\u001b[39;00m\n\u001b[1;32m    426\u001b[0m state \u001b[39m=\u001b[39m (dim_zero_cat(\u001b[39mself\u001b[39m\u001b[39m.\u001b[39mpreds), dim_zero_cat(\u001b[39mself\u001b[39m\u001b[39m.\u001b[39mtarget)) \u001b[39mif\u001b[39;00m \u001b[39mself\u001b[39m\u001b[39m.\u001b[39mthresholds \u001b[39mis\u001b[39;00m \u001b[39mNone\u001b[39;00m \u001b[39melse\u001b[39;00m \u001b[39mself\u001b[39m\u001b[39m.\u001b[39mconfmat\n\u001b[0;32m--> 427\u001b[0m \u001b[39mreturn\u001b[39;00m _multilabel_average_precision_compute(\n\u001b[1;32m    428\u001b[0m     state, \u001b[39mself\u001b[39;49m\u001b[39m.\u001b[39;49mnum_labels, \u001b[39mself\u001b[39;49m\u001b[39m.\u001b[39;49maverage, \u001b[39mself\u001b[39;49m\u001b[39m.\u001b[39;49mthresholds, \u001b[39mself\u001b[39;49m\u001b[39m.\u001b[39;49mignore_index\n\u001b[1;32m    429\u001b[0m )\n",
      "File \u001b[0;32m/anaconda/envs/protein_functions_310/lib/python3.10/site-packages/torchmetrics/functional/classification/average_precision.py:301\u001b[0m, in \u001b[0;36m_multilabel_average_precision_compute\u001b[0;34m(state, num_labels, average, thresholds, ignore_index)\u001b[0m\n\u001b[1;32m    299\u001b[0m             target \u001b[39m=\u001b[39m target[\u001b[39m~\u001b[39midx]\n\u001b[1;32m    300\u001b[0m         state \u001b[39m=\u001b[39m (preds, target)\n\u001b[0;32m--> 301\u001b[0m     \u001b[39mreturn\u001b[39;00m _binary_average_precision_compute(state, thresholds)\n\u001b[1;32m    303\u001b[0m precision, recall, _ \u001b[39m=\u001b[39m _multilabel_precision_recall_curve_compute(state, num_labels, thresholds, ignore_index)\n\u001b[1;32m    304\u001b[0m \u001b[39mreturn\u001b[39;00m _reduce_average_precision(\n\u001b[1;32m    305\u001b[0m     precision,\n\u001b[1;32m    306\u001b[0m     recall,\n\u001b[1;32m    307\u001b[0m     average,\n\u001b[1;32m    308\u001b[0m     weights\u001b[39m=\u001b[39m(state[\u001b[39m1\u001b[39m] \u001b[39m==\u001b[39m \u001b[39m1\u001b[39m)\u001b[39m.\u001b[39msum(dim\u001b[39m=\u001b[39m\u001b[39m0\u001b[39m)\u001b[39m.\u001b[39mfloat() \u001b[39mif\u001b[39;00m thresholds \u001b[39mis\u001b[39;00m \u001b[39mNone\u001b[39;00m \u001b[39melse\u001b[39;00m state[\u001b[39m0\u001b[39m][:, \u001b[39m1\u001b[39m, :]\u001b[39m.\u001b[39msum(\u001b[39m-\u001b[39m\u001b[39m1\u001b[39m),\n\u001b[1;32m    309\u001b[0m )\n",
      "File \u001b[0;32m/anaconda/envs/protein_functions_310/lib/python3.10/site-packages/torchmetrics/functional/classification/average_precision.py:74\u001b[0m, in \u001b[0;36m_binary_average_precision_compute\u001b[0;34m(state, thresholds)\u001b[0m\n\u001b[1;32m     70\u001b[0m \u001b[39mdef\u001b[39;00m \u001b[39m_binary_average_precision_compute\u001b[39m(\n\u001b[1;32m     71\u001b[0m     state: Union[Tensor, Tuple[Tensor, Tensor]],\n\u001b[1;32m     72\u001b[0m     thresholds: Optional[Tensor],\n\u001b[1;32m     73\u001b[0m ) \u001b[39m-\u001b[39m\u001b[39m>\u001b[39m Tensor:\n\u001b[0;32m---> 74\u001b[0m     precision, recall, _ \u001b[39m=\u001b[39m _binary_precision_recall_curve_compute(state, thresholds)\n\u001b[1;32m     75\u001b[0m     \u001b[39mreturn\u001b[39;00m \u001b[39m-\u001b[39mtorch\u001b[39m.\u001b[39msum((recall[\u001b[39m1\u001b[39m:] \u001b[39m-\u001b[39m recall[:\u001b[39m-\u001b[39m\u001b[39m1\u001b[39m]) \u001b[39m*\u001b[39m precision[:\u001b[39m-\u001b[39m\u001b[39m1\u001b[39m])\n",
      "File \u001b[0;32m/anaconda/envs/protein_functions_310/lib/python3.10/site-packages/torchmetrics/functional/classification/precision_recall_curve.py:274\u001b[0m, in \u001b[0;36m_binary_precision_recall_curve_compute\u001b[0;34m(state, thresholds, pos_label)\u001b[0m\n\u001b[1;32m    271\u001b[0m     recall \u001b[39m=\u001b[39m torch\u001b[39m.\u001b[39mcat([recall, torch\u001b[39m.\u001b[39mzeros(\u001b[39m1\u001b[39m, dtype\u001b[39m=\u001b[39mrecall\u001b[39m.\u001b[39mdtype, device\u001b[39m=\u001b[39mrecall\u001b[39m.\u001b[39mdevice)])\n\u001b[1;32m    272\u001b[0m     \u001b[39mreturn\u001b[39;00m precision, recall, thresholds\n\u001b[0;32m--> 274\u001b[0m fps, tps, thresholds \u001b[39m=\u001b[39m _binary_clf_curve(state[\u001b[39m0\u001b[39;49m], state[\u001b[39m1\u001b[39;49m], pos_label\u001b[39m=\u001b[39;49mpos_label)\n\u001b[1;32m    275\u001b[0m precision \u001b[39m=\u001b[39m tps \u001b[39m/\u001b[39m (tps \u001b[39m+\u001b[39m fps)\n\u001b[1;32m    276\u001b[0m recall \u001b[39m=\u001b[39m tps \u001b[39m/\u001b[39m tps[\u001b[39m-\u001b[39m\u001b[39m1\u001b[39m]\n",
      "File \u001b[0;32m/anaconda/envs/protein_functions_310/lib/python3.10/site-packages/torchmetrics/functional/classification/precision_recall_curve.py:58\u001b[0m, in \u001b[0;36m_binary_clf_curve\u001b[0;34m(preds, target, sample_weights, pos_label)\u001b[0m\n\u001b[1;32m     56\u001b[0m \u001b[39mif\u001b[39;00m preds\u001b[39m.\u001b[39mndim \u001b[39m>\u001b[39m target\u001b[39m.\u001b[39mndim:\n\u001b[1;32m     57\u001b[0m     preds \u001b[39m=\u001b[39m preds[:, \u001b[39m0\u001b[39m]\n\u001b[0;32m---> 58\u001b[0m desc_score_indices \u001b[39m=\u001b[39m torch\u001b[39m.\u001b[39;49margsort(preds, descending\u001b[39m=\u001b[39;49m\u001b[39mTrue\u001b[39;49;00m)\n\u001b[1;32m     60\u001b[0m preds \u001b[39m=\u001b[39m preds[desc_score_indices]\n\u001b[1;32m     61\u001b[0m target \u001b[39m=\u001b[39m target[desc_score_indices]\n",
      "\u001b[0;31mOutOfMemoryError\u001b[0m: CUDA out of memory. Tried to allocate 15.96 GiB (GPU 0; 79.10 GiB total capacity; 68.78 GiB already allocated; 3.54 GiB free; 69.67 GiB reserved in total by PyTorch) If reserved memory is >> allocated memory try setting max_split_size_mb to avoid fragmentation.  See documentation for Memory Management and PYTORCH_CUDA_ALLOC_CONF"
     ]
    }
   ],
   "source": [
    "APMicro.compute()"
   ]
  },
  {
   "cell_type": "code",
   "execution_count": null,
   "metadata": {},
   "outputs": [],
   "source": [
    "0.8672,0.8643"
   ]
  },
  {
   "cell_type": "code",
   "execution_count": 27,
   "metadata": {},
   "outputs": [],
   "source": [
    "APMicro.thresholds"
   ]
  },
  {
   "cell_type": "code",
   "execution_count": 37,
   "metadata": {},
   "outputs": [
    {
     "data": {
      "text/plain": [
       "44362"
      ]
     },
     "execution_count": 37,
     "metadata": {},
     "output_type": "execute_result"
    }
   ],
   "source": [
    "len(val_labels)"
   ]
  },
  {
   "cell_type": "code",
   "execution_count": 24,
   "metadata": {},
   "outputs": [
    {
     "data": {
      "text/plain": [
       "(44300, 32102)"
      ]
     },
     "execution_count": 24,
     "metadata": {},
     "output_type": "execute_result"
    }
   ],
   "source": [
    "pinf_val_probabilities.shape"
   ]
  },
  {
   "cell_type": "code",
   "execution_count": null,
   "metadata": {},
   "outputs": [],
   "source": [
    "#0.9556\n"
   ]
  },
  {
   "cell_type": "code",
   "execution_count": 66,
   "metadata": {},
   "outputs": [
    {
     "data": {
      "text/html": [
       "<div>\n",
       "<style scoped>\n",
       "    .dataframe tbody tr th:only-of-type {\n",
       "        vertical-align: middle;\n",
       "    }\n",
       "\n",
       "    .dataframe tbody tr th {\n",
       "        vertical-align: top;\n",
       "    }\n",
       "\n",
       "    .dataframe thead th {\n",
       "        text-align: right;\n",
       "    }\n",
       "</style>\n",
       "<table border=\"1\" class=\"dataframe\">\n",
       "  <thead>\n",
       "    <tr style=\"text-align: right;\">\n",
       "      <th></th>\n",
       "      <th>AUPRC</th>\n",
       "      <th>model</th>\n",
       "      <th>Frequency</th>\n",
       "    </tr>\n",
       "  </thead>\n",
       "  <tbody>\n",
       "    <tr>\n",
       "      <th>GO:0003674</th>\n",
       "      <td>0.994481</td>\n",
       "      <td>Proteinfer</td>\n",
       "      <td>369909.0</td>\n",
       "    </tr>\n",
       "    <tr>\n",
       "      <th>GO:0003674</th>\n",
       "      <td>0.996002</td>\n",
       "      <td>Ours</td>\n",
       "      <td>369909.0</td>\n",
       "    </tr>\n",
       "    <tr>\n",
       "      <th>GO:0008150</th>\n",
       "      <td>0.983664</td>\n",
       "      <td>Proteinfer</td>\n",
       "      <td>346677.0</td>\n",
       "    </tr>\n",
       "    <tr>\n",
       "      <th>GO:0008150</th>\n",
       "      <td>0.987944</td>\n",
       "      <td>Ours</td>\n",
       "      <td>346677.0</td>\n",
       "    </tr>\n",
       "    <tr>\n",
       "      <th>GO:0005575</th>\n",
       "      <td>0.992867</td>\n",
       "      <td>Proteinfer</td>\n",
       "      <td>321980.0</td>\n",
       "    </tr>\n",
       "    <tr>\n",
       "      <th>...</th>\n",
       "      <td>...</td>\n",
       "      <td>...</td>\n",
       "      <td>...</td>\n",
       "    </tr>\n",
       "    <tr>\n",
       "      <th>GO:0080134</th>\n",
       "      <td>0.632321</td>\n",
       "      <td>Proteinfer</td>\n",
       "      <td>5506.0</td>\n",
       "    </tr>\n",
       "    <tr>\n",
       "      <th>GO:0006260</th>\n",
       "      <td>0.895409</td>\n",
       "      <td>Proteinfer</td>\n",
       "      <td>5468.0</td>\n",
       "    </tr>\n",
       "    <tr>\n",
       "      <th>GO:0006260</th>\n",
       "      <td>0.878832</td>\n",
       "      <td>Ours</td>\n",
       "      <td>5468.0</td>\n",
       "    </tr>\n",
       "    <tr>\n",
       "      <th>GO:0034404</th>\n",
       "      <td>0.941156</td>\n",
       "      <td>Ours</td>\n",
       "      <td>5463.0</td>\n",
       "    </tr>\n",
       "    <tr>\n",
       "      <th>GO:0034404</th>\n",
       "      <td>0.959259</td>\n",
       "      <td>Proteinfer</td>\n",
       "      <td>5463.0</td>\n",
       "    </tr>\n",
       "  </tbody>\n",
       "</table>\n",
       "<p>1000 rows × 3 columns</p>\n",
       "</div>"
      ],
      "text/plain": [
       "               AUPRC       model  Frequency\n",
       "GO:0003674  0.994481  Proteinfer   369909.0\n",
       "GO:0003674  0.996002        Ours   369909.0\n",
       "GO:0008150  0.983664  Proteinfer   346677.0\n",
       "GO:0008150  0.987944        Ours   346677.0\n",
       "GO:0005575  0.992867  Proteinfer   321980.0\n",
       "...              ...         ...        ...\n",
       "GO:0080134  0.632321  Proteinfer     5506.0\n",
       "GO:0006260  0.895409  Proteinfer     5468.0\n",
       "GO:0006260  0.878832        Ours     5468.0\n",
       "GO:0034404  0.941156        Ours     5463.0\n",
       "GO:0034404  0.959259  Proteinfer     5463.0\n",
       "\n",
       "[1000 rows x 3 columns]"
      ]
     },
     "execution_count": 66,
     "metadata": {},
     "output_type": "execute_result"
    }
   ],
   "source": [
    "res.sort_values(by='Frequency',ascending=False).head(1000)"
   ]
  },
  {
   "cell_type": "code",
   "execution_count": 35,
   "metadata": {},
   "outputs": [],
   "source": [
    "#Bin frequencies\n",
    "quantiles = 10 #May not find desired number and could be less.\n",
    "freq_bins, freq_bin_edges = pd.qcut(go_term_distribution,q=quantiles,duplicates='drop',precision=0,retbins=True, labels=None)\n",
    "#res['Frequency Bin'] = pd.cut(res['Frequency'],bins=freq_bin_edges,labels=None, include_lowest=True,precision=0)"
   ]
  },
  {
   "cell_type": "code",
   "execution_count": 36,
   "metadata": {},
   "outputs": [],
   "source": [
    "res['Frequency Bin']=res.index.map(freq_bins)"
   ]
  },
  {
   "cell_type": "code",
   "execution_count": 37,
   "metadata": {},
   "outputs": [],
   "source": [
    "res.dropna(subset=[\"AUPRC\"],inplace=True)"
   ]
  },
  {
   "cell_type": "code",
   "execution_count": 38,
   "metadata": {},
   "outputs": [],
   "source": [
    "freq_bins_pct = freq_bins.value_counts()*100/len(go_term_distribution)"
   ]
  },
  {
   "cell_type": "code",
   "execution_count": 39,
   "metadata": {},
   "outputs": [
    {
     "data": {
      "text/plain": [
       "(0.0, 3.0]           23.943886\n",
       "(3.0, 5.0]            8.066316\n",
       "(5.0, 8.0]            8.305436\n",
       "(8.0, 14.0]           9.995218\n",
       "(14.0, 25.0]         10.004782\n",
       "(25.0, 48.0]          9.749721\n",
       "(48.0, 109.0]         9.947394\n",
       "(109.0, 383.0]       10.007971\n",
       "(383.0, 369909.0]     9.979276\n",
       "Name: count, dtype: float64"
      ]
     },
     "execution_count": 39,
     "metadata": {},
     "output_type": "execute_result"
    }
   ],
   "source": [
    "freq_bins_pct.sort_index()"
   ]
  },
  {
   "cell_type": "code",
   "execution_count": 40,
   "metadata": {},
   "outputs": [
    {
     "name": "stdout",
     "output_type": "stream",
     "text": [
      "23.943886497688506\n",
      "8.06631595727722\n",
      "8.305435995536426\n",
      "9.995217599234817\n",
      "10.004782400765183\n",
      "9.749721026622032\n",
      "9.947393591582975\n",
      "10.007970667941974\n",
      "9.979276263350869\n"
     ]
    },
    {
     "name": "stderr",
     "output_type": "stream",
     "text": [
      "/anaconda/envs/protein_functions_310/lib/python3.10/site-packages/seaborn/_oldcore.py:1498: FutureWarning: is_categorical_dtype is deprecated and will be removed in a future version. Use isinstance(dtype, CategoricalDtype) instead\n",
      "  if pd.api.types.is_categorical_dtype(vector):\n",
      "/anaconda/envs/protein_functions_310/lib/python3.10/site-packages/seaborn/categorical.py:641: FutureWarning: The default of observed=False is deprecated and will be changed to True in a future version of pandas. Pass observed=False to retain current behavior or observed=True to adopt the future default and silence this warning.\n",
      "  grouped_vals = vals.groupby(grouper)\n",
      "/anaconda/envs/protein_functions_310/lib/python3.10/site-packages/seaborn/_oldcore.py:1498: FutureWarning: is_categorical_dtype is deprecated and will be removed in a future version. Use isinstance(dtype, CategoricalDtype) instead\n",
      "  if pd.api.types.is_categorical_dtype(vector):\n",
      "/anaconda/envs/protein_functions_310/lib/python3.10/site-packages/seaborn/categorical.py:641: FutureWarning: The default of observed=False is deprecated and will be changed to True in a future version of pandas. Pass observed=False to retain current behavior or observed=True to adopt the future default and silence this warning.\n",
      "  grouped_vals = vals.groupby(grouper)\n"
     ]
    },
    {
     "data": {
      "image/png": "[encoded data removed]",
      "text/plain": [
       "<Figure size 1500x600 with 1 Axes>"
      ]
     },
     "metadata": {},
     "output_type": "display_data"
    }
   ],
   "source": [
    "metric = 'AUPRC'\n",
    "\n",
    "fig, ax = plt.subplots(figsize=(15,6))\n",
    "\n",
    "# Annotate bars with the percentage of observations\n",
    "for index, value in enumerate(freq_bins_pct.sort_index().values):\n",
    "    print(value)\n",
    "    ax.text(index, ax.get_ylim()[1]*0.01 + max(res[metric]) * 0.01, f\"{value:.2f}%\", ha='center')\n",
    "\n",
    "\n",
    "sns.barplot(data = res,\n",
    "            x='Frequency Bin',\n",
    "            y=metric,\n",
    "            alpha=0.8,\n",
    "            errorbar=('ci', 95),\n",
    "            hue='model')\n",
    "ax.set(title=f'Individual label performance ({metric}) by label frequency quantiles',\n",
    "       xlabel='Frequency of GO Function Annotation',\n",
    "       ylabel=metric)\n",
    "sns.despine()\n",
    "plt.ylim(0,1)\n",
    "plt.show()"
   ]
  },
  {
   "cell_type": "code",
   "execution_count": 42,
   "metadata": {},
   "outputs": [
    {
     "data": {
      "text/html": [
       "<div>\n",
       "<style scoped>\n",
       "    .dataframe tbody tr th:only-of-type {\n",
       "        vertical-align: middle;\n",
       "    }\n",
       "\n",
       "    .dataframe tbody tr th {\n",
       "        vertical-align: top;\n",
       "    }\n",
       "\n",
       "    .dataframe thead th {\n",
       "        text-align: right;\n",
       "    }\n",
       "</style>\n",
       "<table border=\"1\" class=\"dataframe\">\n",
       "  <thead>\n",
       "    <tr style=\"text-align: right;\">\n",
       "      <th></th>\n",
       "      <th>AUPRC</th>\n",
       "      <th>model</th>\n",
       "      <th>Frequency</th>\n",
       "      <th>Frequency Bin</th>\n",
       "    </tr>\n",
       "  </thead>\n",
       "  <tbody>\n",
       "    <tr>\n",
       "      <th>GO:0003674</th>\n",
       "      <td>0.996090</td>\n",
       "      <td>Ours</td>\n",
       "      <td>369909.0</td>\n",
       "      <td>(383.0, 369909.0]</td>\n",
       "    </tr>\n",
       "    <tr>\n",
       "      <th>GO:0008150</th>\n",
       "      <td>0.988887</td>\n",
       "      <td>Ours</td>\n",
       "      <td>346677.0</td>\n",
       "      <td>(383.0, 369909.0]</td>\n",
       "    </tr>\n",
       "    <tr>\n",
       "      <th>GO:0005575</th>\n",
       "      <td>0.993006</td>\n",
       "      <td>Ours</td>\n",
       "      <td>321980.0</td>\n",
       "      <td>(383.0, 369909.0]</td>\n",
       "    </tr>\n",
       "    <tr>\n",
       "      <th>GO:0009987</th>\n",
       "      <td>0.983003</td>\n",
       "      <td>Ours</td>\n",
       "      <td>295442.0</td>\n",
       "      <td>(383.0, 369909.0]</td>\n",
       "    </tr>\n",
       "    <tr>\n",
       "      <th>GO:0044464</th>\n",
       "      <td>0.986674</td>\n",
       "      <td>Ours</td>\n",
       "      <td>291432.0</td>\n",
       "      <td>(383.0, 369909.0]</td>\n",
       "    </tr>\n",
       "    <tr>\n",
       "      <th>...</th>\n",
       "      <td>...</td>\n",
       "      <td>...</td>\n",
       "      <td>...</td>\n",
       "      <td>...</td>\n",
       "    </tr>\n",
       "    <tr>\n",
       "      <th>GO:1905067</th>\n",
       "      <td>1.000000</td>\n",
       "      <td>Ours</td>\n",
       "      <td>1.0</td>\n",
       "      <td>(0.0, 3.0]</td>\n",
       "    </tr>\n",
       "    <tr>\n",
       "      <th>GO:1904964</th>\n",
       "      <td>1.000000</td>\n",
       "      <td>Ours</td>\n",
       "      <td>1.0</td>\n",
       "      <td>(0.0, 3.0]</td>\n",
       "    </tr>\n",
       "    <tr>\n",
       "      <th>GO:0086044</th>\n",
       "      <td>1.000000</td>\n",
       "      <td>Ours</td>\n",
       "      <td>1.0</td>\n",
       "      <td>(0.0, 3.0]</td>\n",
       "    </tr>\n",
       "    <tr>\n",
       "      <th>GO:0086054</th>\n",
       "      <td>1.000000</td>\n",
       "      <td>Ours</td>\n",
       "      <td>1.0</td>\n",
       "      <td>(0.0, 3.0]</td>\n",
       "    </tr>\n",
       "    <tr>\n",
       "      <th>GO:1904173</th>\n",
       "      <td>1.000000</td>\n",
       "      <td>Ours</td>\n",
       "      <td>1.0</td>\n",
       "      <td>(0.0, 3.0]</td>\n",
       "    </tr>\n",
       "  </tbody>\n",
       "</table>\n",
       "<p>1608 rows × 4 columns</p>\n",
       "</div>"
      ],
      "text/plain": [
       "               AUPRC model  Frequency      Frequency Bin\n",
       "GO:0003674  0.996090  Ours   369909.0  (383.0, 369909.0]\n",
       "GO:0008150  0.988887  Ours   346677.0  (383.0, 369909.0]\n",
       "GO:0005575  0.993006  Ours   321980.0  (383.0, 369909.0]\n",
       "GO:0009987  0.983003  Ours   295442.0  (383.0, 369909.0]\n",
       "GO:0044464  0.986674  Ours   291432.0  (383.0, 369909.0]\n",
       "...              ...   ...        ...                ...\n",
       "GO:1905067  1.000000  Ours        1.0         (0.0, 3.0]\n",
       "GO:1904964  1.000000  Ours        1.0         (0.0, 3.0]\n",
       "GO:0086044  1.000000  Ours        1.0         (0.0, 3.0]\n",
       "GO:0086054  1.000000  Ours        1.0         (0.0, 3.0]\n",
       "GO:1904173  1.000000  Ours        1.0         (0.0, 3.0]\n",
       "\n",
       "[1608 rows x 4 columns]"
      ]
     },
     "execution_count": 42,
     "metadata": {},
     "output_type": "execute_result"
    }
   ],
   "source": [
    "res_ours = res.loc[res['model']=='Ours']\n",
    "res_pinf = res.loc[res['model']=='Proteinfer']\n",
    "\n",
    "res_ours[res_ours['AUPRC']>=0.9].sort_values(by='Frequency',ascending=False)"
   ]
  },
  {
   "cell_type": "code",
   "execution_count": 43,
   "metadata": {},
   "outputs": [
    {
     "data": {
      "text/plain": [
       "AUPRC           0.966465\n",
       "Frequency    8255.058458\n",
       "dtype: float64"
      ]
     },
     "execution_count": 43,
     "metadata": {},
     "output_type": "execute_result"
    }
   ],
   "source": [
    "res_ours[res_ours['AUPRC']>=0.9][['AUPRC','Frequency']].mean()"
   ]
  },
  {
   "cell_type": "code",
   "execution_count": 44,
   "metadata": {},
   "outputs": [
    {
     "data": {
      "text/html": [
       "<div>\n",
       "<style scoped>\n",
       "    .dataframe tbody tr th:only-of-type {\n",
       "        vertical-align: middle;\n",
       "    }\n",
       "\n",
       "    .dataframe tbody tr th {\n",
       "        vertical-align: top;\n",
       "    }\n",
       "\n",
       "    .dataframe thead th {\n",
       "        text-align: right;\n",
       "    }\n",
       "</style>\n",
       "<table border=\"1\" class=\"dataframe\">\n",
       "  <thead>\n",
       "    <tr style=\"text-align: right;\">\n",
       "      <th></th>\n",
       "      <th>AUPRC</th>\n",
       "      <th>model</th>\n",
       "      <th>Frequency</th>\n",
       "      <th>Frequency Bin</th>\n",
       "    </tr>\n",
       "  </thead>\n",
       "  <tbody>\n",
       "    <tr>\n",
       "      <th>GO:0003674</th>\n",
       "      <td>0.994481</td>\n",
       "      <td>Proteinfer</td>\n",
       "      <td>369909.0</td>\n",
       "      <td>(383.0, 369909.0]</td>\n",
       "    </tr>\n",
       "    <tr>\n",
       "      <th>GO:0008150</th>\n",
       "      <td>0.983664</td>\n",
       "      <td>Proteinfer</td>\n",
       "      <td>346677.0</td>\n",
       "      <td>(383.0, 369909.0]</td>\n",
       "    </tr>\n",
       "    <tr>\n",
       "      <th>GO:0005575</th>\n",
       "      <td>0.992867</td>\n",
       "      <td>Proteinfer</td>\n",
       "      <td>321980.0</td>\n",
       "      <td>(383.0, 369909.0]</td>\n",
       "    </tr>\n",
       "    <tr>\n",
       "      <th>GO:0009987</th>\n",
       "      <td>0.980420</td>\n",
       "      <td>Proteinfer</td>\n",
       "      <td>295442.0</td>\n",
       "      <td>(383.0, 369909.0]</td>\n",
       "    </tr>\n",
       "    <tr>\n",
       "      <th>GO:0044464</th>\n",
       "      <td>0.986555</td>\n",
       "      <td>Proteinfer</td>\n",
       "      <td>291432.0</td>\n",
       "      <td>(383.0, 369909.0]</td>\n",
       "    </tr>\n",
       "    <tr>\n",
       "      <th>...</th>\n",
       "      <td>...</td>\n",
       "      <td>...</td>\n",
       "      <td>...</td>\n",
       "      <td>...</td>\n",
       "    </tr>\n",
       "    <tr>\n",
       "      <th>GO:1904025</th>\n",
       "      <td>1.000000</td>\n",
       "      <td>Proteinfer</td>\n",
       "      <td>1.0</td>\n",
       "      <td>(0.0, 3.0]</td>\n",
       "    </tr>\n",
       "    <tr>\n",
       "      <th>GO:0033841</th>\n",
       "      <td>1.000000</td>\n",
       "      <td>Proteinfer</td>\n",
       "      <td>1.0</td>\n",
       "      <td>(0.0, 3.0]</td>\n",
       "    </tr>\n",
       "    <tr>\n",
       "      <th>GO:0090425</th>\n",
       "      <td>1.000000</td>\n",
       "      <td>Proteinfer</td>\n",
       "      <td>1.0</td>\n",
       "      <td>(0.0, 3.0]</td>\n",
       "    </tr>\n",
       "    <tr>\n",
       "      <th>GO:0021837</th>\n",
       "      <td>1.000000</td>\n",
       "      <td>Proteinfer</td>\n",
       "      <td>1.0</td>\n",
       "      <td>(0.0, 3.0]</td>\n",
       "    </tr>\n",
       "    <tr>\n",
       "      <th>GO:0030251</th>\n",
       "      <td>1.000000</td>\n",
       "      <td>Proteinfer</td>\n",
       "      <td>1.0</td>\n",
       "      <td>(0.0, 3.0]</td>\n",
       "    </tr>\n",
       "  </tbody>\n",
       "</table>\n",
       "<p>7856 rows × 4 columns</p>\n",
       "</div>"
      ],
      "text/plain": [
       "               AUPRC       model  Frequency      Frequency Bin\n",
       "GO:0003674  0.994481  Proteinfer   369909.0  (383.0, 369909.0]\n",
       "GO:0008150  0.983664  Proteinfer   346677.0  (383.0, 369909.0]\n",
       "GO:0005575  0.992867  Proteinfer   321980.0  (383.0, 369909.0]\n",
       "GO:0009987  0.980420  Proteinfer   295442.0  (383.0, 369909.0]\n",
       "GO:0044464  0.986555  Proteinfer   291432.0  (383.0, 369909.0]\n",
       "...              ...         ...        ...                ...\n",
       "GO:1904025  1.000000  Proteinfer        1.0         (0.0, 3.0]\n",
       "GO:0033841  1.000000  Proteinfer        1.0         (0.0, 3.0]\n",
       "GO:0090425  1.000000  Proteinfer        1.0         (0.0, 3.0]\n",
       "GO:0021837  1.000000  Proteinfer        1.0         (0.0, 3.0]\n",
       "GO:0030251  1.000000  Proteinfer        1.0         (0.0, 3.0]\n",
       "\n",
       "[7856 rows x 4 columns]"
      ]
     },
     "execution_count": 44,
     "metadata": {},
     "output_type": "execute_result"
    }
   ],
   "source": [
    "res_pinf[res_pinf['AUPRC']>=0.9].sort_values(by='Frequency',ascending=False)"
   ]
  },
  {
   "cell_type": "code",
   "execution_count": 45,
   "metadata": {},
   "outputs": [
    {
     "data": {
      "text/plain": [
       "AUPRC           0.988498\n",
       "Frequency    1798.803335\n",
       "dtype: float64"
      ]
     },
     "execution_count": 45,
     "metadata": {},
     "output_type": "execute_result"
    }
   ],
   "source": [
    "res_pinf[res_pinf['AUPRC']>=0.9][['AUPRC','Frequency']].mean()"
   ]
  },
  {
   "cell_type": "code",
   "execution_count": 109,
   "metadata": {},
   "outputs": [
    {
     "data": {
      "text/plain": [
       "0.9623318579385053"
      ]
     },
     "execution_count": 109,
     "metadata": {},
     "output_type": "execute_result"
    }
   ],
   "source": [
    "res_pinf.loc[res_ours[res_ours['AUPRC']>=0.8].index]['AUPRC'].mean()"
   ]
  },
  {
   "cell_type": "code",
   "execution_count": 55,
   "metadata": {},
   "outputs": [
    {
     "name": "stderr",
     "output_type": "stream",
     "text": [
      "/anaconda/envs/protein_functions_310/lib/python3.10/site-packages/torchmetrics/utilities/prints.py:43: UserWarning: Average precision score for one or more classes was `nan`. Ignoring these classes in macro-average\n",
      "  warnings.warn(*args, **kwargs)  # noqa: B028\n"
     ]
    }
   ],
   "source": [
    "\n",
    "\n",
    "ground_truth = torch.tensor(val_labels.values)\n",
    "preds = torch.tensor(val_probabilities.values)\n",
    "sp = AveragePrecision(task=\"multilabel\",num_labels=val_labels.shape[-1],average='macro').to('cuda')(preds,ground_truth).item()"
   ]
  },
  {
   "cell_type": "code",
   "execution_count": 56,
   "metadata": {},
   "outputs": [
    {
     "data": {
      "text/plain": [
       "0.3073350787162781"
      ]
     },
     "execution_count": 56,
     "metadata": {},
     "output_type": "execute_result"
    }
   ],
   "source": [
    "ground_truth = torch.tensor(val_labels[items].values)\n",
    "preds = torch.tensor(val_probabilities[items].values)\n",
    "APMicro = AveragePrecision(task=\"multilabel\",num_labels=len(items),average='micro').to('cuda')(preds,ground_truth).item()"
   ]
  },
  {
   "cell_type": "code",
   "execution_count": 37,
   "metadata": {},
   "outputs": [
    {
     "name": "stderr",
     "output_type": "stream",
     "text": [
      "  0%|          | 0/8 [00:00<?, ?it/s]"
     ]
    },
    {
     "name": "stdout",
     "output_type": "stream",
     "text": [
      "(0.0, 2.0]\n"
     ]
    },
    {
     "name": "stderr",
     "output_type": "stream",
     "text": [
      " 12%|█▎        | 1/8 [00:27<03:11, 27.30s/it]"
     ]
    },
    {
     "name": "stdout",
     "output_type": "stream",
     "text": [
      "0.03821170702576637\n",
      "(2.0, 3.0]\n"
     ]
    },
    {
     "name": "stderr",
     "output_type": "stream",
     "text": [
      " 25%|██▌       | 2/8 [00:33<01:28, 14.73s/it]"
     ]
    },
    {
     "name": "stdout",
     "output_type": "stream",
     "text": [
      "0.08802614361047745\n",
      "(3.0, 4.0]\n"
     ]
    },
    {
     "name": "stderr",
     "output_type": "stream",
     "text": [
      " 38%|███▊      | 3/8 [00:37<00:50, 10.01s/it]"
     ]
    },
    {
     "name": "stdout",
     "output_type": "stream",
     "text": [
      "0.1348007619380951\n",
      "(4.0, 7.0]\n"
     ]
    },
    {
     "name": "stderr",
     "output_type": "stream",
     "text": [
      " 50%|█████     | 4/8 [00:45<00:36,  9.04s/it]"
     ]
    },
    {
     "name": "stdout",
     "output_type": "stream",
     "text": [
      "0.18367116153240204\n",
      "(7.0, 12.0]\n"
     ]
    },
    {
     "name": "stderr",
     "output_type": "stream",
     "text": [
      " 62%|██████▎   | 5/8 [00:51<00:24,  8.19s/it]"
     ]
    },
    {
     "name": "stdout",
     "output_type": "stream",
     "text": [
      "0.26992666721343994\n",
      "(12.0, 25.0]\n"
     ]
    },
    {
     "name": "stderr",
     "output_type": "stream",
     "text": [
      " 75%|███████▌  | 6/8 [00:58<00:15,  7.82s/it]"
     ]
    },
    {
     "name": "stdout",
     "output_type": "stream",
     "text": [
      "0.3848440647125244\n",
      "(25.0, 75.0]\n"
     ]
    },
    {
     "name": "stderr",
     "output_type": "stream",
     "text": [
      " 88%|████████▊ | 7/8 [01:06<00:07,  7.70s/it]"
     ]
    },
    {
     "name": "stdout",
     "output_type": "stream",
     "text": [
      "0.57602459192276\n",
      "(75.0, 39034.0]\n"
     ]
    },
    {
     "name": "stderr",
     "output_type": "stream",
     "text": [
      "100%|██████████| 8/8 [01:14<00:00,  9.29s/it]"
     ]
    },
    {
     "name": "stdout",
     "output_type": "stream",
     "text": [
      "0.9135285019874573\n"
     ]
    },
    {
     "name": "stderr",
     "output_type": "stream",
     "text": [
      "\n"
     ]
    }
   ],
   "source": [
    "from torchmetrics.classification import AveragePrecision,Specificity\n",
    "import torch\n",
    "from tqdm import tqdm\n",
    "\n",
    "total = 0\n",
    "avg = 0\n",
    "for group,items in tqdm(gb.groups.items()):\n",
    "    print(group)\n",
    "    ground_truth = torch.tensor(val_labels[items].values)\n",
    "    preds = torch.tensor(val_probabilities[items].values)\n",
    "    APMicro = AveragePrecision(task=\"multilabel\",num_labels=len(items),average='micro').to('cuda')(preds,ground_truth).item()\n",
    "    print(APMicro)\n",
    "    w = res.loc[items].iloc[0][\"Frequency Bin Percentage Of Data\"]\n",
    "    total +="
   ]
  },
  {
   "cell_type": "code",
   "execution_count": null,
   "metadata": {},
   "outputs": [],
   "source": []
  },
  {
   "cell_type": "code",
   "execution_count": null,
   "metadata": {},
   "outputs": [],
   "source": []
  }
 ],
 "metadata": {
  "kernelspec": {
   "display_name": "protein_functions",
   "language": "python",
   "name": "python3"
  },
  "language_info": {
   "codemirror_mode": {
    "name": "ipython",
    "version": 3
   },
   "file_extension": ".py",
   "mimetype": "text/x-python",
   "name": "python",
   "nbconvert_exporter": "python",
   "pygments_lexer": "ipython3",
   "version": "3.10.13"
  },
  "orig_nbformat": 4
 },
 "nbformat": 4,
 "nbformat_minor": 2
}
