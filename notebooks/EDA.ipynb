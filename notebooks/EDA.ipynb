{
 "cells": [
  {
   "cell_type": "code",
   "execution_count": 1,
   "metadata": {},
   "outputs": [],
   "source": [
    "import os\n",
    "from pathlib import Path\n",
    "import sys\n",
    "curdir = Path(os.getcwd())\n",
    "sys.path.append(str(curdir.parent.absolute()))\n",
    "from collections import Counter\n",
    "import pandas as pd\n",
    "from src.utils.data import read_fasta\n",
    "from src.utils.evaluation import metrics_per_label_df\n",
    "from torchmetrics.classification import AveragePrecision\n",
    "import matplotlib.pyplot as plt\n",
    "import seaborn as sns\n",
    "import torch\n",
    "from src.utils.losses import FocalLoss\n",
    "from src.utils.evaluation import EvalMetrics\n",
    "import re\n",
    "import obonet\n",
    "from src.utils.data import get_ec_class_descriptions,ec_number_to_code,read_json\n",
    "ec_class_descriptions = get_ec_class_descriptions('../data/annotations/enzclass.txt')\n",
    "\n",
    "graph = obonet.read_obo('../data/annotations/go_may_2024.obo')\n",
    "parenthood_2019 = read_json('../data/vocabularies/parenthood_2019.json')"
   ]
  },
  {
   "cell_type": "code",
   "execution_count": 2,
   "metadata": {},
   "outputs": [],
   "source": [
    "train = read_fasta('../data/swissprot/proteinfer_splits/random/train_GO.fasta')\n",
    "val = read_fasta('../data/swissprot/proteinfer_splits/random/dev_GO.fasta')\n",
    "test = read_fasta('../data/swissprot/proteinfer_splits/random/test_GO.fasta')\n",
    "zero_shot = read_fasta('../data/zero_shot/GO_swissprot_may_2024.fasta')\n",
    "zero_shot_ln = read_fasta('../data/zero_shot/GO_swissprot_leaf_nodes_may_2024.fasta')"
   ]
  },
  {
   "cell_type": "code",
   "execution_count": 3,
   "metadata": {},
   "outputs": [],
   "source": [
    "for dataset in ['train','val','test','zero_shot','zero_shot_ln']:\n",
    "    exec(f'{dataset} = [(seq,id,\" \".join(labels),\"{dataset}\") for seq,id,labels in {dataset}]')\n",
    "\n",
    "df = train + val + test + zero_shot + zero_shot_ln"
   ]
  },
  {
   "cell_type": "code",
   "execution_count": 4,
   "metadata": {},
   "outputs": [],
   "source": [
    "df = pd.DataFrame(df,columns=['sequence','id','labels','split'])\n",
    "df_zero_shot = pd.DataFrame(zero_shot,columns=['id','sequence','labels','split'])"
   ]
  },
  {
   "cell_type": "code",
   "execution_count": 5,
   "metadata": {},
   "outputs": [
    {
     "name": "stdout",
     "output_type": "stream",
     "text": [
      "number of sequences: 589117\n"
     ]
    }
   ],
   "source": [
    "num_sequences = len(df)\n",
    "print('number of sequences:',num_sequences)"
   ]
  },
  {
   "cell_type": "code",
   "execution_count": 6,
   "metadata": {},
   "outputs": [
    {
     "data": {
      "text/plain": [
       "count    589117.000000\n",
       "mean         42.537068\n",
       "std          39.032551\n",
       "min           1.000000\n",
       "25%          17.000000\n",
       "50%          39.000000\n",
       "75%          56.000000\n",
       "max        1008.000000\n",
       "Name: num_pos, dtype: float64"
      ]
     },
     "execution_count": 6,
     "metadata": {},
     "output_type": "execute_result"
    }
   ],
   "source": [
    "df['num_pos'] = df['labels'].str.split(' ').str.len()\n",
    "df['num_pos'].describe()"
   ]
  },
  {
   "cell_type": "code",
   "execution_count": 7,
   "metadata": {},
   "outputs": [
    {
     "data": {
      "text/plain": [
       "count    589117.000000\n",
       "mean         42.537068\n",
       "std          39.032551\n",
       "min           1.000000\n",
       "25%          17.000000\n",
       "50%          39.000000\n",
       "75%          56.000000\n",
       "max        1008.000000\n",
       "Name: labels, dtype: float64"
      ]
     },
     "execution_count": 7,
     "metadata": {},
     "output_type": "execute_result"
    }
   ],
   "source": [
    "df['labels'].str.split(' ').apply(len).describe()"
   ]
  },
  {
   "cell_type": "code",
   "execution_count": 8,
   "metadata": {},
   "outputs": [],
   "source": [
    "labels = Counter()\n",
    "\n",
    "vocab = set()\n",
    "amino_freq = Counter()\n",
    "for idx,row in df[df['split']=='train'].iterrows():\n",
    "    sequence = row['sequence']\n",
    "    row_labels = row['labels']\n",
    "    aa_list = list(sequence)\n",
    "    if row_labels =='':\n",
    "        print(row['id'],row['labels'])\n",
    "    vocab.update(aa_list)\n",
    "    amino_freq.update(aa_list)\n",
    "    labels.update(row_labels.split(\" \"))"
   ]
  },
  {
   "cell_type": "code",
   "execution_count": 9,
   "metadata": {},
   "outputs": [
    {
     "name": "stdout",
     "output_type": "stream",
     "text": [
      "# GO Terms: 31365\n"
     ]
    }
   ],
   "source": [
    "print('# GO Terms:',len(labels.keys()))"
   ]
  },
  {
   "cell_type": "code",
   "execution_count": 10,
   "metadata": {},
   "outputs": [
    {
     "name": "stdout",
     "output_type": "stream",
     "text": [
      "GO Terms distribution\n"
     ]
    },
    {
     "data": {
      "text/plain": [
       "count     31365.000000\n",
       "mean        635.987821\n",
       "std        7372.964658\n",
       "min           1.000000\n",
       "25%           4.000000\n",
       "50%          14.000000\n",
       "75%          70.000000\n",
       "max      369909.000000\n",
       "dtype: float64"
      ]
     },
     "execution_count": 10,
     "metadata": {},
     "output_type": "execute_result"
    }
   ],
   "source": [
    "print('GO Terms distribution')\n",
    "go_term_distribution = pd.Series(labels.values(),index=labels.keys()).sort_values(ascending=False)\n",
    "go_term_distribution.describe()"
   ]
  },
  {
   "cell_type": "code",
   "execution_count": 11,
   "metadata": {},
   "outputs": [
    {
     "data": {
      "text/plain": [
       "GO:0003674    369909\n",
       "GO:0008150    346677\n",
       "GO:0005575    321980\n",
       "GO:0009987    295442\n",
       "GO:0044464    291432\n",
       "               ...  \n",
       "GO:1903890         1\n",
       "GO:0102632         1\n",
       "GO:0010059         1\n",
       "GO:0072616         1\n",
       "GO:0030787         1\n",
       "Length: 31365, dtype: int64"
      ]
     },
     "execution_count": 11,
     "metadata": {},
     "output_type": "execute_result"
    }
   ],
   "source": [
    "go_term_distribution[go_term_distribution>0]"
   ]
  },
  {
   "cell_type": "code",
   "execution_count": 12,
   "metadata": {},
   "outputs": [
    {
     "name": "stdout",
     "output_type": "stream",
     "text": [
      "Sequence length distribution\n"
     ]
    },
    {
     "data": {
      "text/plain": [
       "count    589117.000000\n",
       "mean        370.042233\n",
       "std         345.004835\n",
       "min           2.000000\n",
       "25%         178.000000\n",
       "50%         303.000000\n",
       "75%         458.000000\n",
       "max       35213.000000\n",
       "Name: sequence, dtype: float64"
      ]
     },
     "execution_count": 12,
     "metadata": {},
     "output_type": "execute_result"
    }
   ],
   "source": [
    "print('Sequence length distribution')\n",
    "\n",
    "df['sequence'].apply(len).describe()"
   ]
  },
  {
   "cell_type": "code",
   "execution_count": 13,
   "metadata": {},
   "outputs": [
    {
     "data": {
      "text/plain": [
       "1534.0"
      ]
     },
     "execution_count": 13,
     "metadata": {},
     "output_type": "execute_result"
    }
   ],
   "source": [
    "df['sequence'].apply(len).quantile(.99)"
   ]
  },
  {
   "cell_type": "code",
   "execution_count": 14,
   "metadata": {},
   "outputs": [
    {
     "data": {
      "text/plain": [
       "22026"
      ]
     },
     "execution_count": 14,
     "metadata": {},
     "output_type": "execute_result"
    }
   ],
   "source": [
    "len(set([j for i in df.query('split==\"test\"')['labels'] for j in i.split(' ')]))"
   ]
  },
  {
   "cell_type": "markdown",
   "metadata": {},
   "source": [
    "# Zero Shot Performance"
   ]
  },
  {
   "cell_type": "code",
   "execution_count": 133,
   "metadata": {},
   "outputs": [],
   "source": [
    "from torcheval.metrics import MultilabelAUPRC, BinaryAUPRC, BinaryBinnedAUPRC, MultilabelBinnedAUPRC\n",
    "\n",
    "def get_metrics(logits_df,labels_df,device,threshold):\n",
    "\n",
    "    logits = torch.tensor(logits_df.values,device=device)\n",
    "    labels = torch.tensor(labels_df.values,device=device)\n",
    "    probabilities = torch.sigmoid(logits)\n",
    "\n",
    "    eval_metrics = EvalMetrics(device)\n",
    "    selected_eval_metrics=eval_metrics.get_metric_collection_with_regex(pattern=\"f1_m.*\",\n",
    "                                                                    threshold=threshold,\n",
    "                                                            num_labels=labels.shape[-1])\n",
    "    mAP_micro = BinaryAUPRC(device=device)\n",
    "    mAP_macro = MultilabelAUPRC(device=device,\n",
    "                                num_labels=labels.shape[-1])\n",
    "    \n",
    "    selected_eval_metrics(probabilities, labels)\n",
    "    mAP_micro.update(probabilities.flatten(), labels.flatten())\n",
    "    mAP_macro.update(probabilities, labels)\n",
    "\n",
    "    metrics = {'mAP Macro':mAP_macro.compute(),'mAP Micro':mAP_micro.compute(),**selected_eval_metrics.compute()}\n",
    "    return {k:v.item() for k,v in metrics.items()}\n",
    "\n",
    "def get_namespace_from_parenthood(go_term,parenthood):\n",
    "    go_term_to_namespace = {'GO:0008150':'biological_process',\n",
    "                            'GO:0003674':'molecular_function',\n",
    "                            'GO:0005575':'celular_component'}\n",
    "    for parent in parenthood[go_term]:\n",
    "        if parent in go_term_to_namespace:\n",
    "            namespace = go_term_to_namespace[parent]\n",
    "            break\n",
    "    return namespace\n",
    "#TODO: Remove if else part\n",
    "def filter_by_go_namespace(namespace:str,df:pd.DataFrame,graph = None, parenthood= None):\n",
    "\n",
    "    assert (graph is not None) ^ (parenthood is not None)\n",
    "\n",
    "    if graph is not None:\n",
    "        col_mask = [(graph.nodes[go_term][\"namespace\"] if  go_term in graph.nodes else 'missing') for go_term in df.columns]\n",
    "    if parenthood is not None:\n",
    "        col_mask = [get_namespace_from_parenthood(go_term,parenthood) for go_term in df.columns]\n",
    "    \n",
    "    assert namespace in ['All','biological_process', 'cellular_component', 'molecular_function']\n",
    "    if namespace=='All':\n",
    "        return df\n",
    "    filtered_df = df.iloc[:,[namespace==i for i in col_mask]]\n",
    "    return filtered_df\n",
    "\n",
    "def filter_by_ec_level_1(namespace:str,df:pd.DataFrame,ec_class_descriptions:dict):\n",
    "    ec_number_to_ec_level_1 = lambda ec_number: (ec_number_to_code(ec_number)[0],0,0)\n",
    "    col_mask = [ec_class_descriptions[ec_number_to_ec_level_1(ec_number)]['label'] for ec_number in df.columns]\n",
    "    if namespace=='All':\n",
    "        return df\n",
    "    filtered_df = df.iloc[:,[i==namespace for i in col_mask]]\n",
    "    return filtered_df\n",
    "\n",
    "def metrics_by_go_namespace(df_logits,df_labels,graph,device,threshold):\n",
    "    results = {}\n",
    "    for namespace in ['All','biological_process', 'cellular_component', 'molecular_function']:\n",
    "        filtered_df_logits = filter_by_go_namespace(namespace,df_logits,graph)\n",
    "        filtered_df_labels = filter_by_go_namespace(namespace,df_labels,graph)\n",
    "        results[namespace] = get_metrics(filtered_df_logits,filtered_df_labels,device=device,threshold=threshold)\n",
    "    return results\n",
    "\n",
    "def metrics_by_ec_level_1(df_logits,df_labels,ec_class_descriptions,device,threshold):\n",
    "    results = {}\n",
    "    ec_level_1s = [ec_class_descriptions[(i,0,0)]['label'] for i in range(1,8)]\n",
    "    for ec_level_1 in ['All'] + ec_level_1s:\n",
    "        filtered_df_logits = filter_by_ec_level_1(namespace=ec_level_1,df=df_logits,ec_class_descriptions=ec_class_descriptions)\n",
    "        filtered_df_labels = filter_by_ec_level_1(namespace=ec_level_1,df=df_labels,ec_class_descriptions=ec_class_descriptions)\n",
    "        results[ec_level_1] = get_metrics(filtered_df_logits,filtered_df_labels,device=device,threshold=threshold)\n",
    "    return results\n",
    "\n",
    "def save_fig(name):\n",
    "    plt.savefig(f'{name}.png', format='png', dpi=1200,bbox_inches='tight')\n",
    "\n",
    "\n",
    "def plot_axes_add_letter_index(axes,loc = (0.1, 0.9)):\n",
    "  letters = 'abcdefghijklmnopqrstuvwxyz'\n",
    "  for i, ax in enumerate(axes.flat):\n",
    "      ax.text(*loc, f'{letters[i]})', transform=ax.transAxes, fontsize=12, fontweight='bold')\n",
    "\n",
    "def plot_category_performance(metrics_df:pd.DataFrame,\n",
    "                              test_name:str,\n",
    "                              metric:str,\n",
    "                              category_name:str,\n",
    "                              ylim:tuple=(0,0.5),\n",
    "                              rotate_x_ticks:bool = False,\n",
    "                              pltshow = True,\n",
    "                              savefig = True,\n",
    "                              name:str = None,\n",
    "                              ax = None):\n",
    "    \n",
    "    plot_df = metrics_df.query(\"metric == @metric and test_name == @test_name\").melt(ignore_index=False,\n",
    "                                                                        var_name=[category_name],\n",
    "                                                                        value_name=metric)\\\n",
    "                                                                        .reset_index()\n",
    "    \n",
    "\n",
    "    sns.barplot(data = plot_df,\n",
    "                x=category_name,\n",
    "                y=metric,\n",
    "                alpha=0.8,\n",
    "                hue='model',\n",
    "                ax=ax)\n",
    "    sns.despine()\n",
    "    plt.ylim(*ylim)\n",
    "    plt.title(f'{metric} - {test_name}')\n",
    "    if rotate_x_ticks:\n",
    "        plt.xticks(rotation=30)\n",
    "    if savefig:\n",
    "        assert name is not None, \"Must add a name if saving the figure\"\n",
    "        save_fig(name)\n",
    "    if pltshow:\n",
    "        plt.show()"
   ]
  },
  {
   "cell_type": "code",
   "execution_count": 45,
   "metadata": {},
   "outputs": [],
   "source": [
    "model_checkpoint = 'normal_test_label_aug_v4'\n",
    "zero_shot_labels = {'TEST_DATA_PATH_ZERO_SHOT_LEAF_NODES':('Leaf Nodes',pd.read_parquet(f'../outputs/results/test_1_labels_TEST_DATA_PATH_ZERO_SHOT_LEAF_NODES_{model_checkpoint}.parquet')),\n",
    "                    'TEST_DATA_PATH_ZERO_SHOT':('Leaf Nodes + Inferred',pd.read_parquet(f'../outputs/results/test_1_labels_TEST_DATA_PATH_ZERO_SHOT_{model_checkpoint}.parquet')),\n",
    "                    'TEST_EC_DATA_PATH_ZERO_SHOT':('EC Zero Shot',pd.read_parquet(f'../outputs/results/test_1_labels_TEST_EC_DATA_PATH_ZERO_SHOT_{model_checkpoint}.parquet'))\n",
    "                    }\n",
    "\n",
    "zero_shot_predictions = {'Ours':{'TEST_DATA_PATH_ZERO_SHOT':pd.read_parquet(f\"../outputs/results/test_1_logits_TEST_DATA_PATH_ZERO_SHOT_{model_checkpoint}.parquet\"),\n",
    "                                 'TEST_DATA_PATH_ZERO_SHOT_LEAF_NODES':pd.read_parquet(f\"../outputs/results/test_1_logits_TEST_DATA_PATH_ZERO_SHOT_LEAF_NODES_{model_checkpoint}.parquet\"),\n",
    "                                  'TEST_EC_DATA_PATH_ZERO_SHOT':pd.read_parquet(f\"../outputs/results/test_1_logits_TEST_EC_DATA_PATH_ZERO_SHOT_{model_checkpoint}.parquet\")\n",
    "                                 },\n",
    "                          'baseline_e5':{'TEST_DATA_PATH_ZERO_SHOT':pd.read_parquet(\"../outputs/results/test_logits_GO_TEST_DATA_PATH_ZERO_SHOT_E5_baseline.parquet\"),\n",
    "                                        'TEST_DATA_PATH_ZERO_SHOT_LEAF_NODES':pd.read_parquet(\"../outputs/results/test_logits_GO_TEST_DATA_PATH_ZERO_SHOT_LEAF_NODES_E5_baseline.parquet\"),\n",
    "                                        'TEST_EC_DATA_PATH_ZERO_SHOT':pd.read_parquet(\"../outputs/results/test_logits_EC_TEST_EC_DATA_PATH_ZERO_SHOT_E5_baseline.parquet\")\n",
    "                                 },\n",
    "                           'baseline_biogpt':{'TEST_DATA_PATH_ZERO_SHOT':pd.read_parquet(\"../outputs/results/test_logits_GO_TEST_DATA_PATH_ZERO_SHOT_BioGPT_baseline.parquet\"),\n",
    "                                          'TEST_DATA_PATH_ZERO_SHOT_LEAF_NODES':pd.read_parquet(\"../outputs/results/test_logits_GO_TEST_DATA_PATH_ZERO_SHOT_LEAF_NODES_BioGPT_baseline.parquet\"),\n",
    "                                          'TEST_EC_DATA_PATH_ZERO_SHOT':pd.read_parquet(\"../outputs/results/test_logits_EC_TEST_EC_DATA_PATH_ZERO_SHOT_BioGPT_baseline.parquet\")\n",
    "                     }\n",
    "                        }\n",
    "\n",
    "namespace2alias = {'molecular_function':'MF','biological_process':'BP','cellular_component':'CC','All':'All'}"
   ]
  },
  {
   "cell_type": "code",
   "execution_count": 125,
   "metadata": {},
   "outputs": [],
   "source": [
    "\n",
    "test_sets = ['TEST_DATA_PATH_ZERO_SHOT', 'TEST_DATA_PATH_ZERO_SHOT_LEAF_NODES']\n",
    "model = 'Ours'\n",
    "metrics = ['mAP Macro','mAP Micro']\n",
    "category_name = 'Namespace'\n",
    "threshold = 0.3\n",
    "final_metrics_df = []\n",
    "device = 'cuda'\n",
    "for model in zero_shot_predictions.keys():\n",
    "    for test_set in test_sets:\n",
    "        labels_df = zero_shot_labels[test_set][-1]\n",
    "        test_name = zero_shot_labels[test_set][0]\n",
    "        logits_df = zero_shot_predictions[model][test_set]\n",
    "        metrics_df = metrics_by_go_namespace(df_logits=logits_df,\n",
    "                            df_labels=labels_df,\n",
    "                            graph=graph,\n",
    "                            device=device,\n",
    "                            threshold=threshold)\n",
    "\n",
    "        metrics_df = pd.DataFrame(metrics_df)\n",
    "        metrics_df['model'] = model\n",
    "        metrics_df['test_name'] = test_name\n",
    "        metrics_df.index.name = 'metric'\n",
    "        metrics_df = metrics_df.set_index(['model','test_name'],append=True)\n",
    "\n",
    "        final_metrics_df.append(metrics_df)\n",
    "final_metrics_df  = pd.concat(final_metrics_df)\n",
    "final_metrics_df.columns = final_metrics_df.columns.map(namespace2alias)\n",
    "\n"
   ]
  },
  {
   "cell_type": "code",
   "execution_count": 126,
   "metadata": {},
   "outputs": [
    {
     "data": {
      "image/png": "[encoded data removed]",
      "text/plain": [
       "<Figure size 1287.83x800 with 4 Axes>"
      ]
     },
     "metadata": {},
     "output_type": "display_data"
    }
   ],
   "source": [
    "\n",
    "        \n",
    "g = sns.FacetGrid(data = final_metrics_df\\\n",
    "                    .melt(ignore_index=False,var_name=category_name,value_name='Score')\\\n",
    "                    .reset_index()\\\n",
    "                    .query('metric in [\"mAP Macro\",\"mAP Micro\"]'),\n",
    "                  row='test_name',\n",
    "                  col='metric',\n",
    "                  despine=True,\n",
    "                  ylim=(0,0.5),\n",
    "                  margin_titles=True,\n",
    "                  height=4,\n",
    "                  aspect=1.1,\n",
    "                  row_order=['Leaf Nodes','Leaf Nodes + Inferred'])\n",
    "g.set_titles(col_template=\"{col_name}\", row_template=\"{row_name}\")\n",
    "g.figure.suptitle('Zero-shot performance on novel GO terms')\n",
    "g.map_dataframe(sns.barplot,\n",
    "                hue = 'model',\n",
    "                x=category_name,\n",
    "                y='Score',\n",
    "                alpha=0.8,\n",
    "                palette = \"tab10\" )\n",
    "g.add_legend(title='Model', bbox_to_anchor=(0.5, 0), loc='upper center', ncol=3)\n",
    "plt.tight_layout()\n",
    "plot_axes_add_letter_index(g.axes)\n",
    "\n",
    "# plt.ylim(*ylim)\n",
    "# plt.title(f'{metric} - {test_name}')\n",
    "save_fig(name = 'GO Zero Shot Perf')"
   ]
  },
  {
   "cell_type": "markdown",
   "metadata": {},
   "source": [
    "### EC Predictions"
   ]
  },
  {
   "cell_type": "code",
   "execution_count": 112,
   "metadata": {},
   "outputs": [],
   "source": [
    "\n",
    "test_sets = ['TEST_EC_DATA_PATH_ZERO_SHOT']\n",
    "metrics = ['mAP Macro','mAP Micro']\n",
    "final_metrics_df = []\n",
    "threshold = 0.3\n",
    "category_name = 'Top-level EC Class'\n",
    "device = 'cuda'\n",
    "for model in zero_shot_predictions.keys():\n",
    "    for test_set in test_sets:\n",
    "        if test_set not in zero_shot_predictions[model]:\n",
    "            continue\n",
    "        labels_df = zero_shot_labels[test_set][-1]\n",
    "        test_name = zero_shot_labels[test_set][0]\n",
    "        logits_df = zero_shot_predictions[model][test_set]\n",
    "        metrics_df = metrics_by_ec_level_1(df_logits=logits_df,\n",
    "                                        df_labels=labels_df,\n",
    "                                        ec_class_descriptions=ec_class_descriptions,\n",
    "                                        device=device,\n",
    "                                        threshold=threshold)\n",
    "\n",
    "        metrics_df = pd.DataFrame(metrics_df)\n",
    "        metrics_df['model'] = model\n",
    "        metrics_df['test_name'] = test_name\n",
    "        metrics_df.index.name = 'metric'\n",
    "        metrics_df = metrics_df.set_index(['model','test_name'],append=True)\n",
    "        final_metrics_df.append(metrics_df)\n",
    "final_metrics_df  = pd.concat(final_metrics_df)        "
   ]
  },
  {
   "cell_type": "code",
   "execution_count": 113,
   "metadata": {},
   "outputs": [
    {
     "data": {
      "text/html": [
       "<div>\n",
       "<style scoped>\n",
       "    .dataframe tbody tr th:only-of-type {\n",
       "        vertical-align: middle;\n",
       "    }\n",
       "\n",
       "    .dataframe tbody tr th {\n",
       "        vertical-align: top;\n",
       "    }\n",
       "\n",
       "    .dataframe thead th {\n",
       "        text-align: right;\n",
       "    }\n",
       "</style>\n",
       "<table border=\"1\" class=\"dataframe\">\n",
       "  <thead>\n",
       "    <tr style=\"text-align: right;\">\n",
       "      <th></th>\n",
       "      <th></th>\n",
       "      <th></th>\n",
       "      <th>All</th>\n",
       "      <th>Oxidoreductases</th>\n",
       "      <th>Transferases</th>\n",
       "      <th>Hydrolases</th>\n",
       "      <th>Lyases</th>\n",
       "      <th>Isomerases</th>\n",
       "      <th>Ligases</th>\n",
       "      <th>Translocases</th>\n",
       "    </tr>\n",
       "    <tr>\n",
       "      <th>metric</th>\n",
       "      <th>model</th>\n",
       "      <th>test_name</th>\n",
       "      <th></th>\n",
       "      <th></th>\n",
       "      <th></th>\n",
       "      <th></th>\n",
       "      <th></th>\n",
       "      <th></th>\n",
       "      <th></th>\n",
       "      <th></th>\n",
       "    </tr>\n",
       "  </thead>\n",
       "  <tbody>\n",
       "    <tr>\n",
       "      <th>mAP Macro</th>\n",
       "      <th>Ours</th>\n",
       "      <th>EC Zero Shot</th>\n",
       "      <td>0.316324</td>\n",
       "      <td>0.342085</td>\n",
       "      <td>0.327945</td>\n",
       "      <td>0.240866</td>\n",
       "      <td>0.352817</td>\n",
       "      <td>0.312986</td>\n",
       "      <td>0.464293</td>\n",
       "      <td>0.089782</td>\n",
       "    </tr>\n",
       "    <tr>\n",
       "      <th>mAP Micro</th>\n",
       "      <th>Ours</th>\n",
       "      <th>EC Zero Shot</th>\n",
       "      <td>0.334424</td>\n",
       "      <td>0.412995</td>\n",
       "      <td>0.480064</td>\n",
       "      <td>0.222778</td>\n",
       "      <td>0.334032</td>\n",
       "      <td>0.242575</td>\n",
       "      <td>0.731301</td>\n",
       "      <td>0.017089</td>\n",
       "    </tr>\n",
       "    <tr>\n",
       "      <th>f1_macro</th>\n",
       "      <th>Ours</th>\n",
       "      <th>EC Zero Shot</th>\n",
       "      <td>0.225131</td>\n",
       "      <td>0.239668</td>\n",
       "      <td>0.233755</td>\n",
       "      <td>0.168591</td>\n",
       "      <td>0.247513</td>\n",
       "      <td>0.213251</td>\n",
       "      <td>0.377570</td>\n",
       "      <td>0.060625</td>\n",
       "    </tr>\n",
       "    <tr>\n",
       "      <th>f1_micro</th>\n",
       "      <th>Ours</th>\n",
       "      <th>EC Zero Shot</th>\n",
       "      <td>0.393092</td>\n",
       "      <td>0.440103</td>\n",
       "      <td>0.494963</td>\n",
       "      <td>0.291719</td>\n",
       "      <td>0.314876</td>\n",
       "      <td>0.273974</td>\n",
       "      <td>0.659123</td>\n",
       "      <td>0.063950</td>\n",
       "    </tr>\n",
       "    <tr>\n",
       "      <th>mAP Macro</th>\n",
       "      <th>baseline_e5</th>\n",
       "      <th>EC Zero Shot</th>\n",
       "      <td>0.204130</td>\n",
       "      <td>0.287348</td>\n",
       "      <td>0.174880</td>\n",
       "      <td>0.149119</td>\n",
       "      <td>0.224590</td>\n",
       "      <td>0.158948</td>\n",
       "      <td>0.279226</td>\n",
       "      <td>0.050675</td>\n",
       "    </tr>\n",
       "    <tr>\n",
       "      <th>mAP Micro</th>\n",
       "      <th>baseline_e5</th>\n",
       "      <th>EC Zero Shot</th>\n",
       "      <td>0.109722</td>\n",
       "      <td>0.182386</td>\n",
       "      <td>0.136585</td>\n",
       "      <td>0.060382</td>\n",
       "      <td>0.138583</td>\n",
       "      <td>0.114372</td>\n",
       "      <td>0.280060</td>\n",
       "      <td>0.003226</td>\n",
       "    </tr>\n",
       "    <tr>\n",
       "      <th>f1_macro</th>\n",
       "      <th>baseline_e5</th>\n",
       "      <th>EC Zero Shot</th>\n",
       "      <td>0.180249</td>\n",
       "      <td>0.256232</td>\n",
       "      <td>0.147169</td>\n",
       "      <td>0.128599</td>\n",
       "      <td>0.209800</td>\n",
       "      <td>0.149158</td>\n",
       "      <td>0.266883</td>\n",
       "      <td>0.023965</td>\n",
       "    </tr>\n",
       "    <tr>\n",
       "      <th>f1_micro</th>\n",
       "      <th>baseline_e5</th>\n",
       "      <th>EC Zero Shot</th>\n",
       "      <td>0.238988</td>\n",
       "      <td>0.363704</td>\n",
       "      <td>0.280438</td>\n",
       "      <td>0.141554</td>\n",
       "      <td>0.282716</td>\n",
       "      <td>0.255572</td>\n",
       "      <td>0.461272</td>\n",
       "      <td>0.001213</td>\n",
       "    </tr>\n",
       "    <tr>\n",
       "      <th>mAP Macro</th>\n",
       "      <th>baseline_biogpt</th>\n",
       "      <th>EC Zero Shot</th>\n",
       "      <td>0.095702</td>\n",
       "      <td>0.125832</td>\n",
       "      <td>0.084227</td>\n",
       "      <td>0.070026</td>\n",
       "      <td>0.070872</td>\n",
       "      <td>0.147614</td>\n",
       "      <td>0.138900</td>\n",
       "      <td>0.033287</td>\n",
       "    </tr>\n",
       "    <tr>\n",
       "      <th>mAP Micro</th>\n",
       "      <th>baseline_biogpt</th>\n",
       "      <th>EC Zero Shot</th>\n",
       "      <td>0.071268</td>\n",
       "      <td>0.069524</td>\n",
       "      <td>0.072059</td>\n",
       "      <td>0.040355</td>\n",
       "      <td>0.007726</td>\n",
       "      <td>0.121215</td>\n",
       "      <td>0.420674</td>\n",
       "      <td>0.031728</td>\n",
       "    </tr>\n",
       "    <tr>\n",
       "      <th>f1_macro</th>\n",
       "      <th>baseline_biogpt</th>\n",
       "      <th>EC Zero Shot</th>\n",
       "      <td>0.084050</td>\n",
       "      <td>0.117686</td>\n",
       "      <td>0.071797</td>\n",
       "      <td>0.056353</td>\n",
       "      <td>0.061085</td>\n",
       "      <td>0.129036</td>\n",
       "      <td>0.124740</td>\n",
       "      <td>0.030878</td>\n",
       "    </tr>\n",
       "    <tr>\n",
       "      <th>f1_micro</th>\n",
       "      <th>baseline_biogpt</th>\n",
       "      <th>EC Zero Shot</th>\n",
       "      <td>0.242257</td>\n",
       "      <td>0.243798</td>\n",
       "      <td>0.244408</td>\n",
       "      <td>0.166478</td>\n",
       "      <td>0.065124</td>\n",
       "      <td>0.321502</td>\n",
       "      <td>0.622303</td>\n",
       "      <td>0.150561</td>\n",
       "    </tr>\n",
       "  </tbody>\n",
       "</table>\n",
       "</div>"
      ],
      "text/plain": [
       "                                             All  Oxidoreductases  \\\n",
       "metric    model           test_name                                 \n",
       "mAP Macro Ours            EC Zero Shot  0.316324         0.342085   \n",
       "mAP Micro Ours            EC Zero Shot  0.334424         0.412995   \n",
       "f1_macro  Ours            EC Zero Shot  0.225131         0.239668   \n",
       "f1_micro  Ours            EC Zero Shot  0.393092         0.440103   \n",
       "mAP Macro baseline_e5     EC Zero Shot  0.204130         0.287348   \n",
       "mAP Micro baseline_e5     EC Zero Shot  0.109722         0.182386   \n",
       "f1_macro  baseline_e5     EC Zero Shot  0.180249         0.256232   \n",
       "f1_micro  baseline_e5     EC Zero Shot  0.238988         0.363704   \n",
       "mAP Macro baseline_biogpt EC Zero Shot  0.095702         0.125832   \n",
       "mAP Micro baseline_biogpt EC Zero Shot  0.071268         0.069524   \n",
       "f1_macro  baseline_biogpt EC Zero Shot  0.084050         0.117686   \n",
       "f1_micro  baseline_biogpt EC Zero Shot  0.242257         0.243798   \n",
       "\n",
       "                                        Transferases  Hydrolases    Lyases  \\\n",
       "metric    model           test_name                                          \n",
       "mAP Macro Ours            EC Zero Shot      0.327945    0.240866  0.352817   \n",
       "mAP Micro Ours            EC Zero Shot      0.480064    0.222778  0.334032   \n",
       "f1_macro  Ours            EC Zero Shot      0.233755    0.168591  0.247513   \n",
       "f1_micro  Ours            EC Zero Shot      0.494963    0.291719  0.314876   \n",
       "mAP Macro baseline_e5     EC Zero Shot      0.174880    0.149119  0.224590   \n",
       "mAP Micro baseline_e5     EC Zero Shot      0.136585    0.060382  0.138583   \n",
       "f1_macro  baseline_e5     EC Zero Shot      0.147169    0.128599  0.209800   \n",
       "f1_micro  baseline_e5     EC Zero Shot      0.280438    0.141554  0.282716   \n",
       "mAP Macro baseline_biogpt EC Zero Shot      0.084227    0.070026  0.070872   \n",
       "mAP Micro baseline_biogpt EC Zero Shot      0.072059    0.040355  0.007726   \n",
       "f1_macro  baseline_biogpt EC Zero Shot      0.071797    0.056353  0.061085   \n",
       "f1_micro  baseline_biogpt EC Zero Shot      0.244408    0.166478  0.065124   \n",
       "\n",
       "                                        Isomerases   Ligases  Translocases  \n",
       "metric    model           test_name                                         \n",
       "mAP Macro Ours            EC Zero Shot    0.312986  0.464293      0.089782  \n",
       "mAP Micro Ours            EC Zero Shot    0.242575  0.731301      0.017089  \n",
       "f1_macro  Ours            EC Zero Shot    0.213251  0.377570      0.060625  \n",
       "f1_micro  Ours            EC Zero Shot    0.273974  0.659123      0.063950  \n",
       "mAP Macro baseline_e5     EC Zero Shot    0.158948  0.279226      0.050675  \n",
       "mAP Micro baseline_e5     EC Zero Shot    0.114372  0.280060      0.003226  \n",
       "f1_macro  baseline_e5     EC Zero Shot    0.149158  0.266883      0.023965  \n",
       "f1_micro  baseline_e5     EC Zero Shot    0.255572  0.461272      0.001213  \n",
       "mAP Macro baseline_biogpt EC Zero Shot    0.147614  0.138900      0.033287  \n",
       "mAP Micro baseline_biogpt EC Zero Shot    0.121215  0.420674      0.031728  \n",
       "f1_macro  baseline_biogpt EC Zero Shot    0.129036  0.124740      0.030878  \n",
       "f1_micro  baseline_biogpt EC Zero Shot    0.321502  0.622303      0.150561  "
      ]
     },
     "execution_count": 113,
     "metadata": {},
     "output_type": "execute_result"
    }
   ],
   "source": [
    "final_metrics_df"
   ]
  },
  {
   "cell_type": "code",
   "execution_count": 123,
   "metadata": {},
   "outputs": [
    {
     "name": "stderr",
     "output_type": "stream",
     "text": [
      "/tmp/ipykernel_3434363/580301220.py:21: UserWarning: set_ticklabels() should only be used with a fixed number of ticks, i.e. after set_ticks() or using a FixedLocator.\n",
      "  _ = axes.set_xticklabels(axes.get_xticklabels(), rotation=60)\n",
      "/tmp/ipykernel_3434363/580301220.py:21: UserWarning: set_ticklabels() should only be used with a fixed number of ticks, i.e. after set_ticks() or using a FixedLocator.\n",
      "  _ = axes.set_xticklabels(axes.get_xticklabels(), rotation=60)\n"
     ]
    },
    {
     "data": {
      "image/png": "[encoded data removed]",
      "text/plain": [
       "<Figure size 1127.83x400 with 2 Axes>"
      ]
     },
     "metadata": {},
     "output_type": "display_data"
    }
   ],
   "source": [
    "\n",
    "g = sns.FacetGrid(data = final_metrics_df\\\n",
    "                    .melt(ignore_index=False,var_name=category_name,value_name='Score')\\\n",
    "                    .reset_index()\\\n",
    "                    .query('metric in [\"mAP Macro\",\"mAP Micro\"]'),\n",
    "                  col='metric',\n",
    "                  despine=True,\n",
    "                  ylim=(0,1),\n",
    "                  margin_titles=True,\n",
    "                  height=4,\n",
    "                  aspect=1.1,\n",
    "                  legend_out=True)\n",
    "g.figure.suptitle('Zero-shot performance on EC Numbers')\n",
    "g.set_titles(col_template=\"{col_name}\", row_template=\"{row_name}\")\n",
    "g.map_dataframe(sns.barplot,\n",
    "                hue = 'model',\n",
    "                x=category_name,\n",
    "                y='Score',\n",
    "                alpha=0.8,\n",
    "                palette = \"tab10\" )\n",
    "for axes in g.axes.flat:\n",
    "    _ = axes.set_xticklabels(axes.get_xticklabels(), rotation=60)\n",
    "plot_axes_add_letter_index(g.axes)\n",
    "\n",
    "g.add_legend(title='Model', bbox_to_anchor=(0.5, 0), loc='upper center', ncol=3)\n",
    "plt.tight_layout()\n",
    "\n",
    "# plt.ylim(*ylim)\n",
    "# plt.title(f'{metric} - {test_name}')\n",
    "save_fig(name = 'EC Zero Shot Perf')\n"
   ]
  },
  {
   "cell_type": "markdown",
   "metadata": {},
   "source": [
    "# Explore Supervised Model Predictions"
   ]
  },
  {
   "cell_type": "code",
   "execution_count": 127,
   "metadata": {},
   "outputs": [],
   "source": [
    "#Read Val Datas\n",
    "\n",
    "models = {'Ours':{'logits_df':pd.read_parquet(f\"../outputs/results/test_1_logits_TEST_DATA_PATH_{model_checkpoint}.parquet\"),\n",
    "                  'labels_df':pd.read_parquet(f\"../outputs/results/test_1_labels_TEST_DATA_PATH_{model_checkpoint}.parquet\")},\n",
    "                  \n",
    "          'Proteinfer':{'logits_df':pd.read_parquet(\"../outputs/results/test_logits_GO_TEST_DATA_PATH_proteinfer.parquet\"),\n",
    "                        'labels_df':pd.read_parquet(\"../outputs/results/test_labels_GO_TEST_DATA_PATH_proteinfer.parquet\")}}\n",
    "\n",
    "label_descriptions = pd.read_pickle('../data/annotations/go_annotations_may_2024.pkl')\n",
    "label_descriptions['label'] = label_descriptions['label'].str.lower().str.rstrip()\n",
    "\n"
   ]
  },
  {
   "cell_type": "code",
   "execution_count": 128,
   "metadata": {},
   "outputs": [],
   "source": [
    "non_zero_cols = list(models['Ours']['logits_df'].columns)\n",
    "\n",
    "models['Proteinfer']['logits_df'] = models['Proteinfer']['logits_df'][non_zero_cols]\n",
    "models['Proteinfer']['labels_df'] = models['Proteinfer']['labels_df'][non_zero_cols]\n"
   ]
  },
  {
   "cell_type": "code",
   "execution_count": 129,
   "metadata": {},
   "outputs": [],
   "source": [
    "#Define threshold to calculate threshold-dependent metrics otherwise only threshold-agnostic metrics are calculated\n",
    "def _get_metrics_by_label_and_freq(logits_df,\n",
    "                                   labels_df,\n",
    "                                   train_go_term_distribution,\n",
    "                                   quantiles,\n",
    "                                   threshold,device\n",
    "                                   ):\n",
    "    \n",
    "    res = metrics_per_label_df(logits_df,labels_df,device=device,threshold=threshold)\n",
    "    res[\"Frequency\"] = res.index.map(train_go_term_distribution)\n",
    "    \n",
    "    #Bin frequencies\n",
    "    freq_bins, freq_bin_edges = pd.qcut(train_go_term_distribution,q=quantiles,duplicates='drop',precision=0,retbins=True, labels=None)\n",
    "    \n",
    "    res['Frequency Bin']=res.index.map(freq_bins)    \n",
    "    # res['Frequency Edges']=res.index.map(freq_bin_edges)    \n",
    "    return res,freq_bins, freq_bin_edges\n",
    "\n",
    "\n",
    "\n",
    "def get_metrics_by_label_and_freq(models,train_go_term_distribution,quantiles,threshold,device):\n",
    "    res_dfs = []\n",
    "    for model,data in models.items():\n",
    "        print(model)\n",
    "        logits_df = data['logits_df']\n",
    "        labels_df = data['labels_df']\n",
    "\n",
    "        res, freq_bins, freq_bin_edges = _get_metrics_by_label_and_freq(logits_df=logits_df,\n",
    "                                             labels_df=labels_df,\n",
    "                                             train_go_term_distribution=train_go_term_distribution,\n",
    "                                             quantiles=quantiles,\n",
    "                                             threshold=threshold,\n",
    "                                             device=device)\n",
    "\n",
    "        #Combine both dataframes\n",
    "        res['model'] = model\n",
    "        res_dfs.append(res)\n",
    "\n",
    "    res_df=pd.concat(res_dfs,axis=0)\n",
    "\n",
    "    # res_pivot = res_df.pivot(columns=['model'],values=[metric,'Frequency'])\n",
    "    # res_pivot.columns = [i[0]+'_'+i[1] for i in res_pivot.columns]\n",
    "\n",
    "    return res_df,freq_bins, freq_bin_edges\n",
    "\n",
    "\n",
    "def plot_metric_by_label_freq(models,train_go_term_distribution,metric,quantiles,threshold,device):\n",
    "    res_df,freq_bins, freq_bin_edges = get_metrics_by_label_and_freq(models=models,\n",
    "                                                                     train_go_term_distribution = train_go_term_distribution,\n",
    "                                                                     quantiles = quantiles,\n",
    "                                                                     threshold = threshold,\n",
    "                                                                     device = device)\n",
    "    res_df.dropna(subset=[metric],inplace=True)\n",
    "    freq_bins_pct = freq_bins.value_counts()*100/len(train_go_term_distribution)\n",
    "    fig, ax = plt.subplots(figsize=(15,6))\n",
    "\n",
    "    # Annotate bars with the percentage of observations\n",
    "    for index, value in enumerate(freq_bins_pct.sort_index().values):\n",
    "        ax.text(index, ax.get_ylim()[1]*0.01 + max(res_df[metric]) * 0.01, f\"{value:.2f}%\", ha='center')\n",
    "\n",
    "    sns.barplot(data = res_df.reset_index(drop=True),\n",
    "                x='Frequency Bin',\n",
    "                y=metric,\n",
    "                alpha=0.8,\n",
    "                errorbar=('ci', 95),\n",
    "                hue='model')\n",
    "    ax.set(title=f'Individual label performance ({metric}) by label frequency quantiles',\n",
    "        xlabel='Frequency of GO Function Annotation',\n",
    "        ylabel=metric)\n",
    "    sns.despine()\n",
    "    plt.ylim(0,1)\n",
    "    plt.show()\n",
    "\n"
   ]
  },
  {
   "cell_type": "code",
   "execution_count": 22,
   "metadata": {},
   "outputs": [],
   "source": [
    "# import numpy as np\n",
    "# #TODO: REMOVE THIS\n",
    "# l = np.random.choice(list(go_term_distribution.index),size=615)\n",
    "# for model,data in models.items():a\n",
    "#     data['logits_df'].columns = l\n",
    "#     data['labels_df'].columns= l"
   ]
  },
  {
   "cell_type": "code",
   "execution_count": 23,
   "metadata": {},
   "outputs": [
    {
     "name": "stdout",
     "output_type": "stream",
     "text": [
      "Ours\n"
     ]
    },
    {
     "name": "stderr",
     "output_type": "stream",
     "text": [
      "100%|██████████| 21898/21898 [00:33<00:00, 658.75it/s]\n"
     ]
    },
    {
     "name": "stdout",
     "output_type": "stream",
     "text": [
      "Proteinfer\n"
     ]
    },
    {
     "name": "stderr",
     "output_type": "stream",
     "text": [
      "100%|██████████| 21898/21898 [00:31<00:00, 690.98it/s]\n"
     ]
    },
    {
     "data": {
      "image/png": "[encoded data removed]",
      "text/plain": [
       "<Figure size 1500x600 with 1 Axes>"
      ]
     },
     "metadata": {},
     "output_type": "display_data"
    }
   ],
   "source": [
    "threshold = None\n",
    "metric = 'AUPRC'\n",
    "quantiles = 10 #May not find desired number and could be less.\n",
    "device = 'cuda'\n",
    "plot_metric_by_label_freq(models=models,\n",
    "                          train_go_term_distribution = go_term_distribution,\n",
    "                          metric = metric,\n",
    "                          quantiles = quantiles,\n",
    "                          threshold = threshold,\n",
    "                          device = device)"
   ]
  },
  {
   "cell_type": "code",
   "execution_count": 130,
   "metadata": {},
   "outputs": [],
   "source": [
    "\n",
    "test_set = 'TEST_DATA_PATH'\n",
    "test_name = 'GO 2019 Supervised'\n",
    "model = 'Ours'\n",
    "graph = obonet.read_obo('../data/annotations/go_2019.obo')\n",
    "threshold = 0.5\n",
    "metrics_df = []\n",
    "device = 'cpu'\n",
    "for model in models.keys():\n",
    "    labels_df = models[model]['labels_df']\n",
    "    logits_df = models[model]['logits_df']\n",
    "    metrics = metrics_by_go_namespace(logits_df,\n",
    "                        labels_df,\n",
    "                        graph,\n",
    "                        device,\n",
    "                        threshold)\n",
    "\n",
    "    metrics = pd.DataFrame(metrics)\n",
    "    metrics['model'] = model\n",
    "    metrics['test_name'] = test_name\n",
    "    metrics.index.name = 'metric'\n",
    "    metrics = metrics.set_index(['model','test_name'],append=True)\n",
    "    metrics_df.append(metrics)\n",
    "\n",
    "metrics_df  = pd.concat(metrics_df)\n",
    "metrics_df.columns = metrics_df.columns.map(namespace2alias)\n"
   ]
  },
  {
   "cell_type": "code",
   "execution_count": 131,
   "metadata": {},
   "outputs": [
    {
     "data": {
      "text/html": [
       "<div>\n",
       "<style scoped>\n",
       "    .dataframe tbody tr th:only-of-type {\n",
       "        vertical-align: middle;\n",
       "    }\n",
       "\n",
       "    .dataframe tbody tr th {\n",
       "        vertical-align: top;\n",
       "    }\n",
       "\n",
       "    .dataframe thead th {\n",
       "        text-align: right;\n",
       "    }\n",
       "</style>\n",
       "<table border=\"1\" class=\"dataframe\">\n",
       "  <thead>\n",
       "    <tr style=\"text-align: right;\">\n",
       "      <th></th>\n",
       "      <th></th>\n",
       "      <th></th>\n",
       "      <th>All</th>\n",
       "      <th>BP</th>\n",
       "      <th>CC</th>\n",
       "      <th>MF</th>\n",
       "    </tr>\n",
       "    <tr>\n",
       "      <th>metric</th>\n",
       "      <th>model</th>\n",
       "      <th>test_name</th>\n",
       "      <th></th>\n",
       "      <th></th>\n",
       "      <th></th>\n",
       "      <th></th>\n",
       "    </tr>\n",
       "  </thead>\n",
       "  <tbody>\n",
       "    <tr>\n",
       "      <th>mAP Macro</th>\n",
       "      <th>Ours</th>\n",
       "      <th>GO 2019 Supervised</th>\n",
       "      <td>0.603867</td>\n",
       "      <td>0.570202</td>\n",
       "      <td>0.590251</td>\n",
       "      <td>0.710757</td>\n",
       "    </tr>\n",
       "    <tr>\n",
       "      <th>mAP Micro</th>\n",
       "      <th>Ours</th>\n",
       "      <th>GO 2019 Supervised</th>\n",
       "      <td>0.905727</td>\n",
       "      <td>0.881301</td>\n",
       "      <td>0.895789</td>\n",
       "      <td>0.966446</td>\n",
       "    </tr>\n",
       "    <tr>\n",
       "      <th>f1_macro</th>\n",
       "      <th>Ours</th>\n",
       "      <th>GO 2019 Supervised</th>\n",
       "      <td>0.552694</td>\n",
       "      <td>0.537515</td>\n",
       "      <td>0.524909</td>\n",
       "      <td>0.609947</td>\n",
       "    </tr>\n",
       "    <tr>\n",
       "      <th>f1_micro</th>\n",
       "      <th>Ours</th>\n",
       "      <th>GO 2019 Supervised</th>\n",
       "      <td>0.870409</td>\n",
       "      <td>0.847983</td>\n",
       "      <td>0.847051</td>\n",
       "      <td>0.932255</td>\n",
       "    </tr>\n",
       "    <tr>\n",
       "      <th>mAP Macro</th>\n",
       "      <th>Proteinfer</th>\n",
       "      <th>GO 2019 Supervised</th>\n",
       "      <td>0.641640</td>\n",
       "      <td>0.587830</td>\n",
       "      <td>0.634503</td>\n",
       "      <td>0.806247</td>\n",
       "    </tr>\n",
       "    <tr>\n",
       "      <th>mAP Micro</th>\n",
       "      <th>Proteinfer</th>\n",
       "      <th>GO 2019 Supervised</th>\n",
       "      <td>0.902662</td>\n",
       "      <td>0.873093</td>\n",
       "      <td>0.892940</td>\n",
       "      <td>0.964218</td>\n",
       "    </tr>\n",
       "    <tr>\n",
       "      <th>f1_macro</th>\n",
       "      <th>Proteinfer</th>\n",
       "      <th>GO 2019 Supervised</th>\n",
       "      <td>0.565426</td>\n",
       "      <td>0.517953</td>\n",
       "      <td>0.546077</td>\n",
       "      <td>0.715926</td>\n",
       "    </tr>\n",
       "    <tr>\n",
       "      <th>f1_micro</th>\n",
       "      <th>Proteinfer</th>\n",
       "      <th>GO 2019 Supervised</th>\n",
       "      <td>0.866260</td>\n",
       "      <td>0.839545</td>\n",
       "      <td>0.843709</td>\n",
       "      <td>0.936346</td>\n",
       "    </tr>\n",
       "  </tbody>\n",
       "</table>\n",
       "</div>"
      ],
      "text/plain": [
       "                                              All        BP        CC  \\\n",
       "metric    model      test_name                                          \n",
       "mAP Macro Ours       GO 2019 Supervised  0.603867  0.570202  0.590251   \n",
       "mAP Micro Ours       GO 2019 Supervised  0.905727  0.881301  0.895789   \n",
       "f1_macro  Ours       GO 2019 Supervised  0.552694  0.537515  0.524909   \n",
       "f1_micro  Ours       GO 2019 Supervised  0.870409  0.847983  0.847051   \n",
       "mAP Macro Proteinfer GO 2019 Supervised  0.641640  0.587830  0.634503   \n",
       "mAP Micro Proteinfer GO 2019 Supervised  0.902662  0.873093  0.892940   \n",
       "f1_macro  Proteinfer GO 2019 Supervised  0.565426  0.517953  0.546077   \n",
       "f1_micro  Proteinfer GO 2019 Supervised  0.866260  0.839545  0.843709   \n",
       "\n",
       "                                               MF  \n",
       "metric    model      test_name                     \n",
       "mAP Macro Ours       GO 2019 Supervised  0.710757  \n",
       "mAP Micro Ours       GO 2019 Supervised  0.966446  \n",
       "f1_macro  Ours       GO 2019 Supervised  0.609947  \n",
       "f1_micro  Ours       GO 2019 Supervised  0.932255  \n",
       "mAP Macro Proteinfer GO 2019 Supervised  0.806247  \n",
       "mAP Micro Proteinfer GO 2019 Supervised  0.964218  \n",
       "f1_macro  Proteinfer GO 2019 Supervised  0.715926  \n",
       "f1_micro  Proteinfer GO 2019 Supervised  0.936346  "
      ]
     },
     "execution_count": 131,
     "metadata": {},
     "output_type": "execute_result"
    }
   ],
   "source": [
    "metrics_df"
   ]
  },
  {
   "cell_type": "code",
   "execution_count": 140,
   "metadata": {},
   "outputs": [
    {
     "name": "stderr",
     "output_type": "stream",
     "text": [
      "/tmp/ipykernel_3434363/2250095399.py:22: UserWarning: set_ticklabels() should only be used with a fixed number of ticks, i.e. after set_ticks() or using a FixedLocator.\n",
      "  _ = axes.set_xticklabels(axes.get_xticklabels())\n",
      "/tmp/ipykernel_3434363/2250095399.py:22: UserWarning: set_ticklabels() should only be used with a fixed number of ticks, i.e. after set_ticks() or using a FixedLocator.\n",
      "  _ = axes.set_xticklabels(axes.get_xticklabels())\n"
     ]
    },
    {
     "data": {
      "image/png": "[encoded data removed]",
      "text/plain": [
       "<Figure size 1097.17x400 with 2 Axes>"
      ]
     },
     "metadata": {},
     "output_type": "display_data"
    }
   ],
   "source": [
    "category_name = 'Namespace'\n",
    "g = sns.FacetGrid(data = metrics_df\\\n",
    "                    .melt(ignore_index=False,var_name=category_name,value_name='Score')\\\n",
    "                    .reset_index()\\\n",
    "                    .query('metric in [\"mAP Macro\",\"mAP Micro\"]'),\n",
    "                  col='metric',\n",
    "                  despine=True,\n",
    "                  ylim=(0,1),\n",
    "                  margin_titles=True,\n",
    "                  height=4,\n",
    "                  aspect=1.1,\n",
    "                  legend_out=True)\n",
    "g.figure.suptitle('Supervised performance on GO annotations')\n",
    "g.set_titles(col_template=\"{col_name}\", row_template=\"{row_name}\")\n",
    "g.map_dataframe(sns.barplot,\n",
    "                hue = 'model',\n",
    "                x=category_name,\n",
    "                y='Score',\n",
    "                alpha=0.8,\n",
    "                palette = \"tab10\" )\n",
    "for axes in g.axes.flat:\n",
    "    _ = axes.set_xticklabels(axes.get_xticklabels())\n",
    "plot_axes_add_letter_index(g.axes,loc=(-0.05,1.1))\n",
    "\n",
    "g.add_legend(title='Model', bbox_to_anchor=(0.5, 0), loc='upper center', ncol=3)\n",
    "plt.tight_layout()\n",
    "\n",
    "# plt.ylim(*ylim)\n",
    "# plt.title(f'{metric} - {test_name}')\n",
    "save_fig(name = 'GO Supervised Perf')\n"
   ]
  },
  {
   "cell_type": "code",
   "execution_count": 31,
   "metadata": {},
   "outputs": [
    {
     "data": {
      "image/png": "[encoded data removed]",
      "text/plain": [
       "<Figure size 640x480 with 1 Axes>"
      ]
     },
     "metadata": {},
     "output_type": "display_data"
    },
    {
     "data": {
      "image/png": "[encoded data removed]",
      "text/plain": [
       "<Figure size 640x480 with 1 Axes>"
      ]
     },
     "metadata": {},
     "output_type": "display_data"
    }
   ],
   "source": [
    "for metric in ['mAP Macro','mAP Micro']:\n",
    "    plot_category_performance(metrics_df = metrics_df,\n",
    "                            test_name=test_name,\n",
    "                            metric = metric,\n",
    "                            category_name = 'Namespace',\n",
    "                            ylim=(0,1.15),\n",
    "                            # figsize=(8,8)\n",
    "                            )"
   ]
  },
  {
   "cell_type": "code",
   "execution_count": 29,
   "metadata": {},
   "outputs": [],
   "source": [
    "cooc = models['Proteinfer']['labels_df'].values.T@models['Proteinfer']['labels_df'].values"
   ]
  },
  {
   "cell_type": "code",
   "execution_count": null,
   "metadata": {},
   "outputs": [
    {
     "data": {
      "text/plain": [
       "<matplotlib.legend.Legend at 0x7ff412ae3d30>"
      ]
     },
     "execution_count": 23,
     "metadata": {},
     "output_type": "execute_result"
    },
    {
     "data": {
      "image/png": "[encoded data removed]",
      "text/plain": [
       "<Figure size 640x480 with 1 Axes>"
      ]
     },
     "metadata": {},
     "output_type": "display_data"
    }
   ],
   "source": [
    "val_probabilities.mean(axis=1).plot(label='Ours')\n",
    "pinf_val_probabilities.mean(axis=1).plot(label='Proteinfer',alpha=0.5,linestyle='--')\n",
    "plt.legend()"
   ]
  },
  {
   "cell_type": "code",
   "execution_count": null,
   "metadata": {},
   "outputs": [
    {
     "data": {
      "text/plain": [
       "<matplotlib.legend.Legend at 0x7ff412ae3ca0>"
      ]
     },
     "execution_count": 24,
     "metadata": {},
     "output_type": "execute_result"
    },
    {
     "data": {
      "image/png": "[encoded data removed]",
      "text/plain": [
       "<Figure size 640x480 with 1 Axes>"
      ]
     },
     "metadata": {},
     "output_type": "display_data"
    }
   ],
   "source": [
    "val_probabilities.mean(axis=0).plot(label='Ours')\n",
    "pinf_val_probabilities.mean(axis=0).plot(label='Proteinfer',alpha=0.5,linestyle='--')\n",
    "plt.legend()"
   ]
  },
  {
   "cell_type": "code",
   "execution_count": null,
   "metadata": {},
   "outputs": [
    {
     "data": {
      "text/plain": [
       "0    0.995114\n",
       "dtype: float64"
      ]
     },
     "execution_count": 25,
     "metadata": {},
     "output_type": "execute_result"
    }
   ],
   "source": [
    "pd.DataFrame(val_probabilities.mean(axis=0)).corrwith(pd.DataFrame(pinf_val_probabilities.mean(axis=0)),axis=0)"
   ]
  },
  {
   "cell_type": "code",
   "execution_count": null,
   "metadata": {},
   "outputs": [],
   "source": [
    "sequence_dist_corr = pinf_val_probabilities.corrwith(val_probabilities,axis=1)\n",
    "label_dist_corr = pinf_val_probabilities.corrwith(val_probabilities,axis=0)"
   ]
  },
  {
   "cell_type": "code",
   "execution_count": null,
   "metadata": {},
   "outputs": [
    {
     "data": {
      "text/plain": [
       "<Axes: >"
      ]
     },
     "execution_count": 27,
     "metadata": {},
     "output_type": "execute_result"
    },
    {
     "data": {
      "image/png": "[encoded data removed]",
      "text/plain": [
       "<Figure size 640x480 with 1 Axes>"
      ]
     },
     "metadata": {},
     "output_type": "display_data"
    }
   ],
   "source": [
    "sequence_dist_corr.hist(bins=100)"
   ]
  },
  {
   "cell_type": "code",
   "execution_count": null,
   "metadata": {},
   "outputs": [
    {
     "data": {
      "text/plain": [
       "<Axes: >"
      ]
     },
     "execution_count": 28,
     "metadata": {},
     "output_type": "execute_result"
    },
    {
     "data": {
      "image/png": "[encoded data removed]",
      "text/plain": [
       "<Figure size 640x480 with 1 Axes>"
      ]
     },
     "metadata": {},
     "output_type": "display_data"
    }
   ],
   "source": [
    "label_dist_corr.hist(bins=100)"
   ]
  },
  {
   "cell_type": "markdown",
   "metadata": {},
   "source": [
    "Compare losses"
   ]
  },
  {
   "cell_type": "code",
   "execution_count": null,
   "metadata": {},
   "outputs": [
    {
     "name": "stdout",
     "output_type": "stream",
     "text": [
      "Focal Loss with alpha: -1, gamma: 2, reduction: none, label_smoothing: 0.0\n"
     ]
    }
   ],
   "source": [
    "bce_probs = torch.nn.BCELoss(reduction='none')\n",
    "bce = torch.nn.BCEWithLogitsLoss(reduction='none')\n",
    "fl = FocalLoss(alpha=-1,gamma=2,reduction='none')\n"
   ]
  },
  {
   "cell_type": "code",
   "execution_count": null,
   "metadata": {},
   "outputs": [
    {
     "data": {
      "text/plain": [
       "(tensor(0.0036), tensor(0.0020))"
      ]
     },
     "execution_count": 31,
     "metadata": {},
     "output_type": "execute_result"
    }
   ],
   "source": [
    "#BCE Loss\n",
    "ours_val_bce_losses = bce(torch.tensor(val_logits.values), torch.tensor(val_labels.values).float())\n",
    "pinf_val_bce_losses = bce(torch.tensor(pinf_val_logits.values), torch.tensor(pinf_val_labels.values).float())\n",
    "pinf_val_bce_losses.mean(),ours_val_bce_losses.mean()"
   ]
  },
  {
   "cell_type": "code",
   "execution_count": null,
   "metadata": {},
   "outputs": [
    {
     "data": {
      "text/plain": [
       "(tensor(0.0035), tensor(0.0008))"
      ]
     },
     "execution_count": 20,
     "metadata": {},
     "output_type": "execute_result"
    }
   ],
   "source": [
    "#Focal Loss\n",
    "\n",
    "ours_val_fl_losses = fl(torch.tensor(val_logits.values), torch.tensor(val_labels.values).float())\n",
    "pinf_val_fl_losses = fl(torch.tensor(pinf_val_logits.values), torch.tensor(pinf_val_labels.values).float())\n",
    "pinf_val_fl_losses.mean(),ours_val_fl_losses.mean()"
   ]
  },
  {
   "cell_type": "markdown",
   "metadata": {},
   "source": [
    "Random model baseline losses"
   ]
  },
  {
   "cell_type": "code",
   "execution_count": null,
   "metadata": {},
   "outputs": [
    {
     "data": {
      "text/plain": [
       "(tensor(0.6931), tensor(0.3769))"
      ]
     },
     "execution_count": 21,
     "metadata": {},
     "output_type": "execute_result"
    }
   ],
   "source": [
    "random_model_bce = bce_probs(torch.ones_like(val_labels_t)*0.5, val_labels_t)\n",
    "random_model_fl =fl(torch.ones_like(val_labels_t)*0.5, val_labels_t)\n",
    "random_model_bce.mean(),random_model_fl.mean()"
   ]
  },
  {
   "cell_type": "markdown",
   "metadata": {},
   "source": [
    "Always predict 1/672 = probability of positive in the dataset"
   ]
  },
  {
   "cell_type": "code",
   "execution_count": null,
   "metadata": {},
   "outputs": [
    {
     "data": {
      "text/plain": [
       "(tensor(0.0113), tensor(0.1737))"
      ]
     },
     "execution_count": 22,
     "metadata": {},
     "output_type": "execute_result"
    }
   ],
   "source": [
    "always_negative_preds = torch.ones_like(val_labels_t)/672\n",
    "predict_0_model_bce = bce_probs(always_negative_preds, val_labels_t)\n",
    "predict_0_model_fl = fl(always_negative_preds, val_labels_t)\n",
    "\n",
    "predict_0_model_bce.mean(),predict_0_model_fl.mean()\n"
   ]
  },
  {
   "cell_type": "code",
   "execution_count": null,
   "metadata": {},
   "outputs": [],
   "source": [
    "always_negative_preds = torch.ones_like(val_labels_t)/672\n",
    "always_random = torch.ones_like(val_labels_t)*.5"
   ]
  },
  {
   "cell_type": "markdown",
   "metadata": {},
   "source": [
    "Baseline top classes"
   ]
  },
  {
   "cell_type": "code",
   "execution_count": null,
   "metadata": {},
   "outputs": [
    {
     "data": {
      "text/plain": [
       "(tensor(0.0927), tensor(0.1867))"
      ]
     },
     "execution_count": 24,
     "metadata": {},
     "output_type": "execute_result"
    }
   ],
   "source": [
    "n = 1000\n",
    "predict_top_classes = val_probabilities.copy()\n",
    "top_n = go_term_distribution[:n].index\n",
    "predict_top_classes.iloc[:,:] = 0.0\n",
    "for col in top_n:\n",
    "    predict_top_classes[col]=0.9\n",
    "predict_top_classes = torch.tensor(predict_top_classes.values).float()\n",
    "\n",
    "predict_top_classes_bce = bce_probs(predict_top_classes, val_labels_t)\n",
    "predict_top_classes_fl = fl(predict_top_classes, val_labels_t)\n",
    "\n",
    "predict_top_classes_bce.mean(),predict_top_classes_fl.mean()"
   ]
  },
  {
   "cell_type": "markdown",
   "metadata": {},
   "source": [
    "Calculate metrics per class for both model_comparison_auprc_per_label"
   ]
  },
  {
   "cell_type": "code",
   "execution_count": null,
   "metadata": {},
   "outputs": [
    {
     "name": "stderr",
     "output_type": "stream",
     "text": [
      "100%|██████████| 21791/21791 [00:53<00:00, 407.71it/s]\n",
      "100%|██████████| 21791/21791 [00:50<00:00, 427.90it/s]\n",
      "/anaconda/envs/protein_functions_310/lib/python3.10/site-packages/pyarrow/pandas_compat.py:373: FutureWarning: is_sparse is deprecated and will be removed in a future version. Check `isinstance(dtype, pd.SparseDtype)` instead.\n",
      "  if _pandas_api.is_sparse(col):\n"
     ]
    }
   ],
   "source": [
    "#Define threshold to calculate threshold-dependent metrics otherwise only threshold-agnostic metrics are calculated\n",
    "threshold = None\n",
    "res=metrics_per_label_df(val_labels,val_probabilities,device='cuda',threshold=threshold)\n",
    "pinf_res=metrics_per_label_df(pinf_val_labels,pinf_val_probabilities,device='cuda',threshold=threshold)\n",
    "\n",
    "\n",
    "#Combine both dataframes\n",
    "res['model']='Ours'\n",
    "pinf_res['model']='Proteinfer'\n",
    "res=pd.concat([res,pinf_res],axis=0)\n",
    "res = res.drop([\"Frequency\",\"Relative Frequency\"],axis=1)\n",
    "res[\"Frequency\"] = res.index.map(go_term_distribution)\n",
    "res.to_parquet(\"model_comparison_auprc_per_label.parquet\")"
   ]
  },
  {
   "cell_type": "code",
   "execution_count": null,
   "metadata": {},
   "outputs": [
    {
     "data": {
      "text/html": [
       "<div>\n",
       "<style scoped>\n",
       "    .dataframe tbody tr th:only-of-type {\n",
       "        vertical-align: middle;\n",
       "    }\n",
       "\n",
       "    .dataframe tbody tr th {\n",
       "        vertical-align: top;\n",
       "    }\n",
       "\n",
       "    .dataframe thead th {\n",
       "        text-align: right;\n",
       "    }\n",
       "</style>\n",
       "<table border=\"1\" class=\"dataframe\">\n",
       "  <thead>\n",
       "    <tr style=\"text-align: right;\">\n",
       "      <th></th>\n",
       "      <th>AUPRC</th>\n",
       "      <th>Frequency</th>\n",
       "    </tr>\n",
       "    <tr>\n",
       "      <th>model</th>\n",
       "      <th></th>\n",
       "      <th></th>\n",
       "    </tr>\n",
       "  </thead>\n",
       "  <tbody>\n",
       "    <tr>\n",
       "      <th>Ours</th>\n",
       "      <td>0.592565</td>\n",
       "      <td>635.987821</td>\n",
       "    </tr>\n",
       "    <tr>\n",
       "      <th>Proteinfer</th>\n",
       "      <td>0.651608</td>\n",
       "      <td>635.987821</td>\n",
       "    </tr>\n",
       "  </tbody>\n",
       "</table>\n",
       "</div>"
      ],
      "text/plain": [
       "               AUPRC   Frequency\n",
       "model                           \n",
       "Ours        0.592565  635.987821\n",
       "Proteinfer  0.651608  635.987821"
      ]
     },
     "execution_count": 26,
     "metadata": {},
     "output_type": "execute_result"
    }
   ],
   "source": [
    "res.groupby(['model']).mean()"
   ]
  },
  {
   "cell_type": "markdown",
   "metadata": {},
   "source": [
    "Visualie distribution of AUPRC"
   ]
  },
  {
   "cell_type": "code",
   "execution_count": null,
   "metadata": {},
   "outputs": [
    {
     "data": {
      "text/plain": [
       "<Axes: xlabel='AUPRC', ylabel='Count'>"
      ]
     },
     "execution_count": 41,
     "metadata": {},
     "output_type": "execute_result"
    },
    {
     "data": {
      "image/png": "[encoded data removed]",
      "text/plain": [
       "<Figure size 640x480 with 1 Axes>"
      ]
     },
     "metadata": {},
     "output_type": "display_data"
    }
   ],
   "source": [
    "sns.histplot(data = res.reset_index(),x='AUPRC',hue='model',bins=100)"
   ]
  },
  {
   "cell_type": "code",
   "execution_count": null,
   "metadata": {},
   "outputs": [],
   "source": [
    "res_pivot = res.pivot(columns=['model'],values=['AUPRC','Frequency'])\n",
    "res_pivot.columns = [i[0]+'_'+i[1] for i in res_pivot.columns]\n",
    "ours_better = res_pivot[res_pivot['AUPRC_Ours']>res_pivot['AUPRC_Proteinfer']].sort_values(by='Frequency_Ours',ascending=False)"
   ]
  },
  {
   "cell_type": "code",
   "execution_count": null,
   "metadata": {},
   "outputs": [],
   "source": [
    "import gc\n",
    "gc.collect()\n",
    "torch.cuda.empty_cache()\n"
   ]
  },
  {
   "cell_type": "code",
   "execution_count": null,
   "metadata": {},
   "outputs": [
    {
     "name": "stdout",
     "output_type": "stream",
     "text": [
      "23.943886497688506\n",
      "8.06631595727722\n",
      "8.305435995536426\n",
      "9.995217599234817\n",
      "10.004782400765183\n",
      "9.749721026622032\n",
      "9.947393591582975\n",
      "10.007970667941974\n",
      "9.979276263350869\n"
     ]
    },
    {
     "data": {
      "image/png": "[encoded data removed]",
      "text/plain": [
       "<Figure size 1500x600 with 1 Axes>"
      ]
     },
     "metadata": {},
     "output_type": "display_data"
    }
   ],
   "source": [
    "metric = 'AUPRC'\n",
    "quantiles = 10 #May not find desired number and could be less.\n",
    "\n",
    "#Bin frequencies\n",
    "freq_bins, freq_bin_edges = pd.qcut(go_term_distribution,q=quantiles,duplicates='drop',precision=0,retbins=True, labels=None)\n",
    "\n",
    "res['Frequency Bin']=res.index.map(freq_bins)\n",
    "res.dropna(subset=[\"AUPRC\"],inplace=True)\n",
    "freq_bins_pct = freq_bins.value_counts()*100/len(go_term_distribution)\n",
    "fig, ax = plt.subplots(figsize=(15,6))\n",
    "\n",
    "# Annotate bars with the percentage of observations\n",
    "for index, value in enumerate(freq_bins_pct.sort_index().values):\n",
    "    print(value)\n",
    "    ax.text(index, ax.get_ylim()[1]*0.01 + max(res[metric]) * 0.01, f\"{value:.2f}%\", ha='center')\n",
    "\n",
    "\n",
    "sns.barplot(data = res.reset_index(drop=True),\n",
    "            x='Frequency Bin',\n",
    "            y=metric,\n",
    "            alpha=0.8,\n",
    "            errorbar=('ci', 95),\n",
    "            hue='model')\n",
    "ax.set(title=f'Individual label performance ({metric}) by label frequency quantiles',\n",
    "       xlabel='Frequency of GO Function Annotation',\n",
    "       ylabel=metric)\n",
    "sns.despine()\n",
    "plt.ylim(0,1)\n",
    "plt.show()"
   ]
  },
  {
   "cell_type": "code",
   "execution_count": null,
   "metadata": {},
   "outputs": [
    {
     "data": {
      "text/html": [
       "<div>\n",
       "<style scoped>\n",
       "    .dataframe tbody tr th:only-of-type {\n",
       "        vertical-align: middle;\n",
       "    }\n",
       "\n",
       "    .dataframe tbody tr th {\n",
       "        vertical-align: top;\n",
       "    }\n",
       "\n",
       "    .dataframe thead th {\n",
       "        text-align: right;\n",
       "    }\n",
       "</style>\n",
       "<table border=\"1\" class=\"dataframe\">\n",
       "  <thead>\n",
       "    <tr style=\"text-align: right;\">\n",
       "      <th></th>\n",
       "      <th>AUPRC</th>\n",
       "      <th>model</th>\n",
       "      <th>Frequency</th>\n",
       "      <th>Frequency Bin</th>\n",
       "    </tr>\n",
       "  </thead>\n",
       "  <tbody>\n",
       "    <tr>\n",
       "      <th>GO:0003674</th>\n",
       "      <td>0.996428</td>\n",
       "      <td>Ours</td>\n",
       "      <td>369909.0</td>\n",
       "      <td>(383.0, 369909.0]</td>\n",
       "    </tr>\n",
       "    <tr>\n",
       "      <th>GO:0008150</th>\n",
       "      <td>0.989658</td>\n",
       "      <td>Ours</td>\n",
       "      <td>346677.0</td>\n",
       "      <td>(383.0, 369909.0]</td>\n",
       "    </tr>\n",
       "    <tr>\n",
       "      <th>GO:0005575</th>\n",
       "      <td>0.993896</td>\n",
       "      <td>Ours</td>\n",
       "      <td>321980.0</td>\n",
       "      <td>(383.0, 369909.0]</td>\n",
       "    </tr>\n",
       "    <tr>\n",
       "      <th>GO:0009987</th>\n",
       "      <td>0.984949</td>\n",
       "      <td>Ours</td>\n",
       "      <td>295442.0</td>\n",
       "      <td>(383.0, 369909.0]</td>\n",
       "    </tr>\n",
       "    <tr>\n",
       "      <th>GO:0044464</th>\n",
       "      <td>0.988314</td>\n",
       "      <td>Ours</td>\n",
       "      <td>291432.0</td>\n",
       "      <td>(383.0, 369909.0]</td>\n",
       "    </tr>\n",
       "    <tr>\n",
       "      <th>...</th>\n",
       "      <td>...</td>\n",
       "      <td>...</td>\n",
       "      <td>...</td>\n",
       "      <td>...</td>\n",
       "    </tr>\n",
       "    <tr>\n",
       "      <th>GO:0033400</th>\n",
       "      <td>1.000000</td>\n",
       "      <td>Ours</td>\n",
       "      <td>1.0</td>\n",
       "      <td>(0.0, 3.0]</td>\n",
       "    </tr>\n",
       "    <tr>\n",
       "      <th>GO:0120012</th>\n",
       "      <td>1.000000</td>\n",
       "      <td>Ours</td>\n",
       "      <td>1.0</td>\n",
       "      <td>(0.0, 3.0]</td>\n",
       "    </tr>\n",
       "    <tr>\n",
       "      <th>GO:0035589</th>\n",
       "      <td>1.000000</td>\n",
       "      <td>Ours</td>\n",
       "      <td>1.0</td>\n",
       "      <td>(0.0, 3.0]</td>\n",
       "    </tr>\n",
       "    <tr>\n",
       "      <th>GO:0050643</th>\n",
       "      <td>1.000000</td>\n",
       "      <td>Ours</td>\n",
       "      <td>NaN</td>\n",
       "      <td>NaN</td>\n",
       "    </tr>\n",
       "    <tr>\n",
       "      <th>GO:0080078</th>\n",
       "      <td>1.000000</td>\n",
       "      <td>Ours</td>\n",
       "      <td>NaN</td>\n",
       "      <td>NaN</td>\n",
       "    </tr>\n",
       "  </tbody>\n",
       "</table>\n",
       "<p>6338 rows × 4 columns</p>\n",
       "</div>"
      ],
      "text/plain": [
       "               AUPRC model  Frequency      Frequency Bin\n",
       "GO:0003674  0.996428  Ours   369909.0  (383.0, 369909.0]\n",
       "GO:0008150  0.989658  Ours   346677.0  (383.0, 369909.0]\n",
       "GO:0005575  0.993896  Ours   321980.0  (383.0, 369909.0]\n",
       "GO:0009987  0.984949  Ours   295442.0  (383.0, 369909.0]\n",
       "GO:0044464  0.988314  Ours   291432.0  (383.0, 369909.0]\n",
       "...              ...   ...        ...                ...\n",
       "GO:0033400  1.000000  Ours        1.0         (0.0, 3.0]\n",
       "GO:0120012  1.000000  Ours        1.0         (0.0, 3.0]\n",
       "GO:0035589  1.000000  Ours        1.0         (0.0, 3.0]\n",
       "GO:0050643  1.000000  Ours        NaN                NaN\n",
       "GO:0080078  1.000000  Ours        NaN                NaN\n",
       "\n",
       "[6338 rows x 4 columns]"
      ]
     },
     "execution_count": 29,
     "metadata": {},
     "output_type": "execute_result"
    }
   ],
   "source": [
    "res_ours = res.loc[res['model']=='Ours']\n",
    "res_pinf = res.loc[res['model']=='Proteinfer']\n",
    "\n",
    "res_ours[res_ours['AUPRC']>=0.9].sort_values(by='Frequency',ascending=False)"
   ]
  },
  {
   "cell_type": "code",
   "execution_count": null,
   "metadata": {},
   "outputs": [
    {
     "data": {
      "text/plain": [
       "AUPRC           0.966465\n",
       "Frequency    8255.058458\n",
       "dtype: float64"
      ]
     },
     "execution_count": 43,
     "metadata": {},
     "output_type": "execute_result"
    }
   ],
   "source": [
    "res_ours[res_ours['AUPRC']>=0.9][['AUPRC','Frequency']].mean()"
   ]
  },
  {
   "cell_type": "code",
   "execution_count": null,
   "metadata": {},
   "outputs": [
    {
     "data": {
      "text/html": [
       "<div>\n",
       "<style scoped>\n",
       "    .dataframe tbody tr th:only-of-type {\n",
       "        vertical-align: middle;\n",
       "    }\n",
       "\n",
       "    .dataframe tbody tr th {\n",
       "        vertical-align: top;\n",
       "    }\n",
       "\n",
       "    .dataframe thead th {\n",
       "        text-align: right;\n",
       "    }\n",
       "</style>\n",
       "<table border=\"1\" class=\"dataframe\">\n",
       "  <thead>\n",
       "    <tr style=\"text-align: right;\">\n",
       "      <th></th>\n",
       "      <th>AUPRC</th>\n",
       "      <th>model</th>\n",
       "      <th>Frequency</th>\n",
       "      <th>Frequency Bin</th>\n",
       "    </tr>\n",
       "  </thead>\n",
       "  <tbody>\n",
       "    <tr>\n",
       "      <th>GO:0003674</th>\n",
       "      <td>0.994481</td>\n",
       "      <td>Proteinfer</td>\n",
       "      <td>369909.0</td>\n",
       "      <td>(383.0, 369909.0]</td>\n",
       "    </tr>\n",
       "    <tr>\n",
       "      <th>GO:0008150</th>\n",
       "      <td>0.983664</td>\n",
       "      <td>Proteinfer</td>\n",
       "      <td>346677.0</td>\n",
       "      <td>(383.0, 369909.0]</td>\n",
       "    </tr>\n",
       "    <tr>\n",
       "      <th>GO:0005575</th>\n",
       "      <td>0.992867</td>\n",
       "      <td>Proteinfer</td>\n",
       "      <td>321980.0</td>\n",
       "      <td>(383.0, 369909.0]</td>\n",
       "    </tr>\n",
       "    <tr>\n",
       "      <th>GO:0009987</th>\n",
       "      <td>0.980420</td>\n",
       "      <td>Proteinfer</td>\n",
       "      <td>295442.0</td>\n",
       "      <td>(383.0, 369909.0]</td>\n",
       "    </tr>\n",
       "    <tr>\n",
       "      <th>GO:0044464</th>\n",
       "      <td>0.986555</td>\n",
       "      <td>Proteinfer</td>\n",
       "      <td>291432.0</td>\n",
       "      <td>(383.0, 369909.0]</td>\n",
       "    </tr>\n",
       "    <tr>\n",
       "      <th>...</th>\n",
       "      <td>...</td>\n",
       "      <td>...</td>\n",
       "      <td>...</td>\n",
       "      <td>...</td>\n",
       "    </tr>\n",
       "    <tr>\n",
       "      <th>GO:1904025</th>\n",
       "      <td>1.000000</td>\n",
       "      <td>Proteinfer</td>\n",
       "      <td>1.0</td>\n",
       "      <td>(0.0, 3.0]</td>\n",
       "    </tr>\n",
       "    <tr>\n",
       "      <th>GO:0033841</th>\n",
       "      <td>1.000000</td>\n",
       "      <td>Proteinfer</td>\n",
       "      <td>1.0</td>\n",
       "      <td>(0.0, 3.0]</td>\n",
       "    </tr>\n",
       "    <tr>\n",
       "      <th>GO:0090425</th>\n",
       "      <td>1.000000</td>\n",
       "      <td>Proteinfer</td>\n",
       "      <td>1.0</td>\n",
       "      <td>(0.0, 3.0]</td>\n",
       "    </tr>\n",
       "    <tr>\n",
       "      <th>GO:0021837</th>\n",
       "      <td>1.000000</td>\n",
       "      <td>Proteinfer</td>\n",
       "      <td>1.0</td>\n",
       "      <td>(0.0, 3.0]</td>\n",
       "    </tr>\n",
       "    <tr>\n",
       "      <th>GO:0030251</th>\n",
       "      <td>1.000000</td>\n",
       "      <td>Proteinfer</td>\n",
       "      <td>1.0</td>\n",
       "      <td>(0.0, 3.0]</td>\n",
       "    </tr>\n",
       "  </tbody>\n",
       "</table>\n",
       "<p>7856 rows × 4 columns</p>\n",
       "</div>"
      ],
      "text/plain": [
       "               AUPRC       model  Frequency      Frequency Bin\n",
       "GO:0003674  0.994481  Proteinfer   369909.0  (383.0, 369909.0]\n",
       "GO:0008150  0.983664  Proteinfer   346677.0  (383.0, 369909.0]\n",
       "GO:0005575  0.992867  Proteinfer   321980.0  (383.0, 369909.0]\n",
       "GO:0009987  0.980420  Proteinfer   295442.0  (383.0, 369909.0]\n",
       "GO:0044464  0.986555  Proteinfer   291432.0  (383.0, 369909.0]\n",
       "...              ...         ...        ...                ...\n",
       "GO:1904025  1.000000  Proteinfer        1.0         (0.0, 3.0]\n",
       "GO:0033841  1.000000  Proteinfer        1.0         (0.0, 3.0]\n",
       "GO:0090425  1.000000  Proteinfer        1.0         (0.0, 3.0]\n",
       "GO:0021837  1.000000  Proteinfer        1.0         (0.0, 3.0]\n",
       "GO:0030251  1.000000  Proteinfer        1.0         (0.0, 3.0]\n",
       "\n",
       "[7856 rows x 4 columns]"
      ]
     },
     "execution_count": 44,
     "metadata": {},
     "output_type": "execute_result"
    }
   ],
   "source": [
    "res_pinf[res_pinf['AUPRC']>=0.9].sort_values(by='Frequency',ascending=False)"
   ]
  },
  {
   "cell_type": "code",
   "execution_count": null,
   "metadata": {},
   "outputs": [
    {
     "data": {
      "text/plain": [
       "AUPRC           0.988498\n",
       "Frequency    1798.803335\n",
       "dtype: float64"
      ]
     },
     "execution_count": 45,
     "metadata": {},
     "output_type": "execute_result"
    }
   ],
   "source": [
    "res_pinf[res_pinf['AUPRC']>=0.9][['AUPRC','Frequency']].mean()"
   ]
  },
  {
   "cell_type": "code",
   "execution_count": null,
   "metadata": {},
   "outputs": [
    {
     "data": {
      "text/plain": [
       "0.9623318579385053"
      ]
     },
     "execution_count": 109,
     "metadata": {},
     "output_type": "execute_result"
    }
   ],
   "source": [
    "res_pinf.loc[res_ours[res_ours['AUPRC']>=0.8].index]['AUPRC'].mean()"
   ]
  },
  {
   "cell_type": "markdown",
   "metadata": {},
   "source": [
    "Explore worst errors"
   ]
  },
  {
   "cell_type": "code",
   "execution_count": null,
   "metadata": {},
   "outputs": [
    {
     "data": {
      "text/plain": [
       "torch.Size([44300, 32102])"
      ]
     },
     "execution_count": 67,
     "metadata": {},
     "output_type": "execute_result"
    }
   ],
   "source": [
    "ours_val_fl_losses.shape"
   ]
  },
  {
   "cell_type": "code",
   "execution_count": null,
   "metadata": {},
   "outputs": [],
   "source": [
    "ours_val_fl_df = pd.DataFrame(ours_val_fl_losses.numpy(),index=val_labels.index,columns=val_labels.columns)"
   ]
  },
  {
   "cell_type": "code",
   "execution_count": null,
   "metadata": {},
   "outputs": [
    {
     "data": {
      "text/html": [
       "<div>\n",
       "<style scoped>\n",
       "    .dataframe tbody tr th:only-of-type {\n",
       "        vertical-align: middle;\n",
       "    }\n",
       "\n",
       "    .dataframe tbody tr th {\n",
       "        vertical-align: top;\n",
       "    }\n",
       "\n",
       "    .dataframe thead th {\n",
       "        text-align: right;\n",
       "    }\n",
       "</style>\n",
       "<table border=\"1\" class=\"dataframe\">\n",
       "  <thead>\n",
       "    <tr style=\"text-align: right;\">\n",
       "      <th></th>\n",
       "      <th>GO:0000001</th>\n",
       "      <th>GO:0000002</th>\n",
       "      <th>GO:0000003</th>\n",
       "      <th>GO:0000006</th>\n",
       "      <th>GO:0000007</th>\n",
       "      <th>GO:0000009</th>\n",
       "      <th>GO:0000010</th>\n",
       "      <th>GO:0000011</th>\n",
       "      <th>GO:0000012</th>\n",
       "      <th>GO:0000014</th>\n",
       "      <th>...</th>\n",
       "      <th>GO:2001305</th>\n",
       "      <th>GO:2001306</th>\n",
       "      <th>GO:2001307</th>\n",
       "      <th>GO:2001308</th>\n",
       "      <th>GO:2001310</th>\n",
       "      <th>GO:2001311</th>\n",
       "      <th>GO:2001313</th>\n",
       "      <th>GO:2001315</th>\n",
       "      <th>GO:2001316</th>\n",
       "      <th>GO:2001317</th>\n",
       "    </tr>\n",
       "  </thead>\n",
       "  <tbody>\n",
       "    <tr>\n",
       "      <th>Q6AF49</th>\n",
       "      <td>0.000000e+00</td>\n",
       "      <td>0.000000e+00</td>\n",
       "      <td>1.154452e-15</td>\n",
       "      <td>0.000000e+00</td>\n",
       "      <td>0.000000e+00</td>\n",
       "      <td>0.000000e+00</td>\n",
       "      <td>0.000000e+00</td>\n",
       "      <td>0.000000e+00</td>\n",
       "      <td>0.000000e+00</td>\n",
       "      <td>4.228224e-09</td>\n",
       "      <td>...</td>\n",
       "      <td>0.000000e+00</td>\n",
       "      <td>0.0</td>\n",
       "      <td>0.000000e+00</td>\n",
       "      <td>0.000000e+00</td>\n",
       "      <td>0.000000e+00</td>\n",
       "      <td>0.000000e+00</td>\n",
       "      <td>0.000000e+00</td>\n",
       "      <td>0.000000e+00</td>\n",
       "      <td>0.000000e+00</td>\n",
       "      <td>0.0</td>\n",
       "    </tr>\n",
       "    <tr>\n",
       "      <th>Q9MS73</th>\n",
       "      <td>0.000000e+00</td>\n",
       "      <td>0.000000e+00</td>\n",
       "      <td>0.000000e+00</td>\n",
       "      <td>0.000000e+00</td>\n",
       "      <td>0.000000e+00</td>\n",
       "      <td>0.000000e+00</td>\n",
       "      <td>0.000000e+00</td>\n",
       "      <td>0.000000e+00</td>\n",
       "      <td>0.000000e+00</td>\n",
       "      <td>0.000000e+00</td>\n",
       "      <td>...</td>\n",
       "      <td>0.000000e+00</td>\n",
       "      <td>0.0</td>\n",
       "      <td>0.000000e+00</td>\n",
       "      <td>0.000000e+00</td>\n",
       "      <td>0.000000e+00</td>\n",
       "      <td>0.000000e+00</td>\n",
       "      <td>0.000000e+00</td>\n",
       "      <td>0.000000e+00</td>\n",
       "      <td>0.000000e+00</td>\n",
       "      <td>0.0</td>\n",
       "    </tr>\n",
       "    <tr>\n",
       "      <th>A5FYS5</th>\n",
       "      <td>0.000000e+00</td>\n",
       "      <td>7.903817e-17</td>\n",
       "      <td>1.694066e-21</td>\n",
       "      <td>0.000000e+00</td>\n",
       "      <td>0.000000e+00</td>\n",
       "      <td>5.867545e-09</td>\n",
       "      <td>1.004901e-16</td>\n",
       "      <td>0.000000e+00</td>\n",
       "      <td>2.509816e-15</td>\n",
       "      <td>1.614107e-14</td>\n",
       "      <td>...</td>\n",
       "      <td>1.459441e-14</td>\n",
       "      <td>0.0</td>\n",
       "      <td>1.873496e-16</td>\n",
       "      <td>0.000000e+00</td>\n",
       "      <td>0.000000e+00</td>\n",
       "      <td>0.000000e+00</td>\n",
       "      <td>0.000000e+00</td>\n",
       "      <td>0.000000e+00</td>\n",
       "      <td>0.000000e+00</td>\n",
       "      <td>0.0</td>\n",
       "    </tr>\n",
       "    <tr>\n",
       "      <th>A5G348</th>\n",
       "      <td>2.927344e-18</td>\n",
       "      <td>1.300163e-08</td>\n",
       "      <td>3.881737e-10</td>\n",
       "      <td>6.323040e-16</td>\n",
       "      <td>1.598267e-05</td>\n",
       "      <td>2.395686e-13</td>\n",
       "      <td>0.000000e+00</td>\n",
       "      <td>8.924287e-15</td>\n",
       "      <td>6.674357e-09</td>\n",
       "      <td>1.039228e-11</td>\n",
       "      <td>...</td>\n",
       "      <td>1.543713e-16</td>\n",
       "      <td>0.0</td>\n",
       "      <td>1.355253e-20</td>\n",
       "      <td>1.972197e-12</td>\n",
       "      <td>3.237299e-13</td>\n",
       "      <td>0.000000e+00</td>\n",
       "      <td>5.810643e-19</td>\n",
       "      <td>3.659181e-19</td>\n",
       "      <td>1.694066e-21</td>\n",
       "      <td>0.0</td>\n",
       "    </tr>\n",
       "    <tr>\n",
       "      <th>Q5WFY4</th>\n",
       "      <td>0.000000e+00</td>\n",
       "      <td>1.731027e-14</td>\n",
       "      <td>8.238461e-09</td>\n",
       "      <td>0.000000e+00</td>\n",
       "      <td>0.000000e+00</td>\n",
       "      <td>0.000000e+00</td>\n",
       "      <td>0.000000e+00</td>\n",
       "      <td>0.000000e+00</td>\n",
       "      <td>6.615977e-11</td>\n",
       "      <td>5.326664e-16</td>\n",
       "      <td>...</td>\n",
       "      <td>0.000000e+00</td>\n",
       "      <td>0.0</td>\n",
       "      <td>0.000000e+00</td>\n",
       "      <td>0.000000e+00</td>\n",
       "      <td>0.000000e+00</td>\n",
       "      <td>0.000000e+00</td>\n",
       "      <td>0.000000e+00</td>\n",
       "      <td>0.000000e+00</td>\n",
       "      <td>0.000000e+00</td>\n",
       "      <td>0.0</td>\n",
       "    </tr>\n",
       "    <tr>\n",
       "      <th>...</th>\n",
       "      <td>...</td>\n",
       "      <td>...</td>\n",
       "      <td>...</td>\n",
       "      <td>...</td>\n",
       "      <td>...</td>\n",
       "      <td>...</td>\n",
       "      <td>...</td>\n",
       "      <td>...</td>\n",
       "      <td>...</td>\n",
       "      <td>...</td>\n",
       "      <td>...</td>\n",
       "      <td>...</td>\n",
       "      <td>...</td>\n",
       "      <td>...</td>\n",
       "      <td>...</td>\n",
       "      <td>...</td>\n",
       "      <td>...</td>\n",
       "      <td>...</td>\n",
       "      <td>...</td>\n",
       "      <td>...</td>\n",
       "      <td>...</td>\n",
       "    </tr>\n",
       "    <tr>\n",
       "      <th>Q589A6</th>\n",
       "      <td>2.305630e-11</td>\n",
       "      <td>1.028675e-07</td>\n",
       "      <td>8.575885e-07</td>\n",
       "      <td>0.000000e+00</td>\n",
       "      <td>1.694066e-21</td>\n",
       "      <td>1.904007e-14</td>\n",
       "      <td>0.000000e+00</td>\n",
       "      <td>5.551105e-17</td>\n",
       "      <td>3.641385e-05</td>\n",
       "      <td>1.457440e-09</td>\n",
       "      <td>...</td>\n",
       "      <td>1.745387e-15</td>\n",
       "      <td>0.0</td>\n",
       "      <td>3.721860e-18</td>\n",
       "      <td>0.000000e+00</td>\n",
       "      <td>0.000000e+00</td>\n",
       "      <td>0.000000e+00</td>\n",
       "      <td>0.000000e+00</td>\n",
       "      <td>0.000000e+00</td>\n",
       "      <td>0.000000e+00</td>\n",
       "      <td>0.0</td>\n",
       "    </tr>\n",
       "    <tr>\n",
       "      <th>A9M9U0</th>\n",
       "      <td>0.000000e+00</td>\n",
       "      <td>1.355253e-20</td>\n",
       "      <td>5.326664e-16</td>\n",
       "      <td>0.000000e+00</td>\n",
       "      <td>0.000000e+00</td>\n",
       "      <td>0.000000e+00</td>\n",
       "      <td>3.659181e-19</td>\n",
       "      <td>0.000000e+00</td>\n",
       "      <td>0.000000e+00</td>\n",
       "      <td>0.000000e+00</td>\n",
       "      <td>...</td>\n",
       "      <td>2.220794e-13</td>\n",
       "      <td>0.0</td>\n",
       "      <td>1.161958e-17</td>\n",
       "      <td>4.573977e-20</td>\n",
       "      <td>1.694066e-21</td>\n",
       "      <td>0.000000e+00</td>\n",
       "      <td>0.000000e+00</td>\n",
       "      <td>0.000000e+00</td>\n",
       "      <td>0.000000e+00</td>\n",
       "      <td>0.0</td>\n",
       "    </tr>\n",
       "    <tr>\n",
       "      <th>A4IQ63</th>\n",
       "      <td>0.000000e+00</td>\n",
       "      <td>0.000000e+00</td>\n",
       "      <td>3.116989e-14</td>\n",
       "      <td>0.000000e+00</td>\n",
       "      <td>0.000000e+00</td>\n",
       "      <td>0.000000e+00</td>\n",
       "      <td>0.000000e+00</td>\n",
       "      <td>0.000000e+00</td>\n",
       "      <td>0.000000e+00</td>\n",
       "      <td>3.305314e-16</td>\n",
       "      <td>...</td>\n",
       "      <td>0.000000e+00</td>\n",
       "      <td>0.0</td>\n",
       "      <td>0.000000e+00</td>\n",
       "      <td>0.000000e+00</td>\n",
       "      <td>0.000000e+00</td>\n",
       "      <td>0.000000e+00</td>\n",
       "      <td>0.000000e+00</td>\n",
       "      <td>0.000000e+00</td>\n",
       "      <td>0.000000e+00</td>\n",
       "      <td>0.0</td>\n",
       "    </tr>\n",
       "    <tr>\n",
       "      <th>Q0SYD4</th>\n",
       "      <td>0.000000e+00</td>\n",
       "      <td>1.694066e-21</td>\n",
       "      <td>2.818410e-13</td>\n",
       "      <td>0.000000e+00</td>\n",
       "      <td>0.000000e+00</td>\n",
       "      <td>1.694066e-21</td>\n",
       "      <td>0.000000e+00</td>\n",
       "      <td>0.000000e+00</td>\n",
       "      <td>0.000000e+00</td>\n",
       "      <td>0.000000e+00</td>\n",
       "      <td>...</td>\n",
       "      <td>0.000000e+00</td>\n",
       "      <td>0.0</td>\n",
       "      <td>0.000000e+00</td>\n",
       "      <td>0.000000e+00</td>\n",
       "      <td>0.000000e+00</td>\n",
       "      <td>2.254800e-18</td>\n",
       "      <td>0.000000e+00</td>\n",
       "      <td>0.000000e+00</td>\n",
       "      <td>0.000000e+00</td>\n",
       "      <td>0.0</td>\n",
       "    </tr>\n",
       "    <tr>\n",
       "      <th>Q47IP1</th>\n",
       "      <td>0.000000e+00</td>\n",
       "      <td>0.000000e+00</td>\n",
       "      <td>2.467871e-09</td>\n",
       "      <td>0.000000e+00</td>\n",
       "      <td>0.000000e+00</td>\n",
       "      <td>2.017532e-12</td>\n",
       "      <td>1.694065e-18</td>\n",
       "      <td>0.000000e+00</td>\n",
       "      <td>0.000000e+00</td>\n",
       "      <td>0.000000e+00</td>\n",
       "      <td>...</td>\n",
       "      <td>2.117582e-19</td>\n",
       "      <td>0.0</td>\n",
       "      <td>0.000000e+00</td>\n",
       "      <td>0.000000e+00</td>\n",
       "      <td>0.000000e+00</td>\n",
       "      <td>0.000000e+00</td>\n",
       "      <td>0.000000e+00</td>\n",
       "      <td>0.000000e+00</td>\n",
       "      <td>0.000000e+00</td>\n",
       "      <td>0.0</td>\n",
       "    </tr>\n",
       "  </tbody>\n",
       "</table>\n",
       "<p>44300 rows × 32102 columns</p>\n",
       "</div>"
      ],
      "text/plain": [
       "          GO:0000001    GO:0000002    GO:0000003    GO:0000006    GO:0000007  \\\n",
       "Q6AF49  0.000000e+00  0.000000e+00  1.154452e-15  0.000000e+00  0.000000e+00   \n",
       "Q9MS73  0.000000e+00  0.000000e+00  0.000000e+00  0.000000e+00  0.000000e+00   \n",
       "A5FYS5  0.000000e+00  7.903817e-17  1.694066e-21  0.000000e+00  0.000000e+00   \n",
       "A5G348  2.927344e-18  1.300163e-08  3.881737e-10  6.323040e-16  1.598267e-05   \n",
       "Q5WFY4  0.000000e+00  1.731027e-14  8.238461e-09  0.000000e+00  0.000000e+00   \n",
       "...              ...           ...           ...           ...           ...   \n",
       "Q589A6  2.305630e-11  1.028675e-07  8.575885e-07  0.000000e+00  1.694066e-21   \n",
       "A9M9U0  0.000000e+00  1.355253e-20  5.326664e-16  0.000000e+00  0.000000e+00   \n",
       "A4IQ63  0.000000e+00  0.000000e+00  3.116989e-14  0.000000e+00  0.000000e+00   \n",
       "Q0SYD4  0.000000e+00  1.694066e-21  2.818410e-13  0.000000e+00  0.000000e+00   \n",
       "Q47IP1  0.000000e+00  0.000000e+00  2.467871e-09  0.000000e+00  0.000000e+00   \n",
       "\n",
       "          GO:0000009    GO:0000010    GO:0000011    GO:0000012    GO:0000014  \\\n",
       "Q6AF49  0.000000e+00  0.000000e+00  0.000000e+00  0.000000e+00  4.228224e-09   \n",
       "Q9MS73  0.000000e+00  0.000000e+00  0.000000e+00  0.000000e+00  0.000000e+00   \n",
       "A5FYS5  5.867545e-09  1.004901e-16  0.000000e+00  2.509816e-15  1.614107e-14   \n",
       "A5G348  2.395686e-13  0.000000e+00  8.924287e-15  6.674357e-09  1.039228e-11   \n",
       "Q5WFY4  0.000000e+00  0.000000e+00  0.000000e+00  6.615977e-11  5.326664e-16   \n",
       "...              ...           ...           ...           ...           ...   \n",
       "Q589A6  1.904007e-14  0.000000e+00  5.551105e-17  3.641385e-05  1.457440e-09   \n",
       "A9M9U0  0.000000e+00  3.659181e-19  0.000000e+00  0.000000e+00  0.000000e+00   \n",
       "A4IQ63  0.000000e+00  0.000000e+00  0.000000e+00  0.000000e+00  3.305314e-16   \n",
       "Q0SYD4  1.694066e-21  0.000000e+00  0.000000e+00  0.000000e+00  0.000000e+00   \n",
       "Q47IP1  2.017532e-12  1.694065e-18  0.000000e+00  0.000000e+00  0.000000e+00   \n",
       "\n",
       "        ...    GO:2001305  GO:2001306    GO:2001307    GO:2001308  \\\n",
       "Q6AF49  ...  0.000000e+00         0.0  0.000000e+00  0.000000e+00   \n",
       "Q9MS73  ...  0.000000e+00         0.0  0.000000e+00  0.000000e+00   \n",
       "A5FYS5  ...  1.459441e-14         0.0  1.873496e-16  0.000000e+00   \n",
       "A5G348  ...  1.543713e-16         0.0  1.355253e-20  1.972197e-12   \n",
       "Q5WFY4  ...  0.000000e+00         0.0  0.000000e+00  0.000000e+00   \n",
       "...     ...           ...         ...           ...           ...   \n",
       "Q589A6  ...  1.745387e-15         0.0  3.721860e-18  0.000000e+00   \n",
       "A9M9U0  ...  2.220794e-13         0.0  1.161958e-17  4.573977e-20   \n",
       "A4IQ63  ...  0.000000e+00         0.0  0.000000e+00  0.000000e+00   \n",
       "Q0SYD4  ...  0.000000e+00         0.0  0.000000e+00  0.000000e+00   \n",
       "Q47IP1  ...  2.117582e-19         0.0  0.000000e+00  0.000000e+00   \n",
       "\n",
       "          GO:2001310    GO:2001311    GO:2001313    GO:2001315    GO:2001316  \\\n",
       "Q6AF49  0.000000e+00  0.000000e+00  0.000000e+00  0.000000e+00  0.000000e+00   \n",
       "Q9MS73  0.000000e+00  0.000000e+00  0.000000e+00  0.000000e+00  0.000000e+00   \n",
       "A5FYS5  0.000000e+00  0.000000e+00  0.000000e+00  0.000000e+00  0.000000e+00   \n",
       "A5G348  3.237299e-13  0.000000e+00  5.810643e-19  3.659181e-19  1.694066e-21   \n",
       "Q5WFY4  0.000000e+00  0.000000e+00  0.000000e+00  0.000000e+00  0.000000e+00   \n",
       "...              ...           ...           ...           ...           ...   \n",
       "Q589A6  0.000000e+00  0.000000e+00  0.000000e+00  0.000000e+00  0.000000e+00   \n",
       "A9M9U0  1.694066e-21  0.000000e+00  0.000000e+00  0.000000e+00  0.000000e+00   \n",
       "A4IQ63  0.000000e+00  0.000000e+00  0.000000e+00  0.000000e+00  0.000000e+00   \n",
       "Q0SYD4  0.000000e+00  2.254800e-18  0.000000e+00  0.000000e+00  0.000000e+00   \n",
       "Q47IP1  0.000000e+00  0.000000e+00  0.000000e+00  0.000000e+00  0.000000e+00   \n",
       "\n",
       "        GO:2001317  \n",
       "Q6AF49         0.0  \n",
       "Q9MS73         0.0  \n",
       "A5FYS5         0.0  \n",
       "A5G348         0.0  \n",
       "Q5WFY4         0.0  \n",
       "...            ...  \n",
       "Q589A6         0.0  \n",
       "A9M9U0         0.0  \n",
       "A4IQ63         0.0  \n",
       "Q0SYD4         0.0  \n",
       "Q47IP1         0.0  \n",
       "\n",
       "[44300 rows x 32102 columns]"
      ]
     },
     "execution_count": 70,
     "metadata": {},
     "output_type": "execute_result"
    }
   ],
   "source": [
    "ours_val_fl_df"
   ]
  },
  {
   "cell_type": "code",
   "execution_count": null,
   "metadata": {},
   "outputs": [],
   "source": [
    "loss_by_label = pd.concat([ours_val_fl_df.agg(['mean','median'],axis=0).T,\n",
    "    label_descriptions,\n",
    "    res[res['model']=='Ours'].drop(['model'],axis=1)],axis=1).dropna()\n",
    "\n",
    "loss_by_sequence = ours_val_fl_df.agg(['mean','median'],axis=1).dropna()"
   ]
  },
  {
   "cell_type": "code",
   "execution_count": null,
   "metadata": {},
   "outputs": [
    {
     "name": "stdout",
     "output_type": "stream",
     "text": [
      "GO:0043226 organized structure of distinctive morphology and function. includes the nucleus, mitochondria, plastids, vacuoles, vesicles, ribosomes and the cytoskeleton, and prokaryotic structures such as anammoxosomes and pirellulosomes. excludes the plasma membrane.\n",
      "\n",
      "-----------\n",
      "GO:0044444 any constituent part of the cytoplasm, all of the contents of a cell excluding the plasma membrane and nucleus, but including other subcellular structures.\n",
      "\n",
      "-----------\n",
      "GO:0043229 organized structure of distinctive morphology and function, occurring within the cell. includes the nucleus, mitochondria, plastids, vacuoles, vesicles, ribosomes and the cytoskeleton. excludes the plasma membrane.\n",
      "\n",
      "-----------\n",
      "GO:0043227 organized structure of distinctive morphology and function, bounded by a single or double lipid bilayer membrane. includes the nucleus, mitochondria, plastids, vacuoles, and vesicles. excludes the plasma membrane.\n",
      "\n",
      "-----------\n",
      "GO:0009987 any process that is carried out at the cellular level, but not necessarily restricted to a single cell. for example, cell communication occurs among more than one cell, but occurs at the cellular level.\n",
      "\n",
      "-----------\n",
      "GO:0043231 organized structure of distinctive morphology and function, bounded by a single or double lipid bilayer membrane and occurring within the cell. includes the nucleus, mitochondria, plastids, vacuoles, and vesicles. excludes the plasma membrane.\n",
      "\n",
      "-----------\n",
      "GO:0008150 a biological process represents a specific objective that the organism is genetically programmed to achieve. biological processes are often described by their outcome or ending state, e.g., the biological process of cell division results in the creation of two daughter cells (a divided cell) from a single parent cell. a biological process is accomplished by a particular set of molecular functions carried out by specific gene products (or macromolecular complexes), often in a highly regulated manner and in a particular temporal sequence.\n",
      "\n",
      "-----------\n",
      "GO:0008152 the chemical reactions and pathways, including anabolism and catabolism, by which living organisms transform chemical substances. metabolic processes typically transform small molecules, but also include macromolecular processes such as dna repair and replication, and protein synthesis and degradation.\n",
      "\n",
      "-----------\n",
      "GO:0044237 the chemical reactions and pathways by which individual cells transform chemical substances.\n",
      "\n",
      "-----------\n",
      "GO:0044424 any constituent part of the living contents of a cell; the matter contained within (but not including) the plasma membrane, usually taken to exclude large vacuoles and masses of secretory or ingested material. in eukaryotes it includes the nucleus and cytoplasm.\n",
      "\n",
      "-----------\n"
     ]
    }
   ],
   "source": [
    "for idx,row in loss_by_label.sort_values(by='mean',ascending=False).iloc[:10].iterrows():\n",
    "    print(idx,row['label'])\n",
    "    print('\\n-----------')"
   ]
  },
  {
   "cell_type": "markdown",
   "metadata": {},
   "source": []
  },
  {
   "cell_type": "code",
   "execution_count": null,
   "metadata": {},
   "outputs": [
    {
     "data": {
      "text/html": [
       "<div>\n",
       "<style scoped>\n",
       "    .dataframe tbody tr th:only-of-type {\n",
       "        vertical-align: middle;\n",
       "    }\n",
       "\n",
       "    .dataframe tbody tr th {\n",
       "        vertical-align: top;\n",
       "    }\n",
       "\n",
       "    .dataframe thead th {\n",
       "        text-align: right;\n",
       "    }\n",
       "</style>\n",
       "<table border=\"1\" class=\"dataframe\">\n",
       "  <thead>\n",
       "    <tr style=\"text-align: right;\">\n",
       "      <th></th>\n",
       "      <th>mean</th>\n",
       "      <th>median</th>\n",
       "    </tr>\n",
       "  </thead>\n",
       "  <tbody>\n",
       "    <tr>\n",
       "      <th>Q5FUG0</th>\n",
       "      <td>1.502230e-11</td>\n",
       "      <td>0.000000e+00</td>\n",
       "    </tr>\n",
       "    <tr>\n",
       "      <th>Q602S0</th>\n",
       "      <td>7.422003e-11</td>\n",
       "      <td>0.000000e+00</td>\n",
       "    </tr>\n",
       "    <tr>\n",
       "      <th>Q1MND4</th>\n",
       "      <td>7.841468e-11</td>\n",
       "      <td>0.000000e+00</td>\n",
       "    </tr>\n",
       "    <tr>\n",
       "      <th>Q5FUM8</th>\n",
       "      <td>1.432559e-10</td>\n",
       "      <td>0.000000e+00</td>\n",
       "    </tr>\n",
       "    <tr>\n",
       "      <th>Q2L066</th>\n",
       "      <td>1.630592e-10</td>\n",
       "      <td>0.000000e+00</td>\n",
       "    </tr>\n",
       "    <tr>\n",
       "      <th>...</th>\n",
       "      <td>...</td>\n",
       "      <td>...</td>\n",
       "    </tr>\n",
       "    <tr>\n",
       "      <th>B2RWS6</th>\n",
       "      <td>6.181519e-02</td>\n",
       "      <td>0.000000e+00</td>\n",
       "    </tr>\n",
       "    <tr>\n",
       "      <th>Q9NFU0</th>\n",
       "      <td>6.340533e-02</td>\n",
       "      <td>0.000000e+00</td>\n",
       "    </tr>\n",
       "    <tr>\n",
       "      <th>P84025</th>\n",
       "      <td>8.545986e-02</td>\n",
       "      <td>0.000000e+00</td>\n",
       "    </tr>\n",
       "    <tr>\n",
       "      <th>Q5NTH0</th>\n",
       "      <td>1.013311e-01</td>\n",
       "      <td>1.355253e-20</td>\n",
       "    </tr>\n",
       "    <tr>\n",
       "      <th>Q9D906</th>\n",
       "      <td>1.032846e-01</td>\n",
       "      <td>0.000000e+00</td>\n",
       "    </tr>\n",
       "  </tbody>\n",
       "</table>\n",
       "<p>44300 rows × 2 columns</p>\n",
       "</div>"
      ],
      "text/plain": [
       "                mean        median\n",
       "Q5FUG0  1.502230e-11  0.000000e+00\n",
       "Q602S0  7.422003e-11  0.000000e+00\n",
       "Q1MND4  7.841468e-11  0.000000e+00\n",
       "Q5FUM8  1.432559e-10  0.000000e+00\n",
       "Q2L066  1.630592e-10  0.000000e+00\n",
       "...              ...           ...\n",
       "B2RWS6  6.181519e-02  0.000000e+00\n",
       "Q9NFU0  6.340533e-02  0.000000e+00\n",
       "P84025  8.545986e-02  0.000000e+00\n",
       "Q5NTH0  1.013311e-01  1.355253e-20\n",
       "Q9D906  1.032846e-01  0.000000e+00\n",
       "\n",
       "[44300 rows x 2 columns]"
      ]
     },
     "execution_count": 80,
     "metadata": {},
     "output_type": "execute_result"
    }
   ],
   "source": [
    "loss_by_sequence.sort_values(by='mean')"
   ]
  },
  {
   "cell_type": "code",
   "execution_count": null,
   "metadata": {},
   "outputs": [
    {
     "data": {
      "text/plain": [
       "7189"
      ]
     },
     "execution_count": 90,
     "metadata": {},
     "output_type": "execute_result"
    }
   ],
   "source": [
    "(loss_by_sequence['mean']>0.001).sum()"
   ]
  },
  {
   "cell_type": "code",
   "execution_count": null,
   "metadata": {},
   "outputs": [
    {
     "data": {
      "text/plain": [
       "(44300, 2)"
      ]
     },
     "execution_count": 91,
     "metadata": {},
     "output_type": "execute_result"
    }
   ],
   "source": [
    "loss_by_sequence.shape"
   ]
  },
  {
   "cell_type": "code",
   "execution_count": null,
   "metadata": {},
   "outputs": [
    {
     "data": {
      "text/plain": [
       "<Axes: >"
      ]
     },
     "execution_count": 83,
     "metadata": {},
     "output_type": "execute_result"
    },
    {
     "data": {
      "image/png": "[encoded data removed]",
      "text/plain": [
       "<Figure size 640x480 with 1 Axes>"
      ]
     },
     "metadata": {},
     "output_type": "display_data"
    }
   ],
   "source": [
    "loss_by_sequence['mean'].hist(bins=100)"
   ]
  },
  {
   "cell_type": "code",
   "execution_count": null,
   "metadata": {},
   "outputs": [
    {
     "data": {
      "text/plain": [
       "count    2.143000e+04\n",
       "mean     1.219555e-03\n",
       "std      4.666291e-03\n",
       "min      7.248066e-13\n",
       "25%      4.160796e-05\n",
       "50%      2.115680e-04\n",
       "75%      6.974551e-04\n",
       "max      9.733576e-02\n",
       "Name: mean, dtype: float64"
      ]
     },
     "execution_count": 74,
     "metadata": {},
     "output_type": "execute_result"
    }
   ],
   "source": [
    "loss_by_label['mean'].describe()"
   ]
  },
  {
   "cell_type": "code",
   "execution_count": null,
   "metadata": {},
   "outputs": [
    {
     "data": {
      "image/png": "[encoded data removed]",
      "text/plain": [
       "<Figure size 640x480 with 1 Axes>"
      ]
     },
     "metadata": {},
     "output_type": "display_data"
    }
   ],
   "source": [
    "sns.scatterplot(data=loss_by_label,x='mean',y='AUPRC')\n",
    "plt.yscale('log')"
   ]
  },
  {
   "cell_type": "code",
   "execution_count": null,
   "metadata": {},
   "outputs": [
    {
     "data": {
      "text/html": [
       "<div>\n",
       "<style scoped>\n",
       "    .dataframe tbody tr th:only-of-type {\n",
       "        vertical-align: middle;\n",
       "    }\n",
       "\n",
       "    .dataframe tbody tr th {\n",
       "        vertical-align: top;\n",
       "    }\n",
       "\n",
       "    .dataframe thead th {\n",
       "        text-align: right;\n",
       "    }\n",
       "</style>\n",
       "<table border=\"1\" class=\"dataframe\">\n",
       "  <thead>\n",
       "    <tr style=\"text-align: right;\">\n",
       "      <th></th>\n",
       "      <th>mean</th>\n",
       "      <th>median</th>\n",
       "      <th>label</th>\n",
       "      <th>AUPRC</th>\n",
       "      <th>Frequency</th>\n",
       "      <th>Frequency Bin</th>\n",
       "    </tr>\n",
       "  </thead>\n",
       "  <tbody>\n",
       "    <tr>\n",
       "      <th>GO:0018894</th>\n",
       "      <td>2.107442e-03</td>\n",
       "      <td>0.000000e+00</td>\n",
       "      <td>the chemical reactions and pathways involving ...</td>\n",
       "      <td>0.000023</td>\n",
       "      <td>18.0</td>\n",
       "      <td>(14.0, 25.0]</td>\n",
       "    </tr>\n",
       "    <tr>\n",
       "      <th>GO:0033195</th>\n",
       "      <td>1.297307e-03</td>\n",
       "      <td>1.694066e-21</td>\n",
       "      <td>any process that results in a change in state ...</td>\n",
       "      <td>0.000023</td>\n",
       "      <td>1.0</td>\n",
       "      <td>(0.0, 3.0]</td>\n",
       "    </tr>\n",
       "    <tr>\n",
       "      <th>GO:0021794</th>\n",
       "      <td>8.668663e-04</td>\n",
       "      <td>0.000000e+00</td>\n",
       "      <td>the process in which the thalamus changes over...</td>\n",
       "      <td>0.000025</td>\n",
       "      <td>32.0</td>\n",
       "      <td>(25.0, 48.0]</td>\n",
       "    </tr>\n",
       "    <tr>\n",
       "      <th>GO:0035805</th>\n",
       "      <td>6.822970e-04</td>\n",
       "      <td>1.694066e-21</td>\n",
       "      <td>a specialized extracellular matrix that surrou...</td>\n",
       "      <td>0.000027</td>\n",
       "      <td>4.0</td>\n",
       "      <td>(3.0, 5.0]</td>\n",
       "    </tr>\n",
       "    <tr>\n",
       "      <th>GO:0051882</th>\n",
       "      <td>5.146728e-04</td>\n",
       "      <td>6.087953e-17</td>\n",
       "      <td>the process in which the potential difference ...</td>\n",
       "      <td>0.000027</td>\n",
       "      <td>8.0</td>\n",
       "      <td>(5.0, 8.0]</td>\n",
       "    </tr>\n",
       "    <tr>\n",
       "      <th>...</th>\n",
       "      <td>...</td>\n",
       "      <td>...</td>\n",
       "      <td>...</td>\n",
       "      <td>...</td>\n",
       "      <td>...</td>\n",
       "      <td>...</td>\n",
       "    </tr>\n",
       "    <tr>\n",
       "      <th>GO:0098951</th>\n",
       "      <td>2.532424e-07</td>\n",
       "      <td>0.000000e+00</td>\n",
       "      <td>the component of the postsynaptic recycling en...</td>\n",
       "      <td>1.000000</td>\n",
       "      <td>5.0</td>\n",
       "      <td>(3.0, 5.0]</td>\n",
       "    </tr>\n",
       "    <tr>\n",
       "      <th>GO:0098949</th>\n",
       "      <td>1.681292e-07</td>\n",
       "      <td>0.000000e+00</td>\n",
       "      <td>the component of the postsynaptic endosome mem...</td>\n",
       "      <td>1.000000</td>\n",
       "      <td>5.0</td>\n",
       "      <td>(3.0, 5.0]</td>\n",
       "    </tr>\n",
       "    <tr>\n",
       "      <th>GO:0009045</th>\n",
       "      <td>7.652585e-06</td>\n",
       "      <td>0.000000e+00</td>\n",
       "      <td>catalysis of the reaction: d-xylose = d-xylulose.</td>\n",
       "      <td>1.000000</td>\n",
       "      <td>157.0</td>\n",
       "      <td>(109.0, 383.0]</td>\n",
       "    </tr>\n",
       "    <tr>\n",
       "      <th>GO:0061673</th>\n",
       "      <td>8.529397e-06</td>\n",
       "      <td>0.000000e+00</td>\n",
       "      <td>any of the mitotic spindle microtubules that r...</td>\n",
       "      <td>1.000000</td>\n",
       "      <td>19.0</td>\n",
       "      <td>(14.0, 25.0]</td>\n",
       "    </tr>\n",
       "    <tr>\n",
       "      <th>GO:0061100</th>\n",
       "      <td>1.598046e-09</td>\n",
       "      <td>0.000000e+00</td>\n",
       "      <td>the process in which a relatively unspecialize...</td>\n",
       "      <td>1.000000</td>\n",
       "      <td>2.0</td>\n",
       "      <td>(0.0, 3.0]</td>\n",
       "    </tr>\n",
       "  </tbody>\n",
       "</table>\n",
       "<p>21430 rows × 6 columns</p>\n",
       "</div>"
      ],
      "text/plain": [
       "                    mean        median  \\\n",
       "GO:0018894  2.107442e-03  0.000000e+00   \n",
       "GO:0033195  1.297307e-03  1.694066e-21   \n",
       "GO:0021794  8.668663e-04  0.000000e+00   \n",
       "GO:0035805  6.822970e-04  1.694066e-21   \n",
       "GO:0051882  5.146728e-04  6.087953e-17   \n",
       "...                  ...           ...   \n",
       "GO:0098951  2.532424e-07  0.000000e+00   \n",
       "GO:0098949  1.681292e-07  0.000000e+00   \n",
       "GO:0009045  7.652585e-06  0.000000e+00   \n",
       "GO:0061673  8.529397e-06  0.000000e+00   \n",
       "GO:0061100  1.598046e-09  0.000000e+00   \n",
       "\n",
       "                                                        label     AUPRC  \\\n",
       "GO:0018894  the chemical reactions and pathways involving ...  0.000023   \n",
       "GO:0033195  any process that results in a change in state ...  0.000023   \n",
       "GO:0021794  the process in which the thalamus changes over...  0.000025   \n",
       "GO:0035805  a specialized extracellular matrix that surrou...  0.000027   \n",
       "GO:0051882  the process in which the potential difference ...  0.000027   \n",
       "...                                                       ...       ...   \n",
       "GO:0098951  the component of the postsynaptic recycling en...  1.000000   \n",
       "GO:0098949  the component of the postsynaptic endosome mem...  1.000000   \n",
       "GO:0009045  catalysis of the reaction: d-xylose = d-xylulose.  1.000000   \n",
       "GO:0061673  any of the mitotic spindle microtubules that r...  1.000000   \n",
       "GO:0061100  the process in which a relatively unspecialize...  1.000000   \n",
       "\n",
       "            Frequency   Frequency Bin  \n",
       "GO:0018894       18.0    (14.0, 25.0]  \n",
       "GO:0033195        1.0      (0.0, 3.0]  \n",
       "GO:0021794       32.0    (25.0, 48.0]  \n",
       "GO:0035805        4.0      (3.0, 5.0]  \n",
       "GO:0051882        8.0      (5.0, 8.0]  \n",
       "...               ...             ...  \n",
       "GO:0098951        5.0      (3.0, 5.0]  \n",
       "GO:0098949        5.0      (3.0, 5.0]  \n",
       "GO:0009045      157.0  (109.0, 383.0]  \n",
       "GO:0061673       19.0    (14.0, 25.0]  \n",
       "GO:0061100        2.0      (0.0, 3.0]  \n",
       "\n",
       "[21430 rows x 6 columns]"
      ]
     },
     "execution_count": 33,
     "metadata": {},
     "output_type": "execute_result"
    }
   ],
   "source": [
    "loss_by_label.sort_values(by='AUPRC',ascending=True)"
   ]
  },
  {
   "cell_type": "code",
   "execution_count": null,
   "metadata": {},
   "outputs": [
    {
     "name": "stderr",
     "output_type": "stream",
     "text": [
      "/tmp/ipykernel_2854353/1542846960.py:1: FutureWarning: The default of observed=False is deprecated and will be changed to True in a future version of pandas. Pass observed=False to retain current behavior or observed=True to adopt the future default and silence this warning.\n",
      "  loss_by_label.groupby('Frequency Bin')[['mean','median','AUPRC']].mean()\n"
     ]
    },
    {
     "data": {
      "text/html": [
       "<div>\n",
       "<style scoped>\n",
       "    .dataframe tbody tr th:only-of-type {\n",
       "        vertical-align: middle;\n",
       "    }\n",
       "\n",
       "    .dataframe tbody tr th {\n",
       "        vertical-align: top;\n",
       "    }\n",
       "\n",
       "    .dataframe thead th {\n",
       "        text-align: right;\n",
       "    }\n",
       "</style>\n",
       "<table border=\"1\" class=\"dataframe\">\n",
       "  <thead>\n",
       "    <tr style=\"text-align: right;\">\n",
       "      <th></th>\n",
       "      <th>mean</th>\n",
       "      <th>median</th>\n",
       "      <th>AUPRC</th>\n",
       "    </tr>\n",
       "    <tr>\n",
       "      <th>Frequency Bin</th>\n",
       "      <th></th>\n",
       "      <th></th>\n",
       "      <th></th>\n",
       "    </tr>\n",
       "  </thead>\n",
       "  <tbody>\n",
       "    <tr>\n",
       "      <th>(0.0, 3.0]</th>\n",
       "      <td>0.000147</td>\n",
       "      <td>2.385207e-16</td>\n",
       "      <td>0.478933</td>\n",
       "    </tr>\n",
       "    <tr>\n",
       "      <th>(3.0, 5.0]</th>\n",
       "      <td>0.000132</td>\n",
       "      <td>1.677594e-16</td>\n",
       "      <td>0.548990</td>\n",
       "    </tr>\n",
       "    <tr>\n",
       "      <th>(5.0, 8.0]</th>\n",
       "      <td>0.000120</td>\n",
       "      <td>1.380560e-14</td>\n",
       "      <td>0.578740</td>\n",
       "    </tr>\n",
       "    <tr>\n",
       "      <th>(8.0, 14.0]</th>\n",
       "      <td>0.000142</td>\n",
       "      <td>9.842679e-15</td>\n",
       "      <td>0.564338</td>\n",
       "    </tr>\n",
       "    <tr>\n",
       "      <th>(14.0, 25.0]</th>\n",
       "      <td>0.000180</td>\n",
       "      <td>1.431132e-13</td>\n",
       "      <td>0.558794</td>\n",
       "    </tr>\n",
       "    <tr>\n",
       "      <th>(25.0, 48.0]</th>\n",
       "      <td>0.000246</td>\n",
       "      <td>1.742332e-11</td>\n",
       "      <td>0.576597</td>\n",
       "    </tr>\n",
       "    <tr>\n",
       "      <th>(48.0, 109.0]</th>\n",
       "      <td>0.000444</td>\n",
       "      <td>1.105453e-11</td>\n",
       "      <td>0.577686</td>\n",
       "    </tr>\n",
       "    <tr>\n",
       "      <th>(109.0, 383.0]</th>\n",
       "      <td>0.000913</td>\n",
       "      <td>1.018724e-11</td>\n",
       "      <td>0.640943</td>\n",
       "    </tr>\n",
       "    <tr>\n",
       "      <th>(383.0, 369909.0]</th>\n",
       "      <td>0.006323</td>\n",
       "      <td>2.650965e-07</td>\n",
       "      <td>0.769790</td>\n",
       "    </tr>\n",
       "  </tbody>\n",
       "</table>\n",
       "</div>"
      ],
      "text/plain": [
       "                       mean        median     AUPRC\n",
       "Frequency Bin                                      \n",
       "(0.0, 3.0]         0.000147  2.385207e-16  0.478933\n",
       "(3.0, 5.0]         0.000132  1.677594e-16  0.548990\n",
       "(5.0, 8.0]         0.000120  1.380560e-14  0.578740\n",
       "(8.0, 14.0]        0.000142  9.842679e-15  0.564338\n",
       "(14.0, 25.0]       0.000180  1.431132e-13  0.558794\n",
       "(25.0, 48.0]       0.000246  1.742332e-11  0.576597\n",
       "(48.0, 109.0]      0.000444  1.105453e-11  0.577686\n",
       "(109.0, 383.0]     0.000913  1.018724e-11  0.640943\n",
       "(383.0, 369909.0]  0.006323  2.650965e-07  0.769790"
      ]
     },
     "execution_count": 34,
     "metadata": {},
     "output_type": "execute_result"
    }
   ],
   "source": [
    "loss_by_label.groupby('Frequency Bin')[['mean','median','AUPRC']].mean()"
   ]
  },
  {
   "cell_type": "code",
   "execution_count": null,
   "metadata": {},
   "outputs": [
    {
     "data": {
      "text/html": [
       "<div>\n",
       "<style scoped>\n",
       "    .dataframe tbody tr th:only-of-type {\n",
       "        vertical-align: middle;\n",
       "    }\n",
       "\n",
       "    .dataframe tbody tr th {\n",
       "        vertical-align: top;\n",
       "    }\n",
       "\n",
       "    .dataframe thead th {\n",
       "        text-align: right;\n",
       "    }\n",
       "</style>\n",
       "<table border=\"1\" class=\"dataframe\">\n",
       "  <thead>\n",
       "    <tr style=\"text-align: right;\">\n",
       "      <th></th>\n",
       "      <th>Frequency</th>\n",
       "      <th>AUPRC</th>\n",
       "    </tr>\n",
       "  </thead>\n",
       "  <tbody>\n",
       "    <tr>\n",
       "      <th>Frequency</th>\n",
       "      <td>1.000000</td>\n",
       "      <td>0.090163</td>\n",
       "    </tr>\n",
       "    <tr>\n",
       "      <th>AUPRC</th>\n",
       "      <td>0.090163</td>\n",
       "      <td>1.000000</td>\n",
       "    </tr>\n",
       "  </tbody>\n",
       "</table>\n",
       "</div>"
      ],
      "text/plain": [
       "           Frequency     AUPRC\n",
       "Frequency   1.000000  0.090163\n",
       "AUPRC       0.090163  1.000000"
      ]
     },
     "execution_count": 35,
     "metadata": {},
     "output_type": "execute_result"
    }
   ],
   "source": [
    "loss_by_label[['Frequency','AUPRC']].corr()"
   ]
  },
  {
   "cell_type": "code",
   "execution_count": null,
   "metadata": {},
   "outputs": [],
   "source": [
    "ours_val_fl_df_melt = ours_val_fl_df.melt(ignore_index=False,var_name='label',value_name='mean_loss')"
   ]
  },
  {
   "cell_type": "code",
   "execution_count": null,
   "metadata": {},
   "outputs": [],
   "source": [
    "ours_val_fl_df_melt = ours_val_fl_df_melt.sort_values(by='mean_loss',ascending=False)"
   ]
  },
  {
   "cell_type": "code",
   "execution_count": null,
   "metadata": {},
   "outputs": [
    {
     "data": {
      "text/plain": [
       "P84025    288\n",
       "Q9D906    255\n",
       "P0DJG1    253\n",
       "P62979    250\n",
       "P42160    235\n",
       "         ... \n",
       "B0BNG2      1\n",
       "Q86WD7      1\n",
       "P14480      1\n",
       "Q80XF7      1\n",
       "Q9PLP9      1\n",
       "Name: count, Length: 7766, dtype: int64"
      ]
     },
     "execution_count": 45,
     "metadata": {},
     "output_type": "execute_result"
    }
   ],
   "source": [
    "ours_val_fl_df_melt.head(100000).index.value_counts()"
   ]
  },
  {
   "cell_type": "code",
   "execution_count": null,
   "metadata": {},
   "outputs": [
    {
     "data": {
      "text/plain": [
       "GO:0000001     0.000000\n",
       "GO:0060366     0.000000\n",
       "GO:0060365     0.000000\n",
       "GO:0060364     0.000000\n",
       "GO:0060363     0.000000\n",
       "                ...    \n",
       "GO:0010811    11.202832\n",
       "GO:0010720    11.820147\n",
       "GO:1900024    13.609342\n",
       "GO:0010770    14.351546\n",
       "GO:1900026    15.171867\n",
       "Name: P0DJG1, Length: 32102, dtype: float32"
      ]
     },
     "execution_count": 52,
     "metadata": {},
     "output_type": "execute_result"
    }
   ],
   "source": [
    "ours_val_fl_df.loc['P0DJG1'].sort_values()"
   ]
  },
  {
   "cell_type": "code",
   "execution_count": null,
   "metadata": {},
   "outputs": [
    {
     "data": {
      "text/plain": [
       "33"
      ]
     },
     "execution_count": 53,
     "metadata": {},
     "output_type": "execute_result"
    }
   ],
   "source": [
    "val_labels.loc['P0DJG1'].sort_values().sum()"
   ]
  },
  {
   "cell_type": "code",
   "execution_count": null,
   "metadata": {},
   "outputs": [],
   "source": [
    "train_unrepresented_labels = set(val_labels.columns) - set(go_term_distribution.index)"
   ]
  },
  {
   "cell_type": "code",
   "execution_count": null,
   "metadata": {},
   "outputs": [],
   "source": [
    "train_unrepresented_labels"
   ]
  },
  {
   "cell_type": "code",
   "execution_count": null,
   "metadata": {},
   "outputs": [
    {
     "data": {
      "text/plain": [
       "(21430, 6)"
      ]
     },
     "execution_count": 69,
     "metadata": {},
     "output_type": "execute_result"
    }
   ],
   "source": [
    "loss_by_label.shape"
   ]
  },
  {
   "cell_type": "code",
   "execution_count": null,
   "metadata": {},
   "outputs": [
    {
     "ename": "KeyError",
     "evalue": "\"None of [Index(['GO:0052231', 'GO:0046595', 'GO:0052191', 'GO:1903040', 'GO:0018530',\\n       'GO:1905306', 'GO:0042848', 'GO:0051470', 'GO:0097627', 'GO:1990596',\\n       ...\\n       'GO:0031774', 'GO:0072552', 'GO:0030772', 'GO:0044619', 'GO:2001194',\\n       'GO:0052371', 'GO:1900000', 'GO:0033820', 'GO:0060858', 'GO:0080185'],\\n      dtype='object', length=737)] are in the [index]\"",
     "output_type": "error",
     "traceback": [
      "\u001b[0;31m---------------------------------------------------------------------------\u001b[0m",
      "\u001b[0;31mKeyError\u001b[0m                                  Traceback (most recent call last)",
      "Cell \u001b[0;32mIn[68], line 1\u001b[0m\n\u001b[0;32m----> 1\u001b[0m \u001b[43mloss_by_label\u001b[49m\u001b[38;5;241;43m.\u001b[39;49m\u001b[43mloc\u001b[49m\u001b[43m[\u001b[49m\u001b[38;5;28;43mlist\u001b[39;49m\u001b[43m(\u001b[49m\u001b[43mtrain_unrepresented_labels\u001b[49m\u001b[43m)\u001b[49m\u001b[43m]\u001b[49m\n",
      "File \u001b[0;32m~/.local/lib/python3.10/site-packages/pandas/core/indexing.py:1153\u001b[0m, in \u001b[0;36m_LocationIndexer.__getitem__\u001b[0;34m(self, key)\u001b[0m\n\u001b[1;32m   1150\u001b[0m axis \u001b[38;5;241m=\u001b[39m \u001b[38;5;28mself\u001b[39m\u001b[38;5;241m.\u001b[39maxis \u001b[38;5;129;01mor\u001b[39;00m \u001b[38;5;241m0\u001b[39m\n\u001b[1;32m   1152\u001b[0m maybe_callable \u001b[38;5;241m=\u001b[39m com\u001b[38;5;241m.\u001b[39mapply_if_callable(key, \u001b[38;5;28mself\u001b[39m\u001b[38;5;241m.\u001b[39mobj)\n\u001b[0;32m-> 1153\u001b[0m \u001b[38;5;28;01mreturn\u001b[39;00m \u001b[38;5;28;43mself\u001b[39;49m\u001b[38;5;241;43m.\u001b[39;49m\u001b[43m_getitem_axis\u001b[49m\u001b[43m(\u001b[49m\u001b[43mmaybe_callable\u001b[49m\u001b[43m,\u001b[49m\u001b[43m \u001b[49m\u001b[43maxis\u001b[49m\u001b[38;5;241;43m=\u001b[39;49m\u001b[43maxis\u001b[49m\u001b[43m)\u001b[49m\n",
      "File \u001b[0;32m~/.local/lib/python3.10/site-packages/pandas/core/indexing.py:1382\u001b[0m, in \u001b[0;36m_LocIndexer._getitem_axis\u001b[0;34m(self, key, axis)\u001b[0m\n\u001b[1;32m   1379\u001b[0m     \u001b[38;5;28;01mif\u001b[39;00m \u001b[38;5;28mhasattr\u001b[39m(key, \u001b[38;5;124m\"\u001b[39m\u001b[38;5;124mndim\u001b[39m\u001b[38;5;124m\"\u001b[39m) \u001b[38;5;129;01mand\u001b[39;00m key\u001b[38;5;241m.\u001b[39mndim \u001b[38;5;241m>\u001b[39m \u001b[38;5;241m1\u001b[39m:\n\u001b[1;32m   1380\u001b[0m         \u001b[38;5;28;01mraise\u001b[39;00m \u001b[38;5;167;01mValueError\u001b[39;00m(\u001b[38;5;124m\"\u001b[39m\u001b[38;5;124mCannot index with multidimensional key\u001b[39m\u001b[38;5;124m\"\u001b[39m)\n\u001b[0;32m-> 1382\u001b[0m     \u001b[38;5;28;01mreturn\u001b[39;00m \u001b[38;5;28;43mself\u001b[39;49m\u001b[38;5;241;43m.\u001b[39;49m\u001b[43m_getitem_iterable\u001b[49m\u001b[43m(\u001b[49m\u001b[43mkey\u001b[49m\u001b[43m,\u001b[49m\u001b[43m \u001b[49m\u001b[43maxis\u001b[49m\u001b[38;5;241;43m=\u001b[39;49m\u001b[43maxis\u001b[49m\u001b[43m)\u001b[49m\n\u001b[1;32m   1384\u001b[0m \u001b[38;5;66;03m# nested tuple slicing\u001b[39;00m\n\u001b[1;32m   1385\u001b[0m \u001b[38;5;28;01mif\u001b[39;00m is_nested_tuple(key, labels):\n",
      "File \u001b[0;32m~/.local/lib/python3.10/site-packages/pandas/core/indexing.py:1322\u001b[0m, in \u001b[0;36m_LocIndexer._getitem_iterable\u001b[0;34m(self, key, axis)\u001b[0m\n\u001b[1;32m   1319\u001b[0m \u001b[38;5;28mself\u001b[39m\u001b[38;5;241m.\u001b[39m_validate_key(key, axis)\n\u001b[1;32m   1321\u001b[0m \u001b[38;5;66;03m# A collection of keys\u001b[39;00m\n\u001b[0;32m-> 1322\u001b[0m keyarr, indexer \u001b[38;5;241m=\u001b[39m \u001b[38;5;28;43mself\u001b[39;49m\u001b[38;5;241;43m.\u001b[39;49m\u001b[43m_get_listlike_indexer\u001b[49m\u001b[43m(\u001b[49m\u001b[43mkey\u001b[49m\u001b[43m,\u001b[49m\u001b[43m \u001b[49m\u001b[43maxis\u001b[49m\u001b[43m)\u001b[49m\n\u001b[1;32m   1323\u001b[0m \u001b[38;5;28;01mreturn\u001b[39;00m \u001b[38;5;28mself\u001b[39m\u001b[38;5;241m.\u001b[39mobj\u001b[38;5;241m.\u001b[39m_reindex_with_indexers(\n\u001b[1;32m   1324\u001b[0m     {axis: [keyarr, indexer]}, copy\u001b[38;5;241m=\u001b[39m\u001b[38;5;28;01mTrue\u001b[39;00m, allow_dups\u001b[38;5;241m=\u001b[39m\u001b[38;5;28;01mTrue\u001b[39;00m\n\u001b[1;32m   1325\u001b[0m )\n",
      "File \u001b[0;32m~/.local/lib/python3.10/site-packages/pandas/core/indexing.py:1520\u001b[0m, in \u001b[0;36m_LocIndexer._get_listlike_indexer\u001b[0;34m(self, key, axis)\u001b[0m\n\u001b[1;32m   1517\u001b[0m ax \u001b[38;5;241m=\u001b[39m \u001b[38;5;28mself\u001b[39m\u001b[38;5;241m.\u001b[39mobj\u001b[38;5;241m.\u001b[39m_get_axis(axis)\n\u001b[1;32m   1518\u001b[0m axis_name \u001b[38;5;241m=\u001b[39m \u001b[38;5;28mself\u001b[39m\u001b[38;5;241m.\u001b[39mobj\u001b[38;5;241m.\u001b[39m_get_axis_name(axis)\n\u001b[0;32m-> 1520\u001b[0m keyarr, indexer \u001b[38;5;241m=\u001b[39m \u001b[43max\u001b[49m\u001b[38;5;241;43m.\u001b[39;49m\u001b[43m_get_indexer_strict\u001b[49m\u001b[43m(\u001b[49m\u001b[43mkey\u001b[49m\u001b[43m,\u001b[49m\u001b[43m \u001b[49m\u001b[43maxis_name\u001b[49m\u001b[43m)\u001b[49m\n\u001b[1;32m   1522\u001b[0m \u001b[38;5;28;01mreturn\u001b[39;00m keyarr, indexer\n",
      "File \u001b[0;32m~/.local/lib/python3.10/site-packages/pandas/core/indexes/base.py:6114\u001b[0m, in \u001b[0;36mIndex._get_indexer_strict\u001b[0;34m(self, key, axis_name)\u001b[0m\n\u001b[1;32m   6111\u001b[0m \u001b[38;5;28;01melse\u001b[39;00m:\n\u001b[1;32m   6112\u001b[0m     keyarr, indexer, new_indexer \u001b[38;5;241m=\u001b[39m \u001b[38;5;28mself\u001b[39m\u001b[38;5;241m.\u001b[39m_reindex_non_unique(keyarr)\n\u001b[0;32m-> 6114\u001b[0m \u001b[38;5;28;43mself\u001b[39;49m\u001b[38;5;241;43m.\u001b[39;49m\u001b[43m_raise_if_missing\u001b[49m\u001b[43m(\u001b[49m\u001b[43mkeyarr\u001b[49m\u001b[43m,\u001b[49m\u001b[43m \u001b[49m\u001b[43mindexer\u001b[49m\u001b[43m,\u001b[49m\u001b[43m \u001b[49m\u001b[43maxis_name\u001b[49m\u001b[43m)\u001b[49m\n\u001b[1;32m   6116\u001b[0m keyarr \u001b[38;5;241m=\u001b[39m \u001b[38;5;28mself\u001b[39m\u001b[38;5;241m.\u001b[39mtake(indexer)\n\u001b[1;32m   6117\u001b[0m \u001b[38;5;28;01mif\u001b[39;00m \u001b[38;5;28misinstance\u001b[39m(key, Index):\n\u001b[1;32m   6118\u001b[0m     \u001b[38;5;66;03m# GH 42790 - Preserve name from an Index\u001b[39;00m\n",
      "File \u001b[0;32m~/.local/lib/python3.10/site-packages/pandas/core/indexes/base.py:6175\u001b[0m, in \u001b[0;36mIndex._raise_if_missing\u001b[0;34m(self, key, indexer, axis_name)\u001b[0m\n\u001b[1;32m   6173\u001b[0m     \u001b[38;5;28;01mif\u001b[39;00m use_interval_msg:\n\u001b[1;32m   6174\u001b[0m         key \u001b[38;5;241m=\u001b[39m \u001b[38;5;28mlist\u001b[39m(key)\n\u001b[0;32m-> 6175\u001b[0m     \u001b[38;5;28;01mraise\u001b[39;00m \u001b[38;5;167;01mKeyError\u001b[39;00m(\u001b[38;5;124mf\u001b[39m\u001b[38;5;124m\"\u001b[39m\u001b[38;5;124mNone of [\u001b[39m\u001b[38;5;132;01m{\u001b[39;00mkey\u001b[38;5;132;01m}\u001b[39;00m\u001b[38;5;124m] are in the [\u001b[39m\u001b[38;5;132;01m{\u001b[39;00maxis_name\u001b[38;5;132;01m}\u001b[39;00m\u001b[38;5;124m]\u001b[39m\u001b[38;5;124m\"\u001b[39m)\n\u001b[1;32m   6177\u001b[0m not_found \u001b[38;5;241m=\u001b[39m \u001b[38;5;28mlist\u001b[39m(ensure_index(key)[missing_mask\u001b[38;5;241m.\u001b[39mnonzero()[\u001b[38;5;241m0\u001b[39m]]\u001b[38;5;241m.\u001b[39munique())\n\u001b[1;32m   6178\u001b[0m \u001b[38;5;28;01mraise\u001b[39;00m \u001b[38;5;167;01mKeyError\u001b[39;00m(\u001b[38;5;124mf\u001b[39m\u001b[38;5;124m\"\u001b[39m\u001b[38;5;132;01m{\u001b[39;00mnot_found\u001b[38;5;132;01m}\u001b[39;00m\u001b[38;5;124m not in index\u001b[39m\u001b[38;5;124m\"\u001b[39m)\n",
      "\u001b[0;31mKeyError\u001b[0m: \"None of [Index(['GO:0052231', 'GO:0046595', 'GO:0052191', 'GO:1903040', 'GO:0018530',\\n       'GO:1905306', 'GO:0042848', 'GO:0051470', 'GO:0097627', 'GO:1990596',\\n       ...\\n       'GO:0031774', 'GO:0072552', 'GO:0030772', 'GO:0044619', 'GO:2001194',\\n       'GO:0052371', 'GO:1900000', 'GO:0033820', 'GO:0060858', 'GO:0080185'],\\n      dtype='object', length=737)] are in the [index]\""
     ]
    }
   ],
   "source": [
    "loss_by_label.loc[list(train_unrepresented_labels)]"
   ]
  },
  {
   "cell_type": "markdown",
   "metadata": {},
   "source": [
    "Other stuff"
   ]
  },
  {
   "cell_type": "code",
   "execution_count": null,
   "metadata": {},
   "outputs": [
    {
     "name": "stderr",
     "output_type": "stream",
     "text": [
      "/anaconda/envs/protein_functions_310/lib/python3.10/site-packages/torchmetrics/utilities/prints.py:43: UserWarning: Average precision score for one or more classes was `nan`. Ignoring these classes in macro-average\n",
      "  warnings.warn(*args, **kwargs)  # noqa: B028\n"
     ]
    }
   ],
   "source": [
    "\n",
    "\n",
    "ground_truth = torch.tensor(val_labels.values)\n",
    "preds = torch.tensor(val_probabilities.values)\n",
    "sp = AveragePrecision(task=\"multilabel\",num_labels=val_labels.shape[-1],average='macro').to('cuda')(preds,ground_truth).item()\n",
    "\n",
    "ground_truth = torch.tensor(val_labels[items].values)\n",
    "preds = torch.tensor(val_probabilities[items].values)\n",
    "APMicro = AveragePrecision(task=\"multilabel\",num_labels=len(items),average='micro').to('cuda')(preds,ground_truth).item()"
   ]
  },
  {
   "cell_type": "code",
   "execution_count": null,
   "metadata": {},
   "outputs": [],
   "source": [
    "val_logits_t = torch.tensor(val_logits.values)\n",
    "val_labels_t = torch.tensor(val_labels.values).float()\n",
    "val_probabilities_t = torch.sigmoid(val_logits_t)\n",
    "\n",
    "val_probabilities = pd.DataFrame(val_probabilities_t.numpy(),columns=val_logits.columns,index=val_logits.index)"
   ]
  },
  {
   "cell_type": "code",
   "execution_count": null,
   "metadata": {},
   "outputs": [
    {
     "name": "stderr",
     "output_type": "stream",
     "text": [
      "100%|██████████| 2179/2179 [00:10<00:00, 204.37it/s]\n"
     ]
    }
   ],
   "source": [
    "#Define threshold to calculate threshold-dependent metrics otherwise only threshold-agnostic metrics are calculated\n",
    "\n",
    "threshold = 0.5\n",
    "res=metrics_per_label_df(val_labels,val_probabilities,device='cuda',threshold=threshold)"
   ]
  },
  {
   "cell_type": "code",
   "execution_count": null,
   "metadata": {},
   "outputs": [
    {
     "data": {
      "text/plain": [
       "0.2610842891522143"
      ]
     },
     "execution_count": 24,
     "metadata": {},
     "output_type": "execute_result"
    }
   ],
   "source": [
    "res['AUPRC'].mean()"
   ]
  },
  {
   "cell_type": "code",
   "execution_count": null,
   "metadata": {},
   "outputs": [
    {
     "ename": "OutOfMemoryError",
     "evalue": "CUDA out of memory. Tried to allocate 4.53 GiB (GPU 0; 79.10 GiB total capacity; 73.60 GiB already allocated; 4.21 GiB free; 73.96 GiB reserved in total by PyTorch) If reserved memory is >> allocated memory try setting max_split_size_mb to avoid fragmentation.  See documentation for Memory Management and PYTORCH_CUDA_ALLOC_CONF",
     "output_type": "error",
     "traceback": [
      "\u001b[0;31m---------------------------------------------------------------------------\u001b[0m",
      "\u001b[0;31mOutOfMemoryError\u001b[0m                          Traceback (most recent call last)",
      "Cell \u001b[0;32mIn[6], line 3\u001b[0m\n\u001b[1;32m      1\u001b[0m ground_truth \u001b[38;5;241m=\u001b[39m torch\u001b[38;5;241m.\u001b[39mtensor(val_labels\u001b[38;5;241m.\u001b[39mvalues,device\u001b[38;5;241m=\u001b[39m\u001b[38;5;124m'\u001b[39m\u001b[38;5;124mcuda\u001b[39m\u001b[38;5;124m'\u001b[39m)\n\u001b[1;32m      2\u001b[0m preds \u001b[38;5;241m=\u001b[39m torch\u001b[38;5;241m.\u001b[39mtensor(val_probabilities\u001b[38;5;241m.\u001b[39mvalues,device\u001b[38;5;241m=\u001b[39m\u001b[38;5;124m'\u001b[39m\u001b[38;5;124mcuda\u001b[39m\u001b[38;5;124m'\u001b[39m)\n\u001b[0;32m----> 3\u001b[0m APMicro \u001b[38;5;241m=\u001b[39m \u001b[43mAveragePrecision\u001b[49m\u001b[43m(\u001b[49m\u001b[43mtask\u001b[49m\u001b[38;5;241;43m=\u001b[39;49m\u001b[38;5;124;43m\"\u001b[39;49m\u001b[38;5;124;43mmultilabel\u001b[39;49m\u001b[38;5;124;43m\"\u001b[39;49m\u001b[43m,\u001b[49m\n\u001b[1;32m      4\u001b[0m \u001b[43m                           \u001b[49m\u001b[43mnum_labels\u001b[49m\u001b[38;5;241;43m=\u001b[39;49m\u001b[43mpreds\u001b[49m\u001b[38;5;241;43m.\u001b[39;49m\u001b[43mshape\u001b[49m\u001b[43m[\u001b[49m\u001b[38;5;241;43m1\u001b[39;49m\u001b[43m]\u001b[49m\u001b[43m,\u001b[49m\n\u001b[1;32m      5\u001b[0m \u001b[43m                           \u001b[49m\u001b[43maverage\u001b[49m\u001b[38;5;241;43m=\u001b[39;49m\u001b[38;5;124;43m'\u001b[39;49m\u001b[38;5;124;43mmicro\u001b[39;49m\u001b[38;5;124;43m'\u001b[39;49m\u001b[43m,\u001b[49m\n\u001b[1;32m      6\u001b[0m \u001b[43m                           \u001b[49m\u001b[43mthresholds\u001b[49m\u001b[38;5;241;43m=\u001b[39;49m\u001b[38;5;241;43m50\u001b[39;49m\u001b[43m)\u001b[49m\u001b[38;5;241;43m.\u001b[39;49m\u001b[43mto\u001b[49m\u001b[43m(\u001b[49m\u001b[38;5;124;43m'\u001b[39;49m\u001b[38;5;124;43mcuda\u001b[39;49m\u001b[38;5;124;43m'\u001b[39;49m\u001b[43m)\u001b[49m\u001b[43m(\u001b[49m\u001b[43mpreds\u001b[49m\u001b[43m,\u001b[49m\u001b[43mground_truth\u001b[49m\u001b[43m)\u001b[49m\u001b[38;5;241m.\u001b[39mitem()\n",
      "File \u001b[0;32m/anaconda/envs/protein_functions_310/lib/python3.10/site-packages/torch/nn/modules/module.py:1501\u001b[0m, in \u001b[0;36mModule._call_impl\u001b[0;34m(self, *args, **kwargs)\u001b[0m\n\u001b[1;32m   1496\u001b[0m \u001b[38;5;66;03m# If we don't have any hooks, we want to skip the rest of the logic in\u001b[39;00m\n\u001b[1;32m   1497\u001b[0m \u001b[38;5;66;03m# this function, and just call forward.\u001b[39;00m\n\u001b[1;32m   1498\u001b[0m \u001b[38;5;28;01mif\u001b[39;00m \u001b[38;5;129;01mnot\u001b[39;00m (\u001b[38;5;28mself\u001b[39m\u001b[38;5;241m.\u001b[39m_backward_hooks \u001b[38;5;129;01mor\u001b[39;00m \u001b[38;5;28mself\u001b[39m\u001b[38;5;241m.\u001b[39m_backward_pre_hooks \u001b[38;5;129;01mor\u001b[39;00m \u001b[38;5;28mself\u001b[39m\u001b[38;5;241m.\u001b[39m_forward_hooks \u001b[38;5;129;01mor\u001b[39;00m \u001b[38;5;28mself\u001b[39m\u001b[38;5;241m.\u001b[39m_forward_pre_hooks\n\u001b[1;32m   1499\u001b[0m         \u001b[38;5;129;01mor\u001b[39;00m _global_backward_pre_hooks \u001b[38;5;129;01mor\u001b[39;00m _global_backward_hooks\n\u001b[1;32m   1500\u001b[0m         \u001b[38;5;129;01mor\u001b[39;00m _global_forward_hooks \u001b[38;5;129;01mor\u001b[39;00m _global_forward_pre_hooks):\n\u001b[0;32m-> 1501\u001b[0m     \u001b[38;5;28;01mreturn\u001b[39;00m \u001b[43mforward_call\u001b[49m\u001b[43m(\u001b[49m\u001b[38;5;241;43m*\u001b[39;49m\u001b[43margs\u001b[49m\u001b[43m,\u001b[49m\u001b[43m \u001b[49m\u001b[38;5;241;43m*\u001b[39;49m\u001b[38;5;241;43m*\u001b[39;49m\u001b[43mkwargs\u001b[49m\u001b[43m)\u001b[49m\n\u001b[1;32m   1502\u001b[0m \u001b[38;5;66;03m# Do not call functions when jit is used\u001b[39;00m\n\u001b[1;32m   1503\u001b[0m full_backward_hooks, non_full_backward_hooks \u001b[38;5;241m=\u001b[39m [], []\n",
      "File \u001b[0;32m/anaconda/envs/protein_functions_310/lib/python3.10/site-packages/torchmetrics/metric.py:298\u001b[0m, in \u001b[0;36mMetric.forward\u001b[0;34m(self, *args, **kwargs)\u001b[0m\n\u001b[1;32m    296\u001b[0m     \u001b[38;5;28mself\u001b[39m\u001b[38;5;241m.\u001b[39m_forward_cache \u001b[38;5;241m=\u001b[39m \u001b[38;5;28mself\u001b[39m\u001b[38;5;241m.\u001b[39m_forward_full_state_update(\u001b[38;5;241m*\u001b[39margs, \u001b[38;5;241m*\u001b[39m\u001b[38;5;241m*\u001b[39mkwargs)\n\u001b[1;32m    297\u001b[0m \u001b[38;5;28;01melse\u001b[39;00m:\n\u001b[0;32m--> 298\u001b[0m     \u001b[38;5;28mself\u001b[39m\u001b[38;5;241m.\u001b[39m_forward_cache \u001b[38;5;241m=\u001b[39m \u001b[38;5;28;43mself\u001b[39;49m\u001b[38;5;241;43m.\u001b[39;49m\u001b[43m_forward_reduce_state_update\u001b[49m\u001b[43m(\u001b[49m\u001b[38;5;241;43m*\u001b[39;49m\u001b[43margs\u001b[49m\u001b[43m,\u001b[49m\u001b[43m \u001b[49m\u001b[38;5;241;43m*\u001b[39;49m\u001b[38;5;241;43m*\u001b[39;49m\u001b[43mkwargs\u001b[49m\u001b[43m)\u001b[49m\n\u001b[1;32m    300\u001b[0m \u001b[38;5;28;01mreturn\u001b[39;00m \u001b[38;5;28mself\u001b[39m\u001b[38;5;241m.\u001b[39m_forward_cache\n",
      "File \u001b[0;32m/anaconda/envs/protein_functions_310/lib/python3.10/site-packages/torchmetrics/metric.py:367\u001b[0m, in \u001b[0;36mMetric._forward_reduce_state_update\u001b[0;34m(self, *args, **kwargs)\u001b[0m\n\u001b[1;32m    364\u001b[0m \u001b[38;5;28mself\u001b[39m\u001b[38;5;241m.\u001b[39m_enable_grad \u001b[38;5;241m=\u001b[39m \u001b[38;5;28;01mTrue\u001b[39;00m  \u001b[38;5;66;03m# allow grads for batch computation\u001b[39;00m\n\u001b[1;32m    366\u001b[0m \u001b[38;5;66;03m# calculate batch state and compute batch value\u001b[39;00m\n\u001b[0;32m--> 367\u001b[0m \u001b[38;5;28;43mself\u001b[39;49m\u001b[38;5;241;43m.\u001b[39;49m\u001b[43mupdate\u001b[49m\u001b[43m(\u001b[49m\u001b[38;5;241;43m*\u001b[39;49m\u001b[43margs\u001b[49m\u001b[43m,\u001b[49m\u001b[43m \u001b[49m\u001b[38;5;241;43m*\u001b[39;49m\u001b[38;5;241;43m*\u001b[39;49m\u001b[43mkwargs\u001b[49m\u001b[43m)\u001b[49m\n\u001b[1;32m    368\u001b[0m batch_val \u001b[38;5;241m=\u001b[39m \u001b[38;5;28mself\u001b[39m\u001b[38;5;241m.\u001b[39mcompute()\n\u001b[1;32m    370\u001b[0m \u001b[38;5;66;03m# reduce batch and global state\u001b[39;00m\n",
      "File \u001b[0;32m/anaconda/envs/protein_functions_310/lib/python3.10/site-packages/torchmetrics/metric.py:467\u001b[0m, in \u001b[0;36mMetric._wrap_update.<locals>.wrapped_func\u001b[0;34m(*args, **kwargs)\u001b[0m\n\u001b[1;32m    459\u001b[0m         \u001b[38;5;28;01mif\u001b[39;00m \u001b[38;5;124m\"\u001b[39m\u001b[38;5;124mExpected all tensors to be on\u001b[39m\u001b[38;5;124m\"\u001b[39m \u001b[38;5;129;01min\u001b[39;00m \u001b[38;5;28mstr\u001b[39m(err):\n\u001b[1;32m    460\u001b[0m             \u001b[38;5;28;01mraise\u001b[39;00m \u001b[38;5;167;01mRuntimeError\u001b[39;00m(\n\u001b[1;32m    461\u001b[0m                 \u001b[38;5;124m\"\u001b[39m\u001b[38;5;124mEncountered different devices in metric calculation (see stacktrace for details).\u001b[39m\u001b[38;5;124m\"\u001b[39m\n\u001b[1;32m    462\u001b[0m                 \u001b[38;5;124m\"\u001b[39m\u001b[38;5;124m This could be due to the metric class not being on the same device as input.\u001b[39m\u001b[38;5;124m\"\u001b[39m\n\u001b[0;32m   (...)\u001b[0m\n\u001b[1;32m    465\u001b[0m                 \u001b[38;5;124m\"\u001b[39m\u001b[38;5;124m device corresponds to the device of the input.\u001b[39m\u001b[38;5;124m\"\u001b[39m\n\u001b[1;32m    466\u001b[0m             ) \u001b[38;5;28;01mfrom\u001b[39;00m \u001b[38;5;21;01merr\u001b[39;00m\n\u001b[0;32m--> 467\u001b[0m         \u001b[38;5;28;01mraise\u001b[39;00m err\n\u001b[1;32m    469\u001b[0m \u001b[38;5;28;01mif\u001b[39;00m \u001b[38;5;28mself\u001b[39m\u001b[38;5;241m.\u001b[39mcompute_on_cpu:\n\u001b[1;32m    470\u001b[0m     \u001b[38;5;28mself\u001b[39m\u001b[38;5;241m.\u001b[39m_move_list_states_to_cpu()\n",
      "File \u001b[0;32m/anaconda/envs/protein_functions_310/lib/python3.10/site-packages/torchmetrics/metric.py:457\u001b[0m, in \u001b[0;36mMetric._wrap_update.<locals>.wrapped_func\u001b[0;34m(*args, **kwargs)\u001b[0m\n\u001b[1;32m    455\u001b[0m \u001b[38;5;28;01mwith\u001b[39;00m torch\u001b[38;5;241m.\u001b[39mset_grad_enabled(\u001b[38;5;28mself\u001b[39m\u001b[38;5;241m.\u001b[39m_enable_grad):\n\u001b[1;32m    456\u001b[0m     \u001b[38;5;28;01mtry\u001b[39;00m:\n\u001b[0;32m--> 457\u001b[0m         \u001b[43mupdate\u001b[49m\u001b[43m(\u001b[49m\u001b[38;5;241;43m*\u001b[39;49m\u001b[43margs\u001b[49m\u001b[43m,\u001b[49m\u001b[43m \u001b[49m\u001b[38;5;241;43m*\u001b[39;49m\u001b[38;5;241;43m*\u001b[39;49m\u001b[43mkwargs\u001b[49m\u001b[43m)\u001b[49m\n\u001b[1;32m    458\u001b[0m     \u001b[38;5;28;01mexcept\u001b[39;00m \u001b[38;5;167;01mRuntimeError\u001b[39;00m \u001b[38;5;28;01mas\u001b[39;00m err:\n\u001b[1;32m    459\u001b[0m         \u001b[38;5;28;01mif\u001b[39;00m \u001b[38;5;124m\"\u001b[39m\u001b[38;5;124mExpected all tensors to be on\u001b[39m\u001b[38;5;124m\"\u001b[39m \u001b[38;5;129;01min\u001b[39;00m \u001b[38;5;28mstr\u001b[39m(err):\n",
      "File \u001b[0;32m/anaconda/envs/protein_functions_310/lib/python3.10/site-packages/torchmetrics/classification/precision_recall_curve.py:537\u001b[0m, in \u001b[0;36mMultilabelPrecisionRecallCurve.update\u001b[0;34m(self, preds, target)\u001b[0m\n\u001b[1;32m    533\u001b[0m     _multilabel_precision_recall_curve_tensor_validation(preds, target, \u001b[38;5;28mself\u001b[39m\u001b[38;5;241m.\u001b[39mnum_labels, \u001b[38;5;28mself\u001b[39m\u001b[38;5;241m.\u001b[39mignore_index)\n\u001b[1;32m    534\u001b[0m preds, target, _ \u001b[38;5;241m=\u001b[39m _multilabel_precision_recall_curve_format(\n\u001b[1;32m    535\u001b[0m     preds, target, \u001b[38;5;28mself\u001b[39m\u001b[38;5;241m.\u001b[39mnum_labels, \u001b[38;5;28mself\u001b[39m\u001b[38;5;241m.\u001b[39mthresholds, \u001b[38;5;28mself\u001b[39m\u001b[38;5;241m.\u001b[39mignore_index\n\u001b[1;32m    536\u001b[0m )\n\u001b[0;32m--> 537\u001b[0m state \u001b[38;5;241m=\u001b[39m \u001b[43m_multilabel_precision_recall_curve_update\u001b[49m\u001b[43m(\u001b[49m\u001b[43mpreds\u001b[49m\u001b[43m,\u001b[49m\u001b[43m \u001b[49m\u001b[43mtarget\u001b[49m\u001b[43m,\u001b[49m\u001b[43m \u001b[49m\u001b[38;5;28;43mself\u001b[39;49m\u001b[38;5;241;43m.\u001b[39;49m\u001b[43mnum_labels\u001b[49m\u001b[43m,\u001b[49m\u001b[43m \u001b[49m\u001b[38;5;28;43mself\u001b[39;49m\u001b[38;5;241;43m.\u001b[39;49m\u001b[43mthresholds\u001b[49m\u001b[43m)\u001b[49m\n\u001b[1;32m    538\u001b[0m \u001b[38;5;28;01mif\u001b[39;00m \u001b[38;5;28misinstance\u001b[39m(state, Tensor):\n\u001b[1;32m    539\u001b[0m     \u001b[38;5;28mself\u001b[39m\u001b[38;5;241m.\u001b[39mconfmat \u001b[38;5;241m+\u001b[39m\u001b[38;5;241m=\u001b[39m state\n",
      "File \u001b[0;32m/anaconda/envs/protein_functions_310/lib/python3.10/site-packages/torchmetrics/functional/classification/precision_recall_curve.py:741\u001b[0m, in \u001b[0;36m_multilabel_precision_recall_curve_update\u001b[0;34m(preds, target, num_labels, thresholds)\u001b[0m\n\u001b[1;32m    739\u001b[0m unique_mapping \u001b[38;5;241m+\u001b[39m\u001b[38;5;241m=\u001b[39m \u001b[38;5;241m4\u001b[39m \u001b[38;5;241m*\u001b[39m torch\u001b[38;5;241m.\u001b[39marange(num_labels, device\u001b[38;5;241m=\u001b[39mpreds\u001b[38;5;241m.\u001b[39mdevice)\u001b[38;5;241m.\u001b[39munsqueeze(\u001b[38;5;241m0\u001b[39m)\u001b[38;5;241m.\u001b[39munsqueeze(\u001b[38;5;241m-\u001b[39m\u001b[38;5;241m1\u001b[39m)\n\u001b[1;32m    740\u001b[0m unique_mapping \u001b[38;5;241m+\u001b[39m\u001b[38;5;241m=\u001b[39m \u001b[38;5;241m4\u001b[39m \u001b[38;5;241m*\u001b[39m num_labels \u001b[38;5;241m*\u001b[39m torch\u001b[38;5;241m.\u001b[39marange(len_t, device\u001b[38;5;241m=\u001b[39mpreds\u001b[38;5;241m.\u001b[39mdevice)\n\u001b[0;32m--> 741\u001b[0m unique_mapping \u001b[38;5;241m=\u001b[39m unique_mapping[\u001b[43munique_mapping\u001b[49m\u001b[43m \u001b[49m\u001b[38;5;241;43m>\u001b[39;49m\u001b[38;5;241;43m=\u001b[39;49m\u001b[43m \u001b[49m\u001b[38;5;241;43m0\u001b[39;49m]\n\u001b[1;32m    742\u001b[0m bins \u001b[38;5;241m=\u001b[39m _bincount(unique_mapping, minlength\u001b[38;5;241m=\u001b[39m\u001b[38;5;241m4\u001b[39m \u001b[38;5;241m*\u001b[39m num_labels \u001b[38;5;241m*\u001b[39m len_t)\n\u001b[1;32m    743\u001b[0m \u001b[38;5;28;01mreturn\u001b[39;00m bins\u001b[38;5;241m.\u001b[39mreshape(len_t, num_labels, \u001b[38;5;241m2\u001b[39m, \u001b[38;5;241m2\u001b[39m)\n",
      "\u001b[0;31mOutOfMemoryError\u001b[0m: CUDA out of memory. Tried to allocate 4.53 GiB (GPU 0; 79.10 GiB total capacity; 73.60 GiB already allocated; 4.21 GiB free; 73.96 GiB reserved in total by PyTorch) If reserved memory is >> allocated memory try setting max_split_size_mb to avoid fragmentation.  See documentation for Memory Management and PYTORCH_CUDA_ALLOC_CONF"
     ]
    }
   ],
   "source": [
    "\n",
    "ground_truth = torch.tensor(val_labels.values,device='cuda')\n",
    "preds = torch.tensor(val_probabilities.values,device='cuda')\n",
    "APMicro = AveragePrecision(task=\"multilabel\",\n",
    "                           num_labels=preds.shape[1],\n",
    "                           average='micro',\n",
    "                           thresholds=50).to('cuda')(preds,ground_truth).item()"
   ]
  },
  {
   "cell_type": "code",
   "execution_count": null,
   "metadata": {},
   "outputs": [
    {
     "data": {
      "text/plain": [
       "0.1679229736328125"
      ]
     },
     "execution_count": 38,
     "metadata": {},
     "output_type": "execute_result"
    }
   ],
   "source": [
    "APMicro"
   ]
  },
  {
   "cell_type": "code",
   "execution_count": null,
   "metadata": {},
   "outputs": [],
   "source": [
    "eval_metrics = EvalMetrics(device='cuda')"
   ]
  },
  {
   "cell_type": "code",
   "execution_count": null,
   "metadata": {},
   "outputs": [
    {
     "data": {
      "text/plain": [
       "{'f1_macro': tensor(0.2005, device='cuda:0'),\n",
       " 'f1_micro': tensor(0.6187, device='cuda:0')}"
      ]
     },
     "execution_count": 16,
     "metadata": {},
     "output_type": "execute_result"
    }
   ],
   "source": [
    "m=eval_metrics.get_metric_collection_with_regex(pattern=\"f1_m.*\", threshold=0.5,\n",
    "                                                                num_labels=preds.shape[1]\n",
    "                                                                )\n",
    "m(preds,ground_truth)"
   ]
  },
  {
   "cell_type": "code",
   "execution_count": null,
   "metadata": {},
   "outputs": [],
   "source": [
    "th = 0.5\n",
    "\n",
    "tp = ((preds>th)*1)*ground_truth\n",
    "fp = ((preds>th)*1)*(1-ground_truth)\n",
    "fn = (1-(preds>th)*1)*(ground_truth)\n",
    "tn = (1-(preds>th)*1)*(1-ground_truth)"
   ]
  },
  {
   "cell_type": "code",
   "execution_count": null,
   "metadata": {},
   "outputs": [
    {
     "data": {
      "text/plain": [
       "(tensor(0.6187, device='cuda:0'),\n",
       " tensor([0.0541,    nan, 0.4000,  ...,    nan, 0.5000,    nan], device='cuda:0'))"
      ]
     },
     "execution_count": 18,
     "metadata": {},
     "output_type": "execute_result"
    }
   ],
   "source": [
    "recall_micro = tp.sum()/(tp.sum()+fn.sum())\n",
    "precision_micro = tp.sum()/(tp.sum()+fp.sum())\n",
    "f1_micro = 2*recall_micro*precision_micro/(recall_micro+precision_micro)\n",
    "\n",
    "\n",
    "recall_macro = tp.sum(axis=0)/(tp.sum(axis=0)+fn.sum(axis=0))\n",
    "precision_macro = tp.sum(axis=0)/(tp.sum(axis=0)+fp.sum(axis=0))\n",
    "f1_macro = 2*recall_macro*precision_macro/(recall_macro+precision_macro)\n",
    "\n",
    "f1_micro,f1_macro"
   ]
  }
 ],
 "metadata": {
  "kernelspec": {
   "display_name": "protein_functions",
   "language": "python",
   "name": "python3"
  },
  "language_info": {
   "codemirror_mode": {
    "name": "ipython",
    "version": 3
   },
   "file_extension": ".py",
   "mimetype": "text/x-python",
   "name": "python",
   "nbconvert_exporter": "python",
   "pygments_lexer": "ipython3",
   "version": "3.1.undefined"
  },
  "orig_nbformat": 4
 },
 "nbformat": 4,
 "nbformat_minor": 2
}
