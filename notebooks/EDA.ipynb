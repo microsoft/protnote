{
 "cells": [
  {
   "cell_type": "code",
   "execution_count": 1,
   "metadata": {},
   "outputs": [
    {
     "name": "stderr",
     "output_type": "stream",
     "text": [
      "/anaconda/envs/protein_functions_310/lib/python3.10/site-packages/tqdm/auto.py:21: TqdmWarning: IProgress not found. Please update jupyter and ipywidgets. See https://ipywidgets.readthedocs.io/en/stable/user_install.html\n",
      "  from .autonotebook import tqdm as notebook_tqdm\n"
     ]
    }
   ],
   "source": [
    "import os\n",
    "from pathlib import Path\n",
    "import sys\n",
    "curdir = Path(os.getcwd())\n",
    "sys.path.append(str(curdir.parent.absolute()))\n",
    "from collections import Counter\n",
    "import pandas as pd\n",
    "from src.utils.data import read_fasta\n",
    "from src.data.datasets import ProteinDataset\n",
    "import numpy as np\n",
    "from src.utils.data import read_pickle, save_to_pickle\n",
    "from src.utils.evaluation import metrics_per_label_df\n",
    "from torchmetrics.classification import AveragePrecision,Specificity\n",
    "import matplotlib.pyplot as plt\n",
    "import seaborn as sns\n",
    "import torch\n",
    "from src.utils.losses import FocalLoss\n",
    "from src.utils.evaluation import EvalMetrics\n"
   ]
  },
  {
   "cell_type": "code",
   "execution_count": 2,
   "metadata": {},
   "outputs": [],
   "source": [
    "from src.utils.data import read_pickle, save_to_pickle\n"
   ]
  },
  {
   "cell_type": "code",
   "execution_count": 5,
   "metadata": {},
   "outputs": [],
   "source": [
    "zs = read_fasta(\"../data/zero_shot/SwissProt_2023_unseen_sequences_and_labels.fasta\")"
   ]
  },
  {
   "cell_type": "code",
   "execution_count": 24,
   "metadata": {},
   "outputs": [
    {
     "data": {
      "text/html": [
       "<div>\n",
       "<style scoped>\n",
       "    .dataframe tbody tr th:only-of-type {\n",
       "        vertical-align: middle;\n",
       "    }\n",
       "\n",
       "    .dataframe tbody tr th {\n",
       "        vertical-align: top;\n",
       "    }\n",
       "\n",
       "    .dataframe thead th {\n",
       "        text-align: right;\n",
       "    }\n",
       "</style>\n",
       "<table border=\"1\" class=\"dataframe\">\n",
       "  <thead>\n",
       "    <tr style=\"text-align: right;\">\n",
       "      <th></th>\n",
       "      <th>id</th>\n",
       "      <th>description_type</th>\n",
       "      <th>description</th>\n",
       "      <th>token_count</th>\n",
       "    </tr>\n",
       "  </thead>\n",
       "  <tbody>\n",
       "    <tr>\n",
       "      <th>185244</th>\n",
       "      <td>GO:0000514</td>\n",
       "      <td>name</td>\n",
       "      <td>3-sulfino-L-alanine: proton, glutamate antipor...</td>\n",
       "      <td>16</td>\n",
       "    </tr>\n",
       "    <tr>\n",
       "      <th>185245</th>\n",
       "      <td>GO:0000514</td>\n",
       "      <td>label</td>\n",
       "      <td>Enables the transfer of a solute or solutes fr...</td>\n",
       "      <td>83</td>\n",
       "    </tr>\n",
       "    <tr>\n",
       "      <th>185248</th>\n",
       "      <td>GO:0140439</td>\n",
       "      <td>name</td>\n",
       "      <td>protein-cysteine S-stearoyltransferase activity</td>\n",
       "      <td>8</td>\n",
       "    </tr>\n",
       "    <tr>\n",
       "      <th>185249</th>\n",
       "      <td>GO:0140439</td>\n",
       "      <td>label</td>\n",
       "      <td>Catalysis of the transfer of a stearoyl (syste...</td>\n",
       "      <td>60</td>\n",
       "    </tr>\n",
       "    <tr>\n",
       "      <th>185259</th>\n",
       "      <td>GO:0140517</td>\n",
       "      <td>name</td>\n",
       "      <td>protein-RNA adaptor activity</td>\n",
       "      <td>5</td>\n",
       "    </tr>\n",
       "    <tr>\n",
       "      <th>...</th>\n",
       "      <td>...</td>\n",
       "      <td>...</td>\n",
       "      <td>...</td>\n",
       "      <td>...</td>\n",
       "    </tr>\n",
       "    <tr>\n",
       "      <th>188643</th>\n",
       "      <td>GO:0140723</td>\n",
       "      <td>label</td>\n",
       "      <td>The chemical reactions and pathways resulting ...</td>\n",
       "      <td>34</td>\n",
       "    </tr>\n",
       "    <tr>\n",
       "      <th>188644</th>\n",
       "      <td>GO:0140723</td>\n",
       "      <td>synonym_exact</td>\n",
       "      <td>patulin anabolism</td>\n",
       "      <td>4</td>\n",
       "    </tr>\n",
       "    <tr>\n",
       "      <th>188645</th>\n",
       "      <td>GO:0140723</td>\n",
       "      <td>synonym_exact</td>\n",
       "      <td>patulin biosynthesis</td>\n",
       "      <td>3</td>\n",
       "    </tr>\n",
       "    <tr>\n",
       "      <th>188646</th>\n",
       "      <td>GO:0140723</td>\n",
       "      <td>synonym_exact</td>\n",
       "      <td>patulin formation</td>\n",
       "      <td>3</td>\n",
       "    </tr>\n",
       "    <tr>\n",
       "      <th>188647</th>\n",
       "      <td>GO:0140723</td>\n",
       "      <td>synonym_exact</td>\n",
       "      <td>patulin synthesis</td>\n",
       "      <td>3</td>\n",
       "    </tr>\n",
       "  </tbody>\n",
       "</table>\n",
       "<p>648 rows × 4 columns</p>\n",
       "</div>"
      ],
      "text/plain": [
       "                id description_type  \\\n",
       "185244  GO:0000514             name   \n",
       "185245  GO:0000514            label   \n",
       "185248  GO:0140439             name   \n",
       "185249  GO:0140439            label   \n",
       "185259  GO:0140517             name   \n",
       "...            ...              ...   \n",
       "188643  GO:0140723            label   \n",
       "188644  GO:0140723    synonym_exact   \n",
       "188645  GO:0140723    synonym_exact   \n",
       "188646  GO:0140723    synonym_exact   \n",
       "188647  GO:0140723    synonym_exact   \n",
       "\n",
       "                                              description  token_count  \n",
       "185244  3-sulfino-L-alanine: proton, glutamate antipor...           16  \n",
       "185245  Enables the transfer of a solute or solutes fr...           83  \n",
       "185248    protein-cysteine S-stearoyltransferase activity            8  \n",
       "185249  Catalysis of the transfer of a stearoyl (syste...           60  \n",
       "185259                       protein-RNA adaptor activity            5  \n",
       "...                                                   ...          ...  \n",
       "188643  The chemical reactions and pathways resulting ...           34  \n",
       "188644                                  patulin anabolism            4  \n",
       "188645                               patulin biosynthesis            3  \n",
       "188646                                  patulin formation            3  \n",
       "188647                                  patulin synthesis            3  \n",
       "\n",
       "[648 rows x 4 columns]"
      ]
     },
     "execution_count": 24,
     "metadata": {},
     "output_type": "execute_result"
    }
   ],
   "source": [
    "embeddings_idx = torch.load('../data/embeddings/frozen_BioGPT_label_embeddings_mean_index.pt')\n",
    "embeddings = torch.load('../data/embeddings/frozen_BioGPT_label_embeddings_mean.pt')\n",
    "embeddings_idx[embeddings_idx.id.isin(set([j for i in zs for j in i[-1]]))]\n"
   ]
  },
  {
   "cell_type": "code",
   "execution_count": 26,
   "metadata": {},
   "outputs": [
    {
     "data": {
      "text/plain": [
       "tensor(-0.0115)"
      ]
     },
     "execution_count": 26,
     "metadata": {},
     "output_type": "execute_result"
    }
   ],
   "source": [
    "embeddings[embeddings_idx['id']=='GO:0140723'].mean()"
   ]
  },
  {
   "cell_type": "code",
   "execution_count": 3,
   "metadata": {},
   "outputs": [],
   "source": [
    "annotations_2023 = read_pickle('../data/annotations/go_annotations_2023_07_27.pkl')\n",
    "annotations_2019 = read_pickle('../data/annotations/go_annotations_2019_07_01.pkl')\n",
    "new_go_terms = set(annotations_2023.index) - set(annotations_2019.index)\n",
    "annotations_2019_updated = pd.concat([annotations_2019,annotations_2023.loc[list(new_go_terms)]],axis=0)"
   ]
  },
  {
   "cell_type": "code",
   "execution_count": 6,
   "metadata": {},
   "outputs": [
    {
     "data": {
      "text/plain": [
       "((47401, 7), (47595, 7), (48661, 7))"
      ]
     },
     "execution_count": 6,
     "metadata": {},
     "output_type": "execute_result"
    }
   ],
   "source": [
    "annotations_2019.shape,annotations_2023.shape,annotations_2019_updated.shape"
   ]
  },
  {
   "cell_type": "code",
   "execution_count": 7,
   "metadata": {},
   "outputs": [],
   "source": [
    "save_to_pickle(annotations_2019_updated,'../data/annotations/go_annotations_2019_07_01_updated.pkl')"
   ]
  },
  {
   "cell_type": "code",
   "execution_count": 19,
   "metadata": {},
   "outputs": [
    {
     "data": {
      "text/html": [
       "<div>\n",
       "<style scoped>\n",
       "    .dataframe tbody tr th:only-of-type {\n",
       "        vertical-align: middle;\n",
       "    }\n",
       "\n",
       "    .dataframe tbody tr th {\n",
       "        vertical-align: top;\n",
       "    }\n",
       "\n",
       "    .dataframe thead th {\n",
       "        text-align: right;\n",
       "    }\n",
       "</style>\n",
       "<table border=\"1\" class=\"dataframe\">\n",
       "  <thead>\n",
       "    <tr style=\"text-align: right;\">\n",
       "      <th></th>\n",
       "      <th>label</th>\n",
       "      <th>name</th>\n",
       "      <th>synonym_exact</th>\n",
       "      <th>synonym_narrow</th>\n",
       "      <th>synonym_related</th>\n",
       "      <th>synonym_broad</th>\n",
       "      <th>is_obsolete</th>\n",
       "    </tr>\n",
       "  </thead>\n",
       "  <tbody>\n",
       "    <tr>\n",
       "      <th>GO:0000001</th>\n",
       "      <td>The distribution of mitochondria, including th...</td>\n",
       "      <td>mitochondrion inheritance</td>\n",
       "      <td>[mitochondrial inheritance]</td>\n",
       "      <td>[]</td>\n",
       "      <td>[]</td>\n",
       "      <td>[]</td>\n",
       "      <td>NaN</td>\n",
       "    </tr>\n",
       "    <tr>\n",
       "      <th>GO:0000002</th>\n",
       "      <td>The maintenance of the structure and integrity...</td>\n",
       "      <td>mitochondrial genome maintenance</td>\n",
       "      <td>[]</td>\n",
       "      <td>[]</td>\n",
       "      <td>[]</td>\n",
       "      <td>[]</td>\n",
       "      <td>NaN</td>\n",
       "    </tr>\n",
       "    <tr>\n",
       "      <th>GO:0000003</th>\n",
       "      <td>The production of new individuals that contain...</td>\n",
       "      <td>reproduction</td>\n",
       "      <td>[reproductive physiological process]</td>\n",
       "      <td>[]</td>\n",
       "      <td>[]</td>\n",
       "      <td>[]</td>\n",
       "      <td>NaN</td>\n",
       "    </tr>\n",
       "    <tr>\n",
       "      <th>GO:0000005</th>\n",
       "      <td>OBSOLETE. Assists in the correct assembly of r...</td>\n",
       "      <td>obsolete ribosomal chaperone activity</td>\n",
       "      <td>[ribosomal chaperone activity]</td>\n",
       "      <td>[]</td>\n",
       "      <td>[]</td>\n",
       "      <td>[]</td>\n",
       "      <td>true</td>\n",
       "    </tr>\n",
       "    <tr>\n",
       "      <th>GO:0000006</th>\n",
       "      <td>Enables the transfer of zinc ions (Zn2+) from ...</td>\n",
       "      <td>high-affinity zinc transmembrane transporter a...</td>\n",
       "      <td>[high affinity zinc uptake transmembrane trans...</td>\n",
       "      <td>[]</td>\n",
       "      <td>[high-affinity zinc uptake transmembrane trans...</td>\n",
       "      <td>[]</td>\n",
       "      <td>NaN</td>\n",
       "    </tr>\n",
       "    <tr>\n",
       "      <th>...</th>\n",
       "      <td>...</td>\n",
       "      <td>...</td>\n",
       "      <td>...</td>\n",
       "      <td>...</td>\n",
       "      <td>...</td>\n",
       "      <td>...</td>\n",
       "      <td>...</td>\n",
       "    </tr>\n",
       "    <tr>\n",
       "      <th>GO:0140945</th>\n",
       "      <td>Catalysis of the reaction: L-lysyl4-+ S-adenos...</td>\n",
       "      <td>histone H3K4 monomethyltransferase activity</td>\n",
       "      <td>[histone H3K4 monomethylase activity, histone ...</td>\n",
       "      <td>[]</td>\n",
       "      <td>[]</td>\n",
       "      <td>[histone H4-K4 methylation, histone H4K4 methy...</td>\n",
       "      <td>NaN</td>\n",
       "    </tr>\n",
       "    <tr>\n",
       "      <th>GO:0140846</th>\n",
       "      <td>A process that activates or increases the freq...</td>\n",
       "      <td>positive regulation of promoter clearance from...</td>\n",
       "      <td>[]</td>\n",
       "      <td>[]</td>\n",
       "      <td>[]</td>\n",
       "      <td>[]</td>\n",
       "      <td>NaN</td>\n",
       "    </tr>\n",
       "    <tr>\n",
       "      <th>GO:0120220</th>\n",
       "      <td>The region in the apical portion of multicilia...</td>\n",
       "      <td>basal body patch</td>\n",
       "      <td>[centriolar patch]</td>\n",
       "      <td>[]</td>\n",
       "      <td>[]</td>\n",
       "      <td>[]</td>\n",
       "      <td>NaN</td>\n",
       "    </tr>\n",
       "    <tr>\n",
       "      <th>GO:0106420</th>\n",
       "      <td>Catalysis of the reaction: H2O + N6-biotinyl-L...</td>\n",
       "      <td>NAD-dependent protein biotinidase activity</td>\n",
       "      <td>[]</td>\n",
       "      <td>[]</td>\n",
       "      <td>[]</td>\n",
       "      <td>[]</td>\n",
       "      <td>NaN</td>\n",
       "    </tr>\n",
       "    <tr>\n",
       "      <th>GO:0180009</th>\n",
       "      <td>Enables the transfer of a solute or solutes fr...</td>\n",
       "      <td>broad specificity neutral L-amino acid:basic L...</td>\n",
       "      <td>[neutral L-amino acid:cationic L-amino acid an...</td>\n",
       "      <td>[]</td>\n",
       "      <td>[system b(0,+)-type activity]</td>\n",
       "      <td>[]</td>\n",
       "      <td>NaN</td>\n",
       "    </tr>\n",
       "  </tbody>\n",
       "</table>\n",
       "<p>48661 rows × 7 columns</p>\n",
       "</div>"
      ],
      "text/plain": [
       "                                                        label  \\\n",
       "GO:0000001  The distribution of mitochondria, including th...   \n",
       "GO:0000002  The maintenance of the structure and integrity...   \n",
       "GO:0000003  The production of new individuals that contain...   \n",
       "GO:0000005  OBSOLETE. Assists in the correct assembly of r...   \n",
       "GO:0000006  Enables the transfer of zinc ions (Zn2+) from ...   \n",
       "...                                                       ...   \n",
       "GO:0140945  Catalysis of the reaction: L-lysyl4-+ S-adenos...   \n",
       "GO:0140846  A process that activates or increases the freq...   \n",
       "GO:0120220  The region in the apical portion of multicilia...   \n",
       "GO:0106420  Catalysis of the reaction: H2O + N6-biotinyl-L...   \n",
       "GO:0180009  Enables the transfer of a solute or solutes fr...   \n",
       "\n",
       "                                                         name  \\\n",
       "GO:0000001                          mitochondrion inheritance   \n",
       "GO:0000002                   mitochondrial genome maintenance   \n",
       "GO:0000003                                       reproduction   \n",
       "GO:0000005              obsolete ribosomal chaperone activity   \n",
       "GO:0000006  high-affinity zinc transmembrane transporter a...   \n",
       "...                                                       ...   \n",
       "GO:0140945        histone H3K4 monomethyltransferase activity   \n",
       "GO:0140846  positive regulation of promoter clearance from...   \n",
       "GO:0120220                                   basal body patch   \n",
       "GO:0106420         NAD-dependent protein biotinidase activity   \n",
       "GO:0180009  broad specificity neutral L-amino acid:basic L...   \n",
       "\n",
       "                                                synonym_exact synonym_narrow  \\\n",
       "GO:0000001                        [mitochondrial inheritance]             []   \n",
       "GO:0000002                                                 []             []   \n",
       "GO:0000003               [reproductive physiological process]             []   \n",
       "GO:0000005                     [ribosomal chaperone activity]             []   \n",
       "GO:0000006  [high affinity zinc uptake transmembrane trans...             []   \n",
       "...                                                       ...            ...   \n",
       "GO:0140945  [histone H3K4 monomethylase activity, histone ...             []   \n",
       "GO:0140846                                                 []             []   \n",
       "GO:0120220                                 [centriolar patch]             []   \n",
       "GO:0106420                                                 []             []   \n",
       "GO:0180009  [neutral L-amino acid:cationic L-amino acid an...             []   \n",
       "\n",
       "                                              synonym_related  \\\n",
       "GO:0000001                                                 []   \n",
       "GO:0000002                                                 []   \n",
       "GO:0000003                                                 []   \n",
       "GO:0000005                                                 []   \n",
       "GO:0000006  [high-affinity zinc uptake transmembrane trans...   \n",
       "...                                                       ...   \n",
       "GO:0140945                                                 []   \n",
       "GO:0140846                                                 []   \n",
       "GO:0120220                                                 []   \n",
       "GO:0106420                                                 []   \n",
       "GO:0180009                      [system b(0,+)-type activity]   \n",
       "\n",
       "                                                synonym_broad is_obsolete  \n",
       "GO:0000001                                                 []         NaN  \n",
       "GO:0000002                                                 []         NaN  \n",
       "GO:0000003                                                 []         NaN  \n",
       "GO:0000005                                                 []        true  \n",
       "GO:0000006                                                 []         NaN  \n",
       "...                                                       ...         ...  \n",
       "GO:0140945  [histone H4-K4 methylation, histone H4K4 methy...         NaN  \n",
       "GO:0140846                                                 []         NaN  \n",
       "GO:0120220                                                 []         NaN  \n",
       "GO:0106420                                                 []         NaN  \n",
       "GO:0180009                                                 []         NaN  \n",
       "\n",
       "[48661 rows x 7 columns]"
      ]
     },
     "execution_count": 19,
     "metadata": {},
     "output_type": "execute_result"
    }
   ],
   "source": []
  },
  {
   "cell_type": "code",
   "execution_count": 2,
   "metadata": {},
   "outputs": [],
   "source": [
    "train = read_fasta('../data/swissprot/proteinfer_splits/random/train_GO.fasta')\n",
    "val = read_fasta('../data/swissprot/proteinfer_splits/random/dev_GO.fasta')\n",
    "test = read_fasta('../data/swissprot/proteinfer_splits/random/test_GO.fasta')\n",
    "zero_shot = read_fasta('../data/swissprot/zero_shot/SwissProt_2023_unseen_sequences_and_labels.fasta')"
   ]
  },
  {
   "cell_type": "code",
   "execution_count": 7,
   "metadata": {},
   "outputs": [],
   "source": [
    "train = [(k[0],j,\" \".join(k[1:]),'train') for j,k in train]\n",
    "test = [(k[0],j,\" \".join(k[1:]),'val') for j,k in test]\n",
    "val = [(k[0],j,\" \".join(k[1:]),'test') for j,k in val]\n",
    "zero_shot = [(k[0],j,\" \".join(k[1:]),'zero_shot') for j,k in zero_shot]\n",
    "df = train + val + test"
   ]
  },
  {
   "cell_type": "code",
   "execution_count": 8,
   "metadata": {},
   "outputs": [],
   "source": [
    "df = pd.DataFrame(df,columns=['id','sequence','labels','split'])\n",
    "df_zero_shot = pd.DataFrame(zero_shot,columns=['id','sequence','labels','split'])"
   ]
  },
  {
   "cell_type": "code",
   "execution_count": 121,
   "metadata": {},
   "outputs": [
    {
     "name": "stdout",
     "output_type": "stream",
     "text": [
      "number of sequences: 522607\n"
     ]
    }
   ],
   "source": [
    "num_sequences = len(df)\n",
    "print('number of sequences:',num_sequences)"
   ]
  },
  {
   "cell_type": "code",
   "execution_count": 6,
   "metadata": {},
   "outputs": [
    {
     "data": {
      "text/html": [
       "<div>\n",
       "<style scoped>\n",
       "    .dataframe tbody tr th:only-of-type {\n",
       "        vertical-align: middle;\n",
       "    }\n",
       "\n",
       "    .dataframe tbody tr th {\n",
       "        vertical-align: top;\n",
       "    }\n",
       "\n",
       "    .dataframe thead th {\n",
       "        text-align: right;\n",
       "    }\n",
       "</style>\n",
       "<table border=\"1\" class=\"dataframe\">\n",
       "  <thead>\n",
       "    <tr style=\"text-align: right;\">\n",
       "      <th></th>\n",
       "      <th>id</th>\n",
       "      <th>sequence</th>\n",
       "      <th>labels</th>\n",
       "      <th>split</th>\n",
       "    </tr>\n",
       "  </thead>\n",
       "  <tbody>\n",
       "    <tr>\n",
       "      <th>0</th>\n",
       "      <td>P60545</td>\n",
       "      <td>MSKIIEYDETARRAIEAGVNTLADAVRVTLGPRGRHVVLAKAFGGP...</td>\n",
       "      <td>GO:0035639 GO:0032553 GO:0005524 GO:0017076 GO...</td>\n",
       "      <td>train</td>\n",
       "    </tr>\n",
       "    <tr>\n",
       "      <th>1</th>\n",
       "      <td>Q3KEX7</td>\n",
       "      <td>MKFSEQWLRGWVSPQVDRDALVARLSMAGLEVDSVTPAAGVFSGVV...</td>\n",
       "      <td>GO:0016070 GO:0035639 GO:0004812 GO:0032553 GO...</td>\n",
       "      <td>train</td>\n",
       "    </tr>\n",
       "    <tr>\n",
       "      <th>2</th>\n",
       "      <td>Q8D2U1</td>\n",
       "      <td>MKSVSIIDIIEKKIFKKKLVEINGWVRTKRNSKLGISFVDVYDGSC...</td>\n",
       "      <td>GO:0016070 GO:0004812 GO:0035639 GO:0032553 GO...</td>\n",
       "      <td>train</td>\n",
       "    </tr>\n",
       "    <tr>\n",
       "      <th>3</th>\n",
       "      <td>Q95KN1</td>\n",
       "      <td>MKPSLLVFTVYLLWLKDCHCAPTWKDKTDMHGNLKGFSEAGDIDVD...</td>\n",
       "      <td>GO:0044424 GO:0003674 GO:0044464 GO:0043226 GO...</td>\n",
       "      <td>train</td>\n",
       "    </tr>\n",
       "    <tr>\n",
       "      <th>4</th>\n",
       "      <td>Q98HL0</td>\n",
       "      <td>MNSLDLPGRPENTRIVVAMSGGVDSSVVAGLLKREGYDVVGVTLQL...</td>\n",
       "      <td>GO:0016070 GO:0035639 GO:0032553 GO:0005524 GO...</td>\n",
       "      <td>train</td>\n",
       "    </tr>\n",
       "  </tbody>\n",
       "</table>\n",
       "</div>"
      ],
      "text/plain": [
       "       id                                           sequence  \\\n",
       "0  P60545  MSKIIEYDETARRAIEAGVNTLADAVRVTLGPRGRHVVLAKAFGGP...   \n",
       "1  Q3KEX7  MKFSEQWLRGWVSPQVDRDALVARLSMAGLEVDSVTPAAGVFSGVV...   \n",
       "2  Q8D2U1  MKSVSIIDIIEKKIFKKKLVEINGWVRTKRNSKLGISFVDVYDGSC...   \n",
       "3  Q95KN1  MKPSLLVFTVYLLWLKDCHCAPTWKDKTDMHGNLKGFSEAGDIDVD...   \n",
       "4  Q98HL0  MNSLDLPGRPENTRIVVAMSGGVDSSVVAGLLKREGYDVVGVTLQL...   \n",
       "\n",
       "                                              labels  split  \n",
       "0  GO:0035639 GO:0032553 GO:0005524 GO:0017076 GO...  train  \n",
       "1  GO:0016070 GO:0035639 GO:0004812 GO:0032553 GO...  train  \n",
       "2  GO:0016070 GO:0004812 GO:0035639 GO:0032553 GO...  train  \n",
       "3  GO:0044424 GO:0003674 GO:0044464 GO:0043226 GO...  train  \n",
       "4  GO:0016070 GO:0035639 GO:0032553 GO:0005524 GO...  train  "
      ]
     },
     "execution_count": 6,
     "metadata": {},
     "output_type": "execute_result"
    }
   ],
   "source": [
    "df.head()"
   ]
  },
  {
   "cell_type": "code",
   "execution_count": 7,
   "metadata": {},
   "outputs": [
    {
     "data": {
      "text/plain": [
       "count    522607.000000\n",
       "mean         47.743901\n",
       "std          38.433523\n",
       "min           2.000000\n",
       "25%          25.000000\n",
       "50%          43.000000\n",
       "75%          59.000000\n",
       "max        1008.000000\n",
       "Name: num_pos, dtype: float64"
      ]
     },
     "execution_count": 7,
     "metadata": {},
     "output_type": "execute_result"
    }
   ],
   "source": [
    "df['num_pos'] = df['labels'].str.split(' ').str.len()\n",
    "df['num_pos'].describe()"
   ]
  },
  {
   "cell_type": "code",
   "execution_count": 8,
   "metadata": {},
   "outputs": [
    {
     "data": {
      "text/plain": [
       "count    522607.000000\n",
       "mean         47.743901\n",
       "std          38.433523\n",
       "min           2.000000\n",
       "25%          25.000000\n",
       "50%          43.000000\n",
       "75%          59.000000\n",
       "max        1008.000000\n",
       "Name: labels, dtype: float64"
      ]
     },
     "execution_count": 8,
     "metadata": {},
     "output_type": "execute_result"
    }
   ],
   "source": [
    "df['labels'].str.split(' ').apply(len).describe()"
   ]
  },
  {
   "cell_type": "code",
   "execution_count": 5,
   "metadata": {},
   "outputs": [
    {
     "data": {
      "text/plain": [
       "count    894.000000\n",
       "mean       1.139821\n",
       "std        0.541164\n",
       "min        1.000000\n",
       "25%        1.000000\n",
       "50%        1.000000\n",
       "75%        1.000000\n",
       "max        6.000000\n",
       "Name: labels, dtype: float64"
      ]
     },
     "execution_count": 5,
     "metadata": {},
     "output_type": "execute_result"
    }
   ],
   "source": [
    "df_zero_shot['labels'].str.split(' ').apply(len).describe()"
   ]
  },
  {
   "cell_type": "code",
   "execution_count": 9,
   "metadata": {},
   "outputs": [],
   "source": [
    "labels_zero_shot = Counter()\n",
    "\n",
    "vocab = set()\n",
    "amino_freq = Counter()\n",
    "for idx,row in df_zero_shot.iterrows():\n",
    "    sequence = row['sequence']\n",
    "    row_labels = row['labels']\n",
    "    aa_list = list(sequence)\n",
    "    if row_labels =='':\n",
    "        print(row['id'],row['labels'])\n",
    "    vocab.update(aa_list)\n",
    "    amino_freq.update(aa_list)\n",
    "    labels_zero_shot.update(row_labels.split(\" \"))"
   ]
  },
  {
   "cell_type": "code",
   "execution_count": 127,
   "metadata": {},
   "outputs": [],
   "source": [
    "labels = Counter()\n",
    "\n",
    "vocab = set()\n",
    "amino_freq = Counter()\n",
    "for idx,row in df[df['split']=='train'].iterrows():\n",
    "    sequence = row['sequence']\n",
    "    row_labels = row['labels']\n",
    "    aa_list = list(sequence)\n",
    "    if row_labels =='':\n",
    "        print(row['id'],row['labels'])\n",
    "    vocab.update(aa_list)\n",
    "    amino_freq.update(aa_list)\n",
    "    labels.update(row_labels.split(\" \"))"
   ]
  },
  {
   "cell_type": "code",
   "execution_count": 10,
   "metadata": {},
   "outputs": [
    {
     "name": "stdout",
     "output_type": "stream",
     "text": [
      "# GO Terms: 31365\n"
     ]
    }
   ],
   "source": [
    "print('# GO Terms:',len(labels.keys()))"
   ]
  },
  {
   "cell_type": "code",
   "execution_count": 11,
   "metadata": {},
   "outputs": [
    {
     "name": "stdout",
     "output_type": "stream",
     "text": [
      "GO Terms distribution\n"
     ]
    },
    {
     "data": {
      "text/plain": [
       "count     31365.000000\n",
       "mean        635.987821\n",
       "std        7372.964658\n",
       "min           1.000000\n",
       "25%           4.000000\n",
       "50%          14.000000\n",
       "75%          70.000000\n",
       "max      369909.000000\n",
       "dtype: float64"
      ]
     },
     "execution_count": 11,
     "metadata": {},
     "output_type": "execute_result"
    }
   ],
   "source": [
    "print('GO Terms distribution')\n",
    "go_term_distribution = pd.Series(labels.values(),index=labels.keys()).sort_values(ascending=False)\n",
    "go_term_distribution.describe()"
   ]
  },
  {
   "cell_type": "code",
   "execution_count": 12,
   "metadata": {},
   "outputs": [
    {
     "data": {
      "text/plain": [
       "GO:0003674    369909\n",
       "GO:0008150    346677\n",
       "GO:0005575    321980\n",
       "GO:0009987    295442\n",
       "GO:0044464    291432\n",
       "               ...  \n",
       "GO:1903890         1\n",
       "GO:0102632         1\n",
       "GO:0010059         1\n",
       "GO:0072616         1\n",
       "GO:0030787         1\n",
       "Length: 31365, dtype: int64"
      ]
     },
     "execution_count": 12,
     "metadata": {},
     "output_type": "execute_result"
    }
   ],
   "source": [
    "go_term_distribution[go_term_distribution>0]"
   ]
  },
  {
   "cell_type": "code",
   "execution_count": 13,
   "metadata": {},
   "outputs": [
    {
     "name": "stdout",
     "output_type": "stream",
     "text": [
      "Sequence length distribution\n"
     ]
    },
    {
     "data": {
      "text/plain": [
       "count    522607.000000\n",
       "mean        368.042215\n",
       "std         334.721845\n",
       "min           2.000000\n",
       "25%         179.000000\n",
       "50%         303.000000\n",
       "75%         456.000000\n",
       "max       35213.000000\n",
       "Name: sequence, dtype: float64"
      ]
     },
     "execution_count": 13,
     "metadata": {},
     "output_type": "execute_result"
    }
   ],
   "source": [
    "print('Sequence length distribution')\n",
    "\n",
    "df['sequence'].apply(len).describe()"
   ]
  },
  {
   "cell_type": "code",
   "execution_count": 14,
   "metadata": {},
   "outputs": [
    {
     "data": {
      "text/plain": [
       "1502.0"
      ]
     },
     "execution_count": 14,
     "metadata": {},
     "output_type": "execute_result"
    }
   ],
   "source": [
    "df['sequence'].apply(len).quantile(.99)"
   ]
  },
  {
   "cell_type": "markdown",
   "metadata": {},
   "source": [
    "Zero shot"
   ]
  },
  {
   "cell_type": "code",
   "execution_count": 135,
   "metadata": {},
   "outputs": [
    {
     "data": {
      "text/plain": [
       "set()"
      ]
     },
     "execution_count": 135,
     "metadata": {},
     "output_type": "execute_result"
    }
   ],
   "source": [
    "set(labels_zero_shot.keys()) & set(labels.keys())"
   ]
  },
  {
   "cell_type": "code",
   "execution_count": 8,
   "metadata": {},
   "outputs": [
    {
     "data": {
      "text/plain": [
       "228"
      ]
     },
     "execution_count": 8,
     "metadata": {},
     "output_type": "execute_result"
    }
   ],
   "source": [
    "len(labels_zero_shot.keys())"
   ]
  },
  {
   "cell_type": "code",
   "execution_count": 16,
   "metadata": {},
   "outputs": [
    {
     "data": {
      "text/html": [
       "<div>\n",
       "<style scoped>\n",
       "    .dataframe tbody tr th:only-of-type {\n",
       "        vertical-align: middle;\n",
       "    }\n",
       "\n",
       "    .dataframe tbody tr th {\n",
       "        vertical-align: top;\n",
       "    }\n",
       "\n",
       "    .dataframe thead th {\n",
       "        text-align: right;\n",
       "    }\n",
       "</style>\n",
       "<table border=\"1\" class=\"dataframe\">\n",
       "  <thead>\n",
       "    <tr style=\"text-align: right;\">\n",
       "      <th></th>\n",
       "      <th>label</th>\n",
       "      <th>name</th>\n",
       "      <th>synonym_exact</th>\n",
       "      <th>synonym_narrow</th>\n",
       "      <th>synonym_related</th>\n",
       "      <th>synonym_broad</th>\n",
       "    </tr>\n",
       "  </thead>\n",
       "  <tbody>\n",
       "    <tr>\n",
       "      <th>GO:0140404</th>\n",
       "      <td>A process mediated by a molecule secreted by a...</td>\n",
       "      <td>effector-mediated perturbation of host innate ...</td>\n",
       "      <td>[effector mediated modulation of host immune r...</td>\n",
       "      <td>[]</td>\n",
       "      <td>[]</td>\n",
       "      <td>[]</td>\n",
       "    </tr>\n",
       "    <tr>\n",
       "      <th>GO:0106290</th>\n",
       "      <td>Catalysis of the reaction: (E)-cinnamate + ATP...</td>\n",
       "      <td>trans-cinnamate-CoA ligase activity</td>\n",
       "      <td>[]</td>\n",
       "      <td>[]</td>\n",
       "      <td>[]</td>\n",
       "      <td>[]</td>\n",
       "    </tr>\n",
       "    <tr>\n",
       "      <th>GO:0106286</th>\n",
       "      <td>Catalysis of the reaction: (E)-caffeate + ATP ...</td>\n",
       "      <td>(E)-caffeate-CoA ligase activity</td>\n",
       "      <td>[]</td>\n",
       "      <td>[]</td>\n",
       "      <td>[]</td>\n",
       "      <td>[]</td>\n",
       "    </tr>\n",
       "    <tr>\n",
       "      <th>GO:0106411</th>\n",
       "      <td>Catalysis of the reaction: 5'XMP + H20 = phosp...</td>\n",
       "      <td>XMP 5'-nucleosidase activity</td>\n",
       "      <td>[]</td>\n",
       "      <td>[]</td>\n",
       "      <td>[]</td>\n",
       "      <td>[]</td>\n",
       "    </tr>\n",
       "    <tr>\n",
       "      <th>GO:0140989</th>\n",
       "      <td>Catalysis of the reaction:  7-deoxyloganate + ...</td>\n",
       "      <td>7-deoxyloganate 7-hydroxylase activity</td>\n",
       "      <td>[]</td>\n",
       "      <td>[]</td>\n",
       "      <td>[]</td>\n",
       "      <td>[]</td>\n",
       "    </tr>\n",
       "    <tr>\n",
       "      <th>...</th>\n",
       "      <td>...</td>\n",
       "      <td>...</td>\n",
       "      <td>...</td>\n",
       "      <td>...</td>\n",
       "      <td>...</td>\n",
       "      <td>...</td>\n",
       "    </tr>\n",
       "    <tr>\n",
       "      <th>GO:0106439</th>\n",
       "      <td>Enables the transfer of a solute or solutes fr...</td>\n",
       "      <td>L-lysine:L-arginine antiporter activity</td>\n",
       "      <td>[]</td>\n",
       "      <td>[]</td>\n",
       "      <td>[]</td>\n",
       "      <td>[]</td>\n",
       "    </tr>\n",
       "    <tr>\n",
       "      <th>GO:0120258</th>\n",
       "      <td>The acetylation of peptidyl-threonine to form ...</td>\n",
       "      <td>peptidyl-threonine O-acetylation</td>\n",
       "      <td>[]</td>\n",
       "      <td>[]</td>\n",
       "      <td>[]</td>\n",
       "      <td>[]</td>\n",
       "    </tr>\n",
       "    <tr>\n",
       "      <th>GO:0140450</th>\n",
       "      <td>The process of targeting specific proteins to ...</td>\n",
       "      <td>protein targeting to Golgi apparatus</td>\n",
       "      <td>[]</td>\n",
       "      <td>[]</td>\n",
       "      <td>[]</td>\n",
       "      <td>[]</td>\n",
       "    </tr>\n",
       "    <tr>\n",
       "      <th>GO:0140882</th>\n",
       "      <td>The directed movement of zinc ions from a cell...</td>\n",
       "      <td>zinc export across plasma membrane</td>\n",
       "      <td>[zinc ion export from cell]</td>\n",
       "      <td>[]</td>\n",
       "      <td>[]</td>\n",
       "      <td>[]</td>\n",
       "    </tr>\n",
       "    <tr>\n",
       "      <th>GO:0140958</th>\n",
       "      <td>The process in which a miRNA is targeted for d...</td>\n",
       "      <td>target-directed miRNA degradation</td>\n",
       "      <td>[target-directed microRNA degradation, TDMD]</td>\n",
       "      <td>[]</td>\n",
       "      <td>[]</td>\n",
       "      <td>[]</td>\n",
       "    </tr>\n",
       "  </tbody>\n",
       "</table>\n",
       "<p>228 rows × 6 columns</p>\n",
       "</div>"
      ],
      "text/plain": [
       "                                                        label  \\\n",
       "GO:0140404  A process mediated by a molecule secreted by a...   \n",
       "GO:0106290  Catalysis of the reaction: (E)-cinnamate + ATP...   \n",
       "GO:0106286  Catalysis of the reaction: (E)-caffeate + ATP ...   \n",
       "GO:0106411  Catalysis of the reaction: 5'XMP + H20 = phosp...   \n",
       "GO:0140989  Catalysis of the reaction:  7-deoxyloganate + ...   \n",
       "...                                                       ...   \n",
       "GO:0106439  Enables the transfer of a solute or solutes fr...   \n",
       "GO:0120258  The acetylation of peptidyl-threonine to form ...   \n",
       "GO:0140450  The process of targeting specific proteins to ...   \n",
       "GO:0140882  The directed movement of zinc ions from a cell...   \n",
       "GO:0140958  The process in which a miRNA is targeted for d...   \n",
       "\n",
       "                                                         name  \\\n",
       "GO:0140404  effector-mediated perturbation of host innate ...   \n",
       "GO:0106290                trans-cinnamate-CoA ligase activity   \n",
       "GO:0106286                   (E)-caffeate-CoA ligase activity   \n",
       "GO:0106411                       XMP 5'-nucleosidase activity   \n",
       "GO:0140989             7-deoxyloganate 7-hydroxylase activity   \n",
       "...                                                       ...   \n",
       "GO:0106439            L-lysine:L-arginine antiporter activity   \n",
       "GO:0120258                   peptidyl-threonine O-acetylation   \n",
       "GO:0140450               protein targeting to Golgi apparatus   \n",
       "GO:0140882                 zinc export across plasma membrane   \n",
       "GO:0140958                  target-directed miRNA degradation   \n",
       "\n",
       "                                                synonym_exact synonym_narrow  \\\n",
       "GO:0140404  [effector mediated modulation of host immune r...             []   \n",
       "GO:0106290                                                 []             []   \n",
       "GO:0106286                                                 []             []   \n",
       "GO:0106411                                                 []             []   \n",
       "GO:0140989                                                 []             []   \n",
       "...                                                       ...            ...   \n",
       "GO:0106439                                                 []             []   \n",
       "GO:0120258                                                 []             []   \n",
       "GO:0140450                                                 []             []   \n",
       "GO:0140882                        [zinc ion export from cell]             []   \n",
       "GO:0140958       [target-directed microRNA degradation, TDMD]             []   \n",
       "\n",
       "           synonym_related synonym_broad  \n",
       "GO:0140404              []            []  \n",
       "GO:0106290              []            []  \n",
       "GO:0106286              []            []  \n",
       "GO:0106411              []            []  \n",
       "GO:0140989              []            []  \n",
       "...                    ...           ...  \n",
       "GO:0106439              []            []  \n",
       "GO:0120258              []            []  \n",
       "GO:0140450              []            []  \n",
       "GO:0140882              []            []  \n",
       "GO:0140958              []            []  \n",
       "\n",
       "[228 rows x 6 columns]"
      ]
     },
     "execution_count": 16,
     "metadata": {},
     "output_type": "execute_result"
    }
   ],
   "source": [
    "annotations_2023.loc[list(labels_zero_shot.keys())]"
   ]
  },
  {
   "cell_type": "markdown",
   "metadata": {},
   "source": [
    "# Explore Model Predictions"
   ]
  },
  {
   "cell_type": "code",
   "execution_count": 15,
   "metadata": {},
   "outputs": [],
   "source": [
    "#Read Val Datas\n",
    "#final_validation_labels_fl_mlpscale2_projection_head_2layers\n",
    "\n",
    "val_labels = pd.read_parquet(\"../outputs/results/final_validation_labels_FL_WeightedSampling_LargeMLP_LastToken.parquet\")\n",
    "val_logits = pd.read_parquet(\"../outputs/results/final_validation_logits_FL_WeightedSampling_LargeMLP_LastToken.parquet\")\n",
    "pinf_val_logits = pd.read_parquet('../outputs/results/validation_logits_proteinfer.parquet')\n",
    "pinf_val_labels= pd.read_parquet('../outputs/results/validation_labels_proteinfer.parquet')\n",
    "label_descriptions = pd.read_pickle('../data/annotations/go_annotations_2019_07_01.pkl')\n",
    "label_descriptions['label'] = label_descriptions['label'].str.lower().str.rstrip()\n"
   ]
  },
  {
   "cell_type": "code",
   "execution_count": 16,
   "metadata": {},
   "outputs": [
    {
     "data": {
      "text/plain": [
       "((44362, 32102), (44300, 32102))"
      ]
     },
     "execution_count": 16,
     "metadata": {},
     "output_type": "execute_result"
    }
   ],
   "source": [
    "val_labels.shape,pinf_val_logits.shape"
   ]
  },
  {
   "cell_type": "code",
   "execution_count": 17,
   "metadata": {},
   "outputs": [],
   "source": [
    "#Common ids.. They should all be common but there are 60 sequences more in our dataset\n",
    "#Crate Tensor versions\n",
    "\n",
    "common_seqids = list(set(val_labels.index) & set(pinf_val_labels.index))\n",
    "\n",
    "\n",
    "val_logits = val_logits.loc[common_seqids]\n",
    "val_labels = val_labels.loc[common_seqids]\n",
    "pinf_val_logits = pinf_val_logits.loc[common_seqids]\n",
    "pinf_val_labels = pinf_val_labels.loc[common_seqids]\n",
    "\n",
    "val_logits_t = torch.tensor(val_logits.values)\n",
    "val_labels_t = torch.tensor(val_labels.values).float()\n",
    "val_probabilities_t = torch.sigmoid(val_logits_t)\n",
    "\n",
    "pinf_val_logits_t = torch.tensor(pinf_val_logits.values)\n",
    "pinf_val_labels_t = torch.tensor(pinf_val_labels.values).float()\n",
    "pinf_val_probabilities_t = torch.sigmoid(pinf_val_logits_t)\n",
    "\n",
    "val_probabilities = pd.DataFrame(val_probabilities_t.numpy(),columns=val_logits.columns,index=val_logits.index)\n",
    "pinf_val_probabilities = pd.DataFrame(pinf_val_probabilities_t.numpy(),columns=pinf_val_logits.columns,index=pinf_val_logits.index)"
   ]
  },
  {
   "cell_type": "code",
   "execution_count": 18,
   "metadata": {},
   "outputs": [],
   "source": [
    "# val_logits_t = torch.tensor(val_logits.values)\n",
    "# val_labels_t = torch.tensor(val_labels.values).float()\n",
    "# val_probabilities_t = torch.sigmoid(val_logits_t)\n",
    "\n",
    "# pinf_val_logits_t = torch.tensor(pinf_val_logits.values)\n",
    "# pinf_val_labels_t = torch.tensor(pinf_val_labels.values).float()\n",
    "# pinf_val_probabilities_t = torch.sigmoid(pinf_val_logits_t)\n",
    "\n",
    "# val_probabilities = pd.DataFrame(val_probabilities_t.numpy(),columns=val_logits.columns,index=val_logits.index)\n",
    "# pinf_val_probabilities = pd.DataFrame(pinf_val_probabilities_t.numpy(),columns=pinf_val_logits.columns,index=pinf_val_logits.index)"
   ]
  },
  {
   "cell_type": "code",
   "execution_count": null,
   "metadata": {},
   "outputs": [],
   "source": [
    "cooc = val_labels_t.T@val_labels_t"
   ]
  },
  {
   "cell_type": "code",
   "execution_count": 23,
   "metadata": {},
   "outputs": [
    {
     "data": {
      "text/plain": [
       "<matplotlib.legend.Legend at 0x7ff412ae3d30>"
      ]
     },
     "execution_count": 23,
     "metadata": {},
     "output_type": "execute_result"
    },
    {
     "data": {
      "image/png": "[encoded data removed]",
      "text/plain": [
       "<Figure size 640x480 with 1 Axes>"
      ]
     },
     "metadata": {},
     "output_type": "display_data"
    }
   ],
   "source": [
    "val_probabilities.mean(axis=1).plot(label='Ours')\n",
    "pinf_val_probabilities.mean(axis=1).plot(label='Proteinfer',alpha=0.5,linestyle='--')\n",
    "plt.legend()"
   ]
  },
  {
   "cell_type": "code",
   "execution_count": 24,
   "metadata": {},
   "outputs": [
    {
     "data": {
      "text/plain": [
       "<matplotlib.legend.Legend at 0x7ff412ae3ca0>"
      ]
     },
     "execution_count": 24,
     "metadata": {},
     "output_type": "execute_result"
    },
    {
     "data": {
      "image/png": "[encoded data removed]",
      "text/plain": [
       "<Figure size 640x480 with 1 Axes>"
      ]
     },
     "metadata": {},
     "output_type": "display_data"
    }
   ],
   "source": [
    "val_probabilities.mean(axis=0).plot(label='Ours')\n",
    "pinf_val_probabilities.mean(axis=0).plot(label='Proteinfer',alpha=0.5,linestyle='--')\n",
    "plt.legend()"
   ]
  },
  {
   "cell_type": "code",
   "execution_count": 25,
   "metadata": {},
   "outputs": [
    {
     "data": {
      "text/plain": [
       "0    0.995114\n",
       "dtype: float64"
      ]
     },
     "execution_count": 25,
     "metadata": {},
     "output_type": "execute_result"
    }
   ],
   "source": [
    "pd.DataFrame(val_probabilities.mean(axis=0)).corrwith(pd.DataFrame(pinf_val_probabilities.mean(axis=0)),axis=0)"
   ]
  },
  {
   "cell_type": "code",
   "execution_count": 26,
   "metadata": {},
   "outputs": [],
   "source": [
    "sequence_dist_corr = pinf_val_probabilities.corrwith(val_probabilities,axis=1)\n",
    "label_dist_corr = pinf_val_probabilities.corrwith(val_probabilities,axis=0)"
   ]
  },
  {
   "cell_type": "code",
   "execution_count": 27,
   "metadata": {},
   "outputs": [
    {
     "data": {
      "text/plain": [
       "<Axes: >"
      ]
     },
     "execution_count": 27,
     "metadata": {},
     "output_type": "execute_result"
    },
    {
     "data": {
      "image/png": "[encoded data removed]",
      "text/plain": [
       "<Figure size 640x480 with 1 Axes>"
      ]
     },
     "metadata": {},
     "output_type": "display_data"
    }
   ],
   "source": [
    "sequence_dist_corr.hist(bins=100)"
   ]
  },
  {
   "cell_type": "code",
   "execution_count": 28,
   "metadata": {},
   "outputs": [
    {
     "data": {
      "text/plain": [
       "<Axes: >"
      ]
     },
     "execution_count": 28,
     "metadata": {},
     "output_type": "execute_result"
    },
    {
     "data": {
      "image/png": "[encoded data removed]",
      "text/plain": [
       "<Figure size 640x480 with 1 Axes>"
      ]
     },
     "metadata": {},
     "output_type": "display_data"
    }
   ],
   "source": [
    "label_dist_corr.hist(bins=100)"
   ]
  },
  {
   "cell_type": "markdown",
   "metadata": {},
   "source": [
    "Compare losses"
   ]
  },
  {
   "cell_type": "code",
   "execution_count": 19,
   "metadata": {},
   "outputs": [
    {
     "name": "stdout",
     "output_type": "stream",
     "text": [
      "Focal Loss with alpha: -1, gamma: 2, reduction: none, label_smoothing: 0.0\n"
     ]
    }
   ],
   "source": [
    "bce_probs = torch.nn.BCELoss(reduction='none')\n",
    "bce = torch.nn.BCEWithLogitsLoss(reduction='none')\n",
    "fl = FocalLoss(alpha=-1,gamma=2,reduction='none')\n"
   ]
  },
  {
   "cell_type": "code",
   "execution_count": 31,
   "metadata": {},
   "outputs": [
    {
     "data": {
      "text/plain": [
       "(tensor(0.0036), tensor(0.0020))"
      ]
     },
     "execution_count": 31,
     "metadata": {},
     "output_type": "execute_result"
    }
   ],
   "source": [
    "#BCE Loss\n",
    "ours_val_bce_losses = bce(torch.tensor(val_logits.values), torch.tensor(val_labels.values).float())\n",
    "pinf_val_bce_losses = bce(torch.tensor(pinf_val_logits.values), torch.tensor(pinf_val_labels.values).float())\n",
    "pinf_val_bce_losses.mean(),ours_val_bce_losses.mean()"
   ]
  },
  {
   "cell_type": "code",
   "execution_count": 20,
   "metadata": {},
   "outputs": [
    {
     "data": {
      "text/plain": [
       "(tensor(0.0035), tensor(0.0008))"
      ]
     },
     "execution_count": 20,
     "metadata": {},
     "output_type": "execute_result"
    }
   ],
   "source": [
    "#Focal Loss\n",
    "\n",
    "ours_val_fl_losses = fl(torch.tensor(val_logits.values), torch.tensor(val_labels.values).float())\n",
    "pinf_val_fl_losses = fl(torch.tensor(pinf_val_logits.values), torch.tensor(pinf_val_labels.values).float())\n",
    "pinf_val_fl_losses.mean(),ours_val_fl_losses.mean()"
   ]
  },
  {
   "cell_type": "markdown",
   "metadata": {},
   "source": [
    "Random model baseline losses"
   ]
  },
  {
   "cell_type": "code",
   "execution_count": 21,
   "metadata": {},
   "outputs": [
    {
     "data": {
      "text/plain": [
       "(tensor(0.6931), tensor(0.3769))"
      ]
     },
     "execution_count": 21,
     "metadata": {},
     "output_type": "execute_result"
    }
   ],
   "source": [
    "random_model_bce = bce_probs(torch.ones_like(val_labels_t)*0.5, val_labels_t)\n",
    "random_model_fl =fl(torch.ones_like(val_labels_t)*0.5, val_labels_t)\n",
    "random_model_bce.mean(),random_model_fl.mean()"
   ]
  },
  {
   "cell_type": "markdown",
   "metadata": {},
   "source": [
    "Always predict 1/672 = probability of positive in the dataset"
   ]
  },
  {
   "cell_type": "code",
   "execution_count": 22,
   "metadata": {},
   "outputs": [
    {
     "data": {
      "text/plain": [
       "(tensor(0.0113), tensor(0.1737))"
      ]
     },
     "execution_count": 22,
     "metadata": {},
     "output_type": "execute_result"
    }
   ],
   "source": [
    "always_negative_preds = torch.ones_like(val_labels_t)/672\n",
    "predict_0_model_bce = bce_probs(always_negative_preds, val_labels_t)\n",
    "predict_0_model_fl = fl(always_negative_preds, val_labels_t)\n",
    "\n",
    "predict_0_model_bce.mean(),predict_0_model_fl.mean()\n"
   ]
  },
  {
   "cell_type": "code",
   "execution_count": 23,
   "metadata": {},
   "outputs": [],
   "source": [
    "always_negative_preds = torch.ones_like(val_labels_t)/672\n",
    "always_random = torch.ones_like(val_labels_t)*.5"
   ]
  },
  {
   "cell_type": "markdown",
   "metadata": {},
   "source": [
    "Baseline top classes"
   ]
  },
  {
   "cell_type": "code",
   "execution_count": 24,
   "metadata": {},
   "outputs": [
    {
     "data": {
      "text/plain": [
       "(tensor(0.0927), tensor(0.1867))"
      ]
     },
     "execution_count": 24,
     "metadata": {},
     "output_type": "execute_result"
    }
   ],
   "source": [
    "n = 1000\n",
    "predict_top_classes = val_probabilities.copy()\n",
    "top_n = go_term_distribution[:n].index\n",
    "predict_top_classes.iloc[:,:] = 0.0\n",
    "for col in top_n:\n",
    "    predict_top_classes[col]=0.9\n",
    "predict_top_classes = torch.tensor(predict_top_classes.values).float()\n",
    "\n",
    "predict_top_classes_bce = bce_probs(predict_top_classes, val_labels_t)\n",
    "predict_top_classes_fl = fl(predict_top_classes, val_labels_t)\n",
    "\n",
    "predict_top_classes_bce.mean(),predict_top_classes_fl.mean()"
   ]
  },
  {
   "cell_type": "markdown",
   "metadata": {},
   "source": [
    "Calculate metrics per class for both model_comparison_auprc_per_label"
   ]
  },
  {
   "cell_type": "code",
   "execution_count": 25,
   "metadata": {},
   "outputs": [
    {
     "name": "stderr",
     "output_type": "stream",
     "text": [
      "100%|██████████| 21791/21791 [00:53<00:00, 407.71it/s]\n",
      "100%|██████████| 21791/21791 [00:50<00:00, 427.90it/s]\n",
      "/anaconda/envs/protein_functions_310/lib/python3.10/site-packages/pyarrow/pandas_compat.py:373: FutureWarning: is_sparse is deprecated and will be removed in a future version. Check `isinstance(dtype, pd.SparseDtype)` instead.\n",
      "  if _pandas_api.is_sparse(col):\n"
     ]
    }
   ],
   "source": [
    "#Define threshold to calculate threshold-dependent metrics otherwise only threshold-agnostic metrics are calculated\n",
    "threshold = None\n",
    "res=metrics_per_label_df(val_labels,val_probabilities,device='cuda',threshold=threshold)\n",
    "pinf_res=metrics_per_label_df(pinf_val_labels,pinf_val_probabilities,device='cuda',threshold=threshold)\n",
    "\n",
    "\n",
    "#Combine both dataframes\n",
    "res['model']='Ours'\n",
    "pinf_res['model']='Proteinfer'\n",
    "res=pd.concat([res,pinf_res],axis=0)\n",
    "res = res.drop([\"Frequency\",\"Relative Frequency\"],axis=1)\n",
    "res[\"Frequency\"] = res.index.map(go_term_distribution)\n",
    "res.to_parquet(\"model_comparison_auprc_per_label.parquet\")"
   ]
  },
  {
   "cell_type": "code",
   "execution_count": 26,
   "metadata": {},
   "outputs": [
    {
     "data": {
      "text/html": [
       "<div>\n",
       "<style scoped>\n",
       "    .dataframe tbody tr th:only-of-type {\n",
       "        vertical-align: middle;\n",
       "    }\n",
       "\n",
       "    .dataframe tbody tr th {\n",
       "        vertical-align: top;\n",
       "    }\n",
       "\n",
       "    .dataframe thead th {\n",
       "        text-align: right;\n",
       "    }\n",
       "</style>\n",
       "<table border=\"1\" class=\"dataframe\">\n",
       "  <thead>\n",
       "    <tr style=\"text-align: right;\">\n",
       "      <th></th>\n",
       "      <th>AUPRC</th>\n",
       "      <th>Frequency</th>\n",
       "    </tr>\n",
       "    <tr>\n",
       "      <th>model</th>\n",
       "      <th></th>\n",
       "      <th></th>\n",
       "    </tr>\n",
       "  </thead>\n",
       "  <tbody>\n",
       "    <tr>\n",
       "      <th>Ours</th>\n",
       "      <td>0.592565</td>\n",
       "      <td>635.987821</td>\n",
       "    </tr>\n",
       "    <tr>\n",
       "      <th>Proteinfer</th>\n",
       "      <td>0.651608</td>\n",
       "      <td>635.987821</td>\n",
       "    </tr>\n",
       "  </tbody>\n",
       "</table>\n",
       "</div>"
      ],
      "text/plain": [
       "               AUPRC   Frequency\n",
       "model                           \n",
       "Ours        0.592565  635.987821\n",
       "Proteinfer  0.651608  635.987821"
      ]
     },
     "execution_count": 26,
     "metadata": {},
     "output_type": "execute_result"
    }
   ],
   "source": [
    "res.groupby(['model']).mean()"
   ]
  },
  {
   "cell_type": "markdown",
   "metadata": {},
   "source": [
    "Visualie distribution of AUPRC"
   ]
  },
  {
   "cell_type": "code",
   "execution_count": 41,
   "metadata": {},
   "outputs": [
    {
     "data": {
      "text/plain": [
       "<Axes: xlabel='AUPRC', ylabel='Count'>"
      ]
     },
     "execution_count": 41,
     "metadata": {},
     "output_type": "execute_result"
    },
    {
     "data": {
      "image/png": "[encoded data removed]",
      "text/plain": [
       "<Figure size 640x480 with 1 Axes>"
      ]
     },
     "metadata": {},
     "output_type": "display_data"
    }
   ],
   "source": [
    "sns.histplot(data = res.reset_index(),x='AUPRC',hue='model',bins=100)"
   ]
  },
  {
   "cell_type": "code",
   "execution_count": 27,
   "metadata": {},
   "outputs": [],
   "source": [
    "res_pivot = res.pivot(columns=['model'],values=['AUPRC','Frequency'])\n",
    "res_pivot.columns = [i[0]+'_'+i[1] for i in res_pivot.columns]\n",
    "ours_better = res_pivot[res_pivot['AUPRC_Ours']>res_pivot['AUPRC_Proteinfer']].sort_values(by='Frequency_Ours',ascending=False)"
   ]
  },
  {
   "cell_type": "code",
   "execution_count": 44,
   "metadata": {},
   "outputs": [],
   "source": [
    "import gc\n",
    "gc.collect()\n",
    "torch.cuda.empty_cache()\n"
   ]
  },
  {
   "cell_type": "code",
   "execution_count": 28,
   "metadata": {},
   "outputs": [
    {
     "name": "stdout",
     "output_type": "stream",
     "text": [
      "23.943886497688506\n",
      "8.06631595727722\n",
      "8.305435995536426\n",
      "9.995217599234817\n",
      "10.004782400765183\n",
      "9.749721026622032\n",
      "9.947393591582975\n",
      "10.007970667941974\n",
      "9.979276263350869\n"
     ]
    },
    {
     "data": {
      "image/png": "[encoded data removed]",
      "text/plain": [
       "<Figure size 1500x600 with 1 Axes>"
      ]
     },
     "metadata": {},
     "output_type": "display_data"
    }
   ],
   "source": [
    "metric = 'AUPRC'\n",
    "quantiles = 10 #May not find desired number and could be less.\n",
    "\n",
    "#Bin frequencies\n",
    "freq_bins, freq_bin_edges = pd.qcut(go_term_distribution,q=quantiles,duplicates='drop',precision=0,retbins=True, labels=None)\n",
    "\n",
    "res['Frequency Bin']=res.index.map(freq_bins)\n",
    "res.dropna(subset=[\"AUPRC\"],inplace=True)\n",
    "freq_bins_pct = freq_bins.value_counts()*100/len(go_term_distribution)\n",
    "fig, ax = plt.subplots(figsize=(15,6))\n",
    "\n",
    "# Annotate bars with the percentage of observations\n",
    "for index, value in enumerate(freq_bins_pct.sort_index().values):\n",
    "    print(value)\n",
    "    ax.text(index, ax.get_ylim()[1]*0.01 + max(res[metric]) * 0.01, f\"{value:.2f}%\", ha='center')\n",
    "\n",
    "\n",
    "sns.barplot(data = res.reset_index(drop=True),\n",
    "            x='Frequency Bin',\n",
    "            y=metric,\n",
    "            alpha=0.8,\n",
    "            errorbar=('ci', 95),\n",
    "            hue='model')\n",
    "ax.set(title=f'Individual label performance ({metric}) by label frequency quantiles',\n",
    "       xlabel='Frequency of GO Function Annotation',\n",
    "       ylabel=metric)\n",
    "sns.despine()\n",
    "plt.ylim(0,1)\n",
    "plt.show()"
   ]
  },
  {
   "cell_type": "code",
   "execution_count": 29,
   "metadata": {},
   "outputs": [
    {
     "data": {
      "text/html": [
       "<div>\n",
       "<style scoped>\n",
       "    .dataframe tbody tr th:only-of-type {\n",
       "        vertical-align: middle;\n",
       "    }\n",
       "\n",
       "    .dataframe tbody tr th {\n",
       "        vertical-align: top;\n",
       "    }\n",
       "\n",
       "    .dataframe thead th {\n",
       "        text-align: right;\n",
       "    }\n",
       "</style>\n",
       "<table border=\"1\" class=\"dataframe\">\n",
       "  <thead>\n",
       "    <tr style=\"text-align: right;\">\n",
       "      <th></th>\n",
       "      <th>AUPRC</th>\n",
       "      <th>model</th>\n",
       "      <th>Frequency</th>\n",
       "      <th>Frequency Bin</th>\n",
       "    </tr>\n",
       "  </thead>\n",
       "  <tbody>\n",
       "    <tr>\n",
       "      <th>GO:0003674</th>\n",
       "      <td>0.996428</td>\n",
       "      <td>Ours</td>\n",
       "      <td>369909.0</td>\n",
       "      <td>(383.0, 369909.0]</td>\n",
       "    </tr>\n",
       "    <tr>\n",
       "      <th>GO:0008150</th>\n",
       "      <td>0.989658</td>\n",
       "      <td>Ours</td>\n",
       "      <td>346677.0</td>\n",
       "      <td>(383.0, 369909.0]</td>\n",
       "    </tr>\n",
       "    <tr>\n",
       "      <th>GO:0005575</th>\n",
       "      <td>0.993896</td>\n",
       "      <td>Ours</td>\n",
       "      <td>321980.0</td>\n",
       "      <td>(383.0, 369909.0]</td>\n",
       "    </tr>\n",
       "    <tr>\n",
       "      <th>GO:0009987</th>\n",
       "      <td>0.984949</td>\n",
       "      <td>Ours</td>\n",
       "      <td>295442.0</td>\n",
       "      <td>(383.0, 369909.0]</td>\n",
       "    </tr>\n",
       "    <tr>\n",
       "      <th>GO:0044464</th>\n",
       "      <td>0.988314</td>\n",
       "      <td>Ours</td>\n",
       "      <td>291432.0</td>\n",
       "      <td>(383.0, 369909.0]</td>\n",
       "    </tr>\n",
       "    <tr>\n",
       "      <th>...</th>\n",
       "      <td>...</td>\n",
       "      <td>...</td>\n",
       "      <td>...</td>\n",
       "      <td>...</td>\n",
       "    </tr>\n",
       "    <tr>\n",
       "      <th>GO:0033400</th>\n",
       "      <td>1.000000</td>\n",
       "      <td>Ours</td>\n",
       "      <td>1.0</td>\n",
       "      <td>(0.0, 3.0]</td>\n",
       "    </tr>\n",
       "    <tr>\n",
       "      <th>GO:0120012</th>\n",
       "      <td>1.000000</td>\n",
       "      <td>Ours</td>\n",
       "      <td>1.0</td>\n",
       "      <td>(0.0, 3.0]</td>\n",
       "    </tr>\n",
       "    <tr>\n",
       "      <th>GO:0035589</th>\n",
       "      <td>1.000000</td>\n",
       "      <td>Ours</td>\n",
       "      <td>1.0</td>\n",
       "      <td>(0.0, 3.0]</td>\n",
       "    </tr>\n",
       "    <tr>\n",
       "      <th>GO:0050643</th>\n",
       "      <td>1.000000</td>\n",
       "      <td>Ours</td>\n",
       "      <td>NaN</td>\n",
       "      <td>NaN</td>\n",
       "    </tr>\n",
       "    <tr>\n",
       "      <th>GO:0080078</th>\n",
       "      <td>1.000000</td>\n",
       "      <td>Ours</td>\n",
       "      <td>NaN</td>\n",
       "      <td>NaN</td>\n",
       "    </tr>\n",
       "  </tbody>\n",
       "</table>\n",
       "<p>6338 rows × 4 columns</p>\n",
       "</div>"
      ],
      "text/plain": [
       "               AUPRC model  Frequency      Frequency Bin\n",
       "GO:0003674  0.996428  Ours   369909.0  (383.0, 369909.0]\n",
       "GO:0008150  0.989658  Ours   346677.0  (383.0, 369909.0]\n",
       "GO:0005575  0.993896  Ours   321980.0  (383.0, 369909.0]\n",
       "GO:0009987  0.984949  Ours   295442.0  (383.0, 369909.0]\n",
       "GO:0044464  0.988314  Ours   291432.0  (383.0, 369909.0]\n",
       "...              ...   ...        ...                ...\n",
       "GO:0033400  1.000000  Ours        1.0         (0.0, 3.0]\n",
       "GO:0120012  1.000000  Ours        1.0         (0.0, 3.0]\n",
       "GO:0035589  1.000000  Ours        1.0         (0.0, 3.0]\n",
       "GO:0050643  1.000000  Ours        NaN                NaN\n",
       "GO:0080078  1.000000  Ours        NaN                NaN\n",
       "\n",
       "[6338 rows x 4 columns]"
      ]
     },
     "execution_count": 29,
     "metadata": {},
     "output_type": "execute_result"
    }
   ],
   "source": [
    "res_ours = res.loc[res['model']=='Ours']\n",
    "res_pinf = res.loc[res['model']=='Proteinfer']\n",
    "\n",
    "res_ours[res_ours['AUPRC']>=0.9].sort_values(by='Frequency',ascending=False)"
   ]
  },
  {
   "cell_type": "code",
   "execution_count": 43,
   "metadata": {},
   "outputs": [
    {
     "data": {
      "text/plain": [
       "AUPRC           0.966465\n",
       "Frequency    8255.058458\n",
       "dtype: float64"
      ]
     },
     "execution_count": 43,
     "metadata": {},
     "output_type": "execute_result"
    }
   ],
   "source": [
    "res_ours[res_ours['AUPRC']>=0.9][['AUPRC','Frequency']].mean()"
   ]
  },
  {
   "cell_type": "code",
   "execution_count": 44,
   "metadata": {},
   "outputs": [
    {
     "data": {
      "text/html": [
       "<div>\n",
       "<style scoped>\n",
       "    .dataframe tbody tr th:only-of-type {\n",
       "        vertical-align: middle;\n",
       "    }\n",
       "\n",
       "    .dataframe tbody tr th {\n",
       "        vertical-align: top;\n",
       "    }\n",
       "\n",
       "    .dataframe thead th {\n",
       "        text-align: right;\n",
       "    }\n",
       "</style>\n",
       "<table border=\"1\" class=\"dataframe\">\n",
       "  <thead>\n",
       "    <tr style=\"text-align: right;\">\n",
       "      <th></th>\n",
       "      <th>AUPRC</th>\n",
       "      <th>model</th>\n",
       "      <th>Frequency</th>\n",
       "      <th>Frequency Bin</th>\n",
       "    </tr>\n",
       "  </thead>\n",
       "  <tbody>\n",
       "    <tr>\n",
       "      <th>GO:0003674</th>\n",
       "      <td>0.994481</td>\n",
       "      <td>Proteinfer</td>\n",
       "      <td>369909.0</td>\n",
       "      <td>(383.0, 369909.0]</td>\n",
       "    </tr>\n",
       "    <tr>\n",
       "      <th>GO:0008150</th>\n",
       "      <td>0.983664</td>\n",
       "      <td>Proteinfer</td>\n",
       "      <td>346677.0</td>\n",
       "      <td>(383.0, 369909.0]</td>\n",
       "    </tr>\n",
       "    <tr>\n",
       "      <th>GO:0005575</th>\n",
       "      <td>0.992867</td>\n",
       "      <td>Proteinfer</td>\n",
       "      <td>321980.0</td>\n",
       "      <td>(383.0, 369909.0]</td>\n",
       "    </tr>\n",
       "    <tr>\n",
       "      <th>GO:0009987</th>\n",
       "      <td>0.980420</td>\n",
       "      <td>Proteinfer</td>\n",
       "      <td>295442.0</td>\n",
       "      <td>(383.0, 369909.0]</td>\n",
       "    </tr>\n",
       "    <tr>\n",
       "      <th>GO:0044464</th>\n",
       "      <td>0.986555</td>\n",
       "      <td>Proteinfer</td>\n",
       "      <td>291432.0</td>\n",
       "      <td>(383.0, 369909.0]</td>\n",
       "    </tr>\n",
       "    <tr>\n",
       "      <th>...</th>\n",
       "      <td>...</td>\n",
       "      <td>...</td>\n",
       "      <td>...</td>\n",
       "      <td>...</td>\n",
       "    </tr>\n",
       "    <tr>\n",
       "      <th>GO:1904025</th>\n",
       "      <td>1.000000</td>\n",
       "      <td>Proteinfer</td>\n",
       "      <td>1.0</td>\n",
       "      <td>(0.0, 3.0]</td>\n",
       "    </tr>\n",
       "    <tr>\n",
       "      <th>GO:0033841</th>\n",
       "      <td>1.000000</td>\n",
       "      <td>Proteinfer</td>\n",
       "      <td>1.0</td>\n",
       "      <td>(0.0, 3.0]</td>\n",
       "    </tr>\n",
       "    <tr>\n",
       "      <th>GO:0090425</th>\n",
       "      <td>1.000000</td>\n",
       "      <td>Proteinfer</td>\n",
       "      <td>1.0</td>\n",
       "      <td>(0.0, 3.0]</td>\n",
       "    </tr>\n",
       "    <tr>\n",
       "      <th>GO:0021837</th>\n",
       "      <td>1.000000</td>\n",
       "      <td>Proteinfer</td>\n",
       "      <td>1.0</td>\n",
       "      <td>(0.0, 3.0]</td>\n",
       "    </tr>\n",
       "    <tr>\n",
       "      <th>GO:0030251</th>\n",
       "      <td>1.000000</td>\n",
       "      <td>Proteinfer</td>\n",
       "      <td>1.0</td>\n",
       "      <td>(0.0, 3.0]</td>\n",
       "    </tr>\n",
       "  </tbody>\n",
       "</table>\n",
       "<p>7856 rows × 4 columns</p>\n",
       "</div>"
      ],
      "text/plain": [
       "               AUPRC       model  Frequency      Frequency Bin\n",
       "GO:0003674  0.994481  Proteinfer   369909.0  (383.0, 369909.0]\n",
       "GO:0008150  0.983664  Proteinfer   346677.0  (383.0, 369909.0]\n",
       "GO:0005575  0.992867  Proteinfer   321980.0  (383.0, 369909.0]\n",
       "GO:0009987  0.980420  Proteinfer   295442.0  (383.0, 369909.0]\n",
       "GO:0044464  0.986555  Proteinfer   291432.0  (383.0, 369909.0]\n",
       "...              ...         ...        ...                ...\n",
       "GO:1904025  1.000000  Proteinfer        1.0         (0.0, 3.0]\n",
       "GO:0033841  1.000000  Proteinfer        1.0         (0.0, 3.0]\n",
       "GO:0090425  1.000000  Proteinfer        1.0         (0.0, 3.0]\n",
       "GO:0021837  1.000000  Proteinfer        1.0         (0.0, 3.0]\n",
       "GO:0030251  1.000000  Proteinfer        1.0         (0.0, 3.0]\n",
       "\n",
       "[7856 rows x 4 columns]"
      ]
     },
     "execution_count": 44,
     "metadata": {},
     "output_type": "execute_result"
    }
   ],
   "source": [
    "res_pinf[res_pinf['AUPRC']>=0.9].sort_values(by='Frequency',ascending=False)"
   ]
  },
  {
   "cell_type": "code",
   "execution_count": 45,
   "metadata": {},
   "outputs": [
    {
     "data": {
      "text/plain": [
       "AUPRC           0.988498\n",
       "Frequency    1798.803335\n",
       "dtype: float64"
      ]
     },
     "execution_count": 45,
     "metadata": {},
     "output_type": "execute_result"
    }
   ],
   "source": [
    "res_pinf[res_pinf['AUPRC']>=0.9][['AUPRC','Frequency']].mean()"
   ]
  },
  {
   "cell_type": "code",
   "execution_count": 109,
   "metadata": {},
   "outputs": [
    {
     "data": {
      "text/plain": [
       "0.9623318579385053"
      ]
     },
     "execution_count": 109,
     "metadata": {},
     "output_type": "execute_result"
    }
   ],
   "source": [
    "res_pinf.loc[res_ours[res_ours['AUPRC']>=0.8].index]['AUPRC'].mean()"
   ]
  },
  {
   "cell_type": "markdown",
   "metadata": {},
   "source": [
    "Explore worst errors"
   ]
  },
  {
   "cell_type": "code",
   "execution_count": 67,
   "metadata": {},
   "outputs": [
    {
     "data": {
      "text/plain": [
       "torch.Size([44300, 32102])"
      ]
     },
     "execution_count": 67,
     "metadata": {},
     "output_type": "execute_result"
    }
   ],
   "source": [
    "ours_val_fl_losses.shape"
   ]
  },
  {
   "cell_type": "code",
   "execution_count": 30,
   "metadata": {},
   "outputs": [],
   "source": [
    "ours_val_fl_df = pd.DataFrame(ours_val_fl_losses.numpy(),index=val_labels.index,columns=val_labels.columns)"
   ]
  },
  {
   "cell_type": "code",
   "execution_count": 70,
   "metadata": {},
   "outputs": [
    {
     "data": {
      "text/html": [
       "<div>\n",
       "<style scoped>\n",
       "    .dataframe tbody tr th:only-of-type {\n",
       "        vertical-align: middle;\n",
       "    }\n",
       "\n",
       "    .dataframe tbody tr th {\n",
       "        vertical-align: top;\n",
       "    }\n",
       "\n",
       "    .dataframe thead th {\n",
       "        text-align: right;\n",
       "    }\n",
       "</style>\n",
       "<table border=\"1\" class=\"dataframe\">\n",
       "  <thead>\n",
       "    <tr style=\"text-align: right;\">\n",
       "      <th></th>\n",
       "      <th>GO:0000001</th>\n",
       "      <th>GO:0000002</th>\n",
       "      <th>GO:0000003</th>\n",
       "      <th>GO:0000006</th>\n",
       "      <th>GO:0000007</th>\n",
       "      <th>GO:0000009</th>\n",
       "      <th>GO:0000010</th>\n",
       "      <th>GO:0000011</th>\n",
       "      <th>GO:0000012</th>\n",
       "      <th>GO:0000014</th>\n",
       "      <th>...</th>\n",
       "      <th>GO:2001305</th>\n",
       "      <th>GO:2001306</th>\n",
       "      <th>GO:2001307</th>\n",
       "      <th>GO:2001308</th>\n",
       "      <th>GO:2001310</th>\n",
       "      <th>GO:2001311</th>\n",
       "      <th>GO:2001313</th>\n",
       "      <th>GO:2001315</th>\n",
       "      <th>GO:2001316</th>\n",
       "      <th>GO:2001317</th>\n",
       "    </tr>\n",
       "  </thead>\n",
       "  <tbody>\n",
       "    <tr>\n",
       "      <th>Q6AF49</th>\n",
       "      <td>0.000000e+00</td>\n",
       "      <td>0.000000e+00</td>\n",
       "      <td>1.154452e-15</td>\n",
       "      <td>0.000000e+00</td>\n",
       "      <td>0.000000e+00</td>\n",
       "      <td>0.000000e+00</td>\n",
       "      <td>0.000000e+00</td>\n",
       "      <td>0.000000e+00</td>\n",
       "      <td>0.000000e+00</td>\n",
       "      <td>4.228224e-09</td>\n",
       "      <td>...</td>\n",
       "      <td>0.000000e+00</td>\n",
       "      <td>0.0</td>\n",
       "      <td>0.000000e+00</td>\n",
       "      <td>0.000000e+00</td>\n",
       "      <td>0.000000e+00</td>\n",
       "      <td>0.000000e+00</td>\n",
       "      <td>0.000000e+00</td>\n",
       "      <td>0.000000e+00</td>\n",
       "      <td>0.000000e+00</td>\n",
       "      <td>0.0</td>\n",
       "    </tr>\n",
       "    <tr>\n",
       "      <th>Q9MS73</th>\n",
       "      <td>0.000000e+00</td>\n",
       "      <td>0.000000e+00</td>\n",
       "      <td>0.000000e+00</td>\n",
       "      <td>0.000000e+00</td>\n",
       "      <td>0.000000e+00</td>\n",
       "      <td>0.000000e+00</td>\n",
       "      <td>0.000000e+00</td>\n",
       "      <td>0.000000e+00</td>\n",
       "      <td>0.000000e+00</td>\n",
       "      <td>0.000000e+00</td>\n",
       "      <td>...</td>\n",
       "      <td>0.000000e+00</td>\n",
       "      <td>0.0</td>\n",
       "      <td>0.000000e+00</td>\n",
       "      <td>0.000000e+00</td>\n",
       "      <td>0.000000e+00</td>\n",
       "      <td>0.000000e+00</td>\n",
       "      <td>0.000000e+00</td>\n",
       "      <td>0.000000e+00</td>\n",
       "      <td>0.000000e+00</td>\n",
       "      <td>0.0</td>\n",
       "    </tr>\n",
       "    <tr>\n",
       "      <th>A5FYS5</th>\n",
       "      <td>0.000000e+00</td>\n",
       "      <td>7.903817e-17</td>\n",
       "      <td>1.694066e-21</td>\n",
       "      <td>0.000000e+00</td>\n",
       "      <td>0.000000e+00</td>\n",
       "      <td>5.867545e-09</td>\n",
       "      <td>1.004901e-16</td>\n",
       "      <td>0.000000e+00</td>\n",
       "      <td>2.509816e-15</td>\n",
       "      <td>1.614107e-14</td>\n",
       "      <td>...</td>\n",
       "      <td>1.459441e-14</td>\n",
       "      <td>0.0</td>\n",
       "      <td>1.873496e-16</td>\n",
       "      <td>0.000000e+00</td>\n",
       "      <td>0.000000e+00</td>\n",
       "      <td>0.000000e+00</td>\n",
       "      <td>0.000000e+00</td>\n",
       "      <td>0.000000e+00</td>\n",
       "      <td>0.000000e+00</td>\n",
       "      <td>0.0</td>\n",
       "    </tr>\n",
       "    <tr>\n",
       "      <th>A5G348</th>\n",
       "      <td>2.927344e-18</td>\n",
       "      <td>1.300163e-08</td>\n",
       "      <td>3.881737e-10</td>\n",
       "      <td>6.323040e-16</td>\n",
       "      <td>1.598267e-05</td>\n",
       "      <td>2.395686e-13</td>\n",
       "      <td>0.000000e+00</td>\n",
       "      <td>8.924287e-15</td>\n",
       "      <td>6.674357e-09</td>\n",
       "      <td>1.039228e-11</td>\n",
       "      <td>...</td>\n",
       "      <td>1.543713e-16</td>\n",
       "      <td>0.0</td>\n",
       "      <td>1.355253e-20</td>\n",
       "      <td>1.972197e-12</td>\n",
       "      <td>3.237299e-13</td>\n",
       "      <td>0.000000e+00</td>\n",
       "      <td>5.810643e-19</td>\n",
       "      <td>3.659181e-19</td>\n",
       "      <td>1.694066e-21</td>\n",
       "      <td>0.0</td>\n",
       "    </tr>\n",
       "    <tr>\n",
       "      <th>Q5WFY4</th>\n",
       "      <td>0.000000e+00</td>\n",
       "      <td>1.731027e-14</td>\n",
       "      <td>8.238461e-09</td>\n",
       "      <td>0.000000e+00</td>\n",
       "      <td>0.000000e+00</td>\n",
       "      <td>0.000000e+00</td>\n",
       "      <td>0.000000e+00</td>\n",
       "      <td>0.000000e+00</td>\n",
       "      <td>6.615977e-11</td>\n",
       "      <td>5.326664e-16</td>\n",
       "      <td>...</td>\n",
       "      <td>0.000000e+00</td>\n",
       "      <td>0.0</td>\n",
       "      <td>0.000000e+00</td>\n",
       "      <td>0.000000e+00</td>\n",
       "      <td>0.000000e+00</td>\n",
       "      <td>0.000000e+00</td>\n",
       "      <td>0.000000e+00</td>\n",
       "      <td>0.000000e+00</td>\n",
       "      <td>0.000000e+00</td>\n",
       "      <td>0.0</td>\n",
       "    </tr>\n",
       "    <tr>\n",
       "      <th>...</th>\n",
       "      <td>...</td>\n",
       "      <td>...</td>\n",
       "      <td>...</td>\n",
       "      <td>...</td>\n",
       "      <td>...</td>\n",
       "      <td>...</td>\n",
       "      <td>...</td>\n",
       "      <td>...</td>\n",
       "      <td>...</td>\n",
       "      <td>...</td>\n",
       "      <td>...</td>\n",
       "      <td>...</td>\n",
       "      <td>...</td>\n",
       "      <td>...</td>\n",
       "      <td>...</td>\n",
       "      <td>...</td>\n",
       "      <td>...</td>\n",
       "      <td>...</td>\n",
       "      <td>...</td>\n",
       "      <td>...</td>\n",
       "      <td>...</td>\n",
       "    </tr>\n",
       "    <tr>\n",
       "      <th>Q589A6</th>\n",
       "      <td>2.305630e-11</td>\n",
       "      <td>1.028675e-07</td>\n",
       "      <td>8.575885e-07</td>\n",
       "      <td>0.000000e+00</td>\n",
       "      <td>1.694066e-21</td>\n",
       "      <td>1.904007e-14</td>\n",
       "      <td>0.000000e+00</td>\n",
       "      <td>5.551105e-17</td>\n",
       "      <td>3.641385e-05</td>\n",
       "      <td>1.457440e-09</td>\n",
       "      <td>...</td>\n",
       "      <td>1.745387e-15</td>\n",
       "      <td>0.0</td>\n",
       "      <td>3.721860e-18</td>\n",
       "      <td>0.000000e+00</td>\n",
       "      <td>0.000000e+00</td>\n",
       "      <td>0.000000e+00</td>\n",
       "      <td>0.000000e+00</td>\n",
       "      <td>0.000000e+00</td>\n",
       "      <td>0.000000e+00</td>\n",
       "      <td>0.0</td>\n",
       "    </tr>\n",
       "    <tr>\n",
       "      <th>A9M9U0</th>\n",
       "      <td>0.000000e+00</td>\n",
       "      <td>1.355253e-20</td>\n",
       "      <td>5.326664e-16</td>\n",
       "      <td>0.000000e+00</td>\n",
       "      <td>0.000000e+00</td>\n",
       "      <td>0.000000e+00</td>\n",
       "      <td>3.659181e-19</td>\n",
       "      <td>0.000000e+00</td>\n",
       "      <td>0.000000e+00</td>\n",
       "      <td>0.000000e+00</td>\n",
       "      <td>...</td>\n",
       "      <td>2.220794e-13</td>\n",
       "      <td>0.0</td>\n",
       "      <td>1.161958e-17</td>\n",
       "      <td>4.573977e-20</td>\n",
       "      <td>1.694066e-21</td>\n",
       "      <td>0.000000e+00</td>\n",
       "      <td>0.000000e+00</td>\n",
       "      <td>0.000000e+00</td>\n",
       "      <td>0.000000e+00</td>\n",
       "      <td>0.0</td>\n",
       "    </tr>\n",
       "    <tr>\n",
       "      <th>A4IQ63</th>\n",
       "      <td>0.000000e+00</td>\n",
       "      <td>0.000000e+00</td>\n",
       "      <td>3.116989e-14</td>\n",
       "      <td>0.000000e+00</td>\n",
       "      <td>0.000000e+00</td>\n",
       "      <td>0.000000e+00</td>\n",
       "      <td>0.000000e+00</td>\n",
       "      <td>0.000000e+00</td>\n",
       "      <td>0.000000e+00</td>\n",
       "      <td>3.305314e-16</td>\n",
       "      <td>...</td>\n",
       "      <td>0.000000e+00</td>\n",
       "      <td>0.0</td>\n",
       "      <td>0.000000e+00</td>\n",
       "      <td>0.000000e+00</td>\n",
       "      <td>0.000000e+00</td>\n",
       "      <td>0.000000e+00</td>\n",
       "      <td>0.000000e+00</td>\n",
       "      <td>0.000000e+00</td>\n",
       "      <td>0.000000e+00</td>\n",
       "      <td>0.0</td>\n",
       "    </tr>\n",
       "    <tr>\n",
       "      <th>Q0SYD4</th>\n",
       "      <td>0.000000e+00</td>\n",
       "      <td>1.694066e-21</td>\n",
       "      <td>2.818410e-13</td>\n",
       "      <td>0.000000e+00</td>\n",
       "      <td>0.000000e+00</td>\n",
       "      <td>1.694066e-21</td>\n",
       "      <td>0.000000e+00</td>\n",
       "      <td>0.000000e+00</td>\n",
       "      <td>0.000000e+00</td>\n",
       "      <td>0.000000e+00</td>\n",
       "      <td>...</td>\n",
       "      <td>0.000000e+00</td>\n",
       "      <td>0.0</td>\n",
       "      <td>0.000000e+00</td>\n",
       "      <td>0.000000e+00</td>\n",
       "      <td>0.000000e+00</td>\n",
       "      <td>2.254800e-18</td>\n",
       "      <td>0.000000e+00</td>\n",
       "      <td>0.000000e+00</td>\n",
       "      <td>0.000000e+00</td>\n",
       "      <td>0.0</td>\n",
       "    </tr>\n",
       "    <tr>\n",
       "      <th>Q47IP1</th>\n",
       "      <td>0.000000e+00</td>\n",
       "      <td>0.000000e+00</td>\n",
       "      <td>2.467871e-09</td>\n",
       "      <td>0.000000e+00</td>\n",
       "      <td>0.000000e+00</td>\n",
       "      <td>2.017532e-12</td>\n",
       "      <td>1.694065e-18</td>\n",
       "      <td>0.000000e+00</td>\n",
       "      <td>0.000000e+00</td>\n",
       "      <td>0.000000e+00</td>\n",
       "      <td>...</td>\n",
       "      <td>2.117582e-19</td>\n",
       "      <td>0.0</td>\n",
       "      <td>0.000000e+00</td>\n",
       "      <td>0.000000e+00</td>\n",
       "      <td>0.000000e+00</td>\n",
       "      <td>0.000000e+00</td>\n",
       "      <td>0.000000e+00</td>\n",
       "      <td>0.000000e+00</td>\n",
       "      <td>0.000000e+00</td>\n",
       "      <td>0.0</td>\n",
       "    </tr>\n",
       "  </tbody>\n",
       "</table>\n",
       "<p>44300 rows × 32102 columns</p>\n",
       "</div>"
      ],
      "text/plain": [
       "          GO:0000001    GO:0000002    GO:0000003    GO:0000006    GO:0000007  \\\n",
       "Q6AF49  0.000000e+00  0.000000e+00  1.154452e-15  0.000000e+00  0.000000e+00   \n",
       "Q9MS73  0.000000e+00  0.000000e+00  0.000000e+00  0.000000e+00  0.000000e+00   \n",
       "A5FYS5  0.000000e+00  7.903817e-17  1.694066e-21  0.000000e+00  0.000000e+00   \n",
       "A5G348  2.927344e-18  1.300163e-08  3.881737e-10  6.323040e-16  1.598267e-05   \n",
       "Q5WFY4  0.000000e+00  1.731027e-14  8.238461e-09  0.000000e+00  0.000000e+00   \n",
       "...              ...           ...           ...           ...           ...   \n",
       "Q589A6  2.305630e-11  1.028675e-07  8.575885e-07  0.000000e+00  1.694066e-21   \n",
       "A9M9U0  0.000000e+00  1.355253e-20  5.326664e-16  0.000000e+00  0.000000e+00   \n",
       "A4IQ63  0.000000e+00  0.000000e+00  3.116989e-14  0.000000e+00  0.000000e+00   \n",
       "Q0SYD4  0.000000e+00  1.694066e-21  2.818410e-13  0.000000e+00  0.000000e+00   \n",
       "Q47IP1  0.000000e+00  0.000000e+00  2.467871e-09  0.000000e+00  0.000000e+00   \n",
       "\n",
       "          GO:0000009    GO:0000010    GO:0000011    GO:0000012    GO:0000014  \\\n",
       "Q6AF49  0.000000e+00  0.000000e+00  0.000000e+00  0.000000e+00  4.228224e-09   \n",
       "Q9MS73  0.000000e+00  0.000000e+00  0.000000e+00  0.000000e+00  0.000000e+00   \n",
       "A5FYS5  5.867545e-09  1.004901e-16  0.000000e+00  2.509816e-15  1.614107e-14   \n",
       "A5G348  2.395686e-13  0.000000e+00  8.924287e-15  6.674357e-09  1.039228e-11   \n",
       "Q5WFY4  0.000000e+00  0.000000e+00  0.000000e+00  6.615977e-11  5.326664e-16   \n",
       "...              ...           ...           ...           ...           ...   \n",
       "Q589A6  1.904007e-14  0.000000e+00  5.551105e-17  3.641385e-05  1.457440e-09   \n",
       "A9M9U0  0.000000e+00  3.659181e-19  0.000000e+00  0.000000e+00  0.000000e+00   \n",
       "A4IQ63  0.000000e+00  0.000000e+00  0.000000e+00  0.000000e+00  3.305314e-16   \n",
       "Q0SYD4  1.694066e-21  0.000000e+00  0.000000e+00  0.000000e+00  0.000000e+00   \n",
       "Q47IP1  2.017532e-12  1.694065e-18  0.000000e+00  0.000000e+00  0.000000e+00   \n",
       "\n",
       "        ...    GO:2001305  GO:2001306    GO:2001307    GO:2001308  \\\n",
       "Q6AF49  ...  0.000000e+00         0.0  0.000000e+00  0.000000e+00   \n",
       "Q9MS73  ...  0.000000e+00         0.0  0.000000e+00  0.000000e+00   \n",
       "A5FYS5  ...  1.459441e-14         0.0  1.873496e-16  0.000000e+00   \n",
       "A5G348  ...  1.543713e-16         0.0  1.355253e-20  1.972197e-12   \n",
       "Q5WFY4  ...  0.000000e+00         0.0  0.000000e+00  0.000000e+00   \n",
       "...     ...           ...         ...           ...           ...   \n",
       "Q589A6  ...  1.745387e-15         0.0  3.721860e-18  0.000000e+00   \n",
       "A9M9U0  ...  2.220794e-13         0.0  1.161958e-17  4.573977e-20   \n",
       "A4IQ63  ...  0.000000e+00         0.0  0.000000e+00  0.000000e+00   \n",
       "Q0SYD4  ...  0.000000e+00         0.0  0.000000e+00  0.000000e+00   \n",
       "Q47IP1  ...  2.117582e-19         0.0  0.000000e+00  0.000000e+00   \n",
       "\n",
       "          GO:2001310    GO:2001311    GO:2001313    GO:2001315    GO:2001316  \\\n",
       "Q6AF49  0.000000e+00  0.000000e+00  0.000000e+00  0.000000e+00  0.000000e+00   \n",
       "Q9MS73  0.000000e+00  0.000000e+00  0.000000e+00  0.000000e+00  0.000000e+00   \n",
       "A5FYS5  0.000000e+00  0.000000e+00  0.000000e+00  0.000000e+00  0.000000e+00   \n",
       "A5G348  3.237299e-13  0.000000e+00  5.810643e-19  3.659181e-19  1.694066e-21   \n",
       "Q5WFY4  0.000000e+00  0.000000e+00  0.000000e+00  0.000000e+00  0.000000e+00   \n",
       "...              ...           ...           ...           ...           ...   \n",
       "Q589A6  0.000000e+00  0.000000e+00  0.000000e+00  0.000000e+00  0.000000e+00   \n",
       "A9M9U0  1.694066e-21  0.000000e+00  0.000000e+00  0.000000e+00  0.000000e+00   \n",
       "A4IQ63  0.000000e+00  0.000000e+00  0.000000e+00  0.000000e+00  0.000000e+00   \n",
       "Q0SYD4  0.000000e+00  2.254800e-18  0.000000e+00  0.000000e+00  0.000000e+00   \n",
       "Q47IP1  0.000000e+00  0.000000e+00  0.000000e+00  0.000000e+00  0.000000e+00   \n",
       "\n",
       "        GO:2001317  \n",
       "Q6AF49         0.0  \n",
       "Q9MS73         0.0  \n",
       "A5FYS5         0.0  \n",
       "A5G348         0.0  \n",
       "Q5WFY4         0.0  \n",
       "...            ...  \n",
       "Q589A6         0.0  \n",
       "A9M9U0         0.0  \n",
       "A4IQ63         0.0  \n",
       "Q0SYD4         0.0  \n",
       "Q47IP1         0.0  \n",
       "\n",
       "[44300 rows x 32102 columns]"
      ]
     },
     "execution_count": 70,
     "metadata": {},
     "output_type": "execute_result"
    }
   ],
   "source": [
    "ours_val_fl_df"
   ]
  },
  {
   "cell_type": "code",
   "execution_count": 75,
   "metadata": {},
   "outputs": [],
   "source": [
    "loss_by_label = pd.concat([ours_val_fl_df.agg(['mean','median'],axis=0).T,\n",
    "    label_descriptions,\n",
    "    res[res['model']=='Ours'].drop(['model'],axis=1)],axis=1).dropna()\n",
    "\n",
    "loss_by_sequence = ours_val_fl_df.agg(['mean','median'],axis=1).dropna()"
   ]
  },
  {
   "cell_type": "code",
   "execution_count": 101,
   "metadata": {},
   "outputs": [
    {
     "name": "stdout",
     "output_type": "stream",
     "text": [
      "GO:0043226 organized structure of distinctive morphology and function. includes the nucleus, mitochondria, plastids, vacuoles, vesicles, ribosomes and the cytoskeleton, and prokaryotic structures such as anammoxosomes and pirellulosomes. excludes the plasma membrane.\n",
      "\n",
      "-----------\n",
      "GO:0044444 any constituent part of the cytoplasm, all of the contents of a cell excluding the plasma membrane and nucleus, but including other subcellular structures.\n",
      "\n",
      "-----------\n",
      "GO:0043229 organized structure of distinctive morphology and function, occurring within the cell. includes the nucleus, mitochondria, plastids, vacuoles, vesicles, ribosomes and the cytoskeleton. excludes the plasma membrane.\n",
      "\n",
      "-----------\n",
      "GO:0043227 organized structure of distinctive morphology and function, bounded by a single or double lipid bilayer membrane. includes the nucleus, mitochondria, plastids, vacuoles, and vesicles. excludes the plasma membrane.\n",
      "\n",
      "-----------\n",
      "GO:0009987 any process that is carried out at the cellular level, but not necessarily restricted to a single cell. for example, cell communication occurs among more than one cell, but occurs at the cellular level.\n",
      "\n",
      "-----------\n",
      "GO:0043231 organized structure of distinctive morphology and function, bounded by a single or double lipid bilayer membrane and occurring within the cell. includes the nucleus, mitochondria, plastids, vacuoles, and vesicles. excludes the plasma membrane.\n",
      "\n",
      "-----------\n",
      "GO:0008150 a biological process represents a specific objective that the organism is genetically programmed to achieve. biological processes are often described by their outcome or ending state, e.g., the biological process of cell division results in the creation of two daughter cells (a divided cell) from a single parent cell. a biological process is accomplished by a particular set of molecular functions carried out by specific gene products (or macromolecular complexes), often in a highly regulated manner and in a particular temporal sequence.\n",
      "\n",
      "-----------\n",
      "GO:0008152 the chemical reactions and pathways, including anabolism and catabolism, by which living organisms transform chemical substances. metabolic processes typically transform small molecules, but also include macromolecular processes such as dna repair and replication, and protein synthesis and degradation.\n",
      "\n",
      "-----------\n",
      "GO:0044237 the chemical reactions and pathways by which individual cells transform chemical substances.\n",
      "\n",
      "-----------\n",
      "GO:0044424 any constituent part of the living contents of a cell; the matter contained within (but not including) the plasma membrane, usually taken to exclude large vacuoles and masses of secretory or ingested material. in eukaryotes it includes the nucleus and cytoplasm.\n",
      "\n",
      "-----------\n"
     ]
    }
   ],
   "source": [
    "for idx,row in loss_by_label.sort_values(by='mean',ascending=False).iloc[:10].iterrows():\n",
    "    print(idx,row['label'])\n",
    "    print('\\n-----------')"
   ]
  },
  {
   "cell_type": "markdown",
   "metadata": {},
   "source": []
  },
  {
   "cell_type": "code",
   "execution_count": null,
   "metadata": {},
   "outputs": [],
   "source": []
  },
  {
   "cell_type": "code",
   "execution_count": 80,
   "metadata": {},
   "outputs": [
    {
     "data": {
      "text/html": [
       "<div>\n",
       "<style scoped>\n",
       "    .dataframe tbody tr th:only-of-type {\n",
       "        vertical-align: middle;\n",
       "    }\n",
       "\n",
       "    .dataframe tbody tr th {\n",
       "        vertical-align: top;\n",
       "    }\n",
       "\n",
       "    .dataframe thead th {\n",
       "        text-align: right;\n",
       "    }\n",
       "</style>\n",
       "<table border=\"1\" class=\"dataframe\">\n",
       "  <thead>\n",
       "    <tr style=\"text-align: right;\">\n",
       "      <th></th>\n",
       "      <th>mean</th>\n",
       "      <th>median</th>\n",
       "    </tr>\n",
       "  </thead>\n",
       "  <tbody>\n",
       "    <tr>\n",
       "      <th>Q5FUG0</th>\n",
       "      <td>1.502230e-11</td>\n",
       "      <td>0.000000e+00</td>\n",
       "    </tr>\n",
       "    <tr>\n",
       "      <th>Q602S0</th>\n",
       "      <td>7.422003e-11</td>\n",
       "      <td>0.000000e+00</td>\n",
       "    </tr>\n",
       "    <tr>\n",
       "      <th>Q1MND4</th>\n",
       "      <td>7.841468e-11</td>\n",
       "      <td>0.000000e+00</td>\n",
       "    </tr>\n",
       "    <tr>\n",
       "      <th>Q5FUM8</th>\n",
       "      <td>1.432559e-10</td>\n",
       "      <td>0.000000e+00</td>\n",
       "    </tr>\n",
       "    <tr>\n",
       "      <th>Q2L066</th>\n",
       "      <td>1.630592e-10</td>\n",
       "      <td>0.000000e+00</td>\n",
       "    </tr>\n",
       "    <tr>\n",
       "      <th>...</th>\n",
       "      <td>...</td>\n",
       "      <td>...</td>\n",
       "    </tr>\n",
       "    <tr>\n",
       "      <th>B2RWS6</th>\n",
       "      <td>6.181519e-02</td>\n",
       "      <td>0.000000e+00</td>\n",
       "    </tr>\n",
       "    <tr>\n",
       "      <th>Q9NFU0</th>\n",
       "      <td>6.340533e-02</td>\n",
       "      <td>0.000000e+00</td>\n",
       "    </tr>\n",
       "    <tr>\n",
       "      <th>P84025</th>\n",
       "      <td>8.545986e-02</td>\n",
       "      <td>0.000000e+00</td>\n",
       "    </tr>\n",
       "    <tr>\n",
       "      <th>Q5NTH0</th>\n",
       "      <td>1.013311e-01</td>\n",
       "      <td>1.355253e-20</td>\n",
       "    </tr>\n",
       "    <tr>\n",
       "      <th>Q9D906</th>\n",
       "      <td>1.032846e-01</td>\n",
       "      <td>0.000000e+00</td>\n",
       "    </tr>\n",
       "  </tbody>\n",
       "</table>\n",
       "<p>44300 rows × 2 columns</p>\n",
       "</div>"
      ],
      "text/plain": [
       "                mean        median\n",
       "Q5FUG0  1.502230e-11  0.000000e+00\n",
       "Q602S0  7.422003e-11  0.000000e+00\n",
       "Q1MND4  7.841468e-11  0.000000e+00\n",
       "Q5FUM8  1.432559e-10  0.000000e+00\n",
       "Q2L066  1.630592e-10  0.000000e+00\n",
       "...              ...           ...\n",
       "B2RWS6  6.181519e-02  0.000000e+00\n",
       "Q9NFU0  6.340533e-02  0.000000e+00\n",
       "P84025  8.545986e-02  0.000000e+00\n",
       "Q5NTH0  1.013311e-01  1.355253e-20\n",
       "Q9D906  1.032846e-01  0.000000e+00\n",
       "\n",
       "[44300 rows x 2 columns]"
      ]
     },
     "execution_count": 80,
     "metadata": {},
     "output_type": "execute_result"
    }
   ],
   "source": [
    "loss_by_sequence.sort_values(by='mean')"
   ]
  },
  {
   "cell_type": "code",
   "execution_count": 90,
   "metadata": {},
   "outputs": [
    {
     "data": {
      "text/plain": [
       "7189"
      ]
     },
     "execution_count": 90,
     "metadata": {},
     "output_type": "execute_result"
    }
   ],
   "source": [
    "(loss_by_sequence['mean']>0.001).sum()"
   ]
  },
  {
   "cell_type": "code",
   "execution_count": 91,
   "metadata": {},
   "outputs": [
    {
     "data": {
      "text/plain": [
       "(44300, 2)"
      ]
     },
     "execution_count": 91,
     "metadata": {},
     "output_type": "execute_result"
    }
   ],
   "source": [
    "loss_by_sequence.shape"
   ]
  },
  {
   "cell_type": "code",
   "execution_count": 83,
   "metadata": {},
   "outputs": [
    {
     "data": {
      "text/plain": [
       "<Axes: >"
      ]
     },
     "execution_count": 83,
     "metadata": {},
     "output_type": "execute_result"
    },
    {
     "data": {
      "image/png": "[encoded data removed]",
      "text/plain": [
       "<Figure size 640x480 with 1 Axes>"
      ]
     },
     "metadata": {},
     "output_type": "display_data"
    }
   ],
   "source": [
    "loss_by_sequence['mean'].hist(bins=100)"
   ]
  },
  {
   "cell_type": "code",
   "execution_count": 74,
   "metadata": {},
   "outputs": [
    {
     "data": {
      "text/plain": [
       "count    2.143000e+04\n",
       "mean     1.219555e-03\n",
       "std      4.666291e-03\n",
       "min      7.248066e-13\n",
       "25%      4.160796e-05\n",
       "50%      2.115680e-04\n",
       "75%      6.974551e-04\n",
       "max      9.733576e-02\n",
       "Name: mean, dtype: float64"
      ]
     },
     "execution_count": 74,
     "metadata": {},
     "output_type": "execute_result"
    }
   ],
   "source": [
    "loss_by_label['mean'].describe()"
   ]
  },
  {
   "cell_type": "code",
   "execution_count": 32,
   "metadata": {},
   "outputs": [
    {
     "data": {
      "image/png": "[encoded data removed]",
      "text/plain": [
       "<Figure size 640x480 with 1 Axes>"
      ]
     },
     "metadata": {},
     "output_type": "display_data"
    }
   ],
   "source": [
    "sns.scatterplot(data=loss_by_label,x='mean',y='AUPRC')\n",
    "plt.yscale('log')"
   ]
  },
  {
   "cell_type": "code",
   "execution_count": 33,
   "metadata": {},
   "outputs": [
    {
     "data": {
      "text/html": [
       "<div>\n",
       "<style scoped>\n",
       "    .dataframe tbody tr th:only-of-type {\n",
       "        vertical-align: middle;\n",
       "    }\n",
       "\n",
       "    .dataframe tbody tr th {\n",
       "        vertical-align: top;\n",
       "    }\n",
       "\n",
       "    .dataframe thead th {\n",
       "        text-align: right;\n",
       "    }\n",
       "</style>\n",
       "<table border=\"1\" class=\"dataframe\">\n",
       "  <thead>\n",
       "    <tr style=\"text-align: right;\">\n",
       "      <th></th>\n",
       "      <th>mean</th>\n",
       "      <th>median</th>\n",
       "      <th>label</th>\n",
       "      <th>AUPRC</th>\n",
       "      <th>Frequency</th>\n",
       "      <th>Frequency Bin</th>\n",
       "    </tr>\n",
       "  </thead>\n",
       "  <tbody>\n",
       "    <tr>\n",
       "      <th>GO:0018894</th>\n",
       "      <td>2.107442e-03</td>\n",
       "      <td>0.000000e+00</td>\n",
       "      <td>the chemical reactions and pathways involving ...</td>\n",
       "      <td>0.000023</td>\n",
       "      <td>18.0</td>\n",
       "      <td>(14.0, 25.0]</td>\n",
       "    </tr>\n",
       "    <tr>\n",
       "      <th>GO:0033195</th>\n",
       "      <td>1.297307e-03</td>\n",
       "      <td>1.694066e-21</td>\n",
       "      <td>any process that results in a change in state ...</td>\n",
       "      <td>0.000023</td>\n",
       "      <td>1.0</td>\n",
       "      <td>(0.0, 3.0]</td>\n",
       "    </tr>\n",
       "    <tr>\n",
       "      <th>GO:0021794</th>\n",
       "      <td>8.668663e-04</td>\n",
       "      <td>0.000000e+00</td>\n",
       "      <td>the process in which the thalamus changes over...</td>\n",
       "      <td>0.000025</td>\n",
       "      <td>32.0</td>\n",
       "      <td>(25.0, 48.0]</td>\n",
       "    </tr>\n",
       "    <tr>\n",
       "      <th>GO:0035805</th>\n",
       "      <td>6.822970e-04</td>\n",
       "      <td>1.694066e-21</td>\n",
       "      <td>a specialized extracellular matrix that surrou...</td>\n",
       "      <td>0.000027</td>\n",
       "      <td>4.0</td>\n",
       "      <td>(3.0, 5.0]</td>\n",
       "    </tr>\n",
       "    <tr>\n",
       "      <th>GO:0051882</th>\n",
       "      <td>5.146728e-04</td>\n",
       "      <td>6.087953e-17</td>\n",
       "      <td>the process in which the potential difference ...</td>\n",
       "      <td>0.000027</td>\n",
       "      <td>8.0</td>\n",
       "      <td>(5.0, 8.0]</td>\n",
       "    </tr>\n",
       "    <tr>\n",
       "      <th>...</th>\n",
       "      <td>...</td>\n",
       "      <td>...</td>\n",
       "      <td>...</td>\n",
       "      <td>...</td>\n",
       "      <td>...</td>\n",
       "      <td>...</td>\n",
       "    </tr>\n",
       "    <tr>\n",
       "      <th>GO:0098951</th>\n",
       "      <td>2.532424e-07</td>\n",
       "      <td>0.000000e+00</td>\n",
       "      <td>the component of the postsynaptic recycling en...</td>\n",
       "      <td>1.000000</td>\n",
       "      <td>5.0</td>\n",
       "      <td>(3.0, 5.0]</td>\n",
       "    </tr>\n",
       "    <tr>\n",
       "      <th>GO:0098949</th>\n",
       "      <td>1.681292e-07</td>\n",
       "      <td>0.000000e+00</td>\n",
       "      <td>the component of the postsynaptic endosome mem...</td>\n",
       "      <td>1.000000</td>\n",
       "      <td>5.0</td>\n",
       "      <td>(3.0, 5.0]</td>\n",
       "    </tr>\n",
       "    <tr>\n",
       "      <th>GO:0009045</th>\n",
       "      <td>7.652585e-06</td>\n",
       "      <td>0.000000e+00</td>\n",
       "      <td>catalysis of the reaction: d-xylose = d-xylulose.</td>\n",
       "      <td>1.000000</td>\n",
       "      <td>157.0</td>\n",
       "      <td>(109.0, 383.0]</td>\n",
       "    </tr>\n",
       "    <tr>\n",
       "      <th>GO:0061673</th>\n",
       "      <td>8.529397e-06</td>\n",
       "      <td>0.000000e+00</td>\n",
       "      <td>any of the mitotic spindle microtubules that r...</td>\n",
       "      <td>1.000000</td>\n",
       "      <td>19.0</td>\n",
       "      <td>(14.0, 25.0]</td>\n",
       "    </tr>\n",
       "    <tr>\n",
       "      <th>GO:0061100</th>\n",
       "      <td>1.598046e-09</td>\n",
       "      <td>0.000000e+00</td>\n",
       "      <td>the process in which a relatively unspecialize...</td>\n",
       "      <td>1.000000</td>\n",
       "      <td>2.0</td>\n",
       "      <td>(0.0, 3.0]</td>\n",
       "    </tr>\n",
       "  </tbody>\n",
       "</table>\n",
       "<p>21430 rows × 6 columns</p>\n",
       "</div>"
      ],
      "text/plain": [
       "                    mean        median  \\\n",
       "GO:0018894  2.107442e-03  0.000000e+00   \n",
       "GO:0033195  1.297307e-03  1.694066e-21   \n",
       "GO:0021794  8.668663e-04  0.000000e+00   \n",
       "GO:0035805  6.822970e-04  1.694066e-21   \n",
       "GO:0051882  5.146728e-04  6.087953e-17   \n",
       "...                  ...           ...   \n",
       "GO:0098951  2.532424e-07  0.000000e+00   \n",
       "GO:0098949  1.681292e-07  0.000000e+00   \n",
       "GO:0009045  7.652585e-06  0.000000e+00   \n",
       "GO:0061673  8.529397e-06  0.000000e+00   \n",
       "GO:0061100  1.598046e-09  0.000000e+00   \n",
       "\n",
       "                                                        label     AUPRC  \\\n",
       "GO:0018894  the chemical reactions and pathways involving ...  0.000023   \n",
       "GO:0033195  any process that results in a change in state ...  0.000023   \n",
       "GO:0021794  the process in which the thalamus changes over...  0.000025   \n",
       "GO:0035805  a specialized extracellular matrix that surrou...  0.000027   \n",
       "GO:0051882  the process in which the potential difference ...  0.000027   \n",
       "...                                                       ...       ...   \n",
       "GO:0098951  the component of the postsynaptic recycling en...  1.000000   \n",
       "GO:0098949  the component of the postsynaptic endosome mem...  1.000000   \n",
       "GO:0009045  catalysis of the reaction: d-xylose = d-xylulose.  1.000000   \n",
       "GO:0061673  any of the mitotic spindle microtubules that r...  1.000000   \n",
       "GO:0061100  the process in which a relatively unspecialize...  1.000000   \n",
       "\n",
       "            Frequency   Frequency Bin  \n",
       "GO:0018894       18.0    (14.0, 25.0]  \n",
       "GO:0033195        1.0      (0.0, 3.0]  \n",
       "GO:0021794       32.0    (25.0, 48.0]  \n",
       "GO:0035805        4.0      (3.0, 5.0]  \n",
       "GO:0051882        8.0      (5.0, 8.0]  \n",
       "...               ...             ...  \n",
       "GO:0098951        5.0      (3.0, 5.0]  \n",
       "GO:0098949        5.0      (3.0, 5.0]  \n",
       "GO:0009045      157.0  (109.0, 383.0]  \n",
       "GO:0061673       19.0    (14.0, 25.0]  \n",
       "GO:0061100        2.0      (0.0, 3.0]  \n",
       "\n",
       "[21430 rows x 6 columns]"
      ]
     },
     "execution_count": 33,
     "metadata": {},
     "output_type": "execute_result"
    }
   ],
   "source": [
    "loss_by_label.sort_values(by='AUPRC',ascending=True)"
   ]
  },
  {
   "cell_type": "code",
   "execution_count": 34,
   "metadata": {},
   "outputs": [
    {
     "name": "stderr",
     "output_type": "stream",
     "text": [
      "/tmp/ipykernel_2854353/1542846960.py:1: FutureWarning: The default of observed=False is deprecated and will be changed to True in a future version of pandas. Pass observed=False to retain current behavior or observed=True to adopt the future default and silence this warning.\n",
      "  loss_by_label.groupby('Frequency Bin')[['mean','median','AUPRC']].mean()\n"
     ]
    },
    {
     "data": {
      "text/html": [
       "<div>\n",
       "<style scoped>\n",
       "    .dataframe tbody tr th:only-of-type {\n",
       "        vertical-align: middle;\n",
       "    }\n",
       "\n",
       "    .dataframe tbody tr th {\n",
       "        vertical-align: top;\n",
       "    }\n",
       "\n",
       "    .dataframe thead th {\n",
       "        text-align: right;\n",
       "    }\n",
       "</style>\n",
       "<table border=\"1\" class=\"dataframe\">\n",
       "  <thead>\n",
       "    <tr style=\"text-align: right;\">\n",
       "      <th></th>\n",
       "      <th>mean</th>\n",
       "      <th>median</th>\n",
       "      <th>AUPRC</th>\n",
       "    </tr>\n",
       "    <tr>\n",
       "      <th>Frequency Bin</th>\n",
       "      <th></th>\n",
       "      <th></th>\n",
       "      <th></th>\n",
       "    </tr>\n",
       "  </thead>\n",
       "  <tbody>\n",
       "    <tr>\n",
       "      <th>(0.0, 3.0]</th>\n",
       "      <td>0.000147</td>\n",
       "      <td>2.385207e-16</td>\n",
       "      <td>0.478933</td>\n",
       "    </tr>\n",
       "    <tr>\n",
       "      <th>(3.0, 5.0]</th>\n",
       "      <td>0.000132</td>\n",
       "      <td>1.677594e-16</td>\n",
       "      <td>0.548990</td>\n",
       "    </tr>\n",
       "    <tr>\n",
       "      <th>(5.0, 8.0]</th>\n",
       "      <td>0.000120</td>\n",
       "      <td>1.380560e-14</td>\n",
       "      <td>0.578740</td>\n",
       "    </tr>\n",
       "    <tr>\n",
       "      <th>(8.0, 14.0]</th>\n",
       "      <td>0.000142</td>\n",
       "      <td>9.842679e-15</td>\n",
       "      <td>0.564338</td>\n",
       "    </tr>\n",
       "    <tr>\n",
       "      <th>(14.0, 25.0]</th>\n",
       "      <td>0.000180</td>\n",
       "      <td>1.431132e-13</td>\n",
       "      <td>0.558794</td>\n",
       "    </tr>\n",
       "    <tr>\n",
       "      <th>(25.0, 48.0]</th>\n",
       "      <td>0.000246</td>\n",
       "      <td>1.742332e-11</td>\n",
       "      <td>0.576597</td>\n",
       "    </tr>\n",
       "    <tr>\n",
       "      <th>(48.0, 109.0]</th>\n",
       "      <td>0.000444</td>\n",
       "      <td>1.105453e-11</td>\n",
       "      <td>0.577686</td>\n",
       "    </tr>\n",
       "    <tr>\n",
       "      <th>(109.0, 383.0]</th>\n",
       "      <td>0.000913</td>\n",
       "      <td>1.018724e-11</td>\n",
       "      <td>0.640943</td>\n",
       "    </tr>\n",
       "    <tr>\n",
       "      <th>(383.0, 369909.0]</th>\n",
       "      <td>0.006323</td>\n",
       "      <td>2.650965e-07</td>\n",
       "      <td>0.769790</td>\n",
       "    </tr>\n",
       "  </tbody>\n",
       "</table>\n",
       "</div>"
      ],
      "text/plain": [
       "                       mean        median     AUPRC\n",
       "Frequency Bin                                      \n",
       "(0.0, 3.0]         0.000147  2.385207e-16  0.478933\n",
       "(3.0, 5.0]         0.000132  1.677594e-16  0.548990\n",
       "(5.0, 8.0]         0.000120  1.380560e-14  0.578740\n",
       "(8.0, 14.0]        0.000142  9.842679e-15  0.564338\n",
       "(14.0, 25.0]       0.000180  1.431132e-13  0.558794\n",
       "(25.0, 48.0]       0.000246  1.742332e-11  0.576597\n",
       "(48.0, 109.0]      0.000444  1.105453e-11  0.577686\n",
       "(109.0, 383.0]     0.000913  1.018724e-11  0.640943\n",
       "(383.0, 369909.0]  0.006323  2.650965e-07  0.769790"
      ]
     },
     "execution_count": 34,
     "metadata": {},
     "output_type": "execute_result"
    }
   ],
   "source": [
    "loss_by_label.groupby('Frequency Bin')[['mean','median','AUPRC']].mean()"
   ]
  },
  {
   "cell_type": "code",
   "execution_count": 35,
   "metadata": {},
   "outputs": [
    {
     "data": {
      "text/html": [
       "<div>\n",
       "<style scoped>\n",
       "    .dataframe tbody tr th:only-of-type {\n",
       "        vertical-align: middle;\n",
       "    }\n",
       "\n",
       "    .dataframe tbody tr th {\n",
       "        vertical-align: top;\n",
       "    }\n",
       "\n",
       "    .dataframe thead th {\n",
       "        text-align: right;\n",
       "    }\n",
       "</style>\n",
       "<table border=\"1\" class=\"dataframe\">\n",
       "  <thead>\n",
       "    <tr style=\"text-align: right;\">\n",
       "      <th></th>\n",
       "      <th>Frequency</th>\n",
       "      <th>AUPRC</th>\n",
       "    </tr>\n",
       "  </thead>\n",
       "  <tbody>\n",
       "    <tr>\n",
       "      <th>Frequency</th>\n",
       "      <td>1.000000</td>\n",
       "      <td>0.090163</td>\n",
       "    </tr>\n",
       "    <tr>\n",
       "      <th>AUPRC</th>\n",
       "      <td>0.090163</td>\n",
       "      <td>1.000000</td>\n",
       "    </tr>\n",
       "  </tbody>\n",
       "</table>\n",
       "</div>"
      ],
      "text/plain": [
       "           Frequency     AUPRC\n",
       "Frequency   1.000000  0.090163\n",
       "AUPRC       0.090163  1.000000"
      ]
     },
     "execution_count": 35,
     "metadata": {},
     "output_type": "execute_result"
    }
   ],
   "source": [
    "loss_by_label[['Frequency','AUPRC']].corr()"
   ]
  },
  {
   "cell_type": "code",
   "execution_count": 36,
   "metadata": {},
   "outputs": [],
   "source": [
    "ours_val_fl_df_melt = ours_val_fl_df.melt(ignore_index=False,var_name='label',value_name='mean_loss')"
   ]
  },
  {
   "cell_type": "code",
   "execution_count": 38,
   "metadata": {},
   "outputs": [],
   "source": [
    "ours_val_fl_df_melt = ours_val_fl_df_melt.sort_values(by='mean_loss',ascending=False)"
   ]
  },
  {
   "cell_type": "code",
   "execution_count": 45,
   "metadata": {},
   "outputs": [
    {
     "data": {
      "text/plain": [
       "P84025    288\n",
       "Q9D906    255\n",
       "P0DJG1    253\n",
       "P62979    250\n",
       "P42160    235\n",
       "         ... \n",
       "B0BNG2      1\n",
       "Q86WD7      1\n",
       "P14480      1\n",
       "Q80XF7      1\n",
       "Q9PLP9      1\n",
       "Name: count, Length: 7766, dtype: int64"
      ]
     },
     "execution_count": 45,
     "metadata": {},
     "output_type": "execute_result"
    }
   ],
   "source": [
    "ours_val_fl_df_melt.head(100000).index.value_counts()"
   ]
  },
  {
   "cell_type": "code",
   "execution_count": 52,
   "metadata": {},
   "outputs": [
    {
     "data": {
      "text/plain": [
       "GO:0000001     0.000000\n",
       "GO:0060366     0.000000\n",
       "GO:0060365     0.000000\n",
       "GO:0060364     0.000000\n",
       "GO:0060363     0.000000\n",
       "                ...    \n",
       "GO:0010811    11.202832\n",
       "GO:0010720    11.820147\n",
       "GO:1900024    13.609342\n",
       "GO:0010770    14.351546\n",
       "GO:1900026    15.171867\n",
       "Name: P0DJG1, Length: 32102, dtype: float32"
      ]
     },
     "execution_count": 52,
     "metadata": {},
     "output_type": "execute_result"
    }
   ],
   "source": [
    "ours_val_fl_df.loc['P0DJG1'].sort_values()"
   ]
  },
  {
   "cell_type": "code",
   "execution_count": 53,
   "metadata": {},
   "outputs": [
    {
     "data": {
      "text/plain": [
       "33"
      ]
     },
     "execution_count": 53,
     "metadata": {},
     "output_type": "execute_result"
    }
   ],
   "source": [
    "val_labels.loc['P0DJG1'].sort_values().sum()"
   ]
  },
  {
   "cell_type": "code",
   "execution_count": 61,
   "metadata": {},
   "outputs": [],
   "source": [
    "train_unrepresented_labels = set(val_labels.columns) - set(go_term_distribution.index)"
   ]
  },
  {
   "cell_type": "code",
   "execution_count": null,
   "metadata": {},
   "outputs": [],
   "source": [
    "train_unrepresented_labels"
   ]
  },
  {
   "cell_type": "code",
   "execution_count": 69,
   "metadata": {},
   "outputs": [
    {
     "data": {
      "text/plain": [
       "(21430, 6)"
      ]
     },
     "execution_count": 69,
     "metadata": {},
     "output_type": "execute_result"
    }
   ],
   "source": [
    "loss_by_label.shape"
   ]
  },
  {
   "cell_type": "code",
   "execution_count": 68,
   "metadata": {},
   "outputs": [
    {
     "ename": "KeyError",
     "evalue": "\"None of [Index(['GO:0052231', 'GO:0046595', 'GO:0052191', 'GO:1903040', 'GO:0018530',\\n       'GO:1905306', 'GO:0042848', 'GO:0051470', 'GO:0097627', 'GO:1990596',\\n       ...\\n       'GO:0031774', 'GO:0072552', 'GO:0030772', 'GO:0044619', 'GO:2001194',\\n       'GO:0052371', 'GO:1900000', 'GO:0033820', 'GO:0060858', 'GO:0080185'],\\n      dtype='object', length=737)] are in the [index]\"",
     "output_type": "error",
     "traceback": [
      "\u001b[0;31m---------------------------------------------------------------------------\u001b[0m",
      "\u001b[0;31mKeyError\u001b[0m                                  Traceback (most recent call last)",
      "Cell \u001b[0;32mIn[68], line 1\u001b[0m\n\u001b[0;32m----> 1\u001b[0m \u001b[43mloss_by_label\u001b[49m\u001b[38;5;241;43m.\u001b[39;49m\u001b[43mloc\u001b[49m\u001b[43m[\u001b[49m\u001b[38;5;28;43mlist\u001b[39;49m\u001b[43m(\u001b[49m\u001b[43mtrain_unrepresented_labels\u001b[49m\u001b[43m)\u001b[49m\u001b[43m]\u001b[49m\n",
      "File \u001b[0;32m~/.local/lib/python3.10/site-packages/pandas/core/indexing.py:1153\u001b[0m, in \u001b[0;36m_LocationIndexer.__getitem__\u001b[0;34m(self, key)\u001b[0m\n\u001b[1;32m   1150\u001b[0m axis \u001b[38;5;241m=\u001b[39m \u001b[38;5;28mself\u001b[39m\u001b[38;5;241m.\u001b[39maxis \u001b[38;5;129;01mor\u001b[39;00m \u001b[38;5;241m0\u001b[39m\n\u001b[1;32m   1152\u001b[0m maybe_callable \u001b[38;5;241m=\u001b[39m com\u001b[38;5;241m.\u001b[39mapply_if_callable(key, \u001b[38;5;28mself\u001b[39m\u001b[38;5;241m.\u001b[39mobj)\n\u001b[0;32m-> 1153\u001b[0m \u001b[38;5;28;01mreturn\u001b[39;00m \u001b[38;5;28;43mself\u001b[39;49m\u001b[38;5;241;43m.\u001b[39;49m\u001b[43m_getitem_axis\u001b[49m\u001b[43m(\u001b[49m\u001b[43mmaybe_callable\u001b[49m\u001b[43m,\u001b[49m\u001b[43m \u001b[49m\u001b[43maxis\u001b[49m\u001b[38;5;241;43m=\u001b[39;49m\u001b[43maxis\u001b[49m\u001b[43m)\u001b[49m\n",
      "File \u001b[0;32m~/.local/lib/python3.10/site-packages/pandas/core/indexing.py:1382\u001b[0m, in \u001b[0;36m_LocIndexer._getitem_axis\u001b[0;34m(self, key, axis)\u001b[0m\n\u001b[1;32m   1379\u001b[0m     \u001b[38;5;28;01mif\u001b[39;00m \u001b[38;5;28mhasattr\u001b[39m(key, \u001b[38;5;124m\"\u001b[39m\u001b[38;5;124mndim\u001b[39m\u001b[38;5;124m\"\u001b[39m) \u001b[38;5;129;01mand\u001b[39;00m key\u001b[38;5;241m.\u001b[39mndim \u001b[38;5;241m>\u001b[39m \u001b[38;5;241m1\u001b[39m:\n\u001b[1;32m   1380\u001b[0m         \u001b[38;5;28;01mraise\u001b[39;00m \u001b[38;5;167;01mValueError\u001b[39;00m(\u001b[38;5;124m\"\u001b[39m\u001b[38;5;124mCannot index with multidimensional key\u001b[39m\u001b[38;5;124m\"\u001b[39m)\n\u001b[0;32m-> 1382\u001b[0m     \u001b[38;5;28;01mreturn\u001b[39;00m \u001b[38;5;28;43mself\u001b[39;49m\u001b[38;5;241;43m.\u001b[39;49m\u001b[43m_getitem_iterable\u001b[49m\u001b[43m(\u001b[49m\u001b[43mkey\u001b[49m\u001b[43m,\u001b[49m\u001b[43m \u001b[49m\u001b[43maxis\u001b[49m\u001b[38;5;241;43m=\u001b[39;49m\u001b[43maxis\u001b[49m\u001b[43m)\u001b[49m\n\u001b[1;32m   1384\u001b[0m \u001b[38;5;66;03m# nested tuple slicing\u001b[39;00m\n\u001b[1;32m   1385\u001b[0m \u001b[38;5;28;01mif\u001b[39;00m is_nested_tuple(key, labels):\n",
      "File \u001b[0;32m~/.local/lib/python3.10/site-packages/pandas/core/indexing.py:1322\u001b[0m, in \u001b[0;36m_LocIndexer._getitem_iterable\u001b[0;34m(self, key, axis)\u001b[0m\n\u001b[1;32m   1319\u001b[0m \u001b[38;5;28mself\u001b[39m\u001b[38;5;241m.\u001b[39m_validate_key(key, axis)\n\u001b[1;32m   1321\u001b[0m \u001b[38;5;66;03m# A collection of keys\u001b[39;00m\n\u001b[0;32m-> 1322\u001b[0m keyarr, indexer \u001b[38;5;241m=\u001b[39m \u001b[38;5;28;43mself\u001b[39;49m\u001b[38;5;241;43m.\u001b[39;49m\u001b[43m_get_listlike_indexer\u001b[49m\u001b[43m(\u001b[49m\u001b[43mkey\u001b[49m\u001b[43m,\u001b[49m\u001b[43m \u001b[49m\u001b[43maxis\u001b[49m\u001b[43m)\u001b[49m\n\u001b[1;32m   1323\u001b[0m \u001b[38;5;28;01mreturn\u001b[39;00m \u001b[38;5;28mself\u001b[39m\u001b[38;5;241m.\u001b[39mobj\u001b[38;5;241m.\u001b[39m_reindex_with_indexers(\n\u001b[1;32m   1324\u001b[0m     {axis: [keyarr, indexer]}, copy\u001b[38;5;241m=\u001b[39m\u001b[38;5;28;01mTrue\u001b[39;00m, allow_dups\u001b[38;5;241m=\u001b[39m\u001b[38;5;28;01mTrue\u001b[39;00m\n\u001b[1;32m   1325\u001b[0m )\n",
      "File \u001b[0;32m~/.local/lib/python3.10/site-packages/pandas/core/indexing.py:1520\u001b[0m, in \u001b[0;36m_LocIndexer._get_listlike_indexer\u001b[0;34m(self, key, axis)\u001b[0m\n\u001b[1;32m   1517\u001b[0m ax \u001b[38;5;241m=\u001b[39m \u001b[38;5;28mself\u001b[39m\u001b[38;5;241m.\u001b[39mobj\u001b[38;5;241m.\u001b[39m_get_axis(axis)\n\u001b[1;32m   1518\u001b[0m axis_name \u001b[38;5;241m=\u001b[39m \u001b[38;5;28mself\u001b[39m\u001b[38;5;241m.\u001b[39mobj\u001b[38;5;241m.\u001b[39m_get_axis_name(axis)\n\u001b[0;32m-> 1520\u001b[0m keyarr, indexer \u001b[38;5;241m=\u001b[39m \u001b[43max\u001b[49m\u001b[38;5;241;43m.\u001b[39;49m\u001b[43m_get_indexer_strict\u001b[49m\u001b[43m(\u001b[49m\u001b[43mkey\u001b[49m\u001b[43m,\u001b[49m\u001b[43m \u001b[49m\u001b[43maxis_name\u001b[49m\u001b[43m)\u001b[49m\n\u001b[1;32m   1522\u001b[0m \u001b[38;5;28;01mreturn\u001b[39;00m keyarr, indexer\n",
      "File \u001b[0;32m~/.local/lib/python3.10/site-packages/pandas/core/indexes/base.py:6114\u001b[0m, in \u001b[0;36mIndex._get_indexer_strict\u001b[0;34m(self, key, axis_name)\u001b[0m\n\u001b[1;32m   6111\u001b[0m \u001b[38;5;28;01melse\u001b[39;00m:\n\u001b[1;32m   6112\u001b[0m     keyarr, indexer, new_indexer \u001b[38;5;241m=\u001b[39m \u001b[38;5;28mself\u001b[39m\u001b[38;5;241m.\u001b[39m_reindex_non_unique(keyarr)\n\u001b[0;32m-> 6114\u001b[0m \u001b[38;5;28;43mself\u001b[39;49m\u001b[38;5;241;43m.\u001b[39;49m\u001b[43m_raise_if_missing\u001b[49m\u001b[43m(\u001b[49m\u001b[43mkeyarr\u001b[49m\u001b[43m,\u001b[49m\u001b[43m \u001b[49m\u001b[43mindexer\u001b[49m\u001b[43m,\u001b[49m\u001b[43m \u001b[49m\u001b[43maxis_name\u001b[49m\u001b[43m)\u001b[49m\n\u001b[1;32m   6116\u001b[0m keyarr \u001b[38;5;241m=\u001b[39m \u001b[38;5;28mself\u001b[39m\u001b[38;5;241m.\u001b[39mtake(indexer)\n\u001b[1;32m   6117\u001b[0m \u001b[38;5;28;01mif\u001b[39;00m \u001b[38;5;28misinstance\u001b[39m(key, Index):\n\u001b[1;32m   6118\u001b[0m     \u001b[38;5;66;03m# GH 42790 - Preserve name from an Index\u001b[39;00m\n",
      "File \u001b[0;32m~/.local/lib/python3.10/site-packages/pandas/core/indexes/base.py:6175\u001b[0m, in \u001b[0;36mIndex._raise_if_missing\u001b[0;34m(self, key, indexer, axis_name)\u001b[0m\n\u001b[1;32m   6173\u001b[0m     \u001b[38;5;28;01mif\u001b[39;00m use_interval_msg:\n\u001b[1;32m   6174\u001b[0m         key \u001b[38;5;241m=\u001b[39m \u001b[38;5;28mlist\u001b[39m(key)\n\u001b[0;32m-> 6175\u001b[0m     \u001b[38;5;28;01mraise\u001b[39;00m \u001b[38;5;167;01mKeyError\u001b[39;00m(\u001b[38;5;124mf\u001b[39m\u001b[38;5;124m\"\u001b[39m\u001b[38;5;124mNone of [\u001b[39m\u001b[38;5;132;01m{\u001b[39;00mkey\u001b[38;5;132;01m}\u001b[39;00m\u001b[38;5;124m] are in the [\u001b[39m\u001b[38;5;132;01m{\u001b[39;00maxis_name\u001b[38;5;132;01m}\u001b[39;00m\u001b[38;5;124m]\u001b[39m\u001b[38;5;124m\"\u001b[39m)\n\u001b[1;32m   6177\u001b[0m not_found \u001b[38;5;241m=\u001b[39m \u001b[38;5;28mlist\u001b[39m(ensure_index(key)[missing_mask\u001b[38;5;241m.\u001b[39mnonzero()[\u001b[38;5;241m0\u001b[39m]]\u001b[38;5;241m.\u001b[39munique())\n\u001b[1;32m   6178\u001b[0m \u001b[38;5;28;01mraise\u001b[39;00m \u001b[38;5;167;01mKeyError\u001b[39;00m(\u001b[38;5;124mf\u001b[39m\u001b[38;5;124m\"\u001b[39m\u001b[38;5;132;01m{\u001b[39;00mnot_found\u001b[38;5;132;01m}\u001b[39;00m\u001b[38;5;124m not in index\u001b[39m\u001b[38;5;124m\"\u001b[39m)\n",
      "\u001b[0;31mKeyError\u001b[0m: \"None of [Index(['GO:0052231', 'GO:0046595', 'GO:0052191', 'GO:1903040', 'GO:0018530',\\n       'GO:1905306', 'GO:0042848', 'GO:0051470', 'GO:0097627', 'GO:1990596',\\n       ...\\n       'GO:0031774', 'GO:0072552', 'GO:0030772', 'GO:0044619', 'GO:2001194',\\n       'GO:0052371', 'GO:1900000', 'GO:0033820', 'GO:0060858', 'GO:0080185'],\\n      dtype='object', length=737)] are in the [index]\""
     ]
    }
   ],
   "source": [
    "loss_by_label.loc[list(train_unrepresented_labels)]"
   ]
  },
  {
   "cell_type": "markdown",
   "metadata": {},
   "source": [
    "Other stuff"
   ]
  },
  {
   "cell_type": "code",
   "execution_count": 55,
   "metadata": {},
   "outputs": [
    {
     "name": "stderr",
     "output_type": "stream",
     "text": [
      "/anaconda/envs/protein_functions_310/lib/python3.10/site-packages/torchmetrics/utilities/prints.py:43: UserWarning: Average precision score for one or more classes was `nan`. Ignoring these classes in macro-average\n",
      "  warnings.warn(*args, **kwargs)  # noqa: B028\n"
     ]
    }
   ],
   "source": [
    "\n",
    "\n",
    "ground_truth = torch.tensor(val_labels.values)\n",
    "preds = torch.tensor(val_probabilities.values)\n",
    "sp = AveragePrecision(task=\"multilabel\",num_labels=val_labels.shape[-1],average='macro').to('cuda')(preds,ground_truth).item()\n",
    "\n",
    "ground_truth = torch.tensor(val_labels[items].values)\n",
    "preds = torch.tensor(val_probabilities[items].values)\n",
    "APMicro = AveragePrecision(task=\"multilabel\",num_labels=len(items),average='micro').to('cuda')(preds,ground_truth).item()"
   ]
  }
 ],
 "metadata": {
  "kernelspec": {
   "display_name": "protein_functions",
   "language": "python",
   "name": "python3"
  },
  "language_info": {
   "codemirror_mode": {
    "name": "ipython",
    "version": 3
   },
   "file_extension": ".py",
   "mimetype": "text/x-python",
   "name": "python",
   "nbconvert_exporter": "python",
   "pygments_lexer": "ipython3",
   "version": "3.10.13"
  },
  "orig_nbformat": 4
 },
 "nbformat": 4,
 "nbformat_minor": 2
}
