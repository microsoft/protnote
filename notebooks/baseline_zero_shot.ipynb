{
 "cells": [
  {
   "cell_type": "code",
   "execution_count": 3,
   "metadata": {},
   "outputs": [],
   "source": [
    "import os\n",
    "from pathlib import Path\n",
    "import sys\n",
    "curdir = Path(os.getcwd())\n",
    "sys.path.append(str(curdir.parent.absolute()))\n",
    "import torch\n",
    "import numpy as np\n",
    "import os\n",
    "from torcheval.metrics import MultilabelAUPRC, BinaryAUPRC\n",
    "import pandas as pd\n",
    "from src.utils.evaluation import EvalMetrics\n",
    "from src.utils.data import generate_vocabularies"
   ]
  },
  {
   "cell_type": "code",
   "execution_count": 4,
   "metadata": {},
   "outputs": [],
   "source": [
    "label_embeddings = '2024_E5_multiling_inst_frozen_label_embeddings_mean'\n",
    "annotation_type = 'GO'\n",
    "\n",
    "zero_shot_pinf_logits = pd.read_parquet(f'../outputs/results/test_logits_GO_unseen_proteinfer_ABCD.parquet')\n",
    "zero_shot_labels = pd.read_parquet(f'../outputs/results/test_1_labels_normal_test_label_aug_v4.parquet')\n",
    "embeddings = torch.load(f'../data/embeddings/{label_embeddings}.pt')\n",
    "embeddings_idx = torch.load(f'../data/embeddings/{label_embeddings}_index.pt')\n",
    "vocabularies = generate_vocabularies(file_path = f'../data/swissprot/proteinfer_splits/random/full_{annotation_type}.fasta')\n",
    "zero_shot_pinf_logits.columns = vocabularies['label_vocab']\n"
   ]
  },
  {
   "cell_type": "code",
   "execution_count": 5,
   "metadata": {},
   "outputs": [],
   "source": [
    "embedding_mask = embeddings_idx['description_type']=='name'\n",
    "embeddings_idx = embeddings_idx[embedding_mask].reset_index(drop=True)\n",
    "embeddings = embeddings[embedding_mask]\n",
    "\n",
    "train_embeddings_mask = embeddings_idx['id'].isin(vocabularies['label_vocab'])\n",
    "train_embeddings_idx = embeddings_idx[train_embeddings_mask].reset_index(drop=True)\n",
    "train_embeddings = embeddings[train_embeddings_mask]\n",
    "\n",
    "zero_shot_embeddings_mask = embeddings_idx['id'].isin(zero_shot_labels.columns)\n",
    "zero_shot_embeddings_idx = embeddings_idx[zero_shot_embeddings_mask].reset_index(drop=True)\n",
    "zero_shot_embeddings = embeddings[zero_shot_embeddings_mask]"
   ]
  },
  {
   "cell_type": "code",
   "execution_count": 6,
   "metadata": {},
   "outputs": [],
   "source": [
    "label_train_2_zero_shot_similarities = (torch.nn.functional.normalize(zero_shot_embeddings)@torch.nn.functional.normalize(train_embeddings).T)\n",
    "zero_shot_label_mapping = {zero_shot_embeddings_idx['id'].iloc[zero_shot_label_idx]:train_embeddings_idx['id'].iloc[train_label_idx.item()] for zero_shot_label_idx,train_label_idx in enumerate(label_train_2_zero_shot_similarities.max(dim=-1).indices)}\n"
   ]
  },
  {
   "cell_type": "markdown",
   "metadata": {},
   "source": [
    "### Sanity check\n",
    "Print zero shot label descriptions with their mapped training label description. Keys should be similar to their values"
   ]
  },
  {
   "cell_type": "code",
   "execution_count": 7,
   "metadata": {},
   "outputs": [
    {
     "data": {
      "text/plain": [
       "{\"Instruct: Identify the main categories, themes, or topics described in the following Gene Ontology (GO) term, which is used to detail a protein's function\\nQuery: D-arabinose 1-dehydrogenase (NADP+) activity\": \"Instruct: Identify the main categories, themes, or topics described in the following Gene Ontology (GO) term, which is used to detail a protein's function\\nQuery: D-arabinose 1-dehydrogenase (NAD+) activity\",\n",
       " \"Instruct: Identify the main categories, themes, or topics described in the following Gene Ontology (GO) term, which is used to detail a protein's function\\nQuery: acetylgalactosaminyl-O-glycosyl-seryl-glycoprotein beta-1,6-N-acetylglucosaminyltransferase activity\": \"Instruct: Identify the main categories, themes, or topics described in the following Gene Ontology (GO) term, which is used to detail a protein's function\\nQuery: acetylgalactosaminyl-O-glycosyl-glycoprotein beta-1,6-N-acetylglucosaminyltransferase activity\",\n",
       " \"Instruct: Identify the main categories, themes, or topics described in the following Gene Ontology (GO) term, which is used to detail a protein's function\\nQuery: recombinase activator activity\": \"Instruct: Identify the main categories, themes, or topics described in the following Gene Ontology (GO) term, which is used to detail a protein's function\\nQuery: site-specific recombinase activity\",\n",
       " \"Instruct: Identify the main categories, themes, or topics described in the following Gene Ontology (GO) term, which is used to detail a protein's function\\nQuery: opioid growth factor receptor activity\": \"Instruct: Identify the main categories, themes, or topics described in the following Gene Ontology (GO) term, which is used to detail a protein's function\\nQuery: G protein-coupled opioid receptor activity\",\n",
       " \"Instruct: Identify the main categories, themes, or topics described in the following Gene Ontology (GO) term, which is used to detail a protein's function\\nQuery: canonical inflammasome complex assembly\": \"Instruct: Identify the main categories, themes, or topics described in the following Gene Ontology (GO) term, which is used to detail a protein's function\\nQuery: canonical inflammasome complex\",\n",
       " \"Instruct: Identify the main categories, themes, or topics described in the following Gene Ontology (GO) term, which is used to detail a protein's function\\nQuery: patulin biosynthetic process\": \"Instruct: Identify the main categories, themes, or topics described in the following Gene Ontology (GO) term, which is used to detail a protein's function\\nQuery: pseurotin A biosynthetic process\",\n",
       " \"Instruct: Identify the main categories, themes, or topics described in the following Gene Ontology (GO) term, which is used to detail a protein's function\\nQuery: viridicatumtoxin biosynthetic process\": \"Instruct: Identify the main categories, themes, or topics described in the following Gene Ontology (GO) term, which is used to detail a protein's function\\nQuery: toxin biosynthetic process\",\n",
       " \"Instruct: Identify the main categories, themes, or topics described in the following Gene Ontology (GO) term, which is used to detail a protein's function\\nQuery: histone H3K9 trimethyltransferase activity\": \"Instruct: Identify the main categories, themes, or topics described in the following Gene Ontology (GO) term, which is used to detail a protein's function\\nQuery: histone H3-K9 trimethylation\",\n",
       " \"Instruct: Identify the main categories, themes, or topics described in the following Gene Ontology (GO) term, which is used to detail a protein's function\\nQuery: RNA polymerase II CTD heptapeptide repeat modifying activity\": \"Instruct: Identify the main categories, themes, or topics described in the following Gene Ontology (GO) term, which is used to detail a protein's function\\nQuery: RNA polymerase II CTD heptapeptide repeat kinase activity\",\n",
       " \"Instruct: Identify the main categories, themes, or topics described in the following Gene Ontology (GO) term, which is used to detail a protein's function\\nQuery: export from the mitochondrion\": \"Instruct: Identify the main categories, themes, or topics described in the following Gene Ontology (GO) term, which is used to detail a protein's function\\nQuery: oligopeptide export from mitochondrion\"}"
      ]
     },
     "execution_count": 7,
     "metadata": {},
     "output_type": "execute_result"
    }
   ],
   "source": [
    "zero_shot_label_descriptions_mapping={embeddings_idx.loc[embeddings_idx['id']==k,'description'].iloc[0]:embeddings_idx.loc[embeddings_idx['id']==v,'description'].iloc[0] for k,v in zero_shot_label_mapping.items()}\n",
    "\n",
    "#Print only 10 randomly selected key-value pairs\n",
    "sampled_keys =np.random.choice(list(zero_shot_label_descriptions_mapping.keys()),size=10,replace=False)\n",
    "{k:v for k,v in zero_shot_label_descriptions_mapping.items() if k in sampled_keys}"
   ]
  },
  {
   "cell_type": "markdown",
   "metadata": {},
   "source": [
    "### Create the zero shot proteinfer-based baseline prediction df"
   ]
  },
  {
   "cell_type": "code",
   "execution_count": 8,
   "metadata": {},
   "outputs": [],
   "source": [
    "zero_shot_pinf_baseline_logits = zero_shot_pinf_logits[[zero_shot_label_mapping[i] for i in zero_shot_labels.columns]]\n",
    "zero_shot_pinf_baseline_logits.columns = zero_shot_labels.columns"
   ]
  },
  {
   "cell_type": "code",
   "execution_count": 9,
   "metadata": {},
   "outputs": [
    {
     "data": {
      "text/plain": [
       "(52874, 596)"
      ]
     },
     "execution_count": 9,
     "metadata": {},
     "output_type": "execute_result"
    }
   ],
   "source": [
    "zero_shot_pinf_baseline_logits.shape"
   ]
  },
  {
   "cell_type": "markdown",
   "metadata": {},
   "source": [
    "### Measure baseline performance"
   ]
  },
  {
   "cell_type": "code",
   "execution_count": 10,
   "metadata": {},
   "outputs": [
    {
     "name": "stdout",
     "output_type": "stream",
     "text": [
      "{'f1_macro': 0.10838527977466583,\n",
      " 'f1_micro': 0.08086512237787247,\n",
      " 'map_macro': 0.12346171587705612,\n",
      " 'map_micro': 0.01908101886510849}\n"
     ]
    }
   ],
   "source": [
    "from pprint import pprint\n",
    "eval_metrics = EvalMetrics(device='cuda')\n",
    "mAP_micro = BinaryAUPRC(device='cpu')\n",
    "mAP_macro = MultilabelAUPRC(device='cpu',num_labels=zero_shot_labels.shape[-1])\n",
    "metrics = eval_metrics\\\n",
    "        .get_metric_collection_with_regex(pattern='f1_m.*',\n",
    "                            threshold=0.5,\n",
    "                            num_labels=zero_shot_labels.shape[-1]\n",
    "                            )\n",
    "\n",
    "metrics(torch.sigmoid(torch.tensor(zero_shot_pinf_baseline_logits.values,device='cuda')),\n",
    "              torch.tensor(zero_shot_labels.values,device='cuda'))\n",
    "mAP_micro.update(torch.sigmoid(torch.tensor(zero_shot_pinf_baseline_logits.values)).flatten(),\n",
    "                               torch.tensor(zero_shot_labels.values).flatten())\n",
    "mAP_macro.update(torch.sigmoid(torch.tensor(zero_shot_pinf_baseline_logits.values)),\n",
    "                 torch.tensor(zero_shot_labels.values))\n",
    "\n",
    "\n",
    "metrics = metrics.compute()\n",
    "metrics.update({\n",
    "                \"map_micro\":mAP_micro.compute(),\n",
    "                \"map_macro\":mAP_macro.compute()\n",
    "                })\n",
    "metrics = {k:v.item() for k,v in metrics.items()}\n",
    "pprint(metrics)\n",
    "\n"
   ]
  },
  {
   "cell_type": "code",
   "execution_count": null,
   "metadata": {},
   "outputs": [],
   "source": []
  }
 ],
 "metadata": {
  "kernelspec": {
   "display_name": "protein_functions_310",
   "language": "python",
   "name": "python3"
  },
  "language_info": {
   "codemirror_mode": {
    "name": "ipython",
    "version": 3
   },
   "file_extension": ".py",
   "mimetype": "text/x-python",
   "name": "python",
   "nbconvert_exporter": "python",
   "pygments_lexer": "ipython3",
   "version": "3.10.13"
  }
 },
 "nbformat": 4,
 "nbformat_minor": 2
}
