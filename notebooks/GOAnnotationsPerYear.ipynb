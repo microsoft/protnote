{
 "cells": [
  {
   "cell_type": "code",
   "execution_count": 6,
   "metadata": {},
   "outputs": [],
   "source": [
    "import obonet\n",
    "import pandas as pd\n",
    "import os\n",
    "import logging\n",
    "import re\n",
    "import numpy as np\n",
    "from tqdm import tqdm\n",
    "import seaborn as sns\n",
    "from bs4 import BeautifulSoup\n",
    "import matplotlib.pyplot as plt\n",
    "from protnote.utils.configs import load_config\n",
    "\n",
    "# Load the configuration and project root\n",
    "config, project_root = load_config()\n",
    "results_dir = config[\"paths\"][\"output_paths\"][\"RESULTS_DIR\"]\n",
    "logging.basicConfig(level=logging.INFO)\n",
    "\n",
    "\n",
    "def calculate_label(row):\n",
    "    \"\"\"\n",
    "    Helper function to calculate the label for a given row.\n",
    "    Returns the definition of the row with any text between brackets removed.\n",
    "    \"\"\"\n",
    "    definition = row.get(\"def\", None)\n",
    "\n",
    "    # Remove any text between brackets, e.g., PubMed citations\n",
    "    # Remove leading and trailing quotation marks\n",
    "    if definition is not None:\n",
    "        definition = re.sub(r'\\s*\\[.*?\\]\\s*', '', definition)\n",
    "        definition = definition.strip('\"')\n",
    "        \n",
    "    return definition\n",
    "\n",
    "def process_synonyms(row)->dict:\n",
    "    \"\"\"extracts the synonyms of a GO Annotation\n",
    "\n",
    "    :param row: Row of GO annotation dataset\n",
    "    :type row: _type_\n",
    "    :return: dict\n",
    "    :rtype: lists of synonyms for relevant scopes\n",
    "    \"\"\"    \n",
    "    if row is np.nan or not row:\n",
    "        return {\"synonym_exact\": [], \"synonym_narrow\": [], \"synonym_related\": [], \"synonym_broad\": []}\n",
    "\n",
    "    scopes = {\"EXACT\": [], \"NARROW\": [], \"RELATED\": [], \"BROAD\": []}\n",
    "    for synonym in row:\n",
    "        match = re.search(r'\\\"(.+?)\\\"\\s+(EXACT|NARROW|RELATED|BROAD)\\s+\\[', synonym)\n",
    "        if match:\n",
    "            text, scope = match.groups()\n",
    "            scopes[scope].append(text)\n",
    "\n",
    "    return {\n",
    "        \"synonym_exact\": scopes[\"EXACT\"],\n",
    "        \"synonym_narrow\": scopes[\"NARROW\"],\n",
    "        \"synonym_related\": scopes[\"RELATED\"],\n",
    "        \"synonym_broad\": scopes[\"BROAD\"]\n",
    "    }\n",
    "\n",
    "\n",
    "def download_and_process_obo(url: str):\n",
    "    \"\"\"\n",
    "    Download the OBO file from the specified URL and save the GO ID and label to a pickle.\n",
    "    \"\"\"\n",
    "    logging.info(\"Downloading and processing OBO file...\")\n",
    "\n",
    "    # Load the .obo file directly from the URL into a networkx graph using obonet\n",
    "    os.makedirs('tmp', exist_ok=True)\n",
    "    date = re.search(r\"\\d{4}-\\d{2}-\\d{2}\", url).group()\n",
    "    file = os.path.join('tmp', f\"go_{date}.obo\")\n",
    "    \n",
    "    if not os.path.exists(file):\n",
    "        os.system(f\"wget {url} -O {file} -q\")\n",
    "\n",
    "    graph = obonet.read_obo(file, ignore_obsolete=False)\n",
    "\n",
    "    # Convert the graph nodes (terms) into a pandas dataframe\n",
    "    df = pd.DataFrame.from_dict(dict(graph.nodes(data=True)), orient='index')\n",
    "\n",
    "    logging.info(\"Calculating labels...\")\n",
    "    # Create a new column called \"label\"\n",
    "    df[\"label\"] = df.apply(calculate_label, axis=1)\n",
    "\n",
    "    # Filter the dataframe to retain only 'label', 'name' and 'synonym' columns, with the 'id' column as the index\n",
    "    df_filtered = df[['label','name']+['is_obsolete']]\n",
    "\n",
    "    obsolete_labels = set(df_filtered[df_filtered['is_obsolete']==\"true\"].index)\n",
    "    used_labels = set(df_filtered.index) - obsolete_labels\n",
    "    return used_labels,obsolete_labels"
   ]
  },
  {
   "cell_type": "code",
   "execution_count": 2,
   "metadata": {},
   "outputs": [],
   "source": [
    "\n",
    "with open('Gene Ontology Data Archive.html','r') as handle:\n",
    "    soup = BeautifulSoup(handle,'html.parser')\n",
    "\n",
    "#Get all dates from releases during the last 10 years\n",
    "dates=list(\n",
    "    filter(lambda date: pd.to_datetime(date,format='%Y-%m-%d')>=pd.to_datetime('2014-06-01'),\n",
    "        map(\n",
    "            lambda x: x.get_text()[:-1],\n",
    "            soup.findAll(lambda tag: tag.name =='a' and 'data-prefix' in tag.attrs)\n",
    "            )\n",
    "        )\n",
    "    )\n",
    "\n",
    "urls = [f'http://release.geneontology.org/{date}/ontology/go.obo' for date in dates]\n",
    "\n",
    "\n",
    "prev_used_labels,prev_obsolete_labels = set(),set()\n",
    "\n",
    "data = {'dates':[],'new_labels':[],'obsolete_labels':[],'used_labels':[]}\n"
   ]
  },
  {
   "cell_type": "code",
   "execution_count": 7,
   "metadata": {},
   "outputs": [
    {
     "name": "stderr",
     "output_type": "stream",
     "text": [
      "  0%|          | 0/113 [00:00<?, ?it/s]INFO:root:Downloading and processing OBO file...\n",
      "INFO:root:Calculating labels...\n",
      "  1%|          | 1/113 [00:06<11:22,  6.09s/it]INFO:root:Downloading and processing OBO file...\n"
     ]
    },
    {
     "name": "stdout",
     "output_type": "stream",
     "text": [
      "http://release.geneontology.org/2024-04-24/ontology/go.obo\n",
      "new labels =  0\n",
      "new obsolete =  497\n",
      "all labels =  42255\n"
     ]
    },
    {
     "name": "stderr",
     "output_type": "stream",
     "text": [
      "INFO:root:Calculating labels...\n",
      "  2%|▏         | 2/113 [00:12<11:32,  6.24s/it]INFO:root:Downloading and processing OBO file...\n"
     ]
    },
    {
     "name": "stdout",
     "output_type": "stream",
     "text": [
      "http://release.geneontology.org/2024-04-18/ontology/go.obo\n",
      "new labels =  0\n",
      "new obsolete =  0\n",
      "all labels =  42271\n"
     ]
    },
    {
     "name": "stderr",
     "output_type": "stream",
     "text": [
      "INFO:root:Calculating labels...\n",
      "  3%|▎         | 3/113 [00:18<11:24,  6.22s/it]INFO:root:Downloading and processing OBO file...\n"
     ]
    },
    {
     "name": "stdout",
     "output_type": "stream",
     "text": [
      "http://release.geneontology.org/2024-03-28/ontology/go.obo\n",
      "new labels =  0\n",
      "new obsolete =  0\n",
      "all labels =  42312\n"
     ]
    },
    {
     "name": "stderr",
     "output_type": "stream",
     "text": [
      "INFO:root:Calculating labels...\n",
      "  4%|▎         | 4/113 [00:24<11:16,  6.20s/it]INFO:root:Downloading and processing OBO file...\n"
     ]
    },
    {
     "name": "stdout",
     "output_type": "stream",
     "text": [
      "http://release.geneontology.org/2024-01-17/ontology/go.obo\n",
      "new labels =  0\n",
      "new obsolete =  0\n",
      "all labels =  42442\n"
     ]
    },
    {
     "name": "stderr",
     "output_type": "stream",
     "text": [
      "INFO:root:Calculating labels...\n",
      "  4%|▍         | 5/113 [00:30<10:53,  6.05s/it]INFO:root:Downloading and processing OBO file...\n"
     ]
    },
    {
     "name": "stdout",
     "output_type": "stream",
     "text": [
      "http://release.geneontology.org/2023-11-15/ontology/go.obo\n",
      "new labels =  0\n",
      "new obsolete =  0\n",
      "all labels =  42769\n"
     ]
    },
    {
     "name": "stderr",
     "output_type": "stream",
     "text": [
      "INFO:root:Calculating labels...\n",
      "  5%|▌         | 6/113 [00:36<10:55,  6.12s/it]INFO:root:Downloading and processing OBO file...\n"
     ]
    },
    {
     "name": "stdout",
     "output_type": "stream",
     "text": [
      "http://release.geneontology.org/2023-10-09/ontology/go.obo\n",
      "new labels =  0\n",
      "new obsolete =  0\n",
      "all labels =  42837\n"
     ]
    },
    {
     "name": "stderr",
     "output_type": "stream",
     "text": [
      "INFO:root:Calculating labels...\n",
      "  6%|▌         | 7/113 [00:42<10:48,  6.12s/it]INFO:root:Downloading and processing OBO file...\n"
     ]
    },
    {
     "name": "stdout",
     "output_type": "stream",
     "text": [
      "http://release.geneontology.org/2023-07-27/ontology/go.obo\n",
      "new labels =  0\n",
      "new obsolete =  0\n",
      "all labels =  42887\n"
     ]
    },
    {
     "name": "stderr",
     "output_type": "stream",
     "text": [
      "INFO:root:Calculating labels...\n",
      "  7%|▋         | 8/113 [00:49<10:41,  6.11s/it]INFO:root:Downloading and processing OBO file...\n"
     ]
    },
    {
     "name": "stdout",
     "output_type": "stream",
     "text": [
      "http://release.geneontology.org/2023-06-11/ontology/go.obo\n",
      "new labels =  0\n",
      "new obsolete =  0\n",
      "all labels =  42950\n"
     ]
    },
    {
     "name": "stderr",
     "output_type": "stream",
     "text": [
      "INFO:root:Calculating labels...\n",
      "  8%|▊         | 9/113 [00:55<10:36,  6.12s/it]INFO:root:Downloading and processing OBO file...\n"
     ]
    },
    {
     "name": "stdout",
     "output_type": "stream",
     "text": [
      "http://release.geneontology.org/2023-05-10/ontology/go.obo\n",
      "new labels =  0\n",
      "new obsolete =  0\n",
      "all labels =  43008\n"
     ]
    },
    {
     "name": "stderr",
     "output_type": "stream",
     "text": [
      "INFO:root:Calculating labels...\n",
      "  9%|▉         | 10/113 [01:01<10:27,  6.09s/it]INFO:root:Downloading and processing OBO file...\n"
     ]
    },
    {
     "name": "stdout",
     "output_type": "stream",
     "text": [
      "http://release.geneontology.org/2023-04-01/ontology/go.obo\n",
      "new labels =  0\n",
      "new obsolete =  0\n",
      "all labels =  43093\n"
     ]
    },
    {
     "name": "stderr",
     "output_type": "stream",
     "text": [
      "INFO:root:Calculating labels...\n",
      " 10%|▉         | 11/113 [01:07<10:26,  6.14s/it]INFO:root:Downloading and processing OBO file...\n"
     ]
    },
    {
     "name": "stdout",
     "output_type": "stream",
     "text": [
      "http://release.geneontology.org/2023-03-06/ontology/go.obo\n",
      "new labels =  0\n",
      "new obsolete =  0\n",
      "all labels =  43096\n"
     ]
    },
    {
     "name": "stderr",
     "output_type": "stream",
     "text": [
      "INFO:root:Calculating labels...\n",
      " 11%|█         | 12/113 [01:13<10:09,  6.03s/it]INFO:root:Downloading and processing OBO file...\n"
     ]
    },
    {
     "name": "stdout",
     "output_type": "stream",
     "text": [
      "http://release.geneontology.org/2023-01-01/ontology/go.obo\n",
      "new labels =  0\n",
      "new obsolete =  0\n",
      "all labels =  43248\n"
     ]
    },
    {
     "name": "stderr",
     "output_type": "stream",
     "text": [
      "INFO:root:Calculating labels...\n",
      " 12%|█▏        | 13/113 [01:19<10:06,  6.07s/it]INFO:root:Downloading and processing OBO file...\n"
     ]
    },
    {
     "name": "stdout",
     "output_type": "stream",
     "text": [
      "http://release.geneontology.org/2022-12-04/ontology/go.obo\n",
      "new labels =  0\n",
      "new obsolete =  0\n",
      "all labels =  43272\n"
     ]
    },
    {
     "name": "stderr",
     "output_type": "stream",
     "text": [
      "INFO:root:Calculating labels...\n",
      " 12%|█▏        | 14/113 [01:25<09:59,  6.06s/it]INFO:root:Downloading and processing OBO file...\n"
     ]
    },
    {
     "name": "stdout",
     "output_type": "stream",
     "text": [
      "http://release.geneontology.org/2022-11-03/ontology/go.obo\n",
      "new labels =  0\n",
      "new obsolete =  0\n",
      "all labels =  43303\n"
     ]
    },
    {
     "name": "stderr",
     "output_type": "stream",
     "text": [
      "INFO:root:Calculating labels...\n",
      " 13%|█▎        | 15/113 [01:31<09:51,  6.04s/it]INFO:root:Downloading and processing OBO file...\n"
     ]
    },
    {
     "name": "stdout",
     "output_type": "stream",
     "text": [
      "http://release.geneontology.org/2022-10-07/ontology/go.obo\n",
      "new labels =  0\n",
      "new obsolete =  0\n",
      "all labels =  43329\n"
     ]
    },
    {
     "name": "stderr",
     "output_type": "stream",
     "text": [
      "INFO:root:Calculating labels...\n",
      " 14%|█▍        | 16/113 [01:37<09:44,  6.02s/it]INFO:root:Downloading and processing OBO file...\n"
     ]
    },
    {
     "name": "stdout",
     "output_type": "stream",
     "text": [
      "http://release.geneontology.org/2022-09-19/ontology/go.obo\n",
      "new labels =  0\n",
      "new obsolete =  0\n",
      "all labels =  43335\n"
     ]
    },
    {
     "name": "stderr",
     "output_type": "stream",
     "text": [
      "INFO:root:Calculating labels...\n",
      " 15%|█▌        | 17/113 [01:43<09:43,  6.07s/it]INFO:root:Downloading and processing OBO file...\n"
     ]
    },
    {
     "name": "stdout",
     "output_type": "stream",
     "text": [
      "http://release.geneontology.org/2022-07-01/ontology/go.obo\n",
      "new labels =  0\n",
      "new obsolete =  0\n",
      "all labels =  43558\n"
     ]
    },
    {
     "name": "stderr",
     "output_type": "stream",
     "text": [
      "INFO:root:Calculating labels...\n",
      " 16%|█▌        | 18/113 [01:49<09:36,  6.07s/it]INFO:root:Downloading and processing OBO file...\n"
     ]
    },
    {
     "name": "stdout",
     "output_type": "stream",
     "text": [
      "http://release.geneontology.org/2022-06-15/ontology/go.obo\n",
      "new labels =  0\n",
      "new obsolete =  0\n",
      "all labels =  43613\n"
     ]
    },
    {
     "name": "stderr",
     "output_type": "stream",
     "text": [
      "INFO:root:Calculating labels...\n",
      " 17%|█▋        | 19/113 [01:55<09:30,  6.07s/it]INFO:root:Downloading and processing OBO file...\n"
     ]
    },
    {
     "name": "stdout",
     "output_type": "stream",
     "text": [
      "http://release.geneontology.org/2022-05-16/ontology/go.obo\n",
      "new labels =  0\n",
      "new obsolete =  0\n",
      "all labels =  43648\n"
     ]
    },
    {
     "name": "stderr",
     "output_type": "stream",
     "text": [
      "INFO:root:Calculating labels...\n",
      " 18%|█▊        | 20/113 [02:01<09:23,  6.06s/it]INFO:root:Downloading and processing OBO file...\n"
     ]
    },
    {
     "name": "stdout",
     "output_type": "stream",
     "text": [
      "http://release.geneontology.org/2022-03-22/ontology/go.obo\n",
      "new labels =  0\n",
      "new obsolete =  0\n",
      "all labels =  43699\n"
     ]
    },
    {
     "name": "stderr",
     "output_type": "stream",
     "text": [
      "INFO:root:Calculating labels...\n",
      " 19%|█▊        | 21/113 [02:07<09:16,  6.05s/it]INFO:root:Downloading and processing OBO file...\n"
     ]
    },
    {
     "name": "stdout",
     "output_type": "stream",
     "text": [
      "http://release.geneontology.org/2022-03-10/ontology/go.obo\n",
      "new labels =  0\n",
      "new obsolete =  0\n",
      "all labels =  43704\n"
     ]
    },
    {
     "name": "stderr",
     "output_type": "stream",
     "text": [
      "INFO:root:Calculating labels...\n",
      " 19%|█▉        | 22/113 [02:13<09:02,  5.96s/it]INFO:root:Downloading and processing OBO file...\n"
     ]
    },
    {
     "name": "stdout",
     "output_type": "stream",
     "text": [
      "http://release.geneontology.org/2022-01-13/ontology/go.obo\n",
      "new labels =  0\n",
      "new obsolete =  0\n",
      "all labels =  43786\n"
     ]
    },
    {
     "name": "stderr",
     "output_type": "stream",
     "text": [
      "INFO:root:Calculating labels...\n",
      " 20%|██        | 23/113 [02:19<09:02,  6.03s/it]INFO:root:Downloading and processing OBO file...\n"
     ]
    },
    {
     "name": "stdout",
     "output_type": "stream",
     "text": [
      "http://release.geneontology.org/2021-12-15/ontology/go.obo\n",
      "new labels =  0\n",
      "new obsolete =  0\n",
      "all labels =  43789\n"
     ]
    },
    {
     "name": "stderr",
     "output_type": "stream",
     "text": [
      "INFO:root:Calculating labels...\n",
      " 21%|██        | 24/113 [02:25<08:57,  6.04s/it]INFO:root:Downloading and processing OBO file...\n"
     ]
    },
    {
     "name": "stdout",
     "output_type": "stream",
     "text": [
      "http://release.geneontology.org/2021-11-16/ontology/go.obo\n",
      "new labels =  0\n",
      "new obsolete =  0\n",
      "all labels =  43791\n"
     ]
    },
    {
     "name": "stderr",
     "output_type": "stream",
     "text": [
      "INFO:root:Calculating labels...\n",
      " 22%|██▏       | 25/113 [02:31<08:48,  6.00s/it]INFO:root:Downloading and processing OBO file...\n"
     ]
    },
    {
     "name": "stdout",
     "output_type": "stream",
     "text": [
      "http://release.geneontology.org/2021-10-26/ontology/go.obo\n",
      "new labels =  0\n",
      "new obsolete =  0\n",
      "all labels =  43832\n"
     ]
    },
    {
     "name": "stderr",
     "output_type": "stream",
     "text": [
      "INFO:root:Calculating labels...\n",
      " 23%|██▎       | 26/113 [02:37<08:40,  5.98s/it]INFO:root:Downloading and processing OBO file...\n"
     ]
    },
    {
     "name": "stdout",
     "output_type": "stream",
     "text": [
      "http://release.geneontology.org/2021-09-01/ontology/go.obo\n",
      "new labels =  0\n",
      "new obsolete =  0\n",
      "all labels =  43850\n"
     ]
    },
    {
     "name": "stderr",
     "output_type": "stream",
     "text": [
      "INFO:root:Calculating labels...\n",
      " 24%|██▍       | 27/113 [02:43<08:40,  6.05s/it]INFO:root:Downloading and processing OBO file...\n"
     ]
    },
    {
     "name": "stdout",
     "output_type": "stream",
     "text": [
      "http://release.geneontology.org/2021-08-18/ontology/go.obo\n",
      "new labels =  0\n",
      "new obsolete =  0\n",
      "all labels =  43878\n"
     ]
    },
    {
     "name": "stderr",
     "output_type": "stream",
     "text": [
      "INFO:root:Calculating labels...\n",
      " 25%|██▍       | 28/113 [02:49<08:32,  6.03s/it]INFO:root:Downloading and processing OBO file...\n"
     ]
    },
    {
     "name": "stdout",
     "output_type": "stream",
     "text": [
      "http://release.geneontology.org/2021-07-02/ontology/go.obo\n",
      "new labels =  0\n",
      "new obsolete =  0\n",
      "all labels =  43917\n"
     ]
    },
    {
     "name": "stderr",
     "output_type": "stream",
     "text": [
      "INFO:root:Calculating labels...\n",
      " 26%|██▌       | 29/113 [02:55<08:26,  6.03s/it]INFO:root:Downloading and processing OBO file...\n"
     ]
    },
    {
     "name": "stdout",
     "output_type": "stream",
     "text": [
      "http://release.geneontology.org/2021-06-16/ontology/go.obo\n",
      "new labels =  0\n",
      "new obsolete =  0\n",
      "all labels =  43917\n"
     ]
    },
    {
     "name": "stderr",
     "output_type": "stream",
     "text": [
      "INFO:root:Calculating labels...\n",
      " 27%|██▋       | 30/113 [03:01<08:22,  6.05s/it]INFO:root:Downloading and processing OBO file...\n"
     ]
    },
    {
     "name": "stdout",
     "output_type": "stream",
     "text": [
      "http://release.geneontology.org/2021-05-01/ontology/go.obo\n",
      "new labels =  0\n",
      "new obsolete =  0\n",
      "all labels =  43987\n"
     ]
    },
    {
     "name": "stderr",
     "output_type": "stream",
     "text": [
      "INFO:root:Calculating labels...\n",
      " 27%|██▋       | 31/113 [03:07<08:08,  5.96s/it]INFO:root:Downloading and processing OBO file...\n"
     ]
    },
    {
     "name": "stdout",
     "output_type": "stream",
     "text": [
      "http://release.geneontology.org/2021-02-01/ontology/go.obo\n",
      "new labels =  0\n",
      "new obsolete =  0\n",
      "all labels =  44085\n"
     ]
    },
    {
     "name": "stderr",
     "output_type": "stream",
     "text": [
      "INFO:root:Calculating labels...\n",
      " 28%|██▊       | 32/113 [03:13<08:08,  6.03s/it]INFO:root:Downloading and processing OBO file...\n"
     ]
    },
    {
     "name": "stdout",
     "output_type": "stream",
     "text": [
      "http://release.geneontology.org/2021-01-01/ontology/go.obo\n",
      "new labels =  0\n",
      "new obsolete =  0\n",
      "all labels =  44091\n"
     ]
    },
    {
     "name": "stderr",
     "output_type": "stream",
     "text": [
      "INFO:root:Calculating labels...\n",
      " 29%|██▉       | 33/113 [03:19<08:03,  6.04s/it]INFO:root:Downloading and processing OBO file...\n"
     ]
    },
    {
     "name": "stdout",
     "output_type": "stream",
     "text": [
      "http://release.geneontology.org/2020-12-08/ontology/go.obo\n",
      "new labels =  0\n",
      "new obsolete =  0\n",
      "all labels =  44117\n"
     ]
    },
    {
     "name": "stderr",
     "output_type": "stream",
     "text": [
      "INFO:root:Calculating labels...\n",
      " 30%|███       | 34/113 [03:26<07:59,  6.06s/it]INFO:root:Downloading and processing OBO file...\n"
     ]
    },
    {
     "name": "stdout",
     "output_type": "stream",
     "text": [
      "http://release.geneontology.org/2020-11-17/ontology/go.obo\n",
      "new labels =  0\n",
      "new obsolete =  0\n",
      "all labels =  44167\n"
     ]
    },
    {
     "name": "stderr",
     "output_type": "stream",
     "text": [
      "INFO:root:Calculating labels...\n",
      " 31%|███       | 35/113 [03:32<07:53,  6.07s/it]INFO:root:Downloading and processing OBO file...\n"
     ]
    },
    {
     "name": "stdout",
     "output_type": "stream",
     "text": [
      "http://release.geneontology.org/2020-10-09/ontology/go.obo\n",
      "new labels =  0\n",
      "new obsolete =  0\n",
      "all labels =  44264\n"
     ]
    },
    {
     "name": "stderr",
     "output_type": "stream",
     "text": [
      "INFO:root:Calculating labels...\n",
      " 32%|███▏      | 36/113 [03:38<07:46,  6.06s/it]INFO:root:Downloading and processing OBO file...\n"
     ]
    },
    {
     "name": "stdout",
     "output_type": "stream",
     "text": [
      "http://release.geneontology.org/2020-09-10/ontology/go.obo\n",
      "new labels =  53\n",
      "new obsolete =  43\n",
      "all labels =  44272\n"
     ]
    },
    {
     "name": "stderr",
     "output_type": "stream",
     "text": [
      "INFO:root:Calculating labels...\n",
      " 33%|███▎      | 37/113 [03:46<08:20,  6.59s/it]INFO:root:Downloading and processing OBO file...\n"
     ]
    },
    {
     "name": "stdout",
     "output_type": "stream",
     "text": [
      "http://release.geneontology.org/2020-08-10/ontology/go.obo\n",
      "new labels =  36\n",
      "new obsolete =  44\n",
      "all labels =  44262\n"
     ]
    },
    {
     "name": "stderr",
     "output_type": "stream",
     "text": [
      "INFO:root:Calculating labels...\n",
      " 34%|███▎      | 38/113 [03:56<09:33,  7.65s/it]INFO:root:Downloading and processing OBO file...\n"
     ]
    },
    {
     "name": "stdout",
     "output_type": "stream",
     "text": [
      "http://release.geneontology.org/2020-07-16/ontology/go.obo\n",
      "new labels =  3\n",
      "new obsolete =  20\n",
      "all labels =  44244\n"
     ]
    },
    {
     "name": "stderr",
     "output_type": "stream",
     "text": [
      "INFO:root:Calculating labels...\n",
      " 35%|███▍      | 39/113 [04:07<10:42,  8.69s/it]INFO:root:Downloading and processing OBO file...\n"
     ]
    },
    {
     "name": "stdout",
     "output_type": "stream",
     "text": [
      "http://release.geneontology.org/2020-06-01/ontology/go.obo\n",
      "new labels =  205\n",
      "new obsolete =  37\n",
      "all labels =  44411\n"
     ]
    },
    {
     "name": "stderr",
     "output_type": "stream",
     "text": [
      "INFO:root:Calculating labels...\n",
      " 35%|███▌      | 40/113 [04:14<10:08,  8.34s/it]INFO:root:Downloading and processing OBO file...\n"
     ]
    },
    {
     "name": "stdout",
     "output_type": "stream",
     "text": [
      "http://release.geneontology.org/2020-05-02/ontology/go.obo\n",
      "new labels =  114\n",
      "new obsolete =  16\n",
      "all labels =  44508\n"
     ]
    },
    {
     "name": "stderr",
     "output_type": "stream",
     "text": [
      "INFO:root:Calculating labels...\n",
      " 36%|███▋      | 41/113 [04:22<09:42,  8.08s/it]INFO:root:Downloading and processing OBO file...\n"
     ]
    },
    {
     "name": "stdout",
     "output_type": "stream",
     "text": [
      "http://release.geneontology.org/2020-04-23/ontology/go.obo\n",
      "new labels =  17\n",
      "new obsolete =  5\n",
      "all labels =  44519\n"
     ]
    },
    {
     "name": "stderr",
     "output_type": "stream",
     "text": [
      "INFO:root:Calculating labels...\n",
      " 37%|███▋      | 42/113 [04:29<09:19,  7.88s/it]INFO:root:Downloading and processing OBO file...\n"
     ]
    },
    {
     "name": "stdout",
     "output_type": "stream",
     "text": [
      "http://release.geneontology.org/2020-03-25/ontology/go.obo\n",
      "new labels =  45\n",
      "new obsolete =  31\n",
      "all labels =  44531\n"
     ]
    },
    {
     "name": "stderr",
     "output_type": "stream",
     "text": [
      "INFO:root:Calculating labels...\n",
      " 38%|███▊      | 43/113 [04:37<09:07,  7.83s/it]INFO:root:Downloading and processing OBO file...\n"
     ]
    },
    {
     "name": "stdout",
     "output_type": "stream",
     "text": [
      "http://release.geneontology.org/2020-02-26/ontology/go.obo\n",
      "new labels =  75\n",
      "new obsolete =  27\n",
      "all labels =  44579\n"
     ]
    },
    {
     "name": "stderr",
     "output_type": "stream",
     "text": [
      "INFO:root:Calculating labels...\n",
      " 39%|███▉      | 44/113 [04:49<10:22,  9.02s/it]INFO:root:Downloading and processing OBO file...\n"
     ]
    },
    {
     "name": "stdout",
     "output_type": "stream",
     "text": [
      "http://release.geneontology.org/2020-01-01/ontology/go.obo\n",
      "new labels =  191\n",
      "new obsolete =  64\n",
      "all labels =  44700\n"
     ]
    },
    {
     "name": "stderr",
     "output_type": "stream",
     "text": [
      "INFO:root:Calculating labels...\n",
      " 40%|███▉      | 45/113 [04:56<09:44,  8.60s/it]INFO:root:Downloading and processing OBO file...\n"
     ]
    },
    {
     "name": "stdout",
     "output_type": "stream",
     "text": [
      "http://release.geneontology.org/2019-12-09/ontology/go.obo\n",
      "new labels =  6\n",
      "new obsolete =  30\n",
      "all labels =  44674\n"
     ]
    },
    {
     "name": "stderr",
     "output_type": "stream",
     "text": [
      "INFO:root:Calculating labels...\n",
      " 41%|████      | 46/113 [05:04<09:16,  8.31s/it]INFO:root:Downloading and processing OBO file...\n"
     ]
    },
    {
     "name": "stdout",
     "output_type": "stream",
     "text": [
      "http://release.geneontology.org/2019-11-01/ontology/go.obo\n",
      "new labels =  55\n",
      "new obsolete =  79\n",
      "all labels =  44650\n"
     ]
    },
    {
     "name": "stderr",
     "output_type": "stream",
     "text": [
      "INFO:root:Calculating labels...\n",
      " 42%|████▏     | 47/113 [05:11<08:49,  8.02s/it]INFO:root:Downloading and processing OBO file...\n"
     ]
    },
    {
     "name": "stdout",
     "output_type": "stream",
     "text": [
      "http://release.geneontology.org/2019-10-07/ontology/go.obo\n",
      "new labels =  99\n",
      "new obsolete =  16\n",
      "all labels =  44733\n"
     ]
    },
    {
     "name": "stderr",
     "output_type": "stream",
     "text": [
      "INFO:root:Calculating labels...\n",
      " 42%|████▏     | 48/113 [05:19<08:33,  7.89s/it]INFO:root:Downloading and processing OBO file...\n"
     ]
    },
    {
     "name": "stdout",
     "output_type": "stream",
     "text": [
      "http://release.geneontology.org/2019-07-01/ontology/go.obo\n",
      "new labels =  271\n",
      "new obsolete =  56\n",
      "all labels =  44945\n"
     ]
    },
    {
     "name": "stderr",
     "output_type": "stream",
     "text": [
      "INFO:root:Calculating labels...\n",
      " 43%|████▎     | 49/113 [05:26<08:15,  7.75s/it]INFO:root:Downloading and processing OBO file...\n"
     ]
    },
    {
     "name": "stdout",
     "output_type": "stream",
     "text": [
      "http://release.geneontology.org/2019-06-09/ontology/go.obo\n",
      "new labels =  68\n",
      "new obsolete =  19\n",
      "all labels =  44990\n"
     ]
    },
    {
     "name": "stderr",
     "output_type": "stream",
     "text": [
      "INFO:root:Calculating labels...\n",
      " 44%|████▍     | 50/113 [05:36<08:37,  8.21s/it]INFO:root:Downloading and processing OBO file...\n"
     ]
    },
    {
     "name": "stdout",
     "output_type": "stream",
     "text": [
      "http://release.geneontology.org/2019-06-01/ontology/go.obo\n",
      "new labels =  19\n",
      "new obsolete =  3\n",
      "all labels =  45006\n"
     ]
    },
    {
     "name": "stderr",
     "output_type": "stream",
     "text": [
      "INFO:root:Calculating labels...\n",
      " 45%|████▌     | 51/113 [05:43<08:20,  8.08s/it]INFO:root:Downloading and processing OBO file...\n"
     ]
    },
    {
     "name": "stdout",
     "output_type": "stream",
     "text": [
      "http://release.geneontology.org/2019-05-09/ontology/go.obo\n",
      "new labels =  60\n",
      "new obsolete =  41\n",
      "all labels =  45024\n"
     ]
    },
    {
     "name": "stderr",
     "output_type": "stream",
     "text": [
      "INFO:root:Calculating labels...\n",
      " 46%|████▌     | 52/113 [05:50<07:54,  7.77s/it]INFO:root:Downloading and processing OBO file...\n"
     ]
    },
    {
     "name": "stdout",
     "output_type": "stream",
     "text": [
      "http://release.geneontology.org/2019-04-17/ontology/go.obo\n",
      "new labels =  11\n",
      "new obsolete =  17\n",
      "all labels =  45017\n"
     ]
    },
    {
     "name": "stderr",
     "output_type": "stream",
     "text": [
      "INFO:root:Calculating labels...\n",
      " 47%|████▋     | 53/113 [05:58<07:44,  7.74s/it]INFO:root:Downloading and processing OBO file...\n"
     ]
    },
    {
     "name": "stdout",
     "output_type": "stream",
     "text": [
      "http://release.geneontology.org/2019-03-18/ontology/go.obo\n",
      "new labels =  18\n",
      "new obsolete =  21\n",
      "all labels =  45006\n"
     ]
    },
    {
     "name": "stderr",
     "output_type": "stream",
     "text": [
      "INFO:root:Calculating labels...\n",
      " 48%|████▊     | 54/113 [06:06<07:35,  7.73s/it]INFO:root:Downloading and processing OBO file...\n"
     ]
    },
    {
     "name": "stdout",
     "output_type": "stream",
     "text": [
      "http://release.geneontology.org/2019-03-10/ontology/go.obo\n",
      "new labels =  23\n",
      "new obsolete =  1\n",
      "all labels =  45027\n"
     ]
    },
    {
     "name": "stderr",
     "output_type": "stream",
     "text": [
      "INFO:root:Calculating labels...\n",
      " 49%|████▊     | 55/113 [06:17<08:33,  8.85s/it]INFO:root:Downloading and processing OBO file...\n"
     ]
    },
    {
     "name": "stdout",
     "output_type": "stream",
     "text": [
      "http://release.geneontology.org/2019-02-01/ontology/go.obo\n",
      "new labels =  6\n",
      "new obsolete =  20\n",
      "all labels =  45013\n"
     ]
    },
    {
     "name": "stderr",
     "output_type": "stream",
     "text": [
      "INFO:root:Calculating labels...\n",
      " 50%|████▉     | 56/113 [06:25<08:03,  8.48s/it]INFO:root:Downloading and processing OBO file...\n"
     ]
    },
    {
     "name": "stdout",
     "output_type": "stream",
     "text": [
      "http://release.geneontology.org/2019-01-01/ontology/go.obo\n",
      "new labels =  0\n",
      "new obsolete =  6\n",
      "all labels =  45003\n"
     ]
    },
    {
     "name": "stderr",
     "output_type": "stream",
     "text": [
      "INFO:root:Calculating labels...\n",
      " 50%|█████     | 57/113 [06:32<07:35,  8.14s/it]INFO:root:Downloading and processing OBO file...\n"
     ]
    },
    {
     "name": "stdout",
     "output_type": "stream",
     "text": [
      "http://release.geneontology.org/2018-12-01/ontology/go.obo\n",
      "new labels =  37\n",
      "new obsolete =  8\n",
      "all labels =  45032\n"
     ]
    },
    {
     "name": "stderr",
     "output_type": "stream",
     "text": [
      "INFO:root:Calculating labels...\n",
      " 51%|█████▏    | 58/113 [06:40<07:17,  7.96s/it]INFO:root:Downloading and processing OBO file...\n"
     ]
    },
    {
     "name": "stdout",
     "output_type": "stream",
     "text": [
      "http://release.geneontology.org/2018-11-15/ontology/go.obo\n",
      "new labels =  1\n",
      "new obsolete =  22\n",
      "all labels =  45007\n"
     ]
    },
    {
     "name": "stderr",
     "output_type": "stream",
     "text": [
      "INFO:root:Calculating labels...\n",
      " 52%|█████▏    | 59/113 [06:48<07:08,  7.93s/it]INFO:root:Downloading and processing OBO file...\n"
     ]
    },
    {
     "name": "stdout",
     "output_type": "stream",
     "text": [
      "http://release.geneontology.org/2018-10-08/ontology/go.obo\n",
      "new labels =  62\n",
      "new obsolete =  24\n",
      "all labels =  45043\n"
     ]
    },
    {
     "name": "stderr",
     "output_type": "stream",
     "text": [
      "INFO:root:Calculating labels...\n",
      " 53%|█████▎    | 60/113 [06:58<07:41,  8.70s/it]INFO:root:Downloading and processing OBO file...\n"
     ]
    },
    {
     "name": "stdout",
     "output_type": "stream",
     "text": [
      "http://release.geneontology.org/2018-10-01/ontology/go.obo\n",
      "new labels =  6\n",
      "new obsolete =  5\n",
      "all labels =  45044\n"
     ]
    },
    {
     "name": "stderr",
     "output_type": "stream",
     "text": [
      "INFO:root:Calculating labels...\n",
      " 54%|█████▍    | 61/113 [07:06<07:20,  8.47s/it]INFO:root:Downloading and processing OBO file...\n"
     ]
    },
    {
     "name": "stdout",
     "output_type": "stream",
     "text": [
      "http://release.geneontology.org/2018-09-05/ontology/go.obo\n",
      "new labels =  17\n",
      "new obsolete =  28\n",
      "all labels =  45032\n"
     ]
    },
    {
     "name": "stderr",
     "output_type": "stream",
     "text": [
      "INFO:root:Calculating labels...\n",
      " 55%|█████▍    | 62/113 [07:14<07:04,  8.33s/it]INFO:root:Downloading and processing OBO file...\n"
     ]
    },
    {
     "name": "stdout",
     "output_type": "stream",
     "text": [
      "http://release.geneontology.org/2018-08-09/ontology/go.obo\n",
      "new labels =  4\n",
      "new obsolete =  33\n",
      "all labels =  45003\n"
     ]
    },
    {
     "name": "stderr",
     "output_type": "stream",
     "text": [
      "INFO:root:Calculating labels...\n",
      " 56%|█████▌    | 63/113 [07:22<06:49,  8.19s/it]INFO:root:Downloading and processing OBO file...\n"
     ]
    },
    {
     "name": "stdout",
     "output_type": "stream",
     "text": [
      "http://release.geneontology.org/2018-07-02/ontology/go.obo\n",
      "new labels =  22\n",
      "new obsolete =  77\n",
      "all labels =  44947\n"
     ]
    },
    {
     "name": "stderr",
     "output_type": "stream",
     "text": [
      "INFO:root:Calculating labels...\n",
      " 57%|█████▋    | 64/113 [07:30<06:36,  8.09s/it]INFO:root:Downloading and processing OBO file...\n"
     ]
    },
    {
     "name": "stdout",
     "output_type": "stream",
     "text": [
      "http://release.geneontology.org/2018-06-01/ontology/go.obo\n",
      "new labels =  37\n",
      "new obsolete =  17\n",
      "all labels =  44968\n"
     ]
    },
    {
     "name": "stderr",
     "output_type": "stream",
     "text": [
      "INFO:root:Calculating labels...\n",
      " 58%|█████▊    | 65/113 [07:38<06:27,  8.08s/it]INFO:root:Downloading and processing OBO file...\n"
     ]
    },
    {
     "name": "stdout",
     "output_type": "stream",
     "text": [
      "http://release.geneontology.org/2018-05-20/ontology/go.obo\n",
      "new labels =  14\n",
      "new obsolete =  10\n",
      "all labels =  44970\n"
     ]
    },
    {
     "name": "stderr",
     "output_type": "stream",
     "text": [
      "INFO:root:Calculating labels...\n",
      " 58%|█████▊    | 66/113 [07:46<06:17,  8.03s/it]INFO:root:Downloading and processing OBO file...\n"
     ]
    },
    {
     "name": "stdout",
     "output_type": "stream",
     "text": [
      "http://release.geneontology.org/2018-04-02/ontology/go.obo\n",
      "new labels =  41\n",
      "new obsolete =  87\n",
      "all labels =  44922\n"
     ]
    },
    {
     "name": "stderr",
     "output_type": "stream",
     "text": [
      "INFO:root:Calculating labels...\n",
      " 59%|█████▉    | 67/113 [07:54<06:09,  8.04s/it]INFO:root:Downloading and processing OBO file...\n"
     ]
    },
    {
     "name": "stdout",
     "output_type": "stream",
     "text": [
      "http://release.geneontology.org/2018-03-10/ontology/go.obo\n",
      "new labels =  43\n",
      "new obsolete =  26\n",
      "all labels =  44939\n"
     ]
    },
    {
     "name": "stderr",
     "output_type": "stream",
     "text": [
      "INFO:root:Calculating labels...\n",
      " 60%|██████    | 68/113 [08:02<06:00,  8.01s/it]INFO:root:Downloading and processing OBO file...\n"
     ]
    },
    {
     "name": "stdout",
     "output_type": "stream",
     "text": [
      "http://release.geneontology.org/2018-03-06/ontology/go.obo\n",
      "new labels =  6\n",
      "new obsolete =  3\n",
      "all labels =  44942\n"
     ]
    },
    {
     "name": "stderr",
     "output_type": "stream",
     "text": [
      "INFO:root:Calculating labels...\n",
      " 61%|██████    | 69/113 [08:10<05:54,  8.05s/it]INFO:root:Downloading and processing OBO file...\n"
     ]
    },
    {
     "name": "stdout",
     "output_type": "stream",
     "text": [
      "http://release.geneontology.org/2018-02-01/ontology/go.obo\n",
      "new labels =  145\n",
      "new obsolete =  109\n",
      "all labels =  44970\n"
     ]
    },
    {
     "name": "stderr",
     "output_type": "stream",
     "text": [
      "INFO:root:Calculating labels...\n",
      " 62%|██████▏   | 70/113 [08:18<05:47,  8.09s/it]INFO:root:Downloading and processing OBO file...\n"
     ]
    },
    {
     "name": "stdout",
     "output_type": "stream",
     "text": [
      "http://release.geneontology.org/2018-01-01/ontology/go.obo\n",
      "new labels =  53\n",
      "new obsolete =  22\n",
      "all labels =  45001\n"
     ]
    },
    {
     "name": "stderr",
     "output_type": "stream",
     "text": [
      "INFO:root:Calculating labels...\n",
      " 63%|██████▎   | 71/113 [08:29<06:15,  8.93s/it]INFO:root:Downloading and processing OBO file...\n"
     ]
    },
    {
     "name": "stdout",
     "output_type": "stream",
     "text": [
      "http://release.geneontology.org/2017-12-01/ontology/go.obo\n",
      "new labels =  14\n",
      "new obsolete =  54\n",
      "all labels =  44955\n"
     ]
    },
    {
     "name": "stderr",
     "output_type": "stream",
     "text": [
      "INFO:root:Calculating labels...\n",
      " 64%|██████▎   | 72/113 [08:37<05:54,  8.64s/it]INFO:root:Downloading and processing OBO file...\n"
     ]
    },
    {
     "name": "stdout",
     "output_type": "stream",
     "text": [
      "http://release.geneontology.org/2017-11-01/ontology/go.obo\n",
      "new labels =  60\n",
      "new obsolete =  44\n",
      "all labels =  44969\n"
     ]
    },
    {
     "name": "stderr",
     "output_type": "stream",
     "text": [
      "INFO:root:Calculating labels...\n",
      " 65%|██████▍   | 73/113 [08:45<05:40,  8.50s/it]INFO:root:Downloading and processing OBO file...\n"
     ]
    },
    {
     "name": "stdout",
     "output_type": "stream",
     "text": [
      "http://release.geneontology.org/2017-10-01/ontology/go.obo\n",
      "new labels =  51\n",
      "new obsolete =  44\n",
      "all labels =  44977\n"
     ]
    },
    {
     "name": "stderr",
     "output_type": "stream",
     "text": [
      "INFO:root:Calculating labels...\n",
      " 65%|██████▌   | 74/113 [08:53<05:29,  8.44s/it]INFO:root:Downloading and processing OBO file...\n"
     ]
    },
    {
     "name": "stdout",
     "output_type": "stream",
     "text": [
      "http://release.geneontology.org/2017-09-01/ontology/go.obo\n",
      "new labels =  12\n",
      "new obsolete =  51\n",
      "all labels =  44931\n"
     ]
    },
    {
     "name": "stderr",
     "output_type": "stream",
     "text": [
      "INFO:root:Calculating labels...\n",
      " 66%|██████▋   | 75/113 [09:02<05:26,  8.59s/it]INFO:root:Downloading and processing OBO file...\n"
     ]
    },
    {
     "name": "stdout",
     "output_type": "stream",
     "text": [
      "http://release.geneontology.org/2017-08-01/ontology/go.obo\n",
      "new labels =  31\n",
      "new obsolete =  62\n",
      "all labels =  44890\n"
     ]
    },
    {
     "name": "stderr",
     "output_type": "stream",
     "text": [
      "INFO:root:Calculating labels...\n",
      " 67%|██████▋   | 76/113 [09:13<05:38,  9.14s/it]INFO:root:Downloading and processing OBO file...\n"
     ]
    },
    {
     "name": "stdout",
     "output_type": "stream",
     "text": [
      "http://release.geneontology.org/2017-07-01/ontology/go.obo\n",
      "new labels =  49\n",
      "new obsolete =  79\n",
      "all labels =  44844\n"
     ]
    },
    {
     "name": "stderr",
     "output_type": "stream",
     "text": [
      "INFO:root:Calculating labels...\n",
      " 68%|██████▊   | 77/113 [09:21<05:24,  9.02s/it]INFO:root:Downloading and processing OBO file...\n"
     ]
    },
    {
     "name": "stdout",
     "output_type": "stream",
     "text": [
      "http://release.geneontology.org/2017-06-01/ontology/go.obo\n",
      "new labels =  5\n",
      "new obsolete =  207\n",
      "all labels =  44616\n"
     ]
    },
    {
     "name": "stderr",
     "output_type": "stream",
     "text": [
      "INFO:root:Calculating labels...\n",
      " 69%|██████▉   | 78/113 [09:30<05:06,  8.75s/it]INFO:root:Downloading and processing OBO file...\n"
     ]
    },
    {
     "name": "stdout",
     "output_type": "stream",
     "text": [
      "http://release.geneontology.org/2017-05-01/ontology/go.obo\n",
      "new labels =  6\n",
      "new obsolete =  77\n",
      "all labels =  44538\n"
     ]
    },
    {
     "name": "stderr",
     "output_type": "stream",
     "text": [
      "INFO:root:Calculating labels...\n",
      " 70%|██████▉   | 79/113 [09:38<04:49,  8.50s/it]INFO:root:Downloading and processing OBO file...\n"
     ]
    },
    {
     "name": "stdout",
     "output_type": "stream",
     "text": [
      "http://release.geneontology.org/2017-04-01/ontology/go.obo\n",
      "new labels =  44\n",
      "new obsolete =  47\n",
      "all labels =  44528\n"
     ]
    },
    {
     "name": "stderr",
     "output_type": "stream",
     "text": [
      "INFO:root:Calculating labels...\n",
      " 71%|███████   | 80/113 [09:50<05:18,  9.65s/it]INFO:root:Downloading and processing OBO file...\n"
     ]
    },
    {
     "name": "stdout",
     "output_type": "stream",
     "text": [
      "http://release.geneontology.org/2017-03-01/ontology/go.obo\n",
      "new labels =  46\n",
      "new obsolete =  109\n",
      "all labels =  44449\n"
     ]
    },
    {
     "name": "stderr",
     "output_type": "stream",
     "text": [
      "INFO:root:Calculating labels...\n",
      " 72%|███████▏  | 81/113 [09:58<04:56,  9.26s/it]INFO:root:Downloading and processing OBO file...\n"
     ]
    },
    {
     "name": "stdout",
     "output_type": "stream",
     "text": [
      "http://release.geneontology.org/2017-02-01/ontology/go.obo\n",
      "new labels =  15\n",
      "new obsolete =  132\n",
      "all labels =  44307\n"
     ]
    },
    {
     "name": "stderr",
     "output_type": "stream",
     "text": [
      "INFO:root:Calculating labels...\n",
      " 73%|███████▎  | 82/113 [10:06<04:35,  8.89s/it]INFO:root:Downloading and processing OBO file...\n"
     ]
    },
    {
     "name": "stdout",
     "output_type": "stream",
     "text": [
      "http://release.geneontology.org/2017-01-01/ontology/go.obo\n",
      "new labels =  13\n",
      "new obsolete =  311\n",
      "all labels =  43973\n"
     ]
    },
    {
     "name": "stderr",
     "output_type": "stream",
     "text": [
      "INFO:root:Calculating labels...\n",
      " 73%|███████▎  | 83/113 [10:15<04:21,  8.72s/it]INFO:root:Downloading and processing OBO file...\n"
     ]
    },
    {
     "name": "stdout",
     "output_type": "stream",
     "text": [
      "http://release.geneontology.org/2016-12-01/ontology/go.obo\n",
      "new labels =  6\n",
      "new obsolete =  79\n",
      "all labels =  43896\n"
     ]
    },
    {
     "name": "stderr",
     "output_type": "stream",
     "text": [
      "INFO:root:Calculating labels...\n",
      " 74%|███████▍  | 84/113 [10:22<04:05,  8.46s/it]INFO:root:Downloading and processing OBO file...\n"
     ]
    },
    {
     "name": "stdout",
     "output_type": "stream",
     "text": [
      "http://release.geneontology.org/2016-11-01/ontology/go.obo\n",
      "new labels =  8\n",
      "new obsolete =  243\n",
      "all labels =  43647\n"
     ]
    },
    {
     "name": "stderr",
     "output_type": "stream",
     "text": [
      "INFO:root:Calculating labels...\n",
      " 75%|███████▌  | 85/113 [10:30<03:50,  8.22s/it]INFO:root:Downloading and processing OBO file...\n"
     ]
    },
    {
     "name": "stdout",
     "output_type": "stream",
     "text": [
      "http://release.geneontology.org/2016-10-01/ontology/go.obo\n",
      "new labels =  17\n",
      "new obsolete =  206\n",
      "all labels =  43435\n"
     ]
    },
    {
     "name": "stderr",
     "output_type": "stream",
     "text": [
      "INFO:root:Calculating labels...\n",
      " 76%|███████▌  | 86/113 [10:38<03:38,  8.09s/it]INFO:root:Downloading and processing OBO file...\n"
     ]
    },
    {
     "name": "stdout",
     "output_type": "stream",
     "text": [
      "http://release.geneontology.org/2016-09-01/ontology/go.obo\n",
      "new labels =  7\n",
      "new obsolete =  130\n",
      "all labels =  43286\n"
     ]
    },
    {
     "name": "stderr",
     "output_type": "stream",
     "text": [
      "INFO:root:Calculating labels...\n",
      " 77%|███████▋  | 87/113 [10:46<03:33,  8.21s/it]INFO:root:Downloading and processing OBO file...\n"
     ]
    },
    {
     "name": "stdout",
     "output_type": "stream",
     "text": [
      "http://release.geneontology.org/2016-08-01/ontology/go.obo\n",
      "new labels =  9\n",
      "new obsolete =  164\n",
      "all labels =  43127\n"
     ]
    },
    {
     "name": "stderr",
     "output_type": "stream",
     "text": [
      "INFO:root:Calculating labels...\n",
      " 78%|███████▊  | 88/113 [10:55<03:25,  8.24s/it]INFO:root:Downloading and processing OBO file...\n"
     ]
    },
    {
     "name": "stdout",
     "output_type": "stream",
     "text": [
      "http://release.geneontology.org/2016-07-01/ontology/go.obo\n",
      "new labels =  0\n",
      "new obsolete =  76\n",
      "all labels =  43049\n"
     ]
    },
    {
     "name": "stderr",
     "output_type": "stream",
     "text": [
      "INFO:root:Calculating labels...\n",
      " 79%|███████▉  | 89/113 [11:02<03:14,  8.10s/it]INFO:root:Downloading and processing OBO file...\n"
     ]
    },
    {
     "name": "stdout",
     "output_type": "stream",
     "text": [
      "http://release.geneontology.org/2016-06-01/ontology/go.obo\n",
      "new labels =  5\n",
      "new obsolete =  184\n",
      "all labels =  42819\n"
     ]
    },
    {
     "name": "stderr",
     "output_type": "stream",
     "text": [
      "INFO:root:Calculating labels...\n",
      " 80%|███████▉  | 90/113 [11:10<03:03,  7.98s/it]INFO:root:Downloading and processing OBO file...\n"
     ]
    },
    {
     "name": "stdout",
     "output_type": "stream",
     "text": [
      "http://release.geneontology.org/2016-05-01/ontology/go.obo\n",
      "new labels =  21\n",
      "new obsolete =  105\n",
      "all labels =  42716\n"
     ]
    },
    {
     "name": "stderr",
     "output_type": "stream",
     "text": [
      "INFO:root:Calculating labels...\n",
      " 81%|████████  | 91/113 [11:18<02:53,  7.87s/it]INFO:root:Downloading and processing OBO file...\n"
     ]
    },
    {
     "name": "stdout",
     "output_type": "stream",
     "text": [
      "http://release.geneontology.org/2016-04-01/ontology/go.obo\n",
      "new labels =  9\n",
      "new obsolete =  199\n",
      "all labels =  42511\n"
     ]
    },
    {
     "name": "stderr",
     "output_type": "stream",
     "text": [
      "INFO:root:Calculating labels...\n",
      " 81%|████████▏ | 92/113 [11:26<02:44,  7.84s/it]INFO:root:Downloading and processing OBO file...\n"
     ]
    },
    {
     "name": "stdout",
     "output_type": "stream",
     "text": [
      "http://release.geneontology.org/2016-03-01/ontology/go.obo\n",
      "new labels =  14\n",
      "new obsolete =  172\n",
      "all labels =  42341\n"
     ]
    },
    {
     "name": "stderr",
     "output_type": "stream",
     "text": [
      "INFO:root:Calculating labels...\n",
      " 82%|████████▏ | 93/113 [11:33<02:34,  7.75s/it]INFO:root:Downloading and processing OBO file...\n"
     ]
    },
    {
     "name": "stdout",
     "output_type": "stream",
     "text": [
      "http://release.geneontology.org/2016-02-01/ontology/go.obo\n",
      "new labels =  2\n",
      "new obsolete =  58\n",
      "all labels =  42277\n"
     ]
    },
    {
     "name": "stderr",
     "output_type": "stream",
     "text": [
      "INFO:root:Calculating labels...\n",
      " 83%|████████▎ | 94/113 [11:40<02:24,  7.63s/it]INFO:root:Downloading and processing OBO file...\n"
     ]
    },
    {
     "name": "stdout",
     "output_type": "stream",
     "text": [
      "http://release.geneontology.org/2016-01-01/ontology/go.obo\n",
      "new labels =  0\n",
      "new obsolete =  164\n",
      "all labels =  42108\n"
     ]
    },
    {
     "name": "stderr",
     "output_type": "stream",
     "text": [
      "INFO:root:Calculating labels...\n",
      " 84%|████████▍ | 95/113 [11:48<02:16,  7.59s/it]INFO:root:Downloading and processing OBO file...\n"
     ]
    },
    {
     "name": "stdout",
     "output_type": "stream",
     "text": [
      "http://release.geneontology.org/2015-12-01/ontology/go.obo\n",
      "new labels =  6\n",
      "new obsolete =  66\n",
      "all labels =  42045\n"
     ]
    },
    {
     "name": "stderr",
     "output_type": "stream",
     "text": [
      "INFO:root:Calculating labels...\n",
      " 85%|████████▍ | 96/113 [11:55<02:09,  7.59s/it]INFO:root:Downloading and processing OBO file...\n"
     ]
    },
    {
     "name": "stdout",
     "output_type": "stream",
     "text": [
      "http://release.geneontology.org/2015-11-01/ontology/go.obo\n",
      "new labels =  1\n",
      "new obsolete =  85\n",
      "all labels =  41952\n"
     ]
    },
    {
     "name": "stderr",
     "output_type": "stream",
     "text": [
      "INFO:root:Calculating labels...\n",
      " 86%|████████▌ | 97/113 [12:06<02:15,  8.48s/it]INFO:root:Downloading and processing OBO file...\n"
     ]
    },
    {
     "name": "stdout",
     "output_type": "stream",
     "text": [
      "http://release.geneontology.org/2015-10-01/ontology/go.obo\n",
      "new labels =  0\n",
      "new obsolete =  109\n",
      "all labels =  41833\n"
     ]
    },
    {
     "name": "stderr",
     "output_type": "stream",
     "text": [
      "INFO:root:Calculating labels...\n",
      " 87%|████████▋ | 98/113 [12:13<02:02,  8.15s/it]INFO:root:Downloading and processing OBO file...\n"
     ]
    },
    {
     "name": "stdout",
     "output_type": "stream",
     "text": [
      "http://release.geneontology.org/2015-09-01/ontology/go.obo\n",
      "new labels =  0\n",
      "new obsolete =  92\n",
      "all labels =  41733\n"
     ]
    },
    {
     "name": "stderr",
     "output_type": "stream",
     "text": [
      "INFO:root:Calculating labels...\n",
      " 88%|████████▊ | 99/113 [12:21<01:53,  8.08s/it]INFO:root:Downloading and processing OBO file...\n"
     ]
    },
    {
     "name": "stdout",
     "output_type": "stream",
     "text": [
      "http://release.geneontology.org/2015-08-01/ontology/go.obo\n",
      "new labels =  0\n",
      "new obsolete =  134\n",
      "all labels =  41589\n"
     ]
    },
    {
     "name": "stderr",
     "output_type": "stream",
     "text": [
      "INFO:root:Calculating labels...\n",
      " 88%|████████▊ | 100/113 [12:31<01:50,  8.52s/it]INFO:root:Downloading and processing OBO file...\n"
     ]
    },
    {
     "name": "stdout",
     "output_type": "stream",
     "text": [
      "http://release.geneontology.org/2015-07-01/ontology/go.obo\n",
      "new labels =  14\n",
      "new obsolete =  164\n",
      "all labels =  41423\n"
     ]
    },
    {
     "name": "stderr",
     "output_type": "stream",
     "text": [
      "INFO:root:Calculating labels...\n",
      " 89%|████████▉ | 101/113 [12:38<01:37,  8.13s/it]INFO:root:Downloading and processing OBO file...\n"
     ]
    },
    {
     "name": "stdout",
     "output_type": "stream",
     "text": [
      "http://release.geneontology.org/2015-06-01/ontology/go.obo\n",
      "new labels =  6\n",
      "new obsolete =  192\n",
      "all labels =  41232\n"
     ]
    },
    {
     "name": "stderr",
     "output_type": "stream",
     "text": [
      "INFO:root:Calculating labels...\n",
      " 90%|█████████ | 102/113 [12:45<01:26,  7.90s/it]INFO:root:Downloading and processing OBO file...\n"
     ]
    },
    {
     "name": "stdout",
     "output_type": "stream",
     "text": [
      "http://release.geneontology.org/2015-05-01/ontology/go.obo\n",
      "new labels =  2\n",
      "new obsolete =  150\n",
      "all labels =  41077\n"
     ]
    },
    {
     "name": "stderr",
     "output_type": "stream",
     "text": [
      "INFO:root:Calculating labels...\n",
      " 91%|█████████ | 103/113 [12:55<01:23,  8.35s/it]INFO:root:Downloading and processing OBO file...\n"
     ]
    },
    {
     "name": "stdout",
     "output_type": "stream",
     "text": [
      "http://release.geneontology.org/2015-04-01/ontology/go.obo\n",
      "new labels =  3\n",
      "new obsolete =  96\n",
      "all labels =  40911\n"
     ]
    },
    {
     "name": "stderr",
     "output_type": "stream",
     "text": [
      "INFO:root:Calculating labels...\n",
      " 92%|█████████▏| 104/113 [13:02<01:12,  8.09s/it]INFO:root:Downloading and processing OBO file...\n"
     ]
    },
    {
     "name": "stdout",
     "output_type": "stream",
     "text": [
      "http://release.geneontology.org/2015-03-01/ontology/go.obo\n",
      "new labels =  5\n",
      "new obsolete =  187\n",
      "all labels =  40705\n"
     ]
    },
    {
     "name": "stderr",
     "output_type": "stream",
     "text": [
      "INFO:root:Calculating labels...\n",
      " 93%|█████████▎| 105/113 [13:09<01:02,  7.77s/it]INFO:root:Downloading and processing OBO file...\n"
     ]
    },
    {
     "name": "stdout",
     "output_type": "stream",
     "text": [
      "http://release.geneontology.org/2015-02-01/ontology/go.obo\n",
      "new labels =  44\n",
      "new obsolete =  158\n",
      "all labels =  40590\n"
     ]
    },
    {
     "name": "stderr",
     "output_type": "stream",
     "text": [
      "INFO:root:Calculating labels...\n",
      " 94%|█████████▍| 106/113 [13:16<00:52,  7.56s/it]INFO:root:Downloading and processing OBO file...\n"
     ]
    },
    {
     "name": "stdout",
     "output_type": "stream",
     "text": [
      "http://release.geneontology.org/2015-01-01/ontology/go.obo\n",
      "new labels =  17\n",
      "new obsolete =  128\n",
      "all labels =  40470\n"
     ]
    },
    {
     "name": "stderr",
     "output_type": "stream",
     "text": [
      "INFO:root:Calculating labels...\n",
      " 95%|█████████▍| 107/113 [13:24<00:44,  7.44s/it]INFO:root:Downloading and processing OBO file...\n"
     ]
    },
    {
     "name": "stdout",
     "output_type": "stream",
     "text": [
      "http://release.geneontology.org/2014-12-01/ontology/go.obo\n",
      "new labels =  6\n",
      "new obsolete =  127\n",
      "all labels =  40338\n"
     ]
    },
    {
     "name": "stderr",
     "output_type": "stream",
     "text": [
      "INFO:root:Calculating labels...\n",
      " 96%|█████████▌| 108/113 [13:31<00:36,  7.30s/it]INFO:root:Downloading and processing OBO file...\n"
     ]
    },
    {
     "name": "stdout",
     "output_type": "stream",
     "text": [
      "http://release.geneontology.org/2014-11-01/ontology/go.obo\n",
      "new labels =  1\n",
      "new obsolete =  159\n",
      "all labels =  40162\n"
     ]
    },
    {
     "name": "stderr",
     "output_type": "stream",
     "text": [
      "INFO:root:Calculating labels...\n",
      " 96%|█████████▋| 109/113 [13:38<00:29,  7.37s/it]INFO:root:Downloading and processing OBO file...\n"
     ]
    },
    {
     "name": "stdout",
     "output_type": "stream",
     "text": [
      "http://release.geneontology.org/2014-10-01/ontology/go.obo\n",
      "new labels =  4\n",
      "new obsolete =  132\n",
      "all labels =  40021\n"
     ]
    },
    {
     "name": "stderr",
     "output_type": "stream",
     "text": [
      "INFO:root:Calculating labels...\n",
      " 97%|█████████▋| 110/113 [13:45<00:21,  7.27s/it]INFO:root:Downloading and processing OBO file...\n"
     ]
    },
    {
     "name": "stdout",
     "output_type": "stream",
     "text": [
      "http://release.geneontology.org/2014-09-01/ontology/go.obo\n",
      "new labels =  1\n",
      "new obsolete =  152\n",
      "all labels =  39852\n"
     ]
    },
    {
     "name": "stderr",
     "output_type": "stream",
     "text": [
      "INFO:root:Calculating labels...\n",
      " 98%|█████████▊| 111/113 [13:56<00:16,  8.30s/it]INFO:root:Downloading and processing OBO file...\n"
     ]
    },
    {
     "name": "stdout",
     "output_type": "stream",
     "text": [
      "http://release.geneontology.org/2014-08-01/ontology/go.obo\n",
      "new labels =  1\n",
      "new obsolete =  227\n",
      "all labels =  39601\n"
     ]
    },
    {
     "name": "stderr",
     "output_type": "stream",
     "text": [
      "INFO:root:Calculating labels...\n",
      " 99%|█████████▉| 112/113 [14:03<00:07,  7.93s/it]INFO:root:Downloading and processing OBO file...\n"
     ]
    },
    {
     "name": "stdout",
     "output_type": "stream",
     "text": [
      "http://release.geneontology.org/2014-07-01/ontology/go.obo\n",
      "new labels =  3\n",
      "new obsolete =  154\n",
      "all labels =  39427\n"
     ]
    },
    {
     "name": "stderr",
     "output_type": "stream",
     "text": [
      "INFO:root:Calculating labels...\n",
      "100%|██████████| 113/113 [14:09<00:00,  7.52s/it]"
     ]
    },
    {
     "name": "stdout",
     "output_type": "stream",
     "text": [
      "http://release.geneontology.org/2014-06-01/ontology/go.obo\n",
      "new labels =  0\n",
      "new obsolete =  90\n",
      "all labels =  39326\n"
     ]
    },
    {
     "name": "stderr",
     "output_type": "stream",
     "text": [
      "\n"
     ]
    }
   ],
   "source": [
    "\n",
    "for date,url in tqdm(zip(dates,urls),total=len(urls)):\n",
    "    used_labels,obsolete_labels = download_and_process_obo(url)\n",
    "    print(url)\n",
    "    data['dates'].append(date)\n",
    "\n",
    "    new_labels = len(used_labels-prev_used_labels)\n",
    "    obsolete_labels.update(prev_used_labels-used_labels) #augment obslete with other labels that simply don't show up\n",
    "    new_obsolete_labels = len((obsolete_labels-prev_obsolete_labels))\n",
    "\n",
    "    data['new_labels'].append(new_labels)\n",
    "    data['obsolete_labels'].append(new_obsolete_labels)\n",
    "    data['used_labels'].append(len(used_labels))\n",
    "\n",
    "\n",
    "    print('new labels = ',new_labels)\n",
    "    print('new obsolete = ',new_obsolete_labels)\n",
    "    print('all labels = ',len(used_labels))\n",
    "\n",
    "    prev_used_labels.update(used_labels)\n",
    "    prev_obsolete_labels.update(obsolete_labels)\n"
   ]
  },
  {
   "cell_type": "code",
   "execution_count": 10,
   "metadata": {},
   "outputs": [],
   "source": [
    "df = pd.DataFrame(data).set_index('dates')\n",
    "df.index = pd.to_datetime(df.index)\n",
    "df.to_parquet(results_dir / 'go_annotations_by_release.parquet')"
   ]
  },
  {
   "cell_type": "code",
   "execution_count": 11,
   "metadata": {},
   "outputs": [],
   "source": [
    "df = pd.read_parquet(results_dir / 'go_annotations_by_release.parquet')"
   ]
  },
  {
   "cell_type": "code",
   "execution_count": 12,
   "metadata": {},
   "outputs": [
    {
     "data": {
      "image/png": "[encoded data removed]",
      "text/plain": [
       "<Figure size 1100x800 with 1 Axes>"
      ]
     },
     "metadata": {},
     "output_type": "display_data"
    }
   ],
   "source": [
    "plt.rcParams['font.size'] = 30\n",
    "\n",
    "df = df.iloc[1:]\n",
    "fig,ax = plt.subplots(figsize=(11,8))\n",
    "sns_data = df.groupby([pd.Grouper(level='dates',freq='YS')])[['new_labels','obsolete_labels']]\\\n",
    "    .sum()\\\n",
    "    .melt(ignore_index=False,\n",
    "          var_name='Type of GO Term',\n",
    "          value_name='# GO Terms')\\\n",
    "    .replace({'new_labels':'Added','obsolete_labels':'Removed'})\n",
    "\n",
    "palette = {'Added':'#80ff80','Removed':'#ff5555'}\n",
    "sns.lineplot(data = sns_data,\n",
    "             x = 'dates',\n",
    "             y = '# GO Terms',\n",
    "             hue='Type of GO Term',\n",
    "             marker='o',\n",
    "             palette=palette,\n",
    "             linewidth=3,\n",
    "             markersize=10)\n",
    "plt.xlabel('')\n",
    "plt.xticks(rotation=30)\n",
    "sns.despine()\n",
    "plt.savefig(project_root / 'outputs' / 'figures' / 'deleted_added_go_terms.pdf', format='pdf', dpi=1200,bbox_inches='tight')\n",
    "plt.show()\n"
   ]
  }
 ],
 "metadata": {
  "kernelspec": {
   "display_name": "protnote",
   "language": "python",
   "name": "python3"
  },
  "language_info": {
   "codemirror_mode": {
    "name": "ipython",
    "version": 3
   },
   "file_extension": ".py",
   "mimetype": "text/x-python",
   "name": "python",
   "nbconvert_exporter": "python",
   "pygments_lexer": "ipython3",
   "version": "3.10.13"
  }
 },
 "nbformat": 4,
 "nbformat_minor": 2
}
