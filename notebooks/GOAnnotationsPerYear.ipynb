{
 "cells": [
  {
   "cell_type": "code",
   "execution_count": 1,
   "metadata": {},
   "outputs": [],
   "source": [
    "import obonet\n",
    "import pandas as pd\n",
    "import argparse\n",
    "import logging\n",
    "import re\n",
    "import numpy as np\n",
    "from tqdm import tqdm\n",
    "import seaborn as sns\n",
    "from bs4 import BeautifulSoup\n",
    "import matplotlib.pyplot as plt\n",
    "\n",
    "logging.basicConfig(level=logging.INFO)\n",
    "\n",
    "\n",
    "def calculate_label(row):\n",
    "    \"\"\"\n",
    "    Helper function to calculate the label for a given row.\n",
    "    Returns the definition of the row with any text between brackets removed.\n",
    "    \"\"\"\n",
    "    definition = row.get(\"def\", None)\n",
    "\n",
    "    # Remove any text between brackets, e.g., PubMed citations\n",
    "    # Remove leading and trailing quotation marks\n",
    "    if definition is not None:\n",
    "        definition = re.sub(r'\\s*\\[.*?\\]\\s*', '', definition)\n",
    "        definition = definition.strip('\"')\n",
    "        \n",
    "    return definition\n",
    "\n",
    "def process_synonyms(row)->dict:\n",
    "    \"\"\"extracts the synonyms of a GO Annotation\n",
    "\n",
    "    :param row: Row of GO annotation dataset\n",
    "    :type row: _type_\n",
    "    :return: dict\n",
    "    :rtype: lists of synonyms for relevant scopes\n",
    "    \"\"\"    \n",
    "    if row is np.nan or not row:\n",
    "        return {\"synonym_exact\": [], \"synonym_narrow\": [], \"synonym_related\": [], \"synonym_broad\": []}\n",
    "\n",
    "    scopes = {\"EXACT\": [], \"NARROW\": [], \"RELATED\": [], \"BROAD\": []}\n",
    "    for synonym in row:\n",
    "        match = re.search(r'\\\"(.+?)\\\"\\s+(EXACT|NARROW|RELATED|BROAD)\\s+\\[', synonym)\n",
    "        if match:\n",
    "            text, scope = match.groups()\n",
    "            scopes[scope].append(text)\n",
    "\n",
    "    return {\n",
    "        \"synonym_exact\": scopes[\"EXACT\"],\n",
    "        \"synonym_narrow\": scopes[\"NARROW\"],\n",
    "        \"synonym_related\": scopes[\"RELATED\"],\n",
    "        \"synonym_broad\": scopes[\"BROAD\"]\n",
    "    }\n",
    "\n",
    "\n",
    "def download_and_process_obo(url: str):\n",
    "    \"\"\"\n",
    "    Download the OBO file from the specified URL and save the GO ID and label to a pickle.\n",
    "    \"\"\"\n",
    "    logging.info(\"Downloading and processing OBO file...\")\n",
    "\n",
    "    # Load the .obo file directly from the URL into a networkx graph using obonet\n",
    "    graph = obonet.read_obo(url, ignore_obsolete=False)\n",
    "\n",
    "    # Convert the graph nodes (terms) into a pandas dataframe\n",
    "    df = pd.DataFrame.from_dict(dict(graph.nodes(data=True)), orient='index')\n",
    "\n",
    "    logging.info(\"Calculating labels...\")\n",
    "    # Create a new column called \"label\"\n",
    "    df[\"label\"] = df.apply(calculate_label, axis=1)\n",
    "\n",
    "    # Filter the dataframe to retain only 'label', 'name' and 'synonym' columns, with the 'id' column as the index\n",
    "    df_filtered = df[['label','name']+['is_obsolete']]\n",
    "\n",
    "    obsolete_labels = set(df_filtered[df_filtered['is_obsolete']==\"true\"].index)\n",
    "    used_labels = set(df_filtered.index) - obsolete_labels\n",
    "    return used_labels,obsolete_labels"
   ]
  },
  {
   "cell_type": "code",
   "execution_count": 3,
   "metadata": {},
   "outputs": [
    {
     "name": "stderr",
     "output_type": "stream",
     "text": [
      "  0%|          | 0/113 [00:00<?, ?it/s]INFO:root:Downloading and processing OBO file...\n",
      "INFO:root:Will decode content from http://release.geneontology.org/2024-04-24/ontology/go.obo using utf-8 charset.\n",
      "INFO:root:Calculating labels...\n",
      "  1%|          | 1/113 [00:08<16:07,  8.64s/it]INFO:root:Downloading and processing OBO file...\n"
     ]
    },
    {
     "name": "stdout",
     "output_type": "stream",
     "text": [
      "http://release.geneontology.org/2024-04-24/ontology/go.obo\n",
      "new labels =  42255\n",
      "new obsolete =  5570\n",
      "all labels =  42255\n"
     ]
    },
    {
     "name": "stderr",
     "output_type": "stream",
     "text": [
      "INFO:root:Will decode content from http://release.geneontology.org/2024-04-18/ontology/go.obo using utf-8 charset.\n",
      "INFO:root:Calculating labels...\n",
      "  2%|▏         | 2/113 [00:17<15:58,  8.64s/it]INFO:root:Downloading and processing OBO file...\n"
     ]
    },
    {
     "name": "stdout",
     "output_type": "stream",
     "text": [
      "http://release.geneontology.org/2024-04-18/ontology/go.obo\n",
      "new labels =  20\n",
      "new obsolete =  4\n",
      "all labels =  42271\n"
     ]
    },
    {
     "name": "stderr",
     "output_type": "stream",
     "text": [
      "INFO:root:Will decode content from http://release.geneontology.org/2024-03-28/ontology/go.obo using utf-8 charset.\n",
      "INFO:root:Calculating labels...\n",
      "  3%|▎         | 3/113 [00:25<15:45,  8.60s/it]INFO:root:Downloading and processing OBO file...\n"
     ]
    },
    {
     "name": "stdout",
     "output_type": "stream",
     "text": [
      "http://release.geneontology.org/2024-03-28/ontology/go.obo\n",
      "new labels =  45\n",
      "new obsolete =  4\n",
      "all labels =  42312\n"
     ]
    },
    {
     "name": "stderr",
     "output_type": "stream",
     "text": [
      "INFO:root:Will decode content from http://release.geneontology.org/2024-01-17/ontology/go.obo using utf-8 charset.\n",
      "INFO:root:Calculating labels...\n",
      "  4%|▎         | 4/113 [00:34<15:55,  8.77s/it]INFO:root:Downloading and processing OBO file...\n"
     ]
    },
    {
     "name": "stdout",
     "output_type": "stream",
     "text": [
      "http://release.geneontology.org/2024-01-17/ontology/go.obo\n",
      "new labels =  217\n",
      "new obsolete =  87\n",
      "all labels =  42442\n"
     ]
    },
    {
     "name": "stderr",
     "output_type": "stream",
     "text": [
      "INFO:root:Will decode content from http://release.geneontology.org/2023-11-15/ontology/go.obo using utf-8 charset.\n",
      "INFO:root:Calculating labels...\n",
      "  4%|▍         | 5/113 [00:43<15:33,  8.65s/it]INFO:root:Downloading and processing OBO file...\n"
     ]
    },
    {
     "name": "stdout",
     "output_type": "stream",
     "text": [
      "http://release.geneontology.org/2023-11-15/ontology/go.obo\n",
      "new labels =  397\n",
      "new obsolete =  69\n",
      "all labels =  42769\n"
     ]
    },
    {
     "name": "stderr",
     "output_type": "stream",
     "text": [
      "INFO:root:Will decode content from http://release.geneontology.org/2023-10-09/ontology/go.obo using utf-8 charset.\n",
      "INFO:root:Calculating labels...\n",
      "  5%|▌         | 6/113 [00:51<14:59,  8.41s/it]INFO:root:Downloading and processing OBO file...\n"
     ]
    },
    {
     "name": "stdout",
     "output_type": "stream",
     "text": [
      "http://release.geneontology.org/2023-10-09/ontology/go.obo\n",
      "new labels =  90\n",
      "new obsolete =  21\n",
      "all labels =  42837\n"
     ]
    },
    {
     "name": "stderr",
     "output_type": "stream",
     "text": [
      "INFO:root:Will decode content from http://release.geneontology.org/2023-07-27/ontology/go.obo using utf-8 charset.\n",
      "INFO:root:Calculating labels...\n",
      "  6%|▌         | 7/113 [00:59<14:54,  8.43s/it]INFO:root:Downloading and processing OBO file...\n"
     ]
    },
    {
     "name": "stdout",
     "output_type": "stream",
     "text": [
      "http://release.geneontology.org/2023-07-27/ontology/go.obo\n",
      "new labels =  92\n",
      "new obsolete =  40\n",
      "all labels =  42887\n"
     ]
    },
    {
     "name": "stderr",
     "output_type": "stream",
     "text": [
      "INFO:root:Will decode content from http://release.geneontology.org/2023-06-11/ontology/go.obo using utf-8 charset.\n",
      "INFO:root:Calculating labels...\n",
      "  7%|▋         | 8/113 [01:08<15:03,  8.61s/it]INFO:root:Downloading and processing OBO file...\n"
     ]
    },
    {
     "name": "stdout",
     "output_type": "stream",
     "text": [
      "http://release.geneontology.org/2023-06-11/ontology/go.obo\n",
      "new labels =  101\n",
      "new obsolete =  35\n",
      "all labels =  42950\n"
     ]
    },
    {
     "name": "stderr",
     "output_type": "stream",
     "text": [
      "INFO:root:Will decode content from http://release.geneontology.org/2023-05-10/ontology/go.obo using utf-8 charset.\n",
      "INFO:root:Calculating labels...\n",
      "  8%|▊         | 9/113 [01:17<14:46,  8.52s/it]INFO:root:Downloading and processing OBO file...\n"
     ]
    },
    {
     "name": "stdout",
     "output_type": "stream",
     "text": [
      "http://release.geneontology.org/2023-05-10/ontology/go.obo\n",
      "new labels =  102\n",
      "new obsolete =  44\n",
      "all labels =  43008\n"
     ]
    },
    {
     "name": "stderr",
     "output_type": "stream",
     "text": [
      "INFO:root:Will decode content from http://release.geneontology.org/2023-04-01/ontology/go.obo using utf-8 charset.\n",
      "INFO:root:Calculating labels...\n",
      "  9%|▉         | 10/113 [01:25<14:26,  8.41s/it]INFO:root:Downloading and processing OBO file...\n"
     ]
    },
    {
     "name": "stdout",
     "output_type": "stream",
     "text": [
      "http://release.geneontology.org/2023-04-01/ontology/go.obo\n",
      "new labels =  102\n",
      "new obsolete =  17\n",
      "all labels =  43093\n"
     ]
    },
    {
     "name": "stderr",
     "output_type": "stream",
     "text": [
      "INFO:root:Will decode content from http://release.geneontology.org/2023-03-06/ontology/go.obo using utf-8 charset.\n",
      "INFO:root:Calculating labels...\n",
      " 10%|▉         | 11/113 [01:33<14:08,  8.31s/it]INFO:root:Downloading and processing OBO file...\n"
     ]
    },
    {
     "name": "stdout",
     "output_type": "stream",
     "text": [
      "http://release.geneontology.org/2023-03-06/ontology/go.obo\n",
      "new labels =  16\n",
      "new obsolete =  14\n",
      "all labels =  43096\n"
     ]
    },
    {
     "name": "stderr",
     "output_type": "stream",
     "text": [
      "INFO:root:Will decode content from http://release.geneontology.org/2023-01-01/ontology/go.obo using utf-8 charset.\n",
      "INFO:root:Calculating labels...\n",
      " 11%|█         | 12/113 [01:41<14:11,  8.43s/it]INFO:root:Downloading and processing OBO file...\n"
     ]
    },
    {
     "name": "stdout",
     "output_type": "stream",
     "text": [
      "http://release.geneontology.org/2023-01-01/ontology/go.obo\n",
      "new labels =  219\n",
      "new obsolete =  67\n",
      "all labels =  43248\n"
     ]
    },
    {
     "name": "stderr",
     "output_type": "stream",
     "text": [
      "INFO:root:Will decode content from http://release.geneontology.org/2022-12-04/ontology/go.obo using utf-8 charset.\n",
      "INFO:root:Calculating labels...\n",
      " 12%|█▏        | 13/113 [01:50<13:53,  8.34s/it]INFO:root:Downloading and processing OBO file...\n"
     ]
    },
    {
     "name": "stdout",
     "output_type": "stream",
     "text": [
      "http://release.geneontology.org/2022-12-04/ontology/go.obo\n",
      "new labels =  35\n",
      "new obsolete =  10\n",
      "all labels =  43272\n"
     ]
    },
    {
     "name": "stderr",
     "output_type": "stream",
     "text": [
      "INFO:root:Will decode content from http://release.geneontology.org/2022-11-03/ontology/go.obo using utf-8 charset.\n",
      "INFO:root:Calculating labels...\n",
      " 12%|█▏        | 14/113 [01:58<13:39,  8.28s/it]INFO:root:Downloading and processing OBO file...\n"
     ]
    },
    {
     "name": "stdout",
     "output_type": "stream",
     "text": [
      "http://release.geneontology.org/2022-11-03/ontology/go.obo\n",
      "new labels =  39\n",
      "new obsolete =  8\n",
      "all labels =  43303\n"
     ]
    },
    {
     "name": "stderr",
     "output_type": "stream",
     "text": [
      "INFO:root:Will decode content from http://release.geneontology.org/2022-10-07/ontology/go.obo using utf-8 charset.\n",
      "INFO:root:Calculating labels...\n",
      " 13%|█▎        | 15/113 [02:06<13:30,  8.27s/it]INFO:root:Downloading and processing OBO file...\n"
     ]
    },
    {
     "name": "stdout",
     "output_type": "stream",
     "text": [
      "http://release.geneontology.org/2022-10-07/ontology/go.obo\n",
      "new labels =  75\n",
      "new obsolete =  49\n",
      "all labels =  43329\n"
     ]
    },
    {
     "name": "stderr",
     "output_type": "stream",
     "text": [
      "INFO:root:Will decode content from http://release.geneontology.org/2022-09-19/ontology/go.obo using utf-8 charset.\n",
      "INFO:root:Calculating labels...\n",
      " 14%|█▍        | 16/113 [02:14<13:09,  8.14s/it]INFO:root:Downloading and processing OBO file...\n"
     ]
    },
    {
     "name": "stdout",
     "output_type": "stream",
     "text": [
      "http://release.geneontology.org/2022-09-19/ontology/go.obo\n",
      "new labels =  24\n",
      "new obsolete =  18\n",
      "all labels =  43335\n"
     ]
    },
    {
     "name": "stderr",
     "output_type": "stream",
     "text": [
      "INFO:root:Will decode content from http://release.geneontology.org/2022-07-01/ontology/go.obo using utf-8 charset.\n",
      "INFO:root:Calculating labels...\n",
      " 15%|█▌        | 17/113 [02:22<12:59,  8.12s/it]INFO:root:Downloading and processing OBO file...\n"
     ]
    },
    {
     "name": "stdout",
     "output_type": "stream",
     "text": [
      "http://release.geneontology.org/2022-07-01/ontology/go.obo\n",
      "new labels =  282\n",
      "new obsolete =  59\n",
      "all labels =  43558\n"
     ]
    },
    {
     "name": "stderr",
     "output_type": "stream",
     "text": [
      "INFO:root:Will decode content from http://release.geneontology.org/2022-06-15/ontology/go.obo using utf-8 charset.\n",
      "INFO:root:Calculating labels...\n",
      " 16%|█▌        | 18/113 [02:30<12:53,  8.15s/it]INFO:root:Downloading and processing OBO file...\n"
     ]
    },
    {
     "name": "stdout",
     "output_type": "stream",
     "text": [
      "http://release.geneontology.org/2022-06-15/ontology/go.obo\n",
      "new labels =  78\n",
      "new obsolete =  23\n",
      "all labels =  43613\n"
     ]
    },
    {
     "name": "stderr",
     "output_type": "stream",
     "text": [
      "INFO:root:Will decode content from http://release.geneontology.org/2022-05-16/ontology/go.obo using utf-8 charset.\n",
      "INFO:root:Calculating labels...\n",
      " 17%|█▋        | 19/113 [02:39<12:53,  8.23s/it]INFO:root:Downloading and processing OBO file...\n"
     ]
    },
    {
     "name": "stdout",
     "output_type": "stream",
     "text": [
      "http://release.geneontology.org/2022-05-16/ontology/go.obo\n",
      "new labels =  72\n",
      "new obsolete =  37\n",
      "all labels =  43648\n"
     ]
    },
    {
     "name": "stderr",
     "output_type": "stream",
     "text": [
      "INFO:root:Will decode content from http://release.geneontology.org/2022-03-22/ontology/go.obo using utf-8 charset.\n",
      "INFO:root:Calculating labels...\n",
      " 18%|█▊        | 20/113 [02:47<12:40,  8.18s/it]INFO:root:Downloading and processing OBO file...\n"
     ]
    },
    {
     "name": "stdout",
     "output_type": "stream",
     "text": [
      "http://release.geneontology.org/2022-03-22/ontology/go.obo\n",
      "new labels =  103\n",
      "new obsolete =  49\n",
      "all labels =  43699\n"
     ]
    },
    {
     "name": "stderr",
     "output_type": "stream",
     "text": [
      "INFO:root:Will decode content from http://release.geneontology.org/2022-03-10/ontology/go.obo using utf-8 charset.\n",
      "INFO:root:Calculating labels...\n",
      " 19%|█▊        | 21/113 [02:55<12:31,  8.17s/it]INFO:root:Downloading and processing OBO file...\n"
     ]
    },
    {
     "name": "stdout",
     "output_type": "stream",
     "text": [
      "http://release.geneontology.org/2022-03-10/ontology/go.obo\n",
      "new labels =  13\n",
      "new obsolete =  8\n",
      "all labels =  43704\n"
     ]
    },
    {
     "name": "stderr",
     "output_type": "stream",
     "text": [
      "INFO:root:Will decode content from http://release.geneontology.org/2022-01-13/ontology/go.obo using utf-8 charset.\n",
      "INFO:root:Calculating labels...\n",
      " 19%|█▉        | 22/113 [03:03<12:30,  8.25s/it]INFO:root:Downloading and processing OBO file...\n"
     ]
    },
    {
     "name": "stdout",
     "output_type": "stream",
     "text": [
      "http://release.geneontology.org/2022-01-13/ontology/go.obo\n",
      "new labels =  116\n",
      "new obsolete =  34\n",
      "all labels =  43786\n"
     ]
    },
    {
     "name": "stderr",
     "output_type": "stream",
     "text": [
      "INFO:root:Will decode content from http://release.geneontology.org/2021-12-15/ontology/go.obo using utf-8 charset.\n",
      "INFO:root:Calculating labels...\n",
      " 20%|██        | 23/113 [03:11<12:20,  8.22s/it]INFO:root:Downloading and processing OBO file...\n"
     ]
    },
    {
     "name": "stdout",
     "output_type": "stream",
     "text": [
      "http://release.geneontology.org/2021-12-15/ontology/go.obo\n",
      "new labels =  12\n",
      "new obsolete =  8\n",
      "all labels =  43789\n"
     ]
    },
    {
     "name": "stderr",
     "output_type": "stream",
     "text": [
      "INFO:root:Will decode content from http://release.geneontology.org/2021-11-16/ontology/go.obo using utf-8 charset.\n",
      "INFO:root:Calculating labels...\n",
      " 21%|██        | 24/113 [03:20<12:15,  8.26s/it]INFO:root:Downloading and processing OBO file...\n"
     ]
    },
    {
     "name": "stdout",
     "output_type": "stream",
     "text": [
      "http://release.geneontology.org/2021-11-16/ontology/go.obo\n",
      "new labels =  37\n",
      "new obsolete =  35\n",
      "all labels =  43791\n"
     ]
    },
    {
     "name": "stderr",
     "output_type": "stream",
     "text": [
      "INFO:root:Will decode content from http://release.geneontology.org/2021-10-26/ontology/go.obo using utf-8 charset.\n",
      "INFO:root:Calculating labels...\n",
      " 22%|██▏       | 25/113 [03:28<12:02,  8.21s/it]INFO:root:Downloading and processing OBO file...\n"
     ]
    },
    {
     "name": "stdout",
     "output_type": "stream",
     "text": [
      "http://release.geneontology.org/2021-10-26/ontology/go.obo\n",
      "new labels =  50\n",
      "new obsolete =  9\n",
      "all labels =  43832\n"
     ]
    },
    {
     "name": "stderr",
     "output_type": "stream",
     "text": [
      "INFO:root:Will decode content from http://release.geneontology.org/2021-09-01/ontology/go.obo using utf-8 charset.\n",
      "INFO:root:Calculating labels...\n",
      " 23%|██▎       | 26/113 [03:37<12:09,  8.38s/it]INFO:root:Downloading and processing OBO file...\n"
     ]
    },
    {
     "name": "stdout",
     "output_type": "stream",
     "text": [
      "http://release.geneontology.org/2021-09-01/ontology/go.obo\n",
      "new labels =  41\n",
      "new obsolete =  22\n",
      "all labels =  43850\n"
     ]
    },
    {
     "name": "stderr",
     "output_type": "stream",
     "text": [
      "INFO:root:Will decode content from http://release.geneontology.org/2021-08-18/ontology/go.obo using utf-8 charset.\n",
      "INFO:root:Calculating labels...\n",
      " 24%|██▍       | 27/113 [03:45<11:51,  8.28s/it]INFO:root:Downloading and processing OBO file...\n"
     ]
    },
    {
     "name": "stdout",
     "output_type": "stream",
     "text": [
      "http://release.geneontology.org/2021-08-18/ontology/go.obo\n",
      "new labels =  36\n",
      "new obsolete =  8\n",
      "all labels =  43878\n"
     ]
    },
    {
     "name": "stderr",
     "output_type": "stream",
     "text": [
      "INFO:root:Will decode content from http://release.geneontology.org/2021-07-02/ontology/go.obo using utf-8 charset.\n",
      "INFO:root:Calculating labels...\n",
      " 25%|██▍       | 28/113 [03:53<11:46,  8.31s/it]INFO:root:Downloading and processing OBO file...\n"
     ]
    },
    {
     "name": "stdout",
     "output_type": "stream",
     "text": [
      "http://release.geneontology.org/2021-07-02/ontology/go.obo\n",
      "new labels =  68\n",
      "new obsolete =  29\n",
      "all labels =  43917\n"
     ]
    },
    {
     "name": "stderr",
     "output_type": "stream",
     "text": [
      "INFO:root:Will decode content from http://release.geneontology.org/2021-06-16/ontology/go.obo using utf-8 charset.\n",
      "INFO:root:Calculating labels...\n",
      " 26%|██▌       | 29/113 [04:01<11:28,  8.20s/it]INFO:root:Downloading and processing OBO file...\n"
     ]
    },
    {
     "name": "stdout",
     "output_type": "stream",
     "text": [
      "http://release.geneontology.org/2021-06-16/ontology/go.obo\n",
      "new labels =  18\n",
      "new obsolete =  18\n",
      "all labels =  43917\n"
     ]
    },
    {
     "name": "stderr",
     "output_type": "stream",
     "text": [
      "INFO:root:Will decode content from http://release.geneontology.org/2021-05-01/ontology/go.obo using utf-8 charset.\n",
      "INFO:root:Calculating labels...\n",
      " 27%|██▋       | 30/113 [04:09<11:14,  8.12s/it]INFO:root:Downloading and processing OBO file...\n"
     ]
    },
    {
     "name": "stdout",
     "output_type": "stream",
     "text": [
      "http://release.geneontology.org/2021-05-01/ontology/go.obo\n",
      "new labels =  100\n",
      "new obsolete =  28\n",
      "all labels =  43987\n"
     ]
    },
    {
     "name": "stderr",
     "output_type": "stream",
     "text": [
      "INFO:root:Will decode content from http://release.geneontology.org/2021-02-01/ontology/go.obo using utf-8 charset.\n",
      "INFO:root:Calculating labels...\n",
      " 27%|██▋       | 31/113 [04:17<11:04,  8.11s/it]INFO:root:Downloading and processing OBO file...\n"
     ]
    },
    {
     "name": "stdout",
     "output_type": "stream",
     "text": [
      "http://release.geneontology.org/2021-02-01/ontology/go.obo\n",
      "new labels =  189\n",
      "new obsolete =  89\n",
      "all labels =  44085\n"
     ]
    },
    {
     "name": "stderr",
     "output_type": "stream",
     "text": [
      "INFO:root:Will decode content from http://release.geneontology.org/2021-01-01/ontology/go.obo using utf-8 charset.\n",
      "INFO:root:Calculating labels...\n",
      " 28%|██▊       | 32/113 [04:25<10:55,  8.10s/it]INFO:root:Downloading and processing OBO file...\n"
     ]
    },
    {
     "name": "stdout",
     "output_type": "stream",
     "text": [
      "http://release.geneontology.org/2021-01-01/ontology/go.obo\n",
      "new labels =  29\n",
      "new obsolete =  23\n",
      "all labels =  44091\n"
     ]
    },
    {
     "name": "stderr",
     "output_type": "stream",
     "text": [
      "INFO:root:Will decode content from http://release.geneontology.org/2020-12-08/ontology/go.obo using utf-8 charset.\n",
      "INFO:root:Calculating labels...\n",
      " 29%|██▉       | 33/113 [04:33<10:45,  8.07s/it]INFO:root:Downloading and processing OBO file...\n"
     ]
    },
    {
     "name": "stdout",
     "output_type": "stream",
     "text": [
      "http://release.geneontology.org/2020-12-08/ontology/go.obo\n",
      "new labels =  36\n",
      "new obsolete =  10\n",
      "all labels =  44117\n"
     ]
    },
    {
     "name": "stderr",
     "output_type": "stream",
     "text": [
      "INFO:root:Will decode content from http://release.geneontology.org/2020-11-17/ontology/go.obo using utf-8 charset.\n",
      "INFO:root:Calculating labels...\n",
      " 30%|███       | 34/113 [04:41<10:36,  8.05s/it]INFO:root:Downloading and processing OBO file...\n"
     ]
    },
    {
     "name": "stdout",
     "output_type": "stream",
     "text": [
      "http://release.geneontology.org/2020-11-17/ontology/go.obo\n",
      "new labels =  62\n",
      "new obsolete =  9\n",
      "all labels =  44167\n"
     ]
    },
    {
     "name": "stderr",
     "output_type": "stream",
     "text": [
      "INFO:root:Will decode content from http://release.geneontology.org/2020-10-09/ontology/go.obo using utf-8 charset.\n",
      "INFO:root:Calculating labels...\n",
      " 31%|███       | 35/113 [04:49<10:27,  8.05s/it]INFO:root:Downloading and processing OBO file...\n"
     ]
    },
    {
     "name": "stdout",
     "output_type": "stream",
     "text": [
      "http://release.geneontology.org/2020-10-09/ontology/go.obo\n",
      "new labels =  144\n",
      "new obsolete =  45\n",
      "all labels =  44264\n"
     ]
    },
    {
     "name": "stderr",
     "output_type": "stream",
     "text": [
      "INFO:root:Will decode content from http://release.geneontology.org/2020-09-10/ontology/go.obo using utf-8 charset.\n",
      "INFO:root:Calculating labels...\n",
      " 32%|███▏      | 36/113 [04:57<10:21,  8.08s/it]INFO:root:Downloading and processing OBO file...\n"
     ]
    },
    {
     "name": "stdout",
     "output_type": "stream",
     "text": [
      "http://release.geneontology.org/2020-09-10/ontology/go.obo\n",
      "new labels =  53\n",
      "new obsolete =  44\n",
      "all labels =  44272\n"
     ]
    },
    {
     "name": "stderr",
     "output_type": "stream",
     "text": [
      "INFO:root:Will decode content from http://release.geneontology.org/2020-08-10/ontology/go.obo using utf-8 charset.\n",
      "INFO:root:Calculating labels...\n",
      " 33%|███▎      | 37/113 [05:06<10:21,  8.18s/it]INFO:root:Downloading and processing OBO file...\n"
     ]
    },
    {
     "name": "stdout",
     "output_type": "stream",
     "text": [
      "http://release.geneontology.org/2020-08-10/ontology/go.obo\n",
      "new labels =  36\n",
      "new obsolete =  46\n",
      "all labels =  44262\n"
     ]
    },
    {
     "name": "stderr",
     "output_type": "stream",
     "text": [
      "INFO:root:Will decode content from http://release.geneontology.org/2020-07-16/ontology/go.obo using utf-8 charset.\n",
      "INFO:root:Calculating labels...\n",
      " 34%|███▎      | 38/113 [05:14<10:12,  8.17s/it]INFO:root:Downloading and processing OBO file...\n"
     ]
    },
    {
     "name": "stdout",
     "output_type": "stream",
     "text": [
      "http://release.geneontology.org/2020-07-16/ontology/go.obo\n",
      "new labels =  3\n",
      "new obsolete =  21\n",
      "all labels =  44244\n"
     ]
    },
    {
     "name": "stderr",
     "output_type": "stream",
     "text": [
      "INFO:root:Will decode content from http://release.geneontology.org/2020-06-01/ontology/go.obo using utf-8 charset.\n",
      "INFO:root:Calculating labels...\n",
      " 35%|███▍      | 39/113 [05:22<10:12,  8.27s/it]INFO:root:Downloading and processing OBO file...\n"
     ]
    },
    {
     "name": "stdout",
     "output_type": "stream",
     "text": [
      "http://release.geneontology.org/2020-06-01/ontology/go.obo\n",
      "new labels =  205\n",
      "new obsolete =  38\n",
      "all labels =  44411\n"
     ]
    },
    {
     "name": "stderr",
     "output_type": "stream",
     "text": [
      "INFO:root:Will decode content from http://release.geneontology.org/2020-05-02/ontology/go.obo using utf-8 charset.\n",
      "INFO:root:Calculating labels...\n",
      " 35%|███▌      | 40/113 [05:30<09:53,  8.13s/it]INFO:root:Downloading and processing OBO file...\n"
     ]
    },
    {
     "name": "stdout",
     "output_type": "stream",
     "text": [
      "http://release.geneontology.org/2020-05-02/ontology/go.obo\n",
      "new labels =  114\n",
      "new obsolete =  16\n",
      "all labels =  44508\n"
     ]
    },
    {
     "name": "stderr",
     "output_type": "stream",
     "text": [
      "INFO:root:Will decode content from http://release.geneontology.org/2020-04-23/ontology/go.obo using utf-8 charset.\n",
      "INFO:root:Calculating labels...\n",
      " 36%|███▋      | 41/113 [05:38<09:41,  8.07s/it]INFO:root:Downloading and processing OBO file...\n"
     ]
    },
    {
     "name": "stdout",
     "output_type": "stream",
     "text": [
      "http://release.geneontology.org/2020-04-23/ontology/go.obo\n",
      "new labels =  17\n",
      "new obsolete =  6\n",
      "all labels =  44519\n"
     ]
    },
    {
     "name": "stderr",
     "output_type": "stream",
     "text": [
      "INFO:root:Will decode content from http://release.geneontology.org/2020-03-25/ontology/go.obo using utf-8 charset.\n",
      "INFO:root:Calculating labels...\n",
      " 37%|███▋      | 42/113 [05:46<09:32,  8.07s/it]INFO:root:Downloading and processing OBO file...\n"
     ]
    },
    {
     "name": "stdout",
     "output_type": "stream",
     "text": [
      "http://release.geneontology.org/2020-03-25/ontology/go.obo\n",
      "new labels =  45\n",
      "new obsolete =  32\n",
      "all labels =  44531\n"
     ]
    },
    {
     "name": "stderr",
     "output_type": "stream",
     "text": [
      "INFO:root:Will decode content from http://release.geneontology.org/2020-02-26/ontology/go.obo using utf-8 charset.\n",
      "INFO:root:Calculating labels...\n",
      " 38%|███▊      | 43/113 [05:54<09:29,  8.13s/it]INFO:root:Downloading and processing OBO file...\n"
     ]
    },
    {
     "name": "stdout",
     "output_type": "stream",
     "text": [
      "http://release.geneontology.org/2020-02-26/ontology/go.obo\n",
      "new labels =  75\n",
      "new obsolete =  27\n",
      "all labels =  44579\n"
     ]
    },
    {
     "name": "stderr",
     "output_type": "stream",
     "text": [
      "INFO:root:Will decode content from http://release.geneontology.org/2020-01-01/ontology/go.obo using utf-8 charset.\n",
      "INFO:root:Calculating labels...\n",
      " 39%|███▉      | 44/113 [06:03<09:23,  8.16s/it]INFO:root:Downloading and processing OBO file...\n"
     ]
    },
    {
     "name": "stdout",
     "output_type": "stream",
     "text": [
      "http://release.geneontology.org/2020-01-01/ontology/go.obo\n",
      "new labels =  191\n",
      "new obsolete =  64\n",
      "all labels =  44700\n"
     ]
    },
    {
     "name": "stderr",
     "output_type": "stream",
     "text": [
      "INFO:root:Will decode content from http://release.geneontology.org/2019-12-09/ontology/go.obo using utf-8 charset.\n",
      "INFO:root:Calculating labels...\n",
      " 40%|███▉      | 45/113 [06:10<09:07,  8.06s/it]INFO:root:Downloading and processing OBO file...\n"
     ]
    },
    {
     "name": "stdout",
     "output_type": "stream",
     "text": [
      "http://release.geneontology.org/2019-12-09/ontology/go.obo\n",
      "new labels =  6\n",
      "new obsolete =  31\n",
      "all labels =  44674\n"
     ]
    },
    {
     "name": "stderr",
     "output_type": "stream",
     "text": [
      "INFO:root:Will decode content from http://release.geneontology.org/2019-11-01/ontology/go.obo using utf-8 charset.\n",
      "INFO:root:Calculating labels...\n",
      " 41%|████      | 46/113 [06:18<08:54,  7.98s/it]INFO:root:Downloading and processing OBO file...\n"
     ]
    },
    {
     "name": "stdout",
     "output_type": "stream",
     "text": [
      "http://release.geneontology.org/2019-11-01/ontology/go.obo\n",
      "new labels =  55\n",
      "new obsolete =  79\n",
      "all labels =  44650\n"
     ]
    },
    {
     "name": "stderr",
     "output_type": "stream",
     "text": [
      "INFO:root:Will decode content from http://release.geneontology.org/2019-10-07/ontology/go.obo using utf-8 charset.\n",
      "INFO:root:Calculating labels...\n",
      " 42%|████▏     | 47/113 [06:26<08:45,  7.96s/it]INFO:root:Downloading and processing OBO file...\n"
     ]
    },
    {
     "name": "stdout",
     "output_type": "stream",
     "text": [
      "http://release.geneontology.org/2019-10-07/ontology/go.obo\n",
      "new labels =  99\n",
      "new obsolete =  16\n",
      "all labels =  44733\n"
     ]
    },
    {
     "name": "stderr",
     "output_type": "stream",
     "text": [
      "INFO:root:Will decode content from http://release.geneontology.org/2019-07-01/ontology/go.obo using utf-8 charset.\n",
      "INFO:root:Calculating labels...\n",
      " 42%|████▏     | 48/113 [06:34<08:38,  7.98s/it]INFO:root:Downloading and processing OBO file...\n"
     ]
    },
    {
     "name": "stdout",
     "output_type": "stream",
     "text": [
      "http://release.geneontology.org/2019-07-01/ontology/go.obo\n",
      "new labels =  271\n",
      "new obsolete =  56\n",
      "all labels =  44945\n"
     ]
    },
    {
     "name": "stderr",
     "output_type": "stream",
     "text": [
      "INFO:root:Will decode content from http://release.geneontology.org/2019-06-09/ontology/go.obo using utf-8 charset.\n",
      "INFO:root:Calculating labels...\n",
      " 43%|████▎     | 49/113 [06:42<08:32,  8.01s/it]INFO:root:Downloading and processing OBO file...\n"
     ]
    },
    {
     "name": "stdout",
     "output_type": "stream",
     "text": [
      "http://release.geneontology.org/2019-06-09/ontology/go.obo\n",
      "new labels =  68\n",
      "new obsolete =  19\n",
      "all labels =  44990\n"
     ]
    },
    {
     "name": "stderr",
     "output_type": "stream",
     "text": [
      "INFO:root:Will decode content from http://release.geneontology.org/2019-06-01/ontology/go.obo using utf-8 charset.\n",
      "INFO:root:Calculating labels...\n",
      " 44%|████▍     | 50/113 [06:50<08:26,  8.04s/it]INFO:root:Downloading and processing OBO file...\n"
     ]
    },
    {
     "name": "stdout",
     "output_type": "stream",
     "text": [
      "http://release.geneontology.org/2019-06-01/ontology/go.obo\n",
      "new labels =  19\n",
      "new obsolete =  3\n",
      "all labels =  45006\n"
     ]
    },
    {
     "name": "stderr",
     "output_type": "stream",
     "text": [
      "INFO:root:Will decode content from http://release.geneontology.org/2019-05-09/ontology/go.obo using utf-8 charset.\n",
      "INFO:root:Calculating labels...\n",
      " 45%|████▌     | 51/113 [06:58<08:14,  7.97s/it]INFO:root:Downloading and processing OBO file...\n"
     ]
    },
    {
     "name": "stdout",
     "output_type": "stream",
     "text": [
      "http://release.geneontology.org/2019-05-09/ontology/go.obo\n",
      "new labels =  60\n",
      "new obsolete =  41\n",
      "all labels =  45024\n"
     ]
    },
    {
     "name": "stderr",
     "output_type": "stream",
     "text": [
      "INFO:root:Will decode content from http://release.geneontology.org/2019-04-17/ontology/go.obo using utf-8 charset.\n",
      "INFO:root:Calculating labels...\n",
      " 46%|████▌     | 52/113 [07:06<08:03,  7.92s/it]INFO:root:Downloading and processing OBO file...\n"
     ]
    },
    {
     "name": "stdout",
     "output_type": "stream",
     "text": [
      "http://release.geneontology.org/2019-04-17/ontology/go.obo\n",
      "new labels =  11\n",
      "new obsolete =  17\n",
      "all labels =  45017\n"
     ]
    },
    {
     "name": "stderr",
     "output_type": "stream",
     "text": [
      "INFO:root:Will decode content from http://release.geneontology.org/2019-03-18/ontology/go.obo using utf-8 charset.\n",
      "INFO:root:Calculating labels...\n",
      " 47%|████▋     | 53/113 [07:14<07:54,  7.91s/it]INFO:root:Downloading and processing OBO file...\n"
     ]
    },
    {
     "name": "stdout",
     "output_type": "stream",
     "text": [
      "http://release.geneontology.org/2019-03-18/ontology/go.obo\n",
      "new labels =  18\n",
      "new obsolete =  21\n",
      "all labels =  45006\n"
     ]
    },
    {
     "name": "stderr",
     "output_type": "stream",
     "text": [
      "INFO:root:Will decode content from http://release.geneontology.org/2019-03-10/ontology/go.obo using utf-8 charset.\n",
      "INFO:root:Calculating labels...\n",
      " 48%|████▊     | 54/113 [07:22<07:44,  7.88s/it]INFO:root:Downloading and processing OBO file...\n"
     ]
    },
    {
     "name": "stdout",
     "output_type": "stream",
     "text": [
      "http://release.geneontology.org/2019-03-10/ontology/go.obo\n",
      "new labels =  23\n",
      "new obsolete =  2\n",
      "all labels =  45027\n"
     ]
    },
    {
     "name": "stderr",
     "output_type": "stream",
     "text": [
      "INFO:root:Will decode content from http://release.geneontology.org/2019-02-01/ontology/go.obo using utf-8 charset.\n",
      "INFO:root:Calculating labels...\n",
      " 49%|████▊     | 55/113 [07:30<07:40,  7.94s/it]INFO:root:Downloading and processing OBO file...\n"
     ]
    },
    {
     "name": "stdout",
     "output_type": "stream",
     "text": [
      "http://release.geneontology.org/2019-02-01/ontology/go.obo\n",
      "new labels =  6\n",
      "new obsolete =  20\n",
      "all labels =  45013\n"
     ]
    },
    {
     "name": "stderr",
     "output_type": "stream",
     "text": [
      "INFO:root:Will decode content from http://release.geneontology.org/2019-01-01/ontology/go.obo using utf-8 charset.\n",
      "INFO:root:Calculating labels...\n",
      " 50%|████▉     | 56/113 [07:38<07:35,  7.99s/it]INFO:root:Downloading and processing OBO file...\n"
     ]
    },
    {
     "name": "stdout",
     "output_type": "stream",
     "text": [
      "http://release.geneontology.org/2019-01-01/ontology/go.obo\n",
      "new labels =  0\n",
      "new obsolete =  7\n",
      "all labels =  45003\n"
     ]
    },
    {
     "name": "stderr",
     "output_type": "stream",
     "text": [
      "INFO:root:Will decode content from http://release.geneontology.org/2018-12-01/ontology/go.obo using utf-8 charset.\n",
      "INFO:root:Calculating labels...\n",
      " 50%|█████     | 57/113 [07:45<07:19,  7.85s/it]INFO:root:Downloading and processing OBO file...\n"
     ]
    },
    {
     "name": "stdout",
     "output_type": "stream",
     "text": [
      "http://release.geneontology.org/2018-12-01/ontology/go.obo\n",
      "new labels =  37\n",
      "new obsolete =  8\n",
      "all labels =  45032\n"
     ]
    },
    {
     "name": "stderr",
     "output_type": "stream",
     "text": [
      "INFO:root:Will decode content from http://release.geneontology.org/2018-11-15/ontology/go.obo using utf-8 charset.\n",
      "INFO:root:Calculating labels...\n",
      " 51%|█████▏    | 58/113 [07:53<07:06,  7.76s/it]INFO:root:Downloading and processing OBO file...\n"
     ]
    },
    {
     "name": "stdout",
     "output_type": "stream",
     "text": [
      "http://release.geneontology.org/2018-11-15/ontology/go.obo\n",
      "new labels =  1\n",
      "new obsolete =  22\n",
      "all labels =  45007\n"
     ]
    },
    {
     "name": "stderr",
     "output_type": "stream",
     "text": [
      "INFO:root:Will decode content from http://release.geneontology.org/2018-10-08/ontology/go.obo using utf-8 charset.\n",
      "INFO:root:Calculating labels...\n",
      " 52%|█████▏    | 59/113 [08:01<07:10,  7.98s/it]INFO:root:Downloading and processing OBO file...\n"
     ]
    },
    {
     "name": "stdout",
     "output_type": "stream",
     "text": [
      "http://release.geneontology.org/2018-10-08/ontology/go.obo\n",
      "new labels =  62\n",
      "new obsolete =  24\n",
      "all labels =  45043\n"
     ]
    },
    {
     "name": "stderr",
     "output_type": "stream",
     "text": [
      "INFO:root:Will decode content from http://release.geneontology.org/2018-10-01/ontology/go.obo using utf-8 charset.\n",
      "INFO:root:Calculating labels...\n",
      " 53%|█████▎    | 60/113 [08:10<07:06,  8.04s/it]INFO:root:Downloading and processing OBO file...\n"
     ]
    },
    {
     "name": "stdout",
     "output_type": "stream",
     "text": [
      "http://release.geneontology.org/2018-10-01/ontology/go.obo\n",
      "new labels =  6\n",
      "new obsolete =  5\n",
      "all labels =  45044\n"
     ]
    },
    {
     "name": "stderr",
     "output_type": "stream",
     "text": [
      "INFO:root:Will decode content from http://release.geneontology.org/2018-09-05/ontology/go.obo using utf-8 charset.\n",
      "INFO:root:Calculating labels...\n",
      " 54%|█████▍    | 61/113 [08:18<06:57,  8.04s/it]INFO:root:Downloading and processing OBO file...\n"
     ]
    },
    {
     "name": "stdout",
     "output_type": "stream",
     "text": [
      "http://release.geneontology.org/2018-09-05/ontology/go.obo\n",
      "new labels =  17\n",
      "new obsolete =  28\n",
      "all labels =  45032\n"
     ]
    },
    {
     "name": "stderr",
     "output_type": "stream",
     "text": [
      "INFO:root:Will decode content from http://release.geneontology.org/2018-08-09/ontology/go.obo using utf-8 charset.\n",
      "INFO:root:Calculating labels...\n",
      " 55%|█████▍    | 62/113 [08:26<06:59,  8.22s/it]INFO:root:Downloading and processing OBO file...\n"
     ]
    },
    {
     "name": "stdout",
     "output_type": "stream",
     "text": [
      "http://release.geneontology.org/2018-08-09/ontology/go.obo\n",
      "new labels =  4\n",
      "new obsolete =  33\n",
      "all labels =  45003\n"
     ]
    },
    {
     "name": "stderr",
     "output_type": "stream",
     "text": [
      "INFO:root:Will decode content from http://release.geneontology.org/2018-07-02/ontology/go.obo using utf-8 charset.\n",
      "INFO:root:Calculating labels...\n",
      " 56%|█████▌    | 63/113 [08:34<06:49,  8.19s/it]INFO:root:Downloading and processing OBO file...\n"
     ]
    },
    {
     "name": "stdout",
     "output_type": "stream",
     "text": [
      "http://release.geneontology.org/2018-07-02/ontology/go.obo\n",
      "new labels =  22\n",
      "new obsolete =  77\n",
      "all labels =  44947\n"
     ]
    },
    {
     "name": "stderr",
     "output_type": "stream",
     "text": [
      "INFO:root:Will decode content from http://release.geneontology.org/2018-06-01/ontology/go.obo using utf-8 charset.\n",
      "INFO:root:Calculating labels...\n",
      " 57%|█████▋    | 64/113 [08:43<06:44,  8.26s/it]INFO:root:Downloading and processing OBO file...\n"
     ]
    },
    {
     "name": "stdout",
     "output_type": "stream",
     "text": [
      "http://release.geneontology.org/2018-06-01/ontology/go.obo\n",
      "new labels =  37\n",
      "new obsolete =  17\n",
      "all labels =  44968\n"
     ]
    },
    {
     "name": "stderr",
     "output_type": "stream",
     "text": [
      "INFO:root:Will decode content from http://release.geneontology.org/2018-05-20/ontology/go.obo using utf-8 charset.\n",
      "INFO:root:Calculating labels...\n",
      " 58%|█████▊    | 65/113 [08:51<06:40,  8.35s/it]INFO:root:Downloading and processing OBO file...\n"
     ]
    },
    {
     "name": "stdout",
     "output_type": "stream",
     "text": [
      "http://release.geneontology.org/2018-05-20/ontology/go.obo\n",
      "new labels =  14\n",
      "new obsolete =  10\n",
      "all labels =  44970\n"
     ]
    },
    {
     "name": "stderr",
     "output_type": "stream",
     "text": [
      "INFO:root:Will decode content from http://release.geneontology.org/2018-04-02/ontology/go.obo using utf-8 charset.\n",
      "INFO:root:Calculating labels...\n",
      " 58%|█████▊    | 66/113 [09:00<06:32,  8.36s/it]INFO:root:Downloading and processing OBO file...\n"
     ]
    },
    {
     "name": "stdout",
     "output_type": "stream",
     "text": [
      "http://release.geneontology.org/2018-04-02/ontology/go.obo\n",
      "new labels =  41\n",
      "new obsolete =  87\n",
      "all labels =  44922\n"
     ]
    },
    {
     "name": "stderr",
     "output_type": "stream",
     "text": [
      "INFO:root:Will decode content from http://release.geneontology.org/2018-03-10/ontology/go.obo using utf-8 charset.\n",
      "INFO:root:Calculating labels...\n",
      " 59%|█████▉    | 67/113 [09:08<06:23,  8.34s/it]INFO:root:Downloading and processing OBO file...\n"
     ]
    },
    {
     "name": "stdout",
     "output_type": "stream",
     "text": [
      "http://release.geneontology.org/2018-03-10/ontology/go.obo\n",
      "new labels =  43\n",
      "new obsolete =  26\n",
      "all labels =  44939\n"
     ]
    },
    {
     "name": "stderr",
     "output_type": "stream",
     "text": [
      "INFO:root:Will decode content from http://release.geneontology.org/2018-03-06/ontology/go.obo using utf-8 charset.\n",
      "INFO:root:Calculating labels...\n",
      " 60%|██████    | 68/113 [09:16<06:16,  8.37s/it]INFO:root:Downloading and processing OBO file...\n"
     ]
    },
    {
     "name": "stdout",
     "output_type": "stream",
     "text": [
      "http://release.geneontology.org/2018-03-06/ontology/go.obo\n",
      "new labels =  6\n",
      "new obsolete =  3\n",
      "all labels =  44942\n"
     ]
    },
    {
     "name": "stderr",
     "output_type": "stream",
     "text": [
      "INFO:root:Will decode content from http://release.geneontology.org/2018-02-01/ontology/go.obo using utf-8 charset.\n",
      "INFO:root:Calculating labels...\n",
      " 61%|██████    | 69/113 [09:25<06:12,  8.46s/it]INFO:root:Downloading and processing OBO file...\n"
     ]
    },
    {
     "name": "stdout",
     "output_type": "stream",
     "text": [
      "http://release.geneontology.org/2018-02-01/ontology/go.obo\n",
      "new labels =  145\n",
      "new obsolete =  110\n",
      "all labels =  44970\n"
     ]
    },
    {
     "name": "stderr",
     "output_type": "stream",
     "text": [
      "INFO:root:Will decode content from http://release.geneontology.org/2018-01-01/ontology/go.obo using utf-8 charset.\n",
      "INFO:root:Calculating labels...\n",
      " 62%|██████▏   | 70/113 [09:34<06:06,  8.52s/it]INFO:root:Downloading and processing OBO file...\n"
     ]
    },
    {
     "name": "stdout",
     "output_type": "stream",
     "text": [
      "http://release.geneontology.org/2018-01-01/ontology/go.obo\n",
      "new labels =  53\n",
      "new obsolete =  22\n",
      "all labels =  45001\n"
     ]
    },
    {
     "name": "stderr",
     "output_type": "stream",
     "text": [
      "INFO:root:Will decode content from http://release.geneontology.org/2017-12-01/ontology/go.obo using utf-8 charset.\n",
      "INFO:root:Calculating labels...\n",
      " 63%|██████▎   | 71/113 [09:43<06:00,  8.59s/it]INFO:root:Downloading and processing OBO file...\n"
     ]
    },
    {
     "name": "stdout",
     "output_type": "stream",
     "text": [
      "http://release.geneontology.org/2017-12-01/ontology/go.obo\n",
      "new labels =  14\n",
      "new obsolete =  56\n",
      "all labels =  44955\n"
     ]
    },
    {
     "name": "stderr",
     "output_type": "stream",
     "text": [
      "INFO:root:Will decode content from http://release.geneontology.org/2017-11-01/ontology/go.obo using utf-8 charset.\n",
      "INFO:root:Calculating labels...\n",
      " 64%|██████▎   | 72/113 [09:51<05:55,  8.67s/it]INFO:root:Downloading and processing OBO file...\n"
     ]
    },
    {
     "name": "stdout",
     "output_type": "stream",
     "text": [
      "http://release.geneontology.org/2017-11-01/ontology/go.obo\n",
      "new labels =  60\n",
      "new obsolete =  44\n",
      "all labels =  44969\n"
     ]
    },
    {
     "name": "stderr",
     "output_type": "stream",
     "text": [
      "INFO:root:Will decode content from http://release.geneontology.org/2017-10-01/ontology/go.obo using utf-8 charset.\n",
      "INFO:root:Calculating labels...\n",
      " 65%|██████▍   | 73/113 [10:00<05:47,  8.70s/it]INFO:root:Downloading and processing OBO file...\n"
     ]
    },
    {
     "name": "stdout",
     "output_type": "stream",
     "text": [
      "http://release.geneontology.org/2017-10-01/ontology/go.obo\n",
      "new labels =  51\n",
      "new obsolete =  44\n",
      "all labels =  44977\n"
     ]
    },
    {
     "name": "stderr",
     "output_type": "stream",
     "text": [
      "INFO:root:Will decode content from http://release.geneontology.org/2017-09-01/ontology/go.obo using utf-8 charset.\n",
      "INFO:root:Calculating labels...\n",
      " 65%|██████▌   | 74/113 [10:09<05:39,  8.70s/it]INFO:root:Downloading and processing OBO file...\n"
     ]
    },
    {
     "name": "stdout",
     "output_type": "stream",
     "text": [
      "http://release.geneontology.org/2017-09-01/ontology/go.obo\n",
      "new labels =  12\n",
      "new obsolete =  51\n",
      "all labels =  44931\n"
     ]
    },
    {
     "name": "stderr",
     "output_type": "stream",
     "text": [
      "INFO:root:Will decode content from http://release.geneontology.org/2017-08-01/ontology/go.obo using utf-8 charset.\n",
      "INFO:root:Calculating labels...\n",
      " 66%|██████▋   | 75/113 [10:18<05:30,  8.70s/it]INFO:root:Downloading and processing OBO file...\n"
     ]
    },
    {
     "name": "stdout",
     "output_type": "stream",
     "text": [
      "http://release.geneontology.org/2017-08-01/ontology/go.obo\n",
      "new labels =  31\n",
      "new obsolete =  64\n",
      "all labels =  44890\n"
     ]
    },
    {
     "name": "stderr",
     "output_type": "stream",
     "text": [
      "INFO:root:Will decode content from http://release.geneontology.org/2017-07-01/ontology/go.obo using utf-8 charset.\n",
      "INFO:root:Calculating labels...\n",
      " 67%|██████▋   | 76/113 [10:26<05:21,  8.68s/it]INFO:root:Downloading and processing OBO file...\n"
     ]
    },
    {
     "name": "stdout",
     "output_type": "stream",
     "text": [
      "http://release.geneontology.org/2017-07-01/ontology/go.obo\n",
      "new labels =  49\n",
      "new obsolete =  81\n",
      "all labels =  44844\n"
     ]
    },
    {
     "name": "stderr",
     "output_type": "stream",
     "text": [
      "INFO:root:Will decode content from http://release.geneontology.org/2017-06-01/ontology/go.obo using utf-8 charset.\n",
      "INFO:root:Calculating labels...\n",
      " 68%|██████▊   | 77/113 [10:35<05:15,  8.77s/it]INFO:root:Downloading and processing OBO file...\n"
     ]
    },
    {
     "name": "stdout",
     "output_type": "stream",
     "text": [
      "http://release.geneontology.org/2017-06-01/ontology/go.obo\n",
      "new labels =  5\n",
      "new obsolete =  211\n",
      "all labels =  44616\n"
     ]
    },
    {
     "name": "stderr",
     "output_type": "stream",
     "text": [
      "INFO:root:Will decode content from http://release.geneontology.org/2017-05-01/ontology/go.obo using utf-8 charset.\n",
      "INFO:root:Calculating labels...\n",
      " 69%|██████▉   | 78/113 [10:44<05:08,  8.82s/it]INFO:root:Downloading and processing OBO file...\n"
     ]
    },
    {
     "name": "stdout",
     "output_type": "stream",
     "text": [
      "http://release.geneontology.org/2017-05-01/ontology/go.obo\n",
      "new labels =  6\n",
      "new obsolete =  78\n",
      "all labels =  44538\n"
     ]
    },
    {
     "name": "stderr",
     "output_type": "stream",
     "text": [
      "INFO:root:Will decode content from http://release.geneontology.org/2017-04-01/ontology/go.obo using utf-8 charset.\n",
      "INFO:root:Calculating labels...\n",
      " 70%|██████▉   | 79/113 [10:53<04:57,  8.74s/it]INFO:root:Downloading and processing OBO file...\n"
     ]
    },
    {
     "name": "stdout",
     "output_type": "stream",
     "text": [
      "http://release.geneontology.org/2017-04-01/ontology/go.obo\n",
      "new labels =  44\n",
      "new obsolete =  49\n",
      "all labels =  44528\n"
     ]
    },
    {
     "name": "stderr",
     "output_type": "stream",
     "text": [
      "INFO:root:Will decode content from http://release.geneontology.org/2017-03-01/ontology/go.obo using utf-8 charset.\n",
      "INFO:root:Calculating labels...\n",
      " 71%|███████   | 80/113 [11:01<04:42,  8.56s/it]INFO:root:Downloading and processing OBO file...\n"
     ]
    },
    {
     "name": "stdout",
     "output_type": "stream",
     "text": [
      "http://release.geneontology.org/2017-03-01/ontology/go.obo\n",
      "new labels =  46\n",
      "new obsolete =  111\n",
      "all labels =  44449\n"
     ]
    },
    {
     "name": "stderr",
     "output_type": "stream",
     "text": [
      "INFO:root:Will decode content from http://release.geneontology.org/2017-02-01/ontology/go.obo using utf-8 charset.\n",
      "INFO:root:Calculating labels...\n",
      " 72%|███████▏  | 81/113 [11:09<04:34,  8.57s/it]INFO:root:Downloading and processing OBO file...\n"
     ]
    },
    {
     "name": "stdout",
     "output_type": "stream",
     "text": [
      "http://release.geneontology.org/2017-02-01/ontology/go.obo\n",
      "new labels =  15\n",
      "new obsolete =  132\n",
      "all labels =  44307\n"
     ]
    },
    {
     "name": "stderr",
     "output_type": "stream",
     "text": [
      "INFO:root:Will decode content from http://release.geneontology.org/2017-01-01/ontology/go.obo using utf-8 charset.\n",
      "INFO:root:Calculating labels...\n",
      " 73%|███████▎  | 82/113 [11:18<04:27,  8.62s/it]INFO:root:Downloading and processing OBO file...\n"
     ]
    },
    {
     "name": "stdout",
     "output_type": "stream",
     "text": [
      "http://release.geneontology.org/2017-01-01/ontology/go.obo\n",
      "new labels =  13\n",
      "new obsolete =  317\n",
      "all labels =  43973\n"
     ]
    },
    {
     "name": "stderr",
     "output_type": "stream",
     "text": [
      "INFO:root:Will decode content from http://release.geneontology.org/2016-12-01/ontology/go.obo using utf-8 charset.\n",
      "INFO:root:Calculating labels...\n",
      " 73%|███████▎  | 83/113 [11:27<04:21,  8.71s/it]INFO:root:Downloading and processing OBO file...\n"
     ]
    },
    {
     "name": "stdout",
     "output_type": "stream",
     "text": [
      "http://release.geneontology.org/2016-12-01/ontology/go.obo\n",
      "new labels =  6\n",
      "new obsolete =  79\n",
      "all labels =  43896\n"
     ]
    },
    {
     "name": "stderr",
     "output_type": "stream",
     "text": [
      "INFO:root:Will decode content from http://release.geneontology.org/2016-11-01/ontology/go.obo using utf-8 charset.\n",
      "INFO:root:Calculating labels...\n",
      " 74%|███████▍  | 84/113 [11:35<04:07,  8.55s/it]INFO:root:Downloading and processing OBO file...\n"
     ]
    },
    {
     "name": "stdout",
     "output_type": "stream",
     "text": [
      "http://release.geneontology.org/2016-11-01/ontology/go.obo\n",
      "new labels =  8\n",
      "new obsolete =  244\n",
      "all labels =  43647\n"
     ]
    },
    {
     "name": "stderr",
     "output_type": "stream",
     "text": [
      "INFO:root:Will decode content from http://release.geneontology.org/2016-10-01/ontology/go.obo using utf-8 charset.\n",
      "INFO:root:Calculating labels...\n",
      " 75%|███████▌  | 85/113 [11:44<03:58,  8.52s/it]INFO:root:Downloading and processing OBO file...\n"
     ]
    },
    {
     "name": "stdout",
     "output_type": "stream",
     "text": [
      "http://release.geneontology.org/2016-10-01/ontology/go.obo\n",
      "new labels =  17\n",
      "new obsolete =  211\n",
      "all labels =  43435\n"
     ]
    },
    {
     "name": "stderr",
     "output_type": "stream",
     "text": [
      "INFO:root:Will decode content from http://release.geneontology.org/2016-09-01/ontology/go.obo using utf-8 charset.\n",
      "INFO:root:Calculating labels...\n",
      " 76%|███████▌  | 86/113 [11:53<03:54,  8.67s/it]INFO:root:Downloading and processing OBO file...\n"
     ]
    },
    {
     "name": "stdout",
     "output_type": "stream",
     "text": [
      "http://release.geneontology.org/2016-09-01/ontology/go.obo\n",
      "new labels =  7\n",
      "new obsolete =  132\n",
      "all labels =  43286\n"
     ]
    },
    {
     "name": "stderr",
     "output_type": "stream",
     "text": [
      "INFO:root:Will decode content from http://release.geneontology.org/2016-08-01/ontology/go.obo using utf-8 charset.\n",
      "INFO:root:Calculating labels...\n",
      " 77%|███████▋  | 87/113 [12:01<03:45,  8.66s/it]INFO:root:Downloading and processing OBO file...\n"
     ]
    },
    {
     "name": "stdout",
     "output_type": "stream",
     "text": [
      "http://release.geneontology.org/2016-08-01/ontology/go.obo\n",
      "new labels =  9\n",
      "new obsolete =  165\n",
      "all labels =  43127\n"
     ]
    },
    {
     "name": "stderr",
     "output_type": "stream",
     "text": [
      "INFO:root:Will decode content from http://release.geneontology.org/2016-07-01/ontology/go.obo using utf-8 charset.\n",
      "INFO:root:Calculating labels...\n",
      " 78%|███████▊  | 88/113 [12:10<03:35,  8.61s/it]INFO:root:Downloading and processing OBO file...\n"
     ]
    },
    {
     "name": "stdout",
     "output_type": "stream",
     "text": [
      "http://release.geneontology.org/2016-07-01/ontology/go.obo\n",
      "new labels =  0\n",
      "new obsolete =  76\n",
      "all labels =  43049\n"
     ]
    },
    {
     "name": "stderr",
     "output_type": "stream",
     "text": [
      "INFO:root:Will decode content from http://release.geneontology.org/2016-06-01/ontology/go.obo using utf-8 charset.\n",
      "INFO:root:Calculating labels...\n",
      " 79%|███████▉  | 89/113 [12:19<03:27,  8.65s/it]INFO:root:Downloading and processing OBO file...\n"
     ]
    },
    {
     "name": "stdout",
     "output_type": "stream",
     "text": [
      "http://release.geneontology.org/2016-06-01/ontology/go.obo\n",
      "new labels =  5\n",
      "new obsolete =  184\n",
      "all labels =  42819\n"
     ]
    },
    {
     "name": "stderr",
     "output_type": "stream",
     "text": [
      "INFO:root:Will decode content from http://release.geneontology.org/2016-05-01/ontology/go.obo using utf-8 charset.\n",
      "INFO:root:Calculating labels...\n",
      " 80%|███████▉  | 90/113 [12:27<03:15,  8.51s/it]INFO:root:Downloading and processing OBO file...\n"
     ]
    },
    {
     "name": "stdout",
     "output_type": "stream",
     "text": [
      "http://release.geneontology.org/2016-05-01/ontology/go.obo\n",
      "new labels =  21\n",
      "new obsolete =  106\n",
      "all labels =  42716\n"
     ]
    },
    {
     "name": "stderr",
     "output_type": "stream",
     "text": [
      "INFO:root:Will decode content from http://release.geneontology.org/2016-04-01/ontology/go.obo using utf-8 charset.\n",
      "INFO:root:Calculating labels...\n",
      " 81%|████████  | 91/113 [12:35<03:04,  8.36s/it]INFO:root:Downloading and processing OBO file...\n"
     ]
    },
    {
     "name": "stdout",
     "output_type": "stream",
     "text": [
      "http://release.geneontology.org/2016-04-01/ontology/go.obo\n",
      "new labels =  9\n",
      "new obsolete =  205\n",
      "all labels =  42511\n"
     ]
    },
    {
     "name": "stderr",
     "output_type": "stream",
     "text": [
      "INFO:root:Will decode content from http://release.geneontology.org/2016-03-01/ontology/go.obo using utf-8 charset.\n",
      "INFO:root:Calculating labels...\n",
      " 81%|████████▏ | 92/113 [12:43<02:54,  8.30s/it]INFO:root:Downloading and processing OBO file...\n"
     ]
    },
    {
     "name": "stdout",
     "output_type": "stream",
     "text": [
      "http://release.geneontology.org/2016-03-01/ontology/go.obo\n",
      "new labels =  14\n",
      "new obsolete =  173\n",
      "all labels =  42341\n"
     ]
    },
    {
     "name": "stderr",
     "output_type": "stream",
     "text": [
      "INFO:root:Will decode content from http://release.geneontology.org/2016-02-01/ontology/go.obo using utf-8 charset.\n",
      "INFO:root:Calculating labels...\n",
      " 82%|████████▏ | 93/113 [12:51<02:44,  8.20s/it]INFO:root:Downloading and processing OBO file...\n"
     ]
    },
    {
     "name": "stdout",
     "output_type": "stream",
     "text": [
      "http://release.geneontology.org/2016-02-01/ontology/go.obo\n",
      "new labels =  2\n",
      "new obsolete =  58\n",
      "all labels =  42277\n"
     ]
    },
    {
     "name": "stderr",
     "output_type": "stream",
     "text": [
      "INFO:root:Will decode content from http://release.geneontology.org/2016-01-01/ontology/go.obo using utf-8 charset.\n",
      "INFO:root:Calculating labels...\n",
      " 83%|████████▎ | 94/113 [13:00<02:38,  8.33s/it]INFO:root:Downloading and processing OBO file...\n"
     ]
    },
    {
     "name": "stdout",
     "output_type": "stream",
     "text": [
      "http://release.geneontology.org/2016-01-01/ontology/go.obo\n",
      "new labels =  0\n",
      "new obsolete =  164\n",
      "all labels =  42108\n"
     ]
    },
    {
     "name": "stderr",
     "output_type": "stream",
     "text": [
      "INFO:root:Will decode content from http://release.geneontology.org/2015-12-01/ontology/go.obo using utf-8 charset.\n",
      "INFO:root:Calculating labels...\n",
      " 84%|████████▍ | 95/113 [13:08<02:27,  8.22s/it]INFO:root:Downloading and processing OBO file...\n"
     ]
    },
    {
     "name": "stdout",
     "output_type": "stream",
     "text": [
      "http://release.geneontology.org/2015-12-01/ontology/go.obo\n",
      "new labels =  6\n",
      "new obsolete =  67\n",
      "all labels =  42045\n"
     ]
    },
    {
     "name": "stderr",
     "output_type": "stream",
     "text": [
      "INFO:root:Will decode content from http://release.geneontology.org/2015-11-01/ontology/go.obo using utf-8 charset.\n",
      "INFO:root:Calculating labels...\n",
      " 85%|████████▍ | 96/113 [13:16<02:18,  8.17s/it]INFO:root:Downloading and processing OBO file...\n"
     ]
    },
    {
     "name": "stdout",
     "output_type": "stream",
     "text": [
      "http://release.geneontology.org/2015-11-01/ontology/go.obo\n",
      "new labels =  1\n",
      "new obsolete =  87\n",
      "all labels =  41952\n"
     ]
    },
    {
     "name": "stderr",
     "output_type": "stream",
     "text": [
      "INFO:root:Will decode content from http://release.geneontology.org/2015-10-01/ontology/go.obo using utf-8 charset.\n",
      "INFO:root:Calculating labels...\n",
      " 86%|████████▌ | 97/113 [13:24<02:10,  8.15s/it]INFO:root:Downloading and processing OBO file...\n"
     ]
    },
    {
     "name": "stdout",
     "output_type": "stream",
     "text": [
      "http://release.geneontology.org/2015-10-01/ontology/go.obo\n",
      "new labels =  0\n",
      "new obsolete =  109\n",
      "all labels =  41833\n"
     ]
    },
    {
     "name": "stderr",
     "output_type": "stream",
     "text": [
      "INFO:root:Will decode content from http://release.geneontology.org/2015-09-01/ontology/go.obo using utf-8 charset.\n",
      "INFO:root:Calculating labels...\n",
      " 87%|████████▋ | 98/113 [13:32<02:01,  8.10s/it]INFO:root:Downloading and processing OBO file...\n"
     ]
    },
    {
     "name": "stdout",
     "output_type": "stream",
     "text": [
      "http://release.geneontology.org/2015-09-01/ontology/go.obo\n",
      "new labels =  0\n",
      "new obsolete =  92\n",
      "all labels =  41733\n"
     ]
    },
    {
     "name": "stderr",
     "output_type": "stream",
     "text": [
      "INFO:root:Will decode content from http://release.geneontology.org/2015-08-01/ontology/go.obo using utf-8 charset.\n",
      "INFO:root:Calculating labels...\n",
      " 88%|████████▊ | 99/113 [13:40<01:53,  8.08s/it]INFO:root:Downloading and processing OBO file...\n"
     ]
    },
    {
     "name": "stdout",
     "output_type": "stream",
     "text": [
      "http://release.geneontology.org/2015-08-01/ontology/go.obo\n",
      "new labels =  0\n",
      "new obsolete =  137\n",
      "all labels =  41589\n"
     ]
    },
    {
     "name": "stderr",
     "output_type": "stream",
     "text": [
      "INFO:root:Will decode content from http://release.geneontology.org/2015-07-01/ontology/go.obo using utf-8 charset.\n",
      "INFO:root:Calculating labels...\n",
      " 88%|████████▊ | 100/113 [13:48<01:44,  8.03s/it]INFO:root:Downloading and processing OBO file...\n"
     ]
    },
    {
     "name": "stdout",
     "output_type": "stream",
     "text": [
      "http://release.geneontology.org/2015-07-01/ontology/go.obo\n",
      "new labels =  14\n",
      "new obsolete =  165\n",
      "all labels =  41423\n"
     ]
    },
    {
     "name": "stderr",
     "output_type": "stream",
     "text": [
      "INFO:root:Will decode content from http://release.geneontology.org/2015-06-01/ontology/go.obo using utf-8 charset.\n",
      "INFO:root:Calculating labels...\n",
      " 89%|████████▉ | 101/113 [13:55<01:34,  7.85s/it]INFO:root:Downloading and processing OBO file...\n"
     ]
    },
    {
     "name": "stdout",
     "output_type": "stream",
     "text": [
      "http://release.geneontology.org/2015-06-01/ontology/go.obo\n",
      "new labels =  6\n",
      "new obsolete =  192\n",
      "all labels =  41232\n"
     ]
    },
    {
     "name": "stderr",
     "output_type": "stream",
     "text": [
      "INFO:root:Will decode content from http://release.geneontology.org/2015-05-01/ontology/go.obo using utf-8 charset.\n",
      "INFO:root:Calculating labels...\n",
      " 90%|█████████ | 102/113 [14:02<01:24,  7.69s/it]INFO:root:Downloading and processing OBO file...\n"
     ]
    },
    {
     "name": "stdout",
     "output_type": "stream",
     "text": [
      "http://release.geneontology.org/2015-05-01/ontology/go.obo\n",
      "new labels =  2\n",
      "new obsolete =  151\n",
      "all labels =  41077\n"
     ]
    },
    {
     "name": "stderr",
     "output_type": "stream",
     "text": [
      "INFO:root:Will decode content from http://release.geneontology.org/2015-04-01/ontology/go.obo using utf-8 charset.\n",
      "INFO:root:Calculating labels...\n",
      " 91%|█████████ | 103/113 [14:10<01:16,  7.66s/it]INFO:root:Downloading and processing OBO file...\n"
     ]
    },
    {
     "name": "stdout",
     "output_type": "stream",
     "text": [
      "http://release.geneontology.org/2015-04-01/ontology/go.obo\n",
      "new labels =  3\n",
      "new obsolete =  97\n",
      "all labels =  40911\n"
     ]
    },
    {
     "name": "stderr",
     "output_type": "stream",
     "text": [
      "INFO:root:Will decode content from http://release.geneontology.org/2015-03-01/ontology/go.obo using utf-8 charset.\n",
      "INFO:root:Calculating labels...\n",
      " 92%|█████████▏| 104/113 [14:17<01:07,  7.53s/it]INFO:root:Downloading and processing OBO file...\n"
     ]
    },
    {
     "name": "stdout",
     "output_type": "stream",
     "text": [
      "http://release.geneontology.org/2015-03-01/ontology/go.obo\n",
      "new labels =  5\n",
      "new obsolete =  190\n",
      "all labels =  40705\n"
     ]
    },
    {
     "name": "stderr",
     "output_type": "stream",
     "text": [
      "INFO:root:Will decode content from http://release.geneontology.org/2015-02-01/ontology/go.obo using utf-8 charset.\n",
      "INFO:root:Calculating labels...\n",
      " 93%|█████████▎| 105/113 [14:25<01:01,  7.64s/it]INFO:root:Downloading and processing OBO file...\n"
     ]
    },
    {
     "name": "stdout",
     "output_type": "stream",
     "text": [
      "http://release.geneontology.org/2015-02-01/ontology/go.obo\n",
      "new labels =  44\n",
      "new obsolete =  158\n",
      "all labels =  40590\n"
     ]
    },
    {
     "name": "stderr",
     "output_type": "stream",
     "text": [
      "INFO:root:Will decode content from http://release.geneontology.org/2015-01-01/ontology/go.obo using utf-8 charset.\n",
      "INFO:root:Calculating labels...\n",
      " 94%|█████████▍| 106/113 [14:32<00:52,  7.56s/it]INFO:root:Downloading and processing OBO file...\n"
     ]
    },
    {
     "name": "stdout",
     "output_type": "stream",
     "text": [
      "http://release.geneontology.org/2015-01-01/ontology/go.obo\n",
      "new labels =  17\n",
      "new obsolete =  132\n",
      "all labels =  40470\n"
     ]
    },
    {
     "name": "stderr",
     "output_type": "stream",
     "text": [
      "INFO:root:Will decode content from http://release.geneontology.org/2014-12-01/ontology/go.obo using utf-8 charset.\n",
      "INFO:root:Calculating labels...\n",
      " 95%|█████████▍| 107/113 [14:40<00:45,  7.54s/it]INFO:root:Downloading and processing OBO file...\n"
     ]
    },
    {
     "name": "stdout",
     "output_type": "stream",
     "text": [
      "http://release.geneontology.org/2014-12-01/ontology/go.obo\n",
      "new labels =  6\n",
      "new obsolete =  127\n",
      "all labels =  40338\n"
     ]
    },
    {
     "name": "stderr",
     "output_type": "stream",
     "text": [
      "INFO:root:Will decode content from http://release.geneontology.org/2014-11-01/ontology/go.obo using utf-8 charset.\n",
      "INFO:root:Calculating labels...\n",
      " 96%|█████████▌| 108/113 [14:47<00:37,  7.48s/it]INFO:root:Downloading and processing OBO file...\n"
     ]
    },
    {
     "name": "stdout",
     "output_type": "stream",
     "text": [
      "http://release.geneontology.org/2014-11-01/ontology/go.obo\n",
      "new labels =  1\n",
      "new obsolete =  159\n",
      "all labels =  40162\n"
     ]
    },
    {
     "name": "stderr",
     "output_type": "stream",
     "text": [
      "INFO:root:Will decode content from http://release.geneontology.org/2014-10-01/ontology/go.obo using utf-8 charset.\n",
      "INFO:root:Calculating labels...\n",
      " 96%|█████████▋| 109/113 [14:55<00:30,  7.51s/it]INFO:root:Downloading and processing OBO file...\n"
     ]
    },
    {
     "name": "stdout",
     "output_type": "stream",
     "text": [
      "http://release.geneontology.org/2014-10-01/ontology/go.obo\n",
      "new labels =  4\n",
      "new obsolete =  133\n",
      "all labels =  40021\n"
     ]
    },
    {
     "name": "stderr",
     "output_type": "stream",
     "text": [
      "INFO:root:Will decode content from http://release.geneontology.org/2014-09-01/ontology/go.obo using utf-8 charset.\n",
      "INFO:root:Calculating labels...\n",
      " 97%|█████████▋| 110/113 [15:03<00:23,  7.71s/it]INFO:root:Downloading and processing OBO file...\n"
     ]
    },
    {
     "name": "stdout",
     "output_type": "stream",
     "text": [
      "http://release.geneontology.org/2014-09-01/ontology/go.obo\n",
      "new labels =  1\n",
      "new obsolete =  155\n",
      "all labels =  39852\n"
     ]
    },
    {
     "name": "stderr",
     "output_type": "stream",
     "text": [
      "INFO:root:Will decode content from http://release.geneontology.org/2014-08-01/ontology/go.obo using utf-8 charset.\n",
      "INFO:root:Calculating labels...\n",
      " 98%|█████████▊| 111/113 [15:10<00:15,  7.62s/it]INFO:root:Downloading and processing OBO file...\n"
     ]
    },
    {
     "name": "stdout",
     "output_type": "stream",
     "text": [
      "http://release.geneontology.org/2014-08-01/ontology/go.obo\n",
      "new labels =  1\n",
      "new obsolete =  231\n",
      "all labels =  39601\n"
     ]
    },
    {
     "name": "stderr",
     "output_type": "stream",
     "text": [
      "INFO:root:Will decode content from http://release.geneontology.org/2014-07-01/ontology/go.obo using utf-8 charset.\n",
      "INFO:root:Calculating labels...\n",
      " 99%|█████████▉| 112/113 [15:18<00:07,  7.58s/it]INFO:root:Downloading and processing OBO file...\n"
     ]
    },
    {
     "name": "stdout",
     "output_type": "stream",
     "text": [
      "http://release.geneontology.org/2014-07-01/ontology/go.obo\n",
      "new labels =  3\n",
      "new obsolete =  156\n",
      "all labels =  39427\n"
     ]
    },
    {
     "name": "stderr",
     "output_type": "stream",
     "text": [
      "INFO:root:Will decode content from http://release.geneontology.org/2014-06-01/ontology/go.obo using utf-8 charset.\n",
      "INFO:root:Calculating labels...\n",
      "100%|██████████| 113/113 [15:25<00:00,  8.19s/it]"
     ]
    },
    {
     "name": "stdout",
     "output_type": "stream",
     "text": [
      "http://release.geneontology.org/2014-06-01/ontology/go.obo\n",
      "new labels =  0\n",
      "new obsolete =  91\n",
      "all labels =  39326\n"
     ]
    },
    {
     "name": "stderr",
     "output_type": "stream",
     "text": [
      "\n"
     ]
    }
   ],
   "source": [
    "\n",
    "with open('Gene Ontology Data Archive.html','r') as handle:\n",
    "    soup = BeautifulSoup(handle,'html.parser')\n",
    "\n",
    "#Get all dates from releases during the last 10 years\n",
    "dates=list(\n",
    "    filter(lambda date: pd.to_datetime(date,format='%Y-%m-%d')>=pd.to_datetime('2014-06-01'),\n",
    "        map(\n",
    "            lambda x: x.get_text()[:-1],\n",
    "            soup.findAll(lambda tag: tag.name =='a' and 'data-prefix' in tag.attrs)\n",
    "            )\n",
    "        )\n",
    "    )\n",
    "\n",
    "urls = [f'http://release.geneontology.org/{date}/ontology/go.obo' for date in dates]\n",
    "\n",
    "\n",
    "prev_used_labels,prev_obsolete_labels = set(),set()\n",
    "\n",
    "data = {'dates':[],'new_labels':[],'obsolete_labels':[],'used_labels':[]}\n",
    "\n",
    "for date,url in tqdm(zip(dates,urls),total=len(urls)):\n",
    "    used_labels,obsolete_labels = download_and_process_obo(url)\n",
    "    print(url)\n",
    "    data['dates'].append(date)\n",
    "\n",
    "    new_labels = len(used_labels-prev_used_labels)\n",
    "    obsolete_labels.update(prev_used_labels-used_labels) #augment obslete with other labels that simply don't show up\n",
    "    new_obsolete_labels = len((obsolete_labels-prev_obsolete_labels))\n",
    "\n",
    "    data['new_labels'].append(new_labels)\n",
    "    data['obsolete_labels'].append(new_obsolete_labels)\n",
    "    data['used_labels'].append(len(used_labels))\n",
    "\n",
    "\n",
    "    print('new labels = ',new_labels)\n",
    "    print('new obsolete = ',new_obsolete_labels)\n",
    "    print('all labels = ',len(used_labels))\n",
    "\n",
    "    prev_used_labels.update(used_labels)\n",
    "    prev_obsolete_labels.update(obsolete_labels)\n"
   ]
  },
  {
   "cell_type": "code",
   "execution_count": 11,
   "metadata": {},
   "outputs": [
    {
     "data": {
      "text/html": [
       "<div>\n",
       "<style scoped>\n",
       "    .dataframe tbody tr th:only-of-type {\n",
       "        vertical-align: middle;\n",
       "    }\n",
       "\n",
       "    .dataframe tbody tr th {\n",
       "        vertical-align: top;\n",
       "    }\n",
       "\n",
       "    .dataframe thead th {\n",
       "        text-align: right;\n",
       "    }\n",
       "</style>\n",
       "<table border=\"1\" class=\"dataframe\">\n",
       "  <thead>\n",
       "    <tr style=\"text-align: right;\">\n",
       "      <th></th>\n",
       "      <th>new_labels</th>\n",
       "      <th>obsolete_labels</th>\n",
       "      <th>used_labels</th>\n",
       "    </tr>\n",
       "    <tr>\n",
       "      <th>dates</th>\n",
       "      <th></th>\n",
       "      <th></th>\n",
       "      <th></th>\n",
       "    </tr>\n",
       "  </thead>\n",
       "  <tbody>\n",
       "    <tr>\n",
       "      <th>2024-04-18</th>\n",
       "      <td>20</td>\n",
       "      <td>4</td>\n",
       "      <td>42271</td>\n",
       "    </tr>\n",
       "    <tr>\n",
       "      <th>2024-03-28</th>\n",
       "      <td>45</td>\n",
       "      <td>4</td>\n",
       "      <td>42312</td>\n",
       "    </tr>\n",
       "    <tr>\n",
       "      <th>2024-01-17</th>\n",
       "      <td>217</td>\n",
       "      <td>87</td>\n",
       "      <td>42442</td>\n",
       "    </tr>\n",
       "    <tr>\n",
       "      <th>2023-11-15</th>\n",
       "      <td>397</td>\n",
       "      <td>69</td>\n",
       "      <td>42769</td>\n",
       "    </tr>\n",
       "    <tr>\n",
       "      <th>2023-10-09</th>\n",
       "      <td>90</td>\n",
       "      <td>21</td>\n",
       "      <td>42837</td>\n",
       "    </tr>\n",
       "    <tr>\n",
       "      <th>...</th>\n",
       "      <td>...</td>\n",
       "      <td>...</td>\n",
       "      <td>...</td>\n",
       "    </tr>\n",
       "    <tr>\n",
       "      <th>2014-10-01</th>\n",
       "      <td>4</td>\n",
       "      <td>133</td>\n",
       "      <td>40021</td>\n",
       "    </tr>\n",
       "    <tr>\n",
       "      <th>2014-09-01</th>\n",
       "      <td>1</td>\n",
       "      <td>155</td>\n",
       "      <td>39852</td>\n",
       "    </tr>\n",
       "    <tr>\n",
       "      <th>2014-08-01</th>\n",
       "      <td>1</td>\n",
       "      <td>231</td>\n",
       "      <td>39601</td>\n",
       "    </tr>\n",
       "    <tr>\n",
       "      <th>2014-07-01</th>\n",
       "      <td>3</td>\n",
       "      <td>156</td>\n",
       "      <td>39427</td>\n",
       "    </tr>\n",
       "    <tr>\n",
       "      <th>2014-06-01</th>\n",
       "      <td>0</td>\n",
       "      <td>91</td>\n",
       "      <td>39326</td>\n",
       "    </tr>\n",
       "  </tbody>\n",
       "</table>\n",
       "<p>112 rows × 3 columns</p>\n",
       "</div>"
      ],
      "text/plain": [
       "            new_labels  obsolete_labels  used_labels\n",
       "dates                                               \n",
       "2024-04-18          20                4        42271\n",
       "2024-03-28          45                4        42312\n",
       "2024-01-17         217               87        42442\n",
       "2023-11-15         397               69        42769\n",
       "2023-10-09          90               21        42837\n",
       "...                ...              ...          ...\n",
       "2014-10-01           4              133        40021\n",
       "2014-09-01           1              155        39852\n",
       "2014-08-01           1              231        39601\n",
       "2014-07-01           3              156        39427\n",
       "2014-06-01           0               91        39326\n",
       "\n",
       "[112 rows x 3 columns]"
      ]
     },
     "execution_count": 11,
     "metadata": {},
     "output_type": "execute_result"
    }
   ],
   "source": [
    "df"
   ]
  },
  {
   "cell_type": "code",
   "execution_count": 7,
   "metadata": {},
   "outputs": [],
   "source": [
    "df = pd.DataFrame(data).set_index('dates')\n",
    "df.index = pd.to_datetime(df.index)\n",
    "df.to_parquet('go_annotations_by_release.parquet')"
   ]
  },
  {
   "cell_type": "code",
   "execution_count": 2,
   "metadata": {},
   "outputs": [],
   "source": [
    "df = pd.read_parquet('go_annotations_by_release.parquet')"
   ]
  },
  {
   "cell_type": "code",
   "execution_count": 4,
   "metadata": {},
   "outputs": [],
   "source": []
  },
  {
   "cell_type": "code",
   "execution_count": 7,
   "metadata": {},
   "outputs": [
    {
     "data": {
      "image/png": "[encoded data removed]",
      "text/plain": [
       "<Figure size 1100x800 with 1 Axes>"
      ]
     },
     "metadata": {},
     "output_type": "display_data"
    }
   ],
   "source": [
    "plt.rcParams['font.size'] = 30\n",
    "# plt.rcParams['font.weight'] = 'bold'\n",
    "# plt.rcParams['axes.labelweight']='bold'\n",
    "\n",
    "df = df.iloc[1:]\n",
    "fig,ax = plt.subplots(figsize=(11,8))\n",
    "sns_data = df.groupby([pd.Grouper(level='dates',freq='YS')])[['new_labels','obsolete_labels']]\\\n",
    "    .sum()\\\n",
    "    .melt(ignore_index=False,\n",
    "          var_name='Type of GO Term',\n",
    "          value_name='# GO Terms')\\\n",
    "    .replace({'new_labels':'Added','obsolete_labels':'Removed'})\n",
    "\n",
    "palette = {'Added':'#80ff80','Removed':'#ff5555'}\n",
    "sns.lineplot(data = sns_data,\n",
    "             x = 'dates',\n",
    "             y = '# GO Terms',\n",
    "             hue='Type of GO Term',\n",
    "             marker='o',\n",
    "             palette=palette,\n",
    "             linewidth=3,\n",
    "             markersize=10)\n",
    "plt.xlabel('')\n",
    "plt.xticks(rotation=30)\n",
    "sns.despine()\n",
    "plt.savefig(f'deleted_added_go_terms.png', format='png', dpi=1200,bbox_inches='tight')\n",
    "plt.show()\n"
   ]
  },
  {
   "cell_type": "code",
   "execution_count": 48,
   "metadata": {},
   "outputs": [
    {
     "name": "stdout",
     "output_type": "stream",
     "text": [
      "\n",
      "\n",
      "\n",
      "\n",
      "<tr>\n",
      "<th>Folders and files</th>\n",
      "<th>Folder</th>\n",
      "<th>Last Modified</th>\n",
      "<th>Timestamp</th>\n",
      "<th style=\"width:200px\">Size</th>\n",
      "</tr>\n",
      "\n",
      "\n",
      "\n",
      "\n",
      "\n",
      "\n"
     ]
    }
   ],
   "source": [
    "for i in a[0].children:\n",
    "    for j in i:\n",
    "        print(j)"
   ]
  },
  {
   "cell_type": "code",
   "execution_count": 54,
   "metadata": {},
   "outputs": [
    {
     "data": {
      "text/plain": [
       "[]"
      ]
     },
     "execution_count": 54,
     "metadata": {},
     "output_type": "execute_result"
    }
   ],
   "source": [
    "soup.find_all('td',class_='sorting_2')"
   ]
  },
  {
   "cell_type": "code",
   "execution_count": 56,
   "metadata": {},
   "outputs": [
    {
     "data": {
      "text/plain": [
       "[]"
      ]
     },
     "execution_count": 56,
     "metadata": {},
     "output_type": "execute_result"
    }
   ],
   "source": [
    "td_tags = soup.find_all('td', class_='sorting_2')\n",
    "[td.find('a').get_text() for td in td_tags if td.find('a')]"
   ]
  }
 ],
 "metadata": {
  "kernelspec": {
   "display_name": "protein_functions_310",
   "language": "python",
   "name": "python3"
  },
  "language_info": {
   "codemirror_mode": {
    "name": "ipython",
    "version": 3
   },
   "file_extension": ".py",
   "mimetype": "text/x-python",
   "name": "python",
   "nbconvert_exporter": "python",
   "pygments_lexer": "ipython3",
   "version": "3.10.13"
  }
 },
 "nbformat": 4,
 "nbformat_minor": 2
}
