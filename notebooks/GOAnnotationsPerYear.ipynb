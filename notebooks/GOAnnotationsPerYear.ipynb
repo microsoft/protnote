{
 "cells": [
  {
   "cell_type": "code",
   "execution_count": 8,
   "metadata": {},
   "outputs": [
    {
     "name": "stderr",
     "output_type": "stream",
     "text": [
      "INFO:root:Downloading and processing OBO file...\n",
      "INFO:root:Will decode content from http://release.geneontology.org/2019-07-01/ontology/go.obo using utf-8 charset.\n",
      "INFO:root:Calculating labels...\n",
      "INFO:root:Downloading and processing OBO file...\n"
     ]
    },
    {
     "name": "stdout",
     "output_type": "stream",
     "text": [
      "http://release.geneontology.org/2019-07-01/ontology/go.obo\n",
      "new labels =  44945\n",
      "new obsolete =  2456\n",
      "all labels =  47401\n"
     ]
    },
    {
     "name": "stderr",
     "output_type": "stream",
     "text": [
      "INFO:root:Will decode content from http://release.geneontology.org/2020-07-16/ontology/go.obo using utf-8 charset.\n",
      "INFO:root:Calculating labels...\n",
      "INFO:root:Downloading and processing OBO file...\n",
      "INFO:root:Will decode content from http://release.geneontology.org/2021-07-02/ontology/go.obo using utf-8 charset.\n"
     ]
    },
    {
     "name": "stdout",
     "output_type": "stream",
     "text": [
      "http://release.geneontology.org/2020-07-16/ontology/go.obo\n",
      "new labels =  342\n",
      "new obsolete =  503\n",
      "all labels =  344\n"
     ]
    },
    {
     "name": "stderr",
     "output_type": "stream",
     "text": [
      "INFO:root:Calculating labels...\n",
      "INFO:root:Downloading and processing OBO file...\n",
      "INFO:root:Will decode content from http://release.geneontology.org/2022-07-01/ontology/go.obo using utf-8 charset.\n"
     ]
    },
    {
     "name": "stdout",
     "output_type": "stream",
     "text": [
      "http://release.geneontology.org/2021-07-02/ontology/go.obo\n",
      "new labels =  340\n",
      "new obsolete =  354\n",
      "all labels =  341\n"
     ]
    },
    {
     "name": "stderr",
     "output_type": "stream",
     "text": [
      "INFO:root:Calculating labels...\n",
      "INFO:root:Downloading and processing OBO file...\n",
      "INFO:root:Will decode content from http://release.geneontology.org/2023-07-27/ontology/go.obo using utf-8 charset.\n"
     ]
    },
    {
     "name": "stdout",
     "output_type": "stream",
     "text": [
      "http://release.geneontology.org/2022-07-01/ontology/go.obo\n",
      "new labels =  267\n",
      "new obsolete =  461\n",
      "all labels =  265\n"
     ]
    },
    {
     "name": "stderr",
     "output_type": "stream",
     "text": [
      "INFO:root:Calculating labels...\n",
      "INFO:root:Downloading and processing OBO file...\n"
     ]
    },
    {
     "name": "stdout",
     "output_type": "stream",
     "text": [
      "http://release.geneontology.org/2023-07-27/ontology/go.obo\n",
      "new labels =  322\n",
      "new obsolete =  939\n",
      "all labels =  323\n"
     ]
    },
    {
     "name": "stderr",
     "output_type": "stream",
     "text": [
      "INFO:root:Will decode content from http://release.geneontology.org/2024-03-28/ontology/go.obo using utf-8 charset.\n",
      "INFO:root:Calculating labels...\n"
     ]
    },
    {
     "name": "stdout",
     "output_type": "stream",
     "text": [
      "http://release.geneontology.org/2024-03-28/ontology/go.obo\n",
      "new labels =  218\n",
      "new obsolete =  798\n",
      "all labels =  222\n"
     ]
    }
   ],
   "source": [
    "import obonet\n",
    "import pandas as pd\n",
    "import argparse\n",
    "import logging\n",
    "import re\n",
    "import numpy as np\n",
    "\n",
    "logging.basicConfig(level=logging.INFO)\n",
    "\n",
    "\n",
    "def calculate_label(row):\n",
    "    \"\"\"\n",
    "    Helper function to calculate the label for a given row.\n",
    "    Returns the definition of the row with any text between brackets removed.\n",
    "    \"\"\"\n",
    "    definition = row.get(\"def\", None)\n",
    "\n",
    "    # Remove any text between brackets, e.g., PubMed citations\n",
    "    # Remove leading and trailing quotation marks\n",
    "    if definition is not None:\n",
    "        definition = re.sub(r'\\s*\\[.*?\\]\\s*', '', definition)\n",
    "        definition = definition.strip('\"')\n",
    "        \n",
    "    return definition\n",
    "\n",
    "def process_synonyms(row)->dict:\n",
    "    \"\"\"extracts the synonyms of a GO Annotation\n",
    "\n",
    "    :param row: Row of GO annotation dataset\n",
    "    :type row: _type_\n",
    "    :return: dict\n",
    "    :rtype: lists of synonyms for relevant scopes\n",
    "    \"\"\"    \n",
    "    if row is np.nan or not row:\n",
    "        return {\"synonym_exact\": [], \"synonym_narrow\": [], \"synonym_related\": [], \"synonym_broad\": []}\n",
    "\n",
    "    scopes = {\"EXACT\": [], \"NARROW\": [], \"RELATED\": [], \"BROAD\": []}\n",
    "    for synonym in row:\n",
    "        match = re.search(r'\\\"(.+?)\\\"\\s+(EXACT|NARROW|RELATED|BROAD)\\s+\\[', synonym)\n",
    "        if match:\n",
    "            text, scope = match.groups()\n",
    "            scopes[scope].append(text)\n",
    "\n",
    "    return {\n",
    "        \"synonym_exact\": scopes[\"EXACT\"],\n",
    "        \"synonym_narrow\": scopes[\"NARROW\"],\n",
    "        \"synonym_related\": scopes[\"RELATED\"],\n",
    "        \"synonym_broad\": scopes[\"BROAD\"]\n",
    "    }\n",
    "\n",
    "\n",
    "def download_and_process_obo(url: str):\n",
    "    \"\"\"\n",
    "    Download the OBO file from the specified URL and save the GO ID and label to a pickle.\n",
    "    \"\"\"\n",
    "    logging.info(\"Downloading and processing OBO file...\")\n",
    "\n",
    "    # Load the .obo file directly from the URL into a networkx graph using obonet\n",
    "    graph = obonet.read_obo(url, ignore_obsolete=False)\n",
    "\n",
    "    # Convert the graph nodes (terms) into a pandas dataframe\n",
    "    df = pd.DataFrame.from_dict(dict(graph.nodes(data=True)), orient='index')\n",
    "\n",
    "    logging.info(\"Calculating labels...\")\n",
    "    # Create a new column called \"label\"\n",
    "    df[\"label\"] = df.apply(calculate_label, axis=1)\n",
    "\n",
    "    # Filter the dataframe to retain only 'label', 'name' and 'synonym' columns, with the 'id' column as the index\n",
    "    df_filtered = df[['label','name']+['is_obsolete']]\n",
    "\n",
    "    obsolete_labels = set(df_filtered[df_filtered['is_obsolete']==\"true\"].index)\n",
    "    used_labels = set(df_filtered.index) - obsolete_labels\n",
    "    return used_labels,obsolete_labels\n",
    "\n",
    "\n",
    "dates = ['2019-07-01','2020-07-16','2021-07-02','2022-07-01','2023-07-27','2024-03-28']\n",
    "urls = [f'http://release.geneontology.org/{date}/ontology/go.obo' for date in dates]\n",
    "\n",
    "\n",
    "prev_used_labels,prev_obsolete_labels,prev_all_labels = set(),set(),set()\n",
    "\n",
    "for url in urls:\n",
    "    used_labels,obsolete_labels = download_and_process_obo(url)\n",
    "    print(url)\n",
    "    print('new labels = ',len(used_labels-prev_used_labels))\n",
    "    print('new obsolete = ',len(obsolete_labels-prev_obsolete_labels))\n",
    "    print('all labels = ',len(obsolete_labels.union(used_labels)-prev_all_labels))\n",
    "\n",
    "    prev_used_labels.update(used_labels)\n",
    "    prev_obsolete_labels.update(obsolete_labels)\n",
    "    prev_all_labels = prev_used_labels.union(prev_obsolete_labels)\n"
   ]
  },
  {
   "cell_type": "code",
   "execution_count": 9,
   "metadata": {},
   "outputs": [
    {
     "data": {
      "text/plain": [
       "48896"
      ]
     },
     "execution_count": 9,
     "metadata": {},
     "output_type": "execute_result"
    }
   ],
   "source": [
    "len(prev_all_labels)"
   ]
  },
  {
   "cell_type": "code",
   "execution_count": null,
   "metadata": {},
   "outputs": [],
   "source": []
  }
 ],
 "metadata": {
  "kernelspec": {
   "display_name": "protein_functions_310",
   "language": "python",
   "name": "python3"
  },
  "language_info": {
   "codemirror_mode": {
    "name": "ipython",
    "version": 3
   },
   "file_extension": ".py",
   "mimetype": "text/x-python",
   "name": "python",
   "nbconvert_exporter": "python",
   "pygments_lexer": "ipython3",
   "version": "3.10.13"
  }
 },
 "nbformat": 4,
 "nbformat_minor": 2
}
