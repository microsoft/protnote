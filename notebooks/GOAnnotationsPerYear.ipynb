{
 "cells": [
  {
   "cell_type": "code",
   "execution_count": 2,
   "metadata": {},
   "outputs": [],
   "source": [
    "import obonet\n",
    "import pandas as pd\n",
    "import argparse\n",
    "import logging\n",
    "import re\n",
    "import numpy as np\n",
    "from tqdm import tqdm\n",
    "import seaborn as sns\n",
    "from bs4 import BeautifulSoup\n",
    "import matplotlib.pyplot as plt\n",
    "\n",
    "logging.basicConfig(level=logging.INFO)\n",
    "\n",
    "\n",
    "def calculate_label(row):\n",
    "    \"\"\"\n",
    "    Helper function to calculate the label for a given row.\n",
    "    Returns the definition of the row with any text between brackets removed.\n",
    "    \"\"\"\n",
    "    definition = row.get(\"def\", None)\n",
    "\n",
    "    # Remove any text between brackets, e.g., PubMed citations\n",
    "    # Remove leading and trailing quotation marks\n",
    "    if definition is not None:\n",
    "        definition = re.sub(r'\\s*\\[.*?\\]\\s*', '', definition)\n",
    "        definition = definition.strip('\"')\n",
    "        \n",
    "    return definition\n",
    "\n",
    "def process_synonyms(row)->dict:\n",
    "    \"\"\"extracts the synonyms of a GO Annotation\n",
    "\n",
    "    :param row: Row of GO annotation dataset\n",
    "    :type row: _type_\n",
    "    :return: dict\n",
    "    :rtype: lists of synonyms for relevant scopes\n",
    "    \"\"\"    \n",
    "    if row is np.nan or not row:\n",
    "        return {\"synonym_exact\": [], \"synonym_narrow\": [], \"synonym_related\": [], \"synonym_broad\": []}\n",
    "\n",
    "    scopes = {\"EXACT\": [], \"NARROW\": [], \"RELATED\": [], \"BROAD\": []}\n",
    "    for synonym in row:\n",
    "        match = re.search(r'\\\"(.+?)\\\"\\s+(EXACT|NARROW|RELATED|BROAD)\\s+\\[', synonym)\n",
    "        if match:\n",
    "            text, scope = match.groups()\n",
    "            scopes[scope].append(text)\n",
    "\n",
    "    return {\n",
    "        \"synonym_exact\": scopes[\"EXACT\"],\n",
    "        \"synonym_narrow\": scopes[\"NARROW\"],\n",
    "        \"synonym_related\": scopes[\"RELATED\"],\n",
    "        \"synonym_broad\": scopes[\"BROAD\"]\n",
    "    }\n",
    "\n",
    "\n",
    "def download_and_process_obo(url: str):\n",
    "    \"\"\"\n",
    "    Download the OBO file from the specified URL and save the GO ID and label to a pickle.\n",
    "    \"\"\"\n",
    "    logging.info(\"Downloading and processing OBO file...\")\n",
    "\n",
    "    # Load the .obo file directly from the URL into a networkx graph using obonet\n",
    "    graph = obonet.read_obo(url, ignore_obsolete=False)\n",
    "\n",
    "    # Convert the graph nodes (terms) into a pandas dataframe\n",
    "    df = pd.DataFrame.from_dict(dict(graph.nodes(data=True)), orient='index')\n",
    "\n",
    "    logging.info(\"Calculating labels...\")\n",
    "    # Create a new column called \"label\"\n",
    "    df[\"label\"] = df.apply(calculate_label, axis=1)\n",
    "\n",
    "    # Filter the dataframe to retain only 'label', 'name' and 'synonym' columns, with the 'id' column as the index\n",
    "    df_filtered = df[['label','name']+['is_obsolete']]\n",
    "\n",
    "    obsolete_labels = set(df_filtered[df_filtered['is_obsolete']==\"true\"].index)\n",
    "    used_labels = set(df_filtered.index) - obsolete_labels\n",
    "    return used_labels,obsolete_labels"
   ]
  },
  {
   "cell_type": "code",
   "execution_count": 111,
   "metadata": {},
   "outputs": [
    {
     "name": "stderr",
     "output_type": "stream",
     "text": [
      "  0%|          | 0/113 [00:00<?, ?it/s]INFO:root:Downloading and processing OBO file...\n"
     ]
    },
    {
     "name": "stderr",
     "output_type": "stream",
     "text": [
      "INFO:root:Will decode content from http://release.geneontology.org/2024-04-24/ontology/go.obo using utf-8 charset.\n",
      "INFO:root:Calculating labels...\n",
      "  1%|          | 1/113 [00:06<12:06,  6.49s/it]INFO:root:Downloading and processing OBO file...\n",
      "INFO:root:Will decode content from http://release.geneontology.org/2024-04-18/ontology/go.obo using utf-8 charset.\n"
     ]
    },
    {
     "name": "stdout",
     "output_type": "stream",
     "text": [
      "http://release.geneontology.org/2024-04-24/ontology/go.obo\n",
      "new labels =  42255\n",
      "new obsolete =  5570\n",
      "all labels =  42255\n"
     ]
    },
    {
     "name": "stderr",
     "output_type": "stream",
     "text": [
      "INFO:root:Calculating labels...\n",
      "  2%|▏         | 2/113 [00:12<11:49,  6.39s/it]INFO:root:Downloading and processing OBO file...\n",
      "INFO:root:Will decode content from http://release.geneontology.org/2024-03-28/ontology/go.obo using utf-8 charset.\n"
     ]
    },
    {
     "name": "stdout",
     "output_type": "stream",
     "text": [
      "http://release.geneontology.org/2024-04-18/ontology/go.obo\n",
      "new labels =  20\n",
      "new obsolete =  4\n",
      "all labels =  42271\n"
     ]
    },
    {
     "name": "stderr",
     "output_type": "stream",
     "text": [
      "INFO:root:Calculating labels...\n",
      "  3%|▎         | 3/113 [00:19<11:43,  6.40s/it]INFO:root:Downloading and processing OBO file...\n",
      "INFO:root:Will decode content from http://release.geneontology.org/2024-01-17/ontology/go.obo using utf-8 charset.\n"
     ]
    },
    {
     "name": "stdout",
     "output_type": "stream",
     "text": [
      "http://release.geneontology.org/2024-03-28/ontology/go.obo\n",
      "new labels =  45\n",
      "new obsolete =  4\n",
      "all labels =  42312\n"
     ]
    },
    {
     "name": "stderr",
     "output_type": "stream",
     "text": [
      "INFO:root:Calculating labels...\n",
      "  4%|▎         | 4/113 [00:25<11:32,  6.35s/it]INFO:root:Downloading and processing OBO file...\n",
      "INFO:root:Will decode content from http://release.geneontology.org/2023-11-15/ontology/go.obo using utf-8 charset.\n"
     ]
    },
    {
     "name": "stdout",
     "output_type": "stream",
     "text": [
      "http://release.geneontology.org/2024-01-17/ontology/go.obo\n",
      "new labels =  217\n",
      "new obsolete =  87\n",
      "all labels =  42442\n"
     ]
    },
    {
     "name": "stderr",
     "output_type": "stream",
     "text": [
      "INFO:root:Calculating labels...\n",
      "  4%|▍         | 5/113 [00:31<11:24,  6.34s/it]INFO:root:Downloading and processing OBO file...\n",
      "INFO:root:Will decode content from http://release.geneontology.org/2023-10-09/ontology/go.obo using utf-8 charset.\n"
     ]
    },
    {
     "name": "stdout",
     "output_type": "stream",
     "text": [
      "http://release.geneontology.org/2023-11-15/ontology/go.obo\n",
      "new labels =  397\n",
      "new obsolete =  69\n",
      "all labels =  42769\n"
     ]
    },
    {
     "name": "stderr",
     "output_type": "stream",
     "text": [
      "INFO:root:Calculating labels...\n",
      "  5%|▌         | 6/113 [00:38<11:16,  6.32s/it]INFO:root:Downloading and processing OBO file...\n",
      "INFO:root:Will decode content from http://release.geneontology.org/2023-07-27/ontology/go.obo using utf-8 charset.\n"
     ]
    },
    {
     "name": "stdout",
     "output_type": "stream",
     "text": [
      "http://release.geneontology.org/2023-10-09/ontology/go.obo\n",
      "new labels =  90\n",
      "new obsolete =  21\n",
      "all labels =  42837\n"
     ]
    },
    {
     "name": "stderr",
     "output_type": "stream",
     "text": [
      "INFO:root:Calculating labels...\n",
      "  6%|▌         | 7/113 [00:44<11:12,  6.34s/it]INFO:root:Downloading and processing OBO file...\n"
     ]
    },
    {
     "name": "stdout",
     "output_type": "stream",
     "text": [
      "http://release.geneontology.org/2023-07-27/ontology/go.obo\n",
      "new labels =  92\n",
      "new obsolete =  40\n",
      "all labels =  42887\n"
     ]
    },
    {
     "name": "stderr",
     "output_type": "stream",
     "text": [
      "INFO:root:Will decode content from http://release.geneontology.org/2023-06-11/ontology/go.obo using utf-8 charset.\n",
      "INFO:root:Calculating labels...\n",
      "  7%|▋         | 8/113 [00:50<10:59,  6.28s/it]INFO:root:Downloading and processing OBO file...\n",
      "INFO:root:Will decode content from http://release.geneontology.org/2023-05-10/ontology/go.obo using utf-8 charset.\n"
     ]
    },
    {
     "name": "stdout",
     "output_type": "stream",
     "text": [
      "http://release.geneontology.org/2023-06-11/ontology/go.obo\n",
      "new labels =  101\n",
      "new obsolete =  35\n",
      "all labels =  42950\n"
     ]
    },
    {
     "name": "stderr",
     "output_type": "stream",
     "text": [
      "INFO:root:Calculating labels...\n",
      "  8%|▊         | 9/113 [00:56<10:54,  6.29s/it]INFO:root:Downloading and processing OBO file...\n",
      "INFO:root:Will decode content from http://release.geneontology.org/2023-04-01/ontology/go.obo using utf-8 charset.\n"
     ]
    },
    {
     "name": "stdout",
     "output_type": "stream",
     "text": [
      "http://release.geneontology.org/2023-05-10/ontology/go.obo\n",
      "new labels =  102\n",
      "new obsolete =  44\n",
      "all labels =  43008\n"
     ]
    },
    {
     "name": "stderr",
     "output_type": "stream",
     "text": [
      "INFO:root:Calculating labels...\n",
      "  9%|▉         | 10/113 [01:03<10:45,  6.26s/it]INFO:root:Downloading and processing OBO file...\n"
     ]
    },
    {
     "name": "stdout",
     "output_type": "stream",
     "text": [
      "http://release.geneontology.org/2023-04-01/ontology/go.obo\n",
      "new labels =  102\n",
      "new obsolete =  17\n",
      "all labels =  43093\n"
     ]
    },
    {
     "name": "stderr",
     "output_type": "stream",
     "text": [
      "INFO:root:Will decode content from http://release.geneontology.org/2023-03-06/ontology/go.obo using utf-8 charset.\n",
      "INFO:root:Calculating labels...\n",
      " 10%|▉         | 11/113 [01:09<10:39,  6.27s/it]INFO:root:Downloading and processing OBO file...\n",
      "INFO:root:Will decode content from http://release.geneontology.org/2023-01-01/ontology/go.obo using utf-8 charset.\n"
     ]
    },
    {
     "name": "stdout",
     "output_type": "stream",
     "text": [
      "http://release.geneontology.org/2023-03-06/ontology/go.obo\n",
      "new labels =  16\n",
      "new obsolete =  14\n",
      "all labels =  43096\n"
     ]
    },
    {
     "name": "stderr",
     "output_type": "stream",
     "text": [
      "INFO:root:Calculating labels...\n",
      " 11%|█         | 12/113 [01:15<10:34,  6.28s/it]INFO:root:Downloading and processing OBO file...\n"
     ]
    },
    {
     "name": "stdout",
     "output_type": "stream",
     "text": [
      "http://release.geneontology.org/2023-01-01/ontology/go.obo\n",
      "new labels =  219\n",
      "new obsolete =  67\n",
      "all labels =  43248\n"
     ]
    },
    {
     "name": "stderr",
     "output_type": "stream",
     "text": [
      "INFO:root:Will decode content from http://release.geneontology.org/2022-12-04/ontology/go.obo using utf-8 charset.\n",
      "INFO:root:Calculating labels...\n",
      " 12%|█▏        | 13/113 [01:22<10:34,  6.35s/it]INFO:root:Downloading and processing OBO file...\n",
      "INFO:root:Will decode content from http://release.geneontology.org/2022-11-03/ontology/go.obo using utf-8 charset.\n"
     ]
    },
    {
     "name": "stdout",
     "output_type": "stream",
     "text": [
      "http://release.geneontology.org/2022-12-04/ontology/go.obo\n",
      "new labels =  35\n",
      "new obsolete =  10\n",
      "all labels =  43272\n"
     ]
    },
    {
     "name": "stderr",
     "output_type": "stream",
     "text": [
      "INFO:root:Calculating labels...\n",
      " 12%|█▏        | 14/113 [01:28<10:25,  6.31s/it]INFO:root:Downloading and processing OBO file...\n",
      "INFO:root:Will decode content from http://release.geneontology.org/2022-10-07/ontology/go.obo using utf-8 charset.\n"
     ]
    },
    {
     "name": "stdout",
     "output_type": "stream",
     "text": [
      "http://release.geneontology.org/2022-11-03/ontology/go.obo\n",
      "new labels =  39\n",
      "new obsolete =  8\n",
      "all labels =  43303\n"
     ]
    },
    {
     "name": "stderr",
     "output_type": "stream",
     "text": [
      "INFO:root:Calculating labels...\n",
      " 13%|█▎        | 15/113 [01:34<10:12,  6.25s/it]INFO:root:Downloading and processing OBO file...\n",
      "INFO:root:Will decode content from http://release.geneontology.org/2022-09-19/ontology/go.obo using utf-8 charset.\n"
     ]
    },
    {
     "name": "stdout",
     "output_type": "stream",
     "text": [
      "http://release.geneontology.org/2022-10-07/ontology/go.obo\n",
      "new labels =  75\n",
      "new obsolete =  49\n",
      "all labels =  43329\n"
     ]
    },
    {
     "name": "stderr",
     "output_type": "stream",
     "text": [
      "INFO:root:Calculating labels...\n",
      " 14%|█▍        | 16/113 [01:40<10:09,  6.28s/it]INFO:root:Downloading and processing OBO file...\n"
     ]
    },
    {
     "name": "stdout",
     "output_type": "stream",
     "text": [
      "http://release.geneontology.org/2022-09-19/ontology/go.obo\n",
      "new labels =  24\n",
      "new obsolete =  18\n",
      "all labels =  43335\n"
     ]
    },
    {
     "name": "stderr",
     "output_type": "stream",
     "text": [
      "INFO:root:Will decode content from http://release.geneontology.org/2022-07-01/ontology/go.obo using utf-8 charset.\n",
      "INFO:root:Calculating labels...\n",
      " 15%|█▌        | 17/113 [01:47<10:00,  6.26s/it]INFO:root:Downloading and processing OBO file...\n",
      "INFO:root:Will decode content from http://release.geneontology.org/2022-06-15/ontology/go.obo using utf-8 charset.\n"
     ]
    },
    {
     "name": "stdout",
     "output_type": "stream",
     "text": [
      "http://release.geneontology.org/2022-07-01/ontology/go.obo\n",
      "new labels =  282\n",
      "new obsolete =  59\n",
      "all labels =  43558\n"
     ]
    },
    {
     "name": "stderr",
     "output_type": "stream",
     "text": [
      "INFO:root:Calculating labels...\n",
      " 16%|█▌        | 18/113 [01:53<09:51,  6.23s/it]INFO:root:Downloading and processing OBO file...\n",
      "INFO:root:Will decode content from http://release.geneontology.org/2022-05-16/ontology/go.obo using utf-8 charset.\n"
     ]
    },
    {
     "name": "stdout",
     "output_type": "stream",
     "text": [
      "http://release.geneontology.org/2022-06-15/ontology/go.obo\n",
      "new labels =  78\n",
      "new obsolete =  23\n",
      "all labels =  43613\n"
     ]
    },
    {
     "name": "stderr",
     "output_type": "stream",
     "text": [
      "INFO:root:Calculating labels...\n",
      " 17%|█▋        | 19/113 [01:59<09:48,  6.26s/it]INFO:root:Downloading and processing OBO file...\n",
      "INFO:root:Will decode content from http://release.geneontology.org/2022-03-22/ontology/go.obo using utf-8 charset.\n"
     ]
    },
    {
     "name": "stdout",
     "output_type": "stream",
     "text": [
      "http://release.geneontology.org/2022-05-16/ontology/go.obo\n",
      "new labels =  72\n",
      "new obsolete =  37\n",
      "all labels =  43648\n"
     ]
    },
    {
     "name": "stderr",
     "output_type": "stream",
     "text": [
      "INFO:root:Calculating labels...\n",
      " 18%|█▊        | 20/113 [02:05<09:44,  6.28s/it]INFO:root:Downloading and processing OBO file...\n"
     ]
    },
    {
     "name": "stdout",
     "output_type": "stream",
     "text": [
      "http://release.geneontology.org/2022-03-22/ontology/go.obo\n",
      "new labels =  103\n",
      "new obsolete =  49\n",
      "all labels =  43699\n"
     ]
    },
    {
     "name": "stderr",
     "output_type": "stream",
     "text": [
      "INFO:root:Will decode content from http://release.geneontology.org/2022-03-10/ontology/go.obo using utf-8 charset.\n",
      "INFO:root:Calculating labels...\n",
      " 19%|█▊        | 21/113 [02:12<09:34,  6.25s/it]INFO:root:Downloading and processing OBO file...\n",
      "INFO:root:Will decode content from http://release.geneontology.org/2022-01-13/ontology/go.obo using utf-8 charset.\n"
     ]
    },
    {
     "name": "stdout",
     "output_type": "stream",
     "text": [
      "http://release.geneontology.org/2022-03-10/ontology/go.obo\n",
      "new labels =  13\n",
      "new obsolete =  8\n",
      "all labels =  43704\n"
     ]
    },
    {
     "name": "stderr",
     "output_type": "stream",
     "text": [
      "INFO:root:Calculating labels...\n",
      " 19%|█▉        | 22/113 [02:18<09:30,  6.27s/it]INFO:root:Downloading and processing OBO file...\n"
     ]
    },
    {
     "name": "stdout",
     "output_type": "stream",
     "text": [
      "http://release.geneontology.org/2022-01-13/ontology/go.obo\n",
      "new labels =  116\n",
      "new obsolete =  34\n",
      "all labels =  43786\n"
     ]
    },
    {
     "name": "stderr",
     "output_type": "stream",
     "text": [
      "INFO:root:Will decode content from http://release.geneontology.org/2021-12-15/ontology/go.obo using utf-8 charset.\n",
      "INFO:root:Calculating labels...\n",
      " 20%|██        | 23/113 [02:24<09:16,  6.18s/it]INFO:root:Downloading and processing OBO file...\n",
      "INFO:root:Will decode content from http://release.geneontology.org/2021-11-16/ontology/go.obo using utf-8 charset.\n"
     ]
    },
    {
     "name": "stdout",
     "output_type": "stream",
     "text": [
      "http://release.geneontology.org/2021-12-15/ontology/go.obo\n",
      "new labels =  12\n",
      "new obsolete =  8\n",
      "all labels =  43789\n"
     ]
    },
    {
     "name": "stderr",
     "output_type": "stream",
     "text": [
      "INFO:root:Calculating labels...\n",
      " 21%|██        | 24/113 [02:30<09:13,  6.21s/it]INFO:root:Downloading and processing OBO file...\n",
      "INFO:root:Will decode content from http://release.geneontology.org/2021-10-26/ontology/go.obo using utf-8 charset.\n"
     ]
    },
    {
     "name": "stdout",
     "output_type": "stream",
     "text": [
      "http://release.geneontology.org/2021-11-16/ontology/go.obo\n",
      "new labels =  37\n",
      "new obsolete =  35\n",
      "all labels =  43791\n"
     ]
    },
    {
     "name": "stderr",
     "output_type": "stream",
     "text": [
      "INFO:root:Calculating labels...\n",
      " 22%|██▏       | 25/113 [02:36<09:04,  6.19s/it]INFO:root:Downloading and processing OBO file...\n",
      "INFO:root:Will decode content from http://release.geneontology.org/2021-09-01/ontology/go.obo using utf-8 charset.\n"
     ]
    },
    {
     "name": "stdout",
     "output_type": "stream",
     "text": [
      "http://release.geneontology.org/2021-10-26/ontology/go.obo\n",
      "new labels =  50\n",
      "new obsolete =  9\n",
      "all labels =  43832\n"
     ]
    },
    {
     "name": "stderr",
     "output_type": "stream",
     "text": [
      "INFO:root:Calculating labels...\n",
      " 23%|██▎       | 26/113 [02:42<08:57,  6.18s/it]INFO:root:Downloading and processing OBO file...\n",
      "INFO:root:Will decode content from http://release.geneontology.org/2021-08-18/ontology/go.obo using utf-8 charset.\n"
     ]
    },
    {
     "name": "stdout",
     "output_type": "stream",
     "text": [
      "http://release.geneontology.org/2021-09-01/ontology/go.obo\n",
      "new labels =  41\n",
      "new obsolete =  22\n",
      "all labels =  43850\n"
     ]
    },
    {
     "name": "stderr",
     "output_type": "stream",
     "text": [
      "INFO:root:Calculating labels...\n",
      " 24%|██▍       | 27/113 [02:49<08:55,  6.22s/it]INFO:root:Downloading and processing OBO file...\n"
     ]
    },
    {
     "name": "stdout",
     "output_type": "stream",
     "text": [
      "http://release.geneontology.org/2021-08-18/ontology/go.obo\n",
      "new labels =  36\n",
      "new obsolete =  8\n",
      "all labels =  43878\n"
     ]
    },
    {
     "name": "stderr",
     "output_type": "stream",
     "text": [
      "INFO:root:Will decode content from http://release.geneontology.org/2021-07-02/ontology/go.obo using utf-8 charset.\n",
      "INFO:root:Calculating labels...\n",
      " 25%|██▍       | 28/113 [02:56<09:05,  6.42s/it]INFO:root:Downloading and processing OBO file...\n"
     ]
    },
    {
     "name": "stdout",
     "output_type": "stream",
     "text": [
      "http://release.geneontology.org/2021-07-02/ontology/go.obo\n",
      "new labels =  68\n",
      "new obsolete =  29\n",
      "all labels =  43917\n"
     ]
    },
    {
     "name": "stderr",
     "output_type": "stream",
     "text": [
      "INFO:root:Will decode content from http://release.geneontology.org/2021-06-16/ontology/go.obo using utf-8 charset.\n",
      "INFO:root:Calculating labels...\n",
      " 26%|██▌       | 29/113 [03:02<08:57,  6.40s/it]INFO:root:Downloading and processing OBO file...\n"
     ]
    },
    {
     "name": "stdout",
     "output_type": "stream",
     "text": [
      "http://release.geneontology.org/2021-06-16/ontology/go.obo\n",
      "new labels =  18\n",
      "new obsolete =  18\n",
      "all labels =  43917\n"
     ]
    },
    {
     "name": "stderr",
     "output_type": "stream",
     "text": [
      "INFO:root:Will decode content from http://release.geneontology.org/2021-05-01/ontology/go.obo using utf-8 charset.\n",
      "INFO:root:Calculating labels...\n",
      " 27%|██▋       | 30/113 [03:09<08:54,  6.44s/it]INFO:root:Downloading and processing OBO file...\n"
     ]
    },
    {
     "name": "stdout",
     "output_type": "stream",
     "text": [
      "http://release.geneontology.org/2021-05-01/ontology/go.obo\n",
      "new labels =  100\n",
      "new obsolete =  28\n",
      "all labels =  43987\n"
     ]
    },
    {
     "name": "stderr",
     "output_type": "stream",
     "text": [
      "INFO:root:Will decode content from http://release.geneontology.org/2021-02-01/ontology/go.obo using utf-8 charset.\n",
      "INFO:root:Calculating labels...\n",
      " 27%|██▋       | 31/113 [03:16<09:05,  6.65s/it]INFO:root:Downloading and processing OBO file...\n"
     ]
    },
    {
     "name": "stdout",
     "output_type": "stream",
     "text": [
      "http://release.geneontology.org/2021-02-01/ontology/go.obo\n",
      "new labels =  189\n",
      "new obsolete =  89\n",
      "all labels =  44085\n"
     ]
    },
    {
     "name": "stderr",
     "output_type": "stream",
     "text": [
      "INFO:root:Will decode content from http://release.geneontology.org/2021-01-01/ontology/go.obo using utf-8 charset.\n",
      "INFO:root:Calculating labels...\n",
      " 28%|██▊       | 32/113 [03:23<09:17,  6.88s/it]INFO:root:Downloading and processing OBO file...\n"
     ]
    },
    {
     "name": "stdout",
     "output_type": "stream",
     "text": [
      "http://release.geneontology.org/2021-01-01/ontology/go.obo\n",
      "new labels =  29\n",
      "new obsolete =  23\n",
      "all labels =  44091\n"
     ]
    },
    {
     "name": "stderr",
     "output_type": "stream",
     "text": [
      "INFO:root:Will decode content from http://release.geneontology.org/2020-12-08/ontology/go.obo using utf-8 charset.\n",
      "INFO:root:Calculating labels...\n",
      " 29%|██▉       | 33/113 [03:31<09:30,  7.13s/it]INFO:root:Downloading and processing OBO file...\n"
     ]
    },
    {
     "name": "stdout",
     "output_type": "stream",
     "text": [
      "http://release.geneontology.org/2020-12-08/ontology/go.obo\n",
      "new labels =  36\n",
      "new obsolete =  10\n",
      "all labels =  44117\n"
     ]
    },
    {
     "name": "stderr",
     "output_type": "stream",
     "text": [
      "INFO:root:Will decode content from http://release.geneontology.org/2020-11-17/ontology/go.obo using utf-8 charset.\n",
      "INFO:root:Calculating labels...\n",
      " 30%|███       | 34/113 [03:38<09:32,  7.25s/it]INFO:root:Downloading and processing OBO file...\n"
     ]
    },
    {
     "name": "stdout",
     "output_type": "stream",
     "text": [
      "http://release.geneontology.org/2020-11-17/ontology/go.obo\n",
      "new labels =  62\n",
      "new obsolete =  9\n",
      "all labels =  44167\n"
     ]
    },
    {
     "name": "stderr",
     "output_type": "stream",
     "text": [
      "INFO:root:Will decode content from http://release.geneontology.org/2020-10-09/ontology/go.obo using utf-8 charset.\n",
      "INFO:root:Calculating labels...\n",
      " 31%|███       | 35/113 [03:46<09:42,  7.47s/it]INFO:root:Downloading and processing OBO file...\n"
     ]
    },
    {
     "name": "stdout",
     "output_type": "stream",
     "text": [
      "http://release.geneontology.org/2020-10-09/ontology/go.obo\n",
      "new labels =  144\n",
      "new obsolete =  45\n",
      "all labels =  44264\n"
     ]
    },
    {
     "name": "stderr",
     "output_type": "stream",
     "text": [
      "INFO:root:Will decode content from http://release.geneontology.org/2020-09-10/ontology/go.obo using utf-8 charset.\n",
      "INFO:root:Calculating labels...\n",
      " 32%|███▏      | 36/113 [03:54<09:41,  7.56s/it]INFO:root:Downloading and processing OBO file...\n"
     ]
    },
    {
     "name": "stdout",
     "output_type": "stream",
     "text": [
      "http://release.geneontology.org/2020-09-10/ontology/go.obo\n",
      "new labels =  53\n",
      "new obsolete =  44\n",
      "all labels =  44272\n"
     ]
    },
    {
     "name": "stderr",
     "output_type": "stream",
     "text": [
      "INFO:root:Will decode content from http://release.geneontology.org/2020-08-10/ontology/go.obo using utf-8 charset.\n",
      "INFO:root:Calculating labels...\n",
      " 33%|███▎      | 37/113 [04:02<09:34,  7.56s/it]INFO:root:Downloading and processing OBO file...\n"
     ]
    },
    {
     "name": "stdout",
     "output_type": "stream",
     "text": [
      "http://release.geneontology.org/2020-08-10/ontology/go.obo\n",
      "new labels =  36\n",
      "new obsolete =  46\n",
      "all labels =  44262\n"
     ]
    },
    {
     "name": "stderr",
     "output_type": "stream",
     "text": [
      "INFO:root:Will decode content from http://release.geneontology.org/2020-07-16/ontology/go.obo using utf-8 charset.\n",
      "INFO:root:Calculating labels...\n",
      " 34%|███▎      | 38/113 [04:09<09:26,  7.55s/it]INFO:root:Downloading and processing OBO file...\n"
     ]
    },
    {
     "name": "stdout",
     "output_type": "stream",
     "text": [
      "http://release.geneontology.org/2020-07-16/ontology/go.obo\n",
      "new labels =  3\n",
      "new obsolete =  21\n",
      "all labels =  44244\n"
     ]
    },
    {
     "name": "stderr",
     "output_type": "stream",
     "text": [
      "INFO:root:Will decode content from http://release.geneontology.org/2020-06-01/ontology/go.obo using utf-8 charset.\n",
      "INFO:root:Calculating labels...\n",
      " 35%|███▍      | 39/113 [04:17<09:18,  7.55s/it]INFO:root:Downloading and processing OBO file...\n"
     ]
    },
    {
     "name": "stdout",
     "output_type": "stream",
     "text": [
      "http://release.geneontology.org/2020-06-01/ontology/go.obo\n",
      "new labels =  205\n",
      "new obsolete =  38\n",
      "all labels =  44411\n"
     ]
    },
    {
     "name": "stderr",
     "output_type": "stream",
     "text": [
      "INFO:root:Will decode content from http://release.geneontology.org/2020-05-02/ontology/go.obo using utf-8 charset.\n",
      "INFO:root:Calculating labels...\n",
      " 35%|███▌      | 40/113 [04:25<09:15,  7.61s/it]INFO:root:Downloading and processing OBO file...\n"
     ]
    },
    {
     "name": "stdout",
     "output_type": "stream",
     "text": [
      "http://release.geneontology.org/2020-05-02/ontology/go.obo\n",
      "new labels =  114\n",
      "new obsolete =  16\n",
      "all labels =  44508\n"
     ]
    },
    {
     "name": "stderr",
     "output_type": "stream",
     "text": [
      "INFO:root:Will decode content from http://release.geneontology.org/2020-04-23/ontology/go.obo using utf-8 charset.\n",
      "INFO:root:Calculating labels...\n",
      " 36%|███▋      | 41/113 [04:32<09:06,  7.60s/it]INFO:root:Downloading and processing OBO file...\n"
     ]
    },
    {
     "name": "stdout",
     "output_type": "stream",
     "text": [
      "http://release.geneontology.org/2020-04-23/ontology/go.obo\n",
      "new labels =  17\n",
      "new obsolete =  6\n",
      "all labels =  44519\n"
     ]
    },
    {
     "name": "stderr",
     "output_type": "stream",
     "text": [
      "INFO:root:Will decode content from http://release.geneontology.org/2020-03-25/ontology/go.obo using utf-8 charset.\n",
      "INFO:root:Calculating labels...\n",
      " 37%|███▋      | 42/113 [04:40<09:02,  7.64s/it]INFO:root:Downloading and processing OBO file...\n"
     ]
    },
    {
     "name": "stdout",
     "output_type": "stream",
     "text": [
      "http://release.geneontology.org/2020-03-25/ontology/go.obo\n",
      "new labels =  45\n",
      "new obsolete =  32\n",
      "all labels =  44531\n"
     ]
    },
    {
     "name": "stderr",
     "output_type": "stream",
     "text": [
      "INFO:root:Will decode content from http://release.geneontology.org/2020-02-26/ontology/go.obo using utf-8 charset.\n",
      "INFO:root:Calculating labels...\n",
      " 38%|███▊      | 43/113 [04:47<08:48,  7.55s/it]INFO:root:Downloading and processing OBO file...\n"
     ]
    },
    {
     "name": "stdout",
     "output_type": "stream",
     "text": [
      "http://release.geneontology.org/2020-02-26/ontology/go.obo\n",
      "new labels =  75\n",
      "new obsolete =  27\n",
      "all labels =  44579\n"
     ]
    },
    {
     "name": "stderr",
     "output_type": "stream",
     "text": [
      "INFO:root:Will decode content from http://release.geneontology.org/2020-01-01/ontology/go.obo using utf-8 charset.\n",
      "INFO:root:Calculating labels...\n",
      " 39%|███▉      | 44/113 [04:55<08:38,  7.51s/it]INFO:root:Downloading and processing OBO file...\n"
     ]
    },
    {
     "name": "stdout",
     "output_type": "stream",
     "text": [
      "http://release.geneontology.org/2020-01-01/ontology/go.obo\n",
      "new labels =  191\n",
      "new obsolete =  64\n",
      "all labels =  44700\n"
     ]
    },
    {
     "name": "stderr",
     "output_type": "stream",
     "text": [
      "INFO:root:Will decode content from http://release.geneontology.org/2019-12-09/ontology/go.obo using utf-8 charset.\n",
      "INFO:root:Calculating labels...\n",
      " 40%|███▉      | 45/113 [05:02<08:32,  7.53s/it]INFO:root:Downloading and processing OBO file...\n"
     ]
    },
    {
     "name": "stdout",
     "output_type": "stream",
     "text": [
      "http://release.geneontology.org/2019-12-09/ontology/go.obo\n",
      "new labels =  6\n",
      "new obsolete =  31\n",
      "all labels =  44674\n"
     ]
    },
    {
     "name": "stderr",
     "output_type": "stream",
     "text": [
      "INFO:root:Will decode content from http://release.geneontology.org/2019-11-01/ontology/go.obo using utf-8 charset.\n",
      "INFO:root:Calculating labels...\n",
      " 41%|████      | 46/113 [05:10<08:28,  7.59s/it]INFO:root:Downloading and processing OBO file...\n"
     ]
    },
    {
     "name": "stdout",
     "output_type": "stream",
     "text": [
      "http://release.geneontology.org/2019-11-01/ontology/go.obo\n",
      "new labels =  55\n",
      "new obsolete =  79\n",
      "all labels =  44650\n"
     ]
    },
    {
     "name": "stderr",
     "output_type": "stream",
     "text": [
      "INFO:root:Will decode content from http://release.geneontology.org/2019-10-07/ontology/go.obo using utf-8 charset.\n",
      "INFO:root:Calculating labels...\n",
      " 42%|████▏     | 47/113 [05:17<08:16,  7.53s/it]INFO:root:Downloading and processing OBO file...\n"
     ]
    },
    {
     "name": "stdout",
     "output_type": "stream",
     "text": [
      "http://release.geneontology.org/2019-10-07/ontology/go.obo\n",
      "new labels =  99\n",
      "new obsolete =  16\n",
      "all labels =  44733\n"
     ]
    },
    {
     "name": "stderr",
     "output_type": "stream",
     "text": [
      "INFO:root:Will decode content from http://release.geneontology.org/2019-07-01/ontology/go.obo using utf-8 charset.\n",
      "INFO:root:Calculating labels...\n",
      " 42%|████▏     | 48/113 [05:25<08:12,  7.58s/it]INFO:root:Downloading and processing OBO file...\n"
     ]
    },
    {
     "name": "stdout",
     "output_type": "stream",
     "text": [
      "http://release.geneontology.org/2019-07-01/ontology/go.obo\n",
      "new labels =  271\n",
      "new obsolete =  56\n",
      "all labels =  44945\n"
     ]
    },
    {
     "name": "stderr",
     "output_type": "stream",
     "text": [
      "INFO:root:Will decode content from http://release.geneontology.org/2019-06-09/ontology/go.obo using utf-8 charset.\n",
      "INFO:root:Calculating labels...\n",
      " 43%|████▎     | 49/113 [05:33<08:04,  7.57s/it]INFO:root:Downloading and processing OBO file...\n"
     ]
    },
    {
     "name": "stdout",
     "output_type": "stream",
     "text": [
      "http://release.geneontology.org/2019-06-09/ontology/go.obo\n",
      "new labels =  68\n",
      "new obsolete =  19\n",
      "all labels =  44990\n"
     ]
    },
    {
     "name": "stderr",
     "output_type": "stream",
     "text": [
      "INFO:root:Will decode content from http://release.geneontology.org/2019-06-01/ontology/go.obo using utf-8 charset.\n",
      "INFO:root:Calculating labels...\n",
      " 44%|████▍     | 50/113 [05:40<07:56,  7.57s/it]INFO:root:Downloading and processing OBO file...\n"
     ]
    },
    {
     "name": "stdout",
     "output_type": "stream",
     "text": [
      "http://release.geneontology.org/2019-06-01/ontology/go.obo\n",
      "new labels =  19\n",
      "new obsolete =  3\n",
      "all labels =  45006\n"
     ]
    },
    {
     "name": "stderr",
     "output_type": "stream",
     "text": [
      "INFO:root:Will decode content from http://release.geneontology.org/2019-05-09/ontology/go.obo using utf-8 charset.\n",
      "INFO:root:Calculating labels...\n",
      " 45%|████▌     | 51/113 [05:48<07:47,  7.55s/it]INFO:root:Downloading and processing OBO file...\n"
     ]
    },
    {
     "name": "stdout",
     "output_type": "stream",
     "text": [
      "http://release.geneontology.org/2019-05-09/ontology/go.obo\n",
      "new labels =  60\n",
      "new obsolete =  41\n",
      "all labels =  45024\n"
     ]
    },
    {
     "name": "stderr",
     "output_type": "stream",
     "text": [
      "INFO:root:Will decode content from http://release.geneontology.org/2019-04-17/ontology/go.obo using utf-8 charset.\n",
      "INFO:root:Calculating labels...\n",
      " 46%|████▌     | 52/113 [05:55<07:42,  7.58s/it]INFO:root:Downloading and processing OBO file...\n"
     ]
    },
    {
     "name": "stdout",
     "output_type": "stream",
     "text": [
      "http://release.geneontology.org/2019-04-17/ontology/go.obo\n",
      "new labels =  11\n",
      "new obsolete =  17\n",
      "all labels =  45017\n"
     ]
    },
    {
     "name": "stderr",
     "output_type": "stream",
     "text": [
      "INFO:root:Will decode content from http://release.geneontology.org/2019-03-18/ontology/go.obo using utf-8 charset.\n",
      "INFO:root:Calculating labels...\n",
      " 47%|████▋     | 53/113 [06:03<07:35,  7.58s/it]INFO:root:Downloading and processing OBO file...\n"
     ]
    },
    {
     "name": "stdout",
     "output_type": "stream",
     "text": [
      "http://release.geneontology.org/2019-03-18/ontology/go.obo\n",
      "new labels =  18\n",
      "new obsolete =  21\n",
      "all labels =  45006\n"
     ]
    },
    {
     "name": "stderr",
     "output_type": "stream",
     "text": [
      "INFO:root:Will decode content from http://release.geneontology.org/2019-03-10/ontology/go.obo using utf-8 charset.\n",
      "INFO:root:Calculating labels...\n",
      " 48%|████▊     | 54/113 [06:10<07:26,  7.57s/it]INFO:root:Downloading and processing OBO file...\n"
     ]
    },
    {
     "name": "stdout",
     "output_type": "stream",
     "text": [
      "http://release.geneontology.org/2019-03-10/ontology/go.obo\n",
      "new labels =  23\n",
      "new obsolete =  2\n",
      "all labels =  45027\n"
     ]
    },
    {
     "name": "stderr",
     "output_type": "stream",
     "text": [
      "INFO:root:Will decode content from http://release.geneontology.org/2019-02-01/ontology/go.obo using utf-8 charset.\n",
      "INFO:root:Calculating labels...\n",
      " 49%|████▊     | 55/113 [06:18<07:20,  7.59s/it]INFO:root:Downloading and processing OBO file...\n"
     ]
    },
    {
     "name": "stdout",
     "output_type": "stream",
     "text": [
      "http://release.geneontology.org/2019-02-01/ontology/go.obo\n",
      "new labels =  6\n",
      "new obsolete =  20\n",
      "all labels =  45013\n"
     ]
    },
    {
     "name": "stderr",
     "output_type": "stream",
     "text": [
      "INFO:root:Will decode content from http://release.geneontology.org/2019-01-01/ontology/go.obo using utf-8 charset.\n",
      "INFO:root:Calculating labels...\n",
      " 50%|████▉     | 56/113 [06:25<07:08,  7.52s/it]INFO:root:Downloading and processing OBO file...\n"
     ]
    },
    {
     "name": "stdout",
     "output_type": "stream",
     "text": [
      "http://release.geneontology.org/2019-01-01/ontology/go.obo\n",
      "new labels =  0\n",
      "new obsolete =  7\n",
      "all labels =  45003\n"
     ]
    },
    {
     "name": "stderr",
     "output_type": "stream",
     "text": [
      "INFO:root:Will decode content from http://release.geneontology.org/2018-12-01/ontology/go.obo using utf-8 charset.\n",
      "INFO:root:Calculating labels...\n",
      " 50%|█████     | 57/113 [06:33<07:01,  7.53s/it]INFO:root:Downloading and processing OBO file...\n"
     ]
    },
    {
     "name": "stdout",
     "output_type": "stream",
     "text": [
      "http://release.geneontology.org/2018-12-01/ontology/go.obo\n",
      "new labels =  37\n",
      "new obsolete =  8\n",
      "all labels =  45032\n"
     ]
    },
    {
     "name": "stderr",
     "output_type": "stream",
     "text": [
      "INFO:root:Will decode content from http://release.geneontology.org/2018-11-15/ontology/go.obo using utf-8 charset.\n",
      "INFO:root:Calculating labels...\n",
      " 51%|█████▏    | 58/113 [06:40<06:53,  7.51s/it]INFO:root:Downloading and processing OBO file...\n"
     ]
    },
    {
     "name": "stdout",
     "output_type": "stream",
     "text": [
      "http://release.geneontology.org/2018-11-15/ontology/go.obo\n",
      "new labels =  1\n",
      "new obsolete =  22\n",
      "all labels =  45007\n"
     ]
    },
    {
     "name": "stderr",
     "output_type": "stream",
     "text": [
      "INFO:root:Will decode content from http://release.geneontology.org/2018-10-08/ontology/go.obo using utf-8 charset.\n",
      "INFO:root:Calculating labels...\n",
      " 52%|█████▏    | 59/113 [06:48<06:51,  7.62s/it]INFO:root:Downloading and processing OBO file...\n"
     ]
    },
    {
     "name": "stdout",
     "output_type": "stream",
     "text": [
      "http://release.geneontology.org/2018-10-08/ontology/go.obo\n",
      "new labels =  62\n",
      "new obsolete =  24\n",
      "all labels =  45043\n"
     ]
    },
    {
     "name": "stderr",
     "output_type": "stream",
     "text": [
      "INFO:root:Will decode content from http://release.geneontology.org/2018-10-01/ontology/go.obo using utf-8 charset.\n",
      "INFO:root:Calculating labels...\n",
      " 53%|█████▎    | 60/113 [06:56<06:50,  7.74s/it]INFO:root:Downloading and processing OBO file...\n"
     ]
    },
    {
     "name": "stdout",
     "output_type": "stream",
     "text": [
      "http://release.geneontology.org/2018-10-01/ontology/go.obo\n",
      "new labels =  6\n",
      "new obsolete =  5\n",
      "all labels =  45044\n"
     ]
    },
    {
     "name": "stderr",
     "output_type": "stream",
     "text": [
      "INFO:root:Will decode content from http://release.geneontology.org/2018-09-05/ontology/go.obo using utf-8 charset.\n",
      "INFO:root:Calculating labels...\n",
      " 54%|█████▍    | 61/113 [07:04<06:42,  7.75s/it]INFO:root:Downloading and processing OBO file...\n"
     ]
    },
    {
     "name": "stdout",
     "output_type": "stream",
     "text": [
      "http://release.geneontology.org/2018-09-05/ontology/go.obo\n",
      "new labels =  17\n",
      "new obsolete =  28\n",
      "all labels =  45032\n"
     ]
    },
    {
     "name": "stderr",
     "output_type": "stream",
     "text": [
      "INFO:root:Will decode content from http://release.geneontology.org/2018-08-09/ontology/go.obo using utf-8 charset.\n",
      "INFO:root:Calculating labels...\n",
      " 55%|█████▍    | 62/113 [07:12<06:39,  7.83s/it]INFO:root:Downloading and processing OBO file...\n"
     ]
    },
    {
     "name": "stdout",
     "output_type": "stream",
     "text": [
      "http://release.geneontology.org/2018-08-09/ontology/go.obo\n",
      "new labels =  4\n",
      "new obsolete =  33\n",
      "all labels =  45003\n"
     ]
    },
    {
     "name": "stderr",
     "output_type": "stream",
     "text": [
      "INFO:root:Will decode content from http://release.geneontology.org/2018-07-02/ontology/go.obo using utf-8 charset.\n",
      "INFO:root:Calculating labels...\n",
      " 56%|█████▌    | 63/113 [07:20<06:34,  7.90s/it]INFO:root:Downloading and processing OBO file...\n"
     ]
    },
    {
     "name": "stdout",
     "output_type": "stream",
     "text": [
      "http://release.geneontology.org/2018-07-02/ontology/go.obo\n",
      "new labels =  22\n",
      "new obsolete =  77\n",
      "all labels =  44947\n"
     ]
    },
    {
     "name": "stderr",
     "output_type": "stream",
     "text": [
      "INFO:root:Will decode content from http://release.geneontology.org/2018-06-01/ontology/go.obo using utf-8 charset.\n",
      "INFO:root:Calculating labels...\n",
      " 57%|█████▋    | 64/113 [07:28<06:27,  7.91s/it]INFO:root:Downloading and processing OBO file...\n"
     ]
    },
    {
     "name": "stdout",
     "output_type": "stream",
     "text": [
      "http://release.geneontology.org/2018-06-01/ontology/go.obo\n",
      "new labels =  37\n",
      "new obsolete =  17\n",
      "all labels =  44968\n"
     ]
    },
    {
     "name": "stderr",
     "output_type": "stream",
     "text": [
      "INFO:root:Will decode content from http://release.geneontology.org/2018-05-20/ontology/go.obo using utf-8 charset.\n",
      "INFO:root:Calculating labels...\n",
      " 58%|█████▊    | 65/113 [07:36<06:21,  7.96s/it]INFO:root:Downloading and processing OBO file...\n"
     ]
    },
    {
     "name": "stdout",
     "output_type": "stream",
     "text": [
      "http://release.geneontology.org/2018-05-20/ontology/go.obo\n",
      "new labels =  14\n",
      "new obsolete =  10\n",
      "all labels =  44970\n"
     ]
    },
    {
     "name": "stderr",
     "output_type": "stream",
     "text": [
      "INFO:root:Will decode content from http://release.geneontology.org/2018-04-02/ontology/go.obo using utf-8 charset.\n",
      "INFO:root:Calculating labels...\n",
      " 58%|█████▊    | 66/113 [07:44<06:11,  7.90s/it]INFO:root:Downloading and processing OBO file...\n"
     ]
    },
    {
     "name": "stdout",
     "output_type": "stream",
     "text": [
      "http://release.geneontology.org/2018-04-02/ontology/go.obo\n",
      "new labels =  41\n",
      "new obsolete =  87\n",
      "all labels =  44922\n"
     ]
    },
    {
     "name": "stderr",
     "output_type": "stream",
     "text": [
      "INFO:root:Will decode content from http://release.geneontology.org/2018-03-10/ontology/go.obo using utf-8 charset.\n",
      "INFO:root:Calculating labels...\n",
      " 59%|█████▉    | 67/113 [07:52<06:02,  7.89s/it]INFO:root:Downloading and processing OBO file...\n"
     ]
    },
    {
     "name": "stdout",
     "output_type": "stream",
     "text": [
      "http://release.geneontology.org/2018-03-10/ontology/go.obo\n",
      "new labels =  43\n",
      "new obsolete =  26\n",
      "all labels =  44939\n"
     ]
    },
    {
     "name": "stderr",
     "output_type": "stream",
     "text": [
      "INFO:root:Will decode content from http://release.geneontology.org/2018-03-06/ontology/go.obo using utf-8 charset.\n",
      "INFO:root:Calculating labels...\n",
      " 60%|██████    | 68/113 [08:00<05:56,  7.92s/it]INFO:root:Downloading and processing OBO file...\n"
     ]
    },
    {
     "name": "stdout",
     "output_type": "stream",
     "text": [
      "http://release.geneontology.org/2018-03-06/ontology/go.obo\n",
      "new labels =  6\n",
      "new obsolete =  3\n",
      "all labels =  44942\n"
     ]
    },
    {
     "name": "stderr",
     "output_type": "stream",
     "text": [
      "INFO:root:Will decode content from http://release.geneontology.org/2018-02-01/ontology/go.obo using utf-8 charset.\n",
      "INFO:root:Calculating labels...\n",
      " 61%|██████    | 69/113 [08:07<05:42,  7.79s/it]INFO:root:Downloading and processing OBO file...\n"
     ]
    },
    {
     "name": "stdout",
     "output_type": "stream",
     "text": [
      "http://release.geneontology.org/2018-02-01/ontology/go.obo\n",
      "new labels =  145\n",
      "new obsolete =  110\n",
      "all labels =  44970\n"
     ]
    },
    {
     "name": "stderr",
     "output_type": "stream",
     "text": [
      "INFO:root:Will decode content from http://release.geneontology.org/2018-01-01/ontology/go.obo using utf-8 charset.\n",
      "INFO:root:Calculating labels...\n",
      " 62%|██████▏   | 70/113 [08:15<05:36,  7.82s/it]INFO:root:Downloading and processing OBO file...\n"
     ]
    },
    {
     "name": "stdout",
     "output_type": "stream",
     "text": [
      "http://release.geneontology.org/2018-01-01/ontology/go.obo\n",
      "new labels =  53\n",
      "new obsolete =  22\n",
      "all labels =  45001\n"
     ]
    },
    {
     "name": "stderr",
     "output_type": "stream",
     "text": [
      "INFO:root:Will decode content from http://release.geneontology.org/2017-12-01/ontology/go.obo using utf-8 charset.\n",
      "INFO:root:Calculating labels...\n",
      " 63%|██████▎   | 71/113 [08:23<05:29,  7.84s/it]INFO:root:Downloading and processing OBO file...\n"
     ]
    },
    {
     "name": "stdout",
     "output_type": "stream",
     "text": [
      "http://release.geneontology.org/2017-12-01/ontology/go.obo\n",
      "new labels =  14\n",
      "new obsolete =  56\n",
      "all labels =  44955\n"
     ]
    },
    {
     "name": "stderr",
     "output_type": "stream",
     "text": [
      "INFO:root:Will decode content from http://release.geneontology.org/2017-11-01/ontology/go.obo using utf-8 charset.\n",
      "INFO:root:Calculating labels...\n",
      " 64%|██████▎   | 72/113 [08:31<05:20,  7.82s/it]INFO:root:Downloading and processing OBO file...\n"
     ]
    },
    {
     "name": "stdout",
     "output_type": "stream",
     "text": [
      "http://release.geneontology.org/2017-11-01/ontology/go.obo\n",
      "new labels =  60\n",
      "new obsolete =  44\n",
      "all labels =  44969\n"
     ]
    },
    {
     "name": "stderr",
     "output_type": "stream",
     "text": [
      "INFO:root:Will decode content from http://release.geneontology.org/2017-10-01/ontology/go.obo using utf-8 charset.\n",
      "INFO:root:Calculating labels...\n",
      " 65%|██████▍   | 73/113 [08:39<05:12,  7.82s/it]INFO:root:Downloading and processing OBO file...\n"
     ]
    },
    {
     "name": "stdout",
     "output_type": "stream",
     "text": [
      "http://release.geneontology.org/2017-10-01/ontology/go.obo\n",
      "new labels =  51\n",
      "new obsolete =  44\n",
      "all labels =  44977\n"
     ]
    },
    {
     "name": "stderr",
     "output_type": "stream",
     "text": [
      "INFO:root:Will decode content from http://release.geneontology.org/2017-09-01/ontology/go.obo using utf-8 charset.\n",
      "INFO:root:Calculating labels...\n",
      " 65%|██████▌   | 74/113 [08:46<05:04,  7.81s/it]INFO:root:Downloading and processing OBO file...\n"
     ]
    },
    {
     "name": "stdout",
     "output_type": "stream",
     "text": [
      "http://release.geneontology.org/2017-09-01/ontology/go.obo\n",
      "new labels =  12\n",
      "new obsolete =  51\n",
      "all labels =  44931\n"
     ]
    },
    {
     "name": "stderr",
     "output_type": "stream",
     "text": [
      "INFO:root:Will decode content from http://release.geneontology.org/2017-08-01/ontology/go.obo using utf-8 charset.\n",
      "INFO:root:Calculating labels...\n",
      " 66%|██████▋   | 75/113 [08:54<04:57,  7.84s/it]INFO:root:Downloading and processing OBO file...\n"
     ]
    },
    {
     "name": "stdout",
     "output_type": "stream",
     "text": [
      "http://release.geneontology.org/2017-08-01/ontology/go.obo\n",
      "new labels =  31\n",
      "new obsolete =  64\n",
      "all labels =  44890\n"
     ]
    },
    {
     "name": "stderr",
     "output_type": "stream",
     "text": [
      "INFO:root:Will decode content from http://release.geneontology.org/2017-07-01/ontology/go.obo using utf-8 charset.\n",
      "INFO:root:Calculating labels...\n",
      " 67%|██████▋   | 76/113 [09:02<04:50,  7.86s/it]INFO:root:Downloading and processing OBO file...\n"
     ]
    },
    {
     "name": "stdout",
     "output_type": "stream",
     "text": [
      "http://release.geneontology.org/2017-07-01/ontology/go.obo\n",
      "new labels =  49\n",
      "new obsolete =  81\n",
      "all labels =  44844\n"
     ]
    },
    {
     "name": "stderr",
     "output_type": "stream",
     "text": [
      "INFO:root:Will decode content from http://release.geneontology.org/2017-06-01/ontology/go.obo using utf-8 charset.\n",
      "INFO:root:Calculating labels...\n",
      " 68%|██████▊   | 77/113 [09:10<04:44,  7.89s/it]INFO:root:Downloading and processing OBO file...\n"
     ]
    },
    {
     "name": "stdout",
     "output_type": "stream",
     "text": [
      "http://release.geneontology.org/2017-06-01/ontology/go.obo\n",
      "new labels =  5\n",
      "new obsolete =  211\n",
      "all labels =  44616\n"
     ]
    },
    {
     "name": "stderr",
     "output_type": "stream",
     "text": [
      "INFO:root:Will decode content from http://release.geneontology.org/2017-05-01/ontology/go.obo using utf-8 charset.\n",
      "INFO:root:Calculating labels...\n",
      " 69%|██████▉   | 78/113 [09:18<04:35,  7.87s/it]INFO:root:Downloading and processing OBO file...\n"
     ]
    },
    {
     "name": "stdout",
     "output_type": "stream",
     "text": [
      "http://release.geneontology.org/2017-05-01/ontology/go.obo\n",
      "new labels =  6\n",
      "new obsolete =  78\n",
      "all labels =  44538\n"
     ]
    },
    {
     "name": "stderr",
     "output_type": "stream",
     "text": [
      "INFO:root:Will decode content from http://release.geneontology.org/2017-04-01/ontology/go.obo using utf-8 charset.\n",
      "INFO:root:Calculating labels...\n",
      " 70%|██████▉   | 79/113 [09:26<04:24,  7.78s/it]INFO:root:Downloading and processing OBO file...\n"
     ]
    },
    {
     "name": "stdout",
     "output_type": "stream",
     "text": [
      "http://release.geneontology.org/2017-04-01/ontology/go.obo\n",
      "new labels =  44\n",
      "new obsolete =  49\n",
      "all labels =  44528\n"
     ]
    },
    {
     "name": "stderr",
     "output_type": "stream",
     "text": [
      "INFO:root:Will decode content from http://release.geneontology.org/2017-03-01/ontology/go.obo using utf-8 charset.\n",
      "INFO:root:Calculating labels...\n",
      " 71%|███████   | 80/113 [09:34<04:18,  7.84s/it]INFO:root:Downloading and processing OBO file...\n"
     ]
    },
    {
     "name": "stdout",
     "output_type": "stream",
     "text": [
      "http://release.geneontology.org/2017-03-01/ontology/go.obo\n",
      "new labels =  46\n",
      "new obsolete =  111\n",
      "all labels =  44449\n"
     ]
    },
    {
     "name": "stderr",
     "output_type": "stream",
     "text": [
      "INFO:root:Will decode content from http://release.geneontology.org/2017-02-01/ontology/go.obo using utf-8 charset.\n",
      "INFO:root:Calculating labels...\n",
      " 72%|███████▏  | 81/113 [09:41<04:09,  7.81s/it]INFO:root:Downloading and processing OBO file...\n"
     ]
    },
    {
     "name": "stdout",
     "output_type": "stream",
     "text": [
      "http://release.geneontology.org/2017-02-01/ontology/go.obo\n",
      "new labels =  15\n",
      "new obsolete =  132\n",
      "all labels =  44307\n"
     ]
    },
    {
     "name": "stderr",
     "output_type": "stream",
     "text": [
      "INFO:root:Will decode content from http://release.geneontology.org/2017-01-01/ontology/go.obo using utf-8 charset.\n",
      "INFO:root:Calculating labels...\n",
      " 73%|███████▎  | 82/113 [09:49<04:02,  7.83s/it]INFO:root:Downloading and processing OBO file...\n"
     ]
    },
    {
     "name": "stdout",
     "output_type": "stream",
     "text": [
      "http://release.geneontology.org/2017-01-01/ontology/go.obo\n",
      "new labels =  13\n",
      "new obsolete =  317\n",
      "all labels =  43973\n"
     ]
    },
    {
     "name": "stderr",
     "output_type": "stream",
     "text": [
      "INFO:root:Will decode content from http://release.geneontology.org/2016-12-01/ontology/go.obo using utf-8 charset.\n",
      "INFO:root:Calculating labels...\n",
      " 73%|███████▎  | 83/113 [09:57<03:54,  7.80s/it]INFO:root:Downloading and processing OBO file...\n"
     ]
    },
    {
     "name": "stdout",
     "output_type": "stream",
     "text": [
      "http://release.geneontology.org/2016-12-01/ontology/go.obo\n",
      "new labels =  6\n",
      "new obsolete =  79\n",
      "all labels =  43896\n"
     ]
    },
    {
     "name": "stderr",
     "output_type": "stream",
     "text": [
      "INFO:root:Will decode content from http://release.geneontology.org/2016-11-01/ontology/go.obo using utf-8 charset.\n",
      "INFO:root:Calculating labels...\n",
      " 74%|███████▍  | 84/113 [10:05<03:45,  7.77s/it]INFO:root:Downloading and processing OBO file...\n"
     ]
    },
    {
     "name": "stdout",
     "output_type": "stream",
     "text": [
      "http://release.geneontology.org/2016-11-01/ontology/go.obo\n",
      "new labels =  8\n",
      "new obsolete =  244\n",
      "all labels =  43647\n"
     ]
    },
    {
     "name": "stderr",
     "output_type": "stream",
     "text": [
      "INFO:root:Will decode content from http://release.geneontology.org/2016-10-01/ontology/go.obo using utf-8 charset.\n",
      "INFO:root:Calculating labels...\n",
      " 75%|███████▌  | 85/113 [10:12<03:35,  7.68s/it]INFO:root:Downloading and processing OBO file...\n"
     ]
    },
    {
     "name": "stdout",
     "output_type": "stream",
     "text": [
      "http://release.geneontology.org/2016-10-01/ontology/go.obo\n",
      "new labels =  17\n",
      "new obsolete =  211\n",
      "all labels =  43435\n"
     ]
    },
    {
     "name": "stderr",
     "output_type": "stream",
     "text": [
      "INFO:root:Will decode content from http://release.geneontology.org/2016-09-01/ontology/go.obo using utf-8 charset.\n",
      "INFO:root:Calculating labels...\n",
      " 76%|███████▌  | 86/113 [10:20<03:30,  7.78s/it]INFO:root:Downloading and processing OBO file...\n"
     ]
    },
    {
     "name": "stdout",
     "output_type": "stream",
     "text": [
      "http://release.geneontology.org/2016-09-01/ontology/go.obo\n",
      "new labels =  7\n",
      "new obsolete =  132\n",
      "all labels =  43286\n"
     ]
    },
    {
     "name": "stderr",
     "output_type": "stream",
     "text": [
      "INFO:root:Will decode content from http://release.geneontology.org/2016-08-01/ontology/go.obo using utf-8 charset.\n",
      "INFO:root:Calculating labels...\n",
      " 77%|███████▋  | 87/113 [10:28<03:20,  7.72s/it]INFO:root:Downloading and processing OBO file...\n"
     ]
    },
    {
     "name": "stdout",
     "output_type": "stream",
     "text": [
      "http://release.geneontology.org/2016-08-01/ontology/go.obo\n",
      "new labels =  9\n",
      "new obsolete =  165\n",
      "all labels =  43127\n"
     ]
    },
    {
     "name": "stderr",
     "output_type": "stream",
     "text": [
      "INFO:root:Will decode content from http://release.geneontology.org/2016-07-01/ontology/go.obo using utf-8 charset.\n",
      "INFO:root:Calculating labels...\n",
      " 78%|███████▊  | 88/113 [10:35<03:13,  7.73s/it]INFO:root:Downloading and processing OBO file...\n"
     ]
    },
    {
     "name": "stdout",
     "output_type": "stream",
     "text": [
      "http://release.geneontology.org/2016-07-01/ontology/go.obo\n",
      "new labels =  0\n",
      "new obsolete =  76\n",
      "all labels =  43049\n"
     ]
    },
    {
     "name": "stderr",
     "output_type": "stream",
     "text": [
      "INFO:root:Will decode content from http://release.geneontology.org/2016-06-01/ontology/go.obo using utf-8 charset.\n",
      "INFO:root:Calculating labels...\n",
      " 79%|███████▉  | 89/113 [10:43<03:03,  7.64s/it]INFO:root:Downloading and processing OBO file...\n"
     ]
    },
    {
     "name": "stdout",
     "output_type": "stream",
     "text": [
      "http://release.geneontology.org/2016-06-01/ontology/go.obo\n",
      "new labels =  5\n",
      "new obsolete =  184\n",
      "all labels =  42819\n"
     ]
    },
    {
     "name": "stderr",
     "output_type": "stream",
     "text": [
      "INFO:root:Will decode content from http://release.geneontology.org/2016-05-01/ontology/go.obo using utf-8 charset.\n",
      "INFO:root:Calculating labels...\n",
      " 80%|███████▉  | 90/113 [10:50<02:54,  7.60s/it]INFO:root:Downloading and processing OBO file...\n"
     ]
    },
    {
     "name": "stdout",
     "output_type": "stream",
     "text": [
      "http://release.geneontology.org/2016-05-01/ontology/go.obo\n",
      "new labels =  21\n",
      "new obsolete =  106\n",
      "all labels =  42716\n"
     ]
    },
    {
     "name": "stderr",
     "output_type": "stream",
     "text": [
      "INFO:root:Will decode content from http://release.geneontology.org/2016-04-01/ontology/go.obo using utf-8 charset.\n",
      "INFO:root:Calculating labels...\n",
      " 81%|████████  | 91/113 [10:58<02:45,  7.54s/it]INFO:root:Downloading and processing OBO file...\n"
     ]
    },
    {
     "name": "stdout",
     "output_type": "stream",
     "text": [
      "http://release.geneontology.org/2016-04-01/ontology/go.obo\n",
      "new labels =  9\n",
      "new obsolete =  205\n",
      "all labels =  42511\n"
     ]
    },
    {
     "name": "stderr",
     "output_type": "stream",
     "text": [
      "INFO:root:Will decode content from http://release.geneontology.org/2016-03-01/ontology/go.obo using utf-8 charset.\n",
      "INFO:root:Calculating labels...\n",
      " 81%|████████▏ | 92/113 [11:05<02:38,  7.53s/it]INFO:root:Downloading and processing OBO file...\n"
     ]
    },
    {
     "name": "stdout",
     "output_type": "stream",
     "text": [
      "http://release.geneontology.org/2016-03-01/ontology/go.obo\n",
      "new labels =  14\n",
      "new obsolete =  173\n",
      "all labels =  42341\n"
     ]
    },
    {
     "name": "stderr",
     "output_type": "stream",
     "text": [
      "INFO:root:Will decode content from http://release.geneontology.org/2016-02-01/ontology/go.obo using utf-8 charset.\n",
      "INFO:root:Calculating labels...\n",
      " 82%|████████▏ | 93/113 [11:13<02:29,  7.49s/it]INFO:root:Downloading and processing OBO file...\n"
     ]
    },
    {
     "name": "stdout",
     "output_type": "stream",
     "text": [
      "http://release.geneontology.org/2016-02-01/ontology/go.obo\n",
      "new labels =  2\n",
      "new obsolete =  58\n",
      "all labels =  42277\n"
     ]
    },
    {
     "name": "stderr",
     "output_type": "stream",
     "text": [
      "INFO:root:Will decode content from http://release.geneontology.org/2016-01-01/ontology/go.obo using utf-8 charset.\n",
      "INFO:root:Calculating labels...\n",
      " 83%|████████▎ | 94/113 [11:22<02:32,  8.00s/it]INFO:root:Downloading and processing OBO file...\n"
     ]
    },
    {
     "name": "stdout",
     "output_type": "stream",
     "text": [
      "http://release.geneontology.org/2016-01-01/ontology/go.obo\n",
      "new labels =  0\n",
      "new obsolete =  164\n",
      "all labels =  42108\n"
     ]
    },
    {
     "name": "stderr",
     "output_type": "stream",
     "text": [
      "INFO:root:Will decode content from http://release.geneontology.org/2015-12-01/ontology/go.obo using utf-8 charset.\n",
      "INFO:root:Calculating labels...\n",
      " 84%|████████▍ | 95/113 [11:33<02:43,  9.08s/it]INFO:root:Downloading and processing OBO file...\n"
     ]
    },
    {
     "name": "stdout",
     "output_type": "stream",
     "text": [
      "http://release.geneontology.org/2015-12-01/ontology/go.obo\n",
      "new labels =  6\n",
      "new obsolete =  67\n",
      "all labels =  42045\n"
     ]
    },
    {
     "name": "stderr",
     "output_type": "stream",
     "text": [
      "INFO:root:Will decode content from http://release.geneontology.org/2015-11-01/ontology/go.obo using utf-8 charset.\n",
      "INFO:root:Calculating labels...\n",
      " 85%|████████▍ | 96/113 [11:41<02:26,  8.61s/it]INFO:root:Downloading and processing OBO file...\n"
     ]
    },
    {
     "name": "stdout",
     "output_type": "stream",
     "text": [
      "http://release.geneontology.org/2015-11-01/ontology/go.obo\n",
      "new labels =  1\n",
      "new obsolete =  87\n",
      "all labels =  41952\n"
     ]
    },
    {
     "name": "stderr",
     "output_type": "stream",
     "text": [
      "INFO:root:Will decode content from http://release.geneontology.org/2015-10-01/ontology/go.obo using utf-8 charset.\n",
      "INFO:root:Calculating labels...\n",
      " 86%|████████▌ | 97/113 [11:48<02:10,  8.18s/it]INFO:root:Downloading and processing OBO file...\n"
     ]
    },
    {
     "name": "stdout",
     "output_type": "stream",
     "text": [
      "http://release.geneontology.org/2015-10-01/ontology/go.obo\n",
      "new labels =  0\n",
      "new obsolete =  109\n",
      "all labels =  41833\n"
     ]
    },
    {
     "name": "stderr",
     "output_type": "stream",
     "text": [
      "INFO:root:Will decode content from http://release.geneontology.org/2015-09-01/ontology/go.obo using utf-8 charset.\n",
      "INFO:root:Calculating labels...\n",
      " 87%|████████▋ | 98/113 [11:56<01:59,  7.97s/it]INFO:root:Downloading and processing OBO file...\n"
     ]
    },
    {
     "name": "stdout",
     "output_type": "stream",
     "text": [
      "http://release.geneontology.org/2015-09-01/ontology/go.obo\n",
      "new labels =  0\n",
      "new obsolete =  92\n",
      "all labels =  41733\n"
     ]
    },
    {
     "name": "stderr",
     "output_type": "stream",
     "text": [
      "INFO:root:Will decode content from http://release.geneontology.org/2015-08-01/ontology/go.obo using utf-8 charset.\n",
      "INFO:root:Calculating labels...\n",
      " 88%|████████▊ | 99/113 [12:03<01:48,  7.75s/it]INFO:root:Downloading and processing OBO file...\n"
     ]
    },
    {
     "name": "stdout",
     "output_type": "stream",
     "text": [
      "http://release.geneontology.org/2015-08-01/ontology/go.obo\n",
      "new labels =  0\n",
      "new obsolete =  137\n",
      "all labels =  41589\n"
     ]
    },
    {
     "name": "stderr",
     "output_type": "stream",
     "text": [
      "INFO:root:Will decode content from http://release.geneontology.org/2015-07-01/ontology/go.obo using utf-8 charset.\n",
      "INFO:root:Calculating labels...\n",
      " 88%|████████▊ | 100/113 [12:10<01:38,  7.58s/it]INFO:root:Downloading and processing OBO file...\n"
     ]
    },
    {
     "name": "stdout",
     "output_type": "stream",
     "text": [
      "http://release.geneontology.org/2015-07-01/ontology/go.obo\n",
      "new labels =  14\n",
      "new obsolete =  165\n",
      "all labels =  41423\n"
     ]
    },
    {
     "name": "stderr",
     "output_type": "stream",
     "text": [
      "INFO:root:Will decode content from http://release.geneontology.org/2015-06-01/ontology/go.obo using utf-8 charset.\n",
      "INFO:root:Calculating labels...\n",
      " 89%|████████▉ | 101/113 [12:17<01:29,  7.48s/it]INFO:root:Downloading and processing OBO file...\n"
     ]
    },
    {
     "name": "stdout",
     "output_type": "stream",
     "text": [
      "http://release.geneontology.org/2015-06-01/ontology/go.obo\n",
      "new labels =  6\n",
      "new obsolete =  192\n",
      "all labels =  41232\n"
     ]
    },
    {
     "name": "stderr",
     "output_type": "stream",
     "text": [
      "INFO:root:Will decode content from http://release.geneontology.org/2015-05-01/ontology/go.obo using utf-8 charset.\n",
      "INFO:root:Calculating labels...\n",
      " 90%|█████████ | 102/113 [12:35<01:56, 10.55s/it]INFO:root:Downloading and processing OBO file...\n"
     ]
    },
    {
     "name": "stdout",
     "output_type": "stream",
     "text": [
      "http://release.geneontology.org/2015-05-01/ontology/go.obo\n",
      "new labels =  2\n",
      "new obsolete =  151\n",
      "all labels =  41077\n"
     ]
    },
    {
     "name": "stderr",
     "output_type": "stream",
     "text": [
      "INFO:root:Will decode content from http://release.geneontology.org/2015-04-01/ontology/go.obo using utf-8 charset.\n",
      "INFO:root:Calculating labels...\n",
      " 91%|█████████ | 103/113 [12:42<01:34,  9.47s/it]INFO:root:Downloading and processing OBO file...\n"
     ]
    },
    {
     "name": "stdout",
     "output_type": "stream",
     "text": [
      "http://release.geneontology.org/2015-04-01/ontology/go.obo\n",
      "new labels =  3\n",
      "new obsolete =  97\n",
      "all labels =  40911\n"
     ]
    },
    {
     "name": "stderr",
     "output_type": "stream",
     "text": [
      "INFO:root:Will decode content from http://release.geneontology.org/2015-03-01/ontology/go.obo using utf-8 charset.\n",
      "INFO:root:Calculating labels...\n",
      " 92%|█████████▏| 104/113 [12:49<01:18,  8.67s/it]INFO:root:Downloading and processing OBO file...\n"
     ]
    },
    {
     "name": "stdout",
     "output_type": "stream",
     "text": [
      "http://release.geneontology.org/2015-03-01/ontology/go.obo\n",
      "new labels =  5\n",
      "new obsolete =  190\n",
      "all labels =  40705\n"
     ]
    },
    {
     "name": "stderr",
     "output_type": "stream",
     "text": [
      "INFO:root:Will decode content from http://release.geneontology.org/2015-02-01/ontology/go.obo using utf-8 charset.\n",
      "INFO:root:Calculating labels...\n",
      " 93%|█████████▎| 105/113 [12:56<01:04,  8.10s/it]INFO:root:Downloading and processing OBO file...\n"
     ]
    },
    {
     "name": "stdout",
     "output_type": "stream",
     "text": [
      "http://release.geneontology.org/2015-02-01/ontology/go.obo\n",
      "new labels =  44\n",
      "new obsolete =  158\n",
      "all labels =  40590\n"
     ]
    },
    {
     "name": "stderr",
     "output_type": "stream",
     "text": [
      "INFO:root:Will decode content from http://release.geneontology.org/2015-01-01/ontology/go.obo using utf-8 charset.\n",
      "INFO:root:Calculating labels...\n",
      " 94%|█████████▍| 106/113 [13:03<00:54,  7.80s/it]INFO:root:Downloading and processing OBO file...\n"
     ]
    },
    {
     "name": "stdout",
     "output_type": "stream",
     "text": [
      "http://release.geneontology.org/2015-01-01/ontology/go.obo\n",
      "new labels =  17\n",
      "new obsolete =  132\n",
      "all labels =  40470\n"
     ]
    },
    {
     "name": "stderr",
     "output_type": "stream",
     "text": [
      "INFO:root:Will decode content from http://release.geneontology.org/2014-12-01/ontology/go.obo using utf-8 charset.\n",
      "INFO:root:Calculating labels...\n",
      " 95%|█████████▍| 107/113 [13:10<00:45,  7.54s/it]INFO:root:Downloading and processing OBO file...\n"
     ]
    },
    {
     "name": "stdout",
     "output_type": "stream",
     "text": [
      "http://release.geneontology.org/2014-12-01/ontology/go.obo\n",
      "new labels =  6\n",
      "new obsolete =  127\n",
      "all labels =  40338\n"
     ]
    },
    {
     "name": "stderr",
     "output_type": "stream",
     "text": [
      "INFO:root:Will decode content from http://release.geneontology.org/2014-11-01/ontology/go.obo using utf-8 charset.\n",
      "INFO:root:Calculating labels...\n",
      " 96%|█████████▌| 108/113 [13:16<00:36,  7.28s/it]INFO:root:Downloading and processing OBO file...\n"
     ]
    },
    {
     "name": "stdout",
     "output_type": "stream",
     "text": [
      "http://release.geneontology.org/2014-11-01/ontology/go.obo\n",
      "new labels =  1\n",
      "new obsolete =  159\n",
      "all labels =  40162\n"
     ]
    },
    {
     "name": "stderr",
     "output_type": "stream",
     "text": [
      "INFO:root:Will decode content from http://release.geneontology.org/2014-10-01/ontology/go.obo using utf-8 charset.\n",
      "INFO:root:Calculating labels...\n",
      " 96%|█████████▋| 109/113 [13:23<00:28,  7.13s/it]INFO:root:Downloading and processing OBO file...\n"
     ]
    },
    {
     "name": "stdout",
     "output_type": "stream",
     "text": [
      "http://release.geneontology.org/2014-10-01/ontology/go.obo\n",
      "new labels =  4\n",
      "new obsolete =  133\n",
      "all labels =  40021\n"
     ]
    },
    {
     "name": "stderr",
     "output_type": "stream",
     "text": [
      "INFO:root:Will decode content from http://release.geneontology.org/2014-09-01/ontology/go.obo using utf-8 charset.\n",
      "INFO:root:Calculating labels...\n",
      " 97%|█████████▋| 110/113 [13:30<00:20,  6.97s/it]INFO:root:Downloading and processing OBO file...\n"
     ]
    },
    {
     "name": "stdout",
     "output_type": "stream",
     "text": [
      "http://release.geneontology.org/2014-09-01/ontology/go.obo\n",
      "new labels =  1\n",
      "new obsolete =  155\n",
      "all labels =  39852\n"
     ]
    },
    {
     "name": "stderr",
     "output_type": "stream",
     "text": [
      "INFO:root:Will decode content from http://release.geneontology.org/2014-08-01/ontology/go.obo using utf-8 charset.\n",
      "INFO:root:Calculating labels...\n",
      " 98%|█████████▊| 111/113 [13:36<00:13,  6.87s/it]INFO:root:Downloading and processing OBO file...\n"
     ]
    },
    {
     "name": "stdout",
     "output_type": "stream",
     "text": [
      "http://release.geneontology.org/2014-08-01/ontology/go.obo\n",
      "new labels =  1\n",
      "new obsolete =  231\n",
      "all labels =  39601\n"
     ]
    },
    {
     "name": "stderr",
     "output_type": "stream",
     "text": [
      "INFO:root:Will decode content from http://release.geneontology.org/2014-07-01/ontology/go.obo using utf-8 charset.\n",
      "INFO:root:Calculating labels...\n",
      " 99%|█████████▉| 112/113 [13:47<00:08,  8.02s/it]INFO:root:Downloading and processing OBO file...\n"
     ]
    },
    {
     "name": "stdout",
     "output_type": "stream",
     "text": [
      "http://release.geneontology.org/2014-07-01/ontology/go.obo\n",
      "new labels =  3\n",
      "new obsolete =  156\n",
      "all labels =  39427\n"
     ]
    },
    {
     "name": "stderr",
     "output_type": "stream",
     "text": [
      "INFO:root:Will decode content from http://release.geneontology.org/2014-06-01/ontology/go.obo using utf-8 charset.\n",
      "INFO:root:Calculating labels...\n",
      "100%|██████████| 113/113 [13:53<00:00,  7.38s/it]"
     ]
    },
    {
     "name": "stdout",
     "output_type": "stream",
     "text": [
      "http://release.geneontology.org/2014-06-01/ontology/go.obo\n",
      "new labels =  0\n",
      "new obsolete =  91\n",
      "all labels =  39326\n"
     ]
    },
    {
     "name": "stderr",
     "output_type": "stream",
     "text": [
      "\n"
     ]
    }
   ],
   "source": [
    "\n",
    "with open('Gene Ontology Data Archive.html','r') as handle:\n",
    "    soup = BeautifulSoup(handle,'html.parser')\n",
    "\n",
    "#Get all dates from releases during the last 10 years\n",
    "dates=list(\n",
    "    filter(lambda date: pd.to_datetime(date,format='%Y-%m-%d')>=pd.to_datetime('2014-06-01'),\n",
    "        map(\n",
    "            lambda x: x.get_text()[:-1],\n",
    "            soup.findAll(lambda tag: tag.name =='a' and 'data-prefix' in tag.attrs)\n",
    "            )\n",
    "        )\n",
    "    )\n",
    "\n",
    "urls = [f'http://release.geneontology.org/{date}/ontology/go.obo' for date in dates]\n",
    "\n",
    "\n",
    "prev_used_labels,prev_obsolete_labels = set(),set()\n",
    "\n",
    "data = {'dates':[],'new_labels':[],'obsolete_labels':[],'used_labels':[]}\n",
    "\n",
    "for date,url in tqdm(zip(dates,urls),total=len(urls)):\n",
    "    used_labels,obsolete_labels = download_and_process_obo(url)\n",
    "    print(url)\n",
    "    data['dates'].append(date)\n",
    "\n",
    "    new_labels = len(used_labels-prev_used_labels)\n",
    "    obsolete_labels.update(prev_used_labels-used_labels) #augment obslete with other labels that simply don't show up\n",
    "    new_obsolete_labels = len((obsolete_labels-prev_obsolete_labels))\n",
    "\n",
    "    data['new_labels'].append(new_labels)\n",
    "    data['obsolete_labels'].append(new_obsolete_labels)\n",
    "    data['used_labels'].append(len(used_labels))\n",
    "\n",
    "\n",
    "    print('new labels = ',new_labels)\n",
    "    print('new obsolete = ',new_obsolete_labels)\n",
    "    print('all labels = ',len(used_labels))\n",
    "\n",
    "    prev_used_labels.update(used_labels)\n",
    "    prev_obsolete_labels.update(obsolete_labels)\n"
   ]
  },
  {
   "cell_type": "code",
   "execution_count": null,
   "metadata": {},
   "outputs": [],
   "source": []
  },
  {
   "cell_type": "code",
   "execution_count": 125,
   "metadata": {},
   "outputs": [],
   "source": [
    "df = pd.DataFrame(data).set_index('dates')\n",
    "df.index = pd.to_datetime(df.index)\n",
    "df.to_parquet('go_annotations_by_release.parquet')"
   ]
  },
  {
   "cell_type": "code",
   "execution_count": 3,
   "metadata": {},
   "outputs": [],
   "source": [
    "df = pd.read_parquet('go_annotations_by_release.parquet')"
   ]
  },
  {
   "cell_type": "code",
   "execution_count": 6,
   "metadata": {},
   "outputs": [
    {
     "data": {
      "image/png": "[encoded data removed]",
      "text/plain": [
       "<Figure size 1100x800 with 1 Axes>"
      ]
     },
     "metadata": {},
     "output_type": "display_data"
    }
   ],
   "source": [
    "plt.rcParams['font.size'] = 30\n",
    "plt.rcParams['font.weight'] = 'bold'\n",
    "plt.rcParams['axes.labelweight']='bold'\n",
    "\n",
    "df = df.iloc[1:]\n",
    "fig,ax = plt.subplots(figsize=(11,8))\n",
    "sns_data = df.groupby([pd.Grouper(level='dates',freq='Y')])[['new_labels','obsolete_labels']]\\\n",
    "    .sum()\\\n",
    "    .melt(ignore_index=False,\n",
    "          var_name='Type of GO Term',\n",
    "          value_name='# GO Terms')\\\n",
    "    .replace({'new_labels':'Added','obsolete_labels':'Removed'})\n",
    "\n",
    "palette = {'Added':'#80ff80','Removed':'#ff5555'}\n",
    "sns.lineplot(data = sns_data,\n",
    "             x = 'dates',\n",
    "             y = '# GO Terms',\n",
    "             hue='Type of GO Term',\n",
    "             marker='o',\n",
    "             palette=palette,\n",
    "             linewidth=3,\n",
    "             markersize=10)\n",
    "plt.xlabel('')\n",
    "plt.xticks(rotation=30)\n",
    "sns.despine()\n",
    "plt.show()\n"
   ]
  },
  {
   "cell_type": "code",
   "execution_count": 86,
   "metadata": {},
   "outputs": [
    {
     "data": {
      "text/plain": [
       "['2024-04-24',\n",
       " '2024-04-18',\n",
       " '2024-03-28',\n",
       " '2024-01-17',\n",
       " '2023-11-15',\n",
       " '2023-10-09',\n",
       " '2023-07-27',\n",
       " '2023-06-11',\n",
       " '2023-05-10',\n",
       " '2023-04-01',\n",
       " '2023-03-06',\n",
       " '2023-01-01',\n",
       " '2022-12-04',\n",
       " '2022-11-03',\n",
       " '2022-10-07',\n",
       " '2022-09-19',\n",
       " '2022-07-01',\n",
       " '2022-06-15',\n",
       " '2022-05-16',\n",
       " '2022-03-22',\n",
       " '2022-03-10',\n",
       " '2022-01-13',\n",
       " '2021-12-15',\n",
       " '2021-11-16',\n",
       " '2021-10-26',\n",
       " '2021-09-01',\n",
       " '2021-08-18',\n",
       " '2021-07-02',\n",
       " '2021-06-16',\n",
       " '2021-05-01',\n",
       " '2021-02-01',\n",
       " '2021-01-01',\n",
       " '2020-12-08',\n",
       " '2020-11-17',\n",
       " '2020-10-09',\n",
       " '2020-09-10',\n",
       " '2020-08-10',\n",
       " '2020-07-16',\n",
       " '2020-06-01',\n",
       " '2020-05-02',\n",
       " '2020-04-23',\n",
       " '2020-03-25',\n",
       " '2020-02-26',\n",
       " '2020-01-01',\n",
       " '2019-12-09',\n",
       " '2019-11-01',\n",
       " '2019-10-07',\n",
       " '2019-07-01',\n",
       " '2019-06-09',\n",
       " '2019-06-01',\n",
       " '2019-05-09',\n",
       " '2019-04-17',\n",
       " '2019-03-18',\n",
       " '2019-03-10',\n",
       " '2019-02-01',\n",
       " '2019-01-01',\n",
       " '2018-12-01',\n",
       " '2018-11-15',\n",
       " '2018-10-08',\n",
       " '2018-10-01',\n",
       " '2018-09-05',\n",
       " '2018-08-09',\n",
       " '2018-07-02',\n",
       " '2018-06-01',\n",
       " '2018-05-20',\n",
       " '2018-04-02',\n",
       " '2018-03-10',\n",
       " '2018-03-06',\n",
       " '2018-02-01',\n",
       " '2018-01-01',\n",
       " '2017-12-01',\n",
       " '2017-11-01',\n",
       " '2017-10-01',\n",
       " '2017-09-01',\n",
       " '2017-08-01',\n",
       " '2017-07-01',\n",
       " '2017-06-01',\n",
       " '2017-05-01',\n",
       " '2017-04-01',\n",
       " '2017-03-01',\n",
       " '2017-02-01',\n",
       " '2017-01-01',\n",
       " '2016-12-01',\n",
       " '2016-11-01',\n",
       " '2016-10-01',\n",
       " '2016-09-01',\n",
       " '2016-08-01',\n",
       " '2016-07-01',\n",
       " '2016-06-01',\n",
       " '2016-05-01',\n",
       " '2016-04-01',\n",
       " '2016-03-01',\n",
       " '2016-02-01',\n",
       " '2016-01-01',\n",
       " '2015-12-01',\n",
       " '2015-11-01',\n",
       " '2015-10-01',\n",
       " '2015-09-01',\n",
       " '2015-08-01',\n",
       " '2015-07-01',\n",
       " '2015-06-01',\n",
       " '2015-05-01',\n",
       " '2015-04-01',\n",
       " '2015-03-01',\n",
       " '2015-02-01',\n",
       " '2015-01-01',\n",
       " '2014-12-01',\n",
       " '2014-11-01',\n",
       " '2014-10-01',\n",
       " '2014-09-01',\n",
       " '2014-08-01',\n",
       " '2014-07-01',\n",
       " '2014-06-01',\n",
       " '2014-05-01',\n",
       " '2014-04-01',\n",
       " '2014-03-01',\n",
       " '2014-02-01',\n",
       " '2014-01-01',\n",
       " '2013-12-01',\n",
       " '2013-11-01',\n",
       " '2013-10-01',\n",
       " '2013-09-01',\n",
       " '2013-08-01',\n",
       " '2013-07-01',\n",
       " '2013-06-01',\n",
       " '2013-05-01',\n",
       " '2013-04-01',\n",
       " '2013-03-01',\n",
       " '2013-02-01',\n",
       " '2013-01-01',\n",
       " '2012-12-01',\n",
       " '2012-11-01',\n",
       " '2012-10-01',\n",
       " '2012-09-01',\n",
       " '2012-08-01',\n",
       " '2012-07-01',\n",
       " '2012-06-01',\n",
       " '2012-05-01',\n",
       " '2012-04-01',\n",
       " '2012-03-01',\n",
       " '2012-02-01',\n",
       " '2012-01-01',\n",
       " '2011-12-01',\n",
       " '2011-11-01',\n",
       " '2011-10-01',\n",
       " '2011-09-01',\n",
       " '2011-08-01',\n",
       " '2011-07-01',\n",
       " '2011-06-01',\n",
       " '2011-05-01',\n",
       " '2011-04-01',\n",
       " '2011-03-01',\n",
       " '2011-02-01',\n",
       " '2011-01-01',\n",
       " '2010-12-01',\n",
       " '2010-11-01',\n",
       " '2010-10-01',\n",
       " '2010-09-01',\n",
       " '2010-08-01',\n",
       " '2010-07-01',\n",
       " '2010-06-01',\n",
       " '2010-05-01',\n",
       " '2010-04-01',\n",
       " '2010-03-01',\n",
       " '2010-02-01',\n",
       " '2010-01-01',\n",
       " '2009-12-01',\n",
       " '2009-11-01',\n",
       " '2009-10-01',\n",
       " '2009-09-01',\n",
       " '2009-08-01',\n",
       " '2009-07-01',\n",
       " '2009-06-01',\n",
       " '2009-05-01',\n",
       " '2009-04-01',\n",
       " '2009-03-01',\n",
       " '2009-02-01',\n",
       " '2009-01-01',\n",
       " '2008-12-01',\n",
       " '2008-11-01',\n",
       " '2008-10-01',\n",
       " '2008-09-01',\n",
       " '2008-08-01',\n",
       " '2008-07-01',\n",
       " '2008-06-01',\n",
       " '2008-05-01',\n",
       " '2008-04-01',\n",
       " '2008-03-01',\n",
       " '2008-02-01',\n",
       " '2008-01-01',\n",
       " '2007-12-01',\n",
       " '2007-11-01',\n",
       " '2007-10-01',\n",
       " '2007-09-01',\n",
       " '2007-08-01',\n",
       " '2007-07-01',\n",
       " '2007-06-01',\n",
       " '2007-05-01',\n",
       " '2007-04-01',\n",
       " '2007-03-01',\n",
       " '2007-02-01',\n",
       " '2007-01-01',\n",
       " '2006-12-01',\n",
       " '2006-11-01',\n",
       " '2006-10-01',\n",
       " '2006-09-01',\n",
       " '2006-08-01',\n",
       " '2006-07-01',\n",
       " '2006-06-01',\n",
       " '2006-05-01',\n",
       " '2006-04-01',\n",
       " '2006-03-01',\n",
       " '2006-02-01',\n",
       " '2006-01-01',\n",
       " '2005-12-01',\n",
       " '2005-11-01',\n",
       " '2005-10-01',\n",
       " '2005-09-01',\n",
       " '2005-08-01',\n",
       " '2005-07-01',\n",
       " '2005-06-01',\n",
       " '2005-05-01',\n",
       " '2005-04-01',\n",
       " '2005-03-01',\n",
       " '2005-02-01',\n",
       " '2005-01-01',\n",
       " '2004-12-01',\n",
       " '2004-11-01',\n",
       " '2004-10-01',\n",
       " '2004-09-01',\n",
       " '2004-08-01',\n",
       " '2004-07-01',\n",
       " '2004-06-01',\n",
       " '2004-05-01',\n",
       " '2004-04-01',\n",
       " '2004-03-01']"
      ]
     },
     "execution_count": 86,
     "metadata": {},
     "output_type": "execute_result"
    }
   ],
   "source": [
    "a"
   ]
  },
  {
   "cell_type": "code",
   "execution_count": 48,
   "metadata": {},
   "outputs": [
    {
     "name": "stdout",
     "output_type": "stream",
     "text": [
      "\n",
      "\n",
      "\n",
      "\n",
      "<tr>\n",
      "<th>Folders and files</th>\n",
      "<th>Folder</th>\n",
      "<th>Last Modified</th>\n",
      "<th>Timestamp</th>\n",
      "<th style=\"width:200px\">Size</th>\n",
      "</tr>\n",
      "\n",
      "\n",
      "\n",
      "\n",
      "\n",
      "\n"
     ]
    }
   ],
   "source": [
    "for i in a[0].children:\n",
    "    for j in i:\n",
    "        print(j)"
   ]
  },
  {
   "cell_type": "code",
   "execution_count": 54,
   "metadata": {},
   "outputs": [
    {
     "data": {
      "text/plain": [
       "[]"
      ]
     },
     "execution_count": 54,
     "metadata": {},
     "output_type": "execute_result"
    }
   ],
   "source": [
    "soup.find_all('td',class_='sorting_2')"
   ]
  },
  {
   "cell_type": "code",
   "execution_count": 56,
   "metadata": {},
   "outputs": [
    {
     "data": {
      "text/plain": [
       "[]"
      ]
     },
     "execution_count": 56,
     "metadata": {},
     "output_type": "execute_result"
    }
   ],
   "source": [
    "td_tags = soup.find_all('td', class_='sorting_2')\n",
    "[td.find('a').get_text() for td in td_tags if td.find('a')]"
   ]
  }
 ],
 "metadata": {
  "kernelspec": {
   "display_name": "protein_functions_310",
   "language": "python",
   "name": "python3"
  },
  "language_info": {
   "codemirror_mode": {
    "name": "ipython",
    "version": 3
   },
   "file_extension": ".py",
   "mimetype": "text/x-python",
   "name": "python",
   "nbconvert_exporter": "python",
   "pygments_lexer": "ipython3",
   "version": "3.10.13"
  }
 },
 "nbformat": 4,
 "nbformat_minor": 2
}
