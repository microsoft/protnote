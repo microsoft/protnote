{
  "nbformat": 4,
  "nbformat_minor": 0,
  "metadata": {
    "colab": {
      "name": "Price comparison",
      "provenance": [],
      "collapsed_sections": []
    },
    "kernelspec": {
      "display_name": "Python 3",
      "name": "python3"
    },
    "accelerator": "GPU"
  },
  "cells": [
    {
      "cell_type": "code",
      "metadata": {
        "id": "E9iwE1jezcGB",
        "colab": {
          "base_uri": "https://localhost:8080/"
        },
        "outputId": "467889e8-37b0-405f-e9dc-7c8345fcdab8"
      },
      "source": [
        "!git clone https://github.com/google-research/proteinfer \n",
        "!pip install -q -r proteinfer/requirements.txt\n",
        "%cd proteinfer\n"
      ],
      "execution_count": 1,
      "outputs": [
        {
          "output_type": "stream",
          "name": "stdout",
          "text": [
            "Cloning into 'proteinfer'...\n",
            "remote: Enumerating objects: 612, done.\u001b[K\n",
            "remote: Counting objects: 100% (335/335), done.\u001b[K\n",
            "remote: Compressing objects: 100% (286/286), done.\u001b[K\n",
            "remote: Total 612 (delta 113), reused 160 (delta 31), pack-reused 277\u001b[K\n",
            "Receiving objects: 100% (612/612), 88.74 MiB | 26.54 MiB/s, done.\n",
            "Resolving deltas: 100% (252/252), done.\n",
            "\u001b[K     |████████████████████████████████| 99 kB 5.4 MB/s \n",
            "\u001b[K     |████████████████████████████████| 2.3 MB 37.1 MB/s \n",
            "\u001b[K     |████████████████████████████████| 10.8 MB 51.6 MB/s \n",
            "\u001b[K     |████████████████████████████████| 2.8 MB 50.4 MB/s \n",
            "\u001b[K     |████████████████████████████████| 50 kB 8.1 MB/s \n",
            "\u001b[K     |████████████████████████████████| 59 kB 7.0 MB/s \n",
            "\u001b[K     |████████████████████████████████| 89 kB 10.8 MB/s \n",
            "\u001b[K     |████████████████████████████████| 56 kB 6.0 MB/s \n",
            "\u001b[K     |████████████████████████████████| 17.3 MB 52 kB/s \n",
            "\u001b[K     |████████████████████████████████| 10.5 MB 25.5 MB/s \n",
            "\u001b[K     |████████████████████████████████| 107 kB 68.4 MB/s \n",
            "\u001b[K     |████████████████████████████████| 13.1 MB 209 kB/s \n",
            "\u001b[K     |████████████████████████████████| 4.4 MB 53.1 MB/s \n",
            "\u001b[K     |████████████████████████████████| 226 kB 74.6 MB/s \n",
            "\u001b[K     |████████████████████████████████| 6.8 MB 21.4 MB/s \n",
            "\u001b[K     |████████████████████████████████| 110.5 MB 1.2 MB/s \n",
            "\u001b[K     |████████████████████████████████| 411.0 MB 25 kB/s \n",
            "\u001b[K     |████████████████████████████████| 503 kB 67.1 MB/s \n",
            "\u001b[K     |████████████████████████████████| 103 kB 80.1 MB/s \n",
            "\u001b[K     |████████████████████████████████| 45 kB 4.9 MB/s \n",
            "\u001b[K     |████████████████████████████████| 328 kB 59.6 MB/s \n",
            "\u001b[K     |████████████████████████████████| 9.5 MB 17.7 MB/s \n",
            "\u001b[K     |████████████████████████████████| 63 kB 2.2 MB/s \n",
            "\u001b[K     |████████████████████████████████| 3.8 MB 55.4 MB/s \n",
            "\u001b[?25h  Building wheel for absl-py (setup.py) ... \u001b[?25l\u001b[?25hdone\n",
            "  Building wheel for gast (setup.py) ... \u001b[?25l\u001b[?25hdone\n",
            "\u001b[31mERROR: pip's dependency resolver does not currently take into account all the packages that are installed. This behaviour is the source of the following dependency conflicts.\n",
            "xarray 0.18.2 requires numpy>=1.17, but you have numpy 1.16.2 which is incompatible.\n",
            "tensorflow-probability 0.13.0 requires gast>=0.3.2, but you have gast 0.2.2 which is incompatible.\n",
            "tensorflow-metadata 1.2.0 requires absl-py<0.13,>=0.9, but you have absl-py 0.7.1 which is incompatible.\n",
            "spacy 2.2.4 requires tqdm<5.0.0,>=4.38.0, but you have tqdm 4.28.1 which is incompatible.\n",
            "pyerfa 2.0.0 requires numpy>=1.17, but you have numpy 1.16.2 which is incompatible.\n",
            "pyarrow 3.0.0 requires numpy>=1.16.6, but you have numpy 1.16.2 which is incompatible.\n",
            "panel 0.12.1 requires tqdm>=4.48.0, but you have tqdm 4.28.1 which is incompatible.\n",
            "kapre 0.3.5 requires numpy>=1.18.5, but you have numpy 1.16.2 which is incompatible.\n",
            "kapre 0.3.5 requires tensorflow>=2.0.0, but you have tensorflow 1.15.4 which is incompatible.\n",
            "jaxlib 0.1.70+cuda110 requires numpy>=1.18, but you have numpy 1.16.2 which is incompatible.\n",
            "jax 0.2.19 requires numpy>=1.18, but you have numpy 1.16.2 which is incompatible.\n",
            "google-colab 1.0.0 requires astor~=0.8.1, but you have astor 0.7.1 which is incompatible.\n",
            "google-colab 1.0.0 requires six~=1.15.0, but you have six 1.12.0 which is incompatible.\n",
            "google-api-python-client 1.12.8 requires six<2dev,>=1.13.0, but you have six 1.12.0 which is incompatible.\n",
            "google-api-core 1.26.3 requires six>=1.13.0, but you have six 1.12.0 which is incompatible.\n",
            "fbprophet 0.7.1 requires tqdm>=4.36.1, but you have tqdm 4.28.1 which is incompatible.\n",
            "datascience 0.10.6 requires folium==0.2.1, but you have folium 0.8.3 which is incompatible.\n",
            "cupy-cuda101 9.1.0 requires numpy>=1.17, but you have numpy 1.16.2 which is incompatible.\n",
            "astropy 4.3.1 requires numpy>=1.17, but you have numpy 1.16.2 which is incompatible.\n",
            "albumentations 0.1.12 requires imgaug<0.2.7,>=0.2.5, but you have imgaug 0.2.9 which is incompatible.\u001b[0m\n",
            "/content/proteinfer\n"
          ]
        }
      ]
    },
    {
      "cell_type": "code",
      "metadata": {
        "id": "mw86VQUi-omr",
        "colab": {
          "base_uri": "https://localhost:8080/"
        },
        "outputId": "317a149b-b27b-49ee-cdbc-082128be0352"
      },
      "source": [
        "!cd proteinfer\n",
        "!ls"
      ],
      "execution_count": 2,
      "outputs": [
        {
          "output_type": "stream",
          "name": "stdout",
          "text": [
            "/bin/bash: line 0: cd: proteinfer: No such file or directory\n",
            "baseline_utils.py\t  install_models.py\t   protein_model_test.py\n",
            "baseline_utils_test.py\t  LICENSE\t\t   README.md\n",
            "colab_evaluation.py\t  misc\t\t\t   requirements.txt\n",
            "colab_evaluation_test.py  parenthood_bin.py\t   testdata\n",
            "colabs\t\t\t  parenthood_lib.py\t   test_util.py\n",
            "CONTRIBUTING.md\t\t  parenthood_lib_test.py   test_util_test.py\n",
            "evaluation.py\t\t  protein_dataset.py\t   train.py\n",
            "evaluation_test.py\t  protein_dataset_test.py  train_test.py\n",
            "hparams_sets.py\t\t  proteinfer.py\t\t   utils.py\n",
            "inference.py\t\t  proteinfer_test.py\t   utils_test.py\n",
            "inference_test.py\t  protein_model.py\n"
          ]
        }
      ]
    },
    {
      "cell_type": "code",
      "metadata": {
        "id": "Zu10hrem8ltZ"
      },
      "source": [
        "import inference\n",
        "import pandas as pd\n",
        "import evaluation\n",
        "import parenthood_lib\n",
        "\n",
        "import re"
      ],
      "execution_count": 3,
      "outputs": []
    },
    {
      "cell_type": "markdown",
      "metadata": {
        "id": "lA8bjb_T8ffX"
      },
      "source": [
        "# Parse Price's ground truth labels"
      ]
    },
    {
      "cell_type": "code",
      "metadata": {
        "id": "WJ_sUsOL0UIi",
        "colab": {
          "base_uri": "https://localhost:8080/"
        },
        "outputId": "c4425fc8-db33-489c-dce2-4df8be41182b"
      },
      "source": [
        "!wget https://storage.googleapis.com/brain-genomics-public/research/proteins/proteinfer/colab_support/price_enzymes.tsv"
      ],
      "execution_count": 4,
      "outputs": [
        {
          "output_type": "stream",
          "name": "stdout",
          "text": [
            "--2021-09-13 02:01:43--  https://storage.googleapis.com/brain-genomics-public/research/proteins/proteinfer/colab_support/price_enzymes.tsv\n",
            "Resolving storage.googleapis.com (storage.googleapis.com)... 142.250.141.128, 142.251.2.128, 2607:f8b0:4023:c0d::80, ...\n",
            "Connecting to storage.googleapis.com (storage.googleapis.com)|142.250.141.128|:443... connected.\n",
            "HTTP request sent, awaiting response... 200 OK\n",
            "Length: 400317 (391K) [application/octet-stream]\n",
            "Saving to: ‘price_enzymes.tsv’\n",
            "\n",
            "\rprice_enzymes.tsv     0%[                    ]       0  --.-KB/s               \rprice_enzymes.tsv   100%[===================>] 390.93K  --.-KB/s    in 0.004s  \n",
            "\n",
            "2021-09-13 02:01:43 (93.7 MB/s) - ‘price_enzymes.tsv’ saved [400317/400317]\n",
            "\n"
          ]
        }
      ]
    },
    {
      "cell_type": "code",
      "metadata": {
        "id": "JuN0SmQfosHJ"
      },
      "source": [
        "with open('price_enzymes.tsv') as f:\n",
        "  price_enzymes = pd.read_csv(f, sep='\\t')"
      ],
      "execution_count": 5,
      "outputs": []
    },
    {
      "cell_type": "code",
      "metadata": {
        "id": "bSpUUPHF50-z"
      },
      "source": [
        "price_enzymes_w_annotation = price_enzymes[price_enzymes.new_annotation.apply(lambda x: x.count('EC ') == 1)].copy()"
      ],
      "execution_count": 6,
      "outputs": []
    },
    {
      "cell_type": "markdown",
      "metadata": {
        "id": "a9SwAfKu8sMi"
      },
      "source": [
        "# Predict for these sequences"
      ]
    },
    {
      "cell_type": "code",
      "metadata": {
        "id": "407DGW2d0p5j",
        "colab": {
          "base_uri": "https://localhost:8080/"
        },
        "outputId": "790d05d6-3a64-4647-890c-5182bc1ab272"
      },
      "source": [
        "!wget https://storage.googleapis.com/brain-genomics-public/research/proteins/proteinfer/models/zipped_models/noxpnd_cnn_swissprot_ec_random_swiss-cnn_for_swissprot_ec_random-13685140.tar.gz"
      ],
      "execution_count": 7,
      "outputs": [
        {
          "output_type": "stream",
          "name": "stdout",
          "text": [
            "--2021-09-13 02:01:43--  https://storage.googleapis.com/brain-genomics-public/research/proteins/proteinfer/models/zipped_models/noxpnd_cnn_swissprot_ec_random_swiss-cnn_for_swissprot_ec_random-13685140.tar.gz\n",
            "Resolving storage.googleapis.com (storage.googleapis.com)... 142.250.141.128, 142.251.2.128, 2607:f8b0:4023:c0b::80, ...\n",
            "Connecting to storage.googleapis.com (storage.googleapis.com)|142.250.141.128|:443... connected.\n",
            "HTTP request sent, awaiting response... 200 OK\n",
            "Length: 134391480 (128M) [application/octet-stream]\n",
            "Saving to: ‘noxpnd_cnn_swissprot_ec_random_swiss-cnn_for_swissprot_ec_random-13685140.tar.gz’\n",
            "\n",
            "noxpnd_cnn_swisspro 100%[===================>] 128.17M   111MB/s    in 1.2s    \n",
            "\n",
            "2021-09-13 02:01:45 (111 MB/s) - ‘noxpnd_cnn_swissprot_ec_random_swiss-cnn_for_swissprot_ec_random-13685140.tar.gz’ saved [134391480/134391480]\n",
            "\n"
          ]
        }
      ]
    },
    {
      "cell_type": "code",
      "metadata": {
        "id": "mc8RU2T_006q"
      },
      "source": [
        "!tar xzf noxpnd_cnn_swissprot_ec_random_swiss-cnn_for_swissprot_ec_random-13685140.tar.gz"
      ],
      "execution_count": 8,
      "outputs": []
    },
    {
      "cell_type": "code",
      "metadata": {
        "id": "vPAMz95A10l4",
        "outputId": "4c4dad89-4897-4307-c090-d26228b64232",
        "colab": {
          "base_uri": "https://localhost:8080/"
        }
      },
      "source": [
        "inferrer = inference.Inferrer('noxpnd_cnn_swissprot_ec_random_swiss-cnn_for_swissprot_ec_random-13685140', use_tqdm=True)"
      ],
      "execution_count": 9,
      "outputs": [
        {
          "output_type": "stream",
          "name": "stderr",
          "text": [
            "WARNING: Logging before flag parsing goes to stderr.\n",
            "W0913 02:01:47.257570 140413780555648 deprecation.py:323] From /usr/local/lib/python3.7/dist-packages/tensorflow_core/python/ops/ragged/ragged_tensor.py:1586: where (from tensorflow.python.ops.array_ops) is deprecated and will be removed in a future version.\n",
            "Instructions for updating:\n",
            "Use tf.where in 2.0, which has the same broadcast rule as np.where\n"
          ]
        }
      ]
    },
    {
      "cell_type": "code",
      "metadata": {
        "id": "kiXZNz-N24c8",
        "colab": {
          "base_uri": "https://localhost:8080/"
        },
        "outputId": "2c3a52d3-3834-4cfd-aa69-e048e3f3e637"
      },
      "source": [
        "predictions = inferrer.get_activations(list(price_enzymes_w_annotation.protein_sequence))"
      ],
      "execution_count": 10,
      "outputs": [
        {
          "output_type": "stream",
          "name": "stderr",
          "text": [
            "Annotating batches of sequences: 100%|██████████| 3/3 [01:08<00:00, 26.95s/it]\n"
          ]
        }
      ]
    },
    {
      "cell_type": "code",
      "metadata": {
        "id": "yjoH2ojYUnzr"
      },
      "source": [
        "# Turn prediction array into actual labels by using the vocab.\n",
        "cnn_label_vocab = inferrer.get_variable('label_vocab:0').astype(str)\n",
        "price_enzymes_w_annotation['predicted_label'] = evaluation.filter_predictions_to_above_threshold(predictions, 0.148222, cnn_label_vocab) # Threshold is that which maximizes f1 score."
      ],
      "execution_count": 11,
      "outputs": []
    },
    {
      "cell_type": "code",
      "metadata": {
        "id": "ZxySu4lY3RKv",
        "outputId": "0e77ecc4-628d-4f63-be13-88e534f297d3",
        "colab": {
          "base_uri": "https://localhost:8080/"
        }
      },
      "source": [
        "!wget https://storage.googleapis.com/brain-genomics-public/research/proteins/proteinfer/colab_support/parenthood.json.gz"
      ],
      "execution_count": 12,
      "outputs": [
        {
          "output_type": "stream",
          "name": "stdout",
          "text": [
            "--2021-09-13 02:02:56--  https://storage.googleapis.com/brain-genomics-public/research/proteins/proteinfer/colab_support/parenthood.json.gz\n",
            "Resolving storage.googleapis.com (storage.googleapis.com)... 142.250.141.128, 142.251.2.128, 74.125.137.128, ...\n",
            "Connecting to storage.googleapis.com (storage.googleapis.com)|142.250.141.128|:443... connected.\n",
            "HTTP request sent, awaiting response... 200 OK\n",
            "Length: 992539 (969K) [application/octet-stream]\n",
            "Saving to: ‘parenthood.json.gz’\n",
            "\n",
            "parenthood.json.gz  100%[===================>] 969.28K  --.-KB/s    in 0.007s  \n",
            "\n",
            "2021-09-13 02:02:57 (138 MB/s) - ‘parenthood.json.gz’ saved [992539/992539]\n",
            "\n"
          ]
        }
      ]
    },
    {
      "cell_type": "code",
      "metadata": {
        "id": "1HLvySfK2rFm"
      },
      "source": [
        "# Find the most specific label(s) given to each protein.\n",
        "label_normalizer = parenthood_lib.get_applicable_label_dict('parenthood.json.gz')\n",
        "price_enzymes_w_annotation = parenthood_lib.filter_labels_to_most_specific(price_enzymes_w_annotation, label_normalizer)"
      ],
      "execution_count": 13,
      "outputs": []
    },
    {
      "cell_type": "code",
      "metadata": {
        "id": "lLJaHyQs-8uF"
      },
      "source": [
        "to_examine = price_enzymes_w_annotation.copy()\n",
        "\n",
        "# Drop labels where we have > 1 prediction for ease of comparison.\n",
        "to_examine = to_examine[(to_examine.predicted_label.apply(len) == 1)].copy()\n",
        "\n",
        "# Format predicted and true label identically.\n",
        "to_examine['true_label'] = to_examine.new_annotation.apply(lambda x: re.findall(r'\\(EC (.{1,3}\\..{1,3}\\..{1,3}\\..{1,3})\\)', x)[0])\n",
        "to_examine['predicted_label'] = to_examine.predicted_label.apply(lambda x: list(x)[0].replace('EC:', ''))"
      ],
      "execution_count": 14,
      "outputs": []
    },
    {
      "cell_type": "markdown",
      "metadata": {
        "id": "zGkb5EcX9K7H"
      },
      "source": [
        "# Compute agreement and plot"
      ]
    },
    {
      "cell_type": "code",
      "metadata": {
        "id": "Vy_TURPTRjNS"
      },
      "source": [
        "performance_by_level = pd.DataFrame([\n",
        "    evaluation.ec_agreement_for_level(to_examine, 1),\n",
        "    evaluation.ec_agreement_for_level(to_examine, 2),\n",
        "    evaluation.ec_agreement_for_level(to_examine, 3),\n",
        "    evaluation.ec_agreement_for_level(to_examine, 4)\n",
        "], columns=['Correct', 'Incorrect', 'Not called'], index=range(1, 5))[['Correct','Not called',\"Incorrect\"]]"
      ],
      "execution_count": 15,
      "outputs": []
    },
    {
      "cell_type": "code",
      "metadata": {
        "id": "7KM1HDf26S76",
        "outputId": "26ca4ecc-70c4-424b-f3e0-8282b91d87f7",
        "colab": {
          "base_uri": "https://localhost:8080/"
        }
      },
      "source": [
        "print(performance_by_level)"
      ],
      "execution_count": 16,
      "outputs": [
        {
          "output_type": "stream",
          "name": "stdout",
          "text": [
            "   Correct  Not called  Incorrect\n",
            "1      103           0         12\n",
            "2       91          14         10\n",
            "3       75          28         12\n",
            "4       13          79         18\n"
          ]
        }
      ]
    },
    {
      "cell_type": "code",
      "metadata": {
        "id": "bk9F-kntOH1K",
        "outputId": "712f33da-d724-445b-b096-a69d66235db1",
        "colab": {
          "base_uri": "https://localhost:8080/"
        }
      },
      "source": [
        "array = performance_by_level.to_numpy()\n",
        "\n",
        "array/array.sum(axis=1,keepdims=True)"
      ],
      "execution_count": 17,
      "outputs": [
        {
          "output_type": "execute_result",
          "data": {
            "text/plain": [
              "array([[0.89565217, 0.        , 0.10434783],\n",
              "       [0.79130435, 0.12173913, 0.08695652],\n",
              "       [0.65217391, 0.24347826, 0.10434783],\n",
              "       [0.11818182, 0.71818182, 0.16363636]])"
            ]
          },
          "metadata": {},
          "execution_count": 17
        }
      ]
    },
    {
      "cell_type": "code",
      "metadata": {
        "id": "UIc9Xd2BpT1U"
      },
      "source": [
        "performance_by_level['position']=performance_by_level.index\n",
        "melted=pd.melt(performance_by_level,'position')"
      ],
      "execution_count": 18,
      "outputs": []
    },
    {
      "cell_type": "code",
      "metadata": {
        "id": "VYFnYOHQNXlh"
      },
      "source": [
        "from plotnine import *\n",
        "import matplotlib as mpl\n",
        "mpl.rcParams['figure.dpi']= 800"
      ],
      "execution_count": 19,
      "outputs": []
    },
    {
      "cell_type": "code",
      "metadata": {
        "id": "grsYMd29NJYJ",
        "outputId": "b82569c3-4d69-4790-d166-27789a16eafa",
        "colab": {
          "base_uri": "https://localhost:8080/",
          "height": 464
        }
      },
      "source": [
        "\n",
        "melted['variable'] = melted['variable'].astype('category').cat.reorder_categories([\"Incorrect\",\"Not called\",\"Correct\"], ordered=True )\n",
        "\n",
        "(ggplot(melted,aes(x=\"position\",fill=\"variable\",y=\"value\"))+\n",
        "geom_col(color=\"black\", position=\"fill\")+\n",
        "scale_fill_manual([\"red\",\"lightgray\",\"green\"])+ theme_classic()\n",
        ")\n"
      ],
      "execution_count": 20,
      "outputs": [
        {
          "output_type": "display_data",
          "data": {
            "image/png": "[encoded data removed]",
            "text/plain": [
              "<Figure size 640x480 with 1 Axes>"
            ]
          },
          "metadata": {}
        },
        {
          "output_type": "execute_result",
          "data": {
            "text/plain": [
              "<ggplot: (8775745656397)>"
            ]
          },
          "metadata": {},
          "execution_count": 20
        }
      ]
    },
    {
      "cell_type": "code",
      "metadata": {
        "id": "hilfWfbiNTDA"
      },
      "source": [
        ""
      ],
      "execution_count": 20,
      "outputs": []
    }
  ]
}